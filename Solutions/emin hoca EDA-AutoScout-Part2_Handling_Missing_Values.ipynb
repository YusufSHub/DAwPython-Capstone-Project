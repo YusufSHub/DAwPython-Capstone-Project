{
 "cells": [
  {
   "cell_type": "code",
   "execution_count": 1,
   "id": "1c62baae",
   "metadata": {},
   "outputs": [],
   "source": [
    "import numpy as np\n",
    "import pandas as pd\n",
    "import matplotlib.pyplot as plt\n",
    "import seaborn as sns\n",
    "from scipy import stats\n",
    "import warnings\n",
    "warnings.filterwarnings(\"ignore\")"
   ]
  },
  {
   "cell_type": "markdown",
   "id": "cf282937",
   "metadata": {},
   "source": [
    "## First Look"
   ]
  },
  {
   "cell_type": "code",
   "execution_count": 2,
   "id": "4bee48b2",
   "metadata": {},
   "outputs": [
    {
     "data": {
      "text/html": [
       "<div>\n",
       "<style scoped>\n",
       "    .dataframe tbody tr th:only-of-type {\n",
       "        vertical-align: middle;\n",
       "    }\n",
       "\n",
       "    .dataframe tbody tr th {\n",
       "        vertical-align: top;\n",
       "    }\n",
       "\n",
       "    .dataframe thead th {\n",
       "        text-align: right;\n",
       "    }\n",
       "</style>\n",
       "<table border=\"1\" class=\"dataframe\">\n",
       "  <thead>\n",
       "    <tr style=\"text-align: right;\">\n",
       "      <th></th>\n",
       "      <th>142</th>\n",
       "      <th>4753</th>\n",
       "      <th>6003</th>\n",
       "    </tr>\n",
       "  </thead>\n",
       "  <tbody>\n",
       "    <tr>\n",
       "      <th>make_model</th>\n",
       "      <td>Audi A1</td>\n",
       "      <td>Audi A3</td>\n",
       "      <td>Opel Astra</td>\n",
       "    </tr>\n",
       "    <tr>\n",
       "      <th>body_type</th>\n",
       "      <td>Sedans</td>\n",
       "      <td>Compact</td>\n",
       "      <td>Station wagon</td>\n",
       "    </tr>\n",
       "    <tr>\n",
       "      <th>price</th>\n",
       "      <td>18200</td>\n",
       "      <td>21500</td>\n",
       "      <td>11850</td>\n",
       "    </tr>\n",
       "    <tr>\n",
       "      <th>vat</th>\n",
       "      <td>Discount</td>\n",
       "      <td>Discount</td>\n",
       "      <td>Discount</td>\n",
       "    </tr>\n",
       "    <tr>\n",
       "      <th>km</th>\n",
       "      <td>16500</td>\n",
       "      <td>4103</td>\n",
       "      <td>97000</td>\n",
       "    </tr>\n",
       "    <tr>\n",
       "      <th>prev_owner</th>\n",
       "      <td>1.0</td>\n",
       "      <td>NaN</td>\n",
       "      <td>NaN</td>\n",
       "    </tr>\n",
       "    <tr>\n",
       "      <th>hp</th>\n",
       "      <td>113.986878</td>\n",
       "      <td>113.986878</td>\n",
       "      <td>134.102209</td>\n",
       "    </tr>\n",
       "    <tr>\n",
       "      <th>Type</th>\n",
       "      <td>Used</td>\n",
       "      <td>Used</td>\n",
       "      <td>Used</td>\n",
       "    </tr>\n",
       "    <tr>\n",
       "      <th>Warranty_months</th>\n",
       "      <td>12.0</td>\n",
       "      <td>24.0</td>\n",
       "      <td>12.0</td>\n",
       "    </tr>\n",
       "    <tr>\n",
       "      <th>Body Color</th>\n",
       "      <td>Colored</td>\n",
       "      <td>Colored</td>\n",
       "      <td>Colored</td>\n",
       "    </tr>\n",
       "    <tr>\n",
       "      <th>Upholstery</th>\n",
       "      <td>Cloth</td>\n",
       "      <td>Leather</td>\n",
       "      <td>NaN</td>\n",
       "    </tr>\n",
       "    <tr>\n",
       "      <th>Nr. of Doors</th>\n",
       "      <td>5.0</td>\n",
       "      <td>5.0</td>\n",
       "      <td>5.0</td>\n",
       "    </tr>\n",
       "    <tr>\n",
       "      <th>Nr. of Seats</th>\n",
       "      <td>5.0</td>\n",
       "      <td>5.0</td>\n",
       "      <td>5.0</td>\n",
       "    </tr>\n",
       "    <tr>\n",
       "      <th>Gearing Type</th>\n",
       "      <td>Automatic</td>\n",
       "      <td>Manual</td>\n",
       "      <td>Automatic</td>\n",
       "    </tr>\n",
       "    <tr>\n",
       "      <th>Displacement_cc</th>\n",
       "      <td>NaN</td>\n",
       "      <td>1598.0</td>\n",
       "      <td>1598.0</td>\n",
       "    </tr>\n",
       "    <tr>\n",
       "      <th>Weight_kg</th>\n",
       "      <td>NaN</td>\n",
       "      <td>1260.0</td>\n",
       "      <td>1985.0</td>\n",
       "    </tr>\n",
       "    <tr>\n",
       "      <th>Fuel</th>\n",
       "      <td>Diesel</td>\n",
       "      <td>Diesel</td>\n",
       "      <td>Diesel</td>\n",
       "    </tr>\n",
       "    <tr>\n",
       "      <th>Consumption_comb</th>\n",
       "      <td>NaN</td>\n",
       "      <td>4.1</td>\n",
       "      <td>3.9</td>\n",
       "    </tr>\n",
       "    <tr>\n",
       "      <th>Gears</th>\n",
       "      <td>6.0</td>\n",
       "      <td>6.0</td>\n",
       "      <td>6.0</td>\n",
       "    </tr>\n",
       "    <tr>\n",
       "      <th>Age</th>\n",
       "      <td>1.0</td>\n",
       "      <td>1.0</td>\n",
       "      <td>2.0</td>\n",
       "    </tr>\n",
       "    <tr>\n",
       "      <th>Comfort &amp; Convenience</th>\n",
       "      <td>Air conditioning|Air suspension|Armrest|Automa...</td>\n",
       "      <td>Air conditioning|Armrest|Automatic climate con...</td>\n",
       "      <td>Air conditioning|Cruise control|Multi-function...</td>\n",
       "    </tr>\n",
       "    <tr>\n",
       "      <th>Entertainment &amp; Media</th>\n",
       "      <td>Bluetooth|CD player|Digital radio|Hands-free e...</td>\n",
       "      <td>Bluetooth|On-board computer|Radio|USB</td>\n",
       "      <td>On-board computer|Radio</td>\n",
       "    </tr>\n",
       "    <tr>\n",
       "      <th>Extras</th>\n",
       "      <td>Alloy wheels|Catalytic Converter|Shift paddles...</td>\n",
       "      <td>Alloy wheels|Sport suspension|Voice Control</td>\n",
       "      <td>Roof rack</td>\n",
       "    </tr>\n",
       "    <tr>\n",
       "      <th>Safety &amp; Security</th>\n",
       "      <td>ABS|Adaptive Cruise Control|Adaptive headlight...</td>\n",
       "      <td>ABS|Driver-side airbag|Electronic stability co...</td>\n",
       "      <td>ABS|Central door lock|Daytime running lights|D...</td>\n",
       "    </tr>\n",
       "  </tbody>\n",
       "</table>\n",
       "</div>"
      ],
      "text/plain": [
       "                                                                    142   \\\n",
       "make_model                                                       Audi A1   \n",
       "body_type                                                         Sedans   \n",
       "price                                                              18200   \n",
       "vat                                                             Discount   \n",
       "km                                                                 16500   \n",
       "prev_owner                                                           1.0   \n",
       "hp                                                            113.986878   \n",
       "Type                                                                Used   \n",
       "Warranty_months                                                     12.0   \n",
       "Body Color                                                       Colored   \n",
       "Upholstery                                                         Cloth   \n",
       "Nr. of Doors                                                         5.0   \n",
       "Nr. of Seats                                                         5.0   \n",
       "Gearing Type                                                   Automatic   \n",
       "Displacement_cc                                                      NaN   \n",
       "Weight_kg                                                            NaN   \n",
       "Fuel                                                              Diesel   \n",
       "Consumption_comb                                                     NaN   \n",
       "Gears                                                                6.0   \n",
       "Age                                                                  1.0   \n",
       "Comfort & Convenience  Air conditioning|Air suspension|Armrest|Automa...   \n",
       "Entertainment & Media  Bluetooth|CD player|Digital radio|Hands-free e...   \n",
       "Extras                 Alloy wheels|Catalytic Converter|Shift paddles...   \n",
       "Safety & Security      ABS|Adaptive Cruise Control|Adaptive headlight...   \n",
       "\n",
       "                                                                    4753  \\\n",
       "make_model                                                       Audi A3   \n",
       "body_type                                                        Compact   \n",
       "price                                                              21500   \n",
       "vat                                                             Discount   \n",
       "km                                                                  4103   \n",
       "prev_owner                                                           NaN   \n",
       "hp                                                            113.986878   \n",
       "Type                                                                Used   \n",
       "Warranty_months                                                     24.0   \n",
       "Body Color                                                       Colored   \n",
       "Upholstery                                                       Leather   \n",
       "Nr. of Doors                                                         5.0   \n",
       "Nr. of Seats                                                         5.0   \n",
       "Gearing Type                                                      Manual   \n",
       "Displacement_cc                                                   1598.0   \n",
       "Weight_kg                                                         1260.0   \n",
       "Fuel                                                              Diesel   \n",
       "Consumption_comb                                                     4.1   \n",
       "Gears                                                                6.0   \n",
       "Age                                                                  1.0   \n",
       "Comfort & Convenience  Air conditioning|Armrest|Automatic climate con...   \n",
       "Entertainment & Media              Bluetooth|On-board computer|Radio|USB   \n",
       "Extras                       Alloy wheels|Sport suspension|Voice Control   \n",
       "Safety & Security      ABS|Driver-side airbag|Electronic stability co...   \n",
       "\n",
       "                                                                    6003  \n",
       "make_model                                                    Opel Astra  \n",
       "body_type                                                  Station wagon  \n",
       "price                                                              11850  \n",
       "vat                                                             Discount  \n",
       "km                                                                 97000  \n",
       "prev_owner                                                           NaN  \n",
       "hp                                                            134.102209  \n",
       "Type                                                                Used  \n",
       "Warranty_months                                                     12.0  \n",
       "Body Color                                                       Colored  \n",
       "Upholstery                                                           NaN  \n",
       "Nr. of Doors                                                         5.0  \n",
       "Nr. of Seats                                                         5.0  \n",
       "Gearing Type                                                   Automatic  \n",
       "Displacement_cc                                                   1598.0  \n",
       "Weight_kg                                                         1985.0  \n",
       "Fuel                                                              Diesel  \n",
       "Consumption_comb                                                     3.9  \n",
       "Gears                                                                6.0  \n",
       "Age                                                                  2.0  \n",
       "Comfort & Convenience  Air conditioning|Cruise control|Multi-function...  \n",
       "Entertainment & Media                            On-board computer|Radio  \n",
       "Extras                                                         Roof rack  \n",
       "Safety & Security      ABS|Central door lock|Daytime running lights|D...  "
      ]
     },
     "execution_count": 2,
     "metadata": {},
     "output_type": "execute_result"
    }
   ],
   "source": [
    "df0 = pd.read_csv(\"scout_car_clean.csv\")\n",
    "df = df0.copy()\n",
    "df.sample(3).T"
   ]
  },
  {
   "cell_type": "code",
   "execution_count": 3,
   "id": "df11a1cc",
   "metadata": {},
   "outputs": [
    {
     "name": "stdout",
     "output_type": "stream",
     "text": [
      "<class 'pandas.core.frame.DataFrame'>\n",
      "RangeIndex: 15918 entries, 0 to 15917\n",
      "Data columns (total 24 columns):\n",
      " #   Column                 Non-Null Count  Dtype  \n",
      "---  ------                 --------------  -----  \n",
      " 0   make_model             15918 non-null  object \n",
      " 1   body_type              15858 non-null  object \n",
      " 2   price                  15918 non-null  int64  \n",
      " 3   vat                    11405 non-null  object \n",
      " 4   km                     15918 non-null  int64  \n",
      " 5   prev_owner             9090 non-null   float64\n",
      " 6   hp                     15830 non-null  float64\n",
      " 7   Type                   15916 non-null  object \n",
      " 8   Warranty_months        4853 non-null   float64\n",
      " 9   Body Color             15321 non-null  object \n",
      " 10  Upholstery             12198 non-null  object \n",
      " 11  Nr. of Doors           15706 non-null  float64\n",
      " 12  Nr. of Seats           14941 non-null  float64\n",
      " 13  Gearing Type           15918 non-null  object \n",
      " 14  Displacement_cc        15422 non-null  float64\n",
      " 15  Weight_kg              8945 non-null   float64\n",
      " 16  Fuel                   15918 non-null  object \n",
      " 17  Consumption_comb       13143 non-null  float64\n",
      " 18  Gears                  11207 non-null  float64\n",
      " 19  Age                    15918 non-null  float64\n",
      " 20  Comfort & Convenience  14998 non-null  object \n",
      " 21  Entertainment & Media  14544 non-null  object \n",
      " 22  Extras                 12956 non-null  object \n",
      " 23  Safety & Security      14936 non-null  object \n",
      "dtypes: float64(10), int64(2), object(12)\n",
      "memory usage: 2.9+ MB\n"
     ]
    }
   ],
   "source": [
    "df.info()"
   ]
  },
  {
   "cell_type": "code",
   "execution_count": 4,
   "id": "e027be74",
   "metadata": {
    "scrolled": false
   },
   "outputs": [
    {
     "data": {
      "text/plain": [
       "make_model                0.000000\n",
       "body_type                 0.376932\n",
       "price                     0.000000\n",
       "vat                      28.351552\n",
       "km                        0.000000\n",
       "prev_owner               42.894836\n",
       "hp                        0.552833\n",
       "Type                      0.012564\n",
       "Warranty_months          69.512502\n",
       "Body Color                3.750471\n",
       "Upholstery               23.369770\n",
       "Nr. of Doors              1.331826\n",
       "Nr. of Seats              6.137706\n",
       "Gearing Type              0.000000\n",
       "Displacement_cc           3.115969\n",
       "Weight_kg                43.805754\n",
       "Fuel                      0.000000\n",
       "Consumption_comb         17.433095\n",
       "Gears                    29.595427\n",
       "Age                       0.000000\n",
       "Comfort & Convenience     5.779621\n",
       "Entertainment & Media     8.631738\n",
       "Extras                   18.607865\n",
       "Safety & Security         6.169117\n",
       "dtype: float64"
      ]
     },
     "execution_count": 4,
     "metadata": {},
     "output_type": "execute_result"
    }
   ],
   "source": [
    "df.isna().sum() / df.shape[0]*100"
   ]
  },
  {
   "cell_type": "markdown",
   "id": "f04db1e5",
   "metadata": {},
   "source": [
    "## Functions"
   ]
  },
  {
   "cell_type": "code",
   "execution_count": 5,
   "id": "9c6c1483",
   "metadata": {},
   "outputs": [],
   "source": [
    "def infos(df, x):\n",
    "    print(\"Column name  :  \"+x)\n",
    "    print(\"-----------------------------\")\n",
    "    print(\"Number of nulls  :  \"+str(df[x].isna().sum()))\n",
    "    print(\"% of nulls       :  \"+str(round(df[x].isna().sum()/df.shape[0]*100,2))+\"%\")\n",
    "    print(\"Number of uniques:  \"+str(df[x].nunique()))\n",
    "    print(\"-----------------------------\\nValue Counts\\n\")\n",
    "    print(df[x].value_counts(dropna=False))"
   ]
  },
  {
   "cell_type": "code",
   "execution_count": 6,
   "id": "cc8c8799",
   "metadata": {},
   "outputs": [],
   "source": [
    "def fill_mode(df, g, c):\n",
    "    df[c] = df[c].fillna(df.groupby(g)[c].transform(lambda x: x.mode()[0]))\n",
    "    print(\"Number of NaN :\",df[c].isna().sum())\n",
    "    print(\"---------------------\")\n",
    "    print(df[c].value_counts(dropna=False))\n"
   ]
  },
  {
   "cell_type": "code",
   "execution_count": 7,
   "id": "a3f71c0c",
   "metadata": {},
   "outputs": [],
   "source": [
    "def fill_mode2(df, col1, col2, x):\n",
    "    for g1 in list(df[col1].unique()):\n",
    "        for g2 in list(df[col2].unique()):\n",
    "            cond1 = df[col1] == g1\n",
    "            cond2 = df[col2] == g2\n",
    "            try:\n",
    "                df.loc[cond1&cond2, x] = df.loc[cond1&cond2, x].fillna(df[cond1&cond2][x].mode()[0])\n",
    "            except:\n",
    "                df.loc[cond1, x] = df.loc[cond1, x].fillna(df[cond1][x].mode()[0])\n",
    "    \n",
    "    print(\"Number of NaN : \",df[x].isna().sum())\n",
    "    print(\"------------------\")\n",
    "    print(df[x].value_counts(dropna=False))"
   ]
  },
  {
   "cell_type": "code",
   "execution_count": 8,
   "id": "441ae2e7",
   "metadata": {},
   "outputs": [
    {
     "data": {
      "text/plain": [
       "True"
      ]
     },
     "execution_count": 8,
     "metadata": {},
     "output_type": "execute_result"
    }
   ],
   "source": [
    "df[\"Weight_kg\"].isna().sum() == 6973"
   ]
  },
  {
   "cell_type": "code",
   "execution_count": 9,
   "id": "9dfb85de",
   "metadata": {},
   "outputs": [],
   "source": [
    "def fill_mean(df, col1, col2, x):\n",
    "    df[x].fillna(df.groupby([col1,col2])[x].transform(\"mean\"), inplace=True)\n",
    "    if df[x].isna().sum() != 0:\n",
    "        df[x].fillna(df.groupby(col2)[x].transform(\"mean\"), inplace=True)\n",
    "    print(\"Number of NaN : \",df[x].isna().sum())\n",
    "    print(\"------------------\")\n",
    "    print(df[x].value_counts(dropna=False))    "
   ]
  },
  {
   "cell_type": "markdown",
   "id": "4acb7ec2",
   "metadata": {},
   "source": [
    "## Handling with Categorical Features"
   ]
  },
  {
   "cell_type": "code",
   "execution_count": 10,
   "id": "a5007006",
   "metadata": {},
   "outputs": [],
   "source": [
    "categoric = [i for i in df.columns if df[i].dtype == \"object\"]\n",
    "dfc = df[categoric]"
   ]
  },
  {
   "cell_type": "code",
   "execution_count": 11,
   "id": "951ecb53",
   "metadata": {},
   "outputs": [
    {
     "data": {
      "text/plain": [
       "make_model                  0\n",
       "body_type                  60\n",
       "vat                      4513\n",
       "Type                        2\n",
       "Body Color                597\n",
       "Upholstery               3720\n",
       "Gearing Type                0\n",
       "Fuel                        0\n",
       "Comfort & Convenience     920\n",
       "Entertainment & Media    1374\n",
       "Extras                   2962\n",
       "Safety & Security         982\n",
       "dtype: int64"
      ]
     },
     "execution_count": 11,
     "metadata": {},
     "output_type": "execute_result"
    }
   ],
   "source": [
    "dfc.isna().sum()"
   ]
  },
  {
   "cell_type": "markdown",
   "id": "bbfe19ba",
   "metadata": {},
   "source": [
    "### body_type"
   ]
  },
  {
   "cell_type": "code",
   "execution_count": 12,
   "id": "3d414f94",
   "metadata": {},
   "outputs": [
    {
     "name": "stdout",
     "output_type": "stream",
     "text": [
      "Column name  :  body_type\n",
      "-----------------------------\n",
      "Number of nulls  :  60\n",
      "% of nulls       :  0.38%\n",
      "Number of uniques:  9\n",
      "-----------------------------\n",
      "Value Counts\n",
      "\n",
      "Sedans           7903\n",
      "Station wagon    3553\n",
      "Compact          3153\n",
      "Van               783\n",
      "Other             290\n",
      "Transporter        88\n",
      "NaN                60\n",
      "Off-Road           55\n",
      "Coupe              25\n",
      "Convertible         8\n",
      "Name: body_type, dtype: int64\n"
     ]
    }
   ],
   "source": [
    "infos(dfc,\"body_type\")"
   ]
  },
  {
   "cell_type": "code",
   "execution_count": 13,
   "id": "4f0c91a7",
   "metadata": {},
   "outputs": [],
   "source": [
    "dfc.body_type.replace(\"Other\", np.nan,inplace=True)"
   ]
  },
  {
   "cell_type": "code",
   "execution_count": 14,
   "id": "d91970a8",
   "metadata": {
    "scrolled": true
   },
   "outputs": [
    {
     "name": "stdout",
     "output_type": "stream",
     "text": [
      "Number of NaN : 0\n",
      "---------------------\n",
      "Sedans           8005\n",
      "Station wagon    3678\n",
      "Compact          3242\n",
      "Van               817\n",
      "Transporter        88\n",
      "Off-Road           55\n",
      "Coupe              25\n",
      "Convertible         8\n",
      "Name: body_type, dtype: int64\n"
     ]
    }
   ],
   "source": [
    "fill_mode(dfc, \"make_model\", \"body_type\")"
   ]
  },
  {
   "cell_type": "markdown",
   "id": "6a617417",
   "metadata": {},
   "source": [
    "### Type"
   ]
  },
  {
   "cell_type": "code",
   "execution_count": 15,
   "id": "a45df6b8",
   "metadata": {},
   "outputs": [
    {
     "name": "stdout",
     "output_type": "stream",
     "text": [
      "Column name  :  Type\n",
      "-----------------------------\n",
      "Number of nulls  :  2\n",
      "% of nulls       :  0.01%\n",
      "Number of uniques:  2\n",
      "-----------------------------\n",
      "Value Counts\n",
      "\n",
      "Used    12902\n",
      "New      3014\n",
      "NaN         2\n",
      "Name: Type, dtype: int64\n"
     ]
    }
   ],
   "source": [
    "infos(dfc,\"Type\")"
   ]
  },
  {
   "cell_type": "code",
   "execution_count": 16,
   "id": "c4bcc913",
   "metadata": {},
   "outputs": [
    {
     "data": {
      "text/html": [
       "<div>\n",
       "<style scoped>\n",
       "    .dataframe tbody tr th:only-of-type {\n",
       "        vertical-align: middle;\n",
       "    }\n",
       "\n",
       "    .dataframe tbody tr th {\n",
       "        vertical-align: top;\n",
       "    }\n",
       "\n",
       "    .dataframe thead th {\n",
       "        text-align: right;\n",
       "    }\n",
       "</style>\n",
       "<table border=\"1\" class=\"dataframe\">\n",
       "  <thead>\n",
       "    <tr style=\"text-align: right;\">\n",
       "      <th></th>\n",
       "      <th>2764</th>\n",
       "      <th>5236</th>\n",
       "    </tr>\n",
       "  </thead>\n",
       "  <tbody>\n",
       "    <tr>\n",
       "      <th>make_model</th>\n",
       "      <td>Audi A3</td>\n",
       "      <td>Audi A3</td>\n",
       "    </tr>\n",
       "    <tr>\n",
       "      <th>body_type</th>\n",
       "      <td>Sedans</td>\n",
       "      <td>Sedans</td>\n",
       "    </tr>\n",
       "    <tr>\n",
       "      <th>price</th>\n",
       "      <td>17900</td>\n",
       "      <td>25400</td>\n",
       "    </tr>\n",
       "    <tr>\n",
       "      <th>vat</th>\n",
       "      <td>NaN</td>\n",
       "      <td>NaN</td>\n",
       "    </tr>\n",
       "    <tr>\n",
       "      <th>km</th>\n",
       "      <td>115137</td>\n",
       "      <td>0</td>\n",
       "    </tr>\n",
       "    <tr>\n",
       "      <th>prev_owner</th>\n",
       "      <td>NaN</td>\n",
       "      <td>NaN</td>\n",
       "    </tr>\n",
       "    <tr>\n",
       "      <th>hp</th>\n",
       "      <td>147.51243</td>\n",
       "      <td>113.986878</td>\n",
       "    </tr>\n",
       "    <tr>\n",
       "      <th>Type</th>\n",
       "      <td>NaN</td>\n",
       "      <td>NaN</td>\n",
       "    </tr>\n",
       "    <tr>\n",
       "      <th>Warranty_months</th>\n",
       "      <td>NaN</td>\n",
       "      <td>NaN</td>\n",
       "    </tr>\n",
       "    <tr>\n",
       "      <th>Body Color</th>\n",
       "      <td>White</td>\n",
       "      <td>Colored</td>\n",
       "    </tr>\n",
       "    <tr>\n",
       "      <th>Upholstery</th>\n",
       "      <td>Cloth</td>\n",
       "      <td>Cloth</td>\n",
       "    </tr>\n",
       "    <tr>\n",
       "      <th>Nr. of Doors</th>\n",
       "      <td>5.0</td>\n",
       "      <td>5.0</td>\n",
       "    </tr>\n",
       "    <tr>\n",
       "      <th>Nr. of Seats</th>\n",
       "      <td>5.0</td>\n",
       "      <td>5.0</td>\n",
       "    </tr>\n",
       "    <tr>\n",
       "      <th>Gearing Type</th>\n",
       "      <td>Automatic</td>\n",
       "      <td>Automatic</td>\n",
       "    </tr>\n",
       "    <tr>\n",
       "      <th>Displacement_cc</th>\n",
       "      <td>1968.0</td>\n",
       "      <td>1598.0</td>\n",
       "    </tr>\n",
       "    <tr>\n",
       "      <th>Weight_kg</th>\n",
       "      <td>NaN</td>\n",
       "      <td>NaN</td>\n",
       "    </tr>\n",
       "    <tr>\n",
       "      <th>Fuel</th>\n",
       "      <td>Diesel</td>\n",
       "      <td>Diesel</td>\n",
       "    </tr>\n",
       "    <tr>\n",
       "      <th>Consumption_comb</th>\n",
       "      <td>4.5</td>\n",
       "      <td>3.9</td>\n",
       "    </tr>\n",
       "    <tr>\n",
       "      <th>Gears</th>\n",
       "      <td>6.0</td>\n",
       "      <td>7.0</td>\n",
       "    </tr>\n",
       "    <tr>\n",
       "      <th>Age</th>\n",
       "      <td>3.0</td>\n",
       "      <td>0.0</td>\n",
       "    </tr>\n",
       "    <tr>\n",
       "      <th>Comfort &amp; Convenience</th>\n",
       "      <td>Air conditioning</td>\n",
       "      <td>Air conditioning</td>\n",
       "    </tr>\n",
       "    <tr>\n",
       "      <th>Entertainment &amp; Media</th>\n",
       "      <td>Bluetooth|Hands-free equipment</td>\n",
       "      <td>Bluetooth|Hands-free equipment</td>\n",
       "    </tr>\n",
       "    <tr>\n",
       "      <th>Extras</th>\n",
       "      <td>Alloy wheels|Sport seats|Sport suspension</td>\n",
       "      <td>Alloy wheels</td>\n",
       "    </tr>\n",
       "    <tr>\n",
       "      <th>Safety &amp; Security</th>\n",
       "      <td>ABS|Central door lock|Driver-side airbag|Isofi...</td>\n",
       "      <td>ABS|Central door lock|Driver-side airbag|Isofi...</td>\n",
       "    </tr>\n",
       "  </tbody>\n",
       "</table>\n",
       "</div>"
      ],
      "text/plain": [
       "                                                                    2764  \\\n",
       "make_model                                                       Audi A3   \n",
       "body_type                                                         Sedans   \n",
       "price                                                              17900   \n",
       "vat                                                                  NaN   \n",
       "km                                                                115137   \n",
       "prev_owner                                                           NaN   \n",
       "hp                                                             147.51243   \n",
       "Type                                                                 NaN   \n",
       "Warranty_months                                                      NaN   \n",
       "Body Color                                                         White   \n",
       "Upholstery                                                         Cloth   \n",
       "Nr. of Doors                                                         5.0   \n",
       "Nr. of Seats                                                         5.0   \n",
       "Gearing Type                                                   Automatic   \n",
       "Displacement_cc                                                   1968.0   \n",
       "Weight_kg                                                            NaN   \n",
       "Fuel                                                              Diesel   \n",
       "Consumption_comb                                                     4.5   \n",
       "Gears                                                                6.0   \n",
       "Age                                                                  3.0   \n",
       "Comfort & Convenience                                   Air conditioning   \n",
       "Entertainment & Media                     Bluetooth|Hands-free equipment   \n",
       "Extras                         Alloy wheels|Sport seats|Sport suspension   \n",
       "Safety & Security      ABS|Central door lock|Driver-side airbag|Isofi...   \n",
       "\n",
       "                                                                    5236  \n",
       "make_model                                                       Audi A3  \n",
       "body_type                                                         Sedans  \n",
       "price                                                              25400  \n",
       "vat                                                                  NaN  \n",
       "km                                                                     0  \n",
       "prev_owner                                                           NaN  \n",
       "hp                                                            113.986878  \n",
       "Type                                                                 NaN  \n",
       "Warranty_months                                                      NaN  \n",
       "Body Color                                                       Colored  \n",
       "Upholstery                                                         Cloth  \n",
       "Nr. of Doors                                                         5.0  \n",
       "Nr. of Seats                                                         5.0  \n",
       "Gearing Type                                                   Automatic  \n",
       "Displacement_cc                                                   1598.0  \n",
       "Weight_kg                                                            NaN  \n",
       "Fuel                                                              Diesel  \n",
       "Consumption_comb                                                     3.9  \n",
       "Gears                                                                7.0  \n",
       "Age                                                                  0.0  \n",
       "Comfort & Convenience                                   Air conditioning  \n",
       "Entertainment & Media                     Bluetooth|Hands-free equipment  \n",
       "Extras                                                      Alloy wheels  \n",
       "Safety & Security      ABS|Central door lock|Driver-side airbag|Isofi...  "
      ]
     },
     "execution_count": 16,
     "metadata": {},
     "output_type": "execute_result"
    }
   ],
   "source": [
    "df[df[\"Type\"].isna()].T"
   ]
  },
  {
   "cell_type": "code",
   "execution_count": 17,
   "id": "53459a54",
   "metadata": {},
   "outputs": [],
   "source": [
    "dfc.loc[(dfc[\"Type\"].isna() == True)&(df.km>200), \"Type\"] = \"Used\"\n",
    "dfc.loc[(dfc[\"Type\"].isna() == True)&(df.km<=200), \"Type\"] = \"New\""
   ]
  },
  {
   "cell_type": "code",
   "execution_count": 18,
   "id": "06275f28",
   "metadata": {},
   "outputs": [
    {
     "name": "stdout",
     "output_type": "stream",
     "text": [
      "Column name  :  Type\n",
      "-----------------------------\n",
      "Number of nulls  :  0\n",
      "% of nulls       :  0.0%\n",
      "Number of uniques:  2\n",
      "-----------------------------\n",
      "Value Counts\n",
      "\n",
      "Used    12903\n",
      "New      3015\n",
      "Name: Type, dtype: int64\n"
     ]
    }
   ],
   "source": [
    "infos(dfc,\"Type\")"
   ]
  },
  {
   "cell_type": "markdown",
   "id": "cb23f625",
   "metadata": {},
   "source": [
    "### Body Color"
   ]
  },
  {
   "cell_type": "code",
   "execution_count": 19,
   "id": "ba918733",
   "metadata": {},
   "outputs": [
    {
     "name": "stdout",
     "output_type": "stream",
     "text": [
      "Column name  :  Body Color\n",
      "-----------------------------\n",
      "Number of nulls  :  597\n",
      "% of nulls       :  3.75%\n",
      "Number of uniques:  2\n",
      "-----------------------------\n",
      "Value Counts\n",
      "\n",
      "Colored    11915\n",
      "White       3406\n",
      "NaN          597\n",
      "Name: Body Color, dtype: int64\n"
     ]
    }
   ],
   "source": [
    "infos(dfc, \"Body Color\")"
   ]
  },
  {
   "cell_type": "code",
   "execution_count": 20,
   "id": "832b0da3",
   "metadata": {},
   "outputs": [
    {
     "name": "stdout",
     "output_type": "stream",
     "text": [
      "Number of NaN :  0\n",
      "------------------\n",
      "Colored    12512\n",
      "White       3406\n",
      "Name: Body Color, dtype: int64\n"
     ]
    }
   ],
   "source": [
    "fill_mode2(dfc, \"make_model\", \"body_type\", \"Body Color\")"
   ]
  },
  {
   "cell_type": "markdown",
   "id": "fff128ee",
   "metadata": {},
   "source": [
    "### vat"
   ]
  },
  {
   "cell_type": "code",
   "execution_count": 21,
   "id": "4808e410",
   "metadata": {},
   "outputs": [],
   "source": [
    "dfc.vat = df.vat"
   ]
  },
  {
   "cell_type": "code",
   "execution_count": 22,
   "id": "e6901056",
   "metadata": {},
   "outputs": [
    {
     "name": "stdout",
     "output_type": "stream",
     "text": [
      "Column name  :  vat\n",
      "-----------------------------\n",
      "Number of nulls  :  4513\n",
      "% of nulls       :  28.35%\n",
      "Number of uniques:  1\n",
      "-----------------------------\n",
      "Value Counts\n",
      "\n",
      "Discount    11405\n",
      "NaN          4513\n",
      "Name: vat, dtype: int64\n"
     ]
    }
   ],
   "source": [
    "infos(dfc, \"vat\")"
   ]
  },
  {
   "cell_type": "code",
   "execution_count": 23,
   "id": "e5c0f89e",
   "metadata": {},
   "outputs": [
    {
     "name": "stdout",
     "output_type": "stream",
     "text": [
      "Column name  :  vat\n",
      "-----------------------------\n",
      "Number of nulls  :  0\n",
      "% of nulls       :  0.0%\n",
      "Number of uniques:  2\n",
      "-----------------------------\n",
      "Value Counts\n",
      "\n",
      "Discount        11405\n",
      "Non-Discount     4513\n",
      "Name: vat, dtype: int64\n"
     ]
    }
   ],
   "source": [
    "dfc.vat.fillna(\"Non-Discount\", inplace=True)\n",
    "infos(dfc, \"vat\")"
   ]
  },
  {
   "cell_type": "code",
   "execution_count": 24,
   "id": "9036c524",
   "metadata": {},
   "outputs": [
    {
     "data": {
      "text/plain": [
       "make_model                  0\n",
       "body_type                   0\n",
       "vat                         0\n",
       "Type                        0\n",
       "Body Color                  0\n",
       "Upholstery               3720\n",
       "Gearing Type                0\n",
       "Fuel                        0\n",
       "Comfort & Convenience     920\n",
       "Entertainment & Media    1374\n",
       "Extras                   2962\n",
       "Safety & Security         982\n",
       "dtype: int64"
      ]
     },
     "execution_count": 24,
     "metadata": {},
     "output_type": "execute_result"
    }
   ],
   "source": [
    "dfc.isna().sum()"
   ]
  },
  {
   "cell_type": "markdown",
   "id": "7db7fc77",
   "metadata": {},
   "source": [
    "### Upholstery"
   ]
  },
  {
   "cell_type": "code",
   "execution_count": 25,
   "id": "9a627ecd",
   "metadata": {},
   "outputs": [
    {
     "name": "stdout",
     "output_type": "stream",
     "text": [
      "Column name  :  Upholstery\n",
      "-----------------------------\n",
      "Number of nulls  :  3720\n",
      "% of nulls       :  23.37%\n",
      "Number of uniques:  3\n",
      "-----------------------------\n",
      "Value Counts\n",
      "\n",
      "Cloth      8422\n",
      "NaN        3720\n",
      "Leather    2508\n",
      "Other      1268\n",
      "Name: Upholstery, dtype: int64\n"
     ]
    }
   ],
   "source": [
    "infos(dfc, \"Upholstery\")"
   ]
  },
  {
   "cell_type": "code",
   "execution_count": 26,
   "id": "fc07e375",
   "metadata": {},
   "outputs": [
    {
     "name": "stdout",
     "output_type": "stream",
     "text": [
      "Number of NaN :  0\n",
      "------------------\n",
      "Cloth      11520\n",
      "Leather     3083\n",
      "Other       1315\n",
      "Name: Upholstery, dtype: int64\n"
     ]
    }
   ],
   "source": [
    "fill_mode2(dfc, \"make_model\", \"body_type\", \"Upholstery\")"
   ]
  },
  {
   "cell_type": "markdown",
   "id": "cb12ad76",
   "metadata": {},
   "source": [
    "### Comfort & Convenience"
   ]
  },
  {
   "cell_type": "code",
   "execution_count": 27,
   "id": "1db07db6",
   "metadata": {},
   "outputs": [
    {
     "name": "stdout",
     "output_type": "stream",
     "text": [
      "Column name  :  Comfort & Convenience\n",
      "-----------------------------\n",
      "Number of nulls  :  920\n",
      "% of nulls       :  5.78%\n",
      "Number of uniques:  6198\n",
      "-----------------------------\n",
      "Value Counts\n",
      "\n",
      "NaN                                                                                                                                                                                                                                                                                                                                                                                                                                                                                                  920\n",
      "Air conditioning|Electrical side mirrors|Hill Holder|Power windows                                                                                                                                                                                                                                                                                                                                                                                                                                   216\n",
      "Air conditioning|Electrical side mirrors|Power windows                                                                                                                                                                                                                                                                                                                                                                                                                                               134\n",
      "Air conditioning|Power windows                                                                                                                                                                                                                                                                                                                                                                                                                                                                       130\n",
      "Air conditioning|Armrest|Automatic climate control|Cruise control|Electrical side mirrors|Leather steering wheel|Light sensor|Lumbar support|Multi-function steering wheel|Navigation system|Park Distance Control|Parking assist system sensors front|Parking assist system sensors rear|Power windows|Rain sensor|Seat heating|Start-stop system                                                                                                                                                   105\n",
      "                                                                                                                                                                                                                                                                                                                                                                                                                                                                                                    ... \n",
      "Air conditioning|Cruise control|Electrical side mirrors|Hill Holder|Leather steering wheel|Light sensor|Multi-function steering wheel|Navigation system|Park Distance Control|Parking assist system sensors rear|Power windows|Rain sensor|Split rear seats|Start-stop system|Tinted windows                                                                                                                                                                                                           1\n",
      "Air conditioning|Armrest|Automatic climate control|Cruise control|Electrical side mirrors|Heated steering wheel|Hill Holder|Leather steering wheel|Light sensor|Lumbar support|Multi-function steering wheel|Navigation system|Park Distance Control|Parking assist system camera|Parking assist system sensors front|Parking assist system sensors rear|Power windows|Rain sensor|Seat heating|Sunroof                                                                                                1\n",
      "Air conditioning|Armrest|Cruise control|Electrical side mirrors|Heated steering wheel|Hill Holder|Leather steering wheel|Light sensor|Multi-function steering wheel|Park Distance Control|Parking assist system camera|Parking assist system sensors front|Parking assist system sensors rear|Power windows|Rain sensor|Seat heating|Split rear seats|Start-stop system|Tinted windows                                                                                                                 1\n",
      "Air conditioning|Automatic climate control|Cruise control|Electrical side mirrors|Leather steering wheel|Light sensor|Multi-function steering wheel|Park Distance Control|Parking assist system sensors front|Parking assist system sensors rear|Power windows|Rain sensor|Seat heating                                                                                                                                                                                                                1\n",
      "Air conditioning|Automatic climate control|Cruise control|Electrically heated windshield|Electrical side mirrors|Electric tailgate|Heads-up display|Heated steering wheel|Hill Holder|Keyless central door lock|Leather steering wheel|Light sensor|Lumbar support|Navigation system|Park Distance Control|Parking assist system camera|Parking assist system self-steering|Parking assist system sensors front|Parking assist system sensors rear|Power windows|Rain sensor|Seat heating|Sunroof      1\n",
      "Name: Comfort & Convenience, Length: 6199, dtype: int64\n"
     ]
    }
   ],
   "source": [
    "infos(dfc, \"Comfort & Convenience\")"
   ]
  },
  {
   "cell_type": "code",
   "execution_count": 28,
   "id": "2dc5a682",
   "metadata": {},
   "outputs": [
    {
     "name": "stdout",
     "output_type": "stream",
     "text": [
      "Number of NaN :  0\n",
      "------------------\n",
      "Air conditioning|Electrical side mirrors|Hill Holder|Power windows                                                                                                                                                                                                                                                                                                                                                                                                                                   389\n",
      "Air conditioning|Armrest|Automatic climate control|Cruise control|Electrical side mirrors|Leather steering wheel|Light sensor|Lumbar support|Multi-function steering wheel|Navigation system|Park Distance Control|Parking assist system sensors front|Parking assist system sensors rear|Power windows|Rain sensor|Seat heating|Start-stop system                                                                                                                                                   187\n",
      "Air conditioning|Armrest|Automatic climate control|Cruise control|Electrically adjustable seats|Electrical side mirrors|Electric tailgate|Heated steering wheel|Hill Holder|Keyless central door lock|Leather steering wheel|Light sensor|Lumbar support|Multi-function steering wheel|Navigation system|Park Distance Control|Parking assist system camera|Parking assist system sensors front|Parking assist system sensors rear|Power windows|Rain sensor|Seat heating|Start-stop system          165\n",
      "Air conditioning|Automatic climate control|Cruise control|Multi-function steering wheel|Park Distance Control|Power windows                                                                                                                                                                                                                                                                                                                                                                          160\n",
      "Air conditioning|Electrical side mirrors|Power windows                                                                                                                                                                                                                                                                                                                                                                                                                                               134\n",
      "                                                                                                                                                                                                                                                                                                                                                                                                                                                                                                    ... \n",
      "Air conditioning|Cruise control|Electrical side mirrors|Multi-function steering wheel|Park Distance Control|Parking assist system sensors front|Parking assist system sensors rear|Power windows|Start-stop system                                                                                                                                                                                                                                                                                     1\n",
      "Air conditioning|Armrest|Cruise control|Electrical side mirrors|Heated steering wheel|Hill Holder|Leather steering wheel|Light sensor|Multi-function steering wheel|Park Distance Control|Parking assist system camera|Parking assist system sensors rear|Power windows|Rain sensor|Seat heating|Split rear seats|Start-stop system|Sunroof|Tinted windows                                                                                                                                             1\n",
      "Air conditioning|Armrest|Cruise control|Hill Holder|Leather steering wheel|Multi-function steering wheel|Park Distance Control|Parking assist system sensors front|Parking assist system sensors rear|Power windows                                                                                                                                                                                                                                                                                    1\n",
      "Air conditioning|Armrest|Automatic climate control|Cruise control|Electrical side mirrors|Leather steering wheel|Multi-function steering wheel|Power windows|Rain sensor|Start-stop system|Tinted windows                                                                                                                                                                                                                                                                                              1\n",
      "Air conditioning|Automatic climate control|Cruise control|Electrically heated windshield|Electrical side mirrors|Electric tailgate|Heads-up display|Heated steering wheel|Hill Holder|Keyless central door lock|Leather steering wheel|Light sensor|Lumbar support|Navigation system|Park Distance Control|Parking assist system camera|Parking assist system self-steering|Parking assist system sensors front|Parking assist system sensors rear|Power windows|Rain sensor|Seat heating|Sunroof      1\n",
      "Name: Comfort & Convenience, Length: 6198, dtype: int64\n"
     ]
    }
   ],
   "source": [
    "fill_mode2(dfc, \"make_model\", \"body_type\", \"Comfort & Convenience\")"
   ]
  },
  {
   "cell_type": "markdown",
   "id": "3c1d8bfb",
   "metadata": {},
   "source": [
    "### Entertainment & Media"
   ]
  },
  {
   "cell_type": "code",
   "execution_count": 29,
   "id": "dbc6d255",
   "metadata": {},
   "outputs": [
    {
     "name": "stdout",
     "output_type": "stream",
     "text": [
      "Column name  :  Entertainment & Media\n",
      "-----------------------------\n",
      "Number of nulls  :  1374\n",
      "% of nulls       :  8.63%\n",
      "Number of uniques:  346\n",
      "-----------------------------\n",
      "Value Counts\n",
      "\n",
      "NaN                                                                                                 1374\n",
      "Bluetooth|Hands-free equipment|On-board computer|Radio|USB                                          1282\n",
      "Bluetooth|Hands-free equipment|MP3|On-board computer|Radio|USB                                       982\n",
      "Bluetooth|CD player|Hands-free equipment|MP3|On-board computer|Radio|USB                             782\n",
      "On-board computer|Radio                                                                              487\n",
      "                                                                                                    ... \n",
      "Bluetooth|CD player|Digital radio|Hands-free equipment|Radio                                           1\n",
      "CD player|Hands-free equipment|MP3|Radio|USB                                                           1\n",
      "MP3|Radio|Sound system|USB                                                                             1\n",
      "Bluetooth|MP3|On-board computer|Radio|Television|USB                                                   1\n",
      "Bluetooth|CD player|Hands-free equipment|MP3|On-board computer|Radio|Sound system|Television|USB       1\n",
      "Name: Entertainment & Media, Length: 347, dtype: int64\n"
     ]
    }
   ],
   "source": [
    "infos(dfc, \"Entertainment & Media\")"
   ]
  },
  {
   "cell_type": "code",
   "execution_count": 30,
   "id": "5fc91224",
   "metadata": {},
   "outputs": [
    {
     "name": "stdout",
     "output_type": "stream",
     "text": [
      "Number of NaN :  0\n",
      "------------------\n",
      "Bluetooth|Hands-free equipment|On-board computer|Radio|USB                      1742\n",
      "Bluetooth|Hands-free equipment|MP3|On-board computer|Radio|USB                  1138\n",
      "Bluetooth|CD player|Hands-free equipment|MP3|On-board computer|Radio|USB        1009\n",
      "On-board computer                                                                611\n",
      "Radio                                                                            558\n",
      "                                                                                ... \n",
      "Bluetooth|CD player|MP3                                                            1\n",
      "CD player|USB                                                                      1\n",
      "Bluetooth|CD player|Digital radio|Radio|USB                                        1\n",
      "Bluetooth|CD player|Digital radio|MP3|On-board computer|Radio|Television|USB       1\n",
      "Hands-free equipment|On-board computer|Radio|Sound system                          1\n",
      "Name: Entertainment & Media, Length: 346, dtype: int64\n"
     ]
    }
   ],
   "source": [
    "fill_mode2(dfc, \"make_model\", \"body_type\", \"Entertainment & Media\")"
   ]
  },
  {
   "cell_type": "markdown",
   "id": "9c187465",
   "metadata": {},
   "source": [
    "### Safety & Security"
   ]
  },
  {
   "cell_type": "code",
   "execution_count": 31,
   "id": "8870cdb0",
   "metadata": {},
   "outputs": [
    {
     "name": "stdout",
     "output_type": "stream",
     "text": [
      "Column name  :  Safety & Security\n",
      "-----------------------------\n",
      "Number of nulls  :  982\n",
      "% of nulls       :  6.17%\n",
      "Number of uniques:  4443\n",
      "-----------------------------\n",
      "Value Counts\n",
      "\n",
      "NaN                                                                                                                                                                                                                                                                                                                                                               982\n",
      "ABS|Central door lock|Daytime running lights|Driver-side airbag|Electronic stability control|Fog lights|Immobilizer|Isofix|Passenger-side airbag|Power steering|Side airbag|Tire pressure monitoring system|Traction control                                                                                                                                      538\n",
      "ABS|Central door lock|Daytime running lights|Driver-side airbag|Electronic stability control|Immobilizer|Isofix|Passenger-side airbag|Power steering|Side airbag|Tire pressure monitoring system|Traction control                                                                                                                                                 480\n",
      "ABS|Central door lock|Daytime running lights|Driver-side airbag|Electronic stability control|Immobilizer|Isofix|Passenger-side airbag|Power steering|Side airbag|Tire pressure monitoring system|Traction control|Xenon headlights                                                                                                                                275\n",
      "ABS|Central door lock|Daytime running lights|Driver-side airbag|Electronic stability control|Fog lights|Immobilizer|Isofix|LED Daytime Running Lights|Passenger-side airbag|Power steering|Side airbag|Tire pressure monitoring system|Traction control                                                                                                           272\n",
      "                                                                                                                                                                                                                                                                                                                                                                 ... \n",
      "ABS|Central door lock|Electronic stability control|Immobilizer|Isofix|Passenger-side airbag|Power steering|Side airbag                                                                                                                                                                                                                                              1\n",
      "ABS|Adaptive Cruise Control|Central door lock|Daytime running lights|Driver-side airbag|Electronic stability control|Emergency brake assistant|Immobilizer|Isofix|Passenger-side airbag|Power steering|Side airbag|Tire pressure monitoring system|Traction control                                                                                                 1\n",
      "ABS|Adaptive Cruise Control|Central door lock|Daytime running lights|Driver-side airbag|Electronic stability control|Fog lights|Immobilizer|Isofix|Power steering|Tire pressure monitoring system|Traction control                                                                                                                                                  1\n",
      "ABS|Central door lock|Driver-side airbag|Electronic stability control|Emergency brake assistant|Fog lights|Lane departure warning system|Passenger-side airbag|Power steering|Side airbag|Traction control                                                                                                                                                          1\n",
      "ABS|Adaptive Cruise Control|Central door lock|Daytime running lights|Driver-side airbag|Electronic stability control|Emergency brake assistant|Fog lights|Immobilizer|Isofix|Lane departure warning system|LED Daytime Running Lights|LED Headlights|Passenger-side airbag|Power steering|Side airbag|Tire pressure monitoring system|Traffic sign recognition      1\n",
      "Name: Safety & Security, Length: 4444, dtype: int64\n"
     ]
    }
   ],
   "source": [
    "infos(dfc, \"Safety & Security\")"
   ]
  },
  {
   "cell_type": "code",
   "execution_count": 32,
   "id": "aca23d91",
   "metadata": {},
   "outputs": [
    {
     "name": "stdout",
     "output_type": "stream",
     "text": [
      "Number of NaN :  0\n",
      "------------------\n",
      "ABS|Central door lock|Daytime running lights|Driver-side airbag|Electronic stability control|Fog lights|Immobilizer|Isofix|Passenger-side airbag|Power steering|Side airbag|Tire pressure monitoring system|Traction control                                                                                                                                      730\n",
      "ABS|Central door lock|Daytime running lights|Driver-side airbag|Electronic stability control|Immobilizer|Isofix|Passenger-side airbag|Power steering|Side airbag|Tire pressure monitoring system|Traction control                                                                                                                                                 480\n",
      "ABS|Central door lock|Daytime running lights|Driver-side airbag|Electronic stability control|Fog lights|Immobilizer|Isofix|LED Daytime Running Lights|Passenger-side airbag|Power steering|Side airbag|Tire pressure monitoring system|Traction control                                                                                                           373\n",
      "ABS|Central door lock|Daytime running lights|Driver-side airbag|Electronic stability control|Immobilizer|Isofix|Passenger-side airbag|Power steering|Side airbag|Tire pressure monitoring system|Traction control|Xenon headlights                                                                                                                                352\n",
      "ABS|Central door lock|Daytime running lights|Driver-side airbag|Electronic stability control|Isofix|Passenger-side airbag|Power steering|Side airbag|Tire pressure monitoring system|Traction control                                                                                                                                                             306\n",
      "                                                                                                                                                                                                                                                                                                                                                                 ... \n",
      "ABS|Central door lock|Electronic stability control|Immobilizer|Isofix|Passenger-side airbag|Power steering|Side airbag                                                                                                                                                                                                                                              1\n",
      "ABS|Adaptive Cruise Control|Central door lock|Daytime running lights|Driver-side airbag|Electronic stability control|Emergency brake assistant|Immobilizer|Isofix|Passenger-side airbag|Power steering|Side airbag|Tire pressure monitoring system|Traction control                                                                                                 1\n",
      "ABS|Adaptive Cruise Control|Central door lock|Daytime running lights|Driver-side airbag|Electronic stability control|Fog lights|Immobilizer|Isofix|Power steering|Tire pressure monitoring system|Traction control                                                                                                                                                  1\n",
      "ABS|Central door lock|Driver-side airbag|Electronic stability control|Emergency brake assistant|Fog lights|Lane departure warning system|Passenger-side airbag|Power steering|Side airbag|Traction control                                                                                                                                                          1\n",
      "ABS|Adaptive Cruise Control|Central door lock|Daytime running lights|Driver-side airbag|Electronic stability control|Emergency brake assistant|Fog lights|Immobilizer|Isofix|Lane departure warning system|LED Daytime Running Lights|LED Headlights|Passenger-side airbag|Power steering|Side airbag|Tire pressure monitoring system|Traffic sign recognition      1\n",
      "Name: Safety & Security, Length: 4443, dtype: int64\n"
     ]
    }
   ],
   "source": [
    "fill_mode2(dfc, \"make_model\", \"body_type\", \"Safety & Security\")"
   ]
  },
  {
   "cell_type": "markdown",
   "id": "71375137",
   "metadata": {},
   "source": [
    "### Extras"
   ]
  },
  {
   "cell_type": "code",
   "execution_count": 33,
   "id": "bad23c6f",
   "metadata": {},
   "outputs": [
    {
     "name": "stdout",
     "output_type": "stream",
     "text": [
      "Column name  :  Extras\n",
      "-----------------------------\n",
      "Number of nulls  :  2962\n",
      "% of nulls       :  18.61%\n",
      "Number of uniques:  659\n",
      "-----------------------------\n",
      "Value Counts\n",
      "\n",
      "Alloy wheels                                                                                               3244\n",
      "NaN                                                                                                        2962\n",
      "Alloy wheels|Touch screen                                                                                   697\n",
      "Alloy wheels|Voice Control                                                                                  577\n",
      "Alloy wheels|Touch screen|Voice Control                                                                     541\n",
      "                                                                                                           ... \n",
      "Alloy wheels|Catalytic Converter|Shift paddles|Sport package|Sport seats|Sport suspension|Voice Control       1\n",
      "Alloy wheels|Catalytic Converter|Roof rack|Sport package|Sport seats|Trailer hitch                            1\n",
      "Alloy wheels|Catalytic Converter|Ski bag|Sport package|Voice Control                                          1\n",
      "Catalytic Converter|Roof rack|Sport seats|Sport suspension                                                    1\n",
      "Alloy wheels|Shift paddles|Ski bag|Sport seats|Sport suspension|Touch screen|Voice Control                    1\n",
      "Name: Extras, Length: 660, dtype: int64\n"
     ]
    }
   ],
   "source": [
    "infos(dfc, \"Extras\")"
   ]
  },
  {
   "cell_type": "code",
   "execution_count": 34,
   "id": "1a44db0e",
   "metadata": {},
   "outputs": [
    {
     "name": "stdout",
     "output_type": "stream",
     "text": [
      "Number of NaN :  0\n",
      "------------------\n",
      "Alloy wheels                                                                                               5793\n",
      "Alloy wheels|Touch screen                                                                                   697\n",
      "Roof rack                                                                                                   596\n",
      "Alloy wheels|Voice Control                                                                                  582\n",
      "Alloy wheels|Touch screen|Voice Control                                                                     544\n",
      "                                                                                                           ... \n",
      "Alloy wheels|Catalytic Converter|Shift paddles|Sport package|Sport seats|Sport suspension|Voice Control       1\n",
      "Alloy wheels|Catalytic Converter|Roof rack|Sport package|Sport seats|Trailer hitch                            1\n",
      "Alloy wheels|Catalytic Converter|Ski bag|Sport package|Voice Control                                          1\n",
      "Catalytic Converter|Roof rack|Sport seats|Sport suspension                                                    1\n",
      "Alloy wheels|Shift paddles|Ski bag|Sport seats|Sport suspension|Touch screen|Voice Control                    1\n",
      "Name: Extras, Length: 659, dtype: int64\n"
     ]
    }
   ],
   "source": [
    "fill_mode2(dfc, \"make_model\", \"body_type\", \"Extras\")"
   ]
  },
  {
   "cell_type": "code",
   "execution_count": 35,
   "id": "8b99c9de",
   "metadata": {},
   "outputs": [
    {
     "data": {
      "text/plain": [
       "make_model               0\n",
       "body_type                0\n",
       "vat                      0\n",
       "Type                     0\n",
       "Body Color               0\n",
       "Upholstery               0\n",
       "Gearing Type             0\n",
       "Fuel                     0\n",
       "Comfort & Convenience    0\n",
       "Entertainment & Media    0\n",
       "Extras                   0\n",
       "Safety & Security        0\n",
       "dtype: int64"
      ]
     },
     "execution_count": 35,
     "metadata": {},
     "output_type": "execute_result"
    }
   ],
   "source": [
    "dfc.isna().sum()"
   ]
  },
  {
   "cell_type": "code",
   "execution_count": 36,
   "id": "79328ba9",
   "metadata": {},
   "outputs": [],
   "source": [
    "for i in dfc.columns:\n",
    "    df[i] = dfc[i]"
   ]
  },
  {
   "cell_type": "code",
   "execution_count": 37,
   "id": "8b585ff6",
   "metadata": {},
   "outputs": [
    {
     "data": {
      "text/plain": [
       "make_model                   0\n",
       "body_type                    0\n",
       "price                        0\n",
       "vat                          0\n",
       "km                           0\n",
       "prev_owner                6828\n",
       "hp                          88\n",
       "Type                         0\n",
       "Warranty_months          11065\n",
       "Body Color                   0\n",
       "Upholstery                   0\n",
       "Nr. of Doors               212\n",
       "Nr. of Seats               977\n",
       "Gearing Type                 0\n",
       "Displacement_cc            496\n",
       "Weight_kg                 6973\n",
       "Fuel                         0\n",
       "Consumption_comb          2775\n",
       "Gears                     4711\n",
       "Age                          0\n",
       "Comfort & Convenience        0\n",
       "Entertainment & Media        0\n",
       "Extras                       0\n",
       "Safety & Security            0\n",
       "dtype: int64"
      ]
     },
     "execution_count": 37,
     "metadata": {},
     "output_type": "execute_result"
    }
   ],
   "source": [
    "df.isna().sum()"
   ]
  },
  {
   "cell_type": "markdown",
   "id": "ed838b13",
   "metadata": {},
   "source": [
    "## Handling with Numerical Features"
   ]
  },
  {
   "cell_type": "code",
   "execution_count": 38,
   "id": "7f1bde81",
   "metadata": {},
   "outputs": [
    {
     "data": {
      "text/html": [
       "<div>\n",
       "<style scoped>\n",
       "    .dataframe tbody tr th:only-of-type {\n",
       "        vertical-align: middle;\n",
       "    }\n",
       "\n",
       "    .dataframe tbody tr th {\n",
       "        vertical-align: top;\n",
       "    }\n",
       "\n",
       "    .dataframe thead th {\n",
       "        text-align: right;\n",
       "    }\n",
       "</style>\n",
       "<table border=\"1\" class=\"dataframe\">\n",
       "  <thead>\n",
       "    <tr style=\"text-align: right;\">\n",
       "      <th></th>\n",
       "      <th>15180</th>\n",
       "      <th>663</th>\n",
       "      <th>9985</th>\n",
       "    </tr>\n",
       "  </thead>\n",
       "  <tbody>\n",
       "    <tr>\n",
       "      <th>make_model</th>\n",
       "      <td>Renault Espace</td>\n",
       "      <td>Audi A1</td>\n",
       "      <td>Opel Corsa</td>\n",
       "    </tr>\n",
       "    <tr>\n",
       "      <th>body_type</th>\n",
       "      <td>Van</td>\n",
       "      <td>Sedans</td>\n",
       "      <td>Sedans</td>\n",
       "    </tr>\n",
       "    <tr>\n",
       "      <th>price</th>\n",
       "      <td>20999</td>\n",
       "      <td>12000</td>\n",
       "      <td>16450</td>\n",
       "    </tr>\n",
       "    <tr>\n",
       "      <th>vat</th>\n",
       "      <td>Discount</td>\n",
       "      <td>Non-Discount</td>\n",
       "      <td>Discount</td>\n",
       "    </tr>\n",
       "    <tr>\n",
       "      <th>km</th>\n",
       "      <td>54000</td>\n",
       "      <td>57100</td>\n",
       "      <td>100</td>\n",
       "    </tr>\n",
       "    <tr>\n",
       "      <th>prev_owner</th>\n",
       "      <td>NaN</td>\n",
       "      <td>2.0</td>\n",
       "      <td>1.0</td>\n",
       "    </tr>\n",
       "    <tr>\n",
       "      <th>hp</th>\n",
       "      <td>158.240607</td>\n",
       "      <td>93.871546</td>\n",
       "      <td>88.507458</td>\n",
       "    </tr>\n",
       "    <tr>\n",
       "      <th>Type</th>\n",
       "      <td>Used</td>\n",
       "      <td>Used</td>\n",
       "      <td>New</td>\n",
       "    </tr>\n",
       "    <tr>\n",
       "      <th>Warranty_months</th>\n",
       "      <td>NaN</td>\n",
       "      <td>NaN</td>\n",
       "      <td>NaN</td>\n",
       "    </tr>\n",
       "    <tr>\n",
       "      <th>Body Color</th>\n",
       "      <td>Colored</td>\n",
       "      <td>Colored</td>\n",
       "      <td>Colored</td>\n",
       "    </tr>\n",
       "    <tr>\n",
       "      <th>Upholstery</th>\n",
       "      <td>Leather</td>\n",
       "      <td>Cloth</td>\n",
       "      <td>Cloth</td>\n",
       "    </tr>\n",
       "    <tr>\n",
       "      <th>Nr. of Doors</th>\n",
       "      <td>5.0</td>\n",
       "      <td>5.0</td>\n",
       "      <td>5.0</td>\n",
       "    </tr>\n",
       "    <tr>\n",
       "      <th>Nr. of Seats</th>\n",
       "      <td>5.0</td>\n",
       "      <td>4.0</td>\n",
       "      <td>5.0</td>\n",
       "    </tr>\n",
       "    <tr>\n",
       "      <th>Gearing Type</th>\n",
       "      <td>Automatic</td>\n",
       "      <td>Manual</td>\n",
       "      <td>Automatic</td>\n",
       "    </tr>\n",
       "    <tr>\n",
       "      <th>Displacement_cc</th>\n",
       "      <td>1598.0</td>\n",
       "      <td>999.0</td>\n",
       "      <td>1398.0</td>\n",
       "    </tr>\n",
       "    <tr>\n",
       "      <th>Weight_kg</th>\n",
       "      <td>1734.0</td>\n",
       "      <td>1135.0</td>\n",
       "      <td>1199.0</td>\n",
       "    </tr>\n",
       "    <tr>\n",
       "      <th>Fuel</th>\n",
       "      <td>Diesel</td>\n",
       "      <td>Benzine</td>\n",
       "      <td>Benzine</td>\n",
       "    </tr>\n",
       "    <tr>\n",
       "      <th>Consumption_comb</th>\n",
       "      <td>4.6</td>\n",
       "      <td>4.2</td>\n",
       "      <td>6.6</td>\n",
       "    </tr>\n",
       "    <tr>\n",
       "      <th>Gears</th>\n",
       "      <td>6.0</td>\n",
       "      <td>5.0</td>\n",
       "      <td>6.0</td>\n",
       "    </tr>\n",
       "    <tr>\n",
       "      <th>Age</th>\n",
       "      <td>3.0</td>\n",
       "      <td>3.0</td>\n",
       "      <td>0.0</td>\n",
       "    </tr>\n",
       "    <tr>\n",
       "      <th>Comfort &amp; Convenience</th>\n",
       "      <td>Air conditioning|Armrest|Automatic climate con...</td>\n",
       "      <td>Hill Holder|Leather steering wheel|Light senso...</td>\n",
       "      <td>Air conditioning|Cruise control|Electrically h...</td>\n",
       "    </tr>\n",
       "    <tr>\n",
       "      <th>Entertainment &amp; Media</th>\n",
       "      <td>Bluetooth|Digital radio|On-board computer|Soun...</td>\n",
       "      <td>Bluetooth|Hands-free equipment|Radio|Sound system</td>\n",
       "      <td>Bluetooth|Hands-free equipment|MP3|On-board co...</td>\n",
       "    </tr>\n",
       "    <tr>\n",
       "      <th>Extras</th>\n",
       "      <td>Alloy wheels|Voice Control</td>\n",
       "      <td>Alloy wheels|Sport seats|Voice Control</td>\n",
       "      <td>Alloy wheels|Touch screen|Voice Control</td>\n",
       "    </tr>\n",
       "    <tr>\n",
       "      <th>Safety &amp; Security</th>\n",
       "      <td>ABS|Central door lock with remote control|Driv...</td>\n",
       "      <td>ABS|Central door lock|Central door lock with r...</td>\n",
       "      <td>ABS|Central door lock|Daytime running lights|D...</td>\n",
       "    </tr>\n",
       "  </tbody>\n",
       "</table>\n",
       "</div>"
      ],
      "text/plain": [
       "                                                                   15180  \\\n",
       "make_model                                                Renault Espace   \n",
       "body_type                                                            Van   \n",
       "price                                                              20999   \n",
       "vat                                                             Discount   \n",
       "km                                                                 54000   \n",
       "prev_owner                                                           NaN   \n",
       "hp                                                            158.240607   \n",
       "Type                                                                Used   \n",
       "Warranty_months                                                      NaN   \n",
       "Body Color                                                       Colored   \n",
       "Upholstery                                                       Leather   \n",
       "Nr. of Doors                                                         5.0   \n",
       "Nr. of Seats                                                         5.0   \n",
       "Gearing Type                                                   Automatic   \n",
       "Displacement_cc                                                   1598.0   \n",
       "Weight_kg                                                         1734.0   \n",
       "Fuel                                                              Diesel   \n",
       "Consumption_comb                                                     4.6   \n",
       "Gears                                                                6.0   \n",
       "Age                                                                  3.0   \n",
       "Comfort & Convenience  Air conditioning|Armrest|Automatic climate con...   \n",
       "Entertainment & Media  Bluetooth|Digital radio|On-board computer|Soun...   \n",
       "Extras                                        Alloy wheels|Voice Control   \n",
       "Safety & Security      ABS|Central door lock with remote control|Driv...   \n",
       "\n",
       "                                                                   663    \\\n",
       "make_model                                                       Audi A1   \n",
       "body_type                                                         Sedans   \n",
       "price                                                              12000   \n",
       "vat                                                         Non-Discount   \n",
       "km                                                                 57100   \n",
       "prev_owner                                                           2.0   \n",
       "hp                                                             93.871546   \n",
       "Type                                                                Used   \n",
       "Warranty_months                                                      NaN   \n",
       "Body Color                                                       Colored   \n",
       "Upholstery                                                         Cloth   \n",
       "Nr. of Doors                                                         5.0   \n",
       "Nr. of Seats                                                         4.0   \n",
       "Gearing Type                                                      Manual   \n",
       "Displacement_cc                                                    999.0   \n",
       "Weight_kg                                                         1135.0   \n",
       "Fuel                                                             Benzine   \n",
       "Consumption_comb                                                     4.2   \n",
       "Gears                                                                5.0   \n",
       "Age                                                                  3.0   \n",
       "Comfort & Convenience  Hill Holder|Leather steering wheel|Light senso...   \n",
       "Entertainment & Media  Bluetooth|Hands-free equipment|Radio|Sound system   \n",
       "Extras                            Alloy wheels|Sport seats|Voice Control   \n",
       "Safety & Security      ABS|Central door lock|Central door lock with r...   \n",
       "\n",
       "                                                                   9985   \n",
       "make_model                                                    Opel Corsa  \n",
       "body_type                                                         Sedans  \n",
       "price                                                              16450  \n",
       "vat                                                             Discount  \n",
       "km                                                                   100  \n",
       "prev_owner                                                           1.0  \n",
       "hp                                                             88.507458  \n",
       "Type                                                                 New  \n",
       "Warranty_months                                                      NaN  \n",
       "Body Color                                                       Colored  \n",
       "Upholstery                                                         Cloth  \n",
       "Nr. of Doors                                                         5.0  \n",
       "Nr. of Seats                                                         5.0  \n",
       "Gearing Type                                                   Automatic  \n",
       "Displacement_cc                                                   1398.0  \n",
       "Weight_kg                                                         1199.0  \n",
       "Fuel                                                             Benzine  \n",
       "Consumption_comb                                                     6.6  \n",
       "Gears                                                                6.0  \n",
       "Age                                                                  0.0  \n",
       "Comfort & Convenience  Air conditioning|Cruise control|Electrically h...  \n",
       "Entertainment & Media  Bluetooth|Hands-free equipment|MP3|On-board co...  \n",
       "Extras                           Alloy wheels|Touch screen|Voice Control  \n",
       "Safety & Security      ABS|Central door lock|Daytime running lights|D...  "
      ]
     },
     "execution_count": 38,
     "metadata": {},
     "output_type": "execute_result"
    }
   ],
   "source": [
    "df.sample(3).T"
   ]
  },
  {
   "cell_type": "markdown",
   "id": "eb453907",
   "metadata": {},
   "source": [
    "### Nr. of Doors"
   ]
  },
  {
   "cell_type": "code",
   "execution_count": 39,
   "id": "a29137e8",
   "metadata": {},
   "outputs": [
    {
     "name": "stdout",
     "output_type": "stream",
     "text": [
      "Column name  :  Nr. of Doors\n",
      "-----------------------------\n",
      "Number of nulls  :  212\n",
      "% of nulls       :  1.33%\n",
      "Number of uniques:  6\n",
      "-----------------------------\n",
      "Value Counts\n",
      "\n",
      "5.0    11574\n",
      "4.0     3079\n",
      "3.0      832\n",
      "2.0      219\n",
      "NaN      212\n",
      "1.0        1\n",
      "7.0        1\n",
      "Name: Nr. of Doors, dtype: int64\n"
     ]
    }
   ],
   "source": [
    "infos(df, \"Nr. of Doors\")"
   ]
  },
  {
   "cell_type": "code",
   "execution_count": 40,
   "id": "92cddd46",
   "metadata": {},
   "outputs": [],
   "source": [
    "df[\"Nr. of Doors\"].replace(1,np.nan, inplace=True)\n",
    "df[\"Nr. of Doors\"].replace(7,np.nan, inplace=True)"
   ]
  },
  {
   "cell_type": "code",
   "execution_count": 41,
   "id": "e332e18b",
   "metadata": {},
   "outputs": [
    {
     "name": "stdout",
     "output_type": "stream",
     "text": [
      "Column name  :  Nr. of Doors\n",
      "-----------------------------\n",
      "Number of nulls  :  214\n",
      "% of nulls       :  1.34%\n",
      "Number of uniques:  4\n",
      "-----------------------------\n",
      "Value Counts\n",
      "\n",
      "5.0    11574\n",
      "4.0     3079\n",
      "3.0      832\n",
      "2.0      219\n",
      "NaN      214\n",
      "Name: Nr. of Doors, dtype: int64\n"
     ]
    }
   ],
   "source": [
    "infos(df, \"Nr. of Doors\")"
   ]
  },
  {
   "cell_type": "code",
   "execution_count": 42,
   "id": "624ec228",
   "metadata": {},
   "outputs": [
    {
     "name": "stdout",
     "output_type": "stream",
     "text": [
      "Number of NaN : 0\n",
      "---------------------\n",
      "5.0    11787\n",
      "4.0     3079\n",
      "3.0      833\n",
      "2.0      219\n",
      "Name: Nr. of Doors, dtype: int64\n"
     ]
    }
   ],
   "source": [
    "fill_mode(df, \"body_type\", \"Nr. of Doors\")"
   ]
  },
  {
   "cell_type": "markdown",
   "id": "70872f57",
   "metadata": {},
   "source": [
    "### \"Nr. of Seats\""
   ]
  },
  {
   "cell_type": "code",
   "execution_count": 43,
   "id": "2ccae835",
   "metadata": {},
   "outputs": [
    {
     "name": "stdout",
     "output_type": "stream",
     "text": [
      "Column name  :  Nr. of Seats\n",
      "-----------------------------\n",
      "Number of nulls  :  977\n",
      "% of nulls       :  6.14%\n",
      "Number of uniques:  6\n",
      "-----------------------------\n",
      "Value Counts\n",
      "\n",
      "5.0    13335\n",
      "4.0     1125\n",
      "NaN      977\n",
      "7.0      362\n",
      "2.0      116\n",
      "6.0        2\n",
      "3.0        1\n",
      "Name: Nr. of Seats, dtype: int64\n"
     ]
    }
   ],
   "source": [
    "infos(df, \"Nr. of Seats\")"
   ]
  },
  {
   "cell_type": "code",
   "execution_count": 44,
   "id": "21f782bd",
   "metadata": {},
   "outputs": [
    {
     "name": "stdout",
     "output_type": "stream",
     "text": [
      "Column name  :  Nr. of Seats\n",
      "-----------------------------\n",
      "Number of nulls  :  980\n",
      "% of nulls       :  6.16%\n",
      "Number of uniques:  4\n",
      "-----------------------------\n",
      "Value Counts\n",
      "\n",
      "5.0    13335\n",
      "4.0     1125\n",
      "NaN      980\n",
      "7.0      362\n",
      "2.0      116\n",
      "Name: Nr. of Seats, dtype: int64\n"
     ]
    }
   ],
   "source": [
    "df[\"Nr. of Seats\"].replace(6,np.nan, inplace=True)\n",
    "df[\"Nr. of Seats\"].replace(3,np.nan, inplace=True)\n",
    "infos(df, \"Nr. of Seats\")"
   ]
  },
  {
   "cell_type": "code",
   "execution_count": 45,
   "id": "c993f6ec",
   "metadata": {},
   "outputs": [
    {
     "name": "stdout",
     "output_type": "stream",
     "text": [
      "Number of NaN : 0\n",
      "---------------------\n",
      "5.0    14314\n",
      "4.0     1126\n",
      "7.0      362\n",
      "2.0      116\n",
      "Name: Nr. of Seats, dtype: int64\n"
     ]
    }
   ],
   "source": [
    "fill_mode(df, \"body_type\", \"Nr. of Seats\")"
   ]
  },
  {
   "cell_type": "code",
   "execution_count": 46,
   "id": "ca50193c",
   "metadata": {},
   "outputs": [
    {
     "data": {
      "text/plain": [
       "make_model                   0\n",
       "body_type                    0\n",
       "price                        0\n",
       "vat                          0\n",
       "km                           0\n",
       "prev_owner                6828\n",
       "hp                          88\n",
       "Type                         0\n",
       "Warranty_months          11065\n",
       "Body Color                   0\n",
       "Upholstery                   0\n",
       "Nr. of Doors                 0\n",
       "Nr. of Seats                 0\n",
       "Gearing Type                 0\n",
       "Displacement_cc            496\n",
       "Weight_kg                 6973\n",
       "Fuel                         0\n",
       "Consumption_comb          2775\n",
       "Gears                     4711\n",
       "Age                          0\n",
       "Comfort & Convenience        0\n",
       "Entertainment & Media        0\n",
       "Extras                       0\n",
       "Safety & Security            0\n",
       "dtype: int64"
      ]
     },
     "execution_count": 46,
     "metadata": {},
     "output_type": "execute_result"
    }
   ],
   "source": [
    "df.isna().sum()"
   ]
  },
  {
   "cell_type": "markdown",
   "id": "c03ed245",
   "metadata": {},
   "source": [
    "### Gears "
   ]
  },
  {
   "cell_type": "code",
   "execution_count": 47,
   "id": "f9bde23f",
   "metadata": {},
   "outputs": [
    {
     "name": "stdout",
     "output_type": "stream",
     "text": [
      "Column name  :  Gears\n",
      "-----------------------------\n",
      "Number of nulls  :  4711\n",
      "% of nulls       :  29.6%\n",
      "Number of uniques:  10\n",
      "-----------------------------\n",
      "Value Counts\n",
      "\n",
      "6.0     5822\n",
      "NaN     4711\n",
      "5.0     3239\n",
      "7.0     1908\n",
      "8.0      224\n",
      "9.0        6\n",
      "1.0        2\n",
      "3.0        2\n",
      "4.0        2\n",
      "2.0        1\n",
      "50.0       1\n",
      "Name: Gears, dtype: int64\n"
     ]
    }
   ],
   "source": [
    "infos(df, \"Gears\")"
   ]
  },
  {
   "cell_type": "code",
   "execution_count": 48,
   "id": "705aa55d",
   "metadata": {},
   "outputs": [
    {
     "name": "stdout",
     "output_type": "stream",
     "text": [
      "Column name  :  Gears\n",
      "-----------------------------\n",
      "Number of nulls  :  4725\n",
      "% of nulls       :  29.68%\n",
      "Number of uniques:  4\n",
      "-----------------------------\n",
      "Value Counts\n",
      "\n",
      "6.0    5822\n",
      "NaN    4725\n",
      "5.0    3239\n",
      "7.0    1908\n",
      "8.0     224\n",
      "Name: Gears, dtype: int64\n"
     ]
    }
   ],
   "source": [
    "df.loc[(df[\"Gears\"]<5)|(df[\"Gears\"]>8), \"Gears\"] = np.nan\n",
    "infos(df, \"Gears\")"
   ]
  },
  {
   "cell_type": "code",
   "execution_count": 49,
   "id": "471e9a2e",
   "metadata": {},
   "outputs": [
    {
     "name": "stdout",
     "output_type": "stream",
     "text": [
      "Number of NaN :  0\n",
      "------------------\n",
      "6.0    8419\n",
      "5.0    5367\n",
      "7.0    1908\n",
      "8.0     224\n",
      "Name: Gears, dtype: int64\n"
     ]
    }
   ],
   "source": [
    "fill_mode2(df, \"make_model\", \"body_type\", \"Gears\")"
   ]
  },
  {
   "cell_type": "code",
   "execution_count": 50,
   "id": "414bd24e",
   "metadata": {},
   "outputs": [
    {
     "data": {
      "text/plain": [
       "make_model                   0\n",
       "body_type                    0\n",
       "price                        0\n",
       "vat                          0\n",
       "km                           0\n",
       "prev_owner                6828\n",
       "hp                          88\n",
       "Type                         0\n",
       "Warranty_months          11065\n",
       "Body Color                   0\n",
       "Upholstery                   0\n",
       "Nr. of Doors                 0\n",
       "Nr. of Seats                 0\n",
       "Gearing Type                 0\n",
       "Displacement_cc            496\n",
       "Weight_kg                 6973\n",
       "Fuel                         0\n",
       "Consumption_comb          2775\n",
       "Gears                        0\n",
       "Age                          0\n",
       "Comfort & Convenience        0\n",
       "Entertainment & Media        0\n",
       "Extras                       0\n",
       "Safety & Security            0\n",
       "dtype: int64"
      ]
     },
     "execution_count": 50,
     "metadata": {},
     "output_type": "execute_result"
    }
   ],
   "source": [
    "df.isna().sum()"
   ]
  },
  {
   "cell_type": "markdown",
   "id": "996e11ca",
   "metadata": {},
   "source": [
    "### Weight_kg "
   ]
  },
  {
   "cell_type": "code",
   "execution_count": 51,
   "id": "191db096",
   "metadata": {},
   "outputs": [
    {
     "name": "stdout",
     "output_type": "stream",
     "text": [
      "Column name  :  Weight_kg\n",
      "-----------------------------\n",
      "Number of nulls  :  6973\n",
      "% of nulls       :  43.81%\n",
      "Number of uniques:  434\n",
      "-----------------------------\n",
      "Value Counts\n",
      "\n",
      "NaN       6973\n",
      "1163.0     574\n",
      "1360.0     356\n",
      "1165.0     301\n",
      "1335.0     242\n",
      "          ... \n",
      "1960.0       1\n",
      "1258.0       1\n",
      "1167.0       1\n",
      "1331.0       1\n",
      "2037.0       1\n",
      "Name: Weight_kg, Length: 435, dtype: int64\n"
     ]
    }
   ],
   "source": [
    "infos(df, \"Weight_kg\")"
   ]
  },
  {
   "cell_type": "code",
   "execution_count": 52,
   "id": "d86224ab",
   "metadata": {},
   "outputs": [
    {
     "data": {
      "text/plain": [
       "count    8945.000000\n",
       "mean     1351.106540\n",
       "std       220.661532\n",
       "min         1.000000\n",
       "25%      1165.000000\n",
       "50%      1288.000000\n",
       "75%      1487.000000\n",
       "max      2471.000000\n",
       "Name: Weight_kg, dtype: float64"
      ]
     },
     "execution_count": 52,
     "metadata": {},
     "output_type": "execute_result"
    }
   ],
   "source": [
    "df[\"Weight_kg\"].describe()"
   ]
  },
  {
   "cell_type": "code",
   "execution_count": 53,
   "id": "aae73862",
   "metadata": {},
   "outputs": [
    {
     "data": {
      "text/plain": [
       "8354       1.0\n",
       "12778      1.0\n",
       "1143     102.0\n",
       "8856     840.0\n",
       "14312    900.0\n",
       "13512    977.0\n",
       "13554    977.0\n",
       "14478    980.0\n",
       "14653    980.0\n",
       "13608    980.0\n",
       "Name: Weight_kg, dtype: float64"
      ]
     },
     "execution_count": 53,
     "metadata": {},
     "output_type": "execute_result"
    }
   ],
   "source": [
    "df[\"Weight_kg\"].sort_values().head(10)"
   ]
  },
  {
   "cell_type": "code",
   "execution_count": 54,
   "id": "3c681361",
   "metadata": {},
   "outputs": [
    {
     "data": {
      "text/plain": [
       "count    8942.000000\n",
       "mean     1351.548200\n",
       "std       219.375045\n",
       "min       840.000000\n",
       "25%      1166.000000\n",
       "50%      1288.000000\n",
       "75%      1487.000000\n",
       "max      2471.000000\n",
       "Name: Weight_kg, dtype: float64"
      ]
     },
     "execution_count": 54,
     "metadata": {},
     "output_type": "execute_result"
    }
   ],
   "source": [
    "df.loc[df[\"Weight_kg\"]<800, \"Weight_kg\"] = np.nan\n",
    "df[\"Weight_kg\"].describe()"
   ]
  },
  {
   "cell_type": "code",
   "execution_count": 55,
   "id": "2bf176ea",
   "metadata": {},
   "outputs": [
    {
     "name": "stdout",
     "output_type": "stream",
     "text": [
      "Number of NaN :  0\n",
      "------------------\n",
      "1395.477301    991\n",
      "1624.584882    855\n",
      "1175.411263    733\n",
      "1397.233846    635\n",
      "1259.453175    622\n",
      "              ... \n",
      "2295.000000      1\n",
      "1668.000000      1\n",
      "1428.000000      1\n",
      "2110.000000      1\n",
      "2037.000000      1\n",
      "Name: Weight_kg, Length: 460, dtype: int64\n"
     ]
    }
   ],
   "source": [
    "fill_mean(df, \"make_model\", \"body_type\", \"Weight_kg\")"
   ]
  },
  {
   "cell_type": "markdown",
   "id": "7d2e49fb",
   "metadata": {},
   "source": [
    "###  Displacement_cc"
   ]
  },
  {
   "cell_type": "code",
   "execution_count": 56,
   "id": "4ea2d65b",
   "metadata": {
    "scrolled": true
   },
   "outputs": [
    {
     "name": "stdout",
     "output_type": "stream",
     "text": [
      "Column name  :  Displacement_cc\n",
      "-----------------------------\n",
      "Number of nulls  :  496\n",
      "% of nulls       :  3.12%\n",
      "Number of uniques:  77\n",
      "-----------------------------\n",
      "Value Counts\n",
      "\n",
      "1598.0    4760\n",
      "999.0     2438\n",
      "1398.0    1314\n",
      "1399.0     749\n",
      "1229.0     677\n",
      "          ... \n",
      "122.0        1\n",
      "1198.0       1\n",
      "1195.0       1\n",
      "2967.0       1\n",
      "1800.0       1\n",
      "Name: Displacement_cc, Length: 78, dtype: int64\n"
     ]
    }
   ],
   "source": [
    "infos(df, \"Displacement_cc\")"
   ]
  },
  {
   "cell_type": "code",
   "execution_count": 57,
   "id": "2b6b23fa",
   "metadata": {},
   "outputs": [
    {
     "data": {
      "text/plain": [
       "count    15422.000000\n",
       "mean      1423.529568\n",
       "std        333.538513\n",
       "min          1.000000\n",
       "25%       1229.000000\n",
       "50%       1461.000000\n",
       "75%       1598.000000\n",
       "max      16000.000000\n",
       "Name: Displacement_cc, dtype: float64"
      ]
     },
     "execution_count": 57,
     "metadata": {},
     "output_type": "execute_result"
    }
   ],
   "source": [
    "df[\"Displacement_cc\"].describe()"
   ]
  },
  {
   "cell_type": "code",
   "execution_count": 58,
   "id": "720fa4a6",
   "metadata": {},
   "outputs": [
    {
     "data": {
      "text/plain": [
       "13903      1.0\n",
       "12834      1.0\n",
       "14313      1.0\n",
       "14314      1.0\n",
       "14318      1.0\n",
       "14319      1.0\n",
       "14320      1.0\n",
       "14321      1.0\n",
       "14323      1.0\n",
       "14324      1.0\n",
       "14325      1.0\n",
       "14326      1.0\n",
       "14283      1.0\n",
       "14327      1.0\n",
       "12822      1.0\n",
       "12767      1.0\n",
       "12768      1.0\n",
       "12814      1.0\n",
       "12780      1.0\n",
       "12782      1.0\n",
       "12785      1.0\n",
       "12669      1.0\n",
       "12789      1.0\n",
       "12799      1.0\n",
       "12797      1.0\n",
       "12749      1.0\n",
       "12847      1.0\n",
       "12795      1.0\n",
       "12466      1.0\n",
       "12500      1.0\n",
       "12603      1.0\n",
       "12553      1.0\n",
       "12498      1.0\n",
       "12472      1.0\n",
       "12483      1.0\n",
       "12848      1.0\n",
       "14197      2.0\n",
       "10558      2.0\n",
       "13911     54.0\n",
       "10193    122.0\n",
       "7811     139.0\n",
       "7810     139.0\n",
       "7809     139.0\n",
       "7808     139.0\n",
       "8127     140.0\n",
       "15576    160.0\n",
       "15578    160.0\n",
       "15574    160.0\n",
       "15573    160.0\n",
       "15577    160.0\n",
       "15575    160.0\n",
       "13652    890.0\n",
       "14539    898.0\n",
       "14537    898.0\n",
       "14535    898.0\n",
       "13786    898.0\n",
       "14551    898.0\n",
       "14552    898.0\n",
       "14534    898.0\n",
       "13442    898.0\n",
       "Name: Displacement_cc, dtype: float64"
      ]
     },
     "execution_count": 58,
     "metadata": {},
     "output_type": "execute_result"
    }
   ],
   "source": [
    "df[\"Displacement_cc\"].sort_values().head(60)"
   ]
  },
  {
   "cell_type": "code",
   "execution_count": 59,
   "id": "a2513475",
   "metadata": {},
   "outputs": [
    {
     "data": {
      "text/plain": [
       "count    15370.000000\n",
       "mean      1428.165973\n",
       "std        324.328817\n",
       "min        898.000000\n",
       "25%       1229.000000\n",
       "50%       1461.000000\n",
       "75%       1598.000000\n",
       "max      16000.000000\n",
       "Name: Displacement_cc, dtype: float64"
      ]
     },
     "execution_count": 59,
     "metadata": {},
     "output_type": "execute_result"
    }
   ],
   "source": [
    "df.loc[df[\"Displacement_cc\"]<898, \"Displacement_cc\"] = np.nan\n",
    "df[\"Displacement_cc\"].describe()"
   ]
  },
  {
   "cell_type": "code",
   "execution_count": 60,
   "id": "9d00e77a",
   "metadata": {},
   "outputs": [
    {
     "name": "stdout",
     "output_type": "stream",
     "text": [
      "Number of NaN :  0\n",
      "------------------\n",
      "1598.0     4760\n",
      "999.0      2438\n",
      "1398.0     1314\n",
      "1399.0      749\n",
      "1229.0      677\n",
      "           ... \n",
      "1195.0        1\n",
      "2967.0        1\n",
      "1856.0        1\n",
      "16000.0       1\n",
      "1800.0        1\n",
      "Name: Displacement_cc, Length: 94, dtype: int64\n"
     ]
    }
   ],
   "source": [
    "fill_mean(df, \"make_model\", \"body_type\", \"Displacement_cc\")"
   ]
  },
  {
   "cell_type": "code",
   "execution_count": 61,
   "id": "c2018999",
   "metadata": {},
   "outputs": [
    {
     "data": {
      "text/plain": [
       "make_model                   0\n",
       "body_type                    0\n",
       "price                        0\n",
       "vat                          0\n",
       "km                           0\n",
       "prev_owner                6828\n",
       "hp                          88\n",
       "Type                         0\n",
       "Warranty_months          11065\n",
       "Body Color                   0\n",
       "Upholstery                   0\n",
       "Nr. of Doors                 0\n",
       "Nr. of Seats                 0\n",
       "Gearing Type                 0\n",
       "Displacement_cc              0\n",
       "Weight_kg                    0\n",
       "Fuel                         0\n",
       "Consumption_comb          2775\n",
       "Gears                        0\n",
       "Age                          0\n",
       "Comfort & Convenience        0\n",
       "Entertainment & Media        0\n",
       "Extras                       0\n",
       "Safety & Security            0\n",
       "dtype: int64"
      ]
     },
     "execution_count": 61,
     "metadata": {},
     "output_type": "execute_result"
    }
   ],
   "source": [
    "df.isna().sum()"
   ]
  },
  {
   "cell_type": "markdown",
   "id": "8023e687",
   "metadata": {},
   "source": [
    "### hp "
   ]
  },
  {
   "cell_type": "code",
   "execution_count": 62,
   "id": "c78f8718",
   "metadata": {},
   "outputs": [
    {
     "name": "stdout",
     "output_type": "stream",
     "text": [
      "Column name  :  hp\n",
      "-----------------------------\n",
      "Number of nulls  :  88\n",
      "% of nulls       :  0.55%\n",
      "Number of uniques:  80\n",
      "-----------------------------\n",
      "Value Counts\n",
      "\n",
      "113.986878    2541\n",
      "88.507458     2122\n",
      "108.622789    1402\n",
      "134.102209    1308\n",
      "147.512430    1112\n",
      "              ... \n",
      "112.645856       1\n",
      "261.499308       1\n",
      "59.004972        1\n",
      "320.504280       1\n",
      "12.069199        1\n",
      "Name: hp, Length: 81, dtype: int64\n"
     ]
    }
   ],
   "source": [
    "infos(df, \"hp\")"
   ]
  },
  {
   "cell_type": "code",
   "execution_count": 63,
   "id": "0632cf94",
   "metadata": {},
   "outputs": [
    {
     "data": {
      "text/plain": [
       "count    15830.000000\n",
       "mean       118.503318\n",
       "std         35.987628\n",
       "min          1.341022\n",
       "25%         88.507458\n",
       "50%        113.986878\n",
       "75%        135.443231\n",
       "max        394.260494\n",
       "Name: hp, dtype: float64"
      ]
     },
     "execution_count": 63,
     "metadata": {},
     "output_type": "execute_result"
    }
   ],
   "source": [
    "df[\"hp\"].describe()"
   ]
  },
  {
   "cell_type": "code",
   "execution_count": 64,
   "id": "97222274",
   "metadata": {},
   "outputs": [
    {
     "data": {
      "text/plain": [
       "9284      1.341022\n",
       "10578     1.341022\n",
       "10467     1.341022\n",
       "9288      1.341022\n",
       "9287      1.341022\n",
       "7018      1.341022\n",
       "7017      1.341022\n",
       "7015      1.341022\n",
       "7013      1.341022\n",
       "6945      1.341022\n",
       "9289      1.341022\n",
       "6004      1.341022\n",
       "9291      1.341022\n",
       "6033      1.341022\n",
       "9286      1.341022\n",
       "9298      1.341022\n",
       "15154     1.341022\n",
       "15155     1.341022\n",
       "10579     1.341022\n",
       "10609     1.341022\n",
       "13884     5.364088\n",
       "3912     12.069199\n",
       "13758    53.640884\n",
       "8856     53.640884\n",
       "8407     59.004972\n",
       "9740     68.392127\n",
       "8692     68.392127\n",
       "8693     68.392127\n",
       "8714     68.392127\n",
       "8694     68.392127\n",
       "Name: hp, dtype: float64"
      ]
     },
     "execution_count": 64,
     "metadata": {},
     "output_type": "execute_result"
    }
   ],
   "source": [
    "df[\"hp\"].sort_values().head(30)"
   ]
  },
  {
   "cell_type": "code",
   "execution_count": 65,
   "id": "ebf76a73",
   "metadata": {},
   "outputs": [
    {
     "data": {
      "text/plain": [
       "count    15808.000000\n",
       "mean       118.665440\n",
       "std         35.748998\n",
       "min         53.640884\n",
       "25%         88.507458\n",
       "50%        113.986878\n",
       "75%        135.443231\n",
       "max        394.260494\n",
       "Name: hp, dtype: float64"
      ]
     },
     "execution_count": 65,
     "metadata": {},
     "output_type": "execute_result"
    }
   ],
   "source": [
    "df.loc[df[\"hp\"]<50, \"hp\"] = np.nan\n",
    "df[\"hp\"].describe()"
   ]
  },
  {
   "cell_type": "code",
   "execution_count": 66,
   "id": "9c8fab36",
   "metadata": {},
   "outputs": [
    {
     "name": "stdout",
     "output_type": "stream",
     "text": [
      "Number of NaN :  0\n",
      "------------------\n",
      "113.986878    2541\n",
      "88.507458     2122\n",
      "108.622789    1402\n",
      "134.102209    1308\n",
      "147.512430    1112\n",
      "              ... \n",
      "100.576657       1\n",
      "83.088426        1\n",
      "164.945717       1\n",
      "320.504280       1\n",
      "59.004972        1\n",
      "Name: hp, Length: 93, dtype: int64\n"
     ]
    }
   ],
   "source": [
    "fill_mean(df, \"make_model\", \"body_type\", \"hp\")"
   ]
  },
  {
   "cell_type": "markdown",
   "id": "755af868",
   "metadata": {},
   "source": [
    "### Consumtion_comb "
   ]
  },
  {
   "cell_type": "code",
   "execution_count": 68,
   "id": "6a974f13",
   "metadata": {},
   "outputs": [
    {
     "name": "stdout",
     "output_type": "stream",
     "text": [
      "Column name  :  Consumption_comb\n",
      "-----------------------------\n",
      "Number of nulls  :  2775\n",
      "% of nulls       :  17.43%\n",
      "Number of uniques:  76\n",
      "-----------------------------\n",
      "Value Counts\n",
      "\n",
      "NaN      2775\n",
      "3.90      732\n",
      "4.00      712\n",
      "5.40      663\n",
      "5.10      630\n",
      "         ... \n",
      "4.55        1\n",
      "43.00       1\n",
      "9.10        1\n",
      "11.00       1\n",
      "7.50        1\n",
      "Name: Consumption_comb, Length: 77, dtype: int64\n"
     ]
    }
   ],
   "source": [
    "infos(df, \"Consumption_comb\")"
   ]
  },
  {
   "cell_type": "code",
   "execution_count": 69,
   "id": "d3a6d6ab",
   "metadata": {},
   "outputs": [
    {
     "data": {
      "text/plain": [
       "count    13143.000000\n",
       "mean         4.849330\n",
       "std          1.666756\n",
       "min          0.000000\n",
       "25%          4.000000\n",
       "50%          4.700000\n",
       "75%          5.400000\n",
       "max         55.000000\n",
       "Name: Consumption_comb, dtype: float64"
      ]
     },
     "execution_count": 69,
     "metadata": {},
     "output_type": "execute_result"
    }
   ],
   "source": [
    "df[\"Consumption_comb\"].describe()"
   ]
  },
  {
   "cell_type": "code",
   "execution_count": 70,
   "id": "f445451b",
   "metadata": {},
   "outputs": [
    {
     "data": {
      "text/plain": [
       "8216     0.0\n",
       "10565    0.0\n",
       "14901    1.0\n",
       "13677    1.2\n",
       "2619     3.0\n",
       "11003    3.0\n",
       "10959    3.0\n",
       "10917    3.0\n",
       "8730     3.0\n",
       "8761     3.0\n",
       "53       3.0\n",
       "6745     3.0\n",
       "6439     3.0\n",
       "8804     3.0\n",
       "13146    3.0\n",
       "8821     3.0\n",
       "1025     3.0\n",
       "6403     3.0\n",
       "10739    3.0\n",
       "11014    3.0\n",
       "Name: Consumption_comb, dtype: float64"
      ]
     },
     "execution_count": 70,
     "metadata": {},
     "output_type": "execute_result"
    }
   ],
   "source": [
    "df[\"Consumption_comb\"].sort_values().head(20)"
   ]
  },
  {
   "cell_type": "code",
   "execution_count": 71,
   "id": "a6ec5cac",
   "metadata": {},
   "outputs": [
    {
     "data": {
      "text/plain": [
       "11953    55.0\n",
       "13178    54.0\n",
       "2196     51.0\n",
       "2237     51.0\n",
       "2210     51.0\n",
       "2194     51.0\n",
       "14583    50.0\n",
       "15066    46.0\n",
       "500      43.0\n",
       "4088     40.0\n",
       "4101     40.0\n",
       "4557     38.0\n",
       "4555     38.0\n",
       "14529    33.0\n",
       "14130    32.0\n",
       "535      13.8\n",
       "10512    11.0\n",
       "14897    10.0\n",
       "14896    10.0\n",
       "14914    10.0\n",
       "Name: Consumption_comb, dtype: float64"
      ]
     },
     "execution_count": 71,
     "metadata": {},
     "output_type": "execute_result"
    }
   ],
   "source": [
    "df[\"Consumption_comb\"].sort_values(ascending=False).head(20)"
   ]
  },
  {
   "cell_type": "code",
   "execution_count": 72,
   "id": "5dab22ea",
   "metadata": {},
   "outputs": [
    {
     "data": {
      "text/plain": [
       "count    13124.000000\n",
       "mean         4.804903\n",
       "std          0.939043\n",
       "min          3.000000\n",
       "25%          4.000000\n",
       "50%          4.700000\n",
       "75%          5.400000\n",
       "max         13.800000\n",
       "Name: Consumption_comb, dtype: float64"
      ]
     },
     "execution_count": 72,
     "metadata": {},
     "output_type": "execute_result"
    }
   ],
   "source": [
    "df.loc[df[\"Consumption_comb\"]<3, \"Consumption_comb\"] = np.nan\n",
    "df.loc[df[\"Consumption_comb\"]>14, \"Consumption_comb\"] = np.nan\n",
    "df[\"Consumption_comb\"].describe()"
   ]
  },
  {
   "cell_type": "code",
   "execution_count": 73,
   "id": "cecb52bc",
   "metadata": {},
   "outputs": [
    {
     "name": "stdout",
     "output_type": "stream",
     "text": [
      "Number of NaN :  0\n",
      "------------------\n",
      "3.900     732\n",
      "4.000     712\n",
      "5.400     663\n",
      "5.100     630\n",
      "4.400     595\n",
      "         ... \n",
      "4.345       1\n",
      "13.800      1\n",
      "9.100       1\n",
      "11.000      1\n",
      "7.500       1\n",
      "Name: Consumption_comb, Length: 88, dtype: int64\n"
     ]
    }
   ],
   "source": [
    "fill_mean(df, \"make_model\", \"body_type\", \"Consumption_comb\")"
   ]
  },
  {
   "cell_type": "code",
   "execution_count": 74,
   "id": "df80c6da",
   "metadata": {},
   "outputs": [
    {
     "data": {
      "text/plain": [
       "make_model                   0\n",
       "body_type                    0\n",
       "price                        0\n",
       "vat                          0\n",
       "km                           0\n",
       "prev_owner                6828\n",
       "hp                           0\n",
       "Type                         0\n",
       "Warranty_months          11065\n",
       "Body Color                   0\n",
       "Upholstery                   0\n",
       "Nr. of Doors                 0\n",
       "Nr. of Seats                 0\n",
       "Gearing Type                 0\n",
       "Displacement_cc              0\n",
       "Weight_kg                    0\n",
       "Fuel                         0\n",
       "Consumption_comb             0\n",
       "Gears                        0\n",
       "Age                          0\n",
       "Comfort & Convenience        0\n",
       "Entertainment & Media        0\n",
       "Extras                       0\n",
       "Safety & Security            0\n",
       "dtype: int64"
      ]
     },
     "execution_count": 74,
     "metadata": {},
     "output_type": "execute_result"
    }
   ],
   "source": [
    "df.isna().sum()"
   ]
  },
  {
   "cell_type": "markdown",
   "id": "b120ceff",
   "metadata": {},
   "source": [
    "### Warranty_months "
   ]
  },
  {
   "cell_type": "code",
   "execution_count": 75,
   "id": "b864dabd",
   "metadata": {},
   "outputs": [
    {
     "name": "stdout",
     "output_type": "stream",
     "text": [
      "Column name  :  Warranty_months\n",
      "-----------------------------\n",
      "Number of nulls  :  11065\n",
      "% of nulls       :  69.51%\n",
      "Number of uniques:  41\n",
      "-----------------------------\n",
      "Value Counts\n",
      "\n",
      "NaN     11065\n",
      "12.0     2594\n",
      "24.0     1118\n",
      "60.0      401\n",
      "36.0      279\n",
      "48.0      149\n",
      "6.0       125\n",
      "72.0       59\n",
      "3.0        33\n",
      "23.0       11\n",
      "18.0       10\n",
      "20.0        7\n",
      "25.0        6\n",
      "2.0         5\n",
      "50.0        4\n",
      "26.0        4\n",
      "16.0        4\n",
      "4.0         3\n",
      "1.0         3\n",
      "19.0        3\n",
      "34.0        3\n",
      "13.0        3\n",
      "28.0        2\n",
      "22.0        2\n",
      "14.0        2\n",
      "11.0        2\n",
      "46.0        2\n",
      "21.0        2\n",
      "9.0         2\n",
      "17.0        2\n",
      "45.0        2\n",
      "33.0        1\n",
      "40.0        1\n",
      "65.0        1\n",
      "10.0        1\n",
      "15.0        1\n",
      "7.0         1\n",
      "8.0         1\n",
      "56.0        1\n",
      "49.0        1\n",
      "47.0        1\n",
      "30.0        1\n",
      "Name: Warranty_months, dtype: int64\n"
     ]
    }
   ],
   "source": [
    "infos(df, \"Warranty_months\")"
   ]
  },
  {
   "cell_type": "code",
   "execution_count": 76,
   "id": "af2a70a1",
   "metadata": {},
   "outputs": [],
   "source": [
    "df.drop(\"Warranty_months\", axis=1, inplace=True)"
   ]
  },
  {
   "cell_type": "code",
   "execution_count": 77,
   "id": "4386183f",
   "metadata": {},
   "outputs": [
    {
     "data": {
      "text/html": [
       "<div>\n",
       "<style scoped>\n",
       "    .dataframe tbody tr th:only-of-type {\n",
       "        vertical-align: middle;\n",
       "    }\n",
       "\n",
       "    .dataframe tbody tr th {\n",
       "        vertical-align: top;\n",
       "    }\n",
       "\n",
       "    .dataframe thead th {\n",
       "        text-align: right;\n",
       "    }\n",
       "</style>\n",
       "<table border=\"1\" class=\"dataframe\">\n",
       "  <thead>\n",
       "    <tr style=\"text-align: right;\">\n",
       "      <th></th>\n",
       "      <th>1665</th>\n",
       "      <th>5379</th>\n",
       "      <th>15032</th>\n",
       "    </tr>\n",
       "  </thead>\n",
       "  <tbody>\n",
       "    <tr>\n",
       "      <th>make_model</th>\n",
       "      <td>Audi A1</td>\n",
       "      <td>Audi A3</td>\n",
       "      <td>Renault Espace</td>\n",
       "    </tr>\n",
       "    <tr>\n",
       "      <th>body_type</th>\n",
       "      <td>Sedans</td>\n",
       "      <td>Sedans</td>\n",
       "      <td>Van</td>\n",
       "    </tr>\n",
       "    <tr>\n",
       "      <th>price</th>\n",
       "      <td>21900</td>\n",
       "      <td>24500</td>\n",
       "      <td>24999</td>\n",
       "    </tr>\n",
       "    <tr>\n",
       "      <th>vat</th>\n",
       "      <td>Discount</td>\n",
       "      <td>Discount</td>\n",
       "      <td>Discount</td>\n",
       "    </tr>\n",
       "    <tr>\n",
       "      <th>km</th>\n",
       "      <td>28</td>\n",
       "      <td>0</td>\n",
       "      <td>5600</td>\n",
       "    </tr>\n",
       "    <tr>\n",
       "      <th>prev_owner</th>\n",
       "      <td>1.0</td>\n",
       "      <td>NaN</td>\n",
       "      <td>2.0</td>\n",
       "    </tr>\n",
       "    <tr>\n",
       "      <th>hp</th>\n",
       "      <td>88.507458</td>\n",
       "      <td>113.986878</td>\n",
       "      <td>158.240607</td>\n",
       "    </tr>\n",
       "    <tr>\n",
       "      <th>Type</th>\n",
       "      <td>New</td>\n",
       "      <td>New</td>\n",
       "      <td>Used</td>\n",
       "    </tr>\n",
       "    <tr>\n",
       "      <th>Body Color</th>\n",
       "      <td>Colored</td>\n",
       "      <td>Colored</td>\n",
       "      <td>Colored</td>\n",
       "    </tr>\n",
       "    <tr>\n",
       "      <th>Upholstery</th>\n",
       "      <td>Cloth</td>\n",
       "      <td>Cloth</td>\n",
       "      <td>Cloth</td>\n",
       "    </tr>\n",
       "    <tr>\n",
       "      <th>Nr. of Doors</th>\n",
       "      <td>5.0</td>\n",
       "      <td>5.0</td>\n",
       "      <td>5.0</td>\n",
       "    </tr>\n",
       "    <tr>\n",
       "      <th>Nr. of Seats</th>\n",
       "      <td>5.0</td>\n",
       "      <td>5.0</td>\n",
       "      <td>5.0</td>\n",
       "    </tr>\n",
       "    <tr>\n",
       "      <th>Gearing Type</th>\n",
       "      <td>Automatic</td>\n",
       "      <td>Manual</td>\n",
       "      <td>Automatic</td>\n",
       "    </tr>\n",
       "    <tr>\n",
       "      <th>Displacement_cc</th>\n",
       "      <td>1422.0</td>\n",
       "      <td>1598.0</td>\n",
       "      <td>1598.0</td>\n",
       "    </tr>\n",
       "    <tr>\n",
       "      <th>Weight_kg</th>\n",
       "      <td>1220.0</td>\n",
       "      <td>1335.0</td>\n",
       "      <td>1734.0</td>\n",
       "    </tr>\n",
       "    <tr>\n",
       "      <th>Fuel</th>\n",
       "      <td>Diesel</td>\n",
       "      <td>Diesel</td>\n",
       "      <td>Diesel</td>\n",
       "    </tr>\n",
       "    <tr>\n",
       "      <th>Consumption_comb</th>\n",
       "      <td>4.0</td>\n",
       "      <td>4.4</td>\n",
       "      <td>4.7</td>\n",
       "    </tr>\n",
       "    <tr>\n",
       "      <th>Gears</th>\n",
       "      <td>7.0</td>\n",
       "      <td>6.0</td>\n",
       "      <td>6.0</td>\n",
       "    </tr>\n",
       "    <tr>\n",
       "      <th>Age</th>\n",
       "      <td>1.0</td>\n",
       "      <td>0.0</td>\n",
       "      <td>2.0</td>\n",
       "    </tr>\n",
       "    <tr>\n",
       "      <th>Comfort &amp; Convenience</th>\n",
       "      <td>Air conditioning|Armrest|Automatic climate con...</td>\n",
       "      <td>Air conditioning|Cruise control|Multi-function...</td>\n",
       "      <td>Electrically adjustable seats|Electrical side ...</td>\n",
       "    </tr>\n",
       "    <tr>\n",
       "      <th>Entertainment &amp; Media</th>\n",
       "      <td>Bluetooth|CD player|Hands-free equipment|MP3|O...</td>\n",
       "      <td>Bluetooth|On-board computer|Radio</td>\n",
       "      <td>Bluetooth|Hands-free equipment|On-board comput...</td>\n",
       "    </tr>\n",
       "    <tr>\n",
       "      <th>Extras</th>\n",
       "      <td>Alloy wheels|Shift paddles|Sport package</td>\n",
       "      <td>Alloy wheels</td>\n",
       "      <td>Alloy wheels</td>\n",
       "    </tr>\n",
       "    <tr>\n",
       "      <th>Safety &amp; Security</th>\n",
       "      <td>ABS|Central door lock|Central door lock with r...</td>\n",
       "      <td>ABS|Central door lock|Driver-side airbag|Elect...</td>\n",
       "      <td>ABS|Daytime running lights|Driver-side airbag|...</td>\n",
       "    </tr>\n",
       "  </tbody>\n",
       "</table>\n",
       "</div>"
      ],
      "text/plain": [
       "                                                                   1665   \\\n",
       "make_model                                                       Audi A1   \n",
       "body_type                                                         Sedans   \n",
       "price                                                              21900   \n",
       "vat                                                             Discount   \n",
       "km                                                                    28   \n",
       "prev_owner                                                           1.0   \n",
       "hp                                                             88.507458   \n",
       "Type                                                                 New   \n",
       "Body Color                                                       Colored   \n",
       "Upholstery                                                         Cloth   \n",
       "Nr. of Doors                                                         5.0   \n",
       "Nr. of Seats                                                         5.0   \n",
       "Gearing Type                                                   Automatic   \n",
       "Displacement_cc                                                   1422.0   \n",
       "Weight_kg                                                         1220.0   \n",
       "Fuel                                                              Diesel   \n",
       "Consumption_comb                                                     4.0   \n",
       "Gears                                                                7.0   \n",
       "Age                                                                  1.0   \n",
       "Comfort & Convenience  Air conditioning|Armrest|Automatic climate con...   \n",
       "Entertainment & Media  Bluetooth|CD player|Hands-free equipment|MP3|O...   \n",
       "Extras                          Alloy wheels|Shift paddles|Sport package   \n",
       "Safety & Security      ABS|Central door lock|Central door lock with r...   \n",
       "\n",
       "                                                                   5379   \\\n",
       "make_model                                                       Audi A3   \n",
       "body_type                                                         Sedans   \n",
       "price                                                              24500   \n",
       "vat                                                             Discount   \n",
       "km                                                                     0   \n",
       "prev_owner                                                           NaN   \n",
       "hp                                                            113.986878   \n",
       "Type                                                                 New   \n",
       "Body Color                                                       Colored   \n",
       "Upholstery                                                         Cloth   \n",
       "Nr. of Doors                                                         5.0   \n",
       "Nr. of Seats                                                         5.0   \n",
       "Gearing Type                                                      Manual   \n",
       "Displacement_cc                                                   1598.0   \n",
       "Weight_kg                                                         1335.0   \n",
       "Fuel                                                              Diesel   \n",
       "Consumption_comb                                                     4.4   \n",
       "Gears                                                                6.0   \n",
       "Age                                                                  0.0   \n",
       "Comfort & Convenience  Air conditioning|Cruise control|Multi-function...   \n",
       "Entertainment & Media                  Bluetooth|On-board computer|Radio   \n",
       "Extras                                                      Alloy wheels   \n",
       "Safety & Security      ABS|Central door lock|Driver-side airbag|Elect...   \n",
       "\n",
       "                                                                   15032  \n",
       "make_model                                                Renault Espace  \n",
       "body_type                                                            Van  \n",
       "price                                                              24999  \n",
       "vat                                                             Discount  \n",
       "km                                                                  5600  \n",
       "prev_owner                                                           2.0  \n",
       "hp                                                            158.240607  \n",
       "Type                                                                Used  \n",
       "Body Color                                                       Colored  \n",
       "Upholstery                                                         Cloth  \n",
       "Nr. of Doors                                                         5.0  \n",
       "Nr. of Seats                                                         5.0  \n",
       "Gearing Type                                                   Automatic  \n",
       "Displacement_cc                                                   1598.0  \n",
       "Weight_kg                                                         1734.0  \n",
       "Fuel                                                              Diesel  \n",
       "Consumption_comb                                                     4.7  \n",
       "Gears                                                                6.0  \n",
       "Age                                                                  2.0  \n",
       "Comfort & Convenience  Electrically adjustable seats|Electrical side ...  \n",
       "Entertainment & Media  Bluetooth|Hands-free equipment|On-board comput...  \n",
       "Extras                                                      Alloy wheels  \n",
       "Safety & Security      ABS|Daytime running lights|Driver-side airbag|...  "
      ]
     },
     "execution_count": 77,
     "metadata": {},
     "output_type": "execute_result"
    }
   ],
   "source": [
    "df.sample(3).T"
   ]
  },
  {
   "cell_type": "markdown",
   "id": "efe6cf69",
   "metadata": {},
   "source": [
    "### prev_owner "
   ]
  },
  {
   "cell_type": "code",
   "execution_count": 79,
   "id": "8b423631",
   "metadata": {},
   "outputs": [
    {
     "name": "stdout",
     "output_type": "stream",
     "text": [
      "Column name  :  prev_owner\n",
      "-----------------------------\n",
      "Number of nulls  :  6828\n",
      "% of nulls       :  42.89%\n",
      "Number of uniques:  4\n",
      "-----------------------------\n",
      "Value Counts\n",
      "\n",
      "1.0    8293\n",
      "NaN    6828\n",
      "2.0     778\n",
      "3.0      17\n",
      "4.0       2\n",
      "Name: prev_owner, dtype: int64\n"
     ]
    }
   ],
   "source": [
    "infos(df, \"prev_owner\")"
   ]
  },
  {
   "cell_type": "code",
   "execution_count": 86,
   "id": "eb7aa0f8",
   "metadata": {},
   "outputs": [],
   "source": [
    "df.drop(\"prev_owner\", axis=1, inplace=True)"
   ]
  },
  {
   "cell_type": "markdown",
   "id": "182a4b21",
   "metadata": {},
   "source": [
    "## Final"
   ]
  },
  {
   "cell_type": "code",
   "execution_count": 87,
   "id": "ea118a15",
   "metadata": {},
   "outputs": [
    {
     "data": {
      "text/plain": [
       "(15918, 22)"
      ]
     },
     "execution_count": 87,
     "metadata": {},
     "output_type": "execute_result"
    }
   ],
   "source": [
    "df.shape"
   ]
  },
  {
   "cell_type": "code",
   "execution_count": 88,
   "id": "5b86c962",
   "metadata": {},
   "outputs": [
    {
     "name": "stdout",
     "output_type": "stream",
     "text": [
      "<class 'pandas.core.frame.DataFrame'>\n",
      "RangeIndex: 15918 entries, 0 to 15917\n",
      "Data columns (total 22 columns):\n",
      " #   Column                 Non-Null Count  Dtype  \n",
      "---  ------                 --------------  -----  \n",
      " 0   make_model             15918 non-null  object \n",
      " 1   body_type              15918 non-null  object \n",
      " 2   price                  15918 non-null  int64  \n",
      " 3   vat                    15918 non-null  object \n",
      " 4   km                     15918 non-null  int64  \n",
      " 5   hp                     15918 non-null  float64\n",
      " 6   Type                   15918 non-null  object \n",
      " 7   Body Color             15918 non-null  object \n",
      " 8   Upholstery             15918 non-null  object \n",
      " 9   Nr. of Doors           15918 non-null  float64\n",
      " 10  Nr. of Seats           15918 non-null  float64\n",
      " 11  Gearing Type           15918 non-null  object \n",
      " 12  Displacement_cc        15918 non-null  float64\n",
      " 13  Weight_kg              15918 non-null  float64\n",
      " 14  Fuel                   15918 non-null  object \n",
      " 15  Consumption_comb       15918 non-null  float64\n",
      " 16  Gears                  15918 non-null  float64\n",
      " 17  Age                    15918 non-null  float64\n",
      " 18  Comfort & Convenience  15918 non-null  object \n",
      " 19  Entertainment & Media  15918 non-null  object \n",
      " 20  Extras                 15918 non-null  object \n",
      " 21  Safety & Security      15918 non-null  object \n",
      "dtypes: float64(8), int64(2), object(12)\n",
      "memory usage: 2.7+ MB\n"
     ]
    }
   ],
   "source": [
    "df.info()"
   ]
  },
  {
   "cell_type": "code",
   "execution_count": 89,
   "id": "1fd47f8a",
   "metadata": {},
   "outputs": [],
   "source": [
    "df.to_csv(\"scout_car_filled.csv\", index=False)"
   ]
  },
  {
   "cell_type": "code",
   "execution_count": null,
   "id": "9905386d",
   "metadata": {},
   "outputs": [],
   "source": []
  }
 ],
 "metadata": {
  "kernelspec": {
   "display_name": "Python 3 (ipykernel)",
   "language": "python",
   "name": "python3"
  },
  "language_info": {
   "codemirror_mode": {
    "name": "ipython",
    "version": 3
   },
   "file_extension": ".py",
   "mimetype": "text/x-python",
   "name": "python",
   "nbconvert_exporter": "python",
   "pygments_lexer": "ipython3",
   "version": "3.9.7"
  },
  "toc": {
   "base_numbering": 1,
   "nav_menu": {},
   "number_sections": true,
   "sideBar": true,
   "skip_h1_title": false,
   "title_cell": "Table of Contents",
   "title_sidebar": "Contents",
   "toc_cell": false,
   "toc_position": {
    "height": "calc(100% - 180px)",
    "left": "10px",
    "top": "150px",
    "width": "288px"
   },
   "toc_section_display": true,
   "toc_window_display": true
  }
 },
 "nbformat": 4,
 "nbformat_minor": 5
}
