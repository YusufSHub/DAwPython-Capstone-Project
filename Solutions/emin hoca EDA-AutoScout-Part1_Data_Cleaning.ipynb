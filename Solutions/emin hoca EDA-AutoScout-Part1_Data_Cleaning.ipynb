{
 "cells": [
  {
   "cell_type": "code",
   "execution_count": 1,
   "id": "3023dfaf",
   "metadata": {},
   "outputs": [],
   "source": [
    "import numpy as np\n",
    "import pandas as pd"
   ]
  },
  {
   "cell_type": "code",
   "execution_count": 2,
   "id": "2fdc32d9",
   "metadata": {},
   "outputs": [
    {
     "data": {
      "text/html": [
       "<div>\n",
       "<style scoped>\n",
       "    .dataframe tbody tr th:only-of-type {\n",
       "        vertical-align: middle;\n",
       "    }\n",
       "\n",
       "    .dataframe tbody tr th {\n",
       "        vertical-align: top;\n",
       "    }\n",
       "\n",
       "    .dataframe thead th {\n",
       "        text-align: right;\n",
       "    }\n",
       "</style>\n",
       "<table border=\"1\" class=\"dataframe\">\n",
       "  <thead>\n",
       "    <tr style=\"text-align: right;\">\n",
       "      <th></th>\n",
       "      <th>url</th>\n",
       "      <th>make_model</th>\n",
       "      <th>short_description</th>\n",
       "      <th>body_type</th>\n",
       "      <th>price</th>\n",
       "      <th>vat</th>\n",
       "      <th>km</th>\n",
       "      <th>registration</th>\n",
       "      <th>prev_owner</th>\n",
       "      <th>kW</th>\n",
       "      <th>...</th>\n",
       "      <th>description</th>\n",
       "      <th>Emission Label</th>\n",
       "      <th>Gears</th>\n",
       "      <th>Country version</th>\n",
       "      <th>Electricity consumption</th>\n",
       "      <th>Last Service Date</th>\n",
       "      <th>Other Fuel Types</th>\n",
       "      <th>Availability</th>\n",
       "      <th>Last Timing Belt Service Date</th>\n",
       "      <th>Available from</th>\n",
       "    </tr>\n",
       "  </thead>\n",
       "  <tbody>\n",
       "    <tr>\n",
       "      <th>0</th>\n",
       "      <td>https://www.autoscout24.com//offers/audi-a1-sp...</td>\n",
       "      <td>Audi A1</td>\n",
       "      <td>Sportback 1.4 TDI S-tronic Xenon Navi Klima</td>\n",
       "      <td>Sedans</td>\n",
       "      <td>15770</td>\n",
       "      <td>VAT deductible</td>\n",
       "      <td>56,013 km</td>\n",
       "      <td>01/2016</td>\n",
       "      <td>2 previous owners</td>\n",
       "      <td>NaN</td>\n",
       "      <td>...</td>\n",
       "      <td>[\\n, Sicherheit:,  , Deaktivierung für Beifahr...</td>\n",
       "      <td>NaN</td>\n",
       "      <td>NaN</td>\n",
       "      <td>NaN</td>\n",
       "      <td>NaN</td>\n",
       "      <td>NaN</td>\n",
       "      <td>NaN</td>\n",
       "      <td>NaN</td>\n",
       "      <td>NaN</td>\n",
       "      <td>NaN</td>\n",
       "    </tr>\n",
       "    <tr>\n",
       "      <th>1</th>\n",
       "      <td>https://www.autoscout24.com//offers/audi-a1-1-...</td>\n",
       "      <td>Audi A1</td>\n",
       "      <td>1.8 TFSI sport</td>\n",
       "      <td>Sedans</td>\n",
       "      <td>14500</td>\n",
       "      <td>Price negotiable</td>\n",
       "      <td>80,000 km</td>\n",
       "      <td>03/2017</td>\n",
       "      <td>None</td>\n",
       "      <td>NaN</td>\n",
       "      <td>...</td>\n",
       "      <td>[\\nLangstreckenfahrzeug daher die hohe Kilomet...</td>\n",
       "      <td>[\\n4 (Green)\\n]</td>\n",
       "      <td>[\\n7\\n]</td>\n",
       "      <td>NaN</td>\n",
       "      <td>NaN</td>\n",
       "      <td>NaN</td>\n",
       "      <td>NaN</td>\n",
       "      <td>NaN</td>\n",
       "      <td>NaN</td>\n",
       "      <td>NaN</td>\n",
       "    </tr>\n",
       "    <tr>\n",
       "      <th>2</th>\n",
       "      <td>https://www.autoscout24.com//offers/audi-a1-sp...</td>\n",
       "      <td>Audi A1</td>\n",
       "      <td>Sportback 1.6 TDI S tronic Einparkhilfe plus+m...</td>\n",
       "      <td>Sedans</td>\n",
       "      <td>14640</td>\n",
       "      <td>VAT deductible</td>\n",
       "      <td>83,450 km</td>\n",
       "      <td>02/2016</td>\n",
       "      <td>1 previous owner</td>\n",
       "      <td>NaN</td>\n",
       "      <td>...</td>\n",
       "      <td>[\\n, Fahrzeug-Nummer: AM-95365,  , Ehem. UPE 2...</td>\n",
       "      <td>[\\n4 (Green)\\n]</td>\n",
       "      <td>NaN</td>\n",
       "      <td>NaN</td>\n",
       "      <td>NaN</td>\n",
       "      <td>NaN</td>\n",
       "      <td>NaN</td>\n",
       "      <td>NaN</td>\n",
       "      <td>NaN</td>\n",
       "      <td>NaN</td>\n",
       "    </tr>\n",
       "  </tbody>\n",
       "</table>\n",
       "<p>3 rows × 54 columns</p>\n",
       "</div>"
      ],
      "text/plain": [
       "                                                 url make_model  \\\n",
       "0  https://www.autoscout24.com//offers/audi-a1-sp...    Audi A1   \n",
       "1  https://www.autoscout24.com//offers/audi-a1-1-...    Audi A1   \n",
       "2  https://www.autoscout24.com//offers/audi-a1-sp...    Audi A1   \n",
       "\n",
       "                                   short_description body_type  price  \\\n",
       "0        Sportback 1.4 TDI S-tronic Xenon Navi Klima    Sedans  15770   \n",
       "1                                     1.8 TFSI sport    Sedans  14500   \n",
       "2  Sportback 1.6 TDI S tronic Einparkhilfe plus+m...    Sedans  14640   \n",
       "\n",
       "                vat         km registration         prev_owner  kW  ...  \\\n",
       "0    VAT deductible  56,013 km      01/2016  2 previous owners NaN  ...   \n",
       "1  Price negotiable  80,000 km      03/2017               None NaN  ...   \n",
       "2    VAT deductible  83,450 km      02/2016   1 previous owner NaN  ...   \n",
       "\n",
       "                                         description   Emission Label  \\\n",
       "0  [\\n, Sicherheit:,  , Deaktivierung für Beifahr...              NaN   \n",
       "1  [\\nLangstreckenfahrzeug daher die hohe Kilomet...  [\\n4 (Green)\\n]   \n",
       "2  [\\n, Fahrzeug-Nummer: AM-95365,  , Ehem. UPE 2...  [\\n4 (Green)\\n]   \n",
       "\n",
       "     Gears Country version Electricity consumption Last Service Date  \\\n",
       "0      NaN             NaN                     NaN               NaN   \n",
       "1  [\\n7\\n]             NaN                     NaN               NaN   \n",
       "2      NaN             NaN                     NaN               NaN   \n",
       "\n",
       "  Other Fuel Types Availability Last Timing Belt Service Date Available from  \n",
       "0              NaN          NaN                           NaN            NaN  \n",
       "1              NaN          NaN                           NaN            NaN  \n",
       "2              NaN          NaN                           NaN            NaN  \n",
       "\n",
       "[3 rows x 54 columns]"
      ]
     },
     "execution_count": 2,
     "metadata": {},
     "output_type": "execute_result"
    }
   ],
   "source": [
    "df0 = pd.read_json(\"scout_car.json\", lines = True)\n",
    "df = df0.copy()\n",
    "df.head(3)"
   ]
  },
  {
   "cell_type": "code",
   "execution_count": 3,
   "id": "24872cec",
   "metadata": {},
   "outputs": [
    {
     "data": {
      "text/html": [
       "<div>\n",
       "<style scoped>\n",
       "    .dataframe tbody tr th:only-of-type {\n",
       "        vertical-align: middle;\n",
       "    }\n",
       "\n",
       "    .dataframe tbody tr th {\n",
       "        vertical-align: top;\n",
       "    }\n",
       "\n",
       "    .dataframe thead th {\n",
       "        text-align: right;\n",
       "    }\n",
       "</style>\n",
       "<table border=\"1\" class=\"dataframe\">\n",
       "  <thead>\n",
       "    <tr style=\"text-align: right;\">\n",
       "      <th></th>\n",
       "      <th>5256</th>\n",
       "      <th>9408</th>\n",
       "      <th>7949</th>\n",
       "    </tr>\n",
       "  </thead>\n",
       "  <tbody>\n",
       "    <tr>\n",
       "      <th>url</th>\n",
       "      <td>https://www.autoscout24.com//offers/audi-a3-sp...</td>\n",
       "      <td>https://www.autoscout24.com//offers/opel-corsa...</td>\n",
       "      <td>https://www.autoscout24.com//offers/opel-astra...</td>\n",
       "    </tr>\n",
       "    <tr>\n",
       "      <th>make_model</th>\n",
       "      <td>Audi A3</td>\n",
       "      <td>Opel Corsa</td>\n",
       "      <td>Opel Astra</td>\n",
       "    </tr>\n",
       "    <tr>\n",
       "      <th>short_description</th>\n",
       "      <td>SPB 30 TFSI S tronic Business</td>\n",
       "      <td>1.4 Selective 66kW (90CV)</td>\n",
       "      <td>1.6 CDTi S/S 81kW (110CV) Selective</td>\n",
       "    </tr>\n",
       "    <tr>\n",
       "      <th>body_type</th>\n",
       "      <td>Sedans</td>\n",
       "      <td>Compact</td>\n",
       "      <td>Compact</td>\n",
       "    </tr>\n",
       "    <tr>\n",
       "      <th>price</th>\n",
       "      <td>24800</td>\n",
       "      <td>8950</td>\n",
       "      <td>17500</td>\n",
       "    </tr>\n",
       "    <tr>\n",
       "      <th>vat</th>\n",
       "      <td>None</td>\n",
       "      <td>VAT deductible</td>\n",
       "      <td>None</td>\n",
       "    </tr>\n",
       "    <tr>\n",
       "      <th>km</th>\n",
       "      <td>37 km</td>\n",
       "      <td>74,000 km</td>\n",
       "      <td>1 km</td>\n",
       "    </tr>\n",
       "    <tr>\n",
       "      <th>registration</th>\n",
       "      <td>02/2019</td>\n",
       "      <td>04/2017</td>\n",
       "      <td>05/2019</td>\n",
       "    </tr>\n",
       "    <tr>\n",
       "      <th>prev_owner</th>\n",
       "      <td>1 previous owner</td>\n",
       "      <td>None</td>\n",
       "      <td>None</td>\n",
       "    </tr>\n",
       "    <tr>\n",
       "      <th>kW</th>\n",
       "      <td>NaN</td>\n",
       "      <td>NaN</td>\n",
       "      <td>NaN</td>\n",
       "    </tr>\n",
       "    <tr>\n",
       "      <th>hp</th>\n",
       "      <td>85 kW</td>\n",
       "      <td>66 kW</td>\n",
       "      <td>81 kW</td>\n",
       "    </tr>\n",
       "    <tr>\n",
       "      <th>Type</th>\n",
       "      <td>[, Pre-registered, , Gasoline]</td>\n",
       "      <td>[, Used, , Super 95]</td>\n",
       "      <td>[, Used, , Diesel]</td>\n",
       "    </tr>\n",
       "    <tr>\n",
       "      <th>Previous Owners</th>\n",
       "      <td>\\n1\\n</td>\n",
       "      <td>NaN</td>\n",
       "      <td>NaN</td>\n",
       "    </tr>\n",
       "    <tr>\n",
       "      <th>Next Inspection</th>\n",
       "      <td>NaN</td>\n",
       "      <td>NaN</td>\n",
       "      <td>NaN</td>\n",
       "    </tr>\n",
       "    <tr>\n",
       "      <th>Inspection new</th>\n",
       "      <td>NaN</td>\n",
       "      <td>NaN</td>\n",
       "      <td>NaN</td>\n",
       "    </tr>\n",
       "    <tr>\n",
       "      <th>Warranty</th>\n",
       "      <td>NaN</td>\n",
       "      <td>\\n12 months\\n</td>\n",
       "      <td>\\n12 months\\n</td>\n",
       "    </tr>\n",
       "    <tr>\n",
       "      <th>Full Service</th>\n",
       "      <td>NaN</td>\n",
       "      <td>NaN</td>\n",
       "      <td>NaN</td>\n",
       "    </tr>\n",
       "    <tr>\n",
       "      <th>Non-smoking Vehicle</th>\n",
       "      <td>NaN</td>\n",
       "      <td>[\\n, \\n, \\n120 g CO2/km (comb)\\n]</td>\n",
       "      <td>NaN</td>\n",
       "    </tr>\n",
       "    <tr>\n",
       "      <th>null</th>\n",
       "      <td>[]</td>\n",
       "      <td>[]</td>\n",
       "      <td>[]</td>\n",
       "    </tr>\n",
       "    <tr>\n",
       "      <th>Make</th>\n",
       "      <td>\\nAudi\\n</td>\n",
       "      <td>\\nOpel\\n</td>\n",
       "      <td>\\nOpel\\n</td>\n",
       "    </tr>\n",
       "    <tr>\n",
       "      <th>Model</th>\n",
       "      <td>[\\n, A3, \\n]</td>\n",
       "      <td>[\\n, Corsa, \\n]</td>\n",
       "      <td>[\\n, Astra, \\n]</td>\n",
       "    </tr>\n",
       "    <tr>\n",
       "      <th>Offer Number</th>\n",
       "      <td>[\\n1\\n]</td>\n",
       "      <td>[\\n4941059\\n]</td>\n",
       "      <td>[\\n385462\\n]</td>\n",
       "    </tr>\n",
       "    <tr>\n",
       "      <th>First Registration</th>\n",
       "      <td>[\\n, 2019, \\n]</td>\n",
       "      <td>[\\n, 2017, \\n]</td>\n",
       "      <td>[\\n, 2019, \\n]</td>\n",
       "    </tr>\n",
       "    <tr>\n",
       "      <th>Body Color</th>\n",
       "      <td>[\\n, White, \\n]</td>\n",
       "      <td>[\\n, Black, \\n]</td>\n",
       "      <td>[\\n, Grey, \\n]</td>\n",
       "    </tr>\n",
       "    <tr>\n",
       "      <th>Paint Type</th>\n",
       "      <td>[\\nMetallic\\n]</td>\n",
       "      <td>[\\nMetallic\\n]</td>\n",
       "      <td>NaN</td>\n",
       "    </tr>\n",
       "    <tr>\n",
       "      <th>Body Color Original</th>\n",
       "      <td>[\\nBianco Ibis\\n]</td>\n",
       "      <td>NaN</td>\n",
       "      <td>[\\nGris Espacial (perlado)\\n]</td>\n",
       "    </tr>\n",
       "    <tr>\n",
       "      <th>Upholstery</th>\n",
       "      <td>[\\nBlack\\n]</td>\n",
       "      <td>[\\nGrey\\n]</td>\n",
       "      <td>NaN</td>\n",
       "    </tr>\n",
       "    <tr>\n",
       "      <th>Body</th>\n",
       "      <td>[\\n, Sedans, \\n]</td>\n",
       "      <td>[\\n, Compact, \\n]</td>\n",
       "      <td>[\\n, Compact, \\n]</td>\n",
       "    </tr>\n",
       "    <tr>\n",
       "      <th>Nr. of Doors</th>\n",
       "      <td>[\\n5\\n]</td>\n",
       "      <td>[\\n5\\n]</td>\n",
       "      <td>[\\n5\\n]</td>\n",
       "    </tr>\n",
       "    <tr>\n",
       "      <th>Nr. of Seats</th>\n",
       "      <td>[\\n5\\n]</td>\n",
       "      <td>[\\n5\\n]</td>\n",
       "      <td>[\\n5\\n]</td>\n",
       "    </tr>\n",
       "    <tr>\n",
       "      <th>Model Code</th>\n",
       "      <td>NaN</td>\n",
       "      <td>NaN</td>\n",
       "      <td>NaN</td>\n",
       "    </tr>\n",
       "    <tr>\n",
       "      <th>Gearing Type</th>\n",
       "      <td>[\\n, Automatic, \\n]</td>\n",
       "      <td>[\\n, Manual, \\n]</td>\n",
       "      <td>[\\n, Manual, \\n]</td>\n",
       "    </tr>\n",
       "    <tr>\n",
       "      <th>Displacement</th>\n",
       "      <td>[\\n999 cc\\n]</td>\n",
       "      <td>[\\n1,398 cc\\n]</td>\n",
       "      <td>NaN</td>\n",
       "    </tr>\n",
       "    <tr>\n",
       "      <th>Cylinders</th>\n",
       "      <td>[\\n4\\n]</td>\n",
       "      <td>[\\n4\\n]</td>\n",
       "      <td>NaN</td>\n",
       "    </tr>\n",
       "    <tr>\n",
       "      <th>Weight</th>\n",
       "      <td>[\\n1,275 kg\\n]</td>\n",
       "      <td>[\\n1,163 kg\\n]</td>\n",
       "      <td>NaN</td>\n",
       "    </tr>\n",
       "    <tr>\n",
       "      <th>Drive chain</th>\n",
       "      <td>[\\nfront\\n]</td>\n",
       "      <td>[\\nfront\\n]</td>\n",
       "      <td>NaN</td>\n",
       "    </tr>\n",
       "    <tr>\n",
       "      <th>Fuel</th>\n",
       "      <td>[\\n, Gasoline, \\n]</td>\n",
       "      <td>[\\n, Super 95, \\n]</td>\n",
       "      <td>[\\n, Diesel, \\n]</td>\n",
       "    </tr>\n",
       "    <tr>\n",
       "      <th>Consumption</th>\n",
       "      <td>[[5.1 l/100 km (comb)], [5.8 l/100 km (city)],...</td>\n",
       "      <td>[[5.2 l/100 km (comb)], [6.9 l/100 km (city)],...</td>\n",
       "      <td>NaN</td>\n",
       "    </tr>\n",
       "    <tr>\n",
       "      <th>CO2 Emission</th>\n",
       "      <td>[\\n114 g CO2/km (comb)\\n]</td>\n",
       "      <td>[\\n120 g CO2/km (comb)\\n]</td>\n",
       "      <td>NaN</td>\n",
       "    </tr>\n",
       "    <tr>\n",
       "      <th>Emission Class</th>\n",
       "      <td>[\\nEuro 6d-TEMP\\n]</td>\n",
       "      <td>[\\nEuro 6\\n]</td>\n",
       "      <td>NaN</td>\n",
       "    </tr>\n",
       "    <tr>\n",
       "      <th>\\nComfort &amp; Convenience\\n</th>\n",
       "      <td>[Air conditioning, Armrest, Automatic climate ...</td>\n",
       "      <td>[Air conditioning, Cruise control, Hill Holder...</td>\n",
       "      <td>NaN</td>\n",
       "    </tr>\n",
       "    <tr>\n",
       "      <th>\\nEntertainment &amp; Media\\n</th>\n",
       "      <td>[Bluetooth, CD player, Hands-free equipment, M...</td>\n",
       "      <td>[Bluetooth, On-board computer, Radio]</td>\n",
       "      <td>NaN</td>\n",
       "    </tr>\n",
       "    <tr>\n",
       "      <th>\\nExtras\\n</th>\n",
       "      <td>[Alloy wheels]</td>\n",
       "      <td>NaN</td>\n",
       "      <td>NaN</td>\n",
       "    </tr>\n",
       "    <tr>\n",
       "      <th>\\nSafety &amp; Security\\n</th>\n",
       "      <td>[ABS, Adaptive Cruise Control, Alarm system, C...</td>\n",
       "      <td>[ABS, Central door lock, Daytime running light...</td>\n",
       "      <td>NaN</td>\n",
       "    </tr>\n",
       "    <tr>\n",
       "      <th>description</th>\n",
       "      <td>[\\n, Mod. BUSINESS, Cambio DSG/S tronic, MI Te...</td>\n",
       "      <td>[\\n144 Euros/mes SIN entrada. Admitimos tu coc...</td>\n",
       "      <td>[]</td>\n",
       "    </tr>\n",
       "    <tr>\n",
       "      <th>Emission Label</th>\n",
       "      <td>NaN</td>\n",
       "      <td>NaN</td>\n",
       "      <td>NaN</td>\n",
       "    </tr>\n",
       "    <tr>\n",
       "      <th>Gears</th>\n",
       "      <td>[\\n7\\n]</td>\n",
       "      <td>[\\n5\\n]</td>\n",
       "      <td>[\\n6\\n]</td>\n",
       "    </tr>\n",
       "    <tr>\n",
       "      <th>Country version</th>\n",
       "      <td>[\\nItaly\\n]</td>\n",
       "      <td>NaN</td>\n",
       "      <td>NaN</td>\n",
       "    </tr>\n",
       "    <tr>\n",
       "      <th>Electricity consumption</th>\n",
       "      <td>NaN</td>\n",
       "      <td>NaN</td>\n",
       "      <td>NaN</td>\n",
       "    </tr>\n",
       "    <tr>\n",
       "      <th>Last Service Date</th>\n",
       "      <td>NaN</td>\n",
       "      <td>NaN</td>\n",
       "      <td>NaN</td>\n",
       "    </tr>\n",
       "    <tr>\n",
       "      <th>Other Fuel Types</th>\n",
       "      <td>NaN</td>\n",
       "      <td>NaN</td>\n",
       "      <td>NaN</td>\n",
       "    </tr>\n",
       "    <tr>\n",
       "      <th>Availability</th>\n",
       "      <td>NaN</td>\n",
       "      <td>NaN</td>\n",
       "      <td>NaN</td>\n",
       "    </tr>\n",
       "    <tr>\n",
       "      <th>Last Timing Belt Service Date</th>\n",
       "      <td>NaN</td>\n",
       "      <td>NaN</td>\n",
       "      <td>NaN</td>\n",
       "    </tr>\n",
       "    <tr>\n",
       "      <th>Available from</th>\n",
       "      <td>NaN</td>\n",
       "      <td>NaN</td>\n",
       "      <td>NaN</td>\n",
       "    </tr>\n",
       "  </tbody>\n",
       "</table>\n",
       "</div>"
      ],
      "text/plain": [
       "                                                                            5256  \\\n",
       "url                            https://www.autoscout24.com//offers/audi-a3-sp...   \n",
       "make_model                                                               Audi A3   \n",
       "short_description                                  SPB 30 TFSI S tronic Business   \n",
       "body_type                                                                 Sedans   \n",
       "price                                                                      24800   \n",
       "vat                                                                         None   \n",
       "km                                                                         37 km   \n",
       "registration                                                             02/2019   \n",
       "prev_owner                                                      1 previous owner   \n",
       "kW                                                                           NaN   \n",
       "hp                                                                         85 kW   \n",
       "Type                                              [, Pre-registered, , Gasoline]   \n",
       "Previous Owners                                                            \\n1\\n   \n",
       "Next Inspection                                                              NaN   \n",
       "Inspection new                                                               NaN   \n",
       "Warranty                                                                     NaN   \n",
       "Full Service                                                                 NaN   \n",
       "Non-smoking Vehicle                                                          NaN   \n",
       "null                                                                          []   \n",
       "Make                                                                    \\nAudi\\n   \n",
       "Model                                                               [\\n, A3, \\n]   \n",
       "Offer Number                                                             [\\n1\\n]   \n",
       "First Registration                                                [\\n, 2019, \\n]   \n",
       "Body Color                                                       [\\n, White, \\n]   \n",
       "Paint Type                                                        [\\nMetallic\\n]   \n",
       "Body Color Original                                            [\\nBianco Ibis\\n]   \n",
       "Upholstery                                                           [\\nBlack\\n]   \n",
       "Body                                                            [\\n, Sedans, \\n]   \n",
       "Nr. of Doors                                                             [\\n5\\n]   \n",
       "Nr. of Seats                                                             [\\n5\\n]   \n",
       "Model Code                                                                   NaN   \n",
       "Gearing Type                                                 [\\n, Automatic, \\n]   \n",
       "Displacement                                                        [\\n999 cc\\n]   \n",
       "Cylinders                                                                [\\n4\\n]   \n",
       "Weight                                                            [\\n1,275 kg\\n]   \n",
       "Drive chain                                                          [\\nfront\\n]   \n",
       "Fuel                                                          [\\n, Gasoline, \\n]   \n",
       "Consumption                    [[5.1 l/100 km (comb)], [5.8 l/100 km (city)],...   \n",
       "CO2 Emission                                           [\\n114 g CO2/km (comb)\\n]   \n",
       "Emission Class                                                [\\nEuro 6d-TEMP\\n]   \n",
       "\\nComfort & Convenience\\n      [Air conditioning, Armrest, Automatic climate ...   \n",
       "\\nEntertainment & Media\\n      [Bluetooth, CD player, Hands-free equipment, M...   \n",
       "\\nExtras\\n                                                        [Alloy wheels]   \n",
       "\\nSafety & Security\\n          [ABS, Adaptive Cruise Control, Alarm system, C...   \n",
       "description                    [\\n, Mod. BUSINESS, Cambio DSG/S tronic, MI Te...   \n",
       "Emission Label                                                               NaN   \n",
       "Gears                                                                    [\\n7\\n]   \n",
       "Country version                                                      [\\nItaly\\n]   \n",
       "Electricity consumption                                                      NaN   \n",
       "Last Service Date                                                            NaN   \n",
       "Other Fuel Types                                                             NaN   \n",
       "Availability                                                                 NaN   \n",
       "Last Timing Belt Service Date                                                NaN   \n",
       "Available from                                                               NaN   \n",
       "\n",
       "                                                                            9408  \\\n",
       "url                            https://www.autoscout24.com//offers/opel-corsa...   \n",
       "make_model                                                            Opel Corsa   \n",
       "short_description                                      1.4 Selective 66kW (90CV)   \n",
       "body_type                                                                Compact   \n",
       "price                                                                       8950   \n",
       "vat                                                               VAT deductible   \n",
       "km                                                                     74,000 km   \n",
       "registration                                                             04/2017   \n",
       "prev_owner                                                                  None   \n",
       "kW                                                                           NaN   \n",
       "hp                                                                         66 kW   \n",
       "Type                                                        [, Used, , Super 95]   \n",
       "Previous Owners                                                              NaN   \n",
       "Next Inspection                                                              NaN   \n",
       "Inspection new                                                               NaN   \n",
       "Warranty                                                           \\n12 months\\n   \n",
       "Full Service                                                                 NaN   \n",
       "Non-smoking Vehicle                            [\\n, \\n, \\n120 g CO2/km (comb)\\n]   \n",
       "null                                                                          []   \n",
       "Make                                                                    \\nOpel\\n   \n",
       "Model                                                            [\\n, Corsa, \\n]   \n",
       "Offer Number                                                       [\\n4941059\\n]   \n",
       "First Registration                                                [\\n, 2017, \\n]   \n",
       "Body Color                                                       [\\n, Black, \\n]   \n",
       "Paint Type                                                        [\\nMetallic\\n]   \n",
       "Body Color Original                                                          NaN   \n",
       "Upholstery                                                            [\\nGrey\\n]   \n",
       "Body                                                           [\\n, Compact, \\n]   \n",
       "Nr. of Doors                                                             [\\n5\\n]   \n",
       "Nr. of Seats                                                             [\\n5\\n]   \n",
       "Model Code                                                                   NaN   \n",
       "Gearing Type                                                    [\\n, Manual, \\n]   \n",
       "Displacement                                                      [\\n1,398 cc\\n]   \n",
       "Cylinders                                                                [\\n4\\n]   \n",
       "Weight                                                            [\\n1,163 kg\\n]   \n",
       "Drive chain                                                          [\\nfront\\n]   \n",
       "Fuel                                                          [\\n, Super 95, \\n]   \n",
       "Consumption                    [[5.2 l/100 km (comb)], [6.9 l/100 km (city)],...   \n",
       "CO2 Emission                                           [\\n120 g CO2/km (comb)\\n]   \n",
       "Emission Class                                                      [\\nEuro 6\\n]   \n",
       "\\nComfort & Convenience\\n      [Air conditioning, Cruise control, Hill Holder...   \n",
       "\\nEntertainment & Media\\n                  [Bluetooth, On-board computer, Radio]   \n",
       "\\nExtras\\n                                                                   NaN   \n",
       "\\nSafety & Security\\n          [ABS, Central door lock, Daytime running light...   \n",
       "description                    [\\n144 Euros/mes SIN entrada. Admitimos tu coc...   \n",
       "Emission Label                                                               NaN   \n",
       "Gears                                                                    [\\n5\\n]   \n",
       "Country version                                                              NaN   \n",
       "Electricity consumption                                                      NaN   \n",
       "Last Service Date                                                            NaN   \n",
       "Other Fuel Types                                                             NaN   \n",
       "Availability                                                                 NaN   \n",
       "Last Timing Belt Service Date                                                NaN   \n",
       "Available from                                                               NaN   \n",
       "\n",
       "                                                                            7949  \n",
       "url                            https://www.autoscout24.com//offers/opel-astra...  \n",
       "make_model                                                            Opel Astra  \n",
       "short_description                            1.6 CDTi S/S 81kW (110CV) Selective  \n",
       "body_type                                                                Compact  \n",
       "price                                                                      17500  \n",
       "vat                                                                         None  \n",
       "km                                                                          1 km  \n",
       "registration                                                             05/2019  \n",
       "prev_owner                                                                  None  \n",
       "kW                                                                           NaN  \n",
       "hp                                                                         81 kW  \n",
       "Type                                                          [, Used, , Diesel]  \n",
       "Previous Owners                                                              NaN  \n",
       "Next Inspection                                                              NaN  \n",
       "Inspection new                                                               NaN  \n",
       "Warranty                                                           \\n12 months\\n  \n",
       "Full Service                                                                 NaN  \n",
       "Non-smoking Vehicle                                                          NaN  \n",
       "null                                                                          []  \n",
       "Make                                                                    \\nOpel\\n  \n",
       "Model                                                            [\\n, Astra, \\n]  \n",
       "Offer Number                                                        [\\n385462\\n]  \n",
       "First Registration                                                [\\n, 2019, \\n]  \n",
       "Body Color                                                        [\\n, Grey, \\n]  \n",
       "Paint Type                                                                   NaN  \n",
       "Body Color Original                                [\\nGris Espacial (perlado)\\n]  \n",
       "Upholstery                                                                   NaN  \n",
       "Body                                                           [\\n, Compact, \\n]  \n",
       "Nr. of Doors                                                             [\\n5\\n]  \n",
       "Nr. of Seats                                                             [\\n5\\n]  \n",
       "Model Code                                                                   NaN  \n",
       "Gearing Type                                                    [\\n, Manual, \\n]  \n",
       "Displacement                                                                 NaN  \n",
       "Cylinders                                                                    NaN  \n",
       "Weight                                                                       NaN  \n",
       "Drive chain                                                                  NaN  \n",
       "Fuel                                                            [\\n, Diesel, \\n]  \n",
       "Consumption                                                                  NaN  \n",
       "CO2 Emission                                                                 NaN  \n",
       "Emission Class                                                               NaN  \n",
       "\\nComfort & Convenience\\n                                                    NaN  \n",
       "\\nEntertainment & Media\\n                                                    NaN  \n",
       "\\nExtras\\n                                                                   NaN  \n",
       "\\nSafety & Security\\n                                                        NaN  \n",
       "description                                                                   []  \n",
       "Emission Label                                                               NaN  \n",
       "Gears                                                                    [\\n6\\n]  \n",
       "Country version                                                              NaN  \n",
       "Electricity consumption                                                      NaN  \n",
       "Last Service Date                                                            NaN  \n",
       "Other Fuel Types                                                             NaN  \n",
       "Availability                                                                 NaN  \n",
       "Last Timing Belt Service Date                                                NaN  \n",
       "Available from                                                               NaN  "
      ]
     },
     "execution_count": 3,
     "metadata": {},
     "output_type": "execute_result"
    }
   ],
   "source": [
    "df.sample(3).T"
   ]
  },
  {
   "cell_type": "code",
   "execution_count": 4,
   "id": "530f04d2",
   "metadata": {},
   "outputs": [
    {
     "name": "stdout",
     "output_type": "stream",
     "text": [
      "<class 'pandas.core.frame.DataFrame'>\n",
      "RangeIndex: 15919 entries, 0 to 15918\n",
      "Data columns (total 54 columns):\n",
      " #   Column                         Non-Null Count  Dtype  \n",
      "---  ------                         --------------  -----  \n",
      " 0   url                            15919 non-null  object \n",
      " 1   make_model                     15919 non-null  object \n",
      " 2   short_description              15873 non-null  object \n",
      " 3   body_type                      15859 non-null  object \n",
      " 4   price                          15919 non-null  int64  \n",
      " 5   vat                            11406 non-null  object \n",
      " 6   km                             15919 non-null  object \n",
      " 7   registration                   15919 non-null  object \n",
      " 8   prev_owner                     9091 non-null   object \n",
      " 9   kW                             0 non-null      float64\n",
      " 10  hp                             15919 non-null  object \n",
      " 11  Type                           15917 non-null  object \n",
      " 12  Previous Owners                9279 non-null   object \n",
      " 13  Next Inspection                3535 non-null   object \n",
      " 14  Inspection new                 3932 non-null   object \n",
      " 15  Warranty                       10499 non-null  object \n",
      " 16  Full Service                   8215 non-null   object \n",
      " 17  Non-smoking Vehicle            7177 non-null   object \n",
      " 18  null                           15919 non-null  object \n",
      " 19  Make                           15919 non-null  object \n",
      " 20  Model                          15919 non-null  object \n",
      " 21  Offer Number                   12744 non-null  object \n",
      " 22  First Registration             14322 non-null  object \n",
      " 23  Body Color                     15322 non-null  object \n",
      " 24  Paint Type                     10147 non-null  object \n",
      " 25  Body Color Original            12160 non-null  object \n",
      " 26  Upholstery                     12199 non-null  object \n",
      " 27  Body                           15859 non-null  object \n",
      " 28  Nr. of Doors                   15707 non-null  object \n",
      " 29  Nr. of Seats                   14942 non-null  object \n",
      " 30  Model Code                     4978 non-null   object \n",
      " 31  Gearing Type                   15919 non-null  object \n",
      " 32  Displacement                   15423 non-null  object \n",
      " 33  Cylinders                      10239 non-null  object \n",
      " 34  Weight                         8945 non-null   object \n",
      " 35  Drive chain                    9061 non-null   object \n",
      " 36  Fuel                           15919 non-null  object \n",
      " 37  Consumption                    14013 non-null  object \n",
      " 38  CO2 Emission                   14111 non-null  object \n",
      " 39  Emission Class                 12898 non-null  object \n",
      " 40  \n",
      "Comfort & Convenience\n",
      "        14999 non-null  object \n",
      " 41  \n",
      "Entertainment & Media\n",
      "        14545 non-null  object \n",
      " 42  \n",
      "Extras\n",
      "                       12957 non-null  object \n",
      " 43  \n",
      "Safety & Security\n",
      "            14937 non-null  object \n",
      " 44  description                    15919 non-null  object \n",
      " 45  Emission Label                 3985 non-null   object \n",
      " 46  Gears                          11207 non-null  object \n",
      " 47  Country version                7586 non-null   object \n",
      " 48  Electricity consumption        137 non-null    object \n",
      " 49  Last Service Date              566 non-null    object \n",
      " 50  Other Fuel Types               880 non-null    object \n",
      " 51  Availability                   635 non-null    object \n",
      " 52  Last Timing Belt Service Date  16 non-null     object \n",
      " 53  Available from                 272 non-null    object \n",
      "dtypes: float64(1), int64(1), object(52)\n",
      "memory usage: 6.6+ MB\n"
     ]
    }
   ],
   "source": [
    "df.info()"
   ]
  },
  {
   "cell_type": "code",
   "execution_count": 5,
   "id": "15f72c00",
   "metadata": {},
   "outputs": [],
   "source": [
    "drop_cols = [\"Available from\", \"Last Timing Belt Service Date\", \"Availability\",\n",
    "             \"Other Fuel Types\", \"Last Service Date\", \"Electricity consumption\", \"Emission Label\",\n",
    "             \"Emission Class\", \"CO2 Emission\", \"Model Code\", \"Body\", \"Body Color Original\", \n",
    "             \"Make\", \"Model\", \"Non-smoking Vehicle\", \"null\", \"Full Service\", \"Country version\", \"Drive chain\", \n",
    "             \"description\", \"registration\", \"kW\", 'Previous Owners', 'Next Inspection', 'Inspection new', \n",
    "             \"Offer Number\", \"Paint Type\", \"Cylinders\"]"
   ]
  },
  {
   "cell_type": "code",
   "execution_count": 6,
   "id": "dc361d59",
   "metadata": {},
   "outputs": [],
   "source": [
    "df.drop(drop_cols, axis=1, inplace=True)"
   ]
  },
  {
   "cell_type": "code",
   "execution_count": 7,
   "id": "53b0b039",
   "metadata": {},
   "outputs": [
    {
     "data": {
      "text/html": [
       "<div>\n",
       "<style scoped>\n",
       "    .dataframe tbody tr th:only-of-type {\n",
       "        vertical-align: middle;\n",
       "    }\n",
       "\n",
       "    .dataframe tbody tr th {\n",
       "        vertical-align: top;\n",
       "    }\n",
       "\n",
       "    .dataframe thead th {\n",
       "        text-align: right;\n",
       "    }\n",
       "</style>\n",
       "<table border=\"1\" class=\"dataframe\">\n",
       "  <thead>\n",
       "    <tr style=\"text-align: right;\">\n",
       "      <th></th>\n",
       "      <th>2749</th>\n",
       "      <th>7889</th>\n",
       "      <th>15777</th>\n",
       "    </tr>\n",
       "  </thead>\n",
       "  <tbody>\n",
       "    <tr>\n",
       "      <th>url</th>\n",
       "      <td>https://www.autoscout24.com//offers/audi-a3-sp...</td>\n",
       "      <td>https://www.autoscout24.com//offers/opel-astra...</td>\n",
       "      <td>https://www.autoscout24.com//offers/renault-es...</td>\n",
       "    </tr>\n",
       "    <tr>\n",
       "      <th>make_model</th>\n",
       "      <td>Audi A3</td>\n",
       "      <td>Opel Astra</td>\n",
       "      <td>Renault Espace</td>\n",
       "    </tr>\n",
       "    <tr>\n",
       "      <th>short_description</th>\n",
       "      <td>SPB 1.6 TDI clean diesel S tronic Ambition</td>\n",
       "      <td>ST 1.4 Turbo Aut. Navi Kamera 17 Zoll BT</td>\n",
       "      <td>ESPACE LIMITED TCe 225 EDC GPF</td>\n",
       "    </tr>\n",
       "    <tr>\n",
       "      <th>body_type</th>\n",
       "      <td>Sedans</td>\n",
       "      <td>Station wagon</td>\n",
       "      <td>Van</td>\n",
       "    </tr>\n",
       "    <tr>\n",
       "      <th>price</th>\n",
       "      <td>17900</td>\n",
       "      <td>19495</td>\n",
       "      <td>35780</td>\n",
       "    </tr>\n",
       "    <tr>\n",
       "      <th>vat</th>\n",
       "      <td>None</td>\n",
       "      <td>VAT deductible</td>\n",
       "      <td>None</td>\n",
       "    </tr>\n",
       "    <tr>\n",
       "      <th>km</th>\n",
       "      <td>68,933 km</td>\n",
       "      <td>6,100 km</td>\n",
       "      <td>4,000 km</td>\n",
       "    </tr>\n",
       "    <tr>\n",
       "      <th>prev_owner</th>\n",
       "      <td>None</td>\n",
       "      <td>1 previous owner</td>\n",
       "      <td>None</td>\n",
       "    </tr>\n",
       "    <tr>\n",
       "      <th>hp</th>\n",
       "      <td>81 kW</td>\n",
       "      <td>110 kW</td>\n",
       "      <td>165 kW</td>\n",
       "    </tr>\n",
       "    <tr>\n",
       "      <th>Type</th>\n",
       "      <td>[, Used, , Diesel (Particulate Filter)]</td>\n",
       "      <td>[, Used, , Super 95]</td>\n",
       "      <td>[, Demonstration, , Super 95]</td>\n",
       "    </tr>\n",
       "    <tr>\n",
       "      <th>Warranty</th>\n",
       "      <td>\\n</td>\n",
       "      <td>[\\n, \\n, \\nEuro 6\\n]</td>\n",
       "      <td>NaN</td>\n",
       "    </tr>\n",
       "    <tr>\n",
       "      <th>First Registration</th>\n",
       "      <td>[\\n, 2016, \\n]</td>\n",
       "      <td>[\\n, 2019, \\n]</td>\n",
       "      <td>[\\n, 2019, \\n]</td>\n",
       "    </tr>\n",
       "    <tr>\n",
       "      <th>Body Color</th>\n",
       "      <td>[\\n, Grey, \\n]</td>\n",
       "      <td>[\\n, Blue, \\n]</td>\n",
       "      <td>[\\n, Grey, \\n]</td>\n",
       "    </tr>\n",
       "    <tr>\n",
       "      <th>Upholstery</th>\n",
       "      <td>NaN</td>\n",
       "      <td>[\\nPart leather, Black\\n]</td>\n",
       "      <td>[\\nBrown\\n]</td>\n",
       "    </tr>\n",
       "    <tr>\n",
       "      <th>Nr. of Doors</th>\n",
       "      <td>[\\n5\\n]</td>\n",
       "      <td>[\\n4\\n]</td>\n",
       "      <td>[\\n5\\n]</td>\n",
       "    </tr>\n",
       "    <tr>\n",
       "      <th>Nr. of Seats</th>\n",
       "      <td>[\\n5\\n]</td>\n",
       "      <td>[\\n5\\n]</td>\n",
       "      <td>[\\n5\\n]</td>\n",
       "    </tr>\n",
       "    <tr>\n",
       "      <th>Gearing Type</th>\n",
       "      <td>[\\n, Automatic, \\n]</td>\n",
       "      <td>[\\n, Automatic, \\n]</td>\n",
       "      <td>[\\n, Automatic, \\n]</td>\n",
       "    </tr>\n",
       "    <tr>\n",
       "      <th>Displacement</th>\n",
       "      <td>[\\n1,598 cc\\n]</td>\n",
       "      <td>[\\n1,399 cc\\n]</td>\n",
       "      <td>[\\n1,798 cc\\n]</td>\n",
       "    </tr>\n",
       "    <tr>\n",
       "      <th>Weight</th>\n",
       "      <td>[\\n1,280 kg\\n]</td>\n",
       "      <td>NaN</td>\n",
       "      <td>[\\n1,843 kg\\n]</td>\n",
       "    </tr>\n",
       "    <tr>\n",
       "      <th>Fuel</th>\n",
       "      <td>[\\n, Diesel (Particulate Filter), \\n]</td>\n",
       "      <td>[\\n, Super 95, \\n]</td>\n",
       "      <td>[\\n, Super 95, \\n]</td>\n",
       "    </tr>\n",
       "    <tr>\n",
       "      <th>Consumption</th>\n",
       "      <td>[[3.9 l/100 km (comb)], [4.4 l/100 km (city)],...</td>\n",
       "      <td>[[5.4 l/100 km (comb)], [7.1 l/100 km (city)],...</td>\n",
       "      <td>[[7.4 l/100 km (comb)], [9.6 l/100 km (city)],...</td>\n",
       "    </tr>\n",
       "    <tr>\n",
       "      <th>\\nComfort &amp; Convenience\\n</th>\n",
       "      <td>[Air conditioning, Armrest, Electrical side mi...</td>\n",
       "      <td>[Air conditioning, Armrest, Automatic climate ...</td>\n",
       "      <td>[Air conditioning, Automatic climate control, ...</td>\n",
       "    </tr>\n",
       "    <tr>\n",
       "      <th>\\nEntertainment &amp; Media\\n</th>\n",
       "      <td>[Radio]</td>\n",
       "      <td>[Bluetooth, Hands-free equipment, On-board com...</td>\n",
       "      <td>[CD player, Radio, Sound system]</td>\n",
       "    </tr>\n",
       "    <tr>\n",
       "      <th>\\nExtras\\n</th>\n",
       "      <td>[Alloy wheels, Sport seats]</td>\n",
       "      <td>[Alloy wheels, Roof rack, Sport seats, Touch s...</td>\n",
       "      <td>[Alloy wheels]</td>\n",
       "    </tr>\n",
       "    <tr>\n",
       "      <th>\\nSafety &amp; Security\\n</th>\n",
       "      <td>[ABS, Central door lock, Driver-side airbag, E...</td>\n",
       "      <td>[ABS, Blind spot monitor, Central door lock, D...</td>\n",
       "      <td>[ABS, Adaptive headlights, Blind spot monitor,...</td>\n",
       "    </tr>\n",
       "    <tr>\n",
       "      <th>Gears</th>\n",
       "      <td>[\\n7\\n]</td>\n",
       "      <td>NaN</td>\n",
       "      <td>NaN</td>\n",
       "    </tr>\n",
       "  </tbody>\n",
       "</table>\n",
       "</div>"
      ],
      "text/plain": [
       "                                                                       2749   \\\n",
       "url                        https://www.autoscout24.com//offers/audi-a3-sp...   \n",
       "make_model                                                           Audi A3   \n",
       "short_description                 SPB 1.6 TDI clean diesel S tronic Ambition   \n",
       "body_type                                                             Sedans   \n",
       "price                                                                  17900   \n",
       "vat                                                                     None   \n",
       "km                                                                 68,933 km   \n",
       "prev_owner                                                              None   \n",
       "hp                                                                     81 kW   \n",
       "Type                                 [, Used, , Diesel (Particulate Filter)]   \n",
       "Warranty                                                                  \\n   \n",
       "First Registration                                            [\\n, 2016, \\n]   \n",
       "Body Color                                                    [\\n, Grey, \\n]   \n",
       "Upholstery                                                               NaN   \n",
       "Nr. of Doors                                                         [\\n5\\n]   \n",
       "Nr. of Seats                                                         [\\n5\\n]   \n",
       "Gearing Type                                             [\\n, Automatic, \\n]   \n",
       "Displacement                                                  [\\n1,598 cc\\n]   \n",
       "Weight                                                        [\\n1,280 kg\\n]   \n",
       "Fuel                                   [\\n, Diesel (Particulate Filter), \\n]   \n",
       "Consumption                [[3.9 l/100 km (comb)], [4.4 l/100 km (city)],...   \n",
       "\\nComfort & Convenience\\n  [Air conditioning, Armrest, Electrical side mi...   \n",
       "\\nEntertainment & Media\\n                                            [Radio]   \n",
       "\\nExtras\\n                                       [Alloy wheels, Sport seats]   \n",
       "\\nSafety & Security\\n      [ABS, Central door lock, Driver-side airbag, E...   \n",
       "Gears                                                                [\\n7\\n]   \n",
       "\n",
       "                                                                       7889   \\\n",
       "url                        https://www.autoscout24.com//offers/opel-astra...   \n",
       "make_model                                                        Opel Astra   \n",
       "short_description                   ST 1.4 Turbo Aut. Navi Kamera 17 Zoll BT   \n",
       "body_type                                                      Station wagon   \n",
       "price                                                                  19495   \n",
       "vat                                                           VAT deductible   \n",
       "km                                                                  6,100 km   \n",
       "prev_owner                                                  1 previous owner   \n",
       "hp                                                                    110 kW   \n",
       "Type                                                    [, Used, , Super 95]   \n",
       "Warranty                                                [\\n, \\n, \\nEuro 6\\n]   \n",
       "First Registration                                            [\\n, 2019, \\n]   \n",
       "Body Color                                                    [\\n, Blue, \\n]   \n",
       "Upholstery                                         [\\nPart leather, Black\\n]   \n",
       "Nr. of Doors                                                         [\\n4\\n]   \n",
       "Nr. of Seats                                                         [\\n5\\n]   \n",
       "Gearing Type                                             [\\n, Automatic, \\n]   \n",
       "Displacement                                                  [\\n1,399 cc\\n]   \n",
       "Weight                                                                   NaN   \n",
       "Fuel                                                      [\\n, Super 95, \\n]   \n",
       "Consumption                [[5.4 l/100 km (comb)], [7.1 l/100 km (city)],...   \n",
       "\\nComfort & Convenience\\n  [Air conditioning, Armrest, Automatic climate ...   \n",
       "\\nEntertainment & Media\\n  [Bluetooth, Hands-free equipment, On-board com...   \n",
       "\\nExtras\\n                 [Alloy wheels, Roof rack, Sport seats, Touch s...   \n",
       "\\nSafety & Security\\n      [ABS, Blind spot monitor, Central door lock, D...   \n",
       "Gears                                                                    NaN   \n",
       "\n",
       "                                                                       15777  \n",
       "url                        https://www.autoscout24.com//offers/renault-es...  \n",
       "make_model                                                    Renault Espace  \n",
       "short_description                             ESPACE LIMITED TCe 225 EDC GPF  \n",
       "body_type                                                                Van  \n",
       "price                                                                  35780  \n",
       "vat                                                                     None  \n",
       "km                                                                  4,000 km  \n",
       "prev_owner                                                              None  \n",
       "hp                                                                    165 kW  \n",
       "Type                                           [, Demonstration, , Super 95]  \n",
       "Warranty                                                                 NaN  \n",
       "First Registration                                            [\\n, 2019, \\n]  \n",
       "Body Color                                                    [\\n, Grey, \\n]  \n",
       "Upholstery                                                       [\\nBrown\\n]  \n",
       "Nr. of Doors                                                         [\\n5\\n]  \n",
       "Nr. of Seats                                                         [\\n5\\n]  \n",
       "Gearing Type                                             [\\n, Automatic, \\n]  \n",
       "Displacement                                                  [\\n1,798 cc\\n]  \n",
       "Weight                                                        [\\n1,843 kg\\n]  \n",
       "Fuel                                                      [\\n, Super 95, \\n]  \n",
       "Consumption                [[7.4 l/100 km (comb)], [9.6 l/100 km (city)],...  \n",
       "\\nComfort & Convenience\\n  [Air conditioning, Automatic climate control, ...  \n",
       "\\nEntertainment & Media\\n                   [CD player, Radio, Sound system]  \n",
       "\\nExtras\\n                                                    [Alloy wheels]  \n",
       "\\nSafety & Security\\n      [ABS, Adaptive headlights, Blind spot monitor,...  \n",
       "Gears                                                                    NaN  "
      ]
     },
     "execution_count": 7,
     "metadata": {},
     "output_type": "execute_result"
    }
   ],
   "source": [
    "df.sample(3).T"
   ]
  },
  {
   "cell_type": "code",
   "execution_count": 8,
   "id": "0c356b5b",
   "metadata": {
    "scrolled": false
   },
   "outputs": [
    {
     "name": "stdout",
     "output_type": "stream",
     "text": [
      "<class 'pandas.core.frame.DataFrame'>\n",
      "RangeIndex: 15919 entries, 0 to 15918\n",
      "Data columns (total 26 columns):\n",
      " #   Column                   Non-Null Count  Dtype \n",
      "---  ------                   --------------  ----- \n",
      " 0   url                      15919 non-null  object\n",
      " 1   make_model               15919 non-null  object\n",
      " 2   short_description        15873 non-null  object\n",
      " 3   body_type                15859 non-null  object\n",
      " 4   price                    15919 non-null  int64 \n",
      " 5   vat                      11406 non-null  object\n",
      " 6   km                       15919 non-null  object\n",
      " 7   prev_owner               9091 non-null   object\n",
      " 8   hp                       15919 non-null  object\n",
      " 9   Type                     15917 non-null  object\n",
      " 10  Warranty                 10499 non-null  object\n",
      " 11  First Registration       14322 non-null  object\n",
      " 12  Body Color               15322 non-null  object\n",
      " 13  Upholstery               12199 non-null  object\n",
      " 14  Nr. of Doors             15707 non-null  object\n",
      " 15  Nr. of Seats             14942 non-null  object\n",
      " 16  Gearing Type             15919 non-null  object\n",
      " 17  Displacement             15423 non-null  object\n",
      " 18  Weight                   8945 non-null   object\n",
      " 19  Fuel                     15919 non-null  object\n",
      " 20  Consumption              14013 non-null  object\n",
      " 21  \n",
      "Comfort & Convenience\n",
      "  14999 non-null  object\n",
      " 22  \n",
      "Entertainment & Media\n",
      "  14545 non-null  object\n",
      " 23  \n",
      "Extras\n",
      "                 12957 non-null  object\n",
      " 24  \n",
      "Safety & Security\n",
      "      14937 non-null  object\n",
      " 25  Gears                    11207 non-null  object\n",
      "dtypes: int64(1), object(25)\n",
      "memory usage: 3.2+ MB\n"
     ]
    }
   ],
   "source": [
    "df.info()"
   ]
  },
  {
   "cell_type": "markdown",
   "id": "0bccda57",
   "metadata": {},
   "source": [
    "## make_model"
   ]
  },
  {
   "cell_type": "code",
   "execution_count": 9,
   "id": "ca58c3b4",
   "metadata": {},
   "outputs": [
    {
     "data": {
      "text/plain": [
       "Audi A3           3097\n",
       "Audi A1           2614\n",
       "Opel Insignia     2598\n",
       "Opel Astra        2526\n",
       "Opel Corsa        2219\n",
       "Renault Clio      1839\n",
       "Renault Espace     991\n",
       "Renault Duster      34\n",
       "Audi A2              1\n",
       "Name: make_model, dtype: int64"
      ]
     },
     "execution_count": 9,
     "metadata": {},
     "output_type": "execute_result"
    }
   ],
   "source": [
    "df[\"make_model\"].value_counts()"
   ]
  },
  {
   "cell_type": "code",
   "execution_count": 10,
   "id": "4c01b069",
   "metadata": {},
   "outputs": [
    {
     "data": {
      "text/html": [
       "<div>\n",
       "<style scoped>\n",
       "    .dataframe tbody tr th:only-of-type {\n",
       "        vertical-align: middle;\n",
       "    }\n",
       "\n",
       "    .dataframe tbody tr th {\n",
       "        vertical-align: top;\n",
       "    }\n",
       "\n",
       "    .dataframe thead th {\n",
       "        text-align: right;\n",
       "    }\n",
       "</style>\n",
       "<table border=\"1\" class=\"dataframe\">\n",
       "  <thead>\n",
       "    <tr style=\"text-align: right;\">\n",
       "      <th></th>\n",
       "      <th>2614</th>\n",
       "    </tr>\n",
       "  </thead>\n",
       "  <tbody>\n",
       "    <tr>\n",
       "      <th>url</th>\n",
       "      <td>https://www.autoscout24.com//offers/audi-a2-30...</td>\n",
       "    </tr>\n",
       "    <tr>\n",
       "      <th>make_model</th>\n",
       "      <td>Audi A2</td>\n",
       "    </tr>\n",
       "    <tr>\n",
       "      <th>short_description</th>\n",
       "      <td>30 TDI Navi, Lane assist, Sitzheizung, Einpark...</td>\n",
       "    </tr>\n",
       "    <tr>\n",
       "      <th>body_type</th>\n",
       "      <td>Off-Road</td>\n",
       "    </tr>\n",
       "    <tr>\n",
       "      <th>price</th>\n",
       "      <td>28200</td>\n",
       "    </tr>\n",
       "    <tr>\n",
       "      <th>vat</th>\n",
       "      <td>VAT deductible</td>\n",
       "    </tr>\n",
       "    <tr>\n",
       "      <th>km</th>\n",
       "      <td>26,166 km</td>\n",
       "    </tr>\n",
       "    <tr>\n",
       "      <th>prev_owner</th>\n",
       "      <td>1 previous owner</td>\n",
       "    </tr>\n",
       "    <tr>\n",
       "      <th>hp</th>\n",
       "      <td>85 kW</td>\n",
       "    </tr>\n",
       "    <tr>\n",
       "      <th>Type</th>\n",
       "      <td>[, Employee's car, , Diesel (Particulate Filter)]</td>\n",
       "    </tr>\n",
       "    <tr>\n",
       "      <th>Warranty</th>\n",
       "      <td>[\\n, \\n, \\n4 (Green)\\n]</td>\n",
       "    </tr>\n",
       "    <tr>\n",
       "      <th>First Registration</th>\n",
       "      <td>[\\n, 2018, \\n]</td>\n",
       "    </tr>\n",
       "    <tr>\n",
       "      <th>Body Color</th>\n",
       "      <td>[\\n, Grey, \\n]</td>\n",
       "    </tr>\n",
       "    <tr>\n",
       "      <th>Upholstery</th>\n",
       "      <td>[\\nCloth, Black\\n]</td>\n",
       "    </tr>\n",
       "    <tr>\n",
       "      <th>Nr. of Doors</th>\n",
       "      <td>[\\n5\\n]</td>\n",
       "    </tr>\n",
       "    <tr>\n",
       "      <th>Nr. of Seats</th>\n",
       "      <td>[\\n5\\n]</td>\n",
       "    </tr>\n",
       "    <tr>\n",
       "      <th>Gearing Type</th>\n",
       "      <td>[\\n, Manual, \\n]</td>\n",
       "    </tr>\n",
       "    <tr>\n",
       "      <th>Displacement</th>\n",
       "      <td>[\\n1,598 cc\\n]</td>\n",
       "    </tr>\n",
       "    <tr>\n",
       "      <th>Weight</th>\n",
       "      <td>NaN</td>\n",
       "    </tr>\n",
       "    <tr>\n",
       "      <th>Fuel</th>\n",
       "      <td>[\\n, Diesel (Particulate Filter), \\n]</td>\n",
       "    </tr>\n",
       "    <tr>\n",
       "      <th>Consumption</th>\n",
       "      <td>[[4.9 l/100 km (comb)], [5.6 l/100 km (city)],...</td>\n",
       "    </tr>\n",
       "    <tr>\n",
       "      <th>\\nComfort &amp; Convenience\\n</th>\n",
       "      <td>[Air conditioning, Armrest, Automatic climate ...</td>\n",
       "    </tr>\n",
       "    <tr>\n",
       "      <th>\\nEntertainment &amp; Media\\n</th>\n",
       "      <td>[Bluetooth, CD player, Hands-free equipment, M...</td>\n",
       "    </tr>\n",
       "    <tr>\n",
       "      <th>\\nExtras\\n</th>\n",
       "      <td>[Alloy wheels]</td>\n",
       "    </tr>\n",
       "    <tr>\n",
       "      <th>\\nSafety &amp; Security\\n</th>\n",
       "      <td>[ABS, Adaptive Cruise Control, Central door lo...</td>\n",
       "    </tr>\n",
       "    <tr>\n",
       "      <th>Gears</th>\n",
       "      <td>NaN</td>\n",
       "    </tr>\n",
       "  </tbody>\n",
       "</table>\n",
       "</div>"
      ],
      "text/plain": [
       "                                                                        2614\n",
       "url                        https://www.autoscout24.com//offers/audi-a2-30...\n",
       "make_model                                                           Audi A2\n",
       "short_description          30 TDI Navi, Lane assist, Sitzheizung, Einpark...\n",
       "body_type                                                           Off-Road\n",
       "price                                                                  28200\n",
       "vat                                                           VAT deductible\n",
       "km                                                                 26,166 km\n",
       "prev_owner                                                  1 previous owner\n",
       "hp                                                                     85 kW\n",
       "Type                       [, Employee's car, , Diesel (Particulate Filter)]\n",
       "Warranty                                             [\\n, \\n, \\n4 (Green)\\n]\n",
       "First Registration                                            [\\n, 2018, \\n]\n",
       "Body Color                                                    [\\n, Grey, \\n]\n",
       "Upholstery                                                [\\nCloth, Black\\n]\n",
       "Nr. of Doors                                                         [\\n5\\n]\n",
       "Nr. of Seats                                                         [\\n5\\n]\n",
       "Gearing Type                                                [\\n, Manual, \\n]\n",
       "Displacement                                                  [\\n1,598 cc\\n]\n",
       "Weight                                                                   NaN\n",
       "Fuel                                   [\\n, Diesel (Particulate Filter), \\n]\n",
       "Consumption                [[4.9 l/100 km (comb)], [5.6 l/100 km (city)],...\n",
       "\\nComfort & Convenience\\n  [Air conditioning, Armrest, Automatic climate ...\n",
       "\\nEntertainment & Media\\n  [Bluetooth, CD player, Hands-free equipment, M...\n",
       "\\nExtras\\n                                                    [Alloy wheels]\n",
       "\\nSafety & Security\\n      [ABS, Adaptive Cruise Control, Central door lo...\n",
       "Gears                                                                    NaN"
      ]
     },
     "execution_count": 10,
     "metadata": {},
     "output_type": "execute_result"
    }
   ],
   "source": [
    "df[df[\"make_model\"] == \"Audi A2\"].T"
   ]
  },
  {
   "cell_type": "code",
   "execution_count": 11,
   "id": "7b7c2491",
   "metadata": {},
   "outputs": [],
   "source": [
    "df = df[df[\"make_model\"] != \"Audi A2\"]"
   ]
  },
  {
   "cell_type": "code",
   "execution_count": 12,
   "id": "571385c2",
   "metadata": {},
   "outputs": [
    {
     "data": {
      "text/plain": [
       "Audi A3           3097\n",
       "Audi A1           2614\n",
       "Opel Insignia     2598\n",
       "Opel Astra        2526\n",
       "Opel Corsa        2219\n",
       "Renault Clio      1839\n",
       "Renault Espace     991\n",
       "Renault Duster      34\n",
       "Name: make_model, dtype: int64"
      ]
     },
     "execution_count": 12,
     "metadata": {},
     "output_type": "execute_result"
    }
   ],
   "source": [
    "df.make_model.value_counts()"
   ]
  },
  {
   "cell_type": "markdown",
   "id": "433ed75c",
   "metadata": {},
   "source": [
    "## short_description"
   ]
  },
  {
   "cell_type": "code",
   "execution_count": 13,
   "id": "cd966d05",
   "metadata": {},
   "outputs": [
    {
     "data": {
      "text/plain": [
       "3948       Sportback 1.6 TDI Design Edition S-Troni\n",
       "11572         B ST 2.0 D Innov./LED/Frontkamera/18\"\n",
       "7213     K ST Innovation AT, Navi, DAB, Frontkamera\n",
       "4549                   SPB 30 TDI S tronic Business\n",
       "7610        1.6 Ultimate Start/Stop LED Navi Kamera\n",
       "Name: short_description, dtype: object"
      ]
     },
     "execution_count": 13,
     "metadata": {},
     "output_type": "execute_result"
    }
   ],
   "source": [
    "df[\"short_description\"].sample(5)"
   ]
  },
  {
   "cell_type": "markdown",
   "id": "e35ba41a",
   "metadata": {},
   "source": [
    "## body_type"
   ]
  },
  {
   "cell_type": "code",
   "execution_count": 14,
   "id": "2227939d",
   "metadata": {},
   "outputs": [
    {
     "data": {
      "text/plain": [
       "Sedans           7903\n",
       "Station wagon    3553\n",
       "Compact          3153\n",
       "Van               783\n",
       "Other             290\n",
       "Transporter        88\n",
       "NaN                60\n",
       "Off-Road           55\n",
       "Coupe              25\n",
       "Convertible         8\n",
       "Name: body_type, dtype: int64"
      ]
     },
     "execution_count": 14,
     "metadata": {},
     "output_type": "execute_result"
    }
   ],
   "source": [
    "df[\"body_type\"].value_counts(dropna=False)"
   ]
  },
  {
   "cell_type": "markdown",
   "id": "ffd62850",
   "metadata": {},
   "source": [
    "## price"
   ]
  },
  {
   "cell_type": "code",
   "execution_count": 15,
   "id": "f364047c",
   "metadata": {},
   "outputs": [
    {
     "data": {
      "text/plain": [
       "0        15770\n",
       "1        14500\n",
       "2        14640\n",
       "3        14500\n",
       "4        16790\n",
       "         ...  \n",
       "15914    39950\n",
       "15915    39885\n",
       "15916    39875\n",
       "15917    39700\n",
       "15918    40999\n",
       "Name: price, Length: 15918, dtype: int64"
      ]
     },
     "execution_count": 15,
     "metadata": {},
     "output_type": "execute_result"
    }
   ],
   "source": [
    "df[\"price\"]"
   ]
  },
  {
   "cell_type": "markdown",
   "id": "b647e9c2",
   "metadata": {},
   "source": [
    "## vat"
   ]
  },
  {
   "cell_type": "code",
   "execution_count": 16,
   "id": "9d9be822",
   "metadata": {},
   "outputs": [
    {
     "data": {
      "text/plain": [
       "VAT deductible      10979\n",
       "NaN                  4513\n",
       "Price negotiable      426\n",
       "Name: vat, dtype: int64"
      ]
     },
     "execution_count": 16,
     "metadata": {},
     "output_type": "execute_result"
    }
   ],
   "source": [
    "df[\"vat\"].value_counts(dropna=False)"
   ]
  },
  {
   "cell_type": "code",
   "execution_count": 17,
   "id": "968f2bb7",
   "metadata": {},
   "outputs": [
    {
     "data": {
      "text/plain": [
       "Discount    11405\n",
       "NaN          4513\n",
       "Name: vat, dtype: int64"
      ]
     },
     "execution_count": 17,
     "metadata": {},
     "output_type": "execute_result"
    }
   ],
   "source": [
    "df.vat = df.vat.apply(lambda x: \"Discount\" if x != None else np.nan)\n",
    "df.vat.value_counts(dropna=False)"
   ]
  },
  {
   "cell_type": "markdown",
   "id": "24c111fd",
   "metadata": {},
   "source": [
    "## km"
   ]
  },
  {
   "cell_type": "code",
   "execution_count": 18,
   "id": "255cd380",
   "metadata": {},
   "outputs": [
    {
     "data": {
      "text/plain": [
       "0        56,013 km\n",
       "1        80,000 km\n",
       "2        83,450 km\n",
       "3        73,000 km\n",
       "4        16,200 km\n",
       "           ...    \n",
       "15914         - km\n",
       "15915     9,900 km\n",
       "15916        15 km\n",
       "15917        10 km\n",
       "15918         - km\n",
       "Name: km, Length: 15918, dtype: object"
      ]
     },
     "execution_count": 18,
     "metadata": {},
     "output_type": "execute_result"
    }
   ],
   "source": [
    "df[\"km\"]"
   ]
  },
  {
   "cell_type": "code",
   "execution_count": 19,
   "id": "54893f45",
   "metadata": {},
   "outputs": [
    {
     "data": {
      "text/plain": [
       "0        56013\n",
       "1        80000\n",
       "2        83450\n",
       "3        73000\n",
       "4        16200\n",
       "         ...  \n",
       "15914        -\n",
       "15915     9900\n",
       "15916       15\n",
       "15917       10\n",
       "15918        -\n",
       "Name: km, Length: 15918, dtype: object"
      ]
     },
     "execution_count": 19,
     "metadata": {},
     "output_type": "execute_result"
    }
   ],
   "source": [
    "df[\"km\"] = df[\"km\"].str.replace(\",\",\"\").str.strip(\" km\")\n",
    "df[\"km\"]"
   ]
  },
  {
   "cell_type": "code",
   "execution_count": 20,
   "id": "e974fabe",
   "metadata": {},
   "outputs": [
    {
     "data": {
      "text/html": [
       "<div>\n",
       "<style scoped>\n",
       "    .dataframe tbody tr th:only-of-type {\n",
       "        vertical-align: middle;\n",
       "    }\n",
       "\n",
       "    .dataframe tbody tr th {\n",
       "        vertical-align: top;\n",
       "    }\n",
       "\n",
       "    .dataframe thead th {\n",
       "        text-align: right;\n",
       "    }\n",
       "</style>\n",
       "<table border=\"1\" class=\"dataframe\">\n",
       "  <thead>\n",
       "    <tr style=\"text-align: right;\">\n",
       "      <th></th>\n",
       "      <th>km</th>\n",
       "      <th>First Registration</th>\n",
       "      <th>prev_owner</th>\n",
       "    </tr>\n",
       "  </thead>\n",
       "  <tbody>\n",
       "    <tr>\n",
       "      <th>743</th>\n",
       "      <td>-</td>\n",
       "      <td>NaN</td>\n",
       "      <td>None</td>\n",
       "    </tr>\n",
       "    <tr>\n",
       "      <th>869</th>\n",
       "      <td>-</td>\n",
       "      <td>NaN</td>\n",
       "      <td>None</td>\n",
       "    </tr>\n",
       "    <tr>\n",
       "      <th>946</th>\n",
       "      <td>-</td>\n",
       "      <td>NaN</td>\n",
       "      <td>None</td>\n",
       "    </tr>\n",
       "    <tr>\n",
       "      <th>977</th>\n",
       "      <td>-</td>\n",
       "      <td>NaN</td>\n",
       "      <td>None</td>\n",
       "    </tr>\n",
       "    <tr>\n",
       "      <th>980</th>\n",
       "      <td>-</td>\n",
       "      <td>NaN</td>\n",
       "      <td>None</td>\n",
       "    </tr>\n",
       "    <tr>\n",
       "      <th>...</th>\n",
       "      <td>...</td>\n",
       "      <td>...</td>\n",
       "      <td>...</td>\n",
       "    </tr>\n",
       "    <tr>\n",
       "      <th>15890</th>\n",
       "      <td>-</td>\n",
       "      <td>NaN</td>\n",
       "      <td>None</td>\n",
       "    </tr>\n",
       "    <tr>\n",
       "      <th>15902</th>\n",
       "      <td>-</td>\n",
       "      <td>NaN</td>\n",
       "      <td>None</td>\n",
       "    </tr>\n",
       "    <tr>\n",
       "      <th>15912</th>\n",
       "      <td>-</td>\n",
       "      <td>NaN</td>\n",
       "      <td>None</td>\n",
       "    </tr>\n",
       "    <tr>\n",
       "      <th>15914</th>\n",
       "      <td>-</td>\n",
       "      <td>NaN</td>\n",
       "      <td>None</td>\n",
       "    </tr>\n",
       "    <tr>\n",
       "      <th>15918</th>\n",
       "      <td>-</td>\n",
       "      <td>[\\n, 2019, \\n]</td>\n",
       "      <td>1 previous owner</td>\n",
       "    </tr>\n",
       "  </tbody>\n",
       "</table>\n",
       "<p>1024 rows × 3 columns</p>\n",
       "</div>"
      ],
      "text/plain": [
       "      km First Registration        prev_owner\n",
       "743    -                NaN              None\n",
       "869    -                NaN              None\n",
       "946    -                NaN              None\n",
       "977    -                NaN              None\n",
       "980    -                NaN              None\n",
       "...   ..                ...               ...\n",
       "15890  -                NaN              None\n",
       "15902  -                NaN              None\n",
       "15912  -                NaN              None\n",
       "15914  -                NaN              None\n",
       "15918  -     [\\n, 2019, \\n]  1 previous owner\n",
       "\n",
       "[1024 rows x 3 columns]"
      ]
     },
     "execution_count": 20,
     "metadata": {},
     "output_type": "execute_result"
    }
   ],
   "source": [
    "df[df[\"km\"] == \"-\"].loc[:,[\"km\",\"First Registration\",\"prev_owner\"]]"
   ]
  },
  {
   "cell_type": "markdown",
   "id": "89fc4378",
   "metadata": {},
   "source": [
    "## First Registration"
   ]
  },
  {
   "cell_type": "code",
   "execution_count": 21,
   "id": "0fbc164b",
   "metadata": {
    "scrolled": true
   },
   "outputs": [
    {
     "data": {
      "text/plain": [
       "0        [\\n, 2016, \\n]\n",
       "1        [\\n, 2017, \\n]\n",
       "2        [\\n, 2016, \\n]\n",
       "3        [\\n, 2016, \\n]\n",
       "4        [\\n, 2016, \\n]\n",
       "              ...      \n",
       "15914               NaN\n",
       "15915    [\\n, 2019, \\n]\n",
       "15916    [\\n, 2019, \\n]\n",
       "15917    [\\n, 2019, \\n]\n",
       "15918    [\\n, 2019, \\n]\n",
       "Name: First Registration, Length: 15918, dtype: object"
      ]
     },
     "execution_count": 21,
     "metadata": {},
     "output_type": "execute_result"
    }
   ],
   "source": [
    "df[\"First Registration\"]"
   ]
  },
  {
   "cell_type": "code",
   "execution_count": 22,
   "id": "b135a316",
   "metadata": {},
   "outputs": [
    {
     "data": {
      "text/plain": [
       "0        2016.0\n",
       "1        2017.0\n",
       "2        2016.0\n",
       "3        2016.0\n",
       "4        2016.0\n",
       "          ...  \n",
       "15914       NaN\n",
       "15915    2019.0\n",
       "15916    2019.0\n",
       "15917    2019.0\n",
       "15918    2019.0\n",
       "Name: First Registration, Length: 15918, dtype: float64"
      ]
     },
     "execution_count": 22,
     "metadata": {},
     "output_type": "execute_result"
    }
   ],
   "source": [
    "df[\"First Registration\"] = df[\"First Registration\"].str[1].astype(float)\n",
    "df[\"First Registration\"]"
   ]
  },
  {
   "cell_type": "code",
   "execution_count": 23,
   "id": "ab73d967",
   "metadata": {},
   "outputs": [],
   "source": [
    "dftest = df.copy()\n",
    "dftest.loc[dftest.km == \"-\", \"km\"] = np.nan\n",
    "dftest.km = dftest.km.astype(float)"
   ]
  },
  {
   "cell_type": "code",
   "execution_count": 24,
   "id": "3bbd6eaf",
   "metadata": {},
   "outputs": [
    {
     "data": {
      "text/html": [
       "<div>\n",
       "<style scoped>\n",
       "    .dataframe tbody tr th:only-of-type {\n",
       "        vertical-align: middle;\n",
       "    }\n",
       "\n",
       "    .dataframe tbody tr th {\n",
       "        vertical-align: top;\n",
       "    }\n",
       "\n",
       "    .dataframe thead th {\n",
       "        text-align: right;\n",
       "    }\n",
       "</style>\n",
       "<table border=\"1\" class=\"dataframe\">\n",
       "  <thead>\n",
       "    <tr style=\"text-align: right;\">\n",
       "      <th></th>\n",
       "      <th>price</th>\n",
       "      <th>km</th>\n",
       "    </tr>\n",
       "    <tr>\n",
       "      <th>First Registration</th>\n",
       "      <th></th>\n",
       "      <th></th>\n",
       "    </tr>\n",
       "  </thead>\n",
       "  <tbody>\n",
       "    <tr>\n",
       "      <th>2016.0</th>\n",
       "      <td>13644.038650</td>\n",
       "      <td>77442.520958</td>\n",
       "    </tr>\n",
       "    <tr>\n",
       "      <th>2017.0</th>\n",
       "      <td>15595.915674</td>\n",
       "      <td>41754.940709</td>\n",
       "    </tr>\n",
       "    <tr>\n",
       "      <th>2018.0</th>\n",
       "      <td>18453.881885</td>\n",
       "      <td>18033.425385</td>\n",
       "    </tr>\n",
       "    <tr>\n",
       "      <th>2019.0</th>\n",
       "      <td>22805.061339</td>\n",
       "      <td>2085.355137</td>\n",
       "    </tr>\n",
       "  </tbody>\n",
       "</table>\n",
       "</div>"
      ],
      "text/plain": [
       "                           price            km\n",
       "First Registration                            \n",
       "2016.0              13644.038650  77442.520958\n",
       "2017.0              15595.915674  41754.940709\n",
       "2018.0              18453.881885  18033.425385\n",
       "2019.0              22805.061339   2085.355137"
      ]
     },
     "execution_count": 24,
     "metadata": {},
     "output_type": "execute_result"
    }
   ],
   "source": [
    "dftest.groupby(\"First Registration\").mean()"
   ]
  },
  {
   "cell_type": "code",
   "execution_count": 25,
   "id": "0dd156d5",
   "metadata": {
    "scrolled": false
   },
   "outputs": [],
   "source": [
    "df[\"First Registration\"].fillna(df.km, inplace=True)"
   ]
  },
  {
   "cell_type": "code",
   "execution_count": 26,
   "id": "57227f18",
   "metadata": {},
   "outputs": [],
   "source": [
    "df[\"First Registration\"] = df[\"First Registration\"].replace(\"-\",\"2019.0\").astype(float)"
   ]
  },
  {
   "cell_type": "code",
   "execution_count": 27,
   "id": "c5ffde3d",
   "metadata": {},
   "outputs": [],
   "source": [
    "df.loc[df[\"First Registration\"]>60000, \"First Registration\"] = 2016\n",
    "df.loc[df[\"First Registration\"]>30000, \"First Registration\"] = 2017\n",
    "df.loc[df[\"First Registration\"]>10000, \"First Registration\"] = 2018\n",
    "df.loc[df[\"First Registration\"]>2020, \"First Registration\"] = 2019\n",
    "df.loc[df[\"First Registration\"]<2000, \"First Registration\"] = 2019"
   ]
  },
  {
   "cell_type": "code",
   "execution_count": 28,
   "id": "523c3b13",
   "metadata": {
    "scrolled": true
   },
   "outputs": [
    {
     "data": {
      "text/plain": [
       "2018.0    4527\n",
       "2019.0    4435\n",
       "2016.0    3679\n",
       "2017.0    3277\n",
       "Name: First Registration, dtype: int64"
      ]
     },
     "execution_count": 28,
     "metadata": {},
     "output_type": "execute_result"
    }
   ],
   "source": [
    "df[\"First Registration\"].value_counts(dropna=False)"
   ]
  },
  {
   "cell_type": "code",
   "execution_count": 29,
   "id": "af45e3d2",
   "metadata": {},
   "outputs": [
    {
     "data": {
      "text/plain": [
       "0        56013\n",
       "1        80000\n",
       "2        83450\n",
       "3        73000\n",
       "4        16200\n",
       "         ...  \n",
       "15914        0\n",
       "15915     9900\n",
       "15916       15\n",
       "15917       10\n",
       "15918        0\n",
       "Name: km, Length: 15918, dtype: int32"
      ]
     },
     "execution_count": 29,
     "metadata": {},
     "output_type": "execute_result"
    }
   ],
   "source": [
    "df.loc[df.km == \"-\", \"km\"] = 0\n",
    "df.km = df.km.astype(int)\n",
    "df.km"
   ]
  },
  {
   "cell_type": "code",
   "execution_count": 30,
   "id": "1b7a0a85",
   "metadata": {},
   "outputs": [
    {
     "data": {
      "text/plain": [
       "0"
      ]
     },
     "execution_count": 30,
     "metadata": {},
     "output_type": "execute_result"
    }
   ],
   "source": [
    "df.km.isna().sum()"
   ]
  },
  {
   "cell_type": "code",
   "execution_count": 31,
   "id": "21f2857a",
   "metadata": {},
   "outputs": [
    {
     "data": {
      "text/plain": [
       "0"
      ]
     },
     "execution_count": 31,
     "metadata": {},
     "output_type": "execute_result"
    }
   ],
   "source": [
    "df[\"First Registration\"].isna().sum()"
   ]
  },
  {
   "cell_type": "code",
   "execution_count": 32,
   "id": "e175a4ec",
   "metadata": {},
   "outputs": [
    {
     "data": {
      "text/plain": [
       "0        3.0\n",
       "1        2.0\n",
       "2        3.0\n",
       "3        3.0\n",
       "4        3.0\n",
       "        ... \n",
       "15914    0.0\n",
       "15915    0.0\n",
       "15916    0.0\n",
       "15917    0.0\n",
       "15918    0.0\n",
       "Name: Age, Length: 15918, dtype: float64"
      ]
     },
     "execution_count": 32,
     "metadata": {},
     "output_type": "execute_result"
    }
   ],
   "source": [
    "df[\"Age\"] = 2019 - df[\"First Registration\"]\n",
    "df.drop(\"First Registration\", axis=1, inplace=True)\n",
    "df.Age"
   ]
  },
  {
   "cell_type": "markdown",
   "id": "644c9f28",
   "metadata": {},
   "source": [
    "## prev_owner"
   ]
  },
  {
   "cell_type": "code",
   "execution_count": 33,
   "id": "5f6a43ec",
   "metadata": {},
   "outputs": [
    {
     "data": {
      "text/plain": [
       "1 previous owner     8293\n",
       "NaN                  6828\n",
       "2 previous owners     778\n",
       "3 previous owners      17\n",
       "4 previous owners       2\n",
       "Name: prev_owner, dtype: int64"
      ]
     },
     "execution_count": 33,
     "metadata": {},
     "output_type": "execute_result"
    }
   ],
   "source": [
    "df.prev_owner.value_counts(dropna=False)"
   ]
  },
  {
   "cell_type": "code",
   "execution_count": 34,
   "id": "d739dfc9",
   "metadata": {},
   "outputs": [],
   "source": [
    "df.prev_owner = df.prev_owner.str.strip(\" previous owners\")\n",
    "df.prev_owner = df.prev_owner.astype(float)"
   ]
  },
  {
   "cell_type": "code",
   "execution_count": 35,
   "id": "8ab76759",
   "metadata": {},
   "outputs": [
    {
     "data": {
      "text/plain": [
       "1.0    8293\n",
       "NaN    6828\n",
       "2.0     778\n",
       "3.0      17\n",
       "4.0       2\n",
       "Name: prev_owner, dtype: int64"
      ]
     },
     "execution_count": 35,
     "metadata": {},
     "output_type": "execute_result"
    }
   ],
   "source": [
    "df.prev_owner.value_counts(dropna=False)"
   ]
  },
  {
   "cell_type": "markdown",
   "id": "556b443d",
   "metadata": {},
   "source": [
    "## hp"
   ]
  },
  {
   "cell_type": "code",
   "execution_count": 36,
   "id": "33bbf5c0",
   "metadata": {},
   "outputs": [
    {
     "data": {
      "text/plain": [
       "5507      85 kW\n",
       "5644      85 kW\n",
       "2767     110 kW\n",
       "12753    147 kW\n",
       "2529      70 kW\n",
       "Name: hp, dtype: object"
      ]
     },
     "execution_count": 36,
     "metadata": {},
     "output_type": "execute_result"
    }
   ],
   "source": [
    "df.hp.sample(5)"
   ]
  },
  {
   "cell_type": "code",
   "execution_count": 37,
   "id": "5d5add5a",
   "metadata": {},
   "outputs": [
    {
     "data": {
      "text/plain": [
       "3319    113.986878\n",
       "8158     88.507458\n",
       "1094     93.871546\n",
       "8652     68.392127\n",
       "3490    147.512430\n",
       "Name: hp, dtype: float64"
      ]
     },
     "execution_count": 37,
     "metadata": {},
     "output_type": "execute_result"
    }
   ],
   "source": [
    "df.hp = df.hp.str.strip(\" kW\")\n",
    "df.loc[df.hp == \"-\", \"hp\"] = np.nan\n",
    "df.hp = df.hp.astype(float)\n",
    "# 1 kW = 1.34102209 hp\n",
    "df.hp = df.hp*1.34102209\n",
    "df.hp.sample(5)"
   ]
  },
  {
   "cell_type": "markdown",
   "id": "60ebb50c",
   "metadata": {},
   "source": [
    "## Type"
   ]
  },
  {
   "cell_type": "code",
   "execution_count": 38,
   "id": "648376bb",
   "metadata": {},
   "outputs": [],
   "source": [
    "df.Type = df.Type.str[1]"
   ]
  },
  {
   "cell_type": "code",
   "execution_count": 39,
   "id": "0f976881",
   "metadata": {},
   "outputs": [
    {
     "data": {
      "text/plain": [
       "array(['Used', \"Employee's car\", 'New', 'Demonstration', 'Pre-registered',\n",
       "       nan], dtype=object)"
      ]
     },
     "execution_count": 39,
     "metadata": {},
     "output_type": "execute_result"
    }
   ],
   "source": [
    "df.Type.unique()"
   ]
  },
  {
   "cell_type": "code",
   "execution_count": 40,
   "id": "8cc19bf5",
   "metadata": {
    "scrolled": true
   },
   "outputs": [
    {
     "data": {
      "text/plain": [
       "10     486\n",
       "1      171\n",
       "0      118\n",
       "50      96\n",
       "5       65\n",
       "100     58\n",
       "15      51\n",
       "12      27\n",
       "3       25\n",
       "80      21\n",
       "Name: km, dtype: int64"
      ]
     },
     "execution_count": 40,
     "metadata": {},
     "output_type": "execute_result"
    }
   ],
   "source": [
    "df[df.Type == \"Pre-registered\"][\"km\"].value_counts().head(10)"
   ]
  },
  {
   "cell_type": "code",
   "execution_count": 41,
   "id": "30f4670a",
   "metadata": {},
   "outputs": [],
   "source": [
    "used = ['Used', \"Employee's car\", 'Demonstration']\n",
    "new = [\"New\", \"Pre-registered\"]"
   ]
  },
  {
   "cell_type": "code",
   "execution_count": 42,
   "id": "70d3464e",
   "metadata": {},
   "outputs": [],
   "source": [
    "def usage(x):\n",
    "    if x in used:\n",
    "        x = \"Used\"\n",
    "    elif x in new:\n",
    "        x = \"New\"\n",
    "    return x"
   ]
  },
  {
   "cell_type": "code",
   "execution_count": 43,
   "id": "acef487e",
   "metadata": {},
   "outputs": [
    {
     "data": {
      "text/plain": [
       "Used    12902\n",
       "New      3014\n",
       "NaN         2\n",
       "Name: Type, dtype: int64"
      ]
     },
     "execution_count": 43,
     "metadata": {},
     "output_type": "execute_result"
    }
   ],
   "source": [
    "df.Type = df.Type.apply(usage)\n",
    "df.Type.value_counts(dropna=False)"
   ]
  },
  {
   "cell_type": "markdown",
   "id": "a2f24450",
   "metadata": {},
   "source": [
    "## Warranty"
   ]
  },
  {
   "cell_type": "code",
   "execution_count": 44,
   "id": "f020408c",
   "metadata": {
    "scrolled": true
   },
   "outputs": [
    {
     "data": {
      "text/plain": [
       "10309                     [\\n, \\n, \\n4 (Green)\\n]\n",
       "12721                                         NaN\n",
       "14045                                          \\n\n",
       "14527                 [\\n24 months\\n, \\nEuro 6\\n]\n",
       "4767                                          NaN\n",
       "821                          [\\n, \\n, \\nEuro 6\\n]\n",
       "2691                                          NaN\n",
       "14293                                         NaN\n",
       "1727     [\\n12 months\\n, \\n102 g CO2/km (comb)\\n]\n",
       "14516                                         NaN\n",
       "Name: Warranty, dtype: object"
      ]
     },
     "execution_count": 44,
     "metadata": {},
     "output_type": "execute_result"
    }
   ],
   "source": [
    "df.Warranty.sample(10)"
   ]
  },
  {
   "cell_type": "code",
   "execution_count": 45,
   "id": "45f66aaa",
   "metadata": {},
   "outputs": [],
   "source": [
    "def warcl(x):\n",
    "    if type(x) == list:\n",
    "        y = np.nan\n",
    "        for i in x:\n",
    "            if \"month\" in i:\n",
    "                y = i\n",
    "        x = y\n",
    "    elif type(x) == str:\n",
    "        if \"month\" not in x:\n",
    "            x = np.nan        \n",
    "    else:\n",
    "        x = np.nan\n",
    "    if type(x) == str:\n",
    "        x = x.strip(\"\\n months\")\n",
    "    return x"
   ]
  },
  {
   "cell_type": "code",
   "execution_count": 46,
   "id": "0f49b9b5",
   "metadata": {
    "scrolled": true
   },
   "outputs": [
    {
     "data": {
      "text/plain": [
       "15431    NaN\n",
       "2553     NaN\n",
       "6725     NaN\n",
       "11208    NaN\n",
       "6228     NaN\n",
       "2565      24\n",
       "597      NaN\n",
       "4383     NaN\n",
       "4133      24\n",
       "12816    NaN\n",
       "Name: Warranty, dtype: object"
      ]
     },
     "execution_count": 46,
     "metadata": {},
     "output_type": "execute_result"
    }
   ],
   "source": [
    "df.Warranty = df.Warranty.apply(warcl)\n",
    "df.Warranty.sample(10)"
   ]
  },
  {
   "cell_type": "code",
   "execution_count": 47,
   "id": "e8ffbb3a",
   "metadata": {},
   "outputs": [],
   "source": [
    "df.Warranty = df.Warranty.astype(float)"
   ]
  },
  {
   "cell_type": "code",
   "execution_count": null,
   "id": "bc302cf5",
   "metadata": {},
   "outputs": [],
   "source": []
  },
  {
   "cell_type": "markdown",
   "id": "6dbcac38",
   "metadata": {},
   "source": [
    "## Body Color"
   ]
  },
  {
   "cell_type": "code",
   "execution_count": 48,
   "id": "52bbe04b",
   "metadata": {},
   "outputs": [
    {
     "data": {
      "text/plain": [
       "2691      [\\n, White, \\n]\n",
       "4971       [\\n, Grey, \\n]\n",
       "9576      [\\n, Black, \\n]\n",
       "7332      [\\n, White, \\n]\n",
       "1019      [\\n, Black, \\n]\n",
       "9338       [\\n, Blue, \\n]\n",
       "10771     [\\n, White, \\n]\n",
       "11467      [\\n, Grey, \\n]\n",
       "5254      [\\n, Black, \\n]\n",
       "10925    [\\n, Silver, \\n]\n",
       "Name: Body Color, dtype: object"
      ]
     },
     "execution_count": 48,
     "metadata": {},
     "output_type": "execute_result"
    }
   ],
   "source": [
    "df[\"Body Color\"].sample(10)"
   ]
  },
  {
   "cell_type": "code",
   "execution_count": 49,
   "id": "8a6641bf",
   "metadata": {},
   "outputs": [
    {
     "ename": "TypeError",
     "evalue": "unhashable type: 'list'",
     "output_type": "error",
     "traceback": [
      "\u001b[1;31m---------------------------------------------------------------------------\u001b[0m",
      "\u001b[1;31mTypeError\u001b[0m                                 Traceback (most recent call last)",
      "\u001b[1;32mpandas\\_libs\\hashtable_class_helper.pxi\u001b[0m in \u001b[0;36mpandas._libs.hashtable.PyObjectHashTable.map_locations\u001b[1;34m()\u001b[0m\n",
      "\u001b[1;31mTypeError\u001b[0m: unhashable type: 'list'"
     ]
    },
    {
     "name": "stderr",
     "output_type": "stream",
     "text": [
      "Exception ignored in: 'pandas._libs.index.IndexEngine._call_map_locations'\n",
      "Traceback (most recent call last):\n",
      "  File \"pandas\\_libs\\hashtable_class_helper.pxi\", line 5231, in pandas._libs.hashtable.PyObjectHashTable.map_locations\n",
      "TypeError: unhashable type: 'list'\n"
     ]
    },
    {
     "data": {
      "text/plain": [
       "[\\n, Black, \\n]     3745\n",
       "[\\n, Grey, \\n]      3504\n",
       "[\\n, White, \\n]     3406\n",
       "[\\n, Silver, \\n]    1647\n",
       "[\\n, Blue, \\n]      1431\n",
       "[\\n, Red, \\n]        957\n",
       "NaN                  597\n",
       "[\\n, Brown, \\n]      289\n",
       "[\\n, Green, \\n]      154\n",
       "[\\n, Beige, \\n]      108\n",
       "[\\n, Yellow, \\n]      51\n",
       "[\\n, Violet, \\n]      18\n",
       "[\\n, Bronze, \\n]       6\n",
       "[\\n, Orange, \\n]       3\n",
       "[\\n, Gold, \\n]         2\n",
       "Name: Body Color, dtype: int64"
      ]
     },
     "execution_count": 49,
     "metadata": {},
     "output_type": "execute_result"
    }
   ],
   "source": [
    "df[\"Body Color\"].value_counts(dropna=False)"
   ]
  },
  {
   "cell_type": "code",
   "execution_count": 50,
   "id": "81dcb172",
   "metadata": {},
   "outputs": [
    {
     "data": {
      "text/plain": [
       "3        Brown\n",
       "15116    White\n",
       "10491    White\n",
       "11599      NaN\n",
       "3781      Grey\n",
       "10287     Blue\n",
       "8452     Black\n",
       "8222     White\n",
       "13264      Red\n",
       "1282     Black\n",
       "Name: Body Color, dtype: object"
      ]
     },
     "execution_count": 50,
     "metadata": {},
     "output_type": "execute_result"
    }
   ],
   "source": [
    "df[\"Body Color\"] = df[\"Body Color\"].str[1]\n",
    "df[\"Body Color\"].sample(10)"
   ]
  },
  {
   "cell_type": "code",
   "execution_count": 51,
   "id": "56a61b46",
   "metadata": {},
   "outputs": [],
   "source": [
    "colors = [\"Black\",\"Grey\",\"Silver\",\"Blue\",\"Red\",\"Brown\",\"Green\",\"Beige\",\"Yellow\",\"Violet\",\"Bronze\",\"Orange\",\"Gold\"]"
   ]
  },
  {
   "cell_type": "code",
   "execution_count": 52,
   "id": "fc5b83e9",
   "metadata": {},
   "outputs": [],
   "source": [
    "def color(x):\n",
    "    if x in colors:\n",
    "        x = \"Colored\"\n",
    "    return x"
   ]
  },
  {
   "cell_type": "code",
   "execution_count": 53,
   "id": "dc509b44",
   "metadata": {},
   "outputs": [
    {
     "data": {
      "text/plain": [
       "Colored    11915\n",
       "White       3406\n",
       "NaN          597\n",
       "Name: Body Color, dtype: int64"
      ]
     },
     "execution_count": 53,
     "metadata": {},
     "output_type": "execute_result"
    }
   ],
   "source": [
    "df[\"Body Color\"] = df[\"Body Color\"].apply(color)\n",
    "df[\"Body Color\"].value_counts(dropna=False)"
   ]
  },
  {
   "cell_type": "markdown",
   "id": "a26341ac",
   "metadata": {},
   "source": [
    "## Upholstery"
   ]
  },
  {
   "cell_type": "code",
   "execution_count": 54,
   "id": "b4269a7a",
   "metadata": {},
   "outputs": [
    {
     "data": {
      "text/plain": [
       "15020           [\\nCloth, Black\\n]\n",
       "15807           [\\nFull leather\\n]\n",
       "13262                          NaN\n",
       "11319                  [\\nBlack\\n]\n",
       "4295             [\\nCloth, Grey\\n]\n",
       "11626           [\\nCloth, Black\\n]\n",
       "15211    [\\nPart leather, Brown\\n]\n",
       "15759                          NaN\n",
       "2148            [\\nCloth, Black\\n]\n",
       "3901            [\\nCloth, Black\\n]\n",
       "Name: Upholstery, dtype: object"
      ]
     },
     "execution_count": 54,
     "metadata": {},
     "output_type": "execute_result"
    }
   ],
   "source": [
    "df.Upholstery.sample(10)"
   ]
  },
  {
   "cell_type": "code",
   "execution_count": 55,
   "id": "5f1c99ae",
   "metadata": {},
   "outputs": [
    {
     "ename": "TypeError",
     "evalue": "unhashable type: 'list'",
     "output_type": "error",
     "traceback": [
      "\u001b[1;31m---------------------------------------------------------------------------\u001b[0m",
      "\u001b[1;31mTypeError\u001b[0m                                 Traceback (most recent call last)",
      "\u001b[1;32mpandas\\_libs\\hashtable_class_helper.pxi\u001b[0m in \u001b[0;36mpandas._libs.hashtable.PyObjectHashTable.map_locations\u001b[1;34m()\u001b[0m\n",
      "\u001b[1;31mTypeError\u001b[0m: unhashable type: 'list'"
     ]
    },
    {
     "name": "stderr",
     "output_type": "stream",
     "text": [
      "Exception ignored in: 'pandas._libs.index.IndexEngine._call_map_locations'\n",
      "Traceback (most recent call last):\n",
      "  File \"pandas\\_libs\\hashtable_class_helper.pxi\", line 5231, in pandas._libs.hashtable.PyObjectHashTable.map_locations\n",
      "TypeError: unhashable type: 'list'\n"
     ]
    },
    {
     "data": {
      "text/plain": [
       "[\\nCloth, Black\\n]           5820\n",
       "NaN                          3720\n",
       "[\\nPart leather, Black\\n]    1121\n",
       "[\\nCloth\\n]                  1005\n",
       "[\\nCloth, Grey\\n]             891\n",
       "[\\nCloth, Other\\n]            639\n",
       "[\\nFull leather, Black\\n]     575\n",
       "[\\nBlack\\n]                   491\n",
       "[\\nGrey\\n]                    273\n",
       "[\\nOther, Other\\n]            182\n",
       "[\\nPart leather\\n]            140\n",
       "[\\nFull leather\\n]            139\n",
       "[\\nFull leather, Brown\\n]     116\n",
       "[\\nPart leather, Grey\\n]      116\n",
       "[\\nOther, Black\\n]            110\n",
       "[\\nFull leather, Other\\n]      72\n",
       "[\\nFull leather, Grey\\n]       67\n",
       "[\\nPart leather, Other\\n]      65\n",
       "[\\nOther\\n]                    56\n",
       "[\\nPart leather, Brown\\n]      50\n",
       "[\\nalcantara, Black\\n]         47\n",
       "[\\nVelour, Black\\n]            36\n",
       "[\\nFull leather, Beige\\n]      36\n",
       "[\\nCloth, Brown\\n]             28\n",
       "[\\nVelour\\n]                   16\n",
       "[\\nOther, Grey\\n]              15\n",
       "[\\nCloth, Beige\\n]             13\n",
       "[\\nBrown\\n]                    12\n",
       "[\\nCloth, Blue\\n]              12\n",
       "[\\nVelour, Grey\\n]              8\n",
       "[\\nCloth, White\\n]              8\n",
       "[\\nalcantara, Grey\\n]           6\n",
       "[\\nCloth, Red\\n]                5\n",
       "[\\nOther, Yellow\\n]             4\n",
       "[\\nPart leather, Red\\n]         3\n",
       "[\\nBeige\\n]                     3\n",
       "[\\nPart leather, White\\n]       2\n",
       "[\\nFull leather, Blue\\n]        2\n",
       "[\\nalcantara, Other\\n]          2\n",
       "[\\nalcantara\\n]                 2\n",
       "[\\nWhite\\n]                     2\n",
       "[\\nPart leather, Beige\\n]       2\n",
       "[\\nBlue\\n]                      2\n",
       "[\\nCloth, Orange\\n]             1\n",
       "[\\nFull leather, Red\\n]         1\n",
       "[\\nOther, Brown\\n]              1\n",
       "[\\nFull leather, White\\n]       1\n",
       "Name: Upholstery, dtype: int64"
      ]
     },
     "execution_count": 55,
     "metadata": {},
     "output_type": "execute_result"
    }
   ],
   "source": [
    "df.Upholstery.value_counts(dropna=False)"
   ]
  },
  {
   "cell_type": "code",
   "execution_count": 56,
   "id": "806afa09",
   "metadata": {},
   "outputs": [
    {
     "data": {
      "text/plain": [
       "Cloth           8422\n",
       "NaN             3720\n",
       "Part leather    1499\n",
       "Full leather    1009\n",
       "Black            491\n",
       "Other            368\n",
       "Grey             273\n",
       "Velour            60\n",
       "alcantara         57\n",
       "Brown             12\n",
       "Beige              3\n",
       "Blue               2\n",
       "White              2\n",
       "Name: Upholstery, dtype: int64"
      ]
     },
     "execution_count": 56,
     "metadata": {},
     "output_type": "execute_result"
    }
   ],
   "source": [
    "df.Upholstery = df.Upholstery.str[0].str.split(\",\").str[0].str.strip(\"\\n\")\n",
    "df.Upholstery.value_counts(dropna=False)"
   ]
  },
  {
   "cell_type": "code",
   "execution_count": 57,
   "id": "13e25050",
   "metadata": {},
   "outputs": [],
   "source": [
    "def uphol(x):\n",
    "    if type(x) == float:\n",
    "        x = np.nan\n",
    "    elif \"leather\" in x:\n",
    "        x = \"Leather\"\n",
    "    elif x != \"Cloth\":\n",
    "        x = \"Other\"\n",
    "    return x"
   ]
  },
  {
   "cell_type": "code",
   "execution_count": 58,
   "id": "295e5525",
   "metadata": {},
   "outputs": [
    {
     "data": {
      "text/plain": [
       "Cloth      8422\n",
       "NaN        3720\n",
       "Leather    2508\n",
       "Other      1268\n",
       "Name: Upholstery, dtype: int64"
      ]
     },
     "execution_count": 58,
     "metadata": {},
     "output_type": "execute_result"
    }
   ],
   "source": [
    "df.Upholstery = df.Upholstery.apply(uphol)\n",
    "df.Upholstery.value_counts(dropna=False)"
   ]
  },
  {
   "cell_type": "markdown",
   "id": "d96de164",
   "metadata": {},
   "source": [
    "## Nr. of Doors"
   ]
  },
  {
   "cell_type": "code",
   "execution_count": 59,
   "id": "5f770050",
   "metadata": {
    "scrolled": true
   },
   "outputs": [
    {
     "data": {
      "text/plain": [
       "5      11574\n",
       "4       3079\n",
       "3        832\n",
       "2        219\n",
       "NaN      212\n",
       "1          1\n",
       "7          1\n",
       "Name: Nr. of Doors, dtype: int64"
      ]
     },
     "execution_count": 59,
     "metadata": {},
     "output_type": "execute_result"
    }
   ],
   "source": [
    "df[\"Nr. of Doors\"] = df[\"Nr. of Doors\"].str[0].str.strip(\"\\n\")\n",
    "df[\"Nr. of Doors\"].value_counts(dropna=False)"
   ]
  },
  {
   "cell_type": "code",
   "execution_count": 60,
   "id": "fce37095",
   "metadata": {},
   "outputs": [],
   "source": [
    "df[\"Nr. of Doors\"] = df[\"Nr. of Doors\"].astype(float)"
   ]
  },
  {
   "cell_type": "markdown",
   "id": "0cdf6268",
   "metadata": {},
   "source": [
    "## Nr. of Seats"
   ]
  },
  {
   "cell_type": "code",
   "execution_count": 61,
   "id": "64e32834",
   "metadata": {},
   "outputs": [
    {
     "data": {
      "text/plain": [
       "5      13335\n",
       "4       1125\n",
       "NaN      977\n",
       "7        362\n",
       "2        116\n",
       "6          2\n",
       "3          1\n",
       "Name: Nr. of Seats, dtype: int64"
      ]
     },
     "execution_count": 61,
     "metadata": {},
     "output_type": "execute_result"
    }
   ],
   "source": [
    "df[\"Nr. of Seats\"] = df[\"Nr. of Seats\"].str[0].str.strip(\"\\n\")\n",
    "df[\"Nr. of Seats\"].value_counts(dropna=False)"
   ]
  },
  {
   "cell_type": "code",
   "execution_count": 62,
   "id": "5eb3a269",
   "metadata": {},
   "outputs": [],
   "source": [
    "df[\"Nr. of Seats\"] = df[\"Nr. of Seats\"].astype(float)"
   ]
  },
  {
   "cell_type": "markdown",
   "id": "df9c944d",
   "metadata": {},
   "source": [
    "## Gearing Type"
   ]
  },
  {
   "cell_type": "code",
   "execution_count": 63,
   "id": "5cd1379c",
   "metadata": {
    "scrolled": true
   },
   "outputs": [
    {
     "data": {
      "text/plain": [
       "Manual            8152\n",
       "Automatic         7297\n",
       "Semi-automatic     469\n",
       "Name: Gearing Type, dtype: int64"
      ]
     },
     "execution_count": 63,
     "metadata": {},
     "output_type": "execute_result"
    }
   ],
   "source": [
    "df[\"Gearing Type\"] = df[\"Gearing Type\"].str[1]\n",
    "df[\"Gearing Type\"].value_counts(dropna=False)"
   ]
  },
  {
   "cell_type": "markdown",
   "id": "20d2ecdf",
   "metadata": {},
   "source": [
    "## Displacement"
   ]
  },
  {
   "cell_type": "code",
   "execution_count": 64,
   "id": "1f6897bf",
   "metadata": {
    "scrolled": true
   },
   "outputs": [
    {
     "data": {
      "text/plain": [
       "1598    4760\n",
       "999     2438\n",
       "1398    1314\n",
       "1399     749\n",
       "1229     677\n",
       "        ... \n",
       "122        1\n",
       "1198       1\n",
       "1195       1\n",
       "2967       1\n",
       "1800       1\n",
       "Name: Displacement, Length: 78, dtype: int64"
      ]
     },
     "execution_count": 64,
     "metadata": {},
     "output_type": "execute_result"
    }
   ],
   "source": [
    "df.Displacement = df.Displacement.str[0].str.strip(\"\\n cc\").str.replace(\",\",\"\")\n",
    "df.Displacement.value_counts(dropna=False)"
   ]
  },
  {
   "cell_type": "code",
   "execution_count": 65,
   "id": "0fa007e6",
   "metadata": {},
   "outputs": [],
   "source": [
    "df.Displacement = df.Displacement.astype(float)"
   ]
  },
  {
   "cell_type": "code",
   "execution_count": 66,
   "id": "42c98c17",
   "metadata": {},
   "outputs": [
    {
     "data": {
      "text/plain": [
       "8290     1398.0\n",
       "14302    1149.0\n",
       "3544     1598.0\n",
       "9214     1229.0\n",
       "6571     1399.0\n",
       "8083     1368.0\n",
       "1479      999.0\n",
       "6196     1598.0\n",
       "3091     1598.0\n",
       "15893    1997.0\n",
       "Name: Displacement, dtype: float64"
      ]
     },
     "execution_count": 66,
     "metadata": {},
     "output_type": "execute_result"
    }
   ],
   "source": [
    "df.Displacement.sample(10)"
   ]
  },
  {
   "cell_type": "markdown",
   "id": "494cea56",
   "metadata": {},
   "source": [
    "## Weight"
   ]
  },
  {
   "cell_type": "code",
   "execution_count": 67,
   "id": "6794b361",
   "metadata": {
    "scrolled": false
   },
   "outputs": [
    {
     "ename": "TypeError",
     "evalue": "unhashable type: 'list'",
     "output_type": "error",
     "traceback": [
      "\u001b[1;31m---------------------------------------------------------------------------\u001b[0m",
      "\u001b[1;31mTypeError\u001b[0m                                 Traceback (most recent call last)",
      "\u001b[1;32mpandas\\_libs\\hashtable_class_helper.pxi\u001b[0m in \u001b[0;36mpandas._libs.hashtable.PyObjectHashTable.map_locations\u001b[1;34m()\u001b[0m\n",
      "\u001b[1;31mTypeError\u001b[0m: unhashable type: 'list'"
     ]
    },
    {
     "name": "stderr",
     "output_type": "stream",
     "text": [
      "Exception ignored in: 'pandas._libs.index.IndexEngine._call_map_locations'\n",
      "Traceback (most recent call last):\n",
      "  File \"pandas\\_libs\\hashtable_class_helper.pxi\", line 5231, in pandas._libs.hashtable.PyObjectHashTable.map_locations\n",
      "TypeError: unhashable type: 'list'\n"
     ]
    },
    {
     "data": {
      "text/plain": [
       "NaN               6973\n",
       "[\\n1,163 kg\\n]     574\n",
       "[\\n1,360 kg\\n]     356\n",
       "[\\n1,165 kg\\n]     301\n",
       "[\\n1,335 kg\\n]     242\n",
       "                  ... \n",
       "[\\n1,960 kg\\n]       1\n",
       "[\\n1,258 kg\\n]       1\n",
       "[\\n1,167 kg\\n]       1\n",
       "[\\n1,331 kg\\n]       1\n",
       "[\\n2,037 kg\\n]       1\n",
       "Name: Weight, Length: 435, dtype: int64"
      ]
     },
     "execution_count": 67,
     "metadata": {},
     "output_type": "execute_result"
    }
   ],
   "source": [
    "df.Weight.value_counts(dropna=False)"
   ]
  },
  {
   "cell_type": "code",
   "execution_count": 68,
   "id": "ecfedacd",
   "metadata": {},
   "outputs": [
    {
     "data": {
      "text/plain": [
       "0        1220.0\n",
       "1        1255.0\n",
       "2           NaN\n",
       "3        1195.0\n",
       "4           NaN\n",
       "          ...  \n",
       "15914    1758.0\n",
       "15915    1708.0\n",
       "15916       NaN\n",
       "15917    1758.0\n",
       "15918    1685.0\n",
       "Name: Weight, Length: 15918, dtype: float64"
      ]
     },
     "execution_count": 68,
     "metadata": {},
     "output_type": "execute_result"
    }
   ],
   "source": [
    "df.Weight = df.Weight.str[0].str.strip(\"\\n kg\").str.replace(\",\",\"\")\n",
    "df.Weight = df.Weight.astype(float)\n",
    "df.Weight"
   ]
  },
  {
   "cell_type": "markdown",
   "id": "0f2d93eb",
   "metadata": {},
   "source": [
    "## Fuel"
   ]
  },
  {
   "cell_type": "code",
   "execution_count": 69,
   "id": "bb8a8f12",
   "metadata": {},
   "outputs": [
    {
     "data": {
      "text/plain": [
       "5003     [\\n, Diesel (Particulate Filter), \\n]\n",
       "130                           [\\n, Diesel, \\n]\n",
       "8582                        [\\n, Gasoline, \\n]\n",
       "14225                       [\\n, Super 95, \\n]\n",
       "6636                    [\\n, Super E10 95, \\n]\n",
       "7563                        [\\n, Gasoline, \\n]\n",
       "2772                        [\\n, Super 95, \\n]\n",
       "14753                       [\\n, Super 95, \\n]\n",
       "6833     [\\n, Diesel (Particulate Filter), \\n]\n",
       "2110                        [\\n, Gasoline, \\n]\n",
       "1517                        [\\n, Super 95, \\n]\n",
       "10246                       [\\n, Super 95, \\n]\n",
       "10821                         [\\n, Diesel, \\n]\n",
       "1154                        [\\n, Gasoline, \\n]\n",
       "2281                        [\\n, Super 95, \\n]\n",
       "3806                          [\\n, Diesel, \\n]\n",
       "15455                         [\\n, Diesel, \\n]\n",
       "5694                        [\\n, Gasoline, \\n]\n",
       "2079                        [\\n, Gasoline, \\n]\n",
       "12709                       [\\n, Super 95, \\n]\n",
       "Name: Fuel, dtype: object"
      ]
     },
     "execution_count": 69,
     "metadata": {},
     "output_type": "execute_result"
    }
   ],
   "source": [
    "df.Fuel.sample(20)"
   ]
  },
  {
   "cell_type": "code",
   "execution_count": 70,
   "id": "6953fa00",
   "metadata": {
    "scrolled": true
   },
   "outputs": [
    {
     "data": {
      "text/plain": [
       "Diesel (Particulate Filter)                                                                                  4314\n",
       "Super 95                                                                                                     3338\n",
       "Gasoline                                                                                                     3175\n",
       "Diesel                                                                                                       2984\n",
       "Super 95 / Regular/Benzine 91                                                                                 424\n",
       "                                                                                                             ... \n",
       "Regular/Benzine 91 / Super 95 / Regular/Benzine E10 91                                                          1\n",
       "Super Plus 98 / Super E10 95                                                                                    1\n",
       "Regular/Benzine 91 / Super 95 / Regular/Benzine E10 91 / Super E10 95 / Super Plus 98 / Super Plus E10 98       1\n",
       "Regular/Benzine 91 / Super Plus 98 / Regular/Benzine E10 91 / Super 95 / Super E10 95 / Super Plus E10 98       1\n",
       "Super Plus 98 / Super 95 / Super Plus E10 98                                                                    1\n",
       "Name: Fuel, Length: 77, dtype: int64"
      ]
     },
     "execution_count": 70,
     "metadata": {},
     "output_type": "execute_result"
    }
   ],
   "source": [
    "df.Fuel = df.Fuel.str[1]\n",
    "df.Fuel.value_counts(dropna=False)"
   ]
  },
  {
   "cell_type": "code",
   "execution_count": 71,
   "id": "216996e3",
   "metadata": {},
   "outputs": [
    {
     "data": {
      "text/plain": [
       "0                          Diesel (Particulate Filter)\n",
       "1                                             Gasoline\n",
       "2                          Diesel (Particulate Filter)\n",
       "3                          Diesel (Particulate Filter)\n",
       "4                          Diesel (Particulate Filter)\n",
       "                             ...                      \n",
       "15914                      Diesel (Particulate Filter)\n",
       "15915    Super 95 / Super Plus 98 (Particulate Filter)\n",
       "15916                                           Diesel\n",
       "15917                                           Diesel\n",
       "15918                                         Super 95\n",
       "Name: Fuel, Length: 15918, dtype: object"
      ]
     },
     "execution_count": 71,
     "metadata": {},
     "output_type": "execute_result"
    }
   ],
   "source": [
    "df.Fuel"
   ]
  },
  {
   "cell_type": "code",
   "execution_count": 72,
   "id": "703a1eb3",
   "metadata": {},
   "outputs": [
    {
     "data": {
      "text/plain": [
       "Diesel                  7298\n",
       "Super 95                4368\n",
       "Gasoline                3252\n",
       "Regular                  503\n",
       "Super E10 95             409\n",
       "CNG                       36\n",
       "LPG                       16\n",
       "Super Plus 98             11\n",
       "Liquid petroleum gas      10\n",
       "Others                     6\n",
       "Electric                   5\n",
       "Super Plus E10 98          2\n",
       "Biogas                     1\n",
       "Domestic gas H             1\n",
       "Name: Fuel, dtype: int64"
      ]
     },
     "execution_count": 72,
     "metadata": {},
     "output_type": "execute_result"
    }
   ],
   "source": [
    "df.Fuel = df.Fuel.str.split(\"(\").str[0].str.strip(\" \")\n",
    "df.Fuel = df.Fuel.str.split(\"/\").str[0].str.strip(\" \")\n",
    "df.Fuel.value_counts(dropna=False)"
   ]
  },
  {
   "cell_type": "code",
   "execution_count": 73,
   "id": "1416842e",
   "metadata": {},
   "outputs": [],
   "source": [
    "benzine = [\"Gasoline\", \"Super 95\",\"Regular\",\"Super E10 95\",\"Super Plus 98\",\"Super Plus E10 98\", \"Others\"]\n",
    "lpg = [\"LPG\",\"Liquid petroleum gas\", \"CNG\", \"Biogas\", \"Domestic gas H\"]"
   ]
  },
  {
   "cell_type": "code",
   "execution_count": 74,
   "id": "4f3d43f5",
   "metadata": {},
   "outputs": [],
   "source": [
    "def fuel(x):\n",
    "    if x in benzine:\n",
    "        x = \"Benzine\"\n",
    "    elif x in lpg:\n",
    "        x = \"LPG/CNG\"\n",
    "    return x"
   ]
  },
  {
   "cell_type": "code",
   "execution_count": 75,
   "id": "c1d7bdd0",
   "metadata": {},
   "outputs": [
    {
     "data": {
      "text/plain": [
       "Benzine     8551\n",
       "Diesel      7298\n",
       "LPG/CNG       64\n",
       "Electric       5\n",
       "Name: Fuel, dtype: int64"
      ]
     },
     "execution_count": 75,
     "metadata": {},
     "output_type": "execute_result"
    }
   ],
   "source": [
    "df.Fuel = df.Fuel.apply(fuel)\n",
    "df.Fuel.value_counts(dropna=False)"
   ]
  },
  {
   "cell_type": "markdown",
   "id": "e470770c",
   "metadata": {},
   "source": [
    "## Consumption"
   ]
  },
  {
   "cell_type": "code",
   "execution_count": 76,
   "id": "6c3fc310",
   "metadata": {},
   "outputs": [],
   "source": [
    "comb = df.Consumption.str[0].str[0]\n",
    "city = df.Consumption.str[1].str[0]\n",
    "country = df.Consumption.str[2].str[0]"
   ]
  },
  {
   "cell_type": "code",
   "execution_count": 77,
   "id": "4edeb97a",
   "metadata": {},
   "outputs": [
    {
     "data": {
      "text/plain": [
       "0        4.3 l/100 km (city)\n",
       "1        7.1 l/100 km (city)\n",
       "2        4.4 l/100 km (city)\n",
       "3        4.3 l/100 km (city)\n",
       "4        4.6 l/100 km (city)\n",
       "                ...         \n",
       "15914    6.2 l/100 km (city)\n",
       "15915                      7\n",
       "15916    6.2 l/100 km (city)\n",
       "15917    6.2 l/100 km (city)\n",
       "15918    8.7 l/100 km (city)\n",
       "Name: Consumption, Length: 15918, dtype: object"
      ]
     },
     "execution_count": 77,
     "metadata": {},
     "output_type": "execute_result"
    }
   ],
   "source": [
    "city"
   ]
  },
  {
   "cell_type": "code",
   "execution_count": 78,
   "id": "36e3349d",
   "metadata": {},
   "outputs": [],
   "source": [
    "def cons_clean(x):\n",
    "    if \"/100\" in str(x):\n",
    "        x = x.split(\"/\")[0].strip(\" lkg\")\n",
    "    else:\n",
    "        x = np.nan\n",
    "    return x"
   ]
  },
  {
   "cell_type": "code",
   "execution_count": 79,
   "id": "7d5a6f63",
   "metadata": {},
   "outputs": [],
   "source": [
    "comb = comb.apply(cons_clean)\n",
    "city = city.apply(cons_clean)\n",
    "country = country.apply(cons_clean)"
   ]
  },
  {
   "cell_type": "code",
   "execution_count": 80,
   "id": "7023af37",
   "metadata": {},
   "outputs": [
    {
     "data": {
      "text/plain": [
       "2883"
      ]
     },
     "execution_count": 80,
     "metadata": {},
     "output_type": "execute_result"
    }
   ],
   "source": [
    "comb.isna().sum()"
   ]
  },
  {
   "cell_type": "code",
   "execution_count": 81,
   "id": "ca8c727f",
   "metadata": {},
   "outputs": [],
   "source": [
    "comb = comb.astype(float)\n",
    "city = city.astype(float)\n",
    "country = country.astype(float)"
   ]
  },
  {
   "cell_type": "code",
   "execution_count": 82,
   "id": "29e9f76b",
   "metadata": {},
   "outputs": [],
   "source": [
    "comb.fillna((city+country)/2, inplace=True)"
   ]
  },
  {
   "cell_type": "code",
   "execution_count": 83,
   "id": "a726bb03",
   "metadata": {},
   "outputs": [],
   "source": [
    "df.Consumption = comb"
   ]
  },
  {
   "cell_type": "code",
   "execution_count": 84,
   "id": "32a3942e",
   "metadata": {},
   "outputs": [],
   "source": [
    "df[\"Comfort & Convenience\"] = df0[\"\\nComfort & Convenience\\n\"]\n",
    "df[\"Entertainment & Media\"] = df0[\"\\nEntertainment & Media\\n\"]\n",
    "df[\"Extras\"] = df0[\"\\nExtras\\n\"]\n",
    "df[\"Safety & Security\"] = df0[\"\\nSafety & Security\\n\"]"
   ]
  },
  {
   "cell_type": "markdown",
   "id": "903a4571",
   "metadata": {},
   "source": [
    "## Comfort & Convenience"
   ]
  },
  {
   "cell_type": "code",
   "execution_count": 85,
   "id": "da7623d2",
   "metadata": {},
   "outputs": [],
   "source": [
    "def unlist(x):\n",
    "    if type(x) == list:\n",
    "        x = \"|\".join(x)\n",
    "    else:\n",
    "        x = np.nan\n",
    "    return x"
   ]
  },
  {
   "cell_type": "code",
   "execution_count": 86,
   "id": "de0b5b23",
   "metadata": {},
   "outputs": [],
   "source": [
    "df[\"Comfort & Convenience\"] = df[\"\\nComfort & Convenience\\n\"]\n",
    "df.drop([\"\\nComfort & Convenience\\n\"],axis=1, inplace=True)"
   ]
  },
  {
   "cell_type": "code",
   "execution_count": 87,
   "id": "77ea2b1e",
   "metadata": {},
   "outputs": [],
   "source": [
    "df[\"Comfort & Convenience\"] = df[\"Comfort & Convenience\"].apply(unlist)"
   ]
  },
  {
   "cell_type": "markdown",
   "id": "8e25bce5",
   "metadata": {},
   "source": [
    "## Entertainment & Media"
   ]
  },
  {
   "cell_type": "code",
   "execution_count": 88,
   "id": "5b3f4035",
   "metadata": {},
   "outputs": [],
   "source": [
    "df[\"Entertainment & Media\"] = df[\"\\nEntertainment & Media\\n\"]\n",
    "df.drop([\"\\nEntertainment & Media\\n\"],axis=1, inplace=True)"
   ]
  },
  {
   "cell_type": "code",
   "execution_count": 89,
   "id": "556de155",
   "metadata": {},
   "outputs": [],
   "source": [
    "df[\"Entertainment & Media\"] = df[\"Entertainment & Media\"].apply(unlist)"
   ]
  },
  {
   "cell_type": "markdown",
   "id": "5356aad3",
   "metadata": {},
   "source": [
    "## Extras"
   ]
  },
  {
   "cell_type": "code",
   "execution_count": 90,
   "id": "03fb6b60",
   "metadata": {},
   "outputs": [],
   "source": [
    "df[\"Extras\"] = df[\"\\nExtras\\n\"]\n",
    "df.drop([\"\\nExtras\\n\"],axis=1, inplace=True)"
   ]
  },
  {
   "cell_type": "code",
   "execution_count": 91,
   "id": "a664dc1c",
   "metadata": {},
   "outputs": [],
   "source": [
    "df[\"Extras\"] = df[\"Extras\"].apply(unlist)"
   ]
  },
  {
   "cell_type": "markdown",
   "id": "fb2b04fb",
   "metadata": {},
   "source": [
    "## Safety & Security"
   ]
  },
  {
   "cell_type": "code",
   "execution_count": 92,
   "id": "aab809bf",
   "metadata": {},
   "outputs": [],
   "source": [
    "df[\"Safety & Security\"] = df[\"\\nSafety & Security\\n\"]\n",
    "df.drop([\"\\nSafety & Security\\n\"],axis=1, inplace=True)"
   ]
  },
  {
   "cell_type": "code",
   "execution_count": 93,
   "id": "f22bf36b",
   "metadata": {},
   "outputs": [],
   "source": [
    "df[\"Safety & Security\"] = df[\"Safety & Security\"].apply(unlist)"
   ]
  },
  {
   "cell_type": "markdown",
   "id": "81ea884e",
   "metadata": {},
   "source": [
    "## Gears"
   ]
  },
  {
   "cell_type": "code",
   "execution_count": 94,
   "id": "b265f191",
   "metadata": {},
   "outputs": [
    {
     "ename": "TypeError",
     "evalue": "unhashable type: 'list'",
     "output_type": "error",
     "traceback": [
      "\u001b[1;31m---------------------------------------------------------------------------\u001b[0m",
      "\u001b[1;31mTypeError\u001b[0m                                 Traceback (most recent call last)",
      "\u001b[1;32mpandas\\_libs\\hashtable_class_helper.pxi\u001b[0m in \u001b[0;36mpandas._libs.hashtable.PyObjectHashTable.map_locations\u001b[1;34m()\u001b[0m\n",
      "\u001b[1;31mTypeError\u001b[0m: unhashable type: 'list'"
     ]
    },
    {
     "name": "stderr",
     "output_type": "stream",
     "text": [
      "Exception ignored in: 'pandas._libs.index.IndexEngine._call_map_locations'\n",
      "Traceback (most recent call last):\n",
      "  File \"pandas\\_libs\\hashtable_class_helper.pxi\", line 5231, in pandas._libs.hashtable.PyObjectHashTable.map_locations\n",
      "TypeError: unhashable type: 'list'\n"
     ]
    },
    {
     "data": {
      "text/plain": [
       "[\\n6\\n]     5822\n",
       "NaN         4711\n",
       "[\\n5\\n]     3239\n",
       "[\\n7\\n]     1908\n",
       "[\\n8\\n]      224\n",
       "[\\n9\\n]        6\n",
       "[\\n1\\n]        2\n",
       "[\\n3\\n]        2\n",
       "[\\n4\\n]        2\n",
       "[\\n2\\n]        1\n",
       "[\\n50\\n]       1\n",
       "Name: Gears, dtype: int64"
      ]
     },
     "execution_count": 94,
     "metadata": {},
     "output_type": "execute_result"
    }
   ],
   "source": [
    "df.Gears.value_counts(dropna=False)"
   ]
  },
  {
   "cell_type": "code",
   "execution_count": 95,
   "id": "505eb9aa",
   "metadata": {},
   "outputs": [],
   "source": [
    "df.Gears = df.Gears.str[0].str.strip(\"\\n\")"
   ]
  },
  {
   "cell_type": "code",
   "execution_count": 96,
   "id": "d7aa0be0",
   "metadata": {},
   "outputs": [],
   "source": [
    "df.Gears = df.Gears.astype(float)"
   ]
  },
  {
   "cell_type": "code",
   "execution_count": 97,
   "id": "7fcf3910",
   "metadata": {},
   "outputs": [
    {
     "data": {
      "text/plain": [
       "6.0     5822\n",
       "NaN     4711\n",
       "5.0     3239\n",
       "7.0     1908\n",
       "8.0      224\n",
       "9.0        6\n",
       "1.0        2\n",
       "3.0        2\n",
       "4.0        2\n",
       "2.0        1\n",
       "50.0       1\n",
       "Name: Gears, dtype: int64"
      ]
     },
     "execution_count": 97,
     "metadata": {},
     "output_type": "execute_result"
    }
   ],
   "source": [
    "df.Gears.value_counts(dropna=False)"
   ]
  },
  {
   "cell_type": "markdown",
   "id": "3e9b630c",
   "metadata": {},
   "source": [
    "## End of Part-1"
   ]
  },
  {
   "cell_type": "code",
   "execution_count": 98,
   "id": "4dee9cd9",
   "metadata": {},
   "outputs": [],
   "source": [
    "df.drop([\"url\",\"short_description\"],axis=1,inplace=True)"
   ]
  },
  {
   "cell_type": "code",
   "execution_count": 99,
   "id": "33c87571",
   "metadata": {},
   "outputs": [],
   "source": [
    "df.rename(columns={\"Warranty\":\"Warranty_months\", \"Displacement\":\"Displacement_cc\", \n",
    "                   \"Weight\":\"Weight_kg\", \"Consumption\":\"Consumption_comb\"}, inplace=True)"
   ]
  },
  {
   "cell_type": "code",
   "execution_count": 100,
   "id": "fac54f40",
   "metadata": {},
   "outputs": [
    {
     "data": {
      "text/plain": [
       "(15918, 24)"
      ]
     },
     "execution_count": 100,
     "metadata": {},
     "output_type": "execute_result"
    }
   ],
   "source": [
    "df.shape"
   ]
  },
  {
   "cell_type": "code",
   "execution_count": 101,
   "id": "06b42990",
   "metadata": {
    "scrolled": false
   },
   "outputs": [
    {
     "name": "stdout",
     "output_type": "stream",
     "text": [
      "<class 'pandas.core.frame.DataFrame'>\n",
      "Int64Index: 15918 entries, 0 to 15918\n",
      "Data columns (total 24 columns):\n",
      " #   Column                 Non-Null Count  Dtype  \n",
      "---  ------                 --------------  -----  \n",
      " 0   make_model             15918 non-null  object \n",
      " 1   body_type              15858 non-null  object \n",
      " 2   price                  15918 non-null  int64  \n",
      " 3   vat                    11405 non-null  object \n",
      " 4   km                     15918 non-null  int32  \n",
      " 5   prev_owner             9090 non-null   float64\n",
      " 6   hp                     15830 non-null  float64\n",
      " 7   Type                   15916 non-null  object \n",
      " 8   Warranty_months        4853 non-null   float64\n",
      " 9   Body Color             15321 non-null  object \n",
      " 10  Upholstery             12198 non-null  object \n",
      " 11  Nr. of Doors           15706 non-null  float64\n",
      " 12  Nr. of Seats           14941 non-null  float64\n",
      " 13  Gearing Type           15918 non-null  object \n",
      " 14  Displacement_cc        15422 non-null  float64\n",
      " 15  Weight_kg              8945 non-null   float64\n",
      " 16  Fuel                   15918 non-null  object \n",
      " 17  Consumption_comb       13143 non-null  float64\n",
      " 18  Gears                  11207 non-null  float64\n",
      " 19  Age                    15918 non-null  float64\n",
      " 20  Comfort & Convenience  14998 non-null  object \n",
      " 21  Entertainment & Media  14544 non-null  object \n",
      " 22  Extras                 12956 non-null  object \n",
      " 23  Safety & Security      14936 non-null  object \n",
      "dtypes: float64(10), int32(1), int64(1), object(12)\n",
      "memory usage: 3.0+ MB\n"
     ]
    }
   ],
   "source": [
    "df.info()"
   ]
  },
  {
   "cell_type": "code",
   "execution_count": 102,
   "id": "f266f394",
   "metadata": {},
   "outputs": [
    {
     "data": {
      "text/html": [
       "<div>\n",
       "<style scoped>\n",
       "    .dataframe tbody tr th:only-of-type {\n",
       "        vertical-align: middle;\n",
       "    }\n",
       "\n",
       "    .dataframe tbody tr th {\n",
       "        vertical-align: top;\n",
       "    }\n",
       "\n",
       "    .dataframe thead th {\n",
       "        text-align: right;\n",
       "    }\n",
       "</style>\n",
       "<table border=\"1\" class=\"dataframe\">\n",
       "  <thead>\n",
       "    <tr style=\"text-align: right;\">\n",
       "      <th></th>\n",
       "      <th>1951</th>\n",
       "      <th>517</th>\n",
       "      <th>8225</th>\n",
       "    </tr>\n",
       "  </thead>\n",
       "  <tbody>\n",
       "    <tr>\n",
       "      <th>make_model</th>\n",
       "      <td>Audi A1</td>\n",
       "      <td>Audi A1</td>\n",
       "      <td>Opel Astra</td>\n",
       "    </tr>\n",
       "    <tr>\n",
       "      <th>body_type</th>\n",
       "      <td>Compact</td>\n",
       "      <td>Sedans</td>\n",
       "      <td>Sedans</td>\n",
       "    </tr>\n",
       "    <tr>\n",
       "      <th>price</th>\n",
       "      <td>27980</td>\n",
       "      <td>13000</td>\n",
       "      <td>17990</td>\n",
       "    </tr>\n",
       "    <tr>\n",
       "      <th>vat</th>\n",
       "      <td>Discount</td>\n",
       "      <td>Discount</td>\n",
       "      <td>Discount</td>\n",
       "    </tr>\n",
       "    <tr>\n",
       "      <th>km</th>\n",
       "      <td>0</td>\n",
       "      <td>29000</td>\n",
       "      <td>5</td>\n",
       "    </tr>\n",
       "    <tr>\n",
       "      <th>prev_owner</th>\n",
       "      <td>NaN</td>\n",
       "      <td>NaN</td>\n",
       "      <td>NaN</td>\n",
       "    </tr>\n",
       "    <tr>\n",
       "      <th>hp</th>\n",
       "      <td>113.986878</td>\n",
       "      <td>88.507458</td>\n",
       "      <td>123.374032</td>\n",
       "    </tr>\n",
       "    <tr>\n",
       "      <th>Type</th>\n",
       "      <td>New</td>\n",
       "      <td>Used</td>\n",
       "      <td>Used</td>\n",
       "    </tr>\n",
       "    <tr>\n",
       "      <th>Warranty_months</th>\n",
       "      <td>NaN</td>\n",
       "      <td>24.0</td>\n",
       "      <td>NaN</td>\n",
       "    </tr>\n",
       "    <tr>\n",
       "      <th>Body Color</th>\n",
       "      <td>White</td>\n",
       "      <td>Colored</td>\n",
       "      <td>Colored</td>\n",
       "    </tr>\n",
       "    <tr>\n",
       "      <th>Upholstery</th>\n",
       "      <td>Cloth</td>\n",
       "      <td>NaN</td>\n",
       "      <td>Cloth</td>\n",
       "    </tr>\n",
       "    <tr>\n",
       "      <th>Nr. of Doors</th>\n",
       "      <td>5.0</td>\n",
       "      <td>5.0</td>\n",
       "      <td>5.0</td>\n",
       "    </tr>\n",
       "    <tr>\n",
       "      <th>Nr. of Seats</th>\n",
       "      <td>NaN</td>\n",
       "      <td>5.0</td>\n",
       "      <td>5.0</td>\n",
       "    </tr>\n",
       "    <tr>\n",
       "      <th>Gearing Type</th>\n",
       "      <td>Automatic</td>\n",
       "      <td>Manual</td>\n",
       "      <td>Manual</td>\n",
       "    </tr>\n",
       "    <tr>\n",
       "      <th>Displacement_cc</th>\n",
       "      <td>NaN</td>\n",
       "      <td>1422.0</td>\n",
       "      <td>1399.0</td>\n",
       "    </tr>\n",
       "    <tr>\n",
       "      <th>Weight_kg</th>\n",
       "      <td>1200.0</td>\n",
       "      <td>1640.0</td>\n",
       "      <td>NaN</td>\n",
       "    </tr>\n",
       "    <tr>\n",
       "      <th>Fuel</th>\n",
       "      <td>Benzine</td>\n",
       "      <td>Diesel</td>\n",
       "      <td>Benzine</td>\n",
       "    </tr>\n",
       "    <tr>\n",
       "      <th>Consumption_comb</th>\n",
       "      <td>4.8</td>\n",
       "      <td>3.7</td>\n",
       "      <td>5.4</td>\n",
       "    </tr>\n",
       "    <tr>\n",
       "      <th>Gears</th>\n",
       "      <td>NaN</td>\n",
       "      <td>5.0</td>\n",
       "      <td>6.0</td>\n",
       "    </tr>\n",
       "    <tr>\n",
       "      <th>Age</th>\n",
       "      <td>0.0</td>\n",
       "      <td>3.0</td>\n",
       "      <td>0.0</td>\n",
       "    </tr>\n",
       "    <tr>\n",
       "      <th>Comfort &amp; Convenience</th>\n",
       "      <td>Air conditioning|Armrest|Automatic climate con...</td>\n",
       "      <td>Air conditioning|Power windows|Start-stop system</td>\n",
       "      <td>Air conditioning|Armrest|Automatic climate con...</td>\n",
       "    </tr>\n",
       "    <tr>\n",
       "      <th>Entertainment &amp; Media</th>\n",
       "      <td>Sound system</td>\n",
       "      <td>Radio</td>\n",
       "      <td>Bluetooth|Hands-free equipment|On-board comput...</td>\n",
       "    </tr>\n",
       "    <tr>\n",
       "      <th>Extras</th>\n",
       "      <td>Alloy wheels</td>\n",
       "      <td>NaN</td>\n",
       "      <td>Alloy wheels|Touch screen</td>\n",
       "    </tr>\n",
       "    <tr>\n",
       "      <th>Safety &amp; Security</th>\n",
       "      <td>Daytime running lights|Driver-side airbag|Elec...</td>\n",
       "      <td>ABS|Central door lock|Daytime running lights|D...</td>\n",
       "      <td>ABS|Central door lock|Daytime running lights|D...</td>\n",
       "    </tr>\n",
       "  </tbody>\n",
       "</table>\n",
       "</div>"
      ],
      "text/plain": [
       "                                                                    1951  \\\n",
       "make_model                                                       Audi A1   \n",
       "body_type                                                        Compact   \n",
       "price                                                              27980   \n",
       "vat                                                             Discount   \n",
       "km                                                                     0   \n",
       "prev_owner                                                           NaN   \n",
       "hp                                                            113.986878   \n",
       "Type                                                                 New   \n",
       "Warranty_months                                                      NaN   \n",
       "Body Color                                                         White   \n",
       "Upholstery                                                         Cloth   \n",
       "Nr. of Doors                                                         5.0   \n",
       "Nr. of Seats                                                         NaN   \n",
       "Gearing Type                                                   Automatic   \n",
       "Displacement_cc                                                      NaN   \n",
       "Weight_kg                                                         1200.0   \n",
       "Fuel                                                             Benzine   \n",
       "Consumption_comb                                                     4.8   \n",
       "Gears                                                                NaN   \n",
       "Age                                                                  0.0   \n",
       "Comfort & Convenience  Air conditioning|Armrest|Automatic climate con...   \n",
       "Entertainment & Media                                       Sound system   \n",
       "Extras                                                      Alloy wheels   \n",
       "Safety & Security      Daytime running lights|Driver-side airbag|Elec...   \n",
       "\n",
       "                                                                    517   \\\n",
       "make_model                                                       Audi A1   \n",
       "body_type                                                         Sedans   \n",
       "price                                                              13000   \n",
       "vat                                                             Discount   \n",
       "km                                                                 29000   \n",
       "prev_owner                                                           NaN   \n",
       "hp                                                             88.507458   \n",
       "Type                                                                Used   \n",
       "Warranty_months                                                     24.0   \n",
       "Body Color                                                       Colored   \n",
       "Upholstery                                                           NaN   \n",
       "Nr. of Doors                                                         5.0   \n",
       "Nr. of Seats                                                         5.0   \n",
       "Gearing Type                                                      Manual   \n",
       "Displacement_cc                                                   1422.0   \n",
       "Weight_kg                                                         1640.0   \n",
       "Fuel                                                              Diesel   \n",
       "Consumption_comb                                                     3.7   \n",
       "Gears                                                                5.0   \n",
       "Age                                                                  3.0   \n",
       "Comfort & Convenience   Air conditioning|Power windows|Start-stop system   \n",
       "Entertainment & Media                                              Radio   \n",
       "Extras                                                               NaN   \n",
       "Safety & Security      ABS|Central door lock|Daytime running lights|D...   \n",
       "\n",
       "                                                                    8225  \n",
       "make_model                                                    Opel Astra  \n",
       "body_type                                                         Sedans  \n",
       "price                                                              17990  \n",
       "vat                                                             Discount  \n",
       "km                                                                     5  \n",
       "prev_owner                                                           NaN  \n",
       "hp                                                            123.374032  \n",
       "Type                                                                Used  \n",
       "Warranty_months                                                      NaN  \n",
       "Body Color                                                       Colored  \n",
       "Upholstery                                                         Cloth  \n",
       "Nr. of Doors                                                         5.0  \n",
       "Nr. of Seats                                                         5.0  \n",
       "Gearing Type                                                      Manual  \n",
       "Displacement_cc                                                   1399.0  \n",
       "Weight_kg                                                            NaN  \n",
       "Fuel                                                             Benzine  \n",
       "Consumption_comb                                                     5.4  \n",
       "Gears                                                                6.0  \n",
       "Age                                                                  0.0  \n",
       "Comfort & Convenience  Air conditioning|Armrest|Automatic climate con...  \n",
       "Entertainment & Media  Bluetooth|Hands-free equipment|On-board comput...  \n",
       "Extras                                         Alloy wheels|Touch screen  \n",
       "Safety & Security      ABS|Central door lock|Daytime running lights|D...  "
      ]
     },
     "execution_count": 102,
     "metadata": {},
     "output_type": "execute_result"
    }
   ],
   "source": [
    "df.sample(3).T"
   ]
  },
  {
   "cell_type": "code",
   "execution_count": 103,
   "id": "775f1d5c",
   "metadata": {},
   "outputs": [],
   "source": [
    "df.to_csv(\"scout_car_clean.csv\", index=False)"
   ]
  }
 ],
 "metadata": {
  "kernelspec": {
   "display_name": "Python 3 (ipykernel)",
   "language": "python",
   "name": "python3"
  },
  "language_info": {
   "codemirror_mode": {
    "name": "ipython",
    "version": 3
   },
   "file_extension": ".py",
   "mimetype": "text/x-python",
   "name": "python",
   "nbconvert_exporter": "python",
   "pygments_lexer": "ipython3",
   "version": "3.9.7"
  },
  "toc": {
   "base_numbering": 1,
   "nav_menu": {},
   "number_sections": true,
   "sideBar": true,
   "skip_h1_title": false,
   "title_cell": "Table of Contents",
   "title_sidebar": "Contents",
   "toc_cell": false,
   "toc_position": {
    "height": "calc(100% - 180px)",
    "left": "10px",
    "top": "150px",
    "width": "323px"
   },
   "toc_section_display": true,
   "toc_window_display": true
  }
 },
 "nbformat": 4,
 "nbformat_minor": 5
}
