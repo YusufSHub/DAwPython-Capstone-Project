{
 "cells": [
  {
   "cell_type": "markdown",
   "id": "9fa6d337",
   "metadata": {},
   "source": [
    "# Phase-4 Convert all values to numerical (get_dummies)"
   ]
  },
  {
   "cell_type": "code",
   "execution_count": 1,
   "id": "bacd2dd5",
   "metadata": {},
   "outputs": [],
   "source": [
    "import matplotlib.pyplot as plt\n",
    "%matplotlib inline\n",
    "import numpy as np\n",
    "import pandas as pd\n",
    "from scipy import stats\n",
    "import seaborn as sns\n",
    "import warnings;\n",
    "warnings.filterwarnings(\"ignore\")\n",
    "import re\n",
    "pd.set_option(\"display.max_columns\",None)"
   ]
  },
  {
   "cell_type": "code",
   "execution_count": 2,
   "id": "58f483e7",
   "metadata": {},
   "outputs": [],
   "source": [
    "auto = pd.read_csv('auto_scout_outlier.csv')\n",
    "df= auto.copy()"
   ]
  },
  {
   "cell_type": "code",
   "execution_count": 3,
   "id": "57cca9b0",
   "metadata": {},
   "outputs": [
    {
     "name": "stdout",
     "output_type": "stream",
     "text": [
      "<class 'pandas.core.frame.DataFrame'>\n",
      "RangeIndex: 15915 entries, 0 to 15914\n",
      "Data columns (total 31 columns):\n",
      " #   Column                   Non-Null Count  Dtype  \n",
      "---  ------                   --------------  -----  \n",
      " 0   make_model               15915 non-null  object \n",
      " 1   body_type                15915 non-null  object \n",
      " 2   price                    15915 non-null  int64  \n",
      " 3   vat                      15915 non-null  object \n",
      " 4   km                       15915 non-null  float64\n",
      " 5   prev_owner               15915 non-null  float64\n",
      " 6   hp                       15915 non-null  float64\n",
      " 7   inspection_new           15915 non-null  int64  \n",
      " 8   warranty                 15915 non-null  float64\n",
      " 9   body_color               15915 non-null  object \n",
      " 10  paint_type               15915 non-null  object \n",
      " 11  nr_of_doors              15915 non-null  float64\n",
      " 12  nr_of_seats              15915 non-null  float64\n",
      " 13  gearing_type             15915 non-null  object \n",
      " 14  displacement             15915 non-null  float64\n",
      " 15  cylinders                15915 non-null  float64\n",
      " 16  weight                   15915 non-null  float64\n",
      " 17  drive_chain              15915 non-null  object \n",
      " 18  co2_emission             15915 non-null  float64\n",
      " 19  emission_class           15915 non-null  object \n",
      " 20  comfort_convenience      14995 non-null  object \n",
      " 21  entertainment_media      14541 non-null  object \n",
      " 22  extras                   12953 non-null  object \n",
      " 23  safety_security          14933 non-null  object \n",
      " 24  gears                    15915 non-null  float64\n",
      " 25  electricity_consumption  15915 non-null  int64  \n",
      " 26  year                     15915 non-null  float64\n",
      " 27  new_used                 15915 non-null  object \n",
      " 28  fuel_type                15915 non-null  object \n",
      " 29  upholstery_material      11414 non-null  object \n",
      " 30  consumption_comb         15915 non-null  float64\n",
      "dtypes: float64(13), int64(3), object(15)\n",
      "memory usage: 3.8+ MB\n"
     ]
    }
   ],
   "source": [
    "df.info()"
   ]
  },
  {
   "cell_type": "markdown",
   "id": "c35bd462",
   "metadata": {},
   "source": [
    "## Apply get_dummies method to object columns"
   ]
  },
  {
   "cell_type": "code",
   "execution_count": 4,
   "id": "b97aa451",
   "metadata": {},
   "outputs": [],
   "source": [
    "object_columns = ['make_model', 'body_type', 'vat', 'new_used', 'body_color', 'paint_type', \n",
    "                  'gearing_type', 'drive_chain', 'fuel_type', 'emission_class']\n",
    "df_dummied = pd.get_dummies(df, columns= object_columns, drop_first=True)"
   ]
  },
  {
   "cell_type": "markdown",
   "id": "cb5a4354",
   "metadata": {},
   "source": [
    "## Apply get_dummies method to columns extras, comfort_convenience, entertainment_media"
   ]
  },
  {
   "cell_type": "code",
   "execution_count": 5,
   "id": "71d5e5a9",
   "metadata": {},
   "outputs": [],
   "source": [
    "df_E = df['extras'].astype('str').str.replace('[','').str.replace(\"]\",'').str.get_dummies(sep=', ')"
   ]
  },
  {
   "cell_type": "code",
   "execution_count": 6,
   "id": "7641e6c5",
   "metadata": {},
   "outputs": [],
   "source": [
    "df_E.drop(columns = ['nan'], inplace=True)"
   ]
  },
  {
   "cell_type": "code",
   "execution_count": 7,
   "id": "fd9fdef4",
   "metadata": {},
   "outputs": [],
   "source": [
    "df_C = df['comfort_convenience'].astype('str').str.replace('[','').str.replace(\"]\",'').str.get_dummies(sep=', ')"
   ]
  },
  {
   "cell_type": "code",
   "execution_count": 8,
   "id": "8c9f85dd",
   "metadata": {},
   "outputs": [],
   "source": [
    "df_C.drop(columns=['nan'], inplace=True)"
   ]
  },
  {
   "cell_type": "code",
   "execution_count": 9,
   "id": "4197fceb",
   "metadata": {},
   "outputs": [],
   "source": [
    "df_ent = df['entertainment_media'].astype('str').str.replace('[','').str.replace(\"]\",'').str.get_dummies(sep=', ')"
   ]
  },
  {
   "cell_type": "code",
   "execution_count": 10,
   "id": "1f50e0b9",
   "metadata": {},
   "outputs": [],
   "source": [
    "df_ent.drop(columns=['nan'], inplace=True)"
   ]
  },
  {
   "cell_type": "code",
   "execution_count": 11,
   "id": "40220bfa",
   "metadata": {},
   "outputs": [],
   "source": [
    "df_sec = df['safety_security'].astype('str').str.replace('[','').str.replace(\"]\",'').str.get_dummies(sep=', ')"
   ]
  },
  {
   "cell_type": "code",
   "execution_count": 12,
   "id": "241000d3",
   "metadata": {},
   "outputs": [],
   "source": [
    "df_sec.drop(columns=['nan'], inplace=True)"
   ]
  },
  {
   "cell_type": "markdown",
   "id": "796772fa",
   "metadata": {},
   "source": [
    "## Drop columns with less 1's"
   ]
  },
  {
   "cell_type": "code",
   "execution_count": 13,
   "id": "91e22bb7",
   "metadata": {},
   "outputs": [
    {
     "data": {
      "text/plain": [
       "'Alloy wheels'           11291\n",
       "'Cab or rented Car'        310\n",
       "'Catalytic Converter'     2258\n",
       "'Handicapped enabled'       52\n",
       "'Right hand drive'           3\n",
       "'Roof rack'               2646\n",
       "'Shift paddles'            508\n",
       "'Ski bag'                  247\n",
       "'Sliding door'               3\n",
       "'Sport package'           1197\n",
       "'Sport seats'             3098\n",
       "'Sport suspension'        1618\n",
       "'Touch screen'            4043\n",
       "'Trailer hitch'            654\n",
       "'Tuned car'                 13\n",
       "'Voice Control'           4326\n",
       "'Winter tyres'             246\n",
       "dtype: int64"
      ]
     },
     "execution_count": 13,
     "metadata": {},
     "output_type": "execute_result"
    }
   ],
   "source": [
    "df_E.sum()"
   ]
  },
  {
   "cell_type": "code",
   "execution_count": 14,
   "id": "d382c840",
   "metadata": {},
   "outputs": [],
   "source": [
    "df_E.columns = df_E.columns.str.replace(\"'\",\"\").str.lower().str.replace(\" \",\"_\")"
   ]
  },
  {
   "cell_type": "code",
   "execution_count": 15,
   "id": "52dace50",
   "metadata": {},
   "outputs": [],
   "source": [
    "df_E.drop([\"right_hand_drive\",\"sliding_door\",\"tuned_car\",\"handicapped_enabled\"], axis=1,inplace=True)"
   ]
  },
  {
   "cell_type": "code",
   "execution_count": 16,
   "id": "1758d347",
   "metadata": {},
   "outputs": [],
   "source": [
    "df_C.columns = df_C.columns.str.replace(\"'\",\"\").str.lower().str.replace(\" \",\"_\")"
   ]
  },
  {
   "cell_type": "code",
   "execution_count": 17,
   "id": "58229913",
   "metadata": {},
   "outputs": [
    {
     "data": {
      "text/plain": [
       "air_conditioning                       14311\n",
       "power_windows                          13910\n",
       "electrical_side_mirrors                11879\n",
       "multi-function_steering_wheel          11079\n",
       "cruise_control                         10877\n",
       "park_distance_control                  10188\n",
       "parking_assist_system_sensors_rear      9693\n",
       "leather_steering_wheel                  9383\n",
       "start-stop_system                       8879\n",
       "automatic_climate_control               8745\n",
       "rain_sensor                             8612\n",
       "navigation_system                       8164\n",
       "light_sensor                            7670\n",
       "armrest                                 7224\n",
       "seat_heating                            7077\n",
       "hill_holder                             6742\n",
       "parking_assist_system_sensors_front     5838\n",
       "parking_assist_system_camera            3421\n",
       "lumbar_support                          3226\n",
       "heated_steering_wheel                   3017\n",
       "keyless_central_door_lock               2613\n",
       "split_rear_seats                        2387\n",
       "electrically_adjustable_seats           1866\n",
       "tinted_windows                          1444\n",
       "electric_tailgate                       1003\n",
       "electrically_heated_windshield           937\n",
       "seat_ventilation                         834\n",
       "parking_assist_system_self-steering      768\n",
       "heads-up_display                         606\n",
       "panorama_roof                            551\n",
       "sunroof                                  372\n",
       "massage_seats                            360\n",
       "auxiliary_heating                        266\n",
       "air_suspension                            62\n",
       "leather_seats                             48\n",
       "wind_deflector                            41\n",
       "windshield                                12\n",
       "electric_starter                           1\n",
       "dtype: int64"
      ]
     },
     "execution_count": 17,
     "metadata": {},
     "output_type": "execute_result"
    }
   ],
   "source": [
    "df_C.sum().sort_values(ascending=False)"
   ]
  },
  {
   "cell_type": "code",
   "execution_count": 19,
   "id": "744e9e7e",
   "metadata": {},
   "outputs": [],
   "source": [
    "df_C.drop(columns=[\"electric_starter\",\"windshield\",\"wind_deflector\", \"air_suspension\"], inplace=True)"
   ]
  },
  {
   "cell_type": "code",
   "execution_count": 20,
   "id": "cec4a76c",
   "metadata": {},
   "outputs": [],
   "source": [
    "df_ent.drop(columns=[\"'Television'\"], inplace=True)\n",
    "df_sec.drop(columns=[\"'Night view assist'\"], inplace=True)"
   ]
  },
  {
   "cell_type": "markdown",
   "id": "47da0516",
   "metadata": {},
   "source": [
    "## Fill leather_seats column with upholstery_material column"
   ]
  },
  {
   "cell_type": "code",
   "execution_count": 21,
   "id": "c6fee0ee",
   "metadata": {
    "scrolled": true
   },
   "outputs": [],
   "source": [
    "index_leather = df_dummied[(df_dummied['upholstery_material']=='Part leather') \\\n",
    "           | (df_dummied['upholstery_material']=='Full leather') \\\n",
    "           | (df_dummied['upholstery_material']=='alcantara') \\\n",
    "           | (df_dummied['upholstery_material']=='Velour')]['upholstery_material'].index"
   ]
  },
  {
   "cell_type": "code",
   "execution_count": 22,
   "id": "63a43466",
   "metadata": {},
   "outputs": [],
   "source": [
    "df_C.loc[index_leather, 'leather_seats'] = 1"
   ]
  },
  {
   "cell_type": "code",
   "execution_count": 23,
   "id": "88bfcbf1",
   "metadata": {},
   "outputs": [],
   "source": [
    "df_dummied.drop('upholstery_material',axis=1,inplace=True)"
   ]
  },
  {
   "cell_type": "code",
   "execution_count": 24,
   "id": "cdf50437",
   "metadata": {},
   "outputs": [],
   "source": [
    "df_dummied.drop(columns=['comfort_convenience', 'safety_security', 'entertainment_media', 'extras'],inplace=True)"
   ]
  },
  {
   "cell_type": "code",
   "execution_count": 25,
   "id": "6e80dac9",
   "metadata": {},
   "outputs": [],
   "source": [
    "df_dummied.drop('drive_chain_rear', axis=1,inplace=True)"
   ]
  },
  {
   "cell_type": "markdown",
   "id": "d31196b5",
   "metadata": {},
   "source": [
    "## Concat all dummy dataframes"
   ]
  },
  {
   "cell_type": "code",
   "execution_count": 26,
   "id": "8f13912e",
   "metadata": {},
   "outputs": [],
   "source": [
    "df_last = pd.concat([df_dummied, df_E, df_C, df_ent, df_sec], axis = 1)"
   ]
  },
  {
   "cell_type": "code",
   "execution_count": 27,
   "id": "5df4d34e",
   "metadata": {},
   "outputs": [
    {
     "name": "stdout",
     "output_type": "stream",
     "text": [
      "<class 'pandas.core.frame.DataFrame'>\n",
      "RangeIndex: 15915 entries, 0 to 15914\n",
      "Columns: 140 entries, price to 'Xenon headlights'\n",
      "dtypes: float64(13), int64(87), uint8(40)\n",
      "memory usage: 12.7 MB\n"
     ]
    }
   ],
   "source": [
    "df_last.info()"
   ]
  },
  {
   "cell_type": "code",
   "execution_count": 30,
   "id": "3ada6542",
   "metadata": {},
   "outputs": [
    {
     "data": {
      "text/plain": [
       "0"
      ]
     },
     "execution_count": 30,
     "metadata": {},
     "output_type": "execute_result"
    }
   ],
   "source": [
    "df_last.isnull().sum().sum()"
   ]
  },
  {
   "cell_type": "code",
   "execution_count": 31,
   "id": "07ec7fec",
   "metadata": {},
   "outputs": [],
   "source": [
    "df_last.to_csv('auto_scout_final_D1366_Necip_Ozfidan.csv', index=False)"
   ]
  },
  {
   "cell_type": "code",
   "execution_count": null,
   "id": "a5eee326",
   "metadata": {},
   "outputs": [],
   "source": []
  }
 ],
 "metadata": {
  "kernelspec": {
   "display_name": "Python 3",
   "language": "python",
   "name": "python3"
  },
  "language_info": {
   "codemirror_mode": {
    "name": "ipython",
    "version": 3
   },
   "file_extension": ".py",
   "mimetype": "text/x-python",
   "name": "python",
   "nbconvert_exporter": "python",
   "pygments_lexer": "ipython3",
   "version": "3.8.8"
  },
  "toc": {
   "base_numbering": 1,
   "nav_menu": {},
   "number_sections": true,
   "sideBar": true,
   "skip_h1_title": false,
   "title_cell": "Table of Contents",
   "title_sidebar": "Contents",
   "toc_cell": false,
   "toc_position": {},
   "toc_section_display": true,
   "toc_window_display": false
  }
 },
 "nbformat": 4,
 "nbformat_minor": 5
}
