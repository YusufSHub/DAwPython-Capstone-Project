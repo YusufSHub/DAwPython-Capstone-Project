{
 "cells": [
  {
   "cell_type": "markdown",
   "metadata": {},
   "source": [
    "___\n",
    "\n",
    "<p style=\"text-align: center;\"><img src=\"https://docs.google.com/uc?id=1lY0Uj5R04yMY3-ZppPWxqCr5pvBLYPnV\" class=\"img-fluid\" \n",
    "alt=\"CLRSWY\"></p>\n",
    "\n",
    "## <p style=\"background-color:#FDFEFE; font-family:newtimeroman; color:#9d4f8c; font-size:100%; text-align:center; border-radius:10px 10px;\">WAY TO REINVENT YOURSELF</p>"
   ]
  },
  {
   "cell_type": "markdown",
   "metadata": {},
   "source": [
    "<img src=https://i.ibb.co/wJW61Y2/Used-cars.jpg width=\"700\" height=\"200\">\n",
    "\n",
    "## <p style=\"background-color:#FDFEFE; font-family:newtimeroman; color:#060108; font-size:200%; text-align:center; border-radius:10px 10px;\">The Capstone Project of Data Analytics Module</p>\n",
    "\n",
    "## <p style=\"background-color:#FDFEFE; font-family:newtimeroman; color:#060108; font-size:150%; text-align:center; border-radius:10px 10px;\">Car Price Prediction EDA</p>"
   ]
  },
  {
   "cell_type": "markdown",
   "metadata": {},
   "source": [
    "# WELCOME!"
   ]
  },
  {
   "cell_type": "markdown",
   "metadata": {},
   "source": [
    "## Introduction\n",
    "Welcome to \"***AutoScout Data Analysis Project***\". This is the capstone project of ***Data Analysis*** Module. **Auto Scout** data which using for this project, scraped from the on-line car trading company in 2019, contains many features of 9 different car models. In this project, you will have the opportunity to apply many commonly used algorithms for Data Cleaning and Exploratory Data Analysis by using many Python libraries such as Numpy, Pandas, Matplotlib, Seaborn, Scipy you will analyze clean dataset.\n",
    "\n",
    "The project consists of 3 parts:\n",
    "* First part is related with 'data cleaning'. It deals with Incorrect Headers, Incorrect Format, Anomalies, Dropping useless columns.\n",
    "* Second part is related with 'filling data'. It deals with Missing Values. Categorical to numeric transformation is done.\n",
    "* Third part is related with 'handling outliers of data' via Visualisation libraries. Some insights are extracted.\n"
   ]
  },
  {
   "cell_type": "code",
   "execution_count": 1678,
   "metadata": {},
   "outputs": [],
   "source": [
    "import pandas as pd \n",
    "import numpy as np \n",
    "import matplotlib.pyplot as plt \n",
    "import seaborn as sns\n",
    "\n",
    "import warnings \n",
    "warnings.filterwarnings(\"ignore\") \n",
    "warnings.warn(\"this will not show\")\n",
    "\n",
    "%matplotlib inline\n",
    "\n",
    "plt.rcParams[\"figure.figsize\"] = (10,6)\n",
    "\n",
    "sns.set_style(\"whitegrid\") \n",
    "pd.set_option('display.float_format', lambda x: '%.3f' % x)\n",
    "\n",
    "pd.options.display.max_rows = 150 \n",
    "pd.options.display.max_columns = 100\n",
    "import json\n",
    "import regex as re\n",
    "from datetime import date\n",
    "from datetime import datetime\n",
    "from datetime import timedelta"
   ]
  },
  {
   "cell_type": "code",
   "execution_count": 1679,
   "metadata": {},
   "outputs": [],
   "source": [
    "#df.to_excel('scout_car.json.xlsx')\n",
    "##convert json to excel"
   ]
  },
  {
   "cell_type": "markdown",
   "metadata": {},
   "source": [
    "# PART- 1 `( Data Cleaning )`"
   ]
  },
  {
   "cell_type": "code",
   "execution_count": 1680,
   "metadata": {
    "scrolled": true
   },
   "outputs": [
    {
     "data": {
      "text/html": [
       "<div>\n",
       "<style scoped>\n",
       "    .dataframe tbody tr th:only-of-type {\n",
       "        vertical-align: middle;\n",
       "    }\n",
       "\n",
       "    .dataframe tbody tr th {\n",
       "        vertical-align: top;\n",
       "    }\n",
       "\n",
       "    .dataframe thead th {\n",
       "        text-align: right;\n",
       "    }\n",
       "</style>\n",
       "<table border=\"1\" class=\"dataframe\">\n",
       "  <thead>\n",
       "    <tr style=\"text-align: right;\">\n",
       "      <th></th>\n",
       "      <th>0</th>\n",
       "      <th>1</th>\n",
       "      <th>2</th>\n",
       "      <th>3</th>\n",
       "      <th>4</th>\n",
       "    </tr>\n",
       "  </thead>\n",
       "  <tbody>\n",
       "    <tr>\n",
       "      <th>url</th>\n",
       "      <td>https://www.autoscout24.com//offers/audi-a1-sp...</td>\n",
       "      <td>https://www.autoscout24.com//offers/audi-a1-1-...</td>\n",
       "      <td>https://www.autoscout24.com//offers/audi-a1-sp...</td>\n",
       "      <td>https://www.autoscout24.com//offers/audi-a1-1-...</td>\n",
       "      <td>https://www.autoscout24.com//offers/audi-a1-sp...</td>\n",
       "    </tr>\n",
       "    <tr>\n",
       "      <th>make_model</th>\n",
       "      <td>Audi A1</td>\n",
       "      <td>Audi A1</td>\n",
       "      <td>Audi A1</td>\n",
       "      <td>Audi A1</td>\n",
       "      <td>Audi A1</td>\n",
       "    </tr>\n",
       "    <tr>\n",
       "      <th>short_description</th>\n",
       "      <td>Sportback 1.4 TDI S-tronic Xenon Navi Klima</td>\n",
       "      <td>1.8 TFSI sport</td>\n",
       "      <td>Sportback 1.6 TDI S tronic Einparkhilfe plus+m...</td>\n",
       "      <td>1.4 TDi Design S tronic</td>\n",
       "      <td>Sportback 1.4 TDI S-Tronic S-Line Ext. admired...</td>\n",
       "    </tr>\n",
       "    <tr>\n",
       "      <th>body_type</th>\n",
       "      <td>Sedans</td>\n",
       "      <td>Sedans</td>\n",
       "      <td>Sedans</td>\n",
       "      <td>Sedans</td>\n",
       "      <td>Sedans</td>\n",
       "    </tr>\n",
       "    <tr>\n",
       "      <th>price</th>\n",
       "      <td>15770</td>\n",
       "      <td>14500</td>\n",
       "      <td>14640</td>\n",
       "      <td>14500</td>\n",
       "      <td>16790</td>\n",
       "    </tr>\n",
       "    <tr>\n",
       "      <th>vat</th>\n",
       "      <td>VAT deductible</td>\n",
       "      <td>Price negotiable</td>\n",
       "      <td>VAT deductible</td>\n",
       "      <td>None</td>\n",
       "      <td>None</td>\n",
       "    </tr>\n",
       "    <tr>\n",
       "      <th>km</th>\n",
       "      <td>56,013 km</td>\n",
       "      <td>80,000 km</td>\n",
       "      <td>83,450 km</td>\n",
       "      <td>73,000 km</td>\n",
       "      <td>16,200 km</td>\n",
       "    </tr>\n",
       "    <tr>\n",
       "      <th>registration</th>\n",
       "      <td>01/2016</td>\n",
       "      <td>03/2017</td>\n",
       "      <td>02/2016</td>\n",
       "      <td>08/2016</td>\n",
       "      <td>05/2016</td>\n",
       "    </tr>\n",
       "    <tr>\n",
       "      <th>prev_owner</th>\n",
       "      <td>2 previous owners</td>\n",
       "      <td>None</td>\n",
       "      <td>1 previous owner</td>\n",
       "      <td>1 previous owner</td>\n",
       "      <td>1 previous owner</td>\n",
       "    </tr>\n",
       "    <tr>\n",
       "      <th>kW</th>\n",
       "      <td>NaN</td>\n",
       "      <td>NaN</td>\n",
       "      <td>NaN</td>\n",
       "      <td>NaN</td>\n",
       "      <td>NaN</td>\n",
       "    </tr>\n",
       "    <tr>\n",
       "      <th>hp</th>\n",
       "      <td>66 kW</td>\n",
       "      <td>141 kW</td>\n",
       "      <td>85 kW</td>\n",
       "      <td>66 kW</td>\n",
       "      <td>66 kW</td>\n",
       "    </tr>\n",
       "    <tr>\n",
       "      <th>Type</th>\n",
       "      <td>[, Used, , Diesel (Particulate Filter)]</td>\n",
       "      <td>[, Used, , Gasoline]</td>\n",
       "      <td>[, Used, , Diesel (Particulate Filter)]</td>\n",
       "      <td>[, Used, , Diesel (Particulate Filter)]</td>\n",
       "      <td>[, Used, , Diesel (Particulate Filter)]</td>\n",
       "    </tr>\n",
       "    <tr>\n",
       "      <th>Previous Owners</th>\n",
       "      <td>\\n2\\n</td>\n",
       "      <td>NaN</td>\n",
       "      <td>\\n1\\n</td>\n",
       "      <td>\\n1\\n</td>\n",
       "      <td>\\n1\\n</td>\n",
       "    </tr>\n",
       "    <tr>\n",
       "      <th>Next Inspection</th>\n",
       "      <td>[\\n06/2021\\n, \\n99 g CO2/km (comb)\\n]</td>\n",
       "      <td>NaN</td>\n",
       "      <td>NaN</td>\n",
       "      <td>NaN</td>\n",
       "      <td>NaN</td>\n",
       "    </tr>\n",
       "    <tr>\n",
       "      <th>Inspection new</th>\n",
       "      <td>[\\nYes\\n, \\nEuro 6\\n]</td>\n",
       "      <td>NaN</td>\n",
       "      <td>NaN</td>\n",
       "      <td>NaN</td>\n",
       "      <td>[\\nYes\\n, \\n109 g CO2/km (comb)\\n]</td>\n",
       "    </tr>\n",
       "    <tr>\n",
       "      <th>Warranty</th>\n",
       "      <td>[\\n, \\n, \\n4 (Green)\\n]</td>\n",
       "      <td>NaN</td>\n",
       "      <td>[\\n, \\n, \\n99 g CO2/km (comb)\\n]</td>\n",
       "      <td>NaN</td>\n",
       "      <td>[\\n, \\n, \\nEuro 6\\n]</td>\n",
       "    </tr>\n",
       "    <tr>\n",
       "      <th>Full Service</th>\n",
       "      <td>[\\n, \\n]</td>\n",
       "      <td>NaN</td>\n",
       "      <td>NaN</td>\n",
       "      <td>[\\n, \\n, \\n99 g CO2/km (comb)\\n]</td>\n",
       "      <td>[\\n, \\n, \\n4 (Green)\\n]</td>\n",
       "    </tr>\n",
       "    <tr>\n",
       "      <th>Non-smoking Vehicle</th>\n",
       "      <td>[\\n, \\n]</td>\n",
       "      <td>NaN</td>\n",
       "      <td>NaN</td>\n",
       "      <td>[\\n, \\n, \\nEuro 6\\n]</td>\n",
       "      <td>[\\n, \\n]</td>\n",
       "    </tr>\n",
       "    <tr>\n",
       "      <th>null</th>\n",
       "      <td>[]</td>\n",
       "      <td>[]</td>\n",
       "      <td>[]</td>\n",
       "      <td>[]</td>\n",
       "      <td>[]</td>\n",
       "    </tr>\n",
       "    <tr>\n",
       "      <th>Make</th>\n",
       "      <td>\\nAudi\\n</td>\n",
       "      <td>\\nAudi\\n</td>\n",
       "      <td>\\nAudi\\n</td>\n",
       "      <td>\\nAudi\\n</td>\n",
       "      <td>\\nAudi\\n</td>\n",
       "    </tr>\n",
       "    <tr>\n",
       "      <th>Model</th>\n",
       "      <td>[\\n, A1, \\n]</td>\n",
       "      <td>[\\n, A1, \\n]</td>\n",
       "      <td>[\\n, A1, \\n]</td>\n",
       "      <td>[\\n, A1, \\n]</td>\n",
       "      <td>[\\n, A1, \\n]</td>\n",
       "    </tr>\n",
       "    <tr>\n",
       "      <th>Offer Number</th>\n",
       "      <td>[\\nLR-062483\\n]</td>\n",
       "      <td>NaN</td>\n",
       "      <td>[\\nAM-95365\\n]</td>\n",
       "      <td>NaN</td>\n",
       "      <td>[\\nC1626\\n]</td>\n",
       "    </tr>\n",
       "    <tr>\n",
       "      <th>First Registration</th>\n",
       "      <td>[\\n, 2016, \\n]</td>\n",
       "      <td>[\\n, 2017, \\n]</td>\n",
       "      <td>[\\n, 2016, \\n]</td>\n",
       "      <td>[\\n, 2016, \\n]</td>\n",
       "      <td>[\\n, 2016, \\n]</td>\n",
       "    </tr>\n",
       "    <tr>\n",
       "      <th>Body Color</th>\n",
       "      <td>[\\n, Black, \\n]</td>\n",
       "      <td>[\\n, Red, \\n]</td>\n",
       "      <td>[\\n, Black, \\n]</td>\n",
       "      <td>[\\n, Brown, \\n]</td>\n",
       "      <td>[\\n, Black, \\n]</td>\n",
       "    </tr>\n",
       "    <tr>\n",
       "      <th>Paint Type</th>\n",
       "      <td>[\\nMetallic\\n]</td>\n",
       "      <td>NaN</td>\n",
       "      <td>[\\nMetallic\\n]</td>\n",
       "      <td>[\\nMetallic\\n]</td>\n",
       "      <td>[\\nMetallic\\n]</td>\n",
       "    </tr>\n",
       "    <tr>\n",
       "      <th>Body Color Original</th>\n",
       "      <td>[\\nMythosschwarz\\n]</td>\n",
       "      <td>NaN</td>\n",
       "      <td>[\\nmythosschwarz metallic\\n]</td>\n",
       "      <td>NaN</td>\n",
       "      <td>[\\nMythosschwarz Metallic\\n]</td>\n",
       "    </tr>\n",
       "    <tr>\n",
       "      <th>Upholstery</th>\n",
       "      <td>[\\nCloth, Black\\n]</td>\n",
       "      <td>[\\nCloth, Grey\\n]</td>\n",
       "      <td>[\\nCloth, Black\\n]</td>\n",
       "      <td>NaN</td>\n",
       "      <td>[\\nCloth, Black\\n]</td>\n",
       "    </tr>\n",
       "    <tr>\n",
       "      <th>Body</th>\n",
       "      <td>[\\n, Sedans, \\n]</td>\n",
       "      <td>[\\n, Sedans, \\n]</td>\n",
       "      <td>[\\n, Sedans, \\n]</td>\n",
       "      <td>[\\n, Sedans, \\n]</td>\n",
       "      <td>[\\n, Sedans, \\n]</td>\n",
       "    </tr>\n",
       "    <tr>\n",
       "      <th>Nr. of Doors</th>\n",
       "      <td>[\\n5\\n]</td>\n",
       "      <td>[\\n3\\n]</td>\n",
       "      <td>[\\n4\\n]</td>\n",
       "      <td>[\\n3\\n]</td>\n",
       "      <td>[\\n5\\n]</td>\n",
       "    </tr>\n",
       "    <tr>\n",
       "      <th>Nr. of Seats</th>\n",
       "      <td>[\\n5\\n]</td>\n",
       "      <td>[\\n4\\n]</td>\n",
       "      <td>[\\n4\\n]</td>\n",
       "      <td>[\\n4\\n]</td>\n",
       "      <td>[\\n5\\n]</td>\n",
       "    </tr>\n",
       "    <tr>\n",
       "      <th>Model Code</th>\n",
       "      <td>[\\n0588/BDF\\n]</td>\n",
       "      <td>[\\n0588/BCY\\n]</td>\n",
       "      <td>NaN</td>\n",
       "      <td>NaN</td>\n",
       "      <td>[\\n0588/BDF\\n]</td>\n",
       "    </tr>\n",
       "    <tr>\n",
       "      <th>Gearing Type</th>\n",
       "      <td>[\\n, Automatic, \\n]</td>\n",
       "      <td>[\\n, Automatic, \\n]</td>\n",
       "      <td>[\\n, Automatic, \\n]</td>\n",
       "      <td>[\\n, Automatic, \\n]</td>\n",
       "      <td>[\\n, Automatic, \\n]</td>\n",
       "    </tr>\n",
       "    <tr>\n",
       "      <th>Displacement</th>\n",
       "      <td>[\\n1,422 cc\\n]</td>\n",
       "      <td>[\\n1,798 cc\\n]</td>\n",
       "      <td>[\\n1,598 cc\\n]</td>\n",
       "      <td>[\\n1,422 cc\\n]</td>\n",
       "      <td>[\\n1,422 cc\\n]</td>\n",
       "    </tr>\n",
       "    <tr>\n",
       "      <th>Cylinders</th>\n",
       "      <td>[\\n3\\n]</td>\n",
       "      <td>[\\n4\\n]</td>\n",
       "      <td>NaN</td>\n",
       "      <td>[\\n3\\n]</td>\n",
       "      <td>[\\n3\\n]</td>\n",
       "    </tr>\n",
       "    <tr>\n",
       "      <th>Weight</th>\n",
       "      <td>[\\n1,220 kg\\n]</td>\n",
       "      <td>[\\n1,255 kg\\n]</td>\n",
       "      <td>NaN</td>\n",
       "      <td>[\\n1,195 kg\\n]</td>\n",
       "      <td>NaN</td>\n",
       "    </tr>\n",
       "    <tr>\n",
       "      <th>Drive chain</th>\n",
       "      <td>[\\nfront\\n]</td>\n",
       "      <td>[\\nfront\\n]</td>\n",
       "      <td>[\\nfront\\n]</td>\n",
       "      <td>NaN</td>\n",
       "      <td>[\\nfront\\n]</td>\n",
       "    </tr>\n",
       "    <tr>\n",
       "      <th>Fuel</th>\n",
       "      <td>[\\n, Diesel (Particulate Filter), \\n]</td>\n",
       "      <td>[\\n, Gasoline, \\n]</td>\n",
       "      <td>[\\n, Diesel (Particulate Filter), \\n]</td>\n",
       "      <td>[\\n, Diesel (Particulate Filter), \\n]</td>\n",
       "      <td>[\\n, Diesel (Particulate Filter), \\n]</td>\n",
       "    </tr>\n",
       "    <tr>\n",
       "      <th>Consumption</th>\n",
       "      <td>[[3.8 l/100 km (comb)], [4.3 l/100 km (city)],...</td>\n",
       "      <td>[[5.6 l/100 km (comb)], [7.1 l/100 km (city)],...</td>\n",
       "      <td>[[3.8 l/100 km (comb)], [4.4 l/100 km (city)],...</td>\n",
       "      <td>[[3.8 l/100 km (comb)], [4.3 l/100 km (city)],...</td>\n",
       "      <td>[[4.1 l/100 km (comb)], [4.6 l/100 km (city)],...</td>\n",
       "    </tr>\n",
       "    <tr>\n",
       "      <th>CO2 Emission</th>\n",
       "      <td>[\\n99 g CO2/km (comb)\\n]</td>\n",
       "      <td>[\\n129 g CO2/km (comb)\\n]</td>\n",
       "      <td>[\\n99 g CO2/km (comb)\\n]</td>\n",
       "      <td>[\\n99 g CO2/km (comb)\\n]</td>\n",
       "      <td>[\\n109 g CO2/km (comb)\\n]</td>\n",
       "    </tr>\n",
       "    <tr>\n",
       "      <th>Emission Class</th>\n",
       "      <td>[\\nEuro 6\\n]</td>\n",
       "      <td>[\\nEuro 6\\n]</td>\n",
       "      <td>[\\nEuro 6\\n]</td>\n",
       "      <td>[\\nEuro 6\\n]</td>\n",
       "      <td>[\\nEuro 6\\n]</td>\n",
       "    </tr>\n",
       "    <tr>\n",
       "      <th>\\nComfort &amp; Convenience\\n</th>\n",
       "      <td>[Air conditioning, Armrest, Automatic climate ...</td>\n",
       "      <td>[Air conditioning, Automatic climate control, ...</td>\n",
       "      <td>[Air conditioning, Cruise control, Electrical ...</td>\n",
       "      <td>[Air suspension, Armrest, Auxiliary heating, E...</td>\n",
       "      <td>[Air conditioning, Armrest, Automatic climate ...</td>\n",
       "    </tr>\n",
       "    <tr>\n",
       "      <th>\\nEntertainment &amp; Media\\n</th>\n",
       "      <td>[Bluetooth, Hands-free equipment, On-board com...</td>\n",
       "      <td>[Bluetooth, Hands-free equipment, On-board com...</td>\n",
       "      <td>[MP3, On-board computer]</td>\n",
       "      <td>[Bluetooth, CD player, Hands-free equipment, M...</td>\n",
       "      <td>[Bluetooth, CD player, Hands-free equipment, M...</td>\n",
       "    </tr>\n",
       "    <tr>\n",
       "      <th>\\nExtras\\n</th>\n",
       "      <td>[Alloy wheels, Catalytic Converter, Voice Cont...</td>\n",
       "      <td>[Alloy wheels, Sport seats, Sport suspension, ...</td>\n",
       "      <td>[Alloy wheels, Voice Control]</td>\n",
       "      <td>[Alloy wheels, Sport seats, Voice Control]</td>\n",
       "      <td>[Alloy wheels, Sport package, Sport suspension...</td>\n",
       "    </tr>\n",
       "    <tr>\n",
       "      <th>\\nSafety &amp; Security\\n</th>\n",
       "      <td>[ABS, Central door lock, Daytime running light...</td>\n",
       "      <td>[ABS, Central door lock, Central door lock wit...</td>\n",
       "      <td>[ABS, Central door lock, Daytime running light...</td>\n",
       "      <td>[ABS, Alarm system, Central door lock with rem...</td>\n",
       "      <td>[ABS, Central door lock, Driver-side airbag, E...</td>\n",
       "    </tr>\n",
       "    <tr>\n",
       "      <th>description</th>\n",
       "      <td>[\\n, Sicherheit:,  , Deaktivierung für Beifahr...</td>\n",
       "      <td>[\\nLangstreckenfahrzeug daher die hohe Kilomet...</td>\n",
       "      <td>[\\n, Fahrzeug-Nummer: AM-95365,  , Ehem. UPE 2...</td>\n",
       "      <td>[\\nAudi A1: , - 1e eigenaar , - Perfecte staat...</td>\n",
       "      <td>[\\n, Technik &amp; Sicherheit:, Xenon plus, Klimaa...</td>\n",
       "    </tr>\n",
       "    <tr>\n",
       "      <th>Emission Label</th>\n",
       "      <td>NaN</td>\n",
       "      <td>[\\n4 (Green)\\n]</td>\n",
       "      <td>[\\n4 (Green)\\n]</td>\n",
       "      <td>NaN</td>\n",
       "      <td>NaN</td>\n",
       "    </tr>\n",
       "    <tr>\n",
       "      <th>Gears</th>\n",
       "      <td>NaN</td>\n",
       "      <td>[\\n7\\n]</td>\n",
       "      <td>NaN</td>\n",
       "      <td>[\\n6\\n]</td>\n",
       "      <td>NaN</td>\n",
       "    </tr>\n",
       "    <tr>\n",
       "      <th>Country version</th>\n",
       "      <td>NaN</td>\n",
       "      <td>NaN</td>\n",
       "      <td>NaN</td>\n",
       "      <td>NaN</td>\n",
       "      <td>[\\nGermany\\n]</td>\n",
       "    </tr>\n",
       "    <tr>\n",
       "      <th>Electricity consumption</th>\n",
       "      <td>NaN</td>\n",
       "      <td>NaN</td>\n",
       "      <td>NaN</td>\n",
       "      <td>NaN</td>\n",
       "      <td>NaN</td>\n",
       "    </tr>\n",
       "    <tr>\n",
       "      <th>Last Service Date</th>\n",
       "      <td>NaN</td>\n",
       "      <td>NaN</td>\n",
       "      <td>NaN</td>\n",
       "      <td>NaN</td>\n",
       "      <td>NaN</td>\n",
       "    </tr>\n",
       "    <tr>\n",
       "      <th>Other Fuel Types</th>\n",
       "      <td>NaN</td>\n",
       "      <td>NaN</td>\n",
       "      <td>NaN</td>\n",
       "      <td>NaN</td>\n",
       "      <td>NaN</td>\n",
       "    </tr>\n",
       "    <tr>\n",
       "      <th>Availability</th>\n",
       "      <td>NaN</td>\n",
       "      <td>NaN</td>\n",
       "      <td>NaN</td>\n",
       "      <td>NaN</td>\n",
       "      <td>NaN</td>\n",
       "    </tr>\n",
       "    <tr>\n",
       "      <th>Last Timing Belt Service Date</th>\n",
       "      <td>NaN</td>\n",
       "      <td>NaN</td>\n",
       "      <td>NaN</td>\n",
       "      <td>NaN</td>\n",
       "      <td>NaN</td>\n",
       "    </tr>\n",
       "    <tr>\n",
       "      <th>Available from</th>\n",
       "      <td>NaN</td>\n",
       "      <td>NaN</td>\n",
       "      <td>NaN</td>\n",
       "      <td>NaN</td>\n",
       "      <td>NaN</td>\n",
       "    </tr>\n",
       "  </tbody>\n",
       "</table>\n",
       "</div>"
      ],
      "text/plain": [
       "                                                                               0  \\\n",
       "url                            https://www.autoscout24.com//offers/audi-a1-sp...   \n",
       "make_model                                                               Audi A1   \n",
       "short_description                    Sportback 1.4 TDI S-tronic Xenon Navi Klima   \n",
       "body_type                                                                 Sedans   \n",
       "price                                                                      15770   \n",
       "vat                                                               VAT deductible   \n",
       "km                                                                     56,013 km   \n",
       "registration                                                             01/2016   \n",
       "prev_owner                                                     2 previous owners   \n",
       "kW                                                                           NaN   \n",
       "hp                                                                         66 kW   \n",
       "Type                                     [, Used, , Diesel (Particulate Filter)]   \n",
       "Previous Owners                                                            \\n2\\n   \n",
       "Next Inspection                            [\\n06/2021\\n, \\n99 g CO2/km (comb)\\n]   \n",
       "Inspection new                                             [\\nYes\\n, \\nEuro 6\\n]   \n",
       "Warranty                                                 [\\n, \\n, \\n4 (Green)\\n]   \n",
       "Full Service                                                            [\\n, \\n]   \n",
       "Non-smoking Vehicle                                                     [\\n, \\n]   \n",
       "null                                                                          []   \n",
       "Make                                                                    \\nAudi\\n   \n",
       "Model                                                               [\\n, A1, \\n]   \n",
       "Offer Number                                                     [\\nLR-062483\\n]   \n",
       "First Registration                                                [\\n, 2016, \\n]   \n",
       "Body Color                                                       [\\n, Black, \\n]   \n",
       "Paint Type                                                        [\\nMetallic\\n]   \n",
       "Body Color Original                                          [\\nMythosschwarz\\n]   \n",
       "Upholstery                                                    [\\nCloth, Black\\n]   \n",
       "Body                                                            [\\n, Sedans, \\n]   \n",
       "Nr. of Doors                                                             [\\n5\\n]   \n",
       "Nr. of Seats                                                             [\\n5\\n]   \n",
       "Model Code                                                        [\\n0588/BDF\\n]   \n",
       "Gearing Type                                                 [\\n, Automatic, \\n]   \n",
       "Displacement                                                      [\\n1,422 cc\\n]   \n",
       "Cylinders                                                                [\\n3\\n]   \n",
       "Weight                                                            [\\n1,220 kg\\n]   \n",
       "Drive chain                                                          [\\nfront\\n]   \n",
       "Fuel                                       [\\n, Diesel (Particulate Filter), \\n]   \n",
       "Consumption                    [[3.8 l/100 km (comb)], [4.3 l/100 km (city)],...   \n",
       "CO2 Emission                                            [\\n99 g CO2/km (comb)\\n]   \n",
       "Emission Class                                                      [\\nEuro 6\\n]   \n",
       "\\nComfort & Convenience\\n      [Air conditioning, Armrest, Automatic climate ...   \n",
       "\\nEntertainment & Media\\n      [Bluetooth, Hands-free equipment, On-board com...   \n",
       "\\nExtras\\n                     [Alloy wheels, Catalytic Converter, Voice Cont...   \n",
       "\\nSafety & Security\\n          [ABS, Central door lock, Daytime running light...   \n",
       "description                    [\\n, Sicherheit:,  , Deaktivierung für Beifahr...   \n",
       "Emission Label                                                               NaN   \n",
       "Gears                                                                        NaN   \n",
       "Country version                                                              NaN   \n",
       "Electricity consumption                                                      NaN   \n",
       "Last Service Date                                                            NaN   \n",
       "Other Fuel Types                                                             NaN   \n",
       "Availability                                                                 NaN   \n",
       "Last Timing Belt Service Date                                                NaN   \n",
       "Available from                                                               NaN   \n",
       "\n",
       "                                                                               1  \\\n",
       "url                            https://www.autoscout24.com//offers/audi-a1-1-...   \n",
       "make_model                                                               Audi A1   \n",
       "short_description                                                 1.8 TFSI sport   \n",
       "body_type                                                                 Sedans   \n",
       "price                                                                      14500   \n",
       "vat                                                             Price negotiable   \n",
       "km                                                                     80,000 km   \n",
       "registration                                                             03/2017   \n",
       "prev_owner                                                                  None   \n",
       "kW                                                                           NaN   \n",
       "hp                                                                        141 kW   \n",
       "Type                                                        [, Used, , Gasoline]   \n",
       "Previous Owners                                                              NaN   \n",
       "Next Inspection                                                              NaN   \n",
       "Inspection new                                                               NaN   \n",
       "Warranty                                                                     NaN   \n",
       "Full Service                                                                 NaN   \n",
       "Non-smoking Vehicle                                                          NaN   \n",
       "null                                                                          []   \n",
       "Make                                                                    \\nAudi\\n   \n",
       "Model                                                               [\\n, A1, \\n]   \n",
       "Offer Number                                                                 NaN   \n",
       "First Registration                                                [\\n, 2017, \\n]   \n",
       "Body Color                                                         [\\n, Red, \\n]   \n",
       "Paint Type                                                                   NaN   \n",
       "Body Color Original                                                          NaN   \n",
       "Upholstery                                                     [\\nCloth, Grey\\n]   \n",
       "Body                                                            [\\n, Sedans, \\n]   \n",
       "Nr. of Doors                                                             [\\n3\\n]   \n",
       "Nr. of Seats                                                             [\\n4\\n]   \n",
       "Model Code                                                        [\\n0588/BCY\\n]   \n",
       "Gearing Type                                                 [\\n, Automatic, \\n]   \n",
       "Displacement                                                      [\\n1,798 cc\\n]   \n",
       "Cylinders                                                                [\\n4\\n]   \n",
       "Weight                                                            [\\n1,255 kg\\n]   \n",
       "Drive chain                                                          [\\nfront\\n]   \n",
       "Fuel                                                          [\\n, Gasoline, \\n]   \n",
       "Consumption                    [[5.6 l/100 km (comb)], [7.1 l/100 km (city)],...   \n",
       "CO2 Emission                                           [\\n129 g CO2/km (comb)\\n]   \n",
       "Emission Class                                                      [\\nEuro 6\\n]   \n",
       "\\nComfort & Convenience\\n      [Air conditioning, Automatic climate control, ...   \n",
       "\\nEntertainment & Media\\n      [Bluetooth, Hands-free equipment, On-board com...   \n",
       "\\nExtras\\n                     [Alloy wheels, Sport seats, Sport suspension, ...   \n",
       "\\nSafety & Security\\n          [ABS, Central door lock, Central door lock wit...   \n",
       "description                    [\\nLangstreckenfahrzeug daher die hohe Kilomet...   \n",
       "Emission Label                                                   [\\n4 (Green)\\n]   \n",
       "Gears                                                                    [\\n7\\n]   \n",
       "Country version                                                              NaN   \n",
       "Electricity consumption                                                      NaN   \n",
       "Last Service Date                                                            NaN   \n",
       "Other Fuel Types                                                             NaN   \n",
       "Availability                                                                 NaN   \n",
       "Last Timing Belt Service Date                                                NaN   \n",
       "Available from                                                               NaN   \n",
       "\n",
       "                                                                               2  \\\n",
       "url                            https://www.autoscout24.com//offers/audi-a1-sp...   \n",
       "make_model                                                               Audi A1   \n",
       "short_description              Sportback 1.6 TDI S tronic Einparkhilfe plus+m...   \n",
       "body_type                                                                 Sedans   \n",
       "price                                                                      14640   \n",
       "vat                                                               VAT deductible   \n",
       "km                                                                     83,450 km   \n",
       "registration                                                             02/2016   \n",
       "prev_owner                                                      1 previous owner   \n",
       "kW                                                                           NaN   \n",
       "hp                                                                         85 kW   \n",
       "Type                                     [, Used, , Diesel (Particulate Filter)]   \n",
       "Previous Owners                                                            \\n1\\n   \n",
       "Next Inspection                                                              NaN   \n",
       "Inspection new                                                               NaN   \n",
       "Warranty                                        [\\n, \\n, \\n99 g CO2/km (comb)\\n]   \n",
       "Full Service                                                                 NaN   \n",
       "Non-smoking Vehicle                                                          NaN   \n",
       "null                                                                          []   \n",
       "Make                                                                    \\nAudi\\n   \n",
       "Model                                                               [\\n, A1, \\n]   \n",
       "Offer Number                                                      [\\nAM-95365\\n]   \n",
       "First Registration                                                [\\n, 2016, \\n]   \n",
       "Body Color                                                       [\\n, Black, \\n]   \n",
       "Paint Type                                                        [\\nMetallic\\n]   \n",
       "Body Color Original                                 [\\nmythosschwarz metallic\\n]   \n",
       "Upholstery                                                    [\\nCloth, Black\\n]   \n",
       "Body                                                            [\\n, Sedans, \\n]   \n",
       "Nr. of Doors                                                             [\\n4\\n]   \n",
       "Nr. of Seats                                                             [\\n4\\n]   \n",
       "Model Code                                                                   NaN   \n",
       "Gearing Type                                                 [\\n, Automatic, \\n]   \n",
       "Displacement                                                      [\\n1,598 cc\\n]   \n",
       "Cylinders                                                                    NaN   \n",
       "Weight                                                                       NaN   \n",
       "Drive chain                                                          [\\nfront\\n]   \n",
       "Fuel                                       [\\n, Diesel (Particulate Filter), \\n]   \n",
       "Consumption                    [[3.8 l/100 km (comb)], [4.4 l/100 km (city)],...   \n",
       "CO2 Emission                                            [\\n99 g CO2/km (comb)\\n]   \n",
       "Emission Class                                                      [\\nEuro 6\\n]   \n",
       "\\nComfort & Convenience\\n      [Air conditioning, Cruise control, Electrical ...   \n",
       "\\nEntertainment & Media\\n                               [MP3, On-board computer]   \n",
       "\\nExtras\\n                                         [Alloy wheels, Voice Control]   \n",
       "\\nSafety & Security\\n          [ABS, Central door lock, Daytime running light...   \n",
       "description                    [\\n, Fahrzeug-Nummer: AM-95365,  , Ehem. UPE 2...   \n",
       "Emission Label                                                   [\\n4 (Green)\\n]   \n",
       "Gears                                                                        NaN   \n",
       "Country version                                                              NaN   \n",
       "Electricity consumption                                                      NaN   \n",
       "Last Service Date                                                            NaN   \n",
       "Other Fuel Types                                                             NaN   \n",
       "Availability                                                                 NaN   \n",
       "Last Timing Belt Service Date                                                NaN   \n",
       "Available from                                                               NaN   \n",
       "\n",
       "                                                                               3  \\\n",
       "url                            https://www.autoscout24.com//offers/audi-a1-1-...   \n",
       "make_model                                                               Audi A1   \n",
       "short_description                                        1.4 TDi Design S tronic   \n",
       "body_type                                                                 Sedans   \n",
       "price                                                                      14500   \n",
       "vat                                                                         None   \n",
       "km                                                                     73,000 km   \n",
       "registration                                                             08/2016   \n",
       "prev_owner                                                      1 previous owner   \n",
       "kW                                                                           NaN   \n",
       "hp                                                                         66 kW   \n",
       "Type                                     [, Used, , Diesel (Particulate Filter)]   \n",
       "Previous Owners                                                            \\n1\\n   \n",
       "Next Inspection                                                              NaN   \n",
       "Inspection new                                                               NaN   \n",
       "Warranty                                                                     NaN   \n",
       "Full Service                                    [\\n, \\n, \\n99 g CO2/km (comb)\\n]   \n",
       "Non-smoking Vehicle                                         [\\n, \\n, \\nEuro 6\\n]   \n",
       "null                                                                          []   \n",
       "Make                                                                    \\nAudi\\n   \n",
       "Model                                                               [\\n, A1, \\n]   \n",
       "Offer Number                                                                 NaN   \n",
       "First Registration                                                [\\n, 2016, \\n]   \n",
       "Body Color                                                       [\\n, Brown, \\n]   \n",
       "Paint Type                                                        [\\nMetallic\\n]   \n",
       "Body Color Original                                                          NaN   \n",
       "Upholstery                                                                   NaN   \n",
       "Body                                                            [\\n, Sedans, \\n]   \n",
       "Nr. of Doors                                                             [\\n3\\n]   \n",
       "Nr. of Seats                                                             [\\n4\\n]   \n",
       "Model Code                                                                   NaN   \n",
       "Gearing Type                                                 [\\n, Automatic, \\n]   \n",
       "Displacement                                                      [\\n1,422 cc\\n]   \n",
       "Cylinders                                                                [\\n3\\n]   \n",
       "Weight                                                            [\\n1,195 kg\\n]   \n",
       "Drive chain                                                                  NaN   \n",
       "Fuel                                       [\\n, Diesel (Particulate Filter), \\n]   \n",
       "Consumption                    [[3.8 l/100 km (comb)], [4.3 l/100 km (city)],...   \n",
       "CO2 Emission                                            [\\n99 g CO2/km (comb)\\n]   \n",
       "Emission Class                                                      [\\nEuro 6\\n]   \n",
       "\\nComfort & Convenience\\n      [Air suspension, Armrest, Auxiliary heating, E...   \n",
       "\\nEntertainment & Media\\n      [Bluetooth, CD player, Hands-free equipment, M...   \n",
       "\\nExtras\\n                            [Alloy wheels, Sport seats, Voice Control]   \n",
       "\\nSafety & Security\\n          [ABS, Alarm system, Central door lock with rem...   \n",
       "description                    [\\nAudi A1: , - 1e eigenaar , - Perfecte staat...   \n",
       "Emission Label                                                               NaN   \n",
       "Gears                                                                    [\\n6\\n]   \n",
       "Country version                                                              NaN   \n",
       "Electricity consumption                                                      NaN   \n",
       "Last Service Date                                                            NaN   \n",
       "Other Fuel Types                                                             NaN   \n",
       "Availability                                                                 NaN   \n",
       "Last Timing Belt Service Date                                                NaN   \n",
       "Available from                                                               NaN   \n",
       "\n",
       "                                                                               4  \n",
       "url                            https://www.autoscout24.com//offers/audi-a1-sp...  \n",
       "make_model                                                               Audi A1  \n",
       "short_description              Sportback 1.4 TDI S-Tronic S-Line Ext. admired...  \n",
       "body_type                                                                 Sedans  \n",
       "price                                                                      16790  \n",
       "vat                                                                         None  \n",
       "km                                                                     16,200 km  \n",
       "registration                                                             05/2016  \n",
       "prev_owner                                                      1 previous owner  \n",
       "kW                                                                           NaN  \n",
       "hp                                                                         66 kW  \n",
       "Type                                     [, Used, , Diesel (Particulate Filter)]  \n",
       "Previous Owners                                                            \\n1\\n  \n",
       "Next Inspection                                                              NaN  \n",
       "Inspection new                                [\\nYes\\n, \\n109 g CO2/km (comb)\\n]  \n",
       "Warranty                                                    [\\n, \\n, \\nEuro 6\\n]  \n",
       "Full Service                                             [\\n, \\n, \\n4 (Green)\\n]  \n",
       "Non-smoking Vehicle                                                     [\\n, \\n]  \n",
       "null                                                                          []  \n",
       "Make                                                                    \\nAudi\\n  \n",
       "Model                                                               [\\n, A1, \\n]  \n",
       "Offer Number                                                         [\\nC1626\\n]  \n",
       "First Registration                                                [\\n, 2016, \\n]  \n",
       "Body Color                                                       [\\n, Black, \\n]  \n",
       "Paint Type                                                        [\\nMetallic\\n]  \n",
       "Body Color Original                                 [\\nMythosschwarz Metallic\\n]  \n",
       "Upholstery                                                    [\\nCloth, Black\\n]  \n",
       "Body                                                            [\\n, Sedans, \\n]  \n",
       "Nr. of Doors                                                             [\\n5\\n]  \n",
       "Nr. of Seats                                                             [\\n5\\n]  \n",
       "Model Code                                                        [\\n0588/BDF\\n]  \n",
       "Gearing Type                                                 [\\n, Automatic, \\n]  \n",
       "Displacement                                                      [\\n1,422 cc\\n]  \n",
       "Cylinders                                                                [\\n3\\n]  \n",
       "Weight                                                                       NaN  \n",
       "Drive chain                                                          [\\nfront\\n]  \n",
       "Fuel                                       [\\n, Diesel (Particulate Filter), \\n]  \n",
       "Consumption                    [[4.1 l/100 km (comb)], [4.6 l/100 km (city)],...  \n",
       "CO2 Emission                                           [\\n109 g CO2/km (comb)\\n]  \n",
       "Emission Class                                                      [\\nEuro 6\\n]  \n",
       "\\nComfort & Convenience\\n      [Air conditioning, Armrest, Automatic climate ...  \n",
       "\\nEntertainment & Media\\n      [Bluetooth, CD player, Hands-free equipment, M...  \n",
       "\\nExtras\\n                     [Alloy wheels, Sport package, Sport suspension...  \n",
       "\\nSafety & Security\\n          [ABS, Central door lock, Driver-side airbag, E...  \n",
       "description                    [\\n, Technik & Sicherheit:, Xenon plus, Klimaa...  \n",
       "Emission Label                                                               NaN  \n",
       "Gears                                                                        NaN  \n",
       "Country version                                                    [\\nGermany\\n]  \n",
       "Electricity consumption                                                      NaN  \n",
       "Last Service Date                                                            NaN  \n",
       "Other Fuel Types                                                             NaN  \n",
       "Availability                                                                 NaN  \n",
       "Last Timing Belt Service Date                                                NaN  \n",
       "Available from                                                               NaN  "
      ]
     },
     "execution_count": 1680,
     "metadata": {},
     "output_type": "execute_result"
    }
   ],
   "source": [
    "df0 = pd.read_json(\"scout_car.json\",lines=True)\n",
    "df = df0.copy()\n",
    "df.head().T"
   ]
  },
  {
   "cell_type": "code",
   "execution_count": 1681,
   "metadata": {},
   "outputs": [
    {
     "data": {
      "text/plain": [
       "(15919, 54)"
      ]
     },
     "execution_count": 1681,
     "metadata": {},
     "output_type": "execute_result"
    }
   ],
   "source": [
    "df.shape"
   ]
  },
  {
   "cell_type": "code",
   "execution_count": 1682,
   "metadata": {},
   "outputs": [
    {
     "name": "stdout",
     "output_type": "stream",
     "text": [
      "<class 'pandas.core.frame.DataFrame'>\n",
      "RangeIndex: 15919 entries, 0 to 15918\n",
      "Data columns (total 54 columns):\n",
      " #   Column                         Non-Null Count  Dtype  \n",
      "---  ------                         --------------  -----  \n",
      " 0   url                            15919 non-null  object \n",
      " 1   make_model                     15919 non-null  object \n",
      " 2   short_description              15873 non-null  object \n",
      " 3   body_type                      15859 non-null  object \n",
      " 4   price                          15919 non-null  int64  \n",
      " 5   vat                            11406 non-null  object \n",
      " 6   km                             15919 non-null  object \n",
      " 7   registration                   15919 non-null  object \n",
      " 8   prev_owner                     9091 non-null   object \n",
      " 9   kW                             0 non-null      float64\n",
      " 10  hp                             15919 non-null  object \n",
      " 11  Type                           15917 non-null  object \n",
      " 12  Previous Owners                9279 non-null   object \n",
      " 13  Next Inspection                3535 non-null   object \n",
      " 14  Inspection new                 3932 non-null   object \n",
      " 15  Warranty                       10499 non-null  object \n",
      " 16  Full Service                   8215 non-null   object \n",
      " 17  Non-smoking Vehicle            7177 non-null   object \n",
      " 18  null                           15919 non-null  object \n",
      " 19  Make                           15919 non-null  object \n",
      " 20  Model                          15919 non-null  object \n",
      " 21  Offer Number                   12744 non-null  object \n",
      " 22  First Registration             14322 non-null  object \n",
      " 23  Body Color                     15322 non-null  object \n",
      " 24  Paint Type                     10147 non-null  object \n",
      " 25  Body Color Original            12160 non-null  object \n",
      " 26  Upholstery                     12199 non-null  object \n",
      " 27  Body                           15859 non-null  object \n",
      " 28  Nr. of Doors                   15707 non-null  object \n",
      " 29  Nr. of Seats                   14942 non-null  object \n",
      " 30  Model Code                     4978 non-null   object \n",
      " 31  Gearing Type                   15919 non-null  object \n",
      " 32  Displacement                   15423 non-null  object \n",
      " 33  Cylinders                      10239 non-null  object \n",
      " 34  Weight                         8945 non-null   object \n",
      " 35  Drive chain                    9061 non-null   object \n",
      " 36  Fuel                           15919 non-null  object \n",
      " 37  Consumption                    14013 non-null  object \n",
      " 38  CO2 Emission                   14111 non-null  object \n",
      " 39  Emission Class                 12898 non-null  object \n",
      " 40  \n",
      "Comfort & Convenience\n",
      "        14999 non-null  object \n",
      " 41  \n",
      "Entertainment & Media\n",
      "        14545 non-null  object \n",
      " 42  \n",
      "Extras\n",
      "                       12957 non-null  object \n",
      " 43  \n",
      "Safety & Security\n",
      "            14937 non-null  object \n",
      " 44  description                    15919 non-null  object \n",
      " 45  Emission Label                 3985 non-null   object \n",
      " 46  Gears                          11207 non-null  object \n",
      " 47  Country version                7586 non-null   object \n",
      " 48  Electricity consumption        137 non-null    object \n",
      " 49  Last Service Date              566 non-null    object \n",
      " 50  Other Fuel Types               880 non-null    object \n",
      " 51  Availability                   635 non-null    object \n",
      " 52  Last Timing Belt Service Date  16 non-null     object \n",
      " 53  Available from                 272 non-null    object \n",
      "dtypes: float64(1), int64(1), object(52)\n",
      "memory usage: 6.6+ MB\n"
     ]
    }
   ],
   "source": [
    "df.info()"
   ]
  },
  {
   "cell_type": "code",
   "execution_count": 1683,
   "metadata": {},
   "outputs": [
    {
     "data": {
      "text/plain": [
       "Index(['url', 'make_model', 'short_description', 'body_type', 'price', 'vat',\n",
       "       'km', 'registration', 'prev_owner', 'kW', 'hp', 'Type',\n",
       "       'Previous Owners', 'Next Inspection', 'Inspection new', 'Warranty',\n",
       "       'Full Service', 'Non-smoking Vehicle', 'null', 'Make', 'Model',\n",
       "       'Offer Number', 'First Registration', 'Body Color', 'Paint Type',\n",
       "       'Body Color Original', 'Upholstery', 'Body', 'Nr. of Doors',\n",
       "       'Nr. of Seats', 'Model Code', 'Gearing Type', 'Displacement',\n",
       "       'Cylinders', 'Weight', 'Drive chain', 'Fuel', 'Consumption',\n",
       "       'CO2 Emission', 'Emission Class', '\\nComfort & Convenience\\n',\n",
       "       '\\nEntertainment & Media\\n', '\\nExtras\\n', '\\nSafety & Security\\n',\n",
       "       'description', 'Emission Label', 'Gears', 'Country version',\n",
       "       'Electricity consumption', 'Last Service Date', 'Other Fuel Types',\n",
       "       'Availability', 'Last Timing Belt Service Date', 'Available from'],\n",
       "      dtype='object')"
      ]
     },
     "execution_count": 1683,
     "metadata": {},
     "output_type": "execute_result"
    }
   ],
   "source": [
    "df.columns"
   ]
  },
  {
   "cell_type": "markdown",
   "metadata": {},
   "source": [
    "## Fixing Headers"
   ]
  },
  {
   "cell_type": "code",
   "execution_count": 1684,
   "metadata": {},
   "outputs": [],
   "source": [
    "#pip install skimpy"
   ]
  },
  {
   "cell_type": "code",
   "execution_count": 1685,
   "metadata": {},
   "outputs": [],
   "source": [
    "from skimpy import clean_columns"
   ]
  },
  {
   "cell_type": "code",
   "execution_count": 1686,
   "metadata": {},
   "outputs": [],
   "source": [
    "df= clean_columns(df)"
   ]
  },
  {
   "cell_type": "code",
   "execution_count": 1687,
   "metadata": {},
   "outputs": [
    {
     "data": {
      "text/html": [
       "<div>\n",
       "<style scoped>\n",
       "    .dataframe tbody tr th:only-of-type {\n",
       "        vertical-align: middle;\n",
       "    }\n",
       "\n",
       "    .dataframe tbody tr th {\n",
       "        vertical-align: top;\n",
       "    }\n",
       "\n",
       "    .dataframe thead th {\n",
       "        text-align: right;\n",
       "    }\n",
       "</style>\n",
       "<table border=\"1\" class=\"dataframe\">\n",
       "  <thead>\n",
       "    <tr style=\"text-align: right;\">\n",
       "      <th></th>\n",
       "      <th>url</th>\n",
       "      <th>make_model</th>\n",
       "      <th>short_description</th>\n",
       "      <th>body_type</th>\n",
       "      <th>price</th>\n",
       "      <th>vat</th>\n",
       "      <th>km</th>\n",
       "      <th>registration</th>\n",
       "      <th>prev_owner</th>\n",
       "      <th>k_w</th>\n",
       "      <th>hp</th>\n",
       "      <th>type</th>\n",
       "      <th>previous_owners</th>\n",
       "      <th>next_inspection</th>\n",
       "      <th>inspection_new</th>\n",
       "      <th>warranty</th>\n",
       "      <th>full_service</th>\n",
       "      <th>non_smoking_vehicle</th>\n",
       "      <th>null</th>\n",
       "      <th>make</th>\n",
       "      <th>model</th>\n",
       "      <th>offer_number</th>\n",
       "      <th>first_registration</th>\n",
       "      <th>body_color</th>\n",
       "      <th>paint_type</th>\n",
       "      <th>body_color_original</th>\n",
       "      <th>upholstery</th>\n",
       "      <th>body</th>\n",
       "      <th>nr_of_doors</th>\n",
       "      <th>nr_of_seats</th>\n",
       "      <th>model_code</th>\n",
       "      <th>gearing_type</th>\n",
       "      <th>displacement</th>\n",
       "      <th>cylinders</th>\n",
       "      <th>weight</th>\n",
       "      <th>drive_chain</th>\n",
       "      <th>fuel</th>\n",
       "      <th>consumption</th>\n",
       "      <th>co_2_emission</th>\n",
       "      <th>emission_class</th>\n",
       "      <th>comfort_&amp;_convenience</th>\n",
       "      <th>entertainment_&amp;_media</th>\n",
       "      <th>extras</th>\n",
       "      <th>safety_&amp;_security</th>\n",
       "      <th>description</th>\n",
       "      <th>emission_label</th>\n",
       "      <th>gears</th>\n",
       "      <th>country_version</th>\n",
       "      <th>electricity_consumption</th>\n",
       "      <th>last_service_date</th>\n",
       "      <th>other_fuel_types</th>\n",
       "      <th>availability</th>\n",
       "      <th>last_timing_belt_service_date</th>\n",
       "      <th>available_from</th>\n",
       "    </tr>\n",
       "  </thead>\n",
       "  <tbody>\n",
       "    <tr>\n",
       "      <th>0</th>\n",
       "      <td>https://www.autoscout24.com//offers/audi-a1-sp...</td>\n",
       "      <td>Audi A1</td>\n",
       "      <td>Sportback 1.4 TDI S-tronic Xenon Navi Klima</td>\n",
       "      <td>Sedans</td>\n",
       "      <td>15770</td>\n",
       "      <td>VAT deductible</td>\n",
       "      <td>56,013 km</td>\n",
       "      <td>01/2016</td>\n",
       "      <td>2 previous owners</td>\n",
       "      <td>NaN</td>\n",
       "      <td>66 kW</td>\n",
       "      <td>[, Used, , Diesel (Particulate Filter)]</td>\n",
       "      <td>\\n2\\n</td>\n",
       "      <td>[\\n06/2021\\n, \\n99 g CO2/km (comb)\\n]</td>\n",
       "      <td>[\\nYes\\n, \\nEuro 6\\n]</td>\n",
       "      <td>[\\n, \\n, \\n4 (Green)\\n]</td>\n",
       "      <td>[\\n, \\n]</td>\n",
       "      <td>[\\n, \\n]</td>\n",
       "      <td>[]</td>\n",
       "      <td>\\nAudi\\n</td>\n",
       "      <td>[\\n, A1, \\n]</td>\n",
       "      <td>[\\nLR-062483\\n]</td>\n",
       "      <td>[\\n, 2016, \\n]</td>\n",
       "      <td>[\\n, Black, \\n]</td>\n",
       "      <td>[\\nMetallic\\n]</td>\n",
       "      <td>[\\nMythosschwarz\\n]</td>\n",
       "      <td>[\\nCloth, Black\\n]</td>\n",
       "      <td>[\\n, Sedans, \\n]</td>\n",
       "      <td>[\\n5\\n]</td>\n",
       "      <td>[\\n5\\n]</td>\n",
       "      <td>[\\n0588/BDF\\n]</td>\n",
       "      <td>[\\n, Automatic, \\n]</td>\n",
       "      <td>[\\n1,422 cc\\n]</td>\n",
       "      <td>[\\n3\\n]</td>\n",
       "      <td>[\\n1,220 kg\\n]</td>\n",
       "      <td>[\\nfront\\n]</td>\n",
       "      <td>[\\n, Diesel (Particulate Filter), \\n]</td>\n",
       "      <td>[[3.8 l/100 km (comb)], [4.3 l/100 km (city)],...</td>\n",
       "      <td>[\\n99 g CO2/km (comb)\\n]</td>\n",
       "      <td>[\\nEuro 6\\n]</td>\n",
       "      <td>[Air conditioning, Armrest, Automatic climate ...</td>\n",
       "      <td>[Bluetooth, Hands-free equipment, On-board com...</td>\n",
       "      <td>[Alloy wheels, Catalytic Converter, Voice Cont...</td>\n",
       "      <td>[ABS, Central door lock, Daytime running light...</td>\n",
       "      <td>[\\n, Sicherheit:,  , Deaktivierung für Beifahr...</td>\n",
       "      <td>NaN</td>\n",
       "      <td>NaN</td>\n",
       "      <td>NaN</td>\n",
       "      <td>NaN</td>\n",
       "      <td>NaN</td>\n",
       "      <td>NaN</td>\n",
       "      <td>NaN</td>\n",
       "      <td>NaN</td>\n",
       "      <td>NaN</td>\n",
       "    </tr>\n",
       "    <tr>\n",
       "      <th>1</th>\n",
       "      <td>https://www.autoscout24.com//offers/audi-a1-1-...</td>\n",
       "      <td>Audi A1</td>\n",
       "      <td>1.8 TFSI sport</td>\n",
       "      <td>Sedans</td>\n",
       "      <td>14500</td>\n",
       "      <td>Price negotiable</td>\n",
       "      <td>80,000 km</td>\n",
       "      <td>03/2017</td>\n",
       "      <td>None</td>\n",
       "      <td>NaN</td>\n",
       "      <td>141 kW</td>\n",
       "      <td>[, Used, , Gasoline]</td>\n",
       "      <td>NaN</td>\n",
       "      <td>NaN</td>\n",
       "      <td>NaN</td>\n",
       "      <td>NaN</td>\n",
       "      <td>NaN</td>\n",
       "      <td>NaN</td>\n",
       "      <td>[]</td>\n",
       "      <td>\\nAudi\\n</td>\n",
       "      <td>[\\n, A1, \\n]</td>\n",
       "      <td>NaN</td>\n",
       "      <td>[\\n, 2017, \\n]</td>\n",
       "      <td>[\\n, Red, \\n]</td>\n",
       "      <td>NaN</td>\n",
       "      <td>NaN</td>\n",
       "      <td>[\\nCloth, Grey\\n]</td>\n",
       "      <td>[\\n, Sedans, \\n]</td>\n",
       "      <td>[\\n3\\n]</td>\n",
       "      <td>[\\n4\\n]</td>\n",
       "      <td>[\\n0588/BCY\\n]</td>\n",
       "      <td>[\\n, Automatic, \\n]</td>\n",
       "      <td>[\\n1,798 cc\\n]</td>\n",
       "      <td>[\\n4\\n]</td>\n",
       "      <td>[\\n1,255 kg\\n]</td>\n",
       "      <td>[\\nfront\\n]</td>\n",
       "      <td>[\\n, Gasoline, \\n]</td>\n",
       "      <td>[[5.6 l/100 km (comb)], [7.1 l/100 km (city)],...</td>\n",
       "      <td>[\\n129 g CO2/km (comb)\\n]</td>\n",
       "      <td>[\\nEuro 6\\n]</td>\n",
       "      <td>[Air conditioning, Automatic climate control, ...</td>\n",
       "      <td>[Bluetooth, Hands-free equipment, On-board com...</td>\n",
       "      <td>[Alloy wheels, Sport seats, Sport suspension, ...</td>\n",
       "      <td>[ABS, Central door lock, Central door lock wit...</td>\n",
       "      <td>[\\nLangstreckenfahrzeug daher die hohe Kilomet...</td>\n",
       "      <td>[\\n4 (Green)\\n]</td>\n",
       "      <td>[\\n7\\n]</td>\n",
       "      <td>NaN</td>\n",
       "      <td>NaN</td>\n",
       "      <td>NaN</td>\n",
       "      <td>NaN</td>\n",
       "      <td>NaN</td>\n",
       "      <td>NaN</td>\n",
       "      <td>NaN</td>\n",
       "    </tr>\n",
       "    <tr>\n",
       "      <th>2</th>\n",
       "      <td>https://www.autoscout24.com//offers/audi-a1-sp...</td>\n",
       "      <td>Audi A1</td>\n",
       "      <td>Sportback 1.6 TDI S tronic Einparkhilfe plus+m...</td>\n",
       "      <td>Sedans</td>\n",
       "      <td>14640</td>\n",
       "      <td>VAT deductible</td>\n",
       "      <td>83,450 km</td>\n",
       "      <td>02/2016</td>\n",
       "      <td>1 previous owner</td>\n",
       "      <td>NaN</td>\n",
       "      <td>85 kW</td>\n",
       "      <td>[, Used, , Diesel (Particulate Filter)]</td>\n",
       "      <td>\\n1\\n</td>\n",
       "      <td>NaN</td>\n",
       "      <td>NaN</td>\n",
       "      <td>[\\n, \\n, \\n99 g CO2/km (comb)\\n]</td>\n",
       "      <td>NaN</td>\n",
       "      <td>NaN</td>\n",
       "      <td>[]</td>\n",
       "      <td>\\nAudi\\n</td>\n",
       "      <td>[\\n, A1, \\n]</td>\n",
       "      <td>[\\nAM-95365\\n]</td>\n",
       "      <td>[\\n, 2016, \\n]</td>\n",
       "      <td>[\\n, Black, \\n]</td>\n",
       "      <td>[\\nMetallic\\n]</td>\n",
       "      <td>[\\nmythosschwarz metallic\\n]</td>\n",
       "      <td>[\\nCloth, Black\\n]</td>\n",
       "      <td>[\\n, Sedans, \\n]</td>\n",
       "      <td>[\\n4\\n]</td>\n",
       "      <td>[\\n4\\n]</td>\n",
       "      <td>NaN</td>\n",
       "      <td>[\\n, Automatic, \\n]</td>\n",
       "      <td>[\\n1,598 cc\\n]</td>\n",
       "      <td>NaN</td>\n",
       "      <td>NaN</td>\n",
       "      <td>[\\nfront\\n]</td>\n",
       "      <td>[\\n, Diesel (Particulate Filter), \\n]</td>\n",
       "      <td>[[3.8 l/100 km (comb)], [4.4 l/100 km (city)],...</td>\n",
       "      <td>[\\n99 g CO2/km (comb)\\n]</td>\n",
       "      <td>[\\nEuro 6\\n]</td>\n",
       "      <td>[Air conditioning, Cruise control, Electrical ...</td>\n",
       "      <td>[MP3, On-board computer]</td>\n",
       "      <td>[Alloy wheels, Voice Control]</td>\n",
       "      <td>[ABS, Central door lock, Daytime running light...</td>\n",
       "      <td>[\\n, Fahrzeug-Nummer: AM-95365,  , Ehem. UPE 2...</td>\n",
       "      <td>[\\n4 (Green)\\n]</td>\n",
       "      <td>NaN</td>\n",
       "      <td>NaN</td>\n",
       "      <td>NaN</td>\n",
       "      <td>NaN</td>\n",
       "      <td>NaN</td>\n",
       "      <td>NaN</td>\n",
       "      <td>NaN</td>\n",
       "      <td>NaN</td>\n",
       "    </tr>\n",
       "    <tr>\n",
       "      <th>3</th>\n",
       "      <td>https://www.autoscout24.com//offers/audi-a1-1-...</td>\n",
       "      <td>Audi A1</td>\n",
       "      <td>1.4 TDi Design S tronic</td>\n",
       "      <td>Sedans</td>\n",
       "      <td>14500</td>\n",
       "      <td>None</td>\n",
       "      <td>73,000 km</td>\n",
       "      <td>08/2016</td>\n",
       "      <td>1 previous owner</td>\n",
       "      <td>NaN</td>\n",
       "      <td>66 kW</td>\n",
       "      <td>[, Used, , Diesel (Particulate Filter)]</td>\n",
       "      <td>\\n1\\n</td>\n",
       "      <td>NaN</td>\n",
       "      <td>NaN</td>\n",
       "      <td>NaN</td>\n",
       "      <td>[\\n, \\n, \\n99 g CO2/km (comb)\\n]</td>\n",
       "      <td>[\\n, \\n, \\nEuro 6\\n]</td>\n",
       "      <td>[]</td>\n",
       "      <td>\\nAudi\\n</td>\n",
       "      <td>[\\n, A1, \\n]</td>\n",
       "      <td>NaN</td>\n",
       "      <td>[\\n, 2016, \\n]</td>\n",
       "      <td>[\\n, Brown, \\n]</td>\n",
       "      <td>[\\nMetallic\\n]</td>\n",
       "      <td>NaN</td>\n",
       "      <td>NaN</td>\n",
       "      <td>[\\n, Sedans, \\n]</td>\n",
       "      <td>[\\n3\\n]</td>\n",
       "      <td>[\\n4\\n]</td>\n",
       "      <td>NaN</td>\n",
       "      <td>[\\n, Automatic, \\n]</td>\n",
       "      <td>[\\n1,422 cc\\n]</td>\n",
       "      <td>[\\n3\\n]</td>\n",
       "      <td>[\\n1,195 kg\\n]</td>\n",
       "      <td>NaN</td>\n",
       "      <td>[\\n, Diesel (Particulate Filter), \\n]</td>\n",
       "      <td>[[3.8 l/100 km (comb)], [4.3 l/100 km (city)],...</td>\n",
       "      <td>[\\n99 g CO2/km (comb)\\n]</td>\n",
       "      <td>[\\nEuro 6\\n]</td>\n",
       "      <td>[Air suspension, Armrest, Auxiliary heating, E...</td>\n",
       "      <td>[Bluetooth, CD player, Hands-free equipment, M...</td>\n",
       "      <td>[Alloy wheels, Sport seats, Voice Control]</td>\n",
       "      <td>[ABS, Alarm system, Central door lock with rem...</td>\n",
       "      <td>[\\nAudi A1: , - 1e eigenaar , - Perfecte staat...</td>\n",
       "      <td>NaN</td>\n",
       "      <td>[\\n6\\n]</td>\n",
       "      <td>NaN</td>\n",
       "      <td>NaN</td>\n",
       "      <td>NaN</td>\n",
       "      <td>NaN</td>\n",
       "      <td>NaN</td>\n",
       "      <td>NaN</td>\n",
       "      <td>NaN</td>\n",
       "    </tr>\n",
       "    <tr>\n",
       "      <th>4</th>\n",
       "      <td>https://www.autoscout24.com//offers/audi-a1-sp...</td>\n",
       "      <td>Audi A1</td>\n",
       "      <td>Sportback 1.4 TDI S-Tronic S-Line Ext. admired...</td>\n",
       "      <td>Sedans</td>\n",
       "      <td>16790</td>\n",
       "      <td>None</td>\n",
       "      <td>16,200 km</td>\n",
       "      <td>05/2016</td>\n",
       "      <td>1 previous owner</td>\n",
       "      <td>NaN</td>\n",
       "      <td>66 kW</td>\n",
       "      <td>[, Used, , Diesel (Particulate Filter)]</td>\n",
       "      <td>\\n1\\n</td>\n",
       "      <td>NaN</td>\n",
       "      <td>[\\nYes\\n, \\n109 g CO2/km (comb)\\n]</td>\n",
       "      <td>[\\n, \\n, \\nEuro 6\\n]</td>\n",
       "      <td>[\\n, \\n, \\n4 (Green)\\n]</td>\n",
       "      <td>[\\n, \\n]</td>\n",
       "      <td>[]</td>\n",
       "      <td>\\nAudi\\n</td>\n",
       "      <td>[\\n, A1, \\n]</td>\n",
       "      <td>[\\nC1626\\n]</td>\n",
       "      <td>[\\n, 2016, \\n]</td>\n",
       "      <td>[\\n, Black, \\n]</td>\n",
       "      <td>[\\nMetallic\\n]</td>\n",
       "      <td>[\\nMythosschwarz Metallic\\n]</td>\n",
       "      <td>[\\nCloth, Black\\n]</td>\n",
       "      <td>[\\n, Sedans, \\n]</td>\n",
       "      <td>[\\n5\\n]</td>\n",
       "      <td>[\\n5\\n]</td>\n",
       "      <td>[\\n0588/BDF\\n]</td>\n",
       "      <td>[\\n, Automatic, \\n]</td>\n",
       "      <td>[\\n1,422 cc\\n]</td>\n",
       "      <td>[\\n3\\n]</td>\n",
       "      <td>NaN</td>\n",
       "      <td>[\\nfront\\n]</td>\n",
       "      <td>[\\n, Diesel (Particulate Filter), \\n]</td>\n",
       "      <td>[[4.1 l/100 km (comb)], [4.6 l/100 km (city)],...</td>\n",
       "      <td>[\\n109 g CO2/km (comb)\\n]</td>\n",
       "      <td>[\\nEuro 6\\n]</td>\n",
       "      <td>[Air conditioning, Armrest, Automatic climate ...</td>\n",
       "      <td>[Bluetooth, CD player, Hands-free equipment, M...</td>\n",
       "      <td>[Alloy wheels, Sport package, Sport suspension...</td>\n",
       "      <td>[ABS, Central door lock, Driver-side airbag, E...</td>\n",
       "      <td>[\\n, Technik &amp; Sicherheit:, Xenon plus, Klimaa...</td>\n",
       "      <td>NaN</td>\n",
       "      <td>NaN</td>\n",
       "      <td>[\\nGermany\\n]</td>\n",
       "      <td>NaN</td>\n",
       "      <td>NaN</td>\n",
       "      <td>NaN</td>\n",
       "      <td>NaN</td>\n",
       "      <td>NaN</td>\n",
       "      <td>NaN</td>\n",
       "    </tr>\n",
       "  </tbody>\n",
       "</table>\n",
       "</div>"
      ],
      "text/plain": [
       "                                                 url make_model  \\\n",
       "0  https://www.autoscout24.com//offers/audi-a1-sp...    Audi A1   \n",
       "1  https://www.autoscout24.com//offers/audi-a1-1-...    Audi A1   \n",
       "2  https://www.autoscout24.com//offers/audi-a1-sp...    Audi A1   \n",
       "3  https://www.autoscout24.com//offers/audi-a1-1-...    Audi A1   \n",
       "4  https://www.autoscout24.com//offers/audi-a1-sp...    Audi A1   \n",
       "\n",
       "                                   short_description body_type  price  \\\n",
       "0        Sportback 1.4 TDI S-tronic Xenon Navi Klima    Sedans  15770   \n",
       "1                                     1.8 TFSI sport    Sedans  14500   \n",
       "2  Sportback 1.6 TDI S tronic Einparkhilfe plus+m...    Sedans  14640   \n",
       "3                            1.4 TDi Design S tronic    Sedans  14500   \n",
       "4  Sportback 1.4 TDI S-Tronic S-Line Ext. admired...    Sedans  16790   \n",
       "\n",
       "                vat         km registration         prev_owner  k_w      hp  \\\n",
       "0    VAT deductible  56,013 km      01/2016  2 previous owners  NaN   66 kW   \n",
       "1  Price negotiable  80,000 km      03/2017               None  NaN  141 kW   \n",
       "2    VAT deductible  83,450 km      02/2016   1 previous owner  NaN   85 kW   \n",
       "3              None  73,000 km      08/2016   1 previous owner  NaN   66 kW   \n",
       "4              None  16,200 km      05/2016   1 previous owner  NaN   66 kW   \n",
       "\n",
       "                                      type previous_owners  \\\n",
       "0  [, Used, , Diesel (Particulate Filter)]           \\n2\\n   \n",
       "1                     [, Used, , Gasoline]             NaN   \n",
       "2  [, Used, , Diesel (Particulate Filter)]           \\n1\\n   \n",
       "3  [, Used, , Diesel (Particulate Filter)]           \\n1\\n   \n",
       "4  [, Used, , Diesel (Particulate Filter)]           \\n1\\n   \n",
       "\n",
       "                         next_inspection                      inspection_new  \\\n",
       "0  [\\n06/2021\\n, \\n99 g CO2/km (comb)\\n]               [\\nYes\\n, \\nEuro 6\\n]   \n",
       "1                                    NaN                                 NaN   \n",
       "2                                    NaN                                 NaN   \n",
       "3                                    NaN                                 NaN   \n",
       "4                                    NaN  [\\nYes\\n, \\n109 g CO2/km (comb)\\n]   \n",
       "\n",
       "                           warranty                      full_service  \\\n",
       "0           [\\n, \\n, \\n4 (Green)\\n]                          [\\n, \\n]   \n",
       "1                               NaN                               NaN   \n",
       "2  [\\n, \\n, \\n99 g CO2/km (comb)\\n]                               NaN   \n",
       "3                               NaN  [\\n, \\n, \\n99 g CO2/km (comb)\\n]   \n",
       "4              [\\n, \\n, \\nEuro 6\\n]           [\\n, \\n, \\n4 (Green)\\n]   \n",
       "\n",
       "    non_smoking_vehicle null      make         model     offer_number  \\\n",
       "0              [\\n, \\n]   []  \\nAudi\\n  [\\n, A1, \\n]  [\\nLR-062483\\n]   \n",
       "1                   NaN   []  \\nAudi\\n  [\\n, A1, \\n]              NaN   \n",
       "2                   NaN   []  \\nAudi\\n  [\\n, A1, \\n]   [\\nAM-95365\\n]   \n",
       "3  [\\n, \\n, \\nEuro 6\\n]   []  \\nAudi\\n  [\\n, A1, \\n]              NaN   \n",
       "4              [\\n, \\n]   []  \\nAudi\\n  [\\n, A1, \\n]      [\\nC1626\\n]   \n",
       "\n",
       "  first_registration       body_color      paint_type  \\\n",
       "0     [\\n, 2016, \\n]  [\\n, Black, \\n]  [\\nMetallic\\n]   \n",
       "1     [\\n, 2017, \\n]    [\\n, Red, \\n]             NaN   \n",
       "2     [\\n, 2016, \\n]  [\\n, Black, \\n]  [\\nMetallic\\n]   \n",
       "3     [\\n, 2016, \\n]  [\\n, Brown, \\n]  [\\nMetallic\\n]   \n",
       "4     [\\n, 2016, \\n]  [\\n, Black, \\n]  [\\nMetallic\\n]   \n",
       "\n",
       "            body_color_original          upholstery              body  \\\n",
       "0           [\\nMythosschwarz\\n]  [\\nCloth, Black\\n]  [\\n, Sedans, \\n]   \n",
       "1                           NaN   [\\nCloth, Grey\\n]  [\\n, Sedans, \\n]   \n",
       "2  [\\nmythosschwarz metallic\\n]  [\\nCloth, Black\\n]  [\\n, Sedans, \\n]   \n",
       "3                           NaN                 NaN  [\\n, Sedans, \\n]   \n",
       "4  [\\nMythosschwarz Metallic\\n]  [\\nCloth, Black\\n]  [\\n, Sedans, \\n]   \n",
       "\n",
       "  nr_of_doors nr_of_seats      model_code         gearing_type  \\\n",
       "0     [\\n5\\n]     [\\n5\\n]  [\\n0588/BDF\\n]  [\\n, Automatic, \\n]   \n",
       "1     [\\n3\\n]     [\\n4\\n]  [\\n0588/BCY\\n]  [\\n, Automatic, \\n]   \n",
       "2     [\\n4\\n]     [\\n4\\n]             NaN  [\\n, Automatic, \\n]   \n",
       "3     [\\n3\\n]     [\\n4\\n]             NaN  [\\n, Automatic, \\n]   \n",
       "4     [\\n5\\n]     [\\n5\\n]  [\\n0588/BDF\\n]  [\\n, Automatic, \\n]   \n",
       "\n",
       "     displacement cylinders          weight  drive_chain  \\\n",
       "0  [\\n1,422 cc\\n]   [\\n3\\n]  [\\n1,220 kg\\n]  [\\nfront\\n]   \n",
       "1  [\\n1,798 cc\\n]   [\\n4\\n]  [\\n1,255 kg\\n]  [\\nfront\\n]   \n",
       "2  [\\n1,598 cc\\n]       NaN             NaN  [\\nfront\\n]   \n",
       "3  [\\n1,422 cc\\n]   [\\n3\\n]  [\\n1,195 kg\\n]          NaN   \n",
       "4  [\\n1,422 cc\\n]   [\\n3\\n]             NaN  [\\nfront\\n]   \n",
       "\n",
       "                                    fuel  \\\n",
       "0  [\\n, Diesel (Particulate Filter), \\n]   \n",
       "1                     [\\n, Gasoline, \\n]   \n",
       "2  [\\n, Diesel (Particulate Filter), \\n]   \n",
       "3  [\\n, Diesel (Particulate Filter), \\n]   \n",
       "4  [\\n, Diesel (Particulate Filter), \\n]   \n",
       "\n",
       "                                         consumption  \\\n",
       "0  [[3.8 l/100 km (comb)], [4.3 l/100 km (city)],...   \n",
       "1  [[5.6 l/100 km (comb)], [7.1 l/100 km (city)],...   \n",
       "2  [[3.8 l/100 km (comb)], [4.4 l/100 km (city)],...   \n",
       "3  [[3.8 l/100 km (comb)], [4.3 l/100 km (city)],...   \n",
       "4  [[4.1 l/100 km (comb)], [4.6 l/100 km (city)],...   \n",
       "\n",
       "               co_2_emission emission_class  \\\n",
       "0   [\\n99 g CO2/km (comb)\\n]   [\\nEuro 6\\n]   \n",
       "1  [\\n129 g CO2/km (comb)\\n]   [\\nEuro 6\\n]   \n",
       "2   [\\n99 g CO2/km (comb)\\n]   [\\nEuro 6\\n]   \n",
       "3   [\\n99 g CO2/km (comb)\\n]   [\\nEuro 6\\n]   \n",
       "4  [\\n109 g CO2/km (comb)\\n]   [\\nEuro 6\\n]   \n",
       "\n",
       "                               comfort_&_convenience  \\\n",
       "0  [Air conditioning, Armrest, Automatic climate ...   \n",
       "1  [Air conditioning, Automatic climate control, ...   \n",
       "2  [Air conditioning, Cruise control, Electrical ...   \n",
       "3  [Air suspension, Armrest, Auxiliary heating, E...   \n",
       "4  [Air conditioning, Armrest, Automatic climate ...   \n",
       "\n",
       "                               entertainment_&_media  \\\n",
       "0  [Bluetooth, Hands-free equipment, On-board com...   \n",
       "1  [Bluetooth, Hands-free equipment, On-board com...   \n",
       "2                           [MP3, On-board computer]   \n",
       "3  [Bluetooth, CD player, Hands-free equipment, M...   \n",
       "4  [Bluetooth, CD player, Hands-free equipment, M...   \n",
       "\n",
       "                                              extras  \\\n",
       "0  [Alloy wheels, Catalytic Converter, Voice Cont...   \n",
       "1  [Alloy wheels, Sport seats, Sport suspension, ...   \n",
       "2                      [Alloy wheels, Voice Control]   \n",
       "3         [Alloy wheels, Sport seats, Voice Control]   \n",
       "4  [Alloy wheels, Sport package, Sport suspension...   \n",
       "\n",
       "                                   safety_&_security  \\\n",
       "0  [ABS, Central door lock, Daytime running light...   \n",
       "1  [ABS, Central door lock, Central door lock wit...   \n",
       "2  [ABS, Central door lock, Daytime running light...   \n",
       "3  [ABS, Alarm system, Central door lock with rem...   \n",
       "4  [ABS, Central door lock, Driver-side airbag, E...   \n",
       "\n",
       "                                         description   emission_label  \\\n",
       "0  [\\n, Sicherheit:,  , Deaktivierung für Beifahr...              NaN   \n",
       "1  [\\nLangstreckenfahrzeug daher die hohe Kilomet...  [\\n4 (Green)\\n]   \n",
       "2  [\\n, Fahrzeug-Nummer: AM-95365,  , Ehem. UPE 2...  [\\n4 (Green)\\n]   \n",
       "3  [\\nAudi A1: , - 1e eigenaar , - Perfecte staat...              NaN   \n",
       "4  [\\n, Technik & Sicherheit:, Xenon plus, Klimaa...              NaN   \n",
       "\n",
       "     gears country_version electricity_consumption last_service_date  \\\n",
       "0      NaN             NaN                     NaN               NaN   \n",
       "1  [\\n7\\n]             NaN                     NaN               NaN   \n",
       "2      NaN             NaN                     NaN               NaN   \n",
       "3  [\\n6\\n]             NaN                     NaN               NaN   \n",
       "4      NaN   [\\nGermany\\n]                     NaN               NaN   \n",
       "\n",
       "  other_fuel_types availability last_timing_belt_service_date available_from  \n",
       "0              NaN          NaN                           NaN            NaN  \n",
       "1              NaN          NaN                           NaN            NaN  \n",
       "2              NaN          NaN                           NaN            NaN  \n",
       "3              NaN          NaN                           NaN            NaN  \n",
       "4              NaN          NaN                           NaN            NaN  "
      ]
     },
     "execution_count": 1687,
     "metadata": {},
     "output_type": "execute_result"
    }
   ],
   "source": [
    "df.head()"
   ]
  },
  {
   "cell_type": "markdown",
   "metadata": {},
   "source": [
    "### Another way of fixing headers"
   ]
  },
  {
   "cell_type": "code",
   "execution_count": 1688,
   "metadata": {
    "scrolled": false
   },
   "outputs": [],
   "source": [
    "# df.rename(columns={\"\\nComfort & Convenience\\n\":\"Comfort & Convenience\",\n",
    "#                   \"\\nEntertainment & Media\\n\":\"Entertainment & Media\",\n",
    "#                   \"\\nExtras\\n\":\"Extras\",\n",
    "#                   \"\\nSafety & Security\\n\":\"Safety & Security\"})"
   ]
  },
  {
   "cell_type": "code",
   "execution_count": 1689,
   "metadata": {
    "scrolled": true
   },
   "outputs": [
    {
     "data": {
      "text/html": [
       "<div>\n",
       "<style scoped>\n",
       "    .dataframe tbody tr th:only-of-type {\n",
       "        vertical-align: middle;\n",
       "    }\n",
       "\n",
       "    .dataframe tbody tr th {\n",
       "        vertical-align: top;\n",
       "    }\n",
       "\n",
       "    .dataframe thead th {\n",
       "        text-align: right;\n",
       "    }\n",
       "</style>\n",
       "<table border=\"1\" class=\"dataframe\">\n",
       "  <thead>\n",
       "    <tr style=\"text-align: right;\">\n",
       "      <th></th>\n",
       "      <th>0</th>\n",
       "    </tr>\n",
       "  </thead>\n",
       "  <tbody>\n",
       "    <tr>\n",
       "      <th>url</th>\n",
       "      <td>https://www.autoscout24.com//offers/audi-a1-sp...</td>\n",
       "    </tr>\n",
       "    <tr>\n",
       "      <th>make_model</th>\n",
       "      <td>Audi A1</td>\n",
       "    </tr>\n",
       "    <tr>\n",
       "      <th>short_description</th>\n",
       "      <td>Sportback 1.4 TDI S-tronic Xenon Navi Klima</td>\n",
       "    </tr>\n",
       "    <tr>\n",
       "      <th>body_type</th>\n",
       "      <td>Sedans</td>\n",
       "    </tr>\n",
       "    <tr>\n",
       "      <th>price</th>\n",
       "      <td>15770</td>\n",
       "    </tr>\n",
       "    <tr>\n",
       "      <th>vat</th>\n",
       "      <td>VAT deductible</td>\n",
       "    </tr>\n",
       "    <tr>\n",
       "      <th>km</th>\n",
       "      <td>56,013 km</td>\n",
       "    </tr>\n",
       "    <tr>\n",
       "      <th>registration</th>\n",
       "      <td>01/2016</td>\n",
       "    </tr>\n",
       "    <tr>\n",
       "      <th>prev_owner</th>\n",
       "      <td>2 previous owners</td>\n",
       "    </tr>\n",
       "    <tr>\n",
       "      <th>k_w</th>\n",
       "      <td>NaN</td>\n",
       "    </tr>\n",
       "    <tr>\n",
       "      <th>hp</th>\n",
       "      <td>66 kW</td>\n",
       "    </tr>\n",
       "    <tr>\n",
       "      <th>type</th>\n",
       "      <td>[, Used, , Diesel (Particulate Filter)]</td>\n",
       "    </tr>\n",
       "    <tr>\n",
       "      <th>previous_owners</th>\n",
       "      <td>\\n2\\n</td>\n",
       "    </tr>\n",
       "    <tr>\n",
       "      <th>next_inspection</th>\n",
       "      <td>[\\n06/2021\\n, \\n99 g CO2/km (comb)\\n]</td>\n",
       "    </tr>\n",
       "    <tr>\n",
       "      <th>inspection_new</th>\n",
       "      <td>[\\nYes\\n, \\nEuro 6\\n]</td>\n",
       "    </tr>\n",
       "    <tr>\n",
       "      <th>warranty</th>\n",
       "      <td>[\\n, \\n, \\n4 (Green)\\n]</td>\n",
       "    </tr>\n",
       "    <tr>\n",
       "      <th>full_service</th>\n",
       "      <td>[\\n, \\n]</td>\n",
       "    </tr>\n",
       "    <tr>\n",
       "      <th>non_smoking_vehicle</th>\n",
       "      <td>[\\n, \\n]</td>\n",
       "    </tr>\n",
       "    <tr>\n",
       "      <th>null</th>\n",
       "      <td>[]</td>\n",
       "    </tr>\n",
       "    <tr>\n",
       "      <th>make</th>\n",
       "      <td>\\nAudi\\n</td>\n",
       "    </tr>\n",
       "    <tr>\n",
       "      <th>model</th>\n",
       "      <td>[\\n, A1, \\n]</td>\n",
       "    </tr>\n",
       "    <tr>\n",
       "      <th>offer_number</th>\n",
       "      <td>[\\nLR-062483\\n]</td>\n",
       "    </tr>\n",
       "    <tr>\n",
       "      <th>first_registration</th>\n",
       "      <td>[\\n, 2016, \\n]</td>\n",
       "    </tr>\n",
       "    <tr>\n",
       "      <th>body_color</th>\n",
       "      <td>[\\n, Black, \\n]</td>\n",
       "    </tr>\n",
       "    <tr>\n",
       "      <th>paint_type</th>\n",
       "      <td>[\\nMetallic\\n]</td>\n",
       "    </tr>\n",
       "    <tr>\n",
       "      <th>body_color_original</th>\n",
       "      <td>[\\nMythosschwarz\\n]</td>\n",
       "    </tr>\n",
       "    <tr>\n",
       "      <th>upholstery</th>\n",
       "      <td>[\\nCloth, Black\\n]</td>\n",
       "    </tr>\n",
       "    <tr>\n",
       "      <th>body</th>\n",
       "      <td>[\\n, Sedans, \\n]</td>\n",
       "    </tr>\n",
       "    <tr>\n",
       "      <th>nr_of_doors</th>\n",
       "      <td>[\\n5\\n]</td>\n",
       "    </tr>\n",
       "    <tr>\n",
       "      <th>nr_of_seats</th>\n",
       "      <td>[\\n5\\n]</td>\n",
       "    </tr>\n",
       "    <tr>\n",
       "      <th>model_code</th>\n",
       "      <td>[\\n0588/BDF\\n]</td>\n",
       "    </tr>\n",
       "    <tr>\n",
       "      <th>gearing_type</th>\n",
       "      <td>[\\n, Automatic, \\n]</td>\n",
       "    </tr>\n",
       "    <tr>\n",
       "      <th>displacement</th>\n",
       "      <td>[\\n1,422 cc\\n]</td>\n",
       "    </tr>\n",
       "    <tr>\n",
       "      <th>cylinders</th>\n",
       "      <td>[\\n3\\n]</td>\n",
       "    </tr>\n",
       "    <tr>\n",
       "      <th>weight</th>\n",
       "      <td>[\\n1,220 kg\\n]</td>\n",
       "    </tr>\n",
       "    <tr>\n",
       "      <th>drive_chain</th>\n",
       "      <td>[\\nfront\\n]</td>\n",
       "    </tr>\n",
       "    <tr>\n",
       "      <th>fuel</th>\n",
       "      <td>[\\n, Diesel (Particulate Filter), \\n]</td>\n",
       "    </tr>\n",
       "    <tr>\n",
       "      <th>consumption</th>\n",
       "      <td>[[3.8 l/100 km (comb)], [4.3 l/100 km (city)],...</td>\n",
       "    </tr>\n",
       "    <tr>\n",
       "      <th>co_2_emission</th>\n",
       "      <td>[\\n99 g CO2/km (comb)\\n]</td>\n",
       "    </tr>\n",
       "    <tr>\n",
       "      <th>emission_class</th>\n",
       "      <td>[\\nEuro 6\\n]</td>\n",
       "    </tr>\n",
       "    <tr>\n",
       "      <th>comfort_&amp;_convenience</th>\n",
       "      <td>[Air conditioning, Armrest, Automatic climate ...</td>\n",
       "    </tr>\n",
       "    <tr>\n",
       "      <th>entertainment_&amp;_media</th>\n",
       "      <td>[Bluetooth, Hands-free equipment, On-board com...</td>\n",
       "    </tr>\n",
       "    <tr>\n",
       "      <th>extras</th>\n",
       "      <td>[Alloy wheels, Catalytic Converter, Voice Cont...</td>\n",
       "    </tr>\n",
       "    <tr>\n",
       "      <th>safety_&amp;_security</th>\n",
       "      <td>[ABS, Central door lock, Daytime running light...</td>\n",
       "    </tr>\n",
       "    <tr>\n",
       "      <th>description</th>\n",
       "      <td>[\\n, Sicherheit:,  , Deaktivierung für Beifahr...</td>\n",
       "    </tr>\n",
       "    <tr>\n",
       "      <th>emission_label</th>\n",
       "      <td>NaN</td>\n",
       "    </tr>\n",
       "    <tr>\n",
       "      <th>gears</th>\n",
       "      <td>NaN</td>\n",
       "    </tr>\n",
       "    <tr>\n",
       "      <th>country_version</th>\n",
       "      <td>NaN</td>\n",
       "    </tr>\n",
       "    <tr>\n",
       "      <th>electricity_consumption</th>\n",
       "      <td>NaN</td>\n",
       "    </tr>\n",
       "    <tr>\n",
       "      <th>last_service_date</th>\n",
       "      <td>NaN</td>\n",
       "    </tr>\n",
       "    <tr>\n",
       "      <th>other_fuel_types</th>\n",
       "      <td>NaN</td>\n",
       "    </tr>\n",
       "    <tr>\n",
       "      <th>availability</th>\n",
       "      <td>NaN</td>\n",
       "    </tr>\n",
       "    <tr>\n",
       "      <th>last_timing_belt_service_date</th>\n",
       "      <td>NaN</td>\n",
       "    </tr>\n",
       "    <tr>\n",
       "      <th>available_from</th>\n",
       "      <td>NaN</td>\n",
       "    </tr>\n",
       "  </tbody>\n",
       "</table>\n",
       "</div>"
      ],
      "text/plain": [
       "                                                                               0\n",
       "url                            https://www.autoscout24.com//offers/audi-a1-sp...\n",
       "make_model                                                               Audi A1\n",
       "short_description                    Sportback 1.4 TDI S-tronic Xenon Navi Klima\n",
       "body_type                                                                 Sedans\n",
       "price                                                                      15770\n",
       "vat                                                               VAT deductible\n",
       "km                                                                     56,013 km\n",
       "registration                                                             01/2016\n",
       "prev_owner                                                     2 previous owners\n",
       "k_w                                                                          NaN\n",
       "hp                                                                         66 kW\n",
       "type                                     [, Used, , Diesel (Particulate Filter)]\n",
       "previous_owners                                                            \\n2\\n\n",
       "next_inspection                            [\\n06/2021\\n, \\n99 g CO2/km (comb)\\n]\n",
       "inspection_new                                             [\\nYes\\n, \\nEuro 6\\n]\n",
       "warranty                                                 [\\n, \\n, \\n4 (Green)\\n]\n",
       "full_service                                                            [\\n, \\n]\n",
       "non_smoking_vehicle                                                     [\\n, \\n]\n",
       "null                                                                          []\n",
       "make                                                                    \\nAudi\\n\n",
       "model                                                               [\\n, A1, \\n]\n",
       "offer_number                                                     [\\nLR-062483\\n]\n",
       "first_registration                                                [\\n, 2016, \\n]\n",
       "body_color                                                       [\\n, Black, \\n]\n",
       "paint_type                                                        [\\nMetallic\\n]\n",
       "body_color_original                                          [\\nMythosschwarz\\n]\n",
       "upholstery                                                    [\\nCloth, Black\\n]\n",
       "body                                                            [\\n, Sedans, \\n]\n",
       "nr_of_doors                                                              [\\n5\\n]\n",
       "nr_of_seats                                                              [\\n5\\n]\n",
       "model_code                                                        [\\n0588/BDF\\n]\n",
       "gearing_type                                                 [\\n, Automatic, \\n]\n",
       "displacement                                                      [\\n1,422 cc\\n]\n",
       "cylinders                                                                [\\n3\\n]\n",
       "weight                                                            [\\n1,220 kg\\n]\n",
       "drive_chain                                                          [\\nfront\\n]\n",
       "fuel                                       [\\n, Diesel (Particulate Filter), \\n]\n",
       "consumption                    [[3.8 l/100 km (comb)], [4.3 l/100 km (city)],...\n",
       "co_2_emission                                           [\\n99 g CO2/km (comb)\\n]\n",
       "emission_class                                                      [\\nEuro 6\\n]\n",
       "comfort_&_convenience          [Air conditioning, Armrest, Automatic climate ...\n",
       "entertainment_&_media          [Bluetooth, Hands-free equipment, On-board com...\n",
       "extras                         [Alloy wheels, Catalytic Converter, Voice Cont...\n",
       "safety_&_security              [ABS, Central door lock, Daytime running light...\n",
       "description                    [\\n, Sicherheit:,  , Deaktivierung für Beifahr...\n",
       "emission_label                                                               NaN\n",
       "gears                                                                        NaN\n",
       "country_version                                                              NaN\n",
       "electricity_consumption                                                      NaN\n",
       "last_service_date                                                            NaN\n",
       "other_fuel_types                                                             NaN\n",
       "availability                                                                 NaN\n",
       "last_timing_belt_service_date                                                NaN\n",
       "available_from                                                               NaN"
      ]
     },
     "execution_count": 1689,
     "metadata": {},
     "output_type": "execute_result"
    }
   ],
   "source": [
    "df.head(1).T"
   ]
  },
  {
   "cell_type": "markdown",
   "metadata": {},
   "source": [
    "### Third Way of Fixing Headers"
   ]
  },
  {
   "cell_type": "code",
   "execution_count": 1690,
   "metadata": {},
   "outputs": [],
   "source": [
    "# df[\"Comfort & Convenience\"]=df[\"\\nComfort & Convenience\\n\"]\n",
    "# df[\"Entertainment & Media\"]=df[\"\\nEntertainment & Media\\n\"]\n",
    "# df[\"Extras\"]=df[\"\\nExtras\\n\"]\n",
    "# df[\"Safety & Security\"]=df[\"\\nSafety & Security\\n\"]"
   ]
  },
  {
   "cell_type": "code",
   "execution_count": 1691,
   "metadata": {},
   "outputs": [],
   "source": [
    "# #then we need to delete old columns that we corrected \n",
    "# drop_columns=[\"\\nComfort & Convenience\\n\",\"\\nEntertainment & Media\\n\",\"\\nExtras\\n\",\"\\nSafety & Security\\n\"]\n",
    "# df.drop(drop_columns, axis=1, inplace=True) "
   ]
  },
  {
   "cell_type": "markdown",
   "metadata": {},
   "source": [
    "## Working with Null Values"
   ]
  },
  {
   "cell_type": "code",
   "execution_count": 1692,
   "metadata": {},
   "outputs": [
    {
     "data": {
      "text/plain": [
       "url                                  0\n",
       "make_model                           0\n",
       "short_description                   46\n",
       "body_type                           60\n",
       "price                                0\n",
       "vat                               4513\n",
       "km                                   0\n",
       "registration                         0\n",
       "prev_owner                        6828\n",
       "k_w                              15919\n",
       "hp                                   0\n",
       "type                                 2\n",
       "previous_owners                   6640\n",
       "next_inspection                  12384\n",
       "inspection_new                   11987\n",
       "warranty                          5420\n",
       "full_service                      7704\n",
       "non_smoking_vehicle               8742\n",
       "null                                 0\n",
       "make                                 0\n",
       "model                                0\n",
       "offer_number                      3175\n",
       "first_registration                1597\n",
       "body_color                         597\n",
       "paint_type                        5772\n",
       "body_color_original               3759\n",
       "upholstery                        3720\n",
       "body                                60\n",
       "nr_of_doors                        212\n",
       "nr_of_seats                        977\n",
       "model_code                       10941\n",
       "gearing_type                         0\n",
       "displacement                       496\n",
       "cylinders                         5680\n",
       "weight                            6974\n",
       "drive_chain                       6858\n",
       "fuel                                 0\n",
       "consumption                       1906\n",
       "co_2_emission                     1808\n",
       "emission_class                    3021\n",
       "comfort_&_convenience              920\n",
       "entertainment_&_media             1374\n",
       "extras                            2962\n",
       "safety_&_security                  982\n",
       "description                          0\n",
       "emission_label                   11934\n",
       "gears                             4712\n",
       "country_version                   8333\n",
       "electricity_consumption          15782\n",
       "last_service_date                15353\n",
       "other_fuel_types                 15039\n",
       "availability                     15284\n",
       "last_timing_belt_service_date    15903\n",
       "available_from                   15647\n",
       "dtype: int64"
      ]
     },
     "execution_count": 1692,
     "metadata": {},
     "output_type": "execute_result"
    }
   ],
   "source": [
    "df.isnull().sum()   #assuming that all NaN values are written correctly"
   ]
  },
  {
   "cell_type": "code",
   "execution_count": 1693,
   "metadata": {},
   "outputs": [
    {
     "data": {
      "text/plain": [
       "url                               0.000\n",
       "make_model                        0.000\n",
       "short_description                 0.289\n",
       "body_type                         0.377\n",
       "price                             0.000\n",
       "vat                              28.350\n",
       "km                                0.000\n",
       "registration                      0.000\n",
       "prev_owner                       42.892\n",
       "k_w                             100.000\n",
       "hp                                0.000\n",
       "type                              0.013\n",
       "previous_owners                  41.711\n",
       "next_inspection                  77.794\n",
       "inspection_new                   75.300\n",
       "warranty                         34.047\n",
       "full_service                     48.395\n",
       "non_smoking_vehicle              54.916\n",
       "null                              0.000\n",
       "make                              0.000\n",
       "model                             0.000\n",
       "offer_number                     19.945\n",
       "first_registration               10.032\n",
       "body_color                        3.750\n",
       "paint_type                       36.259\n",
       "body_color_original              23.613\n",
       "upholstery                       23.368\n",
       "body                              0.377\n",
       "nr_of_doors                       1.332\n",
       "nr_of_seats                       6.137\n",
       "model_code                       68.729\n",
       "gearing_type                      0.000\n",
       "displacement                      3.116\n",
       "cylinders                        35.681\n",
       "weight                           43.809\n",
       "drive_chain                      43.081\n",
       "fuel                              0.000\n",
       "consumption                      11.973\n",
       "co_2_emission                    11.357\n",
       "emission_class                   18.977\n",
       "comfort_&_convenience             5.779\n",
       "entertainment_&_media             8.631\n",
       "extras                           18.607\n",
       "safety_&_security                 6.169\n",
       "description                       0.000\n",
       "emission_label                   74.967\n",
       "gears                            29.600\n",
       "country_version                  52.346\n",
       "electricity_consumption          99.139\n",
       "last_service_date                96.445\n",
       "other_fuel_types                 94.472\n",
       "availability                     96.011\n",
       "last_timing_belt_service_date    99.899\n",
       "available_from                   98.291\n",
       "dtype: float64"
      ]
     },
     "execution_count": 1693,
     "metadata": {},
     "output_type": "execute_result"
    }
   ],
   "source": [
    "# df.isnull().sum()/len(df)*100 #percentage of missing values per columns\n",
    "df.isnull().sum()/df.shape[0]*100"
   ]
  },
  {
   "cell_type": "code",
   "execution_count": 1694,
   "metadata": {},
   "outputs": [
    {
     "data": {
      "text/plain": [
       "k_w                             100.000\n",
       "electricity_consumption          99.139\n",
       "last_service_date                96.445\n",
       "availability                     96.011\n",
       "last_timing_belt_service_date    99.899\n",
       "available_from                   98.291\n",
       "dtype: float64"
      ]
     },
     "execution_count": 1694,
     "metadata": {},
     "output_type": "execute_result"
    }
   ],
   "source": [
    "# function to return limit percent of missing values\n",
    "def show_nans(df, limit):\n",
    "    missing = df.isnull().sum()*100/df.shape[0]\n",
    "    return missing.loc[lambda x : x >= limit]\n",
    "show_nans(df,95)"
   ]
  },
  {
   "cell_type": "markdown",
   "metadata": {},
   "source": [
    "### Working on null column"
   ]
  },
  {
   "cell_type": "code",
   "execution_count": 1695,
   "metadata": {},
   "outputs": [],
   "source": [
    "x = df.null.replace(\"[]\",None)"
   ]
  },
  {
   "cell_type": "code",
   "execution_count": 1696,
   "metadata": {},
   "outputs": [],
   "source": [
    "##x = df.replace(to_replace=r'^[].$', value=None, regex=True)\n"
   ]
  },
  {
   "cell_type": "code",
   "execution_count": 1697,
   "metadata": {},
   "outputs": [
    {
     "data": {
      "text/plain": [
       "0    []\n",
       "1    []\n",
       "2    []\n",
       "3    []\n",
       "4    []\n",
       "Name: null, dtype: object"
      ]
     },
     "execution_count": 1697,
     "metadata": {},
     "output_type": "execute_result"
    }
   ],
   "source": [
    "x.head()"
   ]
  },
  {
   "cell_type": "code",
   "execution_count": 1698,
   "metadata": {},
   "outputs": [
    {
     "data": {
      "text/plain": [
       "0    []\n",
       "1    []\n",
       "2    []\n",
       "3    []\n",
       "4    []\n",
       "Name: null, dtype: object"
      ]
     },
     "execution_count": 1698,
     "metadata": {},
     "output_type": "execute_result"
    }
   ],
   "source": [
    "df.null.head()"
   ]
  },
  {
   "cell_type": "markdown",
   "metadata": {},
   "source": [
    "## Dropping columns that have missing values more than ???"
   ]
  },
  {
   "cell_type": "code",
   "execution_count": null,
   "metadata": {},
   "outputs": [],
   "source": []
  },
  {
   "cell_type": "code",
   "execution_count": null,
   "metadata": {},
   "outputs": [],
   "source": []
  },
  {
   "cell_type": "markdown",
   "metadata": {},
   "source": [
    "# Examination Of Colomns"
   ]
  },
  {
   "cell_type": "markdown",
   "metadata": {},
   "source": [
    "## url"
   ]
  },
  {
   "cell_type": "code",
   "execution_count": 1699,
   "metadata": {},
   "outputs": [
    {
     "data": {
      "text/plain": [
       "'https://www.autoscout24.com//offers/audi-a1-sportback-1-4-tdi-s-tronic-xenon-navi-klima-diesel-black-bdab349a-caa5-41b0-98eb-c1345b84445e'"
      ]
     },
     "execution_count": 1699,
     "metadata": {},
     "output_type": "execute_result"
    }
   ],
   "source": [
    "df['url'][0]"
   ]
  },
  {
   "cell_type": "code",
   "execution_count": 1700,
   "metadata": {},
   "outputs": [],
   "source": [
    "# drop  url column ???"
   ]
  },
  {
   "cell_type": "markdown",
   "metadata": {},
   "source": [
    "## make_model vs Make vs Model "
   ]
  },
  {
   "cell_type": "code",
   "execution_count": 1701,
   "metadata": {},
   "outputs": [
    {
     "data": {
      "text/plain": [
       "Audi A3           3097\n",
       "Audi A1           2614\n",
       "Opel Insignia     2598\n",
       "Opel Astra        2526\n",
       "Opel Corsa        2219\n",
       "Renault Clio      1839\n",
       "Renault Espace     991\n",
       "Renault Duster      34\n",
       "Audi A2              1\n",
       "Name: make_model, dtype: int64"
      ]
     },
     "execution_count": 1701,
     "metadata": {},
     "output_type": "execute_result"
    }
   ],
   "source": [
    "df['make_model'].value_counts()"
   ]
  },
  {
   "cell_type": "code",
   "execution_count": 1702,
   "metadata": {},
   "outputs": [
    {
     "data": {
      "text/plain": [
       "\\nOpel\\n       7343\n",
       "\\nAudi\\n       5712\n",
       "\\nRenault\\n    2864\n",
       "Name: make, dtype: int64"
      ]
     },
     "execution_count": 1702,
     "metadata": {},
     "output_type": "execute_result"
    }
   ],
   "source": [
    "df['make'].value_counts()"
   ]
  },
  {
   "cell_type": "code",
   "execution_count": 1703,
   "metadata": {},
   "outputs": [
    {
     "data": {
      "text/plain": [
       "0"
      ]
     },
     "execution_count": 1703,
     "metadata": {},
     "output_type": "execute_result"
    }
   ],
   "source": [
    "df['make'].isnull().sum() "
   ]
  },
  {
   "cell_type": "code",
   "execution_count": 1704,
   "metadata": {},
   "outputs": [
    {
     "data": {
      "text/plain": [
       "[\\n, A3, \\n]          3097\n",
       "[\\n, A1, \\n]          2614\n",
       "[\\n, Insignia, \\n]    2598\n",
       "[\\n, Astra, \\n]       2526\n",
       "[\\n, Corsa, \\n]       2219\n",
       "[\\n, Clio, \\n]        1839\n",
       "[\\n, Espace, \\n]       991\n",
       "[\\n, Duster, \\n]        34\n",
       "[\\n, A2, \\n]             1\n",
       "Name: model, dtype: int64"
      ]
     },
     "execution_count": 1704,
     "metadata": {},
     "output_type": "execute_result"
    }
   ],
   "source": [
    "df['model'].value_counts()"
   ]
  },
  {
   "cell_type": "code",
   "execution_count": 1705,
   "metadata": {},
   "outputs": [
    {
     "data": {
      "text/plain": [
       "0"
      ]
     },
     "execution_count": 1705,
     "metadata": {},
     "output_type": "execute_result"
    }
   ],
   "source": [
    "df['model'].isnull().sum()"
   ]
  },
  {
   "cell_type": "code",
   "execution_count": 1706,
   "metadata": {},
   "outputs": [
    {
     "data": {
      "text/html": [
       "<div>\n",
       "<style scoped>\n",
       "    .dataframe tbody tr th:only-of-type {\n",
       "        vertical-align: middle;\n",
       "    }\n",
       "\n",
       "    .dataframe tbody tr th {\n",
       "        vertical-align: top;\n",
       "    }\n",
       "\n",
       "    .dataframe thead th {\n",
       "        text-align: right;\n",
       "    }\n",
       "</style>\n",
       "<table border=\"1\" class=\"dataframe\">\n",
       "  <thead>\n",
       "    <tr style=\"text-align: right;\">\n",
       "      <th></th>\n",
       "      <th>make</th>\n",
       "      <th>model</th>\n",
       "      <th>make_model</th>\n",
       "    </tr>\n",
       "  </thead>\n",
       "  <tbody>\n",
       "    <tr>\n",
       "      <th>12573</th>\n",
       "      <td>\\nOpel\\n</td>\n",
       "      <td>[\\n, Insignia, \\n]</td>\n",
       "      <td>Opel Insignia</td>\n",
       "    </tr>\n",
       "    <tr>\n",
       "      <th>102</th>\n",
       "      <td>\\nAudi\\n</td>\n",
       "      <td>[\\n, A1, \\n]</td>\n",
       "      <td>Audi A1</td>\n",
       "    </tr>\n",
       "    <tr>\n",
       "      <th>14623</th>\n",
       "      <td>\\nRenault\\n</td>\n",
       "      <td>[\\n, Clio, \\n]</td>\n",
       "      <td>Renault Clio</td>\n",
       "    </tr>\n",
       "    <tr>\n",
       "      <th>3707</th>\n",
       "      <td>\\nAudi\\n</td>\n",
       "      <td>[\\n, A3, \\n]</td>\n",
       "      <td>Audi A3</td>\n",
       "    </tr>\n",
       "    <tr>\n",
       "      <th>14825</th>\n",
       "      <td>\\nRenault\\n</td>\n",
       "      <td>[\\n, Clio, \\n]</td>\n",
       "      <td>Renault Clio</td>\n",
       "    </tr>\n",
       "    <tr>\n",
       "      <th>15263</th>\n",
       "      <td>\\nRenault\\n</td>\n",
       "      <td>[\\n, Espace, \\n]</td>\n",
       "      <td>Renault Espace</td>\n",
       "    </tr>\n",
       "    <tr>\n",
       "      <th>8985</th>\n",
       "      <td>\\nOpel\\n</td>\n",
       "      <td>[\\n, Corsa, \\n]</td>\n",
       "      <td>Opel Corsa</td>\n",
       "    </tr>\n",
       "    <tr>\n",
       "      <th>11500</th>\n",
       "      <td>\\nOpel\\n</td>\n",
       "      <td>[\\n, Insignia, \\n]</td>\n",
       "      <td>Opel Insignia</td>\n",
       "    </tr>\n",
       "    <tr>\n",
       "      <th>15317</th>\n",
       "      <td>\\nRenault\\n</td>\n",
       "      <td>[\\n, Espace, \\n]</td>\n",
       "      <td>Renault Espace</td>\n",
       "    </tr>\n",
       "    <tr>\n",
       "      <th>12345</th>\n",
       "      <td>\\nOpel\\n</td>\n",
       "      <td>[\\n, Insignia, \\n]</td>\n",
       "      <td>Opel Insignia</td>\n",
       "    </tr>\n",
       "  </tbody>\n",
       "</table>\n",
       "</div>"
      ],
      "text/plain": [
       "              make               model      make_model\n",
       "12573     \\nOpel\\n  [\\n, Insignia, \\n]   Opel Insignia\n",
       "102       \\nAudi\\n        [\\n, A1, \\n]         Audi A1\n",
       "14623  \\nRenault\\n      [\\n, Clio, \\n]    Renault Clio\n",
       "3707      \\nAudi\\n        [\\n, A3, \\n]         Audi A3\n",
       "14825  \\nRenault\\n      [\\n, Clio, \\n]    Renault Clio\n",
       "15263  \\nRenault\\n    [\\n, Espace, \\n]  Renault Espace\n",
       "8985      \\nOpel\\n     [\\n, Corsa, \\n]      Opel Corsa\n",
       "11500     \\nOpel\\n  [\\n, Insignia, \\n]   Opel Insignia\n",
       "15317  \\nRenault\\n    [\\n, Espace, \\n]  Renault Espace\n",
       "12345     \\nOpel\\n  [\\n, Insignia, \\n]   Opel Insignia"
      ]
     },
     "execution_count": 1706,
     "metadata": {},
     "output_type": "execute_result"
    }
   ],
   "source": [
    "df[[\"make\",\"model\",'make_model']].sample(10)"
   ]
  },
  {
   "cell_type": "markdown",
   "metadata": {},
   "source": [
    "#### Removing \\n and [\\n "
   ]
  },
  {
   "cell_type": "code",
   "execution_count": 1707,
   "metadata": {},
   "outputs": [
    {
     "data": {
      "text/plain": [
       "Opel       7343\n",
       "Audi       5712\n",
       "Renault    2864\n",
       "Name: make, dtype: int64"
      ]
     },
     "execution_count": 1707,
     "metadata": {},
     "output_type": "execute_result"
    }
   ],
   "source": [
    "df[\"make\"]=df[\"make\"].replace(\"\\\\n\",\"\", regex=True)\n",
    "df[\"make\"].value_counts()"
   ]
  },
  {
   "cell_type": "code",
   "execution_count": 1708,
   "metadata": {},
   "outputs": [
    {
     "data": {
      "text/plain": [
       "0           Audi\n",
       "1           Audi\n",
       "2           Audi\n",
       "3           Audi\n",
       "4           Audi\n",
       "          ...   \n",
       "15914    Renault\n",
       "15915    Renault\n",
       "15916    Renault\n",
       "15917    Renault\n",
       "15918    Renault\n",
       "Name: make, Length: 15919, dtype: object"
      ]
     },
     "execution_count": 1708,
     "metadata": {},
     "output_type": "execute_result"
    }
   ],
   "source": [
    "df.make"
   ]
  },
  {
   "cell_type": "code",
   "execution_count": 1709,
   "metadata": {},
   "outputs": [],
   "source": [
    "def remove(x):\n",
    "    if type(x)==float:\n",
    "        return np.nan\n",
    "    else:\n",
    "        return x[1]"
   ]
  },
  {
   "cell_type": "code",
   "execution_count": 1710,
   "metadata": {},
   "outputs": [],
   "source": [
    "df[\"model\"] = df[\"model\"].apply(remove)"
   ]
  },
  {
   "cell_type": "code",
   "execution_count": 1711,
   "metadata": {},
   "outputs": [
    {
     "data": {
      "text/plain": [
       "0            A1\n",
       "1            A1\n",
       "2            A1\n",
       "3            A1\n",
       "4            A1\n",
       "          ...  \n",
       "15914    Espace\n",
       "15915    Espace\n",
       "15916    Espace\n",
       "15917    Espace\n",
       "15918    Espace\n",
       "Name: model, Length: 15919, dtype: object"
      ]
     },
     "execution_count": 1711,
     "metadata": {},
     "output_type": "execute_result"
    }
   ],
   "source": [
    "df.model"
   ]
  },
  {
   "cell_type": "code",
   "execution_count": 1712,
   "metadata": {},
   "outputs": [],
   "source": [
    "## df['Model'].apply(lambda x: np.nan if type(x)==float else x[1])"
   ]
  },
  {
   "cell_type": "markdown",
   "metadata": {},
   "source": [
    "## short_description vs description "
   ]
  },
  {
   "cell_type": "code",
   "execution_count": 1713,
   "metadata": {},
   "outputs": [
    {
     "data": {
      "text/plain": [
       "SPB 1.6 TDI 116 CV S tronic Sport                 64\n",
       "1.4 66kW (90CV) Selective                         40\n",
       "MOVE KLIMA CD USB ALLWETTER BLUETOOTH             38\n",
       "SPB 30 TDI S tronic Business                      35\n",
       "SPB 30 TFSI S tronic Admired                      35\n",
       "                                                  ..\n",
       "K Sports Tourer Business **Navi*Voll**             1\n",
       "1.0 Turbo ecoFLEX Automatic Elective Park Navi     1\n",
       "1.6 CDTI Business *Navi*Automatik*Spurh.*          1\n",
       "1.6 136 CV Automatica Navi E 6 Garanzia Full       1\n",
       "TCe 225 EDC GPF LIM Deluxe Pano,RFK                1\n",
       "Name: short_description, Length: 10001, dtype: int64"
      ]
     },
     "execution_count": 1713,
     "metadata": {},
     "output_type": "execute_result"
    }
   ],
   "source": [
    "df['short_description'].value_counts()"
   ]
  },
  {
   "cell_type": "code",
   "execution_count": 1714,
   "metadata": {},
   "outputs": [
    {
     "data": {
      "text/plain": [
       "46"
      ]
     },
     "execution_count": 1714,
     "metadata": {},
     "output_type": "execute_result"
    }
   ],
   "source": [
    "df['short_description'].isnull().sum() "
   ]
  },
  {
   "cell_type": "code",
   "execution_count": 1715,
   "metadata": {},
   "outputs": [
    {
     "data": {
      "text/html": [
       "<div>\n",
       "<style scoped>\n",
       "    .dataframe tbody tr th:only-of-type {\n",
       "        vertical-align: middle;\n",
       "    }\n",
       "\n",
       "    .dataframe tbody tr th {\n",
       "        vertical-align: top;\n",
       "    }\n",
       "\n",
       "    .dataframe thead th {\n",
       "        text-align: right;\n",
       "    }\n",
       "</style>\n",
       "<table border=\"1\" class=\"dataframe\">\n",
       "  <thead>\n",
       "    <tr style=\"text-align: right;\">\n",
       "      <th></th>\n",
       "      <th>short_description</th>\n",
       "      <th>description</th>\n",
       "    </tr>\n",
       "  </thead>\n",
       "  <tbody>\n",
       "    <tr>\n",
       "      <th>6603</th>\n",
       "      <td>1.4 Tur. Dynamic Automatik Start/Stop(K)</td>\n",
       "      <td>[\\n,  * ABS mit CBC und Bremsassistent,  * Abl...</td>\n",
       "    </tr>\n",
       "    <tr>\n",
       "      <th>11067</th>\n",
       "      <td>1.4 T Selective 103 kW (140 CV)</td>\n",
       "      <td>[\\nPrecio financiado: 12. 450€, 199 Euros al m...</td>\n",
       "    </tr>\n",
       "    <tr>\n",
       "      <th>9087</th>\n",
       "      <td>1.2 5 porte Advance</td>\n",
       "      <td>[\\nDEK:[2715246], Equipaggiamenti di serie:, A...</td>\n",
       "    </tr>\n",
       "    <tr>\n",
       "      <th>10502</th>\n",
       "      <td>2.0CDTI ecoF. S</td>\n",
       "      <td>[\\nMantenimiento cada 15000km demostrable\\n]</td>\n",
       "    </tr>\n",
       "    <tr>\n",
       "      <th>11025</th>\n",
       "      <td>1.6 CDTi ecoFLEX GPS GARANTIE 1AN</td>\n",
       "      <td>[\\nVEHICULE EN PARFAIT ETAT CARROSSERIE ET MEC...</td>\n",
       "    </tr>\n",
       "    <tr>\n",
       "      <th>13281</th>\n",
       "      <td>GT Energy TCe 88 kW (120 CV) EDC eco2</td>\n",
       "      <td>[\\n, 9073JVB, Oferta de financiación, consulta...</td>\n",
       "    </tr>\n",
       "    <tr>\n",
       "      <th>11255</th>\n",
       "      <td>Grand Sport INNOVATION 1.5 Turbo LED Navi Keyl...</td>\n",
       "      <td>[\\n,  , Getriebe, : Automatik,  , Technik, : B...</td>\n",
       "    </tr>\n",
       "    <tr>\n",
       "      <th>7876</th>\n",
       "      <td>1.4 Turbo 120 Jahre INTELLILINK NAVI</td>\n",
       "      <td>[\\nFahrzeug-Nr.: 1175054, , Fahrzeugstandort: ...</td>\n",
       "    </tr>\n",
       "    <tr>\n",
       "      <th>4218</th>\n",
       "      <td>Sportback 1.6 TDI sport EU6 Navi Xenon PDC GRA...</td>\n",
       "      <td>[\\n, Assistenzsysteme:,  Einparkhilfe vorn und...</td>\n",
       "    </tr>\n",
       "    <tr>\n",
       "      <th>4626</th>\n",
       "      <td>Sportback 1.6 TDI S-tronic 85 kW (116 CV</td>\n",
       "      <td>[\\nPrecio con oferta de financiación: 20.050 E...</td>\n",
       "    </tr>\n",
       "    <tr>\n",
       "      <th>7145</th>\n",
       "      <td>ON 1,0 Easytronic/Klimaautomatik/Fron/Rückfahr...</td>\n",
       "      <td>[\\n, Getriebe:,  Automatik, Technik:,  Bordcom...</td>\n",
       "    </tr>\n",
       "    <tr>\n",
       "      <th>5754</th>\n",
       "      <td>K ST 1.6CDTI-AT INNO Navi Kamera Klimaauto.</td>\n",
       "      <td>[\\n, Fahrzeugnummer: G8080789,  , ACHTUNG: Abw...</td>\n",
       "    </tr>\n",
       "    <tr>\n",
       "      <th>14189</th>\n",
       "      <td>1.5 dCi 90CV Zen , AZIENDALE</td>\n",
       "      <td>[\\nDEK:[2656923], RIF: 1226265V, Renault Clio ...</td>\n",
       "    </tr>\n",
       "    <tr>\n",
       "      <th>3042</th>\n",
       "      <td>Sportback 1.6TDI Attract EU6 Navi Einparkh Sitzh</td>\n",
       "      <td>[\\n, Technik &amp; Sicherheit:, Einparkhilfe hinte...</td>\n",
       "    </tr>\n",
       "    <tr>\n",
       "      <th>2042</th>\n",
       "      <td>advanced 30 TFSI STRONIC NAVI LED APS SHZ</td>\n",
       "      <td>[\\nFahrzeug-Nr.: 63173 (031363)., Media:, MMI ...</td>\n",
       "    </tr>\n",
       "  </tbody>\n",
       "</table>\n",
       "</div>"
      ],
      "text/plain": [
       "                                       short_description  \\\n",
       "6603            1.4 Tur. Dynamic Automatik Start/Stop(K)   \n",
       "11067                    1.4 T Selective 103 kW (140 CV)   \n",
       "9087                                 1.2 5 porte Advance   \n",
       "10502                                    2.0CDTI ecoF. S   \n",
       "11025                  1.6 CDTi ecoFLEX GPS GARANTIE 1AN   \n",
       "13281              GT Energy TCe 88 kW (120 CV) EDC eco2   \n",
       "11255  Grand Sport INNOVATION 1.5 Turbo LED Navi Keyl...   \n",
       "7876                1.4 Turbo 120 Jahre INTELLILINK NAVI   \n",
       "4218   Sportback 1.6 TDI sport EU6 Navi Xenon PDC GRA...   \n",
       "4626            Sportback 1.6 TDI S-tronic 85 kW (116 CV   \n",
       "7145   ON 1,0 Easytronic/Klimaautomatik/Fron/Rückfahr...   \n",
       "5754         K ST 1.6CDTI-AT INNO Navi Kamera Klimaauto.   \n",
       "14189                       1.5 dCi 90CV Zen , AZIENDALE   \n",
       "3042    Sportback 1.6TDI Attract EU6 Navi Einparkh Sitzh   \n",
       "2042           advanced 30 TFSI STRONIC NAVI LED APS SHZ   \n",
       "\n",
       "                                             description  \n",
       "6603   [\\n,  * ABS mit CBC und Bremsassistent,  * Abl...  \n",
       "11067  [\\nPrecio financiado: 12. 450€, 199 Euros al m...  \n",
       "9087   [\\nDEK:[2715246], Equipaggiamenti di serie:, A...  \n",
       "10502       [\\nMantenimiento cada 15000km demostrable\\n]  \n",
       "11025  [\\nVEHICULE EN PARFAIT ETAT CARROSSERIE ET MEC...  \n",
       "13281  [\\n, 9073JVB, Oferta de financiación, consulta...  \n",
       "11255  [\\n,  , Getriebe, : Automatik,  , Technik, : B...  \n",
       "7876   [\\nFahrzeug-Nr.: 1175054, , Fahrzeugstandort: ...  \n",
       "4218   [\\n, Assistenzsysteme:,  Einparkhilfe vorn und...  \n",
       "4626   [\\nPrecio con oferta de financiación: 20.050 E...  \n",
       "7145   [\\n, Getriebe:,  Automatik, Technik:,  Bordcom...  \n",
       "5754   [\\n, Fahrzeugnummer: G8080789,  , ACHTUNG: Abw...  \n",
       "14189  [\\nDEK:[2656923], RIF: 1226265V, Renault Clio ...  \n",
       "3042   [\\n, Technik & Sicherheit:, Einparkhilfe hinte...  \n",
       "2042   [\\nFahrzeug-Nr.: 63173 (031363)., Media:, MMI ...  "
      ]
     },
     "execution_count": 1715,
     "metadata": {},
     "output_type": "execute_result"
    }
   ],
   "source": [
    "df[[\"short_description\",\"description\"]].sample(15)\n",
    "#we are checking if is there any similarity "
   ]
  },
  {
   "cell_type": "code",
   "execution_count": 1716,
   "metadata": {},
   "outputs": [
    {
     "data": {
      "text/plain": [
       "0"
      ]
     },
     "execution_count": 1716,
     "metadata": {},
     "output_type": "execute_result"
    }
   ],
   "source": [
    "df['description'].isnull().sum() "
   ]
  },
  {
   "cell_type": "code",
   "execution_count": 1717,
   "metadata": {},
   "outputs": [
    {
     "data": {
      "text/plain": [
       "dtype('O')"
      ]
     },
     "execution_count": 1717,
     "metadata": {},
     "output_type": "execute_result"
    }
   ],
   "source": [
    "df['description'].dtype"
   ]
  },
  {
   "cell_type": "code",
   "execution_count": 1718,
   "metadata": {},
   "outputs": [
    {
     "data": {
      "text/plain": [
       "['\\n',\n",
       " 'Assistenzsysteme:',\n",
       " ' Einparkhilfe hinten, Berganfahrassistent',\n",
       " 'Licht und Sicht:',\n",
       " ' Xenon plus, Tagfahrlicht, Scheinwerferreinig., Automatisch abblendender Innenspiegel',\n",
       " 'Räder und Reifen:',\n",
       " ' Leichtmetallfelgen: Aluminium-Gussräder im 5-Speichen-V-Design Größe 7.5 J x 17 mit Reifen 215/40 R17, Reifenpannenset',\n",
       " 'Komfort:',\n",
       " ' Fahrer-/Beifahrersitz höhenverstellbar, Sitzheizung Fahrer/Beifahrer, Armauflage Fahrer/Beifahrer, Servotronic, Lenksäule verstellbar, Zentralver. mit Fernbedienung, Kopfstützen vorn und hinten',\n",
       " 'Interieur:',\n",
       " ' Sitze Stoff, Innenfarbe schwarz',\n",
       " 'Exterieur:',\n",
       " ' Start-Stopp System',\n",
       " 'Sicherheit:',\n",
       " ' 6 x Airbag, Reifendruckkontrolle',\n",
       " 'Weiteres:',\n",
       " ' admired, Rücksitzanlage 2+1, Ausströmermanschetten matt schwarz, Anschlussgarantie 3 Jahre, max. 100.000 km, Modelljahr 2016, CO2-Effizienzklasse: B',\n",
       " 'Weiteres: ehemalige unverbindliche Preisempfehlung des Herstellers 29.631 EUR. Bei den angegebenen CO2-Werten handelt es sich um die Werte, die im Rahmen der Typgenehmigung des Fahrzeugs ermittelt wurden. Möglicherweise sind diese Werte unzutreffend. Wir bemühen uns, den Vorgang schnellstmöglich aufzuklären und werden die Werte, falls erforderlich, in Abstimmung mit den zuständigen Behörden korrigieren., Irrtümer und Änderungen vorbehalten, Audi GW:plus',\n",
       " 'Kontakt:',\n",
       " ' Bei Rückfragen wenden Sie sich bitte an unser Gebrauchtwagen Team',\n",
       " '\\n']"
      ]
     },
     "execution_count": 1718,
     "metadata": {},
     "output_type": "execute_result"
    }
   ],
   "source": [
    "df[\"description\"][222]"
   ]
  },
  {
   "cell_type": "markdown",
   "metadata": {},
   "source": [
    "## body_type vs Body"
   ]
  },
  {
   "cell_type": "code",
   "execution_count": 1719,
   "metadata": {},
   "outputs": [
    {
     "data": {
      "text/plain": [
       "Sedans           7903\n",
       "Station wagon    3553\n",
       "Compact          3153\n",
       "Van               783\n",
       "Other             290\n",
       "Transporter        88\n",
       "Off-Road           56\n",
       "Coupe              25\n",
       "Convertible         8\n",
       "Name: body_type, dtype: int64"
      ]
     },
     "execution_count": 1719,
     "metadata": {},
     "output_type": "execute_result"
    }
   ],
   "source": [
    "df['body_type'].value_counts()"
   ]
  },
  {
   "cell_type": "code",
   "execution_count": 1720,
   "metadata": {},
   "outputs": [
    {
     "data": {
      "text/plain": [
       "60"
      ]
     },
     "execution_count": 1720,
     "metadata": {},
     "output_type": "execute_result"
    }
   ],
   "source": [
    "df['body_type'].isnull().sum() "
   ]
  },
  {
   "cell_type": "code",
   "execution_count": 1721,
   "metadata": {},
   "outputs": [
    {
     "data": {
      "text/plain": [
       "[\\n, Sedans, \\n]           7903\n",
       "[\\n, Station wagon, \\n]    3553\n",
       "[\\n, Compact, \\n]          3153\n",
       "[\\n, Van, \\n]               783\n",
       "[\\n, Other, \\n]             290\n",
       "[\\n, Transporter, \\n]        88\n",
       "[\\n, Off-Road, \\n]           56\n",
       "[\\n, Coupe, \\n]              25\n",
       "[\\n, Convertible, \\n]         8\n",
       "Name: body, dtype: int64"
      ]
     },
     "execution_count": 1721,
     "metadata": {},
     "output_type": "execute_result"
    }
   ],
   "source": [
    "df['body'].value_counts()"
   ]
  },
  {
   "cell_type": "code",
   "execution_count": 1722,
   "metadata": {
    "scrolled": true
   },
   "outputs": [
    {
     "data": {
      "text/plain": [
       "60"
      ]
     },
     "execution_count": 1722,
     "metadata": {},
     "output_type": "execute_result"
    }
   ],
   "source": [
    "df['body'].isnull().sum() "
   ]
  },
  {
   "cell_type": "code",
   "execution_count": 1723,
   "metadata": {},
   "outputs": [
    {
     "data": {
      "text/plain": [
       "0        [\\n, Sedans, \\n]\n",
       "1        [\\n, Sedans, \\n]\n",
       "2        [\\n, Sedans, \\n]\n",
       "3        [\\n, Sedans, \\n]\n",
       "4        [\\n, Sedans, \\n]\n",
       "               ...       \n",
       "15914       [\\n, Van, \\n]\n",
       "15915       [\\n, Van, \\n]\n",
       "15916       [\\n, Van, \\n]\n",
       "15917       [\\n, Van, \\n]\n",
       "15918       [\\n, Van, \\n]\n",
       "Name: body, Length: 15919, dtype: object"
      ]
     },
     "execution_count": 1723,
     "metadata": {},
     "output_type": "execute_result"
    }
   ],
   "source": [
    "df[\"body\"].replace(\"\\\\n\",\"\", regex=True)"
   ]
  },
  {
   "cell_type": "markdown",
   "metadata": {},
   "source": [
    "#### Fixing \\n "
   ]
  },
  {
   "cell_type": "code",
   "execution_count": 1724,
   "metadata": {},
   "outputs": [],
   "source": [
    "df[\"body\"]=df[\"body\"].apply(remove)"
   ]
  },
  {
   "cell_type": "code",
   "execution_count": 1725,
   "metadata": {
    "scrolled": true
   },
   "outputs": [
    {
     "data": {
      "text/plain": [
       "0        Sedans\n",
       "1        Sedans\n",
       "2        Sedans\n",
       "3        Sedans\n",
       "4        Sedans\n",
       "          ...  \n",
       "15914       Van\n",
       "15915       Van\n",
       "15916       Van\n",
       "15917       Van\n",
       "15918       Van\n",
       "Name: body, Length: 15919, dtype: object"
      ]
     },
     "execution_count": 1725,
     "metadata": {},
     "output_type": "execute_result"
    }
   ],
   "source": [
    "df.body"
   ]
  },
  {
   "cell_type": "code",
   "execution_count": 1726,
   "metadata": {},
   "outputs": [],
   "source": [
    "## body type and body look similar\n"
   ]
  },
  {
   "cell_type": "markdown",
   "metadata": {},
   "source": [
    "## price"
   ]
  },
  {
   "cell_type": "code",
   "execution_count": 1727,
   "metadata": {},
   "outputs": [
    {
     "data": {
      "text/plain": [
       "14990    154\n",
       "15990    151\n",
       "10990    139\n",
       "15900    106\n",
       "17990    102\n",
       "        ... \n",
       "17559      1\n",
       "17560      1\n",
       "17570      1\n",
       "17575      1\n",
       "39875      1\n",
       "Name: price, Length: 2956, dtype: int64"
      ]
     },
     "execution_count": 1727,
     "metadata": {},
     "output_type": "execute_result"
    }
   ],
   "source": [
    "df['price'].value_counts()"
   ]
  },
  {
   "cell_type": "code",
   "execution_count": 1728,
   "metadata": {},
   "outputs": [
    {
     "data": {
      "text/plain": [
       "0"
      ]
     },
     "execution_count": 1728,
     "metadata": {},
     "output_type": "execute_result"
    }
   ],
   "source": [
    "df['price'].isnull().sum() "
   ]
  },
  {
   "cell_type": "code",
   "execution_count": 1729,
   "metadata": {},
   "outputs": [
    {
     "data": {
      "text/plain": [
       "[\\nMetallic\\n]       9794\n",
       "[\\nUni/basic\\n]       347\n",
       "[\\nPerl effect\\n]       6\n",
       "Name: paint_type, dtype: int64"
      ]
     },
     "execution_count": 1729,
     "metadata": {},
     "output_type": "execute_result"
    }
   ],
   "source": [
    "df['paint_type'].value_counts()"
   ]
  },
  {
   "cell_type": "markdown",
   "metadata": {},
   "source": [
    "## vat"
   ]
  },
  {
   "cell_type": "code",
   "execution_count": 1730,
   "metadata": {},
   "outputs": [
    {
     "data": {
      "text/plain": [
       "VAT deductible      10980\n",
       "Price negotiable      426\n",
       "Name: vat, dtype: int64"
      ]
     },
     "execution_count": 1730,
     "metadata": {},
     "output_type": "execute_result"
    }
   ],
   "source": [
    "df['vat'].value_counts()"
   ]
  },
  {
   "cell_type": "code",
   "execution_count": 1731,
   "metadata": {},
   "outputs": [
    {
     "data": {
      "text/plain": [
       "4513"
      ]
     },
     "execution_count": 1731,
     "metadata": {},
     "output_type": "execute_result"
    }
   ],
   "source": [
    "df['vat'].isnull().sum()"
   ]
  },
  {
   "cell_type": "code",
   "execution_count": 1732,
   "metadata": {},
   "outputs": [
    {
     "data": {
      "text/plain": [
       "6167     VAT deductible\n",
       "26       VAT deductible\n",
       "15595    VAT deductible\n",
       "4007               None\n",
       "10061    VAT deductible\n",
       "10737    VAT deductible\n",
       "11657    VAT deductible\n",
       "10346    VAT deductible\n",
       "1016     VAT deductible\n",
       "2834     VAT deductible\n",
       "Name: vat, dtype: object"
      ]
     },
     "execution_count": 1732,
     "metadata": {},
     "output_type": "execute_result"
    }
   ],
   "source": [
    "df.vat.sample(10)"
   ]
  },
  {
   "cell_type": "code",
   "execution_count": 1733,
   "metadata": {
    "scrolled": true
   },
   "outputs": [
    {
     "data": {
      "text/plain": [
       "url                              https://www.autoscout24.com//offers/audi-a3-a3...\n",
       "make_model                                                                 Audi A3\n",
       "short_description                                           A3 SB 1.0 TFSI intense\n",
       "body_type                                                                   Sedans\n",
       "price                                                                        22500\n",
       "vat                                                                           None\n",
       "km                                                                       10,395 km\n",
       "registration                                                               02/2018\n",
       "prev_owner                                                                    None\n",
       "k_w                                                                            NaN\n",
       "hp                                                                           85 kW\n",
       "type                                                          [, Used, , Gasoline]\n",
       "previous_owners                                                                NaN\n",
       "next_inspection                                                                NaN\n",
       "inspection_new                                                                 NaN\n",
       "warranty                                                                       NaN\n",
       "full_service                                                                    \\n\n",
       "non_smoking_vehicle                                                            NaN\n",
       "null                                                                            []\n",
       "make                                                                          Audi\n",
       "model                                                                           A3\n",
       "offer_number                                                       [\\n110-13878\\n]\n",
       "first_registration                                                  [\\n, 2018, \\n]\n",
       "body_color                                                          [\\n, Blue, \\n]\n",
       "paint_type                                                          [\\nMetallic\\n]\n",
       "body_color_original                                      [\\nKosmosblau Metallic\\n]\n",
       "upholstery                                                                     NaN\n",
       "body                                                                        Sedans\n",
       "nr_of_doors                                                                [\\n4\\n]\n",
       "nr_of_seats                                                                [\\n5\\n]\n",
       "model_code                                                                     NaN\n",
       "gearing_type                                                   [\\n, Automatic, \\n]\n",
       "displacement                                                          [\\n999 cc\\n]\n",
       "cylinders                                                                      NaN\n",
       "weight                                                              [\\n1,288 kg\\n]\n",
       "drive_chain                                                            [\\nfront\\n]\n",
       "fuel                                                            [\\n, Gasoline, \\n]\n",
       "consumption                                        [[4.7 l/100 km (comb)], [], []]\n",
       "co_2_emission                                                                  NaN\n",
       "emission_class                                                                 NaN\n",
       "comfort_&_convenience            [Air conditioning, Armrest, Automatic climate ...\n",
       "entertainment_&_media            [CD player, Hands-free equipment, On-board com...\n",
       "extras                                                              [Alloy wheels]\n",
       "safety_&_security                [ABS, Electronic stability control, Fog lights...\n",
       "description                      [\\nNeupreis: € 33.844,- 5 JAHRE NEUWAGENGARANT...\n",
       "emission_label                                                                 NaN\n",
       "gears                                                                          NaN\n",
       "country_version                                                                NaN\n",
       "electricity_consumption                                                        NaN\n",
       "last_service_date                                                              NaN\n",
       "other_fuel_types                                                               NaN\n",
       "availability                                                                   NaN\n",
       "last_timing_belt_service_date                                                  NaN\n",
       "available_from                                                                 NaN\n",
       "Name: 4676, dtype: object"
      ]
     },
     "execution_count": 1733,
     "metadata": {},
     "output_type": "execute_result"
    }
   ],
   "source": [
    "df.iloc[4676] # random check of vat "
   ]
  },
  {
   "cell_type": "code",
   "execution_count": 1734,
   "metadata": {},
   "outputs": [],
   "source": [
    "# 1.veya 2.el ?\n",
    "# otomobil markasi \n",
    "# co2 emission ? "
   ]
  },
  {
   "cell_type": "markdown",
   "metadata": {},
   "source": [
    "## KM"
   ]
  },
  {
   "cell_type": "code",
   "execution_count": 1735,
   "metadata": {
    "scrolled": false
   },
   "outputs": [
    {
     "data": {
      "text/plain": [
       "10 km        1045\n",
       "- km         1024\n",
       "1 km          367\n",
       "5 km          170\n",
       "50 km         148\n",
       "             ... \n",
       "67,469 km       1\n",
       "43,197 km       1\n",
       "10,027 km       1\n",
       "35,882 km       1\n",
       "57 km           1\n",
       "Name: km, Length: 6690, dtype: int64"
      ]
     },
     "execution_count": 1735,
     "metadata": {},
     "output_type": "execute_result"
    }
   ],
   "source": [
    "df['km'].value_counts()"
   ]
  },
  {
   "cell_type": "code",
   "execution_count": 1736,
   "metadata": {
    "scrolled": true
   },
   "outputs": [
    {
     "data": {
      "text/plain": [
       "0"
      ]
     },
     "execution_count": 1736,
     "metadata": {},
     "output_type": "execute_result"
    }
   ],
   "source": [
    "df['km'].isnull().sum() "
   ]
  },
  {
   "cell_type": "code",
   "execution_count": 1737,
   "metadata": {},
   "outputs": [
    {
     "data": {
      "text/plain": [
       "5537          10 km\n",
       "3967      22,300 km\n",
       "4671      28,161 km\n",
       "3020      90,348 km\n",
       "5782      17,993 km\n",
       "11175    134,200 km\n",
       "6948      41,000 km\n",
       "1006      12,345 km\n",
       "14364          - km\n",
       "9170      17,900 km\n",
       "12577      2,000 km\n",
       "6493      23,400 km\n",
       "8237          10 km\n",
       "9943          10 km\n",
       "2711      80,650 km\n",
       "2899     107,560 km\n",
       "1264      28,414 km\n",
       "6701      26,732 km\n",
       "15120     99,292 km\n",
       "5572           - km\n",
       "Name: km, dtype: object"
      ]
     },
     "execution_count": 1737,
     "metadata": {},
     "output_type": "execute_result"
    }
   ],
   "source": [
    "df.km.sample(20)"
   ]
  },
  {
   "cell_type": "markdown",
   "metadata": {},
   "source": [
    "### km replace \"km, -,  , \" to"
   ]
  },
  {
   "cell_type": "code",
   "execution_count": 1738,
   "metadata": {},
   "outputs": [],
   "source": [
    "df[\"km\"] = df.km.replace({\"km\":\"\", \"-\":0, \" \":\"\", \",\":\"\"}, regex=True).astype(int)"
   ]
  },
  {
   "cell_type": "code",
   "execution_count": 1739,
   "metadata": {},
   "outputs": [
    {
     "data": {
      "text/plain": [
       "dtype('int32')"
      ]
     },
     "execution_count": 1739,
     "metadata": {},
     "output_type": "execute_result"
    }
   ],
   "source": [
    "df.km.dtype"
   ]
  },
  {
   "cell_type": "code",
   "execution_count": 1740,
   "metadata": {
    "scrolled": false
   },
   "outputs": [
    {
     "data": {
      "text/plain": [
       "7532      19239\n",
       "4090      32000\n",
       "6873      58625\n",
       "10050      3500\n",
       "5010         10\n",
       "11631     22000\n",
       "14518         0\n",
       "2851     170231\n",
       "14158         0\n",
       "4534       6720\n",
       "6249     142194\n",
       "10332         3\n",
       "11191     62100\n",
       "9578      43000\n",
       "4818      12000\n",
       "7742          5\n",
       "5458         10\n",
       "2492         20\n",
       "2456         10\n",
       "12568         0\n",
       "Name: km, dtype: int32"
      ]
     },
     "execution_count": 1740,
     "metadata": {},
     "output_type": "execute_result"
    }
   ],
   "source": [
    "df.km.sample(20)"
   ]
  },
  {
   "cell_type": "code",
   "execution_count": 1741,
   "metadata": {},
   "outputs": [
    {
     "data": {
      "text/plain": [
       "10       1045\n",
       "0        1043\n",
       "1         367\n",
       "5         170\n",
       "50        148\n",
       "         ... \n",
       "67469       1\n",
       "43197       1\n",
       "10027       1\n",
       "35882       1\n",
       "57          1\n",
       "Name: km, Length: 6689, dtype: int64"
      ]
     },
     "execution_count": 1741,
     "metadata": {},
     "output_type": "execute_result"
    }
   ],
   "source": [
    "df['km'].value_counts()"
   ]
  },
  {
   "cell_type": "code",
   "execution_count": null,
   "metadata": {},
   "outputs": [],
   "source": []
  },
  {
   "cell_type": "code",
   "execution_count": null,
   "metadata": {},
   "outputs": [],
   "source": []
  },
  {
   "cell_type": "markdown",
   "metadata": {},
   "source": [
    "## registration and first registration"
   ]
  },
  {
   "cell_type": "code",
   "execution_count": 1742,
   "metadata": {
    "scrolled": false
   },
   "outputs": [
    {
     "data": {
      "text/plain": [
       "-/-        1597\n",
       "03/2018     695\n",
       "02/2019     585\n",
       "05/2018     572\n",
       "03/2019     543\n",
       "01/2019     541\n",
       "04/2018     541\n",
       "02/2018     539\n",
       "03/2016     536\n",
       "04/2016     532\n",
       "06/2018     532\n",
       "01/2018     511\n",
       "04/2019     506\n",
       "02/2016     472\n",
       "03/2017     471\n",
       "05/2016     459\n",
       "06/2016     452\n",
       "05/2019     440\n",
       "06/2017     409\n",
       "05/2017     404\n",
       "07/2018     396\n",
       "04/2017     380\n",
       "01/2016     376\n",
       "02/2017     368\n",
       "01/2017     306\n",
       "08/2018     285\n",
       "06/2019     224\n",
       "07/2017     215\n",
       "11/2017     180\n",
       "07/2016     176\n",
       "10/2016     160\n",
       "10/2017     154\n",
       "09/2017     149\n",
       "11/2016     142\n",
       "09/2018     141\n",
       "09/2016     141\n",
       "12/2016     134\n",
       "12/2017     123\n",
       "08/2017     114\n",
       "11/2018     110\n",
       "12/2018     103\n",
       "10/2018      97\n",
       "08/2016      94\n",
       "07/2019       6\n",
       "09/2019       5\n",
       "08/2019       1\n",
       "11/2019       1\n",
       "12/2019       1\n",
       "Name: registration, dtype: int64"
      ]
     },
     "execution_count": 1742,
     "metadata": {},
     "output_type": "execute_result"
    }
   ],
   "source": [
    "df['registration'].value_counts()"
   ]
  },
  {
   "cell_type": "code",
   "execution_count": 1743,
   "metadata": {},
   "outputs": [
    {
     "data": {
      "text/plain": [
       "0"
      ]
     },
     "execution_count": 1743,
     "metadata": {},
     "output_type": "execute_result"
    }
   ],
   "source": [
    "df['registration'].isnull().sum() "
   ]
  },
  {
   "cell_type": "code",
   "execution_count": 1744,
   "metadata": {},
   "outputs": [
    {
     "data": {
      "text/html": [
       "<div>\n",
       "<style scoped>\n",
       "    .dataframe tbody tr th:only-of-type {\n",
       "        vertical-align: middle;\n",
       "    }\n",
       "\n",
       "    .dataframe tbody tr th {\n",
       "        vertical-align: top;\n",
       "    }\n",
       "\n",
       "    .dataframe thead th {\n",
       "        text-align: right;\n",
       "    }\n",
       "</style>\n",
       "<table border=\"1\" class=\"dataframe\">\n",
       "  <thead>\n",
       "    <tr style=\"text-align: right;\">\n",
       "      <th></th>\n",
       "      <th>registration</th>\n",
       "      <th>first_registration</th>\n",
       "    </tr>\n",
       "  </thead>\n",
       "  <tbody>\n",
       "    <tr>\n",
       "      <th>6384</th>\n",
       "      <td>06/2016</td>\n",
       "      <td>[\\n, 2016, \\n]</td>\n",
       "    </tr>\n",
       "    <tr>\n",
       "      <th>4874</th>\n",
       "      <td>01/2018</td>\n",
       "      <td>[\\n, 2018, \\n]</td>\n",
       "    </tr>\n",
       "    <tr>\n",
       "      <th>14890</th>\n",
       "      <td>02/2019</td>\n",
       "      <td>[\\n, 2019, \\n]</td>\n",
       "    </tr>\n",
       "    <tr>\n",
       "      <th>199</th>\n",
       "      <td>09/2016</td>\n",
       "      <td>[\\n, 2016, \\n]</td>\n",
       "    </tr>\n",
       "    <tr>\n",
       "      <th>7694</th>\n",
       "      <td>06/2019</td>\n",
       "      <td>[\\n, 2019, \\n]</td>\n",
       "    </tr>\n",
       "    <tr>\n",
       "      <th>5848</th>\n",
       "      <td>05/2016</td>\n",
       "      <td>[\\n, 2016, \\n]</td>\n",
       "    </tr>\n",
       "    <tr>\n",
       "      <th>4345</th>\n",
       "      <td>10/2017</td>\n",
       "      <td>[\\n, 2017, \\n]</td>\n",
       "    </tr>\n",
       "    <tr>\n",
       "      <th>7945</th>\n",
       "      <td>04/2019</td>\n",
       "      <td>[\\n, 2019, \\n]</td>\n",
       "    </tr>\n",
       "    <tr>\n",
       "      <th>11476</th>\n",
       "      <td>05/2018</td>\n",
       "      <td>[\\n, 2018, \\n]</td>\n",
       "    </tr>\n",
       "    <tr>\n",
       "      <th>12579</th>\n",
       "      <td>-/-</td>\n",
       "      <td>NaN</td>\n",
       "    </tr>\n",
       "    <tr>\n",
       "      <th>5621</th>\n",
       "      <td>01/2019</td>\n",
       "      <td>[\\n, 2019, \\n]</td>\n",
       "    </tr>\n",
       "    <tr>\n",
       "      <th>11829</th>\n",
       "      <td>11/2018</td>\n",
       "      <td>[\\n, 2018, \\n]</td>\n",
       "    </tr>\n",
       "    <tr>\n",
       "      <th>11661</th>\n",
       "      <td>11/2017</td>\n",
       "      <td>[\\n, 2017, \\n]</td>\n",
       "    </tr>\n",
       "    <tr>\n",
       "      <th>11619</th>\n",
       "      <td>12/2017</td>\n",
       "      <td>[\\n, 2017, \\n]</td>\n",
       "    </tr>\n",
       "    <tr>\n",
       "      <th>2401</th>\n",
       "      <td>03/2019</td>\n",
       "      <td>[\\n, 2019, \\n]</td>\n",
       "    </tr>\n",
       "  </tbody>\n",
       "</table>\n",
       "</div>"
      ],
      "text/plain": [
       "      registration first_registration\n",
       "6384       06/2016     [\\n, 2016, \\n]\n",
       "4874       01/2018     [\\n, 2018, \\n]\n",
       "14890      02/2019     [\\n, 2019, \\n]\n",
       "199        09/2016     [\\n, 2016, \\n]\n",
       "7694       06/2019     [\\n, 2019, \\n]\n",
       "5848       05/2016     [\\n, 2016, \\n]\n",
       "4345       10/2017     [\\n, 2017, \\n]\n",
       "7945       04/2019     [\\n, 2019, \\n]\n",
       "11476      05/2018     [\\n, 2018, \\n]\n",
       "12579          -/-                NaN\n",
       "5621       01/2019     [\\n, 2019, \\n]\n",
       "11829      11/2018     [\\n, 2018, \\n]\n",
       "11661      11/2017     [\\n, 2017, \\n]\n",
       "11619      12/2017     [\\n, 2017, \\n]\n",
       "2401       03/2019     [\\n, 2019, \\n]"
      ]
     },
     "execution_count": 1744,
     "metadata": {},
     "output_type": "execute_result"
    }
   ],
   "source": [
    "df[[\"registration\",\"first_registration\"]].sample(15)"
   ]
  },
  {
   "cell_type": "code",
   "execution_count": 1745,
   "metadata": {},
   "outputs": [
    {
     "data": {
      "text/plain": [
       "dtype('O')"
      ]
     },
     "execution_count": 1745,
     "metadata": {},
     "output_type": "execute_result"
    }
   ],
   "source": [
    "df.registration.dtype"
   ]
  },
  {
   "cell_type": "markdown",
   "metadata": {},
   "source": [
    "### Removing \\n from First Registration"
   ]
  },
  {
   "cell_type": "code",
   "execution_count": 1746,
   "metadata": {},
   "outputs": [],
   "source": [
    "df[\"First Registration\"] = df[\"first_registration\"].apply(remove)"
   ]
  },
  {
   "cell_type": "code",
   "execution_count": 1747,
   "metadata": {},
   "outputs": [
    {
     "data": {
      "text/plain": [
       "0    [\\n, 2016, \\n]\n",
       "1    [\\n, 2017, \\n]\n",
       "2    [\\n, 2016, \\n]\n",
       "3    [\\n, 2016, \\n]\n",
       "4    [\\n, 2016, \\n]\n",
       "Name: first_registration, dtype: object"
      ]
     },
     "execution_count": 1747,
     "metadata": {},
     "output_type": "execute_result"
    }
   ],
   "source": [
    "df[\"first_registration\"].head()"
   ]
  },
  {
   "cell_type": "code",
   "execution_count": 1748,
   "metadata": {},
   "outputs": [],
   "source": [
    "## datetime veya integer yapmali mi ?"
   ]
  },
  {
   "cell_type": "code",
   "execution_count": null,
   "metadata": {},
   "outputs": [],
   "source": []
  },
  {
   "cell_type": "code",
   "execution_count": null,
   "metadata": {},
   "outputs": [],
   "source": []
  },
  {
   "cell_type": "markdown",
   "metadata": {},
   "source": [
    "### datetime yapmak"
   ]
  },
  {
   "cell_type": "code",
   "execution_count": 1749,
   "metadata": {},
   "outputs": [
    {
     "data": {
      "text/plain": [
       "0        01/2016\n",
       "1        03/2017\n",
       "2        02/2016\n",
       "3        08/2016\n",
       "4        05/2016\n",
       "          ...   \n",
       "15914        NaN\n",
       "15915    01/2019\n",
       "15916    03/2019\n",
       "15917    06/2019\n",
       "15918    01/2019\n",
       "Name: registration, Length: 15919, dtype: object"
      ]
     },
     "execution_count": 1749,
     "metadata": {},
     "output_type": "execute_result"
    }
   ],
   "source": [
    "df['registration']=df['registration'].replace('-/-',np.nan,regex=True)\n",
    "df['registration']"
   ]
  },
  {
   "cell_type": "code",
   "execution_count": 1750,
   "metadata": {
    "scrolled": true
   },
   "outputs": [
    {
     "data": {
      "text/plain": [
       "0       2016-01-01\n",
       "1       2017-03-01\n",
       "2       2016-02-01\n",
       "3       2016-08-01\n",
       "4       2016-05-01\n",
       "           ...    \n",
       "15914          NaT\n",
       "15915   2019-01-01\n",
       "15916   2019-03-01\n",
       "15917   2019-06-01\n",
       "15918   2019-01-01\n",
       "Name: registration, Length: 15919, dtype: datetime64[ns]"
      ]
     },
     "execution_count": 1750,
     "metadata": {},
     "output_type": "execute_result"
    }
   ],
   "source": [
    "pd.to_datetime(df['registration'])"
   ]
  },
  {
   "cell_type": "code",
   "execution_count": 1751,
   "metadata": {},
   "outputs": [
    {
     "data": {
      "text/plain": [
       "0        01/2016\n",
       "1        03/2017\n",
       "2        02/2016\n",
       "3        08/2016\n",
       "4        05/2016\n",
       "          ...   \n",
       "15914        NaN\n",
       "15915    01/2019\n",
       "15916    03/2019\n",
       "15917    06/2019\n",
       "15918    01/2019\n",
       "Name: registration, Length: 15919, dtype: object"
      ]
     },
     "execution_count": 1751,
     "metadata": {},
     "output_type": "execute_result"
    }
   ],
   "source": [
    "df.registration"
   ]
  },
  {
   "cell_type": "code",
   "execution_count": null,
   "metadata": {},
   "outputs": [],
   "source": []
  },
  {
   "cell_type": "code",
   "execution_count": null,
   "metadata": {},
   "outputs": [],
   "source": []
  },
  {
   "cell_type": "code",
   "execution_count": null,
   "metadata": {},
   "outputs": [],
   "source": []
  },
  {
   "cell_type": "markdown",
   "metadata": {},
   "source": [
    "## prev_owner vs previous owners"
   ]
  },
  {
   "cell_type": "code",
   "execution_count": 1752,
   "metadata": {},
   "outputs": [
    {
     "data": {
      "text/plain": [
       "1 previous owner     8294\n",
       "2 previous owners     778\n",
       "3 previous owners      17\n",
       "4 previous owners       2\n",
       "Name: prev_owner, dtype: int64"
      ]
     },
     "execution_count": 1752,
     "metadata": {},
     "output_type": "execute_result"
    }
   ],
   "source": [
    "df['prev_owner'].value_counts()"
   ]
  },
  {
   "cell_type": "code",
   "execution_count": 1753,
   "metadata": {},
   "outputs": [
    {
     "data": {
      "text/plain": [
       "6828"
      ]
     },
     "execution_count": 1753,
     "metadata": {},
     "output_type": "execute_result"
    }
   ],
   "source": [
    "df['prev_owner'].isnull().sum() "
   ]
  },
  {
   "cell_type": "code",
   "execution_count": 1754,
   "metadata": {},
   "outputs": [
    {
     "data": {
      "text/html": [
       "<div>\n",
       "<style scoped>\n",
       "    .dataframe tbody tr th:only-of-type {\n",
       "        vertical-align: middle;\n",
       "    }\n",
       "\n",
       "    .dataframe tbody tr th {\n",
       "        vertical-align: top;\n",
       "    }\n",
       "\n",
       "    .dataframe thead th {\n",
       "        text-align: right;\n",
       "    }\n",
       "</style>\n",
       "<table border=\"1\" class=\"dataframe\">\n",
       "  <thead>\n",
       "    <tr style=\"text-align: right;\">\n",
       "      <th></th>\n",
       "      <th>prev_owner</th>\n",
       "      <th>previous_owners</th>\n",
       "    </tr>\n",
       "  </thead>\n",
       "  <tbody>\n",
       "    <tr>\n",
       "      <th>8475</th>\n",
       "      <td>None</td>\n",
       "      <td>NaN</td>\n",
       "    </tr>\n",
       "    <tr>\n",
       "      <th>15704</th>\n",
       "      <td>1 previous owner</td>\n",
       "      <td>\\n1\\n</td>\n",
       "    </tr>\n",
       "    <tr>\n",
       "      <th>6341</th>\n",
       "      <td>2 previous owners</td>\n",
       "      <td>\\n2\\n</td>\n",
       "    </tr>\n",
       "    <tr>\n",
       "      <th>13858</th>\n",
       "      <td>None</td>\n",
       "      <td>NaN</td>\n",
       "    </tr>\n",
       "    <tr>\n",
       "      <th>5388</th>\n",
       "      <td>1 previous owner</td>\n",
       "      <td>\\n1\\n</td>\n",
       "    </tr>\n",
       "    <tr>\n",
       "      <th>14447</th>\n",
       "      <td>1 previous owner</td>\n",
       "      <td>\\n1\\n</td>\n",
       "    </tr>\n",
       "    <tr>\n",
       "      <th>15651</th>\n",
       "      <td>None</td>\n",
       "      <td>NaN</td>\n",
       "    </tr>\n",
       "    <tr>\n",
       "      <th>9749</th>\n",
       "      <td>1 previous owner</td>\n",
       "      <td>\\n1\\n</td>\n",
       "    </tr>\n",
       "    <tr>\n",
       "      <th>14524</th>\n",
       "      <td>None</td>\n",
       "      <td>NaN</td>\n",
       "    </tr>\n",
       "    <tr>\n",
       "      <th>38</th>\n",
       "      <td>2 previous owners</td>\n",
       "      <td>\\n2\\n</td>\n",
       "    </tr>\n",
       "    <tr>\n",
       "      <th>5029</th>\n",
       "      <td>1 previous owner</td>\n",
       "      <td>\\n1\\n</td>\n",
       "    </tr>\n",
       "    <tr>\n",
       "      <th>698</th>\n",
       "      <td>1 previous owner</td>\n",
       "      <td>\\n1\\n</td>\n",
       "    </tr>\n",
       "    <tr>\n",
       "      <th>9177</th>\n",
       "      <td>None</td>\n",
       "      <td>NaN</td>\n",
       "    </tr>\n",
       "    <tr>\n",
       "      <th>5245</th>\n",
       "      <td>1 previous owner</td>\n",
       "      <td>\\n1\\n</td>\n",
       "    </tr>\n",
       "    <tr>\n",
       "      <th>5660</th>\n",
       "      <td>None</td>\n",
       "      <td>NaN</td>\n",
       "    </tr>\n",
       "  </tbody>\n",
       "</table>\n",
       "</div>"
      ],
      "text/plain": [
       "              prev_owner previous_owners\n",
       "8475                None             NaN\n",
       "15704   1 previous owner           \\n1\\n\n",
       "6341   2 previous owners           \\n2\\n\n",
       "13858               None             NaN\n",
       "5388    1 previous owner           \\n1\\n\n",
       "14447   1 previous owner           \\n1\\n\n",
       "15651               None             NaN\n",
       "9749    1 previous owner           \\n1\\n\n",
       "14524               None             NaN\n",
       "38     2 previous owners           \\n2\\n\n",
       "5029    1 previous owner           \\n1\\n\n",
       "698     1 previous owner           \\n1\\n\n",
       "9177                None             NaN\n",
       "5245    1 previous owner           \\n1\\n\n",
       "5660                None             NaN"
      ]
     },
     "execution_count": 1754,
     "metadata": {},
     "output_type": "execute_result"
    }
   ],
   "source": [
    "df[[\"prev_owner\",\"previous_owners\"]].sample(15)"
   ]
  },
  {
   "cell_type": "code",
   "execution_count": 1755,
   "metadata": {},
   "outputs": [
    {
     "data": {
      "text/plain": [
       "6640"
      ]
     },
     "execution_count": 1755,
     "metadata": {},
     "output_type": "execute_result"
    }
   ],
   "source": [
    "df['previous_owners'].isnull().sum() "
   ]
  },
  {
   "cell_type": "markdown",
   "metadata": {},
   "source": [
    "### prev_owner get number\n"
   ]
  },
  {
   "cell_type": "code",
   "execution_count": 1756,
   "metadata": {},
   "outputs": [],
   "source": [
    "df.prev_owner = df.prev_owner.str.extract('(\\d)')"
   ]
  },
  {
   "cell_type": "code",
   "execution_count": 1757,
   "metadata": {},
   "outputs": [
    {
     "data": {
      "text/plain": [
       "13137    NaN\n",
       "10082      1\n",
       "35         1\n",
       "213        1\n",
       "13832    NaN\n",
       "9243       2\n",
       "2699     NaN\n",
       "7247       1\n",
       "1085       1\n",
       "6051       2\n",
       "10414      1\n",
       "4460       1\n",
       "9495     NaN\n",
       "12188      1\n",
       "8724     NaN\n",
       "4521       1\n",
       "6400       1\n",
       "8284     NaN\n",
       "3726       2\n",
       "10009      1\n",
       "Name: prev_owner, dtype: object"
      ]
     },
     "execution_count": 1757,
     "metadata": {},
     "output_type": "execute_result"
    }
   ],
   "source": [
    "df.prev_owner.sample(20)"
   ]
  },
  {
   "cell_type": "code",
   "execution_count": 1758,
   "metadata": {},
   "outputs": [
    {
     "data": {
      "text/plain": [
       "1      8294\n",
       "NaN    6828\n",
       "2       778\n",
       "3        17\n",
       "4         2\n",
       "Name: prev_owner, dtype: int64"
      ]
     },
     "execution_count": 1758,
     "metadata": {},
     "output_type": "execute_result"
    }
   ],
   "source": [
    "df.prev_owner.value_counts(dropna=False)"
   ]
  },
  {
   "cell_type": "markdown",
   "metadata": {},
   "source": [
    "### Previous Owners get number"
   ]
  },
  {
   "cell_type": "code",
   "execution_count": 1759,
   "metadata": {},
   "outputs": [],
   "source": [
    "df[\"previous_owners\"] = df[\"previous_owners\"].str.extract('(\\d)')"
   ]
  },
  {
   "cell_type": "code",
   "execution_count": 1760,
   "metadata": {},
   "outputs": [
    {
     "data": {
      "text/plain": [
       "1      8101\n",
       "NaN    6870\n",
       "2       766\n",
       "0       163\n",
       "3        17\n",
       "4         2\n",
       "Name: previous_owners, dtype: int64"
      ]
     },
     "execution_count": 1760,
     "metadata": {},
     "output_type": "execute_result"
    }
   ],
   "source": [
    "df[\"previous_owners\"].value_counts(dropna=False)"
   ]
  },
  {
   "cell_type": "code",
   "execution_count": null,
   "metadata": {},
   "outputs": [],
   "source": []
  },
  {
   "cell_type": "code",
   "execution_count": null,
   "metadata": {},
   "outputs": [],
   "source": []
  },
  {
   "cell_type": "code",
   "execution_count": null,
   "metadata": {},
   "outputs": [],
   "source": []
  },
  {
   "cell_type": "code",
   "execution_count": 1761,
   "metadata": {},
   "outputs": [
    {
     "data": {
      "text/plain": [
       "1    8294\n",
       "2     778\n",
       "3      17\n",
       "4       2\n",
       "Name: prev_owner, dtype: int64"
      ]
     },
     "execution_count": 1761,
     "metadata": {},
     "output_type": "execute_result"
    }
   ],
   "source": [
    "df.prev_owner.value_counts()"
   ]
  },
  {
   "cell_type": "code",
   "execution_count": 1762,
   "metadata": {
    "scrolled": true
   },
   "outputs": [],
   "source": [
    "# df[\"Previous Owners\"] = [item[0] if type(item) == list else item for item in df[\"Previous Owners\"]]\n",
    "# ## hepsini liste disina cikaracak4\n",
    "\n",
    "\n",
    "# df[\"Previous Owners\"] = df[\"Previous_Owners\"].str.strip(\"\\n\").astype('float')"
   ]
  },
  {
   "cell_type": "markdown",
   "metadata": {},
   "source": [
    "## kW"
   ]
  },
  {
   "cell_type": "code",
   "execution_count": 1763,
   "metadata": {
    "scrolled": true
   },
   "outputs": [
    {
     "data": {
      "text/plain": [
       "Series([], Name: k_w, dtype: int64)"
      ]
     },
     "execution_count": 1763,
     "metadata": {},
     "output_type": "execute_result"
    }
   ],
   "source": [
    "df.k_w.value_counts()"
   ]
  },
  {
   "cell_type": "code",
   "execution_count": 1764,
   "metadata": {
    "scrolled": true
   },
   "outputs": [
    {
     "data": {
      "text/plain": [
       "15919"
      ]
     },
     "execution_count": 1764,
     "metadata": {},
     "output_type": "execute_result"
    }
   ],
   "source": [
    "df['k_w'].isnull().sum() "
   ]
  },
  {
   "cell_type": "code",
   "execution_count": 1765,
   "metadata": {},
   "outputs": [],
   "source": [
    "#drop ?"
   ]
  },
  {
   "cell_type": "markdown",
   "metadata": {},
   "source": [
    "## hp"
   ]
  },
  {
   "cell_type": "code",
   "execution_count": 1766,
   "metadata": {
    "scrolled": true
   },
   "outputs": [
    {
     "data": {
      "text/plain": [
       "85 kW     2542\n",
       "66 kW     2122\n",
       "81 kW     1402\n",
       "100 kW    1308\n",
       "110 kW    1112\n",
       "70 kW      888\n",
       "125 kW     707\n",
       "51 kW      695\n",
       "55 kW      569\n",
       "118 kW     516\n",
       "92 kW      466\n",
       "121 kW     392\n",
       "147 kW     380\n",
       "77 kW      345\n",
       "56 kW      286\n",
       "54 kW      276\n",
       "103 kW     253\n",
       "87 kW      232\n",
       "165 kW     194\n",
       "88 kW      177\n",
       "60 kW      160\n",
       "162 kW      98\n",
       "- kW        88\n",
       "74 kW       81\n",
       "96 kW       72\n",
       "71 kW       59\n",
       "101 kW      47\n",
       "67 kW       40\n",
       "154 kW      39\n",
       "122 kW      35\n",
       "119 kW      30\n",
       "164 kW      27\n",
       "135 kW      24\n",
       "82 kW       22\n",
       "52 kW       22\n",
       "78 kW       20\n",
       "1 kW        20\n",
       "294 kW      18\n",
       "146 kW      18\n",
       "141 kW      16\n",
       "57 kW       10\n",
       "104 kW       8\n",
       "120 kW       8\n",
       "191 kW       7\n",
       "112 kW       7\n",
       "155 kW       6\n",
       "117 kW       6\n",
       "184 kW       5\n",
       "90 kW        4\n",
       "76 kW        4\n",
       "65 kW        4\n",
       "149 kW       3\n",
       "80 kW        3\n",
       "168 kW       3\n",
       "98 kW        3\n",
       "93 kW        3\n",
       "228 kW       2\n",
       "270 kW       2\n",
       "53 kW        2\n",
       "140 kW       2\n",
       "86 kW        2\n",
       "167 kW       2\n",
       "127 kW       2\n",
       "89 kW        2\n",
       "143 kW       2\n",
       "63 kW        2\n",
       "40 kW        2\n",
       "150 kW       2\n",
       "163 kW       1\n",
       "115 kW       1\n",
       "132 kW       1\n",
       "75 kW        1\n",
       "4 kW         1\n",
       "137 kW       1\n",
       "123 kW       1\n",
       "133 kW       1\n",
       "84 kW        1\n",
       "195 kW       1\n",
       "44 kW        1\n",
       "239 kW       1\n",
       "9 kW         1\n",
       "Name: hp, dtype: int64"
      ]
     },
     "execution_count": 1766,
     "metadata": {},
     "output_type": "execute_result"
    }
   ],
   "source": [
    "df['hp'].value_counts()"
   ]
  },
  {
   "cell_type": "code",
   "execution_count": 1767,
   "metadata": {
    "scrolled": true
   },
   "outputs": [
    {
     "data": {
      "text/plain": [
       "0"
      ]
     },
     "execution_count": 1767,
     "metadata": {},
     "output_type": "execute_result"
    }
   ],
   "source": [
    "df['hp'].isnull().sum() "
   ]
  },
  {
   "cell_type": "markdown",
   "metadata": {},
   "source": [
    "### short descriptiondan kw kismini alabiliriz"
   ]
  },
  {
   "cell_type": "code",
   "execution_count": 1768,
   "metadata": {},
   "outputs": [
    {
     "data": {
      "text/plain": [
       "0    88\n",
       "dtype: int64"
      ]
     },
     "execution_count": 1768,
     "metadata": {},
     "output_type": "execute_result"
    }
   ],
   "source": [
    "df[\"hp\"].str.extract('(\\\\d+)').astype(float).isnull().sum()"
   ]
  },
  {
   "cell_type": "code",
   "execution_count": 1769,
   "metadata": {},
   "outputs": [
    {
     "data": {
      "text/html": [
       "<div>\n",
       "<style scoped>\n",
       "    .dataframe tbody tr th:only-of-type {\n",
       "        vertical-align: middle;\n",
       "    }\n",
       "\n",
       "    .dataframe tbody tr th {\n",
       "        vertical-align: top;\n",
       "    }\n",
       "\n",
       "    .dataframe thead th {\n",
       "        text-align: right;\n",
       "    }\n",
       "</style>\n",
       "<table border=\"1\" class=\"dataframe\">\n",
       "  <thead>\n",
       "    <tr style=\"text-align: right;\">\n",
       "      <th></th>\n",
       "      <th>0</th>\n",
       "    </tr>\n",
       "  </thead>\n",
       "  <tbody>\n",
       "    <tr>\n",
       "      <th>0</th>\n",
       "      <td>66.000</td>\n",
       "    </tr>\n",
       "    <tr>\n",
       "      <th>1</th>\n",
       "      <td>141.000</td>\n",
       "    </tr>\n",
       "    <tr>\n",
       "      <th>2</th>\n",
       "      <td>85.000</td>\n",
       "    </tr>\n",
       "    <tr>\n",
       "      <th>3</th>\n",
       "      <td>66.000</td>\n",
       "    </tr>\n",
       "    <tr>\n",
       "      <th>4</th>\n",
       "      <td>66.000</td>\n",
       "    </tr>\n",
       "    <tr>\n",
       "      <th>...</th>\n",
       "      <td>...</td>\n",
       "    </tr>\n",
       "    <tr>\n",
       "      <th>15914</th>\n",
       "      <td>147.000</td>\n",
       "    </tr>\n",
       "    <tr>\n",
       "      <th>15915</th>\n",
       "      <td>165.000</td>\n",
       "    </tr>\n",
       "    <tr>\n",
       "      <th>15916</th>\n",
       "      <td>146.000</td>\n",
       "    </tr>\n",
       "    <tr>\n",
       "      <th>15917</th>\n",
       "      <td>147.000</td>\n",
       "    </tr>\n",
       "    <tr>\n",
       "      <th>15918</th>\n",
       "      <td>165.000</td>\n",
       "    </tr>\n",
       "  </tbody>\n",
       "</table>\n",
       "<p>15919 rows × 1 columns</p>\n",
       "</div>"
      ],
      "text/plain": [
       "            0\n",
       "0      66.000\n",
       "1     141.000\n",
       "2      85.000\n",
       "3      66.000\n",
       "4      66.000\n",
       "...       ...\n",
       "15914 147.000\n",
       "15915 165.000\n",
       "15916 146.000\n",
       "15917 147.000\n",
       "15918 165.000\n",
       "\n",
       "[15919 rows x 1 columns]"
      ]
     },
     "execution_count": 1769,
     "metadata": {},
     "output_type": "execute_result"
    }
   ],
   "source": [
    "df[\"hp\"].str.extract('(\\\\d+)').astype(float)"
   ]
  },
  {
   "cell_type": "code",
   "execution_count": 1770,
   "metadata": {},
   "outputs": [
    {
     "data": {
      "text/plain": [
       "0    85KW\n",
       "Name: 1269, dtype: object"
      ]
     },
     "execution_count": 1770,
     "metadata": {},
     "output_type": "execute_result"
    }
   ],
   "source": [
    "df[\"short_description\"].str.extract('(\\d\\dKW)').iloc[1269]"
   ]
  },
  {
   "cell_type": "code",
   "execution_count": 1771,
   "metadata": {},
   "outputs": [
    {
     "data": {
      "text/plain": [
       "0    NaN\n",
       "Name: 4, dtype: object"
      ]
     },
     "execution_count": 1771,
     "metadata": {},
     "output_type": "execute_result"
    }
   ],
   "source": [
    "df[\"short_description\"].str.extract('(\\d\\d)').iloc[4]"
   ]
  },
  {
   "cell_type": "code",
   "execution_count": 1772,
   "metadata": {
    "scrolled": true
   },
   "outputs": [
    {
     "data": {
      "text/plain": [
       "0    NaN\n",
       "Name: 7177, dtype: object"
      ]
     },
     "execution_count": 1772,
     "metadata": {},
     "output_type": "execute_result"
    }
   ],
   "source": [
    "df[\"short_description\"].str.extract('(\\d\\dKW)').iloc[7177]"
   ]
  },
  {
   "cell_type": "code",
   "execution_count": 1773,
   "metadata": {},
   "outputs": [],
   "source": [
    "df.loc[df[\"hp\"]==\"-\"]=df[\"short_description\"].str.extract('(\\d\\dKW)')"
   ]
  },
  {
   "cell_type": "code",
   "execution_count": 1774,
   "metadata": {},
   "outputs": [
    {
     "data": {
      "text/plain": [
       "'- kW'"
      ]
     },
     "execution_count": 1774,
     "metadata": {},
     "output_type": "execute_result"
    }
   ],
   "source": [
    "df.iloc[1269][\"hp\"]"
   ]
  },
  {
   "cell_type": "code",
   "execution_count": 1775,
   "metadata": {},
   "outputs": [
    {
     "data": {
      "text/plain": [
       "url                              https://www.autoscout24.com//offers/opel-astra...\n",
       "make_model                                                              Opel Astra\n",
       "short_description                                    K 1,4 CNG 5-tg Exclusive + WR\n",
       "body_type                                                                   Sedans\n",
       "price                                                                    12864.000\n",
       "vat                                                                 VAT deductible\n",
       "km                                                                      120000.000\n",
       "registration                                                               08/2017\n",
       "prev_owner                                                                       1\n",
       "k_w                                                                            NaN\n",
       "hp                                                                           81 kW\n",
       "type                                                    [, Used, , Domestic gas H]\n",
       "previous_owners                                                                  1\n",
       "next_inspection                                       [\\n08/2020\\n, \\n4 (Green)\\n]\n",
       "inspection_new                                                                 NaN\n",
       "warranty                                                                  [\\n, \\n]\n",
       "full_service                                                              [\\n, \\n]\n",
       "non_smoking_vehicle                                                            NaN\n",
       "null                                                                            []\n",
       "make                                                                          Opel\n",
       "model                                                                        Astra\n",
       "offer_number                                                          [\\nAS0040\\n]\n",
       "first_registration                                                  [\\n, 2017, \\n]\n",
       "body_color                                                         [\\n, Brown, \\n]\n",
       "paint_type                                                          [\\nMetallic\\n]\n",
       "body_color_original                                              [\\nRouge Braun\\n]\n",
       "upholstery                                                      [\\nCloth, Black\\n]\n",
       "body                                                                        Sedans\n",
       "nr_of_doors                                                                [\\n5\\n]\n",
       "nr_of_seats                                                                [\\n5\\n]\n",
       "model_code                                                          [\\n1844/000\\n]\n",
       "gearing_type                                                      [\\n, Manual, \\n]\n",
       "displacement                                                        [\\n1,398 cc\\n]\n",
       "cylinders                                                                  [\\n4\\n]\n",
       "weight                                                                         NaN\n",
       "drive_chain                                                            [\\nfront\\n]\n",
       "fuel                                                      [\\n, Domestic gas H, \\n]\n",
       "consumption                                                                    NaN\n",
       "co_2_emission                                                                  NaN\n",
       "emission_class                                                        [[], [], []]\n",
       "comfort_&_convenience            [Air conditioning, Armrest, Automatic climate ...\n",
       "entertainment_&_media            [Bluetooth, Digital radio, Hands-free equipmen...\n",
       "extras                           [Alloy wheels, Catalytic Converter, Touch screen]\n",
       "safety_&_security                [ABS, Adaptive headlights, Central door lock, ...\n",
       "description                      [\\n, Ausstattungsliste, ex Dienstwagen der Ada...\n",
       "emission_label                                                     [\\n4 (Green)\\n]\n",
       "gears                                                                      [\\n6\\n]\n",
       "country_version                                                      [\\nGermany\\n]\n",
       "electricity_consumption                                                        NaN\n",
       "last_service_date                                                    [\\n01/2019\\n]\n",
       "other_fuel_types                                                               NaN\n",
       "availability                                                                   NaN\n",
       "last_timing_belt_service_date                                                  NaN\n",
       "available_from                                                                 NaN\n",
       "First Registration                                                            2017\n",
       "Name: 6802, dtype: object"
      ]
     },
     "execution_count": 1775,
     "metadata": {},
     "output_type": "execute_result"
    }
   ],
   "source": [
    "df.iloc[6802]"
   ]
  },
  {
   "cell_type": "markdown",
   "metadata": {},
   "source": [
    "## Type"
   ]
  },
  {
   "cell_type": "code",
   "execution_count": 1776,
   "metadata": {},
   "outputs": [
    {
     "data": {
      "text/plain": [
       "[, Used, , Diesel (Particulate Filter)]                                                                                 3475\n",
       "[, Used, , Diesel]                                                                                                      2516\n",
       "[, Used, , Gasoline]                                                                                                    2367\n",
       "[, Used, , Super 95]                                                                                                    1818\n",
       "[, Pre-registered, , Super 95]                                                                                           500\n",
       "                                                                                                                        ... \n",
       "[, New, , Regular/Benzine 91 / Super 95 / Super Plus 98 / Regular/Benzine E10 91 / Super Plus E10 98 / Super E10 95]       1\n",
       "[, Used, , Super 95 / Super Plus 98 / Super E10 95 / Super Plus E10 98 (Particulate Filter)]                               1\n",
       "[, Demonstration, , Super Plus 98]                                                                                         1\n",
       "[, New, , Super Plus E10 98]                                                                                               1\n",
       "[, Demonstration, , Regular/Benzine E10 91]                                                                                1\n",
       "Name: type, Length: 169, dtype: int64"
      ]
     },
     "execution_count": 1776,
     "metadata": {},
     "output_type": "execute_result"
    }
   ],
   "source": [
    "df['type'].value_counts()"
   ]
  },
  {
   "cell_type": "code",
   "execution_count": 1777,
   "metadata": {
    "scrolled": true
   },
   "outputs": [
    {
     "data": {
      "text/plain": [
       "2"
      ]
     },
     "execution_count": 1777,
     "metadata": {},
     "output_type": "execute_result"
    }
   ],
   "source": [
    "df['type'].isnull().sum() "
   ]
  },
  {
   "cell_type": "code",
   "execution_count": 1778,
   "metadata": {},
   "outputs": [
    {
     "data": {
      "text/plain": [
       "url                              https://www.autoscout24.com//offers/opel-corsa...\n",
       "make_model                                                              Opel Corsa\n",
       "short_description                                 1.2 85CV 5 porte GPL-TECH Ecotec\n",
       "body_type                                                                   Sedans\n",
       "price                                                                     7500.000\n",
       "vat                                                                           None\n",
       "km                                                                       90509.000\n",
       "registration                                                               02/2016\n",
       "prev_owner                                                                     NaN\n",
       "k_w                                                                            NaN\n",
       "hp                                                                           51 kW\n",
       "type                                        [, Used, , Liquid petroleum gas (LPG)]\n",
       "previous_owners                                                                  0\n",
       "next_inspection                                                                NaN\n",
       "inspection_new                                                                 NaN\n",
       "warranty                                                                       NaN\n",
       "full_service                                                                   NaN\n",
       "non_smoking_vehicle                                                            NaN\n",
       "null                                                                            []\n",
       "make                                                                          Opel\n",
       "model                                                                        Corsa\n",
       "offer_number                                                                   NaN\n",
       "first_registration                                                  [\\n, 2016, \\n]\n",
       "body_color                                                         [\\n, Black, \\n]\n",
       "paint_type                                                                     NaN\n",
       "body_color_original                                                            NaN\n",
       "upholstery                                                                     NaN\n",
       "body                                                                        Sedans\n",
       "nr_of_doors                                                                [\\n5\\n]\n",
       "nr_of_seats                                                                [\\n5\\n]\n",
       "model_code                                                                     NaN\n",
       "gearing_type                                                      [\\n, Manual, \\n]\n",
       "displacement                                                        [\\n1,229 cc\\n]\n",
       "cylinders                                                                  [\\n4\\n]\n",
       "weight                                                              [\\n1,199 kg\\n]\n",
       "drive_chain                                                                    NaN\n",
       "fuel                                          [\\n, Liquid petroleum gas (LPG), \\n]\n",
       "consumption                                     [[], [], [5.6 l/100 km (country)]]\n",
       "co_2_emission                                            [\\n110 g CO2/km (comb)\\n]\n",
       "emission_class                                                        [\\nEuro 5\\n]\n",
       "comfort_&_convenience            [Air conditioning, Multi-function steering wheel]\n",
       "entertainment_&_media                   [Bluetooth, On-board computer, Radio, USB]\n",
       "extras                                                                         NaN\n",
       "safety_&_security                [ABS, Central door lock, Central door lock wit...\n",
       "description                      [\\nCOMANDI RARIO E VOCALI AL VOLANTE, CLIMATIZ...\n",
       "emission_label                                                                 NaN\n",
       "gears                                                                      [\\n5\\n]\n",
       "country_version                                                        [\\nItaly\\n]\n",
       "electricity_consumption                                                        NaN\n",
       "last_service_date                                                              NaN\n",
       "other_fuel_types                                                               NaN\n",
       "availability                                                                   NaN\n",
       "last_timing_belt_service_date                                                  NaN\n",
       "available_from                                                                 NaN\n",
       "First Registration                                                            2016\n",
       "Name: 8644, dtype: object"
      ]
     },
     "execution_count": 1778,
     "metadata": {},
     "output_type": "execute_result"
    }
   ],
   "source": [
    "df.iloc[8644]"
   ]
  },
  {
   "cell_type": "code",
   "execution_count": null,
   "metadata": {},
   "outputs": [],
   "source": []
  },
  {
   "cell_type": "markdown",
   "metadata": {},
   "source": [
    "### Cleaning "
   ]
  },
  {
   "cell_type": "code",
   "execution_count": 1779,
   "metadata": {},
   "outputs": [],
   "source": [
    "df.type = df.type.str[3].str.split(\"/\").str[0].str.strip()\n"
   ]
  },
  {
   "cell_type": "code",
   "execution_count": 1780,
   "metadata": {},
   "outputs": [],
   "source": [
    "df.type = df.type.str.split(\" \").str[0].str.strip()\n"
   ]
  },
  {
   "cell_type": "code",
   "execution_count": 1781,
   "metadata": {
    "scrolled": true
   },
   "outputs": [
    {
     "data": {
      "text/plain": [
       "'Super'"
      ]
     },
     "execution_count": 1781,
     "metadata": {},
     "output_type": "execute_result"
    }
   ],
   "source": [
    "df.iloc[15918][\"type\"]"
   ]
  },
  {
   "cell_type": "code",
   "execution_count": 1782,
   "metadata": {},
   "outputs": [],
   "source": [
    "benzin = [\"Gasoline\", \"Super 95\", \"Regular\", \"Super E10 95\", \"Super Plus 98\", \"Super Plus E10 98\", \"Others\", \"Super\"]\n",
    "\n",
    "gas = [\"LPG\", \"Liquid petroleum gas\", \"CNG\", \"Biogas\", \"Domestic gas H\", \"Liquid\", \"Domestic\"]\n",
    "\n",
    "\n",
    "def fueltypes(x):\n",
    "    if x in benzin:\n",
    "        return \"Benzin\"\n",
    "    elif x in gas:\n",
    "        return \"Gas\"\n",
    "    else:\n",
    "        return x\n",
    "    \n",
    "    \n",
    "df.type = df.type.apply(fueltypes)"
   ]
  },
  {
   "cell_type": "code",
   "execution_count": 1783,
   "metadata": {
    "scrolled": true
   },
   "outputs": [
    {
     "data": {
      "text/plain": [
       "[\\n, Diesel (Particulate Filter), \\n]                                                                                                       4315\n",
       "[\\n, Super 95, \\n]                                                                                                                          3338\n",
       "[\\n, Gasoline, \\n]                                                                                                                          3175\n",
       "[\\n, Diesel, \\n]                                                                                                                            2984\n",
       "[\\n, Super 95 / Regular/Benzine 91, \\n]                                                                                                      424\n",
       "[\\n, Regular/Benzine 91, \\n]                                                                                                                 354\n",
       "[\\n, Super E10 95, \\n]                                                                                                                       331\n",
       "[\\n, Super 95 (Particulate Filter), \\n]                                                                                                      268\n",
       "[\\n, Super 95 / Super E10 95, \\n]                                                                                                            131\n",
       "[\\n, Regular/Benzine 91 (Particulate Filter), \\n]                                                                                            100\n",
       "[\\n, Super 95 / Super Plus 98, \\n]                                                                                                            85\n",
       "[\\n, Gasoline (Particulate Filter), \\n]                                                                                                       77\n",
       "[\\n, Super 95 / Super Plus 98 / Super E10 95 / Super Plus E10 98, \\n]                                                                         40\n",
       "[\\n, Super E10 95 / Super 95, \\n]                                                                                                             38\n",
       "[\\n, CNG, \\n]                                                                                                                                 33\n",
       "[\\n, Super 95 / Super E10 95 (Particulate Filter), \\n]                                                                                        25\n",
       "[\\n, Super E10 95 / Super 95 / Super Plus 98 / Super Plus E10 98, \\n]                                                                         19\n",
       "[\\n, LPG, \\n]                                                                                                                                 16\n",
       "[\\n, Super 95 / Super Plus 98 (Particulate Filter), \\n]                                                                                       14\n",
       "[\\n, Regular/Benzine 91 / Super 95 / Super Plus 98 / Regular/Benzine E10 91 / Super E10 95 / Super Plus E10 98, \\n]                           13\n",
       "[\\n, Regular/Benzine E10 91, \\n]                                                                                                              11\n",
       "[\\n, Liquid petroleum gas (LPG), \\n]                                                                                                          10\n",
       "[\\n, Super 95 / Super Plus 98 / Super E10 95, \\n]                                                                                              8\n",
       "[\\n, Regular/Benzine 91 / Regular/Benzine E10 91, \\n]                                                                                          7\n",
       "[\\n, Super 95 / Regular/Benzine 91 / Super Plus 98 / Regular/Benzine E10 91 / Super E10 95 / Super Plus E10 98, \\n]                            7\n",
       "[\\n, Super Plus 98, \\n]                                                                                                                        7\n",
       "[\\n, Super E10 95 (Particulate Filter), \\n]                                                                                                    7\n",
       "[\\n, Super 95 / Super Plus 98 / Super Plus E10 98 / Super E10 95, \\n]                                                                          5\n",
       "[\\n, Others, \\n]                                                                                                                               5\n",
       "[\\n, Super E10 95 / Super Plus E10 98, \\n]                                                                                                     4\n",
       "[\\n, Electric/Gasoline, \\n]                                                                                                                    4\n",
       "[\\n, Super 95 / Super Plus 98 / Super E10 95 / Super Plus E10 98 (Particulate Filter), \\n]                                                     4\n",
       "[\\n, Super 95 / Super E10 95 / Super Plus E10 98 / Super Plus 98, \\n]                                                                          4\n",
       "[\\n, Regular/Benzine 91 / Super 95 / Super Plus 98 / Regular/Benzine E10 91 / Super Plus E10 98 / Super E10 95, \\n]                            4\n",
       "[\\n, CNG (Particulate Filter), \\n]                                                                                                             3\n",
       "[\\n, Super E10 95 / Super 95 / Super Plus 98 / Super Plus E10 98 (Particulate Filter), \\n]                                                     3\n",
       "[\\n, Super E10 95 / Super 95 / Super Plus 98, \\n]                                                                                              3\n",
       "[\\n, Super E10 95 / Regular/Benzine 91, \\n]                                                                                                    2\n",
       "[\\n, Super 95 / Regular/Benzine 91 / Super Plus 98, \\n]                                                                                        2\n",
       "[\\n, Regular/Benzine 91 / Super 95 / Super Plus 98 / Super Plus E10 98 / Super E10 95 / Regular/Benzine E10 91, \\n]                            2\n",
       "[\\n, Regular/Benzine 91 / Super 95 / Super E10 95, \\n]                                                                                         1\n",
       "[\\n, Electric, \\n]                                                                                                                             1\n",
       "[\\n, Regular/Benzine 91 / Super 95 / Super E10 95 / Super Plus E10 98 / Super Plus 98 / Regular/Benzine E10 91, \\n]                            1\n",
       "[\\n, Super 95 / Super E10 95 / Super Plus E10 98, \\n]                                                                                          1\n",
       "[\\n, Super 95 / Super E10 95 / Super Plus 98, \\n]                                                                                              1\n",
       "[\\n, Regular/Benzine 91 / Super 95 / Super Plus E10 98 / Super E10 95 / Regular/Benzine E10 91 / Super Plus 98, \\n]                            1\n",
       "[\\n, Super 95 / Super Plus 98 / Regular/Benzine E10 91 / Super Plus E10 98 / Super E10 95 / Regular/Benzine 91, \\n]                            1\n",
       "[\\n, Super 95 / Regular/Benzine E10 91, \\n]                                                                                                    1\n",
       "[\\n, Super E10 95 / Regular/Benzine 91 / Regular/Benzine E10 91 / Super 95, \\n]                                                                1\n",
       "[\\n, Super Plus 98 / Regular/Benzine 91, \\n]                                                                                                   1\n",
       "[\\n, Super 95 / Regular/Benzine 91 / Super E10 95 / Super Plus 98 / Super Plus E10 98 / Regular/Benzine E10 91, \\n]                            1\n",
       "[\\n, Super 95 / Super Plus 98 / Super Plus E10 98, \\n]                                                                                         1\n",
       "[\\n, Super 95 / Regular/Benzine 91 (Particulate Filter), \\n]                                                                                   1\n",
       "[\\n, Super 95 / Super E10 95 / Regular/Benzine 91, \\n]                                                                                         1\n",
       "[\\n, Regular/Benzine 91 / Super 95 / Super E10 95 / Regular/Benzine E10 91, \\n]                                                                1\n",
       "[\\n, Super 95 / Regular/Benzine E10 91 / Super E10 95, \\n]                                                                                     1\n",
       "[\\n, Super 95 / Regular/Benzine 91 / Super Plus 98 / Regular/Benzine E10 91 / Super Plus E10 98 / Super E10 95, \\n]                            1\n",
       "[\\n, Regular/Benzine E10 91 / Super E10 95 / Super Plus E10 98 / Super Plus 98 / Super 95 / Regular/Benzine 91, \\n]                            1\n",
       "[\\n, Super 95 / Regular/Benzine 91 / Super E10 95 / Super Plus E10 98 / Super Plus 98, \\n]                                                     1\n",
       "[\\n, Others (Particulate Filter), \\n]                                                                                                          1\n",
       "[\\n, Biogas, \\n]                                                                                                                               1\n",
       "[\\n, Super 95 / Biodiesel, \\n]                                                                                                                 1\n",
       "[\\n, Regular/Benzine 91 / Super 95 / Super Plus 98 / Super Plus E10 98 / Super E10 95 / Regular/Benzine E10 91 (Particulate Filter), \\n]       1\n",
       "[\\n, Regular/Benzine 91 / Super 95 / Super Plus 98, \\n]                                                                                        1\n",
       "[\\n, Regular/Benzine 91 / Super 95, \\n]                                                                                                        1\n",
       "[\\n, Regular/Benzine E10 91 / Regular/Benzine 91 / Super 95 / Super Plus 98 / Super E10 95 / Super Plus E10 98, \\n]                            1\n",
       "[\\n, Domestic gas H, \\n]                                                                                                                       1\n",
       "[\\n, Super E10 95 / Regular/Benzine 91 / Super 95 / Super Plus 98 / Regular/Benzine E10 91 / Super Plus E10 98, \\n]                            1\n",
       "[\\n, Super Plus E10 98 / Super 95 / Super Plus 98 / Super E10 95, \\n]                                                                          1\n",
       "[\\n, Super 95 / Regular/Benzine 91 / Super E10 95 / Super Plus E10 98 / Super Plus 98 / Regular/Benzine E10 91, \\n]                            1\n",
       "[\\n, Super Plus 98 / Super 95 / Super E10 95, \\n]                                                                                              1\n",
       "[\\n, Super Plus E10 98, \\n]                                                                                                                    1\n",
       "[\\n, Regular/Benzine 91 / Super 95 / Regular/Benzine E10 91, \\n]                                                                               1\n",
       "[\\n, Super Plus 98 / Super E10 95, \\n]                                                                                                         1\n",
       "[\\n, Regular/Benzine 91 / Super 95 / Regular/Benzine E10 91 / Super E10 95 / Super Plus 98 / Super Plus E10 98, \\n]                            1\n",
       "[\\n, Regular/Benzine 91 / Super Plus 98 / Regular/Benzine E10 91 / Super 95 / Super E10 95 / Super Plus E10 98, \\n]                            1\n",
       "[\\n, Super Plus 98 / Super 95 / Super Plus E10 98, \\n]                                                                                         1\n",
       "Name: fuel, dtype: int64"
      ]
     },
     "execution_count": 1783,
     "metadata": {},
     "output_type": "execute_result"
    }
   ],
   "source": [
    "df[\"fuel\"].value_counts()"
   ]
  },
  {
   "cell_type": "code",
   "execution_count": 1784,
   "metadata": {},
   "outputs": [
    {
     "data": {
      "text/plain": [
       "Benzin      8551\n",
       "Diesel      7297\n",
       "Gas           64\n",
       "Electric       5\n",
       "Name: type, dtype: int64"
      ]
     },
     "execution_count": 1784,
     "metadata": {},
     "output_type": "execute_result"
    }
   ],
   "source": [
    "df.type.value_counts()"
   ]
  },
  {
   "cell_type": "markdown",
   "metadata": {},
   "source": [
    "## Next Inspection vs Inspection new"
   ]
  },
  {
   "cell_type": "code",
   "execution_count": 1785,
   "metadata": {},
   "outputs": [
    {
     "data": {
      "text/html": [
       "<div>\n",
       "<style scoped>\n",
       "    .dataframe tbody tr th:only-of-type {\n",
       "        vertical-align: middle;\n",
       "    }\n",
       "\n",
       "    .dataframe tbody tr th {\n",
       "        vertical-align: top;\n",
       "    }\n",
       "\n",
       "    .dataframe thead th {\n",
       "        text-align: right;\n",
       "    }\n",
       "</style>\n",
       "<table border=\"1\" class=\"dataframe\">\n",
       "  <thead>\n",
       "    <tr style=\"text-align: right;\">\n",
       "      <th></th>\n",
       "      <th>next_inspection</th>\n",
       "      <th>inspection_new</th>\n",
       "    </tr>\n",
       "  </thead>\n",
       "  <tbody>\n",
       "    <tr>\n",
       "      <th>13825</th>\n",
       "      <td>NaN</td>\n",
       "      <td>NaN</td>\n",
       "    </tr>\n",
       "    <tr>\n",
       "      <th>10594</th>\n",
       "      <td>NaN</td>\n",
       "      <td>[\\nYes\\n, \\n145 g CO2/km (comb)\\n]</td>\n",
       "    </tr>\n",
       "    <tr>\n",
       "      <th>13867</th>\n",
       "      <td>NaN</td>\n",
       "      <td>NaN</td>\n",
       "    </tr>\n",
       "    <tr>\n",
       "      <th>5354</th>\n",
       "      <td>[\\n03/2022\\n, \\n108 g CO2/km (comb)\\n]</td>\n",
       "      <td>NaN</td>\n",
       "    </tr>\n",
       "    <tr>\n",
       "      <th>10624</th>\n",
       "      <td>NaN</td>\n",
       "      <td>NaN</td>\n",
       "    </tr>\n",
       "    <tr>\n",
       "      <th>1189</th>\n",
       "      <td>NaN</td>\n",
       "      <td>NaN</td>\n",
       "    </tr>\n",
       "    <tr>\n",
       "      <th>5533</th>\n",
       "      <td>NaN</td>\n",
       "      <td>NaN</td>\n",
       "    </tr>\n",
       "    <tr>\n",
       "      <th>5501</th>\n",
       "      <td>NaN</td>\n",
       "      <td>NaN</td>\n",
       "    </tr>\n",
       "    <tr>\n",
       "      <th>11563</th>\n",
       "      <td>NaN</td>\n",
       "      <td>NaN</td>\n",
       "    </tr>\n",
       "    <tr>\n",
       "      <th>4166</th>\n",
       "      <td>NaN</td>\n",
       "      <td>[\\nYes\\n, \\nEuro 6\\n]</td>\n",
       "    </tr>\n",
       "    <tr>\n",
       "      <th>14502</th>\n",
       "      <td>NaN</td>\n",
       "      <td>NaN</td>\n",
       "    </tr>\n",
       "    <tr>\n",
       "      <th>10934</th>\n",
       "      <td>NaN</td>\n",
       "      <td>NaN</td>\n",
       "    </tr>\n",
       "    <tr>\n",
       "      <th>15386</th>\n",
       "      <td>NaN</td>\n",
       "      <td>NaN</td>\n",
       "    </tr>\n",
       "    <tr>\n",
       "      <th>2741</th>\n",
       "      <td>NaN</td>\n",
       "      <td>[\\nYes\\n, \\n115 g CO2/km (comb)\\n]</td>\n",
       "    </tr>\n",
       "    <tr>\n",
       "      <th>15412</th>\n",
       "      <td>NaN</td>\n",
       "      <td>NaN</td>\n",
       "    </tr>\n",
       "  </tbody>\n",
       "</table>\n",
       "</div>"
      ],
      "text/plain": [
       "                              next_inspection  \\\n",
       "13825                                     NaN   \n",
       "10594                                     NaN   \n",
       "13867                                     NaN   \n",
       "5354   [\\n03/2022\\n, \\n108 g CO2/km (comb)\\n]   \n",
       "10624                                     NaN   \n",
       "1189                                      NaN   \n",
       "5533                                      NaN   \n",
       "5501                                      NaN   \n",
       "11563                                     NaN   \n",
       "4166                                      NaN   \n",
       "14502                                     NaN   \n",
       "10934                                     NaN   \n",
       "15386                                     NaN   \n",
       "2741                                      NaN   \n",
       "15412                                     NaN   \n",
       "\n",
       "                           inspection_new  \n",
       "13825                                 NaN  \n",
       "10594  [\\nYes\\n, \\n145 g CO2/km (comb)\\n]  \n",
       "13867                                 NaN  \n",
       "5354                                  NaN  \n",
       "10624                                 NaN  \n",
       "1189                                  NaN  \n",
       "5533                                  NaN  \n",
       "5501                                  NaN  \n",
       "11563                                 NaN  \n",
       "4166                [\\nYes\\n, \\nEuro 6\\n]  \n",
       "14502                                 NaN  \n",
       "10934                                 NaN  \n",
       "15386                                 NaN  \n",
       "2741   [\\nYes\\n, \\n115 g CO2/km (comb)\\n]  \n",
       "15412                                 NaN  "
      ]
     },
     "execution_count": 1785,
     "metadata": {},
     "output_type": "execute_result"
    }
   ],
   "source": [
    "df[[\"next_inspection\",\"inspection_new\"]].sample(15)"
   ]
  },
  {
   "cell_type": "code",
   "execution_count": 1786,
   "metadata": {
    "scrolled": true
   },
   "outputs": [
    {
     "data": {
      "text/plain": [
       "next_inspection    12384\n",
       "inspection_new     11987\n",
       "dtype: int64"
      ]
     },
     "execution_count": 1786,
     "metadata": {},
     "output_type": "execute_result"
    }
   ],
   "source": [
    "df[[\"next_inspection\",\"inspection_new\"]].isnull().sum() "
   ]
  },
  {
   "cell_type": "code",
   "execution_count": 1787,
   "metadata": {},
   "outputs": [
    {
     "data": {
      "text/plain": [
       "\\n04/2022\\n                               62\n",
       "\\n03/2021\\n                               38\n",
       "\\n03/2022\\n                               36\n",
       "\\n06/2021\\n                               34\n",
       "\\n01/2022\\n                               32\n",
       "                                          ..\n",
       "[\\n12/2018\\n, \\n97 g CO2/km (comb)\\n]      1\n",
       "[\\n03/2022\\n, \\n1 (No sticker)\\n]          1\n",
       "[\\n05/2021\\n, \\n93 g CO2/km (comb)\\n]      1\n",
       "[\\n06/2021\\n, \\n93 g CO2/km (comb)\\n]      1\n",
       "[\\n01/2022\\n, \\n168 g CO2/km (comb)\\n]     1\n",
       "Name: next_inspection, Length: 1399, dtype: int64"
      ]
     },
     "execution_count": 1787,
     "metadata": {},
     "output_type": "execute_result"
    }
   ],
   "source": [
    "df[\"next_inspection\"].value_counts()"
   ]
  },
  {
   "cell_type": "code",
   "execution_count": 1788,
   "metadata": {
    "scrolled": true
   },
   "outputs": [
    {
     "data": {
      "text/plain": [
       "[\\nYes\\n, \\nEuro 6\\n]                                                                          523\n",
       "\\nYes\\n                                                                                        362\n",
       "[\\nYes\\n, \\n102 g CO2/km (comb)\\n]                                                             174\n",
       "[\\nYes\\n, \\n4 (Green)\\n]                                                                       166\n",
       "[\\nYes\\n, \\nEuro 6d-TEMP\\n]                                                                    134\n",
       "                                                                                              ... \n",
       "[\\nYes\\n, \\n, 5.2 l/100 km (comb), \\n, 6.7 l/100 km (city), \\n, 4.2 l/100 km (country), \\n]      1\n",
       "[\\nYes\\n, \\n100 g CO2/km (comb)\\n]                                                               1\n",
       "[\\nYes\\n, \\n, 4.9 l/100 km (comb), \\n, 5.9 l/100 km (city), \\n, 4.3 l/100 km (country), \\n]      1\n",
       "[\\nYes\\n, \\n, 5.1 l/100 km (comb), \\n, 6.4 l/100 km (city), \\n, 4.3 l/100 km (country), \\n]      1\n",
       "[\\nYes\\n, \\n172 g CO2/km (comb)\\n]                                                               1\n",
       "Name: inspection_new, Length: 202, dtype: int64"
      ]
     },
     "execution_count": 1788,
     "metadata": {},
     "output_type": "execute_result"
    }
   ],
   "source": [
    "df[\"inspection_new\"].value_counts()"
   ]
  },
  {
   "cell_type": "markdown",
   "metadata": {},
   "source": [
    "### Cleaning\n"
   ]
  },
  {
   "cell_type": "code",
   "execution_count": null,
   "metadata": {},
   "outputs": [],
   "source": []
  },
  {
   "cell_type": "code",
   "execution_count": 1789,
   "metadata": {},
   "outputs": [],
   "source": [
    "df.next_inspection = df[\"next_inspection\"].str.extract('(\\d\\d/\\d\\d\\d\\d)')"
   ]
  },
  {
   "cell_type": "code",
   "execution_count": 1790,
   "metadata": {
    "scrolled": true
   },
   "outputs": [
    {
     "data": {
      "text/plain": [
       "NaN        15209\n",
       "04/2022       62\n",
       "03/2021       38\n",
       "03/2022       36\n",
       "06/2021       34\n",
       "01/2022       32\n",
       "04/2021       29\n",
       "05/2022       27\n",
       "05/2021       27\n",
       "03/2020       25\n",
       "05/2019       23\n",
       "02/2021       19\n",
       "01/2023       19\n",
       "02/2020       18\n",
       "09/2021       17\n",
       "02/2022       16\n",
       "04/2020       16\n",
       "01/2021       15\n",
       "01/2020       15\n",
       "06/2022       14\n",
       "07/2019       13\n",
       "07/2020       13\n",
       "04/2019       13\n",
       "05/2020       12\n",
       "11/2020       12\n",
       "02/2023       10\n",
       "09/2019        9\n",
       "03/2023        8\n",
       "08/2022        8\n",
       "07/2021        8\n",
       "06/2020        8\n",
       "03/2019        8\n",
       "08/2019        7\n",
       "12/2019        7\n",
       "07/2022        7\n",
       "06/2019        7\n",
       "08/2020        6\n",
       "11/2019        6\n",
       "09/2020        6\n",
       "10/2018        5\n",
       "08/2021        5\n",
       "12/2018        4\n",
       "10/2021        4\n",
       "02/2019        4\n",
       "10/2019        4\n",
       "03/2017        3\n",
       "12/2020        3\n",
       "10/2020        3\n",
       "04/2023        3\n",
       "06/2016        2\n",
       "04/2017        2\n",
       "11/2021        2\n",
       "05/2023        2\n",
       "12/2021        2\n",
       "10/2022        2\n",
       "01/1999        1\n",
       "01/1955        1\n",
       "05/2016        1\n",
       "06/2018        1\n",
       "08/2018        1\n",
       "12/2022        1\n",
       "01/2019        1\n",
       "03/2018        1\n",
       "03/2024        1\n",
       "07/2017        1\n",
       "Name: next_inspection, dtype: int64"
      ]
     },
     "execution_count": 1790,
     "metadata": {},
     "output_type": "execute_result"
    }
   ],
   "source": [
    "df.next_inspection.value_counts(dropna=False)"
   ]
  },
  {
   "cell_type": "code",
   "execution_count": 1791,
   "metadata": {},
   "outputs": [],
   "source": [
    "#df.next_inspection=df['next_inspection'].replace('NaT',np.nan,regex=True)"
   ]
  },
  {
   "cell_type": "code",
   "execution_count": 1792,
   "metadata": {
    "scrolled": true
   },
   "outputs": [],
   "source": [
    "df.next_inspection = pd.to_datetime(df.next_inspection, format=\"%m/%Y\")"
   ]
  },
  {
   "cell_type": "code",
   "execution_count": 1793,
   "metadata": {
    "scrolled": false
   },
   "outputs": [
    {
     "data": {
      "text/plain": [
       "2022-04-01    62\n",
       "2021-03-01    38\n",
       "2022-03-01    36\n",
       "2021-06-01    34\n",
       "2022-01-01    32\n",
       "2021-04-01    29\n",
       "2021-05-01    27\n",
       "2022-05-01    27\n",
       "2020-03-01    25\n",
       "2019-05-01    23\n",
       "2023-01-01    19\n",
       "2021-02-01    19\n",
       "2020-02-01    18\n",
       "2021-09-01    17\n",
       "2022-02-01    16\n",
       "2020-04-01    16\n",
       "2021-01-01    15\n",
       "2020-01-01    15\n",
       "2022-06-01    14\n",
       "2019-07-01    13\n",
       "2020-07-01    13\n",
       "2019-04-01    13\n",
       "2020-11-01    12\n",
       "2020-05-01    12\n",
       "2023-02-01    10\n",
       "2019-09-01     9\n",
       "2021-07-01     8\n",
       "2023-03-01     8\n",
       "2020-06-01     8\n",
       "2022-08-01     8\n",
       "2019-03-01     8\n",
       "2022-07-01     7\n",
       "2019-08-01     7\n",
       "2019-12-01     7\n",
       "2019-06-01     7\n",
       "2019-11-01     6\n",
       "2020-08-01     6\n",
       "2020-09-01     6\n",
       "2018-10-01     5\n",
       "2021-08-01     5\n",
       "2018-12-01     4\n",
       "2019-02-01     4\n",
       "2021-10-01     4\n",
       "2019-10-01     4\n",
       "2023-04-01     3\n",
       "2020-10-01     3\n",
       "2017-03-01     3\n",
       "2020-12-01     3\n",
       "2023-05-01     2\n",
       "2017-04-01     2\n",
       "2021-11-01     2\n",
       "2022-10-01     2\n",
       "2016-06-01     2\n",
       "2021-12-01     2\n",
       "2018-06-01     1\n",
       "2018-03-01     1\n",
       "2016-05-01     1\n",
       "2017-07-01     1\n",
       "1955-01-01     1\n",
       "2018-08-01     1\n",
       "2022-12-01     1\n",
       "2019-01-01     1\n",
       "1999-01-01     1\n",
       "2024-03-01     1\n",
       "Name: next_inspection, dtype: int64"
      ]
     },
     "execution_count": 1793,
     "metadata": {},
     "output_type": "execute_result"
    }
   ],
   "source": [
    "df.next_inspection.value_counts()"
   ]
  },
  {
   "cell_type": "code",
   "execution_count": 1794,
   "metadata": {
    "scrolled": true
   },
   "outputs": [
    {
     "data": {
      "text/plain": [
       "NaT           15209\n",
       "2022-04-01       62\n",
       "2021-03-01       38\n",
       "2022-03-01       36\n",
       "2021-06-01       34\n",
       "2022-01-01       32\n",
       "2021-04-01       29\n",
       "2022-05-01       27\n",
       "2021-05-01       27\n",
       "2020-03-01       25\n",
       "2019-05-01       23\n",
       "2021-02-01       19\n",
       "2023-01-01       19\n",
       "2020-02-01       18\n",
       "2021-09-01       17\n",
       "2022-02-01       16\n",
       "2020-04-01       16\n",
       "2021-01-01       15\n",
       "2020-01-01       15\n",
       "2022-06-01       14\n",
       "2019-07-01       13\n",
       "2020-07-01       13\n",
       "2019-04-01       13\n",
       "2020-05-01       12\n",
       "2020-11-01       12\n",
       "2023-02-01       10\n",
       "2019-09-01        9\n",
       "2023-03-01        8\n",
       "2022-08-01        8\n",
       "2021-07-01        8\n",
       "2020-06-01        8\n",
       "2019-03-01        8\n",
       "2019-08-01        7\n",
       "2019-12-01        7\n",
       "2022-07-01        7\n",
       "2019-06-01        7\n",
       "2020-08-01        6\n",
       "2019-11-01        6\n",
       "2020-09-01        6\n",
       "2018-10-01        5\n",
       "2021-08-01        5\n",
       "2018-12-01        4\n",
       "2021-10-01        4\n",
       "2019-02-01        4\n",
       "2019-10-01        4\n",
       "2017-03-01        3\n",
       "2020-12-01        3\n",
       "2020-10-01        3\n",
       "2023-04-01        3\n",
       "2016-06-01        2\n",
       "2017-04-01        2\n",
       "2021-11-01        2\n",
       "2023-05-01        2\n",
       "2021-12-01        2\n",
       "2022-10-01        2\n",
       "1999-01-01        1\n",
       "1955-01-01        1\n",
       "2016-05-01        1\n",
       "2018-06-01        1\n",
       "2018-08-01        1\n",
       "2022-12-01        1\n",
       "2019-01-01        1\n",
       "2018-03-01        1\n",
       "2024-03-01        1\n",
       "2017-07-01        1\n",
       "Name: next_inspection, dtype: int64"
      ]
     },
     "execution_count": 1794,
     "metadata": {},
     "output_type": "execute_result"
    }
   ],
   "source": [
    "df.next_inspection.value_counts(dropna=False)"
   ]
  },
  {
   "cell_type": "markdown",
   "metadata": {},
   "source": [
    "## CO2 Emission vs Emission Class vs Emission Label"
   ]
  },
  {
   "cell_type": "code",
   "execution_count": 1795,
   "metadata": {},
   "outputs": [
    {
     "data": {
      "text/html": [
       "<div>\n",
       "<style scoped>\n",
       "    .dataframe tbody tr th:only-of-type {\n",
       "        vertical-align: middle;\n",
       "    }\n",
       "\n",
       "    .dataframe tbody tr th {\n",
       "        vertical-align: top;\n",
       "    }\n",
       "\n",
       "    .dataframe thead th {\n",
       "        text-align: right;\n",
       "    }\n",
       "</style>\n",
       "<table border=\"1\" class=\"dataframe\">\n",
       "  <thead>\n",
       "    <tr style=\"text-align: right;\">\n",
       "      <th></th>\n",
       "      <th>emission_label</th>\n",
       "      <th>inspection_new</th>\n",
       "      <th>co_2_emission</th>\n",
       "      <th>emission_class</th>\n",
       "    </tr>\n",
       "  </thead>\n",
       "  <tbody>\n",
       "    <tr>\n",
       "      <th>9810</th>\n",
       "      <td>[\\n4 (Green)\\n]</td>\n",
       "      <td>NaN</td>\n",
       "      <td>[\\n129 g CO2/km (comb)\\n]</td>\n",
       "      <td>[\\nEuro 6d-TEMP\\n]</td>\n",
       "    </tr>\n",
       "    <tr>\n",
       "      <th>14697</th>\n",
       "      <td>NaN</td>\n",
       "      <td>NaN</td>\n",
       "      <td>[\\n118 g CO2/km (comb)\\n]</td>\n",
       "      <td>[\\nEuro 6c\\n]</td>\n",
       "    </tr>\n",
       "    <tr>\n",
       "      <th>3402</th>\n",
       "      <td>NaN</td>\n",
       "      <td>NaN</td>\n",
       "      <td>[\\n103 g CO2/km (comb)\\n]</td>\n",
       "      <td>[\\nEuro 6\\n]</td>\n",
       "    </tr>\n",
       "    <tr>\n",
       "      <th>13309</th>\n",
       "      <td>NaN</td>\n",
       "      <td>NaN</td>\n",
       "      <td>[\\n92 g CO2/km (comb)\\n]</td>\n",
       "      <td>[\\nEuro 6\\n]</td>\n",
       "    </tr>\n",
       "    <tr>\n",
       "      <th>4424</th>\n",
       "      <td>NaN</td>\n",
       "      <td>NaN</td>\n",
       "      <td>[\\n108 g CO2/km (comb)\\n]</td>\n",
       "      <td>[\\nEuro 6\\n]</td>\n",
       "    </tr>\n",
       "    <tr>\n",
       "      <th>10631</th>\n",
       "      <td>NaN</td>\n",
       "      <td>[\\nYes\\n, \\nEuro 6\\n]</td>\n",
       "      <td>[\\n164 g CO2/km (comb)\\n]</td>\n",
       "      <td>[\\nEuro 6\\n]</td>\n",
       "    </tr>\n",
       "    <tr>\n",
       "      <th>13356</th>\n",
       "      <td>NaN</td>\n",
       "      <td>NaN</td>\n",
       "      <td>[\\n92 g CO2/km (comb)\\n]</td>\n",
       "      <td>[\\nEuro 6\\n]</td>\n",
       "    </tr>\n",
       "    <tr>\n",
       "      <th>5886</th>\n",
       "      <td>NaN</td>\n",
       "      <td>NaN</td>\n",
       "      <td>[\\n122 g CO2/km (comb)\\n]</td>\n",
       "      <td>[\\nEuro 6\\n]</td>\n",
       "    </tr>\n",
       "    <tr>\n",
       "      <th>3295</th>\n",
       "      <td>NaN</td>\n",
       "      <td>[\\nYes\\n, \\n99 g CO2/km (comb)\\n]</td>\n",
       "      <td>[\\n99 g CO2/km (comb)\\n]</td>\n",
       "      <td>[\\nEuro 6\\n]</td>\n",
       "    </tr>\n",
       "    <tr>\n",
       "      <th>6425</th>\n",
       "      <td>[\\n4 (Green)\\n]</td>\n",
       "      <td>NaN</td>\n",
       "      <td>[\\n149 g CO2/km (comb)\\n]</td>\n",
       "      <td>[\\nEuro 6\\n]</td>\n",
       "    </tr>\n",
       "  </tbody>\n",
       "</table>\n",
       "</div>"
      ],
      "text/plain": [
       "        emission_label                     inspection_new  \\\n",
       "9810   [\\n4 (Green)\\n]                                NaN   \n",
       "14697              NaN                                NaN   \n",
       "3402               NaN                                NaN   \n",
       "13309              NaN                                NaN   \n",
       "4424               NaN                                NaN   \n",
       "10631              NaN              [\\nYes\\n, \\nEuro 6\\n]   \n",
       "13356              NaN                                NaN   \n",
       "5886               NaN                                NaN   \n",
       "3295               NaN  [\\nYes\\n, \\n99 g CO2/km (comb)\\n]   \n",
       "6425   [\\n4 (Green)\\n]                                NaN   \n",
       "\n",
       "                   co_2_emission      emission_class  \n",
       "9810   [\\n129 g CO2/km (comb)\\n]  [\\nEuro 6d-TEMP\\n]  \n",
       "14697  [\\n118 g CO2/km (comb)\\n]       [\\nEuro 6c\\n]  \n",
       "3402   [\\n103 g CO2/km (comb)\\n]        [\\nEuro 6\\n]  \n",
       "13309   [\\n92 g CO2/km (comb)\\n]        [\\nEuro 6\\n]  \n",
       "4424   [\\n108 g CO2/km (comb)\\n]        [\\nEuro 6\\n]  \n",
       "10631  [\\n164 g CO2/km (comb)\\n]        [\\nEuro 6\\n]  \n",
       "13356   [\\n92 g CO2/km (comb)\\n]        [\\nEuro 6\\n]  \n",
       "5886   [\\n122 g CO2/km (comb)\\n]        [\\nEuro 6\\n]  \n",
       "3295    [\\n99 g CO2/km (comb)\\n]        [\\nEuro 6\\n]  \n",
       "6425   [\\n149 g CO2/km (comb)\\n]        [\\nEuro 6\\n]  "
      ]
     },
     "execution_count": 1795,
     "metadata": {},
     "output_type": "execute_result"
    }
   ],
   "source": [
    "df[[\"emission_label\",\"inspection_new\", 'co_2_emission', 'emission_class']].sample(10)"
   ]
  },
  {
   "cell_type": "code",
   "execution_count": 1796,
   "metadata": {},
   "outputs": [
    {
     "data": {
      "text/plain": [
       "next_inspection    15209\n",
       "emission_label     11934\n",
       "registration        1597\n",
       "inspection_new     11987\n",
       "co_2_emission       1808\n",
       "emission_class      3021\n",
       "dtype: int64"
      ]
     },
     "execution_count": 1796,
     "metadata": {},
     "output_type": "execute_result"
    }
   ],
   "source": [
    "df[[\"next_inspection\",\"emission_label\",'registration',\"inspection_new\", 'co_2_emission', 'emission_class']].isnull().sum()"
   ]
  },
  {
   "cell_type": "code",
   "execution_count": 1797,
   "metadata": {
    "scrolled": true
   },
   "outputs": [
    {
     "data": {
      "text/plain": [
       "[\\n4 (Green)\\n]         3553\n",
       "[\\n1 (No sticker)\\n]     381\n",
       "[[], [], []]              40\n",
       "[\\n5 (Blue)\\n]             8\n",
       "[\\n3 (Yellow)\\n]           2\n",
       "[\\n2 (Red)\\n]              1\n",
       "Name: emission_label, dtype: int64"
      ]
     },
     "execution_count": 1797,
     "metadata": {},
     "output_type": "execute_result"
    }
   ],
   "source": [
    "df[\"emission_label\"].value_counts()"
   ]
  },
  {
   "cell_type": "code",
   "execution_count": 1798,
   "metadata": {},
   "outputs": [
    {
     "data": {
      "text/plain": [
       "NaN                             1808\n",
       "[\\n120 g CO2/km (comb)\\n]        740\n",
       "[[], [], []]                     628\n",
       "[\\n99 g CO2/km (comb)\\n]         545\n",
       "[\\n97 g CO2/km (comb)\\n]         537\n",
       "[\\n104 g CO2/km (comb)\\n]        501\n",
       "[\\n102 g CO2/km (comb)\\n]        477\n",
       "[\\n103 g CO2/km (comb)\\n]        445\n",
       "[\\n114 g CO2/km (comb)\\n]        382\n",
       "[\\n124 g CO2/km (comb)\\n]        372\n",
       "[\\n107 g CO2/km (comb)\\n]        362\n",
       "[\\n108 g CO2/km (comb)\\n]        362\n",
       "[\\n119 g CO2/km (comb)\\n]        361\n",
       "[\\n106 g CO2/km (comb)\\n]        349\n",
       "[\\n128 g CO2/km (comb)\\n]        329\n",
       "[\\n126 g CO2/km (comb)\\n]        282\n",
       "[\\n85 g CO2/km (comb)\\n]         275\n",
       "[\\n118 g CO2/km (comb)\\n]        270\n",
       "[\\n110 g CO2/km (comb)\\n]        266\n",
       "[\\n127 g CO2/km (comb)\\n]        257\n",
       "[\\n117 g CO2/km (comb)\\n]        254\n",
       "[\\n111 g CO2/km (comb)\\n]        237\n",
       "[\\n113 g CO2/km (comb)\\n]        235\n",
       "[\\n109 g CO2/km (comb)\\n]        234\n",
       "[\\n139 g CO2/km (comb)\\n]        224\n",
       "[\\n140 g CO2/km (comb)\\n]        218\n",
       "[\\n129 g CO2/km (comb)\\n]        213\n",
       "[\\n105 g CO2/km (comb)\\n]        202\n",
       "[\\n135 g CO2/km (comb)\\n]        202\n",
       "[\\n92 g CO2/km (comb)\\n]         198\n",
       "[\\n130 g CO2/km (comb)\\n]        180\n",
       "[\\n123 g CO2/km (comb)\\n]        178\n",
       "[\\n150 g CO2/km (comb)\\n]        174\n",
       "[\\n112 g CO2/km (comb)\\n]        171\n",
       "[\\n143 g CO2/km (comb)\\n]        171\n",
       "[\\n95 g CO2/km (comb)\\n]         161\n",
       "[\\n116 g CO2/km (comb)\\n]        157\n",
       "[\\n141 g CO2/km (comb)\\n]        156\n",
       "[\\n98 g CO2/km (comb)\\n]         151\n",
       "[\\n133 g CO2/km (comb)\\n]        145\n",
       "[\\n136 g CO2/km (comb)\\n]        145\n",
       "[\\n137 g CO2/km (comb)\\n]        133\n",
       "[\\n125 g CO2/km (comb)\\n]        132\n",
       "[\\n134 g CO2/km (comb)\\n]        130\n",
       "[\\n145 g CO2/km (comb)\\n]        126\n",
       "[\\n149 g CO2/km (comb)\\n]        117\n",
       "[\\n153 g CO2/km (comb)\\n]        113\n",
       "[\\n147 g CO2/km (comb)\\n]        109\n",
       "[\\n101 g CO2/km (comb)\\n]        105\n",
       "[\\n132 g CO2/km (comb)\\n]        100\n",
       "[\\n115 g CO2/km (comb)\\n]         86\n",
       "[\\n122 g CO2/km (comb)\\n]         83\n",
       "[\\n121 g CO2/km (comb)\\n]         82\n",
       "[\\n138 g CO2/km (comb)\\n]         75\n",
       "[\\n93 g CO2/km (comb)\\n]          66\n",
       "[\\n168 g CO2/km (comb)\\n]         58\n",
       "[\\n142 g CO2/km (comb)\\n]         58\n",
       "[\\n148 g CO2/km (comb)\\n]         48\n",
       "[\\n131 g CO2/km (comb)\\n]         48\n",
       "[\\n154 g CO2/km (comb)\\n]         40\n",
       "[\\n144 g CO2/km (comb)\\n]         40\n",
       "[\\n94 g CO2/km (comb)\\n]          37\n",
       "[\\n146 g CO2/km (comb)\\n]         36\n",
       "[\\n100 g CO2/km (comb)\\n]         36\n",
       "[\\n90 g CO2/km (comb)\\n]          35\n",
       "[\\n151 g CO2/km (comb)\\n]         34\n",
       "[\\n91 g CO2/km (comb)\\n]          31\n",
       "[\\n186 g CO2/km (comb)\\n]         30\n",
       "[\\n152 g CO2/km (comb)\\n]         28\n",
       "[\\n187 g CO2/km (comb)\\n]         26\n",
       "[\\n172 g CO2/km (comb)\\n]         25\n",
       "[\\n82 g CO2/km (comb)\\n]          25\n",
       "[\\n96 g CO2/km (comb)\\n]          22\n",
       "[\\n189 g CO2/km (comb)\\n]         19\n",
       "[\\n89 g CO2/km (comb)\\n]          19\n",
       "[\\n157 g CO2/km (comb)\\n]         18\n",
       "[\\n158 g CO2/km (comb)\\n]         17\n",
       "[\\n88 g CO2/km (comb)\\n]          15\n",
       "[\\n169 g CO2/km (comb)\\n]         15\n",
       "[\\n156 g CO2/km (comb)\\n]         14\n",
       "[\\n164 g CO2/km (comb)\\n]         13\n",
       "[\\n161 g CO2/km (comb)\\n]         10\n",
       "[\\n170 g CO2/km (comb)\\n]         10\n",
       "[\\n166 g CO2/km (comb)\\n]          8\n",
       "[\\n175 g CO2/km (comb)\\n]          8\n",
       "[\\n155 g CO2/km (comb)\\n]          8\n",
       "[\\n188 g CO2/km (comb)\\n]          7\n",
       "[\\n159 g CO2/km (comb)\\n]          7\n",
       "[\\n174 g CO2/km (comb)\\n]          6\n",
       "[\\n87 g CO2/km (comb)\\n]           6\n",
       "[\\n197 g CO2/km (comb)\\n]          4\n",
       "[\\n194 g CO2/km (comb)\\n]          3\n",
       "[\\n5 g CO2/km (comb)\\n]            3\n",
       "[\\n36 g CO2/km (comb)\\n]           3\n",
       "[\\n12,087 g CO2/km (comb)\\n]       3\n",
       "[\\n84 g CO2/km (comb)\\n]           2\n",
       "[\\n191 g CO2/km (comb)\\n]          2\n",
       "[\\n167 g CO2/km (comb)\\n]          2\n",
       "[\\n0 g CO2/km (comb)\\n]            2\n",
       "[\\n199 g CO2/km (comb)\\n]          2\n",
       "[\\n162 g CO2/km (comb)\\n]          2\n",
       "[\\n177 g CO2/km (comb)\\n]          1\n",
       "[\\n181 g CO2/km (comb)\\n]          1\n",
       "[\\n331 g CO2/km (comb)\\n]          1\n",
       "[\\n45 g CO2/km (comb)\\n]           1\n",
       "[\\n180 g CO2/km (comb)\\n]          1\n",
       "[\\n171 g CO2/km (comb)\\n]          1\n",
       "[\\n183 g CO2/km (comb)\\n]          1\n",
       "[\\n1 g CO2/km (comb)\\n]            1\n",
       "[\\n13,983 g CO2/km (comb)\\n]       1\n",
       "[\\n184 g CO2/km (comb)\\n]          1\n",
       "[\\n14,457 g CO2/km (comb)\\n]       1\n",
       "[\\n12,324 g CO2/km (comb)\\n]       1\n",
       "[\\n239 g CO2/km (comb)\\n]          1\n",
       "[\\n160 g CO2/km (comb)\\n]          1\n",
       "[\\n190 g CO2/km (comb)\\n]          1\n",
       "[\\n80 g CO2/km (comb)\\n]           1\n",
       "[\\n990 g CO2/km (comb)\\n]          1\n",
       "[\\n253 g CO2/km (comb)\\n]          1\n",
       "[\\n14 g CO2/km (comb)\\n]           1\n",
       "[\\n1,060 g CO2/km (comb)\\n]        1\n",
       "[\\n51 g CO2/km (comb)\\n]           1\n",
       "[\\n165 g CO2/km (comb)\\n]          1\n",
       "[\\n193 g CO2/km (comb)\\n]          1\n",
       "Name: co_2_emission, dtype: int64"
      ]
     },
     "execution_count": 1798,
     "metadata": {},
     "output_type": "execute_result"
    }
   ],
   "source": [
    "df.co_2_emission.value_counts(dropna=False)"
   ]
  },
  {
   "cell_type": "markdown",
   "metadata": {},
   "source": [
    "### Cleaning co_2_emission\n"
   ]
  },
  {
   "cell_type": "code",
   "execution_count": 1799,
   "metadata": {},
   "outputs": [],
   "source": [
    "df[\"co_2_emission\"] = [item[0] if type(item) == list else item for item in df[\"co_2_emission\"]]\n",
    "# ## hepsini liste disina cikaracak4\n"
   ]
  },
  {
   "cell_type": "code",
   "execution_count": 1800,
   "metadata": {},
   "outputs": [],
   "source": [
    "df[\"co_2_emission\"]= df[\"co_2_emission\"].str.strip(\"\\n\")"
   ]
  },
  {
   "cell_type": "code",
   "execution_count": 1801,
   "metadata": {},
   "outputs": [
    {
     "data": {
      "text/plain": [
       "'99 g CO2/km (comb)'"
      ]
     },
     "execution_count": 1801,
     "metadata": {},
     "output_type": "execute_result"
    }
   ],
   "source": [
    "df.co_2_emission[0]"
   ]
  },
  {
   "cell_type": "code",
   "execution_count": 1802,
   "metadata": {},
   "outputs": [],
   "source": [
    "df.co_2_emission= df[\"co_2_emission\"].str.extract('(\\\\d+)').astype(float)"
   ]
  },
  {
   "cell_type": "code",
   "execution_count": 1803,
   "metadata": {},
   "outputs": [
    {
     "data": {
      "text/plain": [
       "NaN        2436\n",
       "120.000     740\n",
       "99.000      545\n",
       "97.000      537\n",
       "104.000     501\n",
       "102.000     477\n",
       "103.000     445\n",
       "114.000     382\n",
       "124.000     372\n",
       "107.000     362\n",
       "108.000     362\n",
       "119.000     361\n",
       "106.000     349\n",
       "128.000     329\n",
       "126.000     282\n",
       "85.000      275\n",
       "118.000     270\n",
       "110.000     266\n",
       "127.000     257\n",
       "117.000     254\n",
       "111.000     237\n",
       "113.000     235\n",
       "109.000     234\n",
       "139.000     224\n",
       "140.000     218\n",
       "129.000     213\n",
       "135.000     202\n",
       "105.000     202\n",
       "92.000      198\n",
       "130.000     180\n",
       "123.000     178\n",
       "150.000     174\n",
       "143.000     171\n",
       "112.000     171\n",
       "95.000      161\n",
       "116.000     157\n",
       "141.000     156\n",
       "98.000      151\n",
       "133.000     145\n",
       "136.000     145\n",
       "137.000     133\n",
       "125.000     132\n",
       "134.000     130\n",
       "145.000     126\n",
       "149.000     117\n",
       "153.000     113\n",
       "147.000     109\n",
       "101.000     105\n",
       "132.000     100\n",
       "115.000      86\n",
       "122.000      83\n",
       "121.000      82\n",
       "138.000      75\n",
       "93.000       66\n",
       "168.000      58\n",
       "142.000      58\n",
       "148.000      48\n",
       "131.000      48\n",
       "154.000      40\n",
       "144.000      40\n",
       "94.000       37\n",
       "100.000      36\n",
       "146.000      36\n",
       "90.000       35\n",
       "151.000      34\n",
       "91.000       31\n",
       "186.000      30\n",
       "152.000      28\n",
       "187.000      26\n",
       "172.000      25\n",
       "82.000       25\n",
       "96.000       22\n",
       "189.000      19\n",
       "89.000       19\n",
       "157.000      18\n",
       "158.000      17\n",
       "88.000       15\n",
       "169.000      15\n",
       "156.000      14\n",
       "164.000      13\n",
       "161.000      10\n",
       "170.000      10\n",
       "175.000       8\n",
       "155.000       8\n",
       "166.000       8\n",
       "159.000       7\n",
       "188.000       7\n",
       "87.000        6\n",
       "174.000       6\n",
       "12.000        4\n",
       "197.000       4\n",
       "194.000       3\n",
       "36.000        3\n",
       "5.000         3\n",
       "1.000         2\n",
       "162.000       2\n",
       "199.000       2\n",
       "84.000        2\n",
       "167.000       2\n",
       "0.000         2\n",
       "14.000        2\n",
       "191.000       2\n",
       "171.000       1\n",
       "180.000       1\n",
       "183.000       1\n",
       "177.000       1\n",
       "181.000       1\n",
       "45.000        1\n",
       "160.000       1\n",
       "13.000        1\n",
       "184.000       1\n",
       "239.000       1\n",
       "190.000       1\n",
       "253.000       1\n",
       "990.000       1\n",
       "51.000        1\n",
       "165.000       1\n",
       "331.000       1\n",
       "80.000        1\n",
       "193.000       1\n",
       "Name: co_2_emission, dtype: int64"
      ]
     },
     "execution_count": 1803,
     "metadata": {},
     "output_type": "execute_result"
    }
   ],
   "source": [
    "df.co_2_emission.value_counts(dropna=False)"
   ]
  },
  {
   "cell_type": "markdown",
   "metadata": {},
   "source": [
    "## Warranty"
   ]
  },
  {
   "cell_type": "code",
   "execution_count": 1804,
   "metadata": {},
   "outputs": [
    {
     "data": {
      "text/plain": [
       "[\\n, \\n, \\nEuro 6\\n]                                                                               1868\n",
       "\\n12 months\\n                                                                                      1177\n",
       "\\n                                                                                                  979\n",
       "\\n24 months\\n                                                                                       566\n",
       "[\\n, \\n, \\n4 (Green)\\n]                                                                             517\n",
       "                                                                                                   ... \n",
       "[\\n72 months\\n, \\n125 g CO2/km (comb)\\n]                                                              1\n",
       "[\\n60 months\\n, \\n14 g CO2/km (comb)\\n]                                                               1\n",
       "[\\n24 months\\n, \\n121 g CO2/km (comb)\\n]                                                              1\n",
       "[\\n12 months\\n, \\nEuro 6d\\n]                                                                          1\n",
       "[\\n36 months\\n, \\n, 7.4 l/100 km (comb), \\n, 9.6 l/100 km (city), \\n, 6 l/100 km (country), \\n]       1\n",
       "Name: warranty, Length: 515, dtype: int64"
      ]
     },
     "execution_count": 1804,
     "metadata": {},
     "output_type": "execute_result"
    }
   ],
   "source": [
    "df['warranty'].value_counts()"
   ]
  },
  {
   "cell_type": "code",
   "execution_count": 1805,
   "metadata": {},
   "outputs": [
    {
     "data": {
      "text/plain": [
       "5420"
      ]
     },
     "execution_count": 1805,
     "metadata": {},
     "output_type": "execute_result"
    }
   ],
   "source": [
    "df['warranty'].isnull().sum() "
   ]
  },
  {
   "cell_type": "code",
   "execution_count": 1806,
   "metadata": {},
   "outputs": [
    {
     "data": {
      "text/html": [
       "<div>\n",
       "<style scoped>\n",
       "    .dataframe tbody tr th:only-of-type {\n",
       "        vertical-align: middle;\n",
       "    }\n",
       "\n",
       "    .dataframe tbody tr th {\n",
       "        vertical-align: top;\n",
       "    }\n",
       "\n",
       "    .dataframe thead th {\n",
       "        text-align: right;\n",
       "    }\n",
       "</style>\n",
       "<table border=\"1\" class=\"dataframe\">\n",
       "  <thead>\n",
       "    <tr style=\"text-align: right;\">\n",
       "      <th></th>\n",
       "      <th>next_inspection</th>\n",
       "      <th>warranty</th>\n",
       "      <th>inspection_new</th>\n",
       "      <th>co_2_emission</th>\n",
       "      <th>emission_class</th>\n",
       "    </tr>\n",
       "  </thead>\n",
       "  <tbody>\n",
       "    <tr>\n",
       "      <th>4622</th>\n",
       "      <td>NaT</td>\n",
       "      <td>[\\n, \\n, \\n106 g CO2/km (comb)\\n]</td>\n",
       "      <td>NaN</td>\n",
       "      <td>106.000</td>\n",
       "      <td>NaN</td>\n",
       "    </tr>\n",
       "    <tr>\n",
       "      <th>6285</th>\n",
       "      <td>NaT</td>\n",
       "      <td>\\n12 months\\n</td>\n",
       "      <td>NaN</td>\n",
       "      <td>NaN</td>\n",
       "      <td>NaN</td>\n",
       "    </tr>\n",
       "    <tr>\n",
       "      <th>2291</th>\n",
       "      <td>NaT</td>\n",
       "      <td>[\\n, \\n, \\nEuro 6d-TEMP\\n]</td>\n",
       "      <td>[\\nYes\\n, \\n111 g CO2/km (comb)\\n]</td>\n",
       "      <td>111.000</td>\n",
       "      <td>[\\nEuro 6d-TEMP\\n]</td>\n",
       "    </tr>\n",
       "    <tr>\n",
       "      <th>13442</th>\n",
       "      <td>NaT</td>\n",
       "      <td>NaN</td>\n",
       "      <td>NaN</td>\n",
       "      <td>82.000</td>\n",
       "      <td>[\\nEuro 6\\n]</td>\n",
       "    </tr>\n",
       "    <tr>\n",
       "      <th>1252</th>\n",
       "      <td>NaT</td>\n",
       "      <td>\\n24 months\\n</td>\n",
       "      <td>NaN</td>\n",
       "      <td>97.000</td>\n",
       "      <td>[\\nEuro 6\\n]</td>\n",
       "    </tr>\n",
       "    <tr>\n",
       "      <th>4130</th>\n",
       "      <td>NaT</td>\n",
       "      <td>\\n24 months\\n</td>\n",
       "      <td>NaN</td>\n",
       "      <td>107.000</td>\n",
       "      <td>[\\nEuro 6\\n]</td>\n",
       "    </tr>\n",
       "    <tr>\n",
       "      <th>5761</th>\n",
       "      <td>NaT</td>\n",
       "      <td>NaN</td>\n",
       "      <td>[\\nYes\\n, \\nEuro 6\\n]</td>\n",
       "      <td>119.000</td>\n",
       "      <td>[\\nEuro 6\\n]</td>\n",
       "    </tr>\n",
       "    <tr>\n",
       "      <th>6953</th>\n",
       "      <td>NaT</td>\n",
       "      <td>[\\n, \\n, \\nEuro 6\\n]</td>\n",
       "      <td>[\\nYes\\n, \\n93 g CO2/km (comb)\\n]</td>\n",
       "      <td>93.000</td>\n",
       "      <td>[\\nEuro 6\\n]</td>\n",
       "    </tr>\n",
       "    <tr>\n",
       "      <th>10986</th>\n",
       "      <td>NaT</td>\n",
       "      <td>NaN</td>\n",
       "      <td>NaN</td>\n",
       "      <td>147.000</td>\n",
       "      <td>[\\nEuro 6\\n]</td>\n",
       "    </tr>\n",
       "    <tr>\n",
       "      <th>13068</th>\n",
       "      <td>NaT</td>\n",
       "      <td>[\\n, \\n, \\n4 (Green)\\n]</td>\n",
       "      <td>[\\nYes\\n, \\nEuro 6\\n]</td>\n",
       "      <td>120.000</td>\n",
       "      <td>[\\nEuro 6\\n]</td>\n",
       "    </tr>\n",
       "  </tbody>\n",
       "</table>\n",
       "</div>"
      ],
      "text/plain": [
       "      next_inspection                           warranty  \\\n",
       "4622              NaT  [\\n, \\n, \\n106 g CO2/km (comb)\\n]   \n",
       "6285              NaT                      \\n12 months\\n   \n",
       "2291              NaT         [\\n, \\n, \\nEuro 6d-TEMP\\n]   \n",
       "13442             NaT                                NaN   \n",
       "1252              NaT                      \\n24 months\\n   \n",
       "4130              NaT                      \\n24 months\\n   \n",
       "5761              NaT                                NaN   \n",
       "6953              NaT               [\\n, \\n, \\nEuro 6\\n]   \n",
       "10986             NaT                                NaN   \n",
       "13068             NaT            [\\n, \\n, \\n4 (Green)\\n]   \n",
       "\n",
       "                           inspection_new  co_2_emission      emission_class  \n",
       "4622                                  NaN        106.000                 NaN  \n",
       "6285                                  NaN            NaN                 NaN  \n",
       "2291   [\\nYes\\n, \\n111 g CO2/km (comb)\\n]        111.000  [\\nEuro 6d-TEMP\\n]  \n",
       "13442                                 NaN         82.000        [\\nEuro 6\\n]  \n",
       "1252                                  NaN         97.000        [\\nEuro 6\\n]  \n",
       "4130                                  NaN        107.000        [\\nEuro 6\\n]  \n",
       "5761                [\\nYes\\n, \\nEuro 6\\n]        119.000        [\\nEuro 6\\n]  \n",
       "6953    [\\nYes\\n, \\n93 g CO2/km (comb)\\n]         93.000        [\\nEuro 6\\n]  \n",
       "10986                                 NaN        147.000        [\\nEuro 6\\n]  \n",
       "13068               [\\nYes\\n, \\nEuro 6\\n]        120.000        [\\nEuro 6\\n]  "
      ]
     },
     "execution_count": 1806,
     "metadata": {},
     "output_type": "execute_result"
    }
   ],
   "source": [
    "df[[\"next_inspection\",\"warranty\",\"inspection_new\", \"co_2_emission\", \"emission_class\"]].sample(10)"
   ]
  },
  {
   "cell_type": "code",
   "execution_count": null,
   "metadata": {},
   "outputs": [],
   "source": []
  },
  {
   "cell_type": "markdown",
   "metadata": {},
   "source": [
    "### Warranty cleaning\n"
   ]
  },
  {
   "cell_type": "code",
   "execution_count": 1807,
   "metadata": {},
   "outputs": [],
   "source": [
    "df.warranty = [item[0] if type(item) == list else item for item in df[\"warranty\"]]\n",
    "# ## hepsini liste disina cikaracak4\n"
   ]
  },
  {
   "cell_type": "code",
   "execution_count": 1808,
   "metadata": {},
   "outputs": [],
   "source": [
    "df.warranty = df[\"warranty\"].str.strip(\"\\n\")"
   ]
  },
  {
   "cell_type": "code",
   "execution_count": 1809,
   "metadata": {},
   "outputs": [],
   "source": [
    "df.warranty = df[\"warranty\"].str.extract('(\\\\d+)').astype(float)"
   ]
  },
  {
   "cell_type": "code",
   "execution_count": 1810,
   "metadata": {},
   "outputs": [
    {
     "data": {
      "text/plain": [
       "NaN       11066\n",
       "12.000     2594\n",
       "24.000     1118\n",
       "60.000      401\n",
       "36.000      279\n",
       "48.000      149\n",
       "6.000       125\n",
       "72.000       59\n",
       "3.000        33\n",
       "23.000       11\n",
       "18.000       10\n",
       "20.000        7\n",
       "25.000        6\n",
       "2.000         5\n",
       "50.000        4\n",
       "26.000        4\n",
       "16.000        4\n",
       "4.000         3\n",
       "1.000         3\n",
       "19.000        3\n",
       "34.000        3\n",
       "13.000        3\n",
       "28.000        2\n",
       "22.000        2\n",
       "14.000        2\n",
       "11.000        2\n",
       "46.000        2\n",
       "21.000        2\n",
       "9.000         2\n",
       "17.000        2\n",
       "45.000        2\n",
       "33.000        1\n",
       "40.000        1\n",
       "65.000        1\n",
       "10.000        1\n",
       "15.000        1\n",
       "7.000         1\n",
       "8.000         1\n",
       "56.000        1\n",
       "49.000        1\n",
       "47.000        1\n",
       "30.000        1\n",
       "Name: warranty, dtype: int64"
      ]
     },
     "execution_count": 1810,
     "metadata": {},
     "output_type": "execute_result"
    }
   ],
   "source": [
    "df.warranty.value_counts(dropna=False)"
   ]
  },
  {
   "cell_type": "markdown",
   "metadata": {},
   "source": [
    "## Full Service"
   ]
  },
  {
   "cell_type": "code",
   "execution_count": 1811,
   "metadata": {
    "scrolled": true
   },
   "outputs": [
    {
     "data": {
      "text/plain": [
       "[\\n, \\n, \\n4 (Green)\\n]                                                                       2235\n",
       "[\\n, \\n, \\nEuro 6\\n]                                                                          2097\n",
       "[\\n, \\n]                                                                                      1702\n",
       "[\\n, \\n, \\nEuro 6d-TEMP\\n]                                                                     399\n",
       "\\n                                                                                             283\n",
       "[\\n, \\n, \\n120 g CO2/km (comb)\\n]                                                              105\n",
       "[\\n, \\n, \\n126 g CO2/km (comb)\\n]                                                               84\n",
       "[\\n, \\n, \\n104 g CO2/km (comb)\\n]                                                               77\n",
       "[\\n, \\n, \\n97 g CO2/km (comb)\\n]                                                                76\n",
       "[\\n, \\n, \\n124 g CO2/km (comb)\\n]                                                               61\n",
       "[\\n, \\n, \\n99 g CO2/km (comb)\\n]                                                                60\n",
       "[\\n, \\n, \\n128 g CO2/km (comb)\\n]                                                               53\n",
       "[\\n, \\n, \\n119 g CO2/km (comb)\\n]                                                               49\n",
       "[\\n, \\n, \\n140 g CO2/km (comb)\\n]                                                               39\n",
       "[\\n, \\n, \\n106 g CO2/km (comb)\\n]                                                               38\n",
       "[\\n, \\n, \\n92 g CO2/km (comb)\\n]                                                                33\n",
       "[\\n, \\n, \\n107 g CO2/km (comb)\\n]                                                               32\n",
       "[\\n, \\n, \\n114 g CO2/km (comb)\\n]                                                               31\n",
       "[\\n, \\n, \\n103 g CO2/km (comb)\\n]                                                               29\n",
       "[\\n, \\n, \\n1 (No sticker)\\n]                                                                    29\n",
       "[\\n, \\n, \\n102 g CO2/km (comb)\\n]                                                               29\n",
       "[\\n, \\n, \\nEuro 6c\\n]                                                                           28\n",
       "[\\n, \\n, \\n139 g CO2/km (comb)\\n]                                                               24\n",
       "[\\n, \\n, \\n117 g CO2/km (comb)\\n]                                                               24\n",
       "[\\n, \\n, \\n127 g CO2/km (comb)\\n]                                                               23\n",
       "[\\n, \\n, \\n141 g CO2/km (comb)\\n]                                                               22\n",
       "[\\n, \\n, \\n136 g CO2/km (comb)\\n]                                                               20\n",
       "[\\n, \\n, \\n125 g CO2/km (comb)\\n]                                                               20\n",
       "[\\n, \\n, \\n85 g CO2/km (comb)\\n]                                                                20\n",
       "[\\n, \\n, \\n108 g CO2/km (comb)\\n]                                                               19\n",
       "[\\n, \\n, \\n112 g CO2/km (comb)\\n]                                                               18\n",
       "[\\n, \\n, \\n5 (Blue)\\n]                                                                          17\n",
       "[\\n, \\n, \\n109 g CO2/km (comb)\\n]                                                               17\n",
       "[\\n, \\n, \\n129 g CO2/km (comb)\\n]                                                               16\n",
       "[\\n, \\n, \\n150 g CO2/km (comb)\\n]                                                               16\n",
       "[\\n, \\n, \\n113 g CO2/km (comb)\\n]                                                               15\n",
       "[\\n, \\n, \\n130 g CO2/km (comb)\\n]                                                               15\n",
       "[\\n, \\n, \\n133 g CO2/km (comb)\\n]                                                               15\n",
       "[\\n, \\n, \\n154 g CO2/km (comb)\\n]                                                               15\n",
       "[\\n, \\n, \\n135 g CO2/km (comb)\\n]                                                               14\n",
       "[\\n, \\n, \\n116 g CO2/km (comb)\\n]                                                               13\n",
       "[\\n, \\n, \\n110 g CO2/km (comb)\\n]                                                               13\n",
       "[\\n, \\n, \\n123 g CO2/km (comb)\\n]                                                               12\n",
       "[\\n, \\n, \\n143 g CO2/km (comb)\\n]                                                               12\n",
       "[\\n, \\n, \\n137 g CO2/km (comb)\\n]                                                               12\n",
       "[\\n, \\n, \\n105 g CO2/km (comb)\\n]                                                               11\n",
       "[\\n, \\n, \\nEuro 6d\\n]                                                                           11\n",
       "[\\n, \\n, \\n118 g CO2/km (comb)\\n]                                                               10\n",
       "[\\n, \\n, \\n95 g CO2/km (comb)\\n]                                                                10\n",
       "[\\n, \\n, \\n132 g CO2/km (comb)\\n]                                                               10\n",
       "[\\n, \\n, \\n101 g CO2/km (comb)\\n]                                                               10\n",
       "[\\n, \\n, \\n147 g CO2/km (comb)\\n]                                                                9\n",
       "[\\n, \\n, \\n111 g CO2/km (comb)\\n]                                                                9\n",
       "[\\n, \\n, \\n149 g CO2/km (comb)\\n]                                                                9\n",
       "[\\n, \\n, \\n91 g CO2/km (comb)\\n]                                                                 9\n",
       "[\\n, \\n, \\nEuro 5\\n]                                                                             8\n",
       "[\\n, \\n, \\n145 g CO2/km (comb)\\n]                                                                8\n",
       "[\\n, \\n, \\n121 g CO2/km (comb)\\n]                                                                7\n",
       "[\\n, \\n, \\n96 g CO2/km (comb)\\n]                                                                 6\n",
       "[\\n, \\n, \\n82 g CO2/km (comb)\\n]                                                                 5\n",
       "[\\n, \\n, \\n142 g CO2/km (comb)\\n]                                                                5\n",
       "[\\n, \\n, \\n134 g CO2/km (comb)\\n]                                                                5\n",
       "[\\n, \\n, \\n138 g CO2/km (comb)\\n]                                                                5\n",
       "[\\n, \\n, \\n131 g CO2/km (comb)\\n]                                                                4\n",
       "[\\n, \\n, \\n189 g CO2/km (comb)\\n]                                                                4\n",
       "[\\n, \\n, \\n89 g CO2/km (comb)\\n]                                                                 4\n",
       "[\\n, \\n, \\n148 g CO2/km (comb)\\n]                                                                4\n",
       "[\\n, \\n, \\n, 6.6 l/100 km (comb), \\n, 8.2 l/100 km (city), \\n, 5.6 l/100 km (country), \\n]       3\n",
       "[\\n, \\n, \\n, 4.9 l/100 km (comb), \\n, 6 l/100 km (city), \\n, 4.2 l/100 km (country), \\n]         3\n",
       "[\\n, \\n, \\n153 g CO2/km (comb)\\n]                                                                3\n",
       "[\\n, \\n, \\n98 g CO2/km (comb)\\n]                                                                 3\n",
       "[\\n, \\n, \\n115 g CO2/km (comb)\\n]                                                                3\n",
       "[\\n, \\n, \\n152 g CO2/km (comb)\\n]                                                                3\n",
       "[\\n, \\n, \\n122 g CO2/km (comb)\\n]                                                                3\n",
       "[\\n, \\n, \\n94 g CO2/km (comb)\\n]                                                                 3\n",
       "[\\n, \\n, \\n151 g CO2/km (comb)\\n]                                                                3\n",
       "[\\n, \\n, \\n, 5.4 l/100 km (comb), \\n, \\n, \\n]                                                    2\n",
       "[\\n, \\n, \\n, 6.3 l/100 km (comb), \\n, 7.8 l/100 km (city), \\n, 5.4 l/100 km (country), \\n]       2\n",
       "[\\n, \\n, \\n169 g CO2/km (comb)\\n]                                                                2\n",
       "[\\n, \\n, \\n166 g CO2/km (comb)\\n]                                                                2\n",
       "[\\n, \\n, \\n, 5.4 l/100 km (comb), \\n, 6.7 l/100 km (city), \\n, 4.6 l/100 km (country), \\n]       2\n",
       "[\\n, \\n, \\n157 g CO2/km (comb)\\n]                                                                2\n",
       "[\\n, \\n, \\n, 5.7 l/100 km (comb), \\n, 7.2 l/100 km (city), \\n, 4.8 l/100 km (country), \\n]       2\n",
       "[\\n, \\n, \\n93 g CO2/km (comb)\\n]                                                                 2\n",
       "[\\n, \\n, \\n, 5.9 l/100 km (comb), \\n, 7.8 l/100 km (city), \\n, 4.8 l/100 km (country), \\n]       2\n",
       "[\\n, \\n, \\n0 kWh/100 km (comb)\\n]                                                                2\n",
       "[\\n, \\n, \\n, 4.8 l/100 km (comb), \\n, 5.9 l/100 km (city), \\n, 4.2 l/100 km (country), \\n]       2\n",
       "[\\n, \\n, \\n, 4.4 l/100 km (comb), \\n, 5.2 l/100 km (city), \\n, 3.9 l/100 km (country), \\n]       2\n",
       "[\\n, \\n, \\n188 g CO2/km (comb)\\n]                                                                2\n",
       "[\\n, \\n, \\n90 g CO2/km (comb)\\n]                                                                 2\n",
       "[\\n, \\n, \\n88 g CO2/km (comb)\\n]                                                                 2\n",
       "[\\n, \\n, \\n, 5.7 l/100 km (comb), \\n, 7.3 l/100 km (city), \\n, 4.8 l/100 km (country), \\n]       2\n",
       "[\\n, \\n, \\n146 g CO2/km (comb)\\n]                                                                2\n",
       "[\\n, \\n, \\n144 g CO2/km (comb)\\n]                                                                2\n",
       "[\\n, \\n, \\n164 g CO2/km (comb)\\n]                                                                1\n",
       "[\\n, \\n, \\n159 g CO2/km (comb)\\n]                                                                1\n",
       "[\\n, \\n, \\n, 5.9 l/100 km (comb), \\n, 7.6 l/100 km (city), \\n, 4.9 l/100 km (country), \\n]       1\n",
       "[\\n, \\n, \\n253 g CO2/km (comb)\\n]                                                                1\n",
       "[\\n, \\n, \\n, 6.6 l/100 km (comb), \\n, 8.4 l/100 km (city), \\n, 5.6 l/100 km (country), \\n]       1\n",
       "[\\n, \\n, \\n, 6.6 l/100 km (comb), \\n, 8.3 l/100 km (city), \\n, 5.6 l/100 km (country), \\n]       1\n",
       "[\\n, \\n, \\n, 5.9 l/100 km (comb), \\n, 7.6 l/100 km (city), \\n, 5.1 l/100 km (country), \\n]       1\n",
       "[\\n, \\n, \\n197 g CO2/km (comb)\\n]                                                                1\n",
       "[\\n, \\n, \\n13,983 g CO2/km (comb)\\n]                                                             1\n",
       "[\\n, \\n, \\n, 6.5 l/100 km (comb), \\n, 8.1 l/100 km (city), \\n, 5.5 l/100 km (country), \\n]       1\n",
       "[\\n, \\n, \\n, 5.4 l/100 km (comb), \\n, 7 l/100 km (city), \\n, 4.5 l/100 km (country), \\n]         1\n",
       "[\\n, \\n, \\n156 g CO2/km (comb)\\n]                                                                1\n",
       "[\\n, \\n, \\n80 g CO2/km (comb)\\n]                                                                 1\n",
       "[\\n, \\n, \\n, 4.6 l/100 km (comb), \\n, 5.8 l/100 km (city), \\n, 3.9 l/100 km (country), \\n]       1\n",
       "[\\n, \\n, \\n, 5.4 l/100 km (comb), \\n, 7.3 l/100 km (city), \\n, 4.2 l/100 km (country), \\n]       1\n",
       "[\\n, \\n, \\n, 4.3 l/100 km (comb), \\n, 5.2 l/100 km (city), \\n, 3.9 l/100 km (country), \\n]       1\n",
       "[\\n, \\n, \\n, 5.8 l/100 km (comb), \\n, 7.4 l/100 km (city), \\n, 4.9 l/100 km (country), \\n]       1\n",
       "[\\n, \\n, \\n, 5.5 l/100 km (comb), \\n, 7.2 l/100 km (city), \\n, 4.5 l/100 km (country), \\n]       1\n",
       "[\\n, \\n, \\n, 6 l/100 km (comb), \\n, 7.5 l/100 km (city), \\n, 5.2 l/100 km (country), \\n]         1\n",
       "[\\n, \\n, \\n, 4.7 l/100 km (comb), \\n, 5.4 l/100 km (city), \\n, 4.2 l/100 km (country), \\n]       1\n",
       "[\\n, \\n, \\n, 6.2 l/100 km (comb), \\n, 7.7 l/100 km (city), \\n, 5.4 l/100 km (country), \\n]       1\n",
       "[\\n, \\n, \\n, 5 l/100 km (comb), \\n, 5.9 l/100 km (city), \\n, 4.5 l/100 km (country), \\n]         1\n",
       "[\\n, \\n, \\n, 4.9 l/100 km (comb), \\n, 6.2 l/100 km (city), \\n, 4.1 l/100 km (country), \\n]       1\n",
       "[\\n, \\n, \\n, 6 l/100 km (comb), \\n, 8 l/100 km (city), \\n, 4.9 l/100 km (country), \\n]           1\n",
       "[\\n, \\n, \\n84 g CO2/km (comb)\\n]                                                                 1\n",
       "[\\n, \\n, \\n87 g CO2/km (comb)\\n]                                                                 1\n",
       "[\\n, \\n, \\n, 5.7 l/100 km (comb), \\n, 7.3 l/100 km (city), \\n, 4.9 l/100 km (country), \\n]       1\n",
       "[\\n, \\n, \\nEuro 4\\n]                                                                             1\n",
       "Name: full_service, dtype: int64"
      ]
     },
     "execution_count": 1811,
     "metadata": {},
     "output_type": "execute_result"
    }
   ],
   "source": [
    "df['full_service'].value_counts()"
   ]
  },
  {
   "cell_type": "code",
   "execution_count": 1812,
   "metadata": {},
   "outputs": [
    {
     "data": {
      "text/html": [
       "<div>\n",
       "<style scoped>\n",
       "    .dataframe tbody tr th:only-of-type {\n",
       "        vertical-align: middle;\n",
       "    }\n",
       "\n",
       "    .dataframe tbody tr th {\n",
       "        vertical-align: top;\n",
       "    }\n",
       "\n",
       "    .dataframe thead th {\n",
       "        text-align: right;\n",
       "    }\n",
       "</style>\n",
       "<table border=\"1\" class=\"dataframe\">\n",
       "  <thead>\n",
       "    <tr style=\"text-align: right;\">\n",
       "      <th></th>\n",
       "      <th>full_service</th>\n",
       "      <th>warranty</th>\n",
       "      <th>inspection_new</th>\n",
       "      <th>co_2_emission</th>\n",
       "      <th>emission_class</th>\n",
       "      <th>emission_label</th>\n",
       "    </tr>\n",
       "  </thead>\n",
       "  <tbody>\n",
       "    <tr>\n",
       "      <th>14169</th>\n",
       "      <td>[\\n, \\n, \\nEuro 6\\n]</td>\n",
       "      <td>NaN</td>\n",
       "      <td>NaN</td>\n",
       "      <td>127.000</td>\n",
       "      <td>[\\nEuro 6\\n]</td>\n",
       "      <td>NaN</td>\n",
       "    </tr>\n",
       "    <tr>\n",
       "      <th>9268</th>\n",
       "      <td>NaN</td>\n",
       "      <td>12.000</td>\n",
       "      <td>NaN</td>\n",
       "      <td>110.000</td>\n",
       "      <td>[\\nEuro 6\\n]</td>\n",
       "      <td>NaN</td>\n",
       "    </tr>\n",
       "    <tr>\n",
       "      <th>11352</th>\n",
       "      <td>[\\n, \\n]</td>\n",
       "      <td>NaN</td>\n",
       "      <td>[\\nYes\\n, \\nEuro 6d-TEMP\\n]</td>\n",
       "      <td>141.000</td>\n",
       "      <td>[\\nEuro 6d-TEMP\\n]</td>\n",
       "      <td>NaN</td>\n",
       "    </tr>\n",
       "    <tr>\n",
       "      <th>7235</th>\n",
       "      <td>[\\n, \\n, \\n124 g CO2/km (comb)\\n]</td>\n",
       "      <td>NaN</td>\n",
       "      <td>NaN</td>\n",
       "      <td>124.000</td>\n",
       "      <td>NaN</td>\n",
       "      <td>NaN</td>\n",
       "    </tr>\n",
       "    <tr>\n",
       "      <th>15187</th>\n",
       "      <td>\\n</td>\n",
       "      <td>NaN</td>\n",
       "      <td>NaN</td>\n",
       "      <td>120.000</td>\n",
       "      <td>[\\nEuro 6\\n]</td>\n",
       "      <td>NaN</td>\n",
       "    </tr>\n",
       "    <tr>\n",
       "      <th>10588</th>\n",
       "      <td>[\\n, \\n, \\n4 (Green)\\n]</td>\n",
       "      <td>NaN</td>\n",
       "      <td>NaN</td>\n",
       "      <td>132.000</td>\n",
       "      <td>[\\nEuro 6\\n]</td>\n",
       "      <td>NaN</td>\n",
       "    </tr>\n",
       "    <tr>\n",
       "      <th>4903</th>\n",
       "      <td>NaN</td>\n",
       "      <td>NaN</td>\n",
       "      <td>NaN</td>\n",
       "      <td>106.000</td>\n",
       "      <td>[\\nEuro 6\\n]</td>\n",
       "      <td>NaN</td>\n",
       "    </tr>\n",
       "    <tr>\n",
       "      <th>4470</th>\n",
       "      <td>NaN</td>\n",
       "      <td>24.000</td>\n",
       "      <td>NaN</td>\n",
       "      <td>108.000</td>\n",
       "      <td>[\\nEuro 6\\n]</td>\n",
       "      <td>NaN</td>\n",
       "    </tr>\n",
       "    <tr>\n",
       "      <th>9801</th>\n",
       "      <td>[\\n, \\n, \\nEuro 6\\n]</td>\n",
       "      <td>NaN</td>\n",
       "      <td>NaN</td>\n",
       "      <td>120.000</td>\n",
       "      <td>[\\nEuro 6\\n]</td>\n",
       "      <td>NaN</td>\n",
       "    </tr>\n",
       "    <tr>\n",
       "      <th>15095</th>\n",
       "      <td>[\\n, \\n]</td>\n",
       "      <td>33.000</td>\n",
       "      <td>NaN</td>\n",
       "      <td>120.000</td>\n",
       "      <td>[\\nEuro 6\\n]</td>\n",
       "      <td>NaN</td>\n",
       "    </tr>\n",
       "    <tr>\n",
       "      <th>13673</th>\n",
       "      <td>NaN</td>\n",
       "      <td>NaN</td>\n",
       "      <td>NaN</td>\n",
       "      <td>98.000</td>\n",
       "      <td>[\\nEuro 6\\n]</td>\n",
       "      <td>NaN</td>\n",
       "    </tr>\n",
       "    <tr>\n",
       "      <th>6898</th>\n",
       "      <td>[\\n, \\n, \\n4 (Green)\\n]</td>\n",
       "      <td>12.000</td>\n",
       "      <td>NaN</td>\n",
       "      <td>102.000</td>\n",
       "      <td>[\\nEuro 6\\n]</td>\n",
       "      <td>NaN</td>\n",
       "    </tr>\n",
       "    <tr>\n",
       "      <th>9834</th>\n",
       "      <td>NaN</td>\n",
       "      <td>NaN</td>\n",
       "      <td>NaN</td>\n",
       "      <td>123.000</td>\n",
       "      <td>[\\nEuro 6\\n]</td>\n",
       "      <td>[\\n4 (Green)\\n]</td>\n",
       "    </tr>\n",
       "    <tr>\n",
       "      <th>6410</th>\n",
       "      <td>[\\n, \\n]</td>\n",
       "      <td>NaN</td>\n",
       "      <td>[\\nYes\\n, \\n119 g CO2/km (comb)\\n]</td>\n",
       "      <td>119.000</td>\n",
       "      <td>[\\nEuro 6\\n]</td>\n",
       "      <td>NaN</td>\n",
       "    </tr>\n",
       "    <tr>\n",
       "      <th>11873</th>\n",
       "      <td>[\\n, \\n, \\n4 (Green)\\n]</td>\n",
       "      <td>NaN</td>\n",
       "      <td>[\\nYes\\n, \\n119 g CO2/km (comb)\\n]</td>\n",
       "      <td>119.000</td>\n",
       "      <td>[\\nEuro 6\\n]</td>\n",
       "      <td>NaN</td>\n",
       "    </tr>\n",
       "  </tbody>\n",
       "</table>\n",
       "</div>"
      ],
      "text/plain": [
       "                            full_service  warranty  \\\n",
       "14169               [\\n, \\n, \\nEuro 6\\n]       NaN   \n",
       "9268                                 NaN    12.000   \n",
       "11352                           [\\n, \\n]       NaN   \n",
       "7235   [\\n, \\n, \\n124 g CO2/km (comb)\\n]       NaN   \n",
       "15187                                 \\n       NaN   \n",
       "10588            [\\n, \\n, \\n4 (Green)\\n]       NaN   \n",
       "4903                                 NaN       NaN   \n",
       "4470                                 NaN    24.000   \n",
       "9801                [\\n, \\n, \\nEuro 6\\n]       NaN   \n",
       "15095                           [\\n, \\n]    33.000   \n",
       "13673                                NaN       NaN   \n",
       "6898             [\\n, \\n, \\n4 (Green)\\n]    12.000   \n",
       "9834                                 NaN       NaN   \n",
       "6410                            [\\n, \\n]       NaN   \n",
       "11873            [\\n, \\n, \\n4 (Green)\\n]       NaN   \n",
       "\n",
       "                           inspection_new  co_2_emission      emission_class  \\\n",
       "14169                                 NaN        127.000        [\\nEuro 6\\n]   \n",
       "9268                                  NaN        110.000        [\\nEuro 6\\n]   \n",
       "11352         [\\nYes\\n, \\nEuro 6d-TEMP\\n]        141.000  [\\nEuro 6d-TEMP\\n]   \n",
       "7235                                  NaN        124.000                 NaN   \n",
       "15187                                 NaN        120.000        [\\nEuro 6\\n]   \n",
       "10588                                 NaN        132.000        [\\nEuro 6\\n]   \n",
       "4903                                  NaN        106.000        [\\nEuro 6\\n]   \n",
       "4470                                  NaN        108.000        [\\nEuro 6\\n]   \n",
       "9801                                  NaN        120.000        [\\nEuro 6\\n]   \n",
       "15095                                 NaN        120.000        [\\nEuro 6\\n]   \n",
       "13673                                 NaN         98.000        [\\nEuro 6\\n]   \n",
       "6898                                  NaN        102.000        [\\nEuro 6\\n]   \n",
       "9834                                  NaN        123.000        [\\nEuro 6\\n]   \n",
       "6410   [\\nYes\\n, \\n119 g CO2/km (comb)\\n]        119.000        [\\nEuro 6\\n]   \n",
       "11873  [\\nYes\\n, \\n119 g CO2/km (comb)\\n]        119.000        [\\nEuro 6\\n]   \n",
       "\n",
       "        emission_label  \n",
       "14169              NaN  \n",
       "9268               NaN  \n",
       "11352              NaN  \n",
       "7235               NaN  \n",
       "15187              NaN  \n",
       "10588              NaN  \n",
       "4903               NaN  \n",
       "4470               NaN  \n",
       "9801               NaN  \n",
       "15095              NaN  \n",
       "13673              NaN  \n",
       "6898               NaN  \n",
       "9834   [\\n4 (Green)\\n]  \n",
       "6410               NaN  \n",
       "11873              NaN  "
      ]
     },
     "execution_count": 1812,
     "metadata": {},
     "output_type": "execute_result"
    }
   ],
   "source": [
    "df[[\"full_service\",\"warranty\",\"inspection_new\", \"co_2_emission\", \"emission_class\",\"emission_label\"]].sample(15)"
   ]
  },
  {
   "cell_type": "markdown",
   "metadata": {},
   "source": [
    "## Non-smoking Vehicle"
   ]
  },
  {
   "cell_type": "code",
   "execution_count": 1813,
   "metadata": {
    "scrolled": true
   },
   "outputs": [
    {
     "data": {
      "text/plain": [
       "[\\n, \\n]                                                                                      3647\n",
       "[\\n, \\n, \\n4 (Green)\\n]                                                                       1240\n",
       "[\\n, \\n, \\nEuro 6\\n]                                                                          1127\n",
       "[\\n, \\n, \\nEuro 6d-TEMP\\n]                                                                     345\n",
       "\\n                                                                                              70\n",
       "[\\n, \\n, \\n120 g CO2/km (comb)\\n]                                                               63\n",
       "[\\n, \\n, \\n85 g CO2/km (comb)\\n]                                                                46\n",
       "[\\n, \\n, \\n104 g CO2/km (comb)\\n]                                                               36\n",
       "[\\n, \\n, \\n107 g CO2/km (comb)\\n]                                                               36\n",
       "[\\n, \\n, \\n153 g CO2/km (comb)\\n]                                                               31\n",
       "[\\n, \\n, \\n124 g CO2/km (comb)\\n]                                                               29\n",
       "[\\n, \\n, \\n1 (No sticker)\\n]                                                                    24\n",
       "[\\n, \\n, \\n99 g CO2/km (comb)\\n]                                                                23\n",
       "[\\n, \\n, \\n106 g CO2/km (comb)\\n]                                                               20\n",
       "[\\n, \\n, \\n97 g CO2/km (comb)\\n]                                                                20\n",
       "[\\n, \\n, \\n108 g CO2/km (comb)\\n]                                                               19\n",
       "[\\n, \\n, \\n100 g CO2/km (comb)\\n]                                                               18\n",
       "[\\n, \\n, \\n109 g CO2/km (comb)\\n]                                                               18\n",
       "[\\n, \\n, \\n113 g CO2/km (comb)\\n]                                                               18\n",
       "[\\n, \\n, \\n105 g CO2/km (comb)\\n]                                                               18\n",
       "[\\n, \\n, \\nEuro 6c\\n]                                                                           17\n",
       "[\\n, \\n, \\n98 g CO2/km (comb)\\n]                                                                15\n",
       "[\\n, \\n, \\n129 g CO2/km (comb)\\n]                                                               14\n",
       "[\\n, \\n, \\n131 g CO2/km (comb)\\n]                                                               13\n",
       "[\\n, \\n, \\n133 g CO2/km (comb)\\n]                                                               12\n",
       "[\\n, \\n, \\n103 g CO2/km (comb)\\n]                                                               12\n",
       "[\\n, \\n, \\n114 g CO2/km (comb)\\n]                                                               12\n",
       "[\\n, \\n, \\n135 g CO2/km (comb)\\n]                                                               11\n",
       "[\\n, \\n, \\n116 g CO2/km (comb)\\n]                                                               11\n",
       "[\\n, \\n, \\n102 g CO2/km (comb)\\n]                                                               11\n",
       "[\\n, \\n, \\n143 g CO2/km (comb)\\n]                                                               10\n",
       "[\\n, \\n, \\n127 g CO2/km (comb)\\n]                                                               10\n",
       "[\\n, \\n, \\nEuro 6d\\n]                                                                            9\n",
       "[\\n, \\n, \\n92 g CO2/km (comb)\\n]                                                                 9\n",
       "[\\n, \\n, \\n112 g CO2/km (comb)\\n]                                                                9\n",
       "[\\n, \\n, \\n5 (Blue)\\n]                                                                           8\n",
       "[\\n, \\n, \\n118 g CO2/km (comb)\\n]                                                                8\n",
       "[\\n, \\n, \\n147 g CO2/km (comb)\\n]                                                                7\n",
       "[\\n, \\n, \\n128 g CO2/km (comb)\\n]                                                                7\n",
       "[\\n, \\n, \\n139 g CO2/km (comb)\\n]                                                                7\n",
       "[\\n, \\n, \\n140 g CO2/km (comb)\\n]                                                                6\n",
       "[\\n, \\n, \\n137 g CO2/km (comb)\\n]                                                                6\n",
       "[\\n, \\n, \\n117 g CO2/km (comb)\\n]                                                                6\n",
       "[\\n, \\n, \\n126 g CO2/km (comb)\\n]                                                                6\n",
       "[\\n, \\n, \\n130 g CO2/km (comb)\\n]                                                                5\n",
       "[\\n, \\n, \\n115 g CO2/km (comb)\\n]                                                                5\n",
       "[\\n, \\n, \\n, 5.2 l/100 km (comb), \\n, 5.8 l/100 km (city), \\n, 4.8 l/100 km (country), \\n]       4\n",
       "[\\n, \\n, \\n123 g CO2/km (comb)\\n]                                                                4\n",
       "[\\n, \\n, \\nEuro 5\\n]                                                                             4\n",
       "[\\n, \\n, \\n151 g CO2/km (comb)\\n]                                                                4\n",
       "[\\n, \\n, \\n136 g CO2/km (comb)\\n]                                                                3\n",
       "[\\n, \\n, \\n110 g CO2/km (comb)\\n]                                                                3\n",
       "[\\n, \\n, \\n148 g CO2/km (comb)\\n]                                                                3\n",
       "[\\n, \\n, \\n157 g CO2/km (comb)\\n]                                                                3\n",
       "[\\n, \\n, \\n95 g CO2/km (comb)\\n]                                                                 3\n",
       "[\\n, \\n, \\n119 g CO2/km (comb)\\n]                                                                3\n",
       "[\\n, \\n, \\n149 g CO2/km (comb)\\n]                                                                3\n",
       "[\\n, \\n, \\n166 g CO2/km (comb)\\n]                                                                2\n",
       "[\\n, \\n, \\n138 g CO2/km (comb)\\n]                                                                2\n",
       "[\\n, \\n, \\n121 g CO2/km (comb)\\n]                                                                2\n",
       "[\\n, \\n, \\n111 g CO2/km (comb)\\n]                                                                2\n",
       "[\\n, \\n, \\n90 g CO2/km (comb)\\n]                                                                 2\n",
       "[\\n, \\n, \\n142 g CO2/km (comb)\\n]                                                                2\n",
       "[\\n, \\n, \\n125 g CO2/km (comb)\\n]                                                                2\n",
       "[\\n, \\n, \\n134 g CO2/km (comb)\\n]                                                                2\n",
       "[\\n, \\n, \\n, 5.2 l/100 km (comb), \\n, 6.4 l/100 km (city), \\n, 4.4 l/100 km (country), \\n]       2\n",
       "[\\n, \\n, \\n, 6.5 l/100 km (comb), \\n, 8.5 l/100 km (city), \\n, 5.4 l/100 km (country), \\n]       1\n",
       "[\\n, \\n, \\n146 g CO2/km (comb)\\n]                                                                1\n",
       "[\\n, \\n, \\n189 g CO2/km (comb)\\n]                                                                1\n",
       "[\\n, \\n, \\n, 6.1 l/100 km (comb), \\n, 7.7 l/100 km (city), \\n, 5.2 l/100 km (country), \\n]       1\n",
       "[\\n, \\n, \\n, 6.3 l/100 km (comb), \\n, 8 l/100 km (city), \\n, 5.3 l/100 km (country), \\n]         1\n",
       "[\\n, \\n, \\n154 g CO2/km (comb)\\n]                                                                1\n",
       "[\\n, \\n, \\n, 6.5 l/100 km (comb), \\n, 7.9 l/100 km (city), \\n, 5.6 l/100 km (country), \\n]       1\n",
       "[\\n, \\n, \\n, 6.4 l/100 km (comb), \\n, 8.1 l/100 km (city), \\n, 5.4 l/100 km (country), \\n]       1\n",
       "[\\n, \\n, \\n122 g CO2/km (comb)\\n]                                                                1\n",
       "[\\n, \\n, \\n82 g CO2/km (comb)\\n]                                                                 1\n",
       "[\\n, \\n, \\n, 1.6 l/100 km (comb), \\n, \\n, \\n]                                                    1\n",
       "[\\n, \\n, \\n172 g CO2/km (comb)\\n]                                                                1\n",
       "[\\n, \\n, \\n161 g CO2/km (comb)\\n]                                                                1\n",
       "[\\n, \\n, \\n156 g CO2/km (comb)\\n]                                                                1\n",
       "[\\n, \\n, \\n169 g CO2/km (comb)\\n]                                                                1\n",
       "[\\n, \\n, \\n, 6.1 l/100 km (comb), \\n, 7.8 l/100 km (city), \\n, 5.1 l/100 km (country), \\n]       1\n",
       "[\\n, \\n, \\n152 g CO2/km (comb)\\n]                                                                1\n",
       "[\\n, \\n, \\n144 g CO2/km (comb)\\n]                                                                1\n",
       "[\\n, \\n, \\n132 g CO2/km (comb)\\n]                                                                1\n",
       "[\\n, \\n, \\n159 g CO2/km (comb)\\n]                                                                1\n",
       "[\\n, \\n, \\n, 5.6 l/100 km (comb), \\n, 7.3 l/100 km (city), \\n, 4.7 l/100 km (country), \\n]       1\n",
       "[\\n, \\n, \\n158 g CO2/km (comb)\\n]                                                                1\n",
       "[\\n, \\n, \\n150 g CO2/km (comb)\\n]                                                                1\n",
       "[\\n, \\n, \\n, 6.2 l/100 km (comb), \\n, 7.9 l/100 km (city), \\n, 5.3 l/100 km (country), \\n]       1\n",
       "[\\n, \\n, \\n91 g CO2/km (comb)\\n]                                                                 1\n",
       "[\\n, \\n, \\n101 g CO2/km (comb)\\n]                                                                1\n",
       "[\\n, \\n, \\n, 5.7 l/100 km (comb), \\n, 7.3 l/100 km (city), \\n, 4.7 l/100 km (country), \\n]       1\n",
       "[\\n, \\n, \\n175 g CO2/km (comb)\\n]                                                                1\n",
       "Name: non_smoking_vehicle, dtype: int64"
      ]
     },
     "execution_count": 1813,
     "metadata": {},
     "output_type": "execute_result"
    }
   ],
   "source": [
    "df['non_smoking_vehicle'].value_counts()"
   ]
  },
  {
   "cell_type": "code",
   "execution_count": 1814,
   "metadata": {},
   "outputs": [
    {
     "data": {
      "text/plain": [
       "8742"
      ]
     },
     "execution_count": 1814,
     "metadata": {},
     "output_type": "execute_result"
    }
   ],
   "source": [
    "df['non_smoking_vehicle'].isnull().sum() "
   ]
  },
  {
   "cell_type": "code",
   "execution_count": null,
   "metadata": {},
   "outputs": [],
   "source": []
  },
  {
   "cell_type": "markdown",
   "metadata": {},
   "source": [
    "## Offer Number"
   ]
  },
  {
   "cell_type": "code",
   "execution_count": 1815,
   "metadata": {},
   "outputs": [
    {
     "data": {
      "text/plain": [
       "NaN                                               3175\n",
       "[\\nLT67679\\n]                                       27\n",
       "[\\nUN89904\\n]                                       27\n",
       "[\\nXJ38068\\n]                                       27\n",
       "[\\nJV03654\\n]                                       27\n",
       "                                                  ... \n",
       "[\\n160_dcbb6c3e-a6da-43a3-8754-ccd994cec93b\\n]       1\n",
       "[\\n6701576\\n]                                        1\n",
       "[\\n6701569\\n]                                        1\n",
       "[\\n158121\\n]                                         1\n",
       "[\\nRe_30000008029\\n]                                 1\n",
       "Name: offer_number, Length: 11441, dtype: int64"
      ]
     },
     "execution_count": 1815,
     "metadata": {},
     "output_type": "execute_result"
    }
   ],
   "source": [
    "df[\"offer_number\"].value_counts(dropna=False)"
   ]
  },
  {
   "cell_type": "code",
   "execution_count": 1816,
   "metadata": {},
   "outputs": [
    {
     "data": {
      "text/plain": [
       "3175"
      ]
     },
     "execution_count": 1816,
     "metadata": {},
     "output_type": "execute_result"
    }
   ],
   "source": [
    "df[\"offer_number\"].isnull().sum() "
   ]
  },
  {
   "cell_type": "markdown",
   "metadata": {},
   "source": [
    "## Body Color vs Paint Type"
   ]
  },
  {
   "cell_type": "code",
   "execution_count": 1817,
   "metadata": {},
   "outputs": [
    {
     "data": {
      "text/plain": [
       "[\\n, Black, \\n]     3745\n",
       "[\\n, Grey, \\n]      3505\n",
       "[\\n, White, \\n]     3406\n",
       "[\\n, Silver, \\n]    1647\n",
       "[\\n, Blue, \\n]      1431\n",
       "[\\n, Red, \\n]        957\n",
       "[\\n, Brown, \\n]      289\n",
       "[\\n, Green, \\n]      154\n",
       "[\\n, Beige, \\n]      108\n",
       "[\\n, Yellow, \\n]      51\n",
       "[\\n, Violet, \\n]      18\n",
       "[\\n, Bronze, \\n]       6\n",
       "[\\n, Orange, \\n]       3\n",
       "[\\n, Gold, \\n]         2\n",
       "Name: body_color, dtype: int64"
      ]
     },
     "execution_count": 1817,
     "metadata": {},
     "output_type": "execute_result"
    }
   ],
   "source": [
    "df[\"body_color\"].value_counts()"
   ]
  },
  {
   "cell_type": "markdown",
   "metadata": {},
   "source": [
    "### body_color cleaning"
   ]
  },
  {
   "cell_type": "code",
   "execution_count": 1818,
   "metadata": {
    "scrolled": true
   },
   "outputs": [
    {
     "data": {
      "text/plain": [
       "0        [\\n, Black, \\n]\n",
       "1          [\\n, Red, \\n]\n",
       "2        [\\n, Black, \\n]\n",
       "3        [\\n, Brown, \\n]\n",
       "4        [\\n, Black, \\n]\n",
       "              ...       \n",
       "15914     [\\n, Grey, \\n]\n",
       "15915     [\\n, Grey, \\n]\n",
       "15916    [\\n, White, \\n]\n",
       "15917     [\\n, Grey, \\n]\n",
       "15918     [\\n, Grey, \\n]\n",
       "Name: body_color, Length: 15919, dtype: object"
      ]
     },
     "execution_count": 1818,
     "metadata": {},
     "output_type": "execute_result"
    }
   ],
   "source": [
    "df.body_color"
   ]
  },
  {
   "cell_type": "code",
   "execution_count": 1819,
   "metadata": {},
   "outputs": [
    {
     "data": {
      "text/plain": [
       "0        Black\n",
       "1          Red\n",
       "2        Black\n",
       "3        Brown\n",
       "4        Black\n",
       "         ...  \n",
       "15914     Grey\n",
       "15915     Grey\n",
       "15916    White\n",
       "15917     Grey\n",
       "15918     Grey\n",
       "Name: body_color, Length: 15919, dtype: object"
      ]
     },
     "execution_count": 1819,
     "metadata": {},
     "output_type": "execute_result"
    }
   ],
   "source": [
    "df.body_color = [item[1] if type(item) == list else item for item in df[\"body_color\"]]\n",
    "# ## hepsini liste disina cikaracak4\n",
    "df.body_color"
   ]
  },
  {
   "cell_type": "code",
   "execution_count": null,
   "metadata": {},
   "outputs": [],
   "source": []
  },
  {
   "cell_type": "code",
   "execution_count": null,
   "metadata": {},
   "outputs": [],
   "source": []
  },
  {
   "cell_type": "code",
   "execution_count": null,
   "metadata": {},
   "outputs": [],
   "source": []
  },
  {
   "cell_type": "code",
   "execution_count": 1532,
   "metadata": {},
   "outputs": [
    {
     "data": {
      "text/plain": [
       "NaN                                    3759\n",
       "[\\nOnyx Schwarz\\n]                      338\n",
       "[\\nBianco\\n]                            282\n",
       "[\\nMythosschwarz Metallic\\n]            238\n",
       "[\\nBrillantschwarz\\n]                   216\n",
       "                                       ... \n",
       "[\\nRouge-Braun (G0Y)\\n]                   1\n",
       "[\\nVARI COLRI DISPONIBILI\\n]              1\n",
       "[\\nKokosnussbraun Metallic\\n]             1\n",
       "[\\nFarbe frei wählbar\\n]                  1\n",
       "[\\nPerlmutt-Weiß Metallic (Weiß)\\n]       1\n",
       "Name: body_color_original, Length: 1928, dtype: int64"
      ]
     },
     "execution_count": 1532,
     "metadata": {},
     "output_type": "execute_result"
    }
   ],
   "source": [
    "df[\"body_color_original\"].value_counts(dropna=False)"
   ]
  },
  {
   "cell_type": "code",
   "execution_count": 1428,
   "metadata": {},
   "outputs": [
    {
     "data": {
      "text/plain": [
       "[\\nMetallic\\n]       9794\n",
       "[\\nUni/basic\\n]       347\n",
       "[\\nPerl effect\\n]       6\n",
       "Name: paint_type, dtype: int64"
      ]
     },
     "execution_count": 1428,
     "metadata": {},
     "output_type": "execute_result"
    }
   ],
   "source": [
    "df[\"paint_type\"].value_counts()"
   ]
  },
  {
   "cell_type": "code",
   "execution_count": 1429,
   "metadata": {},
   "outputs": [
    {
     "data": {
      "text/plain": [
       "body_color              597\n",
       "body_color_original    3759\n",
       "paint_type             5772\n",
       "dtype: int64"
      ]
     },
     "execution_count": 1429,
     "metadata": {},
     "output_type": "execute_result"
    }
   ],
   "source": [
    "df[[\"body_color\",\"body_color_original\",\"paint_type\"]].isnull().sum() "
   ]
  },
  {
   "cell_type": "code",
   "execution_count": 1430,
   "metadata": {},
   "outputs": [
    {
     "data": {
      "text/html": [
       "<div>\n",
       "<style scoped>\n",
       "    .dataframe tbody tr th:only-of-type {\n",
       "        vertical-align: middle;\n",
       "    }\n",
       "\n",
       "    .dataframe tbody tr th {\n",
       "        vertical-align: top;\n",
       "    }\n",
       "\n",
       "    .dataframe thead th {\n",
       "        text-align: right;\n",
       "    }\n",
       "</style>\n",
       "<table border=\"1\" class=\"dataframe\">\n",
       "  <thead>\n",
       "    <tr style=\"text-align: right;\">\n",
       "      <th></th>\n",
       "      <th>body_color</th>\n",
       "      <th>body_color_original</th>\n",
       "      <th>paint_type</th>\n",
       "    </tr>\n",
       "  </thead>\n",
       "  <tbody>\n",
       "    <tr>\n",
       "      <th>4048</th>\n",
       "      <td>[\\n, Black, \\n]</td>\n",
       "      <td>[\\nbeluga brown metallic\\n]</td>\n",
       "      <td>[\\nMetallic\\n]</td>\n",
       "    </tr>\n",
       "    <tr>\n",
       "      <th>6428</th>\n",
       "      <td>[\\n, Grey, \\n]</td>\n",
       "      <td>[\\nGrigio\\n]</td>\n",
       "      <td>[\\nMetallic\\n]</td>\n",
       "    </tr>\n",
       "    <tr>\n",
       "      <th>7744</th>\n",
       "      <td>[\\n, Black, \\n]</td>\n",
       "      <td>[\\nOnyx Schwarz\\n]</td>\n",
       "      <td>[\\nMetallic\\n]</td>\n",
       "    </tr>\n",
       "    <tr>\n",
       "      <th>2921</th>\n",
       "      <td>[\\n, Grey, \\n]</td>\n",
       "      <td>NaN</td>\n",
       "      <td>[\\nMetallic\\n]</td>\n",
       "    </tr>\n",
       "    <tr>\n",
       "      <th>275</th>\n",
       "      <td>[\\n, Black, \\n]</td>\n",
       "      <td>NaN</td>\n",
       "      <td>[\\nMetallic\\n]</td>\n",
       "    </tr>\n",
       "    <tr>\n",
       "      <th>1374</th>\n",
       "      <td>[\\n, Black, \\n]</td>\n",
       "      <td>[\\nBrillantschwarz\\n]</td>\n",
       "      <td>NaN</td>\n",
       "    </tr>\n",
       "    <tr>\n",
       "      <th>8246</th>\n",
       "      <td>[\\n, White, \\n]</td>\n",
       "      <td>[\\nschneeweiss\\n]</td>\n",
       "      <td>NaN</td>\n",
       "    </tr>\n",
       "    <tr>\n",
       "      <th>2043</th>\n",
       "      <td>[\\n, Grey, \\n]</td>\n",
       "      <td>[\\nmanhattangrau\\n]</td>\n",
       "      <td>[\\nMetallic\\n]</td>\n",
       "    </tr>\n",
       "    <tr>\n",
       "      <th>1775</th>\n",
       "      <td>[\\n, Black, \\n]</td>\n",
       "      <td>NaN</td>\n",
       "      <td>NaN</td>\n",
       "    </tr>\n",
       "    <tr>\n",
       "      <th>9788</th>\n",
       "      <td>[\\n, Red, \\n]</td>\n",
       "      <td>[\\nLAVA ROT\\n]</td>\n",
       "      <td>NaN</td>\n",
       "    </tr>\n",
       "  </tbody>\n",
       "</table>\n",
       "</div>"
      ],
      "text/plain": [
       "           body_color          body_color_original      paint_type\n",
       "4048  [\\n, Black, \\n]  [\\nbeluga brown metallic\\n]  [\\nMetallic\\n]\n",
       "6428   [\\n, Grey, \\n]                 [\\nGrigio\\n]  [\\nMetallic\\n]\n",
       "7744  [\\n, Black, \\n]           [\\nOnyx Schwarz\\n]  [\\nMetallic\\n]\n",
       "2921   [\\n, Grey, \\n]                          NaN  [\\nMetallic\\n]\n",
       "275   [\\n, Black, \\n]                          NaN  [\\nMetallic\\n]\n",
       "1374  [\\n, Black, \\n]        [\\nBrillantschwarz\\n]             NaN\n",
       "8246  [\\n, White, \\n]            [\\nschneeweiss\\n]             NaN\n",
       "2043   [\\n, Grey, \\n]          [\\nmanhattangrau\\n]  [\\nMetallic\\n]\n",
       "1775  [\\n, Black, \\n]                          NaN             NaN\n",
       "9788    [\\n, Red, \\n]               [\\nLAVA ROT\\n]             NaN"
      ]
     },
     "execution_count": 1430,
     "metadata": {},
     "output_type": "execute_result"
    }
   ],
   "source": [
    "df[[\"body_color\",\"body_color_original\",\"paint_type\"]].sample(10)"
   ]
  },
  {
   "cell_type": "markdown",
   "metadata": {},
   "source": [
    "## Upholstery"
   ]
  },
  {
   "cell_type": "code",
   "execution_count": 1431,
   "metadata": {},
   "outputs": [
    {
     "data": {
      "text/plain": [
       "3720"
      ]
     },
     "execution_count": 1431,
     "metadata": {},
     "output_type": "execute_result"
    }
   ],
   "source": [
    "df[\"upholstery\"].isnull().sum() "
   ]
  },
  {
   "cell_type": "code",
   "execution_count": 1432,
   "metadata": {},
   "outputs": [
    {
     "data": {
      "text/plain": [
       "[\\nCloth, Black\\n]           5821\n",
       "[\\nPart leather, Black\\n]    1121\n",
       "[\\nCloth\\n]                  1005\n",
       "[\\nCloth, Grey\\n]             891\n",
       "[\\nCloth, Other\\n]            639\n",
       "[\\nFull leather, Black\\n]     575\n",
       "[\\nBlack\\n]                   491\n",
       "[\\nGrey\\n]                    273\n",
       "[\\nOther, Other\\n]            182\n",
       "[\\nPart leather\\n]            140\n",
       "[\\nFull leather\\n]            139\n",
       "[\\nPart leather, Grey\\n]      116\n",
       "[\\nFull leather, Brown\\n]     116\n",
       "[\\nOther, Black\\n]            110\n",
       "[\\nFull leather, Other\\n]      72\n",
       "[\\nFull leather, Grey\\n]       67\n",
       "[\\nPart leather, Other\\n]      65\n",
       "[\\nOther\\n]                    56\n",
       "[\\nPart leather, Brown\\n]      50\n",
       "[\\nalcantara, Black\\n]         47\n",
       "[\\nFull leather, Beige\\n]      36\n",
       "[\\nVelour, Black\\n]            36\n",
       "[\\nCloth, Brown\\n]             28\n",
       "[\\nVelour\\n]                   16\n",
       "[\\nOther, Grey\\n]              15\n",
       "[\\nCloth, Beige\\n]             13\n",
       "[\\nBrown\\n]                    12\n",
       "[\\nCloth, Blue\\n]              12\n",
       "[\\nCloth, White\\n]              8\n",
       "[\\nVelour, Grey\\n]              8\n",
       "[\\nalcantara, Grey\\n]           6\n",
       "[\\nCloth, Red\\n]                5\n",
       "[\\nOther, Yellow\\n]             4\n",
       "[\\nBeige\\n]                     3\n",
       "[\\nPart leather, Red\\n]         3\n",
       "[\\nalcantara\\n]                 2\n",
       "[\\nPart leather, White\\n]       2\n",
       "[\\nBlue\\n]                      2\n",
       "[\\nWhite\\n]                     2\n",
       "[\\nPart leather, Beige\\n]       2\n",
       "[\\nalcantara, Other\\n]          2\n",
       "[\\nFull leather, Blue\\n]        2\n",
       "[\\nOther, Brown\\n]              1\n",
       "[\\nCloth, Orange\\n]             1\n",
       "[\\nFull leather, Red\\n]         1\n",
       "[\\nFull leather, White\\n]       1\n",
       "Name: upholstery, dtype: int64"
      ]
     },
     "execution_count": 1432,
     "metadata": {},
     "output_type": "execute_result"
    }
   ],
   "source": [
    "df[\"upholstery\"].value_counts()"
   ]
  },
  {
   "cell_type": "code",
   "execution_count": 1433,
   "metadata": {},
   "outputs": [],
   "source": [
    "##df['age'] = 2019/12 - df['First Registration']"
   ]
  },
  {
   "cell_type": "code",
   "execution_count": 1434,
   "metadata": {},
   "outputs": [
    {
     "data": {
      "text/html": [
       "<div>\n",
       "<style scoped>\n",
       "    .dataframe tbody tr th:only-of-type {\n",
       "        vertical-align: middle;\n",
       "    }\n",
       "\n",
       "    .dataframe tbody tr th {\n",
       "        vertical-align: top;\n",
       "    }\n",
       "\n",
       "    .dataframe thead th {\n",
       "        text-align: right;\n",
       "    }\n",
       "</style>\n",
       "<table border=\"1\" class=\"dataframe\">\n",
       "  <thead>\n",
       "    <tr style=\"text-align: right;\">\n",
       "      <th></th>\n",
       "      <th>url</th>\n",
       "      <th>make_model</th>\n",
       "      <th>short_description</th>\n",
       "      <th>body_type</th>\n",
       "      <th>price</th>\n",
       "      <th>vat</th>\n",
       "      <th>km</th>\n",
       "      <th>registration</th>\n",
       "      <th>prev_owner</th>\n",
       "      <th>k_w</th>\n",
       "      <th>hp</th>\n",
       "      <th>type</th>\n",
       "      <th>previous_owners</th>\n",
       "      <th>next_inspection</th>\n",
       "      <th>inspection_new</th>\n",
       "      <th>warranty</th>\n",
       "      <th>full_service</th>\n",
       "      <th>non_smoking_vehicle</th>\n",
       "      <th>null</th>\n",
       "      <th>make</th>\n",
       "      <th>model</th>\n",
       "      <th>offer_number</th>\n",
       "      <th>first_registration</th>\n",
       "      <th>body_color</th>\n",
       "      <th>paint_type</th>\n",
       "      <th>body_color_original</th>\n",
       "      <th>upholstery</th>\n",
       "      <th>body</th>\n",
       "      <th>nr_of_doors</th>\n",
       "      <th>nr_of_seats</th>\n",
       "      <th>model_code</th>\n",
       "      <th>gearing_type</th>\n",
       "      <th>displacement</th>\n",
       "      <th>cylinders</th>\n",
       "      <th>weight</th>\n",
       "      <th>drive_chain</th>\n",
       "      <th>fuel</th>\n",
       "      <th>consumption</th>\n",
       "      <th>co_2_emission</th>\n",
       "      <th>emission_class</th>\n",
       "      <th>comfort_&amp;_convenience</th>\n",
       "      <th>entertainment_&amp;_media</th>\n",
       "      <th>extras</th>\n",
       "      <th>safety_&amp;_security</th>\n",
       "      <th>description</th>\n",
       "      <th>emission_label</th>\n",
       "      <th>gears</th>\n",
       "      <th>country_version</th>\n",
       "      <th>electricity_consumption</th>\n",
       "      <th>last_service_date</th>\n",
       "      <th>other_fuel_types</th>\n",
       "      <th>availability</th>\n",
       "      <th>last_timing_belt_service_date</th>\n",
       "      <th>available_from</th>\n",
       "      <th>First Registration</th>\n",
       "    </tr>\n",
       "  </thead>\n",
       "  <tbody>\n",
       "    <tr>\n",
       "      <th>0</th>\n",
       "      <td>https://www.autoscout24.com//offers/audi-a1-sp...</td>\n",
       "      <td>Audi A1</td>\n",
       "      <td>Sportback 1.4 TDI S-tronic Xenon Navi Klima</td>\n",
       "      <td>Sedans</td>\n",
       "      <td>15770.000</td>\n",
       "      <td>VAT deductible</td>\n",
       "      <td>56013.000</td>\n",
       "      <td>01/2016</td>\n",
       "      <td>2</td>\n",
       "      <td>NaN</td>\n",
       "      <td>66 kW</td>\n",
       "      <td>Diesel</td>\n",
       "      <td>2</td>\n",
       "      <td>NaT</td>\n",
       "      <td>[\\nYes\\n, \\nEuro 6\\n]</td>\n",
       "      <td>[\\n, \\n, \\n4 (Green)\\n]</td>\n",
       "      <td>[\\n, \\n]</td>\n",
       "      <td>[\\n, \\n]</td>\n",
       "      <td>[]</td>\n",
       "      <td>Audi</td>\n",
       "      <td>A1</td>\n",
       "      <td>[\\nLR-062483\\n]</td>\n",
       "      <td>[\\n, 2016, \\n]</td>\n",
       "      <td>[\\n, Black, \\n]</td>\n",
       "      <td>[\\nMetallic\\n]</td>\n",
       "      <td>[\\nMythosschwarz\\n]</td>\n",
       "      <td>[\\nCloth, Black\\n]</td>\n",
       "      <td>Sedans</td>\n",
       "      <td>[\\n5\\n]</td>\n",
       "      <td>[\\n5\\n]</td>\n",
       "      <td>[\\n0588/BDF\\n]</td>\n",
       "      <td>[\\n, Automatic, \\n]</td>\n",
       "      <td>[\\n1,422 cc\\n]</td>\n",
       "      <td>[\\n3\\n]</td>\n",
       "      <td>[\\n1,220 kg\\n]</td>\n",
       "      <td>[\\nfront\\n]</td>\n",
       "      <td>[\\n, Diesel (Particulate Filter), \\n]</td>\n",
       "      <td>[[3.8 l/100 km (comb)], [4.3 l/100 km (city)],...</td>\n",
       "      <td>[\\n99 g CO2/km (comb)\\n]</td>\n",
       "      <td>[\\nEuro 6\\n]</td>\n",
       "      <td>[Air conditioning, Armrest, Automatic climate ...</td>\n",
       "      <td>[Bluetooth, Hands-free equipment, On-board com...</td>\n",
       "      <td>[Alloy wheels, Catalytic Converter, Voice Cont...</td>\n",
       "      <td>[ABS, Central door lock, Daytime running light...</td>\n",
       "      <td>[\\n, Sicherheit:,  , Deaktivierung für Beifahr...</td>\n",
       "      <td>NaN</td>\n",
       "      <td>NaN</td>\n",
       "      <td>NaN</td>\n",
       "      <td>NaN</td>\n",
       "      <td>NaN</td>\n",
       "      <td>NaN</td>\n",
       "      <td>NaN</td>\n",
       "      <td>NaN</td>\n",
       "      <td>NaN</td>\n",
       "      <td>2016</td>\n",
       "    </tr>\n",
       "    <tr>\n",
       "      <th>1</th>\n",
       "      <td>https://www.autoscout24.com//offers/audi-a1-1-...</td>\n",
       "      <td>Audi A1</td>\n",
       "      <td>1.8 TFSI sport</td>\n",
       "      <td>Sedans</td>\n",
       "      <td>14500.000</td>\n",
       "      <td>Price negotiable</td>\n",
       "      <td>80000.000</td>\n",
       "      <td>03/2017</td>\n",
       "      <td>NaN</td>\n",
       "      <td>NaN</td>\n",
       "      <td>141 kW</td>\n",
       "      <td>Benzin</td>\n",
       "      <td>NaN</td>\n",
       "      <td>NaT</td>\n",
       "      <td>NaN</td>\n",
       "      <td>NaN</td>\n",
       "      <td>NaN</td>\n",
       "      <td>NaN</td>\n",
       "      <td>[]</td>\n",
       "      <td>Audi</td>\n",
       "      <td>A1</td>\n",
       "      <td>NaN</td>\n",
       "      <td>[\\n, 2017, \\n]</td>\n",
       "      <td>[\\n, Red, \\n]</td>\n",
       "      <td>NaN</td>\n",
       "      <td>NaN</td>\n",
       "      <td>[\\nCloth, Grey\\n]</td>\n",
       "      <td>Sedans</td>\n",
       "      <td>[\\n3\\n]</td>\n",
       "      <td>[\\n4\\n]</td>\n",
       "      <td>[\\n0588/BCY\\n]</td>\n",
       "      <td>[\\n, Automatic, \\n]</td>\n",
       "      <td>[\\n1,798 cc\\n]</td>\n",
       "      <td>[\\n4\\n]</td>\n",
       "      <td>[\\n1,255 kg\\n]</td>\n",
       "      <td>[\\nfront\\n]</td>\n",
       "      <td>[\\n, Gasoline, \\n]</td>\n",
       "      <td>[[5.6 l/100 km (comb)], [7.1 l/100 km (city)],...</td>\n",
       "      <td>[\\n129 g CO2/km (comb)\\n]</td>\n",
       "      <td>[\\nEuro 6\\n]</td>\n",
       "      <td>[Air conditioning, Automatic climate control, ...</td>\n",
       "      <td>[Bluetooth, Hands-free equipment, On-board com...</td>\n",
       "      <td>[Alloy wheels, Sport seats, Sport suspension, ...</td>\n",
       "      <td>[ABS, Central door lock, Central door lock wit...</td>\n",
       "      <td>[\\nLangstreckenfahrzeug daher die hohe Kilomet...</td>\n",
       "      <td>[\\n4 (Green)\\n]</td>\n",
       "      <td>[\\n7\\n]</td>\n",
       "      <td>NaN</td>\n",
       "      <td>NaN</td>\n",
       "      <td>NaN</td>\n",
       "      <td>NaN</td>\n",
       "      <td>NaN</td>\n",
       "      <td>NaN</td>\n",
       "      <td>NaN</td>\n",
       "      <td>2017</td>\n",
       "    </tr>\n",
       "    <tr>\n",
       "      <th>2</th>\n",
       "      <td>https://www.autoscout24.com//offers/audi-a1-sp...</td>\n",
       "      <td>Audi A1</td>\n",
       "      <td>Sportback 1.6 TDI S tronic Einparkhilfe plus+m...</td>\n",
       "      <td>Sedans</td>\n",
       "      <td>14640.000</td>\n",
       "      <td>VAT deductible</td>\n",
       "      <td>83450.000</td>\n",
       "      <td>02/2016</td>\n",
       "      <td>1</td>\n",
       "      <td>NaN</td>\n",
       "      <td>85 kW</td>\n",
       "      <td>Diesel</td>\n",
       "      <td>1</td>\n",
       "      <td>NaT</td>\n",
       "      <td>NaN</td>\n",
       "      <td>[\\n, \\n, \\n99 g CO2/km (comb)\\n]</td>\n",
       "      <td>NaN</td>\n",
       "      <td>NaN</td>\n",
       "      <td>[]</td>\n",
       "      <td>Audi</td>\n",
       "      <td>A1</td>\n",
       "      <td>[\\nAM-95365\\n]</td>\n",
       "      <td>[\\n, 2016, \\n]</td>\n",
       "      <td>[\\n, Black, \\n]</td>\n",
       "      <td>[\\nMetallic\\n]</td>\n",
       "      <td>[\\nmythosschwarz metallic\\n]</td>\n",
       "      <td>[\\nCloth, Black\\n]</td>\n",
       "      <td>Sedans</td>\n",
       "      <td>[\\n4\\n]</td>\n",
       "      <td>[\\n4\\n]</td>\n",
       "      <td>NaN</td>\n",
       "      <td>[\\n, Automatic, \\n]</td>\n",
       "      <td>[\\n1,598 cc\\n]</td>\n",
       "      <td>NaN</td>\n",
       "      <td>NaN</td>\n",
       "      <td>[\\nfront\\n]</td>\n",
       "      <td>[\\n, Diesel (Particulate Filter), \\n]</td>\n",
       "      <td>[[3.8 l/100 km (comb)], [4.4 l/100 km (city)],...</td>\n",
       "      <td>[\\n99 g CO2/km (comb)\\n]</td>\n",
       "      <td>[\\nEuro 6\\n]</td>\n",
       "      <td>[Air conditioning, Cruise control, Electrical ...</td>\n",
       "      <td>[MP3, On-board computer]</td>\n",
       "      <td>[Alloy wheels, Voice Control]</td>\n",
       "      <td>[ABS, Central door lock, Daytime running light...</td>\n",
       "      <td>[\\n, Fahrzeug-Nummer: AM-95365,  , Ehem. UPE 2...</td>\n",
       "      <td>[\\n4 (Green)\\n]</td>\n",
       "      <td>NaN</td>\n",
       "      <td>NaN</td>\n",
       "      <td>NaN</td>\n",
       "      <td>NaN</td>\n",
       "      <td>NaN</td>\n",
       "      <td>NaN</td>\n",
       "      <td>NaN</td>\n",
       "      <td>NaN</td>\n",
       "      <td>2016</td>\n",
       "    </tr>\n",
       "    <tr>\n",
       "      <th>3</th>\n",
       "      <td>https://www.autoscout24.com//offers/audi-a1-1-...</td>\n",
       "      <td>Audi A1</td>\n",
       "      <td>1.4 TDi Design S tronic</td>\n",
       "      <td>Sedans</td>\n",
       "      <td>14500.000</td>\n",
       "      <td>None</td>\n",
       "      <td>73000.000</td>\n",
       "      <td>08/2016</td>\n",
       "      <td>1</td>\n",
       "      <td>NaN</td>\n",
       "      <td>66 kW</td>\n",
       "      <td>Diesel</td>\n",
       "      <td>1</td>\n",
       "      <td>NaT</td>\n",
       "      <td>NaN</td>\n",
       "      <td>NaN</td>\n",
       "      <td>[\\n, \\n, \\n99 g CO2/km (comb)\\n]</td>\n",
       "      <td>[\\n, \\n, \\nEuro 6\\n]</td>\n",
       "      <td>[]</td>\n",
       "      <td>Audi</td>\n",
       "      <td>A1</td>\n",
       "      <td>NaN</td>\n",
       "      <td>[\\n, 2016, \\n]</td>\n",
       "      <td>[\\n, Brown, \\n]</td>\n",
       "      <td>[\\nMetallic\\n]</td>\n",
       "      <td>NaN</td>\n",
       "      <td>NaN</td>\n",
       "      <td>Sedans</td>\n",
       "      <td>[\\n3\\n]</td>\n",
       "      <td>[\\n4\\n]</td>\n",
       "      <td>NaN</td>\n",
       "      <td>[\\n, Automatic, \\n]</td>\n",
       "      <td>[\\n1,422 cc\\n]</td>\n",
       "      <td>[\\n3\\n]</td>\n",
       "      <td>[\\n1,195 kg\\n]</td>\n",
       "      <td>NaN</td>\n",
       "      <td>[\\n, Diesel (Particulate Filter), \\n]</td>\n",
       "      <td>[[3.8 l/100 km (comb)], [4.3 l/100 km (city)],...</td>\n",
       "      <td>[\\n99 g CO2/km (comb)\\n]</td>\n",
       "      <td>[\\nEuro 6\\n]</td>\n",
       "      <td>[Air suspension, Armrest, Auxiliary heating, E...</td>\n",
       "      <td>[Bluetooth, CD player, Hands-free equipment, M...</td>\n",
       "      <td>[Alloy wheels, Sport seats, Voice Control]</td>\n",
       "      <td>[ABS, Alarm system, Central door lock with rem...</td>\n",
       "      <td>[\\nAudi A1: , - 1e eigenaar , - Perfecte staat...</td>\n",
       "      <td>NaN</td>\n",
       "      <td>[\\n6\\n]</td>\n",
       "      <td>NaN</td>\n",
       "      <td>NaN</td>\n",
       "      <td>NaN</td>\n",
       "      <td>NaN</td>\n",
       "      <td>NaN</td>\n",
       "      <td>NaN</td>\n",
       "      <td>NaN</td>\n",
       "      <td>2016</td>\n",
       "    </tr>\n",
       "    <tr>\n",
       "      <th>4</th>\n",
       "      <td>https://www.autoscout24.com//offers/audi-a1-sp...</td>\n",
       "      <td>Audi A1</td>\n",
       "      <td>Sportback 1.4 TDI S-Tronic S-Line Ext. admired...</td>\n",
       "      <td>Sedans</td>\n",
       "      <td>16790.000</td>\n",
       "      <td>None</td>\n",
       "      <td>16200.000</td>\n",
       "      <td>05/2016</td>\n",
       "      <td>1</td>\n",
       "      <td>NaN</td>\n",
       "      <td>66 kW</td>\n",
       "      <td>Diesel</td>\n",
       "      <td>1</td>\n",
       "      <td>NaT</td>\n",
       "      <td>[\\nYes\\n, \\n109 g CO2/km (comb)\\n]</td>\n",
       "      <td>[\\n, \\n, \\nEuro 6\\n]</td>\n",
       "      <td>[\\n, \\n, \\n4 (Green)\\n]</td>\n",
       "      <td>[\\n, \\n]</td>\n",
       "      <td>[]</td>\n",
       "      <td>Audi</td>\n",
       "      <td>A1</td>\n",
       "      <td>[\\nC1626\\n]</td>\n",
       "      <td>[\\n, 2016, \\n]</td>\n",
       "      <td>[\\n, Black, \\n]</td>\n",
       "      <td>[\\nMetallic\\n]</td>\n",
       "      <td>[\\nMythosschwarz Metallic\\n]</td>\n",
       "      <td>[\\nCloth, Black\\n]</td>\n",
       "      <td>Sedans</td>\n",
       "      <td>[\\n5\\n]</td>\n",
       "      <td>[\\n5\\n]</td>\n",
       "      <td>[\\n0588/BDF\\n]</td>\n",
       "      <td>[\\n, Automatic, \\n]</td>\n",
       "      <td>[\\n1,422 cc\\n]</td>\n",
       "      <td>[\\n3\\n]</td>\n",
       "      <td>NaN</td>\n",
       "      <td>[\\nfront\\n]</td>\n",
       "      <td>[\\n, Diesel (Particulate Filter), \\n]</td>\n",
       "      <td>[[4.1 l/100 km (comb)], [4.6 l/100 km (city)],...</td>\n",
       "      <td>[\\n109 g CO2/km (comb)\\n]</td>\n",
       "      <td>[\\nEuro 6\\n]</td>\n",
       "      <td>[Air conditioning, Armrest, Automatic climate ...</td>\n",
       "      <td>[Bluetooth, CD player, Hands-free equipment, M...</td>\n",
       "      <td>[Alloy wheels, Sport package, Sport suspension...</td>\n",
       "      <td>[ABS, Central door lock, Driver-side airbag, E...</td>\n",
       "      <td>[\\n, Technik &amp; Sicherheit:, Xenon plus, Klimaa...</td>\n",
       "      <td>NaN</td>\n",
       "      <td>NaN</td>\n",
       "      <td>[\\nGermany\\n]</td>\n",
       "      <td>NaN</td>\n",
       "      <td>NaN</td>\n",
       "      <td>NaN</td>\n",
       "      <td>NaN</td>\n",
       "      <td>NaN</td>\n",
       "      <td>NaN</td>\n",
       "      <td>2016</td>\n",
       "    </tr>\n",
       "  </tbody>\n",
       "</table>\n",
       "</div>"
      ],
      "text/plain": [
       "                                                 url make_model  \\\n",
       "0  https://www.autoscout24.com//offers/audi-a1-sp...    Audi A1   \n",
       "1  https://www.autoscout24.com//offers/audi-a1-1-...    Audi A1   \n",
       "2  https://www.autoscout24.com//offers/audi-a1-sp...    Audi A1   \n",
       "3  https://www.autoscout24.com//offers/audi-a1-1-...    Audi A1   \n",
       "4  https://www.autoscout24.com//offers/audi-a1-sp...    Audi A1   \n",
       "\n",
       "                                   short_description body_type     price  \\\n",
       "0        Sportback 1.4 TDI S-tronic Xenon Navi Klima    Sedans 15770.000   \n",
       "1                                     1.8 TFSI sport    Sedans 14500.000   \n",
       "2  Sportback 1.6 TDI S tronic Einparkhilfe plus+m...    Sedans 14640.000   \n",
       "3                            1.4 TDi Design S tronic    Sedans 14500.000   \n",
       "4  Sportback 1.4 TDI S-Tronic S-Line Ext. admired...    Sedans 16790.000   \n",
       "\n",
       "                vat        km registration prev_owner  k_w      hp    type  \\\n",
       "0    VAT deductible 56013.000      01/2016          2  NaN   66 kW  Diesel   \n",
       "1  Price negotiable 80000.000      03/2017        NaN  NaN  141 kW  Benzin   \n",
       "2    VAT deductible 83450.000      02/2016          1  NaN   85 kW  Diesel   \n",
       "3              None 73000.000      08/2016          1  NaN   66 kW  Diesel   \n",
       "4              None 16200.000      05/2016          1  NaN   66 kW  Diesel   \n",
       "\n",
       "  previous_owners next_inspection                      inspection_new  \\\n",
       "0               2             NaT               [\\nYes\\n, \\nEuro 6\\n]   \n",
       "1             NaN             NaT                                 NaN   \n",
       "2               1             NaT                                 NaN   \n",
       "3               1             NaT                                 NaN   \n",
       "4               1             NaT  [\\nYes\\n, \\n109 g CO2/km (comb)\\n]   \n",
       "\n",
       "                           warranty                      full_service  \\\n",
       "0           [\\n, \\n, \\n4 (Green)\\n]                          [\\n, \\n]   \n",
       "1                               NaN                               NaN   \n",
       "2  [\\n, \\n, \\n99 g CO2/km (comb)\\n]                               NaN   \n",
       "3                               NaN  [\\n, \\n, \\n99 g CO2/km (comb)\\n]   \n",
       "4              [\\n, \\n, \\nEuro 6\\n]           [\\n, \\n, \\n4 (Green)\\n]   \n",
       "\n",
       "    non_smoking_vehicle null  make model     offer_number first_registration  \\\n",
       "0              [\\n, \\n]   []  Audi    A1  [\\nLR-062483\\n]     [\\n, 2016, \\n]   \n",
       "1                   NaN   []  Audi    A1              NaN     [\\n, 2017, \\n]   \n",
       "2                   NaN   []  Audi    A1   [\\nAM-95365\\n]     [\\n, 2016, \\n]   \n",
       "3  [\\n, \\n, \\nEuro 6\\n]   []  Audi    A1              NaN     [\\n, 2016, \\n]   \n",
       "4              [\\n, \\n]   []  Audi    A1      [\\nC1626\\n]     [\\n, 2016, \\n]   \n",
       "\n",
       "        body_color      paint_type           body_color_original  \\\n",
       "0  [\\n, Black, \\n]  [\\nMetallic\\n]           [\\nMythosschwarz\\n]   \n",
       "1    [\\n, Red, \\n]             NaN                           NaN   \n",
       "2  [\\n, Black, \\n]  [\\nMetallic\\n]  [\\nmythosschwarz metallic\\n]   \n",
       "3  [\\n, Brown, \\n]  [\\nMetallic\\n]                           NaN   \n",
       "4  [\\n, Black, \\n]  [\\nMetallic\\n]  [\\nMythosschwarz Metallic\\n]   \n",
       "\n",
       "           upholstery    body nr_of_doors nr_of_seats      model_code  \\\n",
       "0  [\\nCloth, Black\\n]  Sedans     [\\n5\\n]     [\\n5\\n]  [\\n0588/BDF\\n]   \n",
       "1   [\\nCloth, Grey\\n]  Sedans     [\\n3\\n]     [\\n4\\n]  [\\n0588/BCY\\n]   \n",
       "2  [\\nCloth, Black\\n]  Sedans     [\\n4\\n]     [\\n4\\n]             NaN   \n",
       "3                 NaN  Sedans     [\\n3\\n]     [\\n4\\n]             NaN   \n",
       "4  [\\nCloth, Black\\n]  Sedans     [\\n5\\n]     [\\n5\\n]  [\\n0588/BDF\\n]   \n",
       "\n",
       "          gearing_type    displacement cylinders          weight  drive_chain  \\\n",
       "0  [\\n, Automatic, \\n]  [\\n1,422 cc\\n]   [\\n3\\n]  [\\n1,220 kg\\n]  [\\nfront\\n]   \n",
       "1  [\\n, Automatic, \\n]  [\\n1,798 cc\\n]   [\\n4\\n]  [\\n1,255 kg\\n]  [\\nfront\\n]   \n",
       "2  [\\n, Automatic, \\n]  [\\n1,598 cc\\n]       NaN             NaN  [\\nfront\\n]   \n",
       "3  [\\n, Automatic, \\n]  [\\n1,422 cc\\n]   [\\n3\\n]  [\\n1,195 kg\\n]          NaN   \n",
       "4  [\\n, Automatic, \\n]  [\\n1,422 cc\\n]   [\\n3\\n]             NaN  [\\nfront\\n]   \n",
       "\n",
       "                                    fuel  \\\n",
       "0  [\\n, Diesel (Particulate Filter), \\n]   \n",
       "1                     [\\n, Gasoline, \\n]   \n",
       "2  [\\n, Diesel (Particulate Filter), \\n]   \n",
       "3  [\\n, Diesel (Particulate Filter), \\n]   \n",
       "4  [\\n, Diesel (Particulate Filter), \\n]   \n",
       "\n",
       "                                         consumption  \\\n",
       "0  [[3.8 l/100 km (comb)], [4.3 l/100 km (city)],...   \n",
       "1  [[5.6 l/100 km (comb)], [7.1 l/100 km (city)],...   \n",
       "2  [[3.8 l/100 km (comb)], [4.4 l/100 km (city)],...   \n",
       "3  [[3.8 l/100 km (comb)], [4.3 l/100 km (city)],...   \n",
       "4  [[4.1 l/100 km (comb)], [4.6 l/100 km (city)],...   \n",
       "\n",
       "               co_2_emission emission_class  \\\n",
       "0   [\\n99 g CO2/km (comb)\\n]   [\\nEuro 6\\n]   \n",
       "1  [\\n129 g CO2/km (comb)\\n]   [\\nEuro 6\\n]   \n",
       "2   [\\n99 g CO2/km (comb)\\n]   [\\nEuro 6\\n]   \n",
       "3   [\\n99 g CO2/km (comb)\\n]   [\\nEuro 6\\n]   \n",
       "4  [\\n109 g CO2/km (comb)\\n]   [\\nEuro 6\\n]   \n",
       "\n",
       "                               comfort_&_convenience  \\\n",
       "0  [Air conditioning, Armrest, Automatic climate ...   \n",
       "1  [Air conditioning, Automatic climate control, ...   \n",
       "2  [Air conditioning, Cruise control, Electrical ...   \n",
       "3  [Air suspension, Armrest, Auxiliary heating, E...   \n",
       "4  [Air conditioning, Armrest, Automatic climate ...   \n",
       "\n",
       "                               entertainment_&_media  \\\n",
       "0  [Bluetooth, Hands-free equipment, On-board com...   \n",
       "1  [Bluetooth, Hands-free equipment, On-board com...   \n",
       "2                           [MP3, On-board computer]   \n",
       "3  [Bluetooth, CD player, Hands-free equipment, M...   \n",
       "4  [Bluetooth, CD player, Hands-free equipment, M...   \n",
       "\n",
       "                                              extras  \\\n",
       "0  [Alloy wheels, Catalytic Converter, Voice Cont...   \n",
       "1  [Alloy wheels, Sport seats, Sport suspension, ...   \n",
       "2                      [Alloy wheels, Voice Control]   \n",
       "3         [Alloy wheels, Sport seats, Voice Control]   \n",
       "4  [Alloy wheels, Sport package, Sport suspension...   \n",
       "\n",
       "                                   safety_&_security  \\\n",
       "0  [ABS, Central door lock, Daytime running light...   \n",
       "1  [ABS, Central door lock, Central door lock wit...   \n",
       "2  [ABS, Central door lock, Daytime running light...   \n",
       "3  [ABS, Alarm system, Central door lock with rem...   \n",
       "4  [ABS, Central door lock, Driver-side airbag, E...   \n",
       "\n",
       "                                         description   emission_label  \\\n",
       "0  [\\n, Sicherheit:,  , Deaktivierung für Beifahr...              NaN   \n",
       "1  [\\nLangstreckenfahrzeug daher die hohe Kilomet...  [\\n4 (Green)\\n]   \n",
       "2  [\\n, Fahrzeug-Nummer: AM-95365,  , Ehem. UPE 2...  [\\n4 (Green)\\n]   \n",
       "3  [\\nAudi A1: , - 1e eigenaar , - Perfecte staat...              NaN   \n",
       "4  [\\n, Technik & Sicherheit:, Xenon plus, Klimaa...              NaN   \n",
       "\n",
       "     gears country_version electricity_consumption last_service_date  \\\n",
       "0      NaN             NaN                     NaN               NaN   \n",
       "1  [\\n7\\n]             NaN                     NaN               NaN   \n",
       "2      NaN             NaN                     NaN               NaN   \n",
       "3  [\\n6\\n]             NaN                     NaN               NaN   \n",
       "4      NaN   [\\nGermany\\n]                     NaN               NaN   \n",
       "\n",
       "  other_fuel_types availability last_timing_belt_service_date available_from  \\\n",
       "0              NaN          NaN                           NaN            NaN   \n",
       "1              NaN          NaN                           NaN            NaN   \n",
       "2              NaN          NaN                           NaN            NaN   \n",
       "3              NaN          NaN                           NaN            NaN   \n",
       "4              NaN          NaN                           NaN            NaN   \n",
       "\n",
       "  First Registration  \n",
       "0               2016  \n",
       "1               2017  \n",
       "2               2016  \n",
       "3               2016  \n",
       "4               2016  "
      ]
     },
     "execution_count": 1434,
     "metadata": {},
     "output_type": "execute_result"
    }
   ],
   "source": [
    "df.head()"
   ]
  },
  {
   "cell_type": "markdown",
   "metadata": {},
   "source": [
    "## Nr. of Doors"
   ]
  },
  {
   "cell_type": "code",
   "execution_count": 1435,
   "metadata": {},
   "outputs": [
    {
     "data": {
      "text/plain": [
       "[\\n5\\n]    11575\n",
       "[\\n4\\n]     3079\n",
       "[\\n3\\n]      832\n",
       "[\\n2\\n]      219\n",
       "[\\n1\\n]        1\n",
       "[\\n7\\n]        1\n",
       "Name: nr_of_doors, dtype: int64"
      ]
     },
     "execution_count": 1435,
     "metadata": {},
     "output_type": "execute_result"
    }
   ],
   "source": [
    "df[\"nr_of_doors\"].value_counts()"
   ]
  },
  {
   "cell_type": "code",
   "execution_count": 1436,
   "metadata": {},
   "outputs": [
    {
     "data": {
      "text/plain": [
       "212"
      ]
     },
     "execution_count": 1436,
     "metadata": {},
     "output_type": "execute_result"
    }
   ],
   "source": [
    "df[\"nr_of_doors\"].isnull().sum() "
   ]
  },
  {
   "cell_type": "markdown",
   "metadata": {},
   "source": [
    "## Nr. of Seats"
   ]
  },
  {
   "cell_type": "code",
   "execution_count": 1437,
   "metadata": {},
   "outputs": [
    {
     "data": {
      "text/plain": [
       "[\\n5\\n]    13336\n",
       "[\\n4\\n]     1125\n",
       "[\\n7\\n]      362\n",
       "[\\n2\\n]      116\n",
       "[\\n6\\n]        2\n",
       "[\\n3\\n]        1\n",
       "Name: nr_of_seats, dtype: int64"
      ]
     },
     "execution_count": 1437,
     "metadata": {},
     "output_type": "execute_result"
    }
   ],
   "source": [
    "df[\"nr_of_seats\"].value_counts()"
   ]
  },
  {
   "cell_type": "code",
   "execution_count": 1438,
   "metadata": {},
   "outputs": [
    {
     "data": {
      "text/plain": [
       "977"
      ]
     },
     "execution_count": 1438,
     "metadata": {},
     "output_type": "execute_result"
    }
   ],
   "source": [
    "df[\"nr_of_seats\"].isnull().sum() "
   ]
  },
  {
   "cell_type": "markdown",
   "metadata": {},
   "source": [
    "## Model Code"
   ]
  },
  {
   "cell_type": "code",
   "execution_count": 1439,
   "metadata": {},
   "outputs": [
    {
     "data": {
      "text/plain": [
       "[\\n0035/BCB\\n]    268\n",
       "[\\n0588/BNO\\n]    245\n",
       "[\\n0588/BDB\\n]    206\n",
       "[\\n0588/BHX\\n]    188\n",
       "[\\n1844/ADJ\\n]    175\n",
       "                 ... \n",
       "[\\n0000/ACP\\n]      1\n",
       "[\\n0035/BGY\\n]      1\n",
       "[\\n0035/bgp\\n]      1\n",
       "[\\n0035/BGS\\n]      1\n",
       "[\\n3333/BKG\\n]      1\n",
       "Name: model_code, Length: 232, dtype: int64"
      ]
     },
     "execution_count": 1439,
     "metadata": {},
     "output_type": "execute_result"
    }
   ],
   "source": [
    "df[\"model_code\"].value_counts()"
   ]
  },
  {
   "cell_type": "code",
   "execution_count": 1440,
   "metadata": {},
   "outputs": [
    {
     "data": {
      "text/plain": [
       "10941"
      ]
     },
     "execution_count": 1440,
     "metadata": {},
     "output_type": "execute_result"
    }
   ],
   "source": [
    "df[\"model_code\"].isnull().sum() "
   ]
  },
  {
   "cell_type": "markdown",
   "metadata": {},
   "source": [
    "## Gearing Type vs Gears"
   ]
  },
  {
   "cell_type": "code",
   "execution_count": 1441,
   "metadata": {},
   "outputs": [
    {
     "data": {
      "text/plain": [
       "[\\n, Manual, \\n]            8153\n",
       "[\\n, Automatic, \\n]         7297\n",
       "[\\n, Semi-automatic, \\n]     469\n",
       "Name: gearing_type, dtype: int64"
      ]
     },
     "execution_count": 1441,
     "metadata": {},
     "output_type": "execute_result"
    }
   ],
   "source": [
    "df[\"gearing_type\"].value_counts()"
   ]
  },
  {
   "cell_type": "code",
   "execution_count": 1442,
   "metadata": {},
   "outputs": [
    {
     "data": {
      "text/plain": [
       "[\\n6\\n]     5822\n",
       "[\\n5\\n]     3239\n",
       "[\\n7\\n]     1908\n",
       "[\\n8\\n]      224\n",
       "[\\n9\\n]        6\n",
       "[\\n1\\n]        2\n",
       "[\\n3\\n]        2\n",
       "[\\n4\\n]        2\n",
       "[\\n2\\n]        1\n",
       "[\\n50\\n]       1\n",
       "Name: gears, dtype: int64"
      ]
     },
     "execution_count": 1442,
     "metadata": {},
     "output_type": "execute_result"
    }
   ],
   "source": [
    "df[\"gears\"].value_counts()\n",
    "# yakit tuketimiyle alakasi olabilir "
   ]
  },
  {
   "cell_type": "code",
   "execution_count": 1443,
   "metadata": {},
   "outputs": [
    {
     "data": {
      "text/plain": [
       "gearing_type       0\n",
       "gears           4712\n",
       "dtype: int64"
      ]
     },
     "execution_count": 1443,
     "metadata": {},
     "output_type": "execute_result"
    }
   ],
   "source": [
    "df[[\"gearing_type\",\"gears\"]].isnull().sum() "
   ]
  },
  {
   "cell_type": "markdown",
   "metadata": {},
   "source": [
    "## Working with /n  edwin hoca"
   ]
  },
  {
   "cell_type": "code",
   "execution_count": 1444,
   "metadata": {},
   "outputs": [
    {
     "data": {
      "text/plain": [
       "0          2\n",
       "1        NaN\n",
       "2          1\n",
       "3          1\n",
       "4          1\n",
       "        ... \n",
       "15914    NaN\n",
       "15915    NaN\n",
       "15916    NaN\n",
       "15917    NaN\n",
       "15918      1\n",
       "Name: previous_owners, Length: 15919, dtype: object"
      ]
     },
     "execution_count": 1444,
     "metadata": {},
     "output_type": "execute_result"
    }
   ],
   "source": [
    "df[\"previous_owners\"]"
   ]
  },
  {
   "cell_type": "code",
   "execution_count": 1445,
   "metadata": {},
   "outputs": [],
   "source": [
    "df[\"previous_owners\"] = [item[0] if type(item) == list else item for item in df[\"previous_owners\"]]\n",
    "## hepsini liste disina cikaracak4\n",
    "\n",
    "\n",
    "df[\"previous_owners\"]= df[\"previous_owners\"].str.strip(\"\\n\").astype('float')"
   ]
  },
  {
   "cell_type": "code",
   "execution_count": 1446,
   "metadata": {},
   "outputs": [
    {
     "data": {
      "text/plain": [
       "0       2.000\n",
       "1         NaN\n",
       "2       1.000\n",
       "3       1.000\n",
       "4       1.000\n",
       "         ... \n",
       "15914     NaN\n",
       "15915     NaN\n",
       "15916     NaN\n",
       "15917     NaN\n",
       "15918   1.000\n",
       "Name: previous_owners, Length: 15919, dtype: float64"
      ]
     },
     "execution_count": 1446,
     "metadata": {},
     "output_type": "execute_result"
    }
   ],
   "source": [
    "df[\"previous_owners\"]"
   ]
  },
  {
   "cell_type": "markdown",
   "metadata": {},
   "source": [
    "## Displacement - motor silindir hacmi"
   ]
  },
  {
   "cell_type": "code",
   "execution_count": 1447,
   "metadata": {},
   "outputs": [
    {
     "data": {
      "text/plain": [
       "[\\n1,598 cc\\n]     4761\n",
       "[\\n999 cc\\n]       2438\n",
       "[\\n1,398 cc\\n]     1314\n",
       "[\\n1,399 cc\\n]      749\n",
       "[\\n1,229 cc\\n]      677\n",
       "[\\n1,956 cc\\n]      670\n",
       "[\\n1,461 cc\\n]      595\n",
       "[\\n1,490 cc\\n]      559\n",
       "[\\n1,422 cc\\n]      467\n",
       "[\\n1,197 cc\\n]      353\n",
       "[\\n898 cc\\n]        351\n",
       "[\\n1,395 cc\\n]      320\n",
       "[\\n1,968 cc\\n]      301\n",
       "[\\n1,149 cc\\n]      288\n",
       "[\\n1,618 cc\\n]      212\n",
       "[\\n1,798 cc\\n]      210\n",
       "[\\n1,498 cc\\n]      196\n",
       "[\\n1,600 cc\\n]      130\n",
       "[\\n1,248 cc\\n]      110\n",
       "[\\n1,997 cc\\n]      103\n",
       "[\\n1,364 cc\\n]      102\n",
       "[\\n1,400 cc\\n]       90\n",
       "[\\n998 cc\\n]         72\n",
       "[\\n1,500 cc\\n]       50\n",
       "[\\n2,000 cc\\n]       46\n",
       "[\\n1,000 cc\\n]       40\n",
       "[\\n1 cc\\n]           36\n",
       "[\\n1,998 cc\\n]       25\n",
       "[\\n2,480 cc\\n]       20\n",
       "[\\n1,200 cc\\n]       18\n",
       "[\\n1,984 cc\\n]       18\n",
       "[\\n1,397 cc\\n]       11\n",
       "[\\n899 cc\\n]         11\n",
       "[\\n160 cc\\n]          6\n",
       "[\\n929 cc\\n]          5\n",
       "[\\n1,499 cc\\n]        5\n",
       "[\\n997 cc\\n]          4\n",
       "[\\n1,596 cc\\n]        4\n",
       "[\\n139 cc\\n]          4\n",
       "[\\n900 cc\\n]          4\n",
       "[\\n1,599 cc\\n]        3\n",
       "[\\n1,199 cc\\n]        3\n",
       "[\\n1,396 cc\\n]        3\n",
       "[\\n1,495 cc\\n]        2\n",
       "[\\n1,589 cc\\n]        2\n",
       "[\\n1,300 cc\\n]        2\n",
       "[\\n2 cc\\n]            2\n",
       "[\\n995 cc\\n]          2\n",
       "[\\n1,496 cc\\n]        1\n",
       "[\\n890 cc\\n]          1\n",
       "[\\n1,580 cc\\n]        1\n",
       "[\\n1,995 cc\\n]        1\n",
       "[\\n1,333 cc\\n]        1\n",
       "[\\n54 cc\\n]           1\n",
       "[\\n1,533 cc\\n]        1\n",
       "[\\n1,100 cc\\n]        1\n",
       "[\\n1,350 cc\\n]        1\n",
       "[\\n16,000 cc\\n]       1\n",
       "[\\n1,856 cc\\n]        1\n",
       "[\\n1,568 cc\\n]        1\n",
       "[\\n1,896 cc\\n]        1\n",
       "[\\n1,584 cc\\n]        1\n",
       "[\\n996 cc\\n]          1\n",
       "[\\n1,696 cc\\n]        1\n",
       "[\\n1,686 cc\\n]        1\n",
       "[\\n15,898 cc\\n]       1\n",
       "[\\n1,368 cc\\n]        1\n",
       "[\\n140 cc\\n]          1\n",
       "[\\n973 cc\\n]          1\n",
       "[\\n1,239 cc\\n]        1\n",
       "[\\n1,369 cc\\n]        1\n",
       "[\\n1,390 cc\\n]        1\n",
       "[\\n122 cc\\n]          1\n",
       "[\\n1,198 cc\\n]        1\n",
       "[\\n1,195 cc\\n]        1\n",
       "[\\n2,967 cc\\n]        1\n",
       "[\\n1,800 cc\\n]        1\n",
       "Name: displacement, dtype: int64"
      ]
     },
     "execution_count": 1447,
     "metadata": {},
     "output_type": "execute_result"
    }
   ],
   "source": [
    "df[\"displacement\"].value_counts()"
   ]
  },
  {
   "cell_type": "code",
   "execution_count": 1448,
   "metadata": {},
   "outputs": [
    {
     "data": {
      "text/plain": [
       "496"
      ]
     },
     "execution_count": 1448,
     "metadata": {},
     "output_type": "execute_result"
    }
   ],
   "source": [
    "df[\"displacement\"].isnull().sum() "
   ]
  },
  {
   "cell_type": "markdown",
   "metadata": {},
   "source": [
    "## Cylinders"
   ]
  },
  {
   "cell_type": "code",
   "execution_count": 1449,
   "metadata": {},
   "outputs": [
    {
     "data": {
      "text/plain": [
       "[\\n4\\n]    8105\n",
       "[\\n3\\n]    2104\n",
       "[\\n5\\n]      22\n",
       "[\\n6\\n]       3\n",
       "[\\n8\\n]       2\n",
       "[\\n2\\n]       2\n",
       "[\\n1\\n]       1\n",
       "Name: cylinders, dtype: int64"
      ]
     },
     "execution_count": 1449,
     "metadata": {},
     "output_type": "execute_result"
    }
   ],
   "source": [
    "df[\"cylinders\"].value_counts()"
   ]
  },
  {
   "cell_type": "code",
   "execution_count": 1450,
   "metadata": {},
   "outputs": [
    {
     "data": {
      "text/plain": [
       "5680"
      ]
     },
     "execution_count": 1450,
     "metadata": {},
     "output_type": "execute_result"
    }
   ],
   "source": [
    "df[\"cylinders\"].isnull().sum() "
   ]
  },
  {
   "cell_type": "markdown",
   "metadata": {},
   "source": [
    "## Weight"
   ]
  },
  {
   "cell_type": "code",
   "execution_count": 1451,
   "metadata": {},
   "outputs": [
    {
     "data": {
      "text/plain": [
       "[\\n1,163 kg\\n]    574\n",
       "[\\n1,360 kg\\n]    356\n",
       "[\\n1,165 kg\\n]    301\n",
       "[\\n1,335 kg\\n]    242\n",
       "[\\n1,135 kg\\n]    213\n",
       "                 ... \n",
       "[\\n1,331 kg\\n]      1\n",
       "[\\n1,132 kg\\n]      1\n",
       "[\\n1,252 kg\\n]      1\n",
       "[\\n1,792 kg\\n]      1\n",
       "[\\n2,037 kg\\n]      1\n",
       "Name: weight, Length: 434, dtype: int64"
      ]
     },
     "execution_count": 1451,
     "metadata": {},
     "output_type": "execute_result"
    }
   ],
   "source": [
    "df[\"weight\"].value_counts()"
   ]
  },
  {
   "cell_type": "code",
   "execution_count": 1452,
   "metadata": {},
   "outputs": [
    {
     "data": {
      "text/plain": [
       "6974"
      ]
     },
     "execution_count": 1452,
     "metadata": {},
     "output_type": "execute_result"
    }
   ],
   "source": [
    "df[\"weight\"].isnull().sum() "
   ]
  },
  {
   "cell_type": "markdown",
   "metadata": {},
   "source": [
    "## Drive chain"
   ]
  },
  {
   "cell_type": "code",
   "execution_count": 1453,
   "metadata": {},
   "outputs": [
    {
     "data": {
      "text/plain": [
       "[\\nfront\\n]    8886\n",
       "[\\n4WD\\n]       171\n",
       "[\\nrear\\n]        4\n",
       "Name: drive_chain, dtype: int64"
      ]
     },
     "execution_count": 1453,
     "metadata": {},
     "output_type": "execute_result"
    }
   ],
   "source": [
    "df[\"drive_chain\"].value_counts()"
   ]
  },
  {
   "cell_type": "code",
   "execution_count": 1454,
   "metadata": {},
   "outputs": [
    {
     "data": {
      "text/plain": [
       "6858"
      ]
     },
     "execution_count": 1454,
     "metadata": {},
     "output_type": "execute_result"
    }
   ],
   "source": [
    "df[\"drive_chain\"].isnull().sum() "
   ]
  },
  {
   "cell_type": "markdown",
   "metadata": {},
   "source": [
    "## Fuel vs Electricity Consumption vs Other Fuel Types"
   ]
  },
  {
   "cell_type": "code",
   "execution_count": 1455,
   "metadata": {
    "scrolled": true
   },
   "outputs": [
    {
     "data": {
      "text/plain": [
       "[\\n, Diesel (Particulate Filter), \\n]                                                                                                       4315\n",
       "[\\n, Super 95, \\n]                                                                                                                          3338\n",
       "[\\n, Gasoline, \\n]                                                                                                                          3175\n",
       "[\\n, Diesel, \\n]                                                                                                                            2984\n",
       "[\\n, Super 95 / Regular/Benzine 91, \\n]                                                                                                      424\n",
       "[\\n, Regular/Benzine 91, \\n]                                                                                                                 354\n",
       "[\\n, Super E10 95, \\n]                                                                                                                       331\n",
       "[\\n, Super 95 (Particulate Filter), \\n]                                                                                                      268\n",
       "[\\n, Super 95 / Super E10 95, \\n]                                                                                                            131\n",
       "[\\n, Regular/Benzine 91 (Particulate Filter), \\n]                                                                                            100\n",
       "[\\n, Super 95 / Super Plus 98, \\n]                                                                                                            85\n",
       "[\\n, Gasoline (Particulate Filter), \\n]                                                                                                       77\n",
       "[\\n, Super 95 / Super Plus 98 / Super E10 95 / Super Plus E10 98, \\n]                                                                         40\n",
       "[\\n, Super E10 95 / Super 95, \\n]                                                                                                             38\n",
       "[\\n, CNG, \\n]                                                                                                                                 33\n",
       "[\\n, Super 95 / Super E10 95 (Particulate Filter), \\n]                                                                                        25\n",
       "[\\n, Super E10 95 / Super 95 / Super Plus 98 / Super Plus E10 98, \\n]                                                                         19\n",
       "[\\n, LPG, \\n]                                                                                                                                 16\n",
       "[\\n, Super 95 / Super Plus 98 (Particulate Filter), \\n]                                                                                       14\n",
       "[\\n, Regular/Benzine 91 / Super 95 / Super Plus 98 / Regular/Benzine E10 91 / Super E10 95 / Super Plus E10 98, \\n]                           13\n",
       "[\\n, Regular/Benzine E10 91, \\n]                                                                                                              11\n",
       "[\\n, Liquid petroleum gas (LPG), \\n]                                                                                                          10\n",
       "[\\n, Super 95 / Super Plus 98 / Super E10 95, \\n]                                                                                              8\n",
       "[\\n, Regular/Benzine 91 / Regular/Benzine E10 91, \\n]                                                                                          7\n",
       "[\\n, Super 95 / Regular/Benzine 91 / Super Plus 98 / Regular/Benzine E10 91 / Super E10 95 / Super Plus E10 98, \\n]                            7\n",
       "[\\n, Super Plus 98, \\n]                                                                                                                        7\n",
       "[\\n, Super E10 95 (Particulate Filter), \\n]                                                                                                    7\n",
       "[\\n, Super 95 / Super Plus 98 / Super Plus E10 98 / Super E10 95, \\n]                                                                          5\n",
       "[\\n, Others, \\n]                                                                                                                               5\n",
       "[\\n, Super E10 95 / Super Plus E10 98, \\n]                                                                                                     4\n",
       "[\\n, Electric/Gasoline, \\n]                                                                                                                    4\n",
       "[\\n, Super 95 / Super Plus 98 / Super E10 95 / Super Plus E10 98 (Particulate Filter), \\n]                                                     4\n",
       "[\\n, Super 95 / Super E10 95 / Super Plus E10 98 / Super Plus 98, \\n]                                                                          4\n",
       "[\\n, Regular/Benzine 91 / Super 95 / Super Plus 98 / Regular/Benzine E10 91 / Super Plus E10 98 / Super E10 95, \\n]                            4\n",
       "[\\n, CNG (Particulate Filter), \\n]                                                                                                             3\n",
       "[\\n, Super E10 95 / Super 95 / Super Plus 98 / Super Plus E10 98 (Particulate Filter), \\n]                                                     3\n",
       "[\\n, Super E10 95 / Super 95 / Super Plus 98, \\n]                                                                                              3\n",
       "[\\n, Super E10 95 / Regular/Benzine 91, \\n]                                                                                                    2\n",
       "[\\n, Super 95 / Regular/Benzine 91 / Super Plus 98, \\n]                                                                                        2\n",
       "[\\n, Regular/Benzine 91 / Super 95 / Super Plus 98 / Super Plus E10 98 / Super E10 95 / Regular/Benzine E10 91, \\n]                            2\n",
       "[\\n, Regular/Benzine 91 / Super 95 / Super E10 95, \\n]                                                                                         1\n",
       "[\\n, Electric, \\n]                                                                                                                             1\n",
       "[\\n, Regular/Benzine 91 / Super 95 / Super E10 95 / Super Plus E10 98 / Super Plus 98 / Regular/Benzine E10 91, \\n]                            1\n",
       "[\\n, Super 95 / Super E10 95 / Super Plus E10 98, \\n]                                                                                          1\n",
       "[\\n, Super 95 / Super E10 95 / Super Plus 98, \\n]                                                                                              1\n",
       "[\\n, Regular/Benzine 91 / Super 95 / Super Plus E10 98 / Super E10 95 / Regular/Benzine E10 91 / Super Plus 98, \\n]                            1\n",
       "[\\n, Super 95 / Super Plus 98 / Regular/Benzine E10 91 / Super Plus E10 98 / Super E10 95 / Regular/Benzine 91, \\n]                            1\n",
       "[\\n, Super 95 / Regular/Benzine E10 91, \\n]                                                                                                    1\n",
       "[\\n, Super E10 95 / Regular/Benzine 91 / Regular/Benzine E10 91 / Super 95, \\n]                                                                1\n",
       "[\\n, Super Plus 98 / Regular/Benzine 91, \\n]                                                                                                   1\n",
       "[\\n, Super 95 / Regular/Benzine 91 / Super E10 95 / Super Plus 98 / Super Plus E10 98 / Regular/Benzine E10 91, \\n]                            1\n",
       "[\\n, Super 95 / Super Plus 98 / Super Plus E10 98, \\n]                                                                                         1\n",
       "[\\n, Super 95 / Regular/Benzine 91 (Particulate Filter), \\n]                                                                                   1\n",
       "[\\n, Super 95 / Super E10 95 / Regular/Benzine 91, \\n]                                                                                         1\n",
       "[\\n, Regular/Benzine 91 / Super 95 / Super E10 95 / Regular/Benzine E10 91, \\n]                                                                1\n",
       "[\\n, Super 95 / Regular/Benzine E10 91 / Super E10 95, \\n]                                                                                     1\n",
       "[\\n, Super 95 / Regular/Benzine 91 / Super Plus 98 / Regular/Benzine E10 91 / Super Plus E10 98 / Super E10 95, \\n]                            1\n",
       "[\\n, Regular/Benzine E10 91 / Super E10 95 / Super Plus E10 98 / Super Plus 98 / Super 95 / Regular/Benzine 91, \\n]                            1\n",
       "[\\n, Super 95 / Regular/Benzine 91 / Super E10 95 / Super Plus E10 98 / Super Plus 98, \\n]                                                     1\n",
       "[\\n, Others (Particulate Filter), \\n]                                                                                                          1\n",
       "[\\n, Biogas, \\n]                                                                                                                               1\n",
       "[\\n, Super 95 / Biodiesel, \\n]                                                                                                                 1\n",
       "[\\n, Regular/Benzine 91 / Super 95 / Super Plus 98 / Super Plus E10 98 / Super E10 95 / Regular/Benzine E10 91 (Particulate Filter), \\n]       1\n",
       "[\\n, Regular/Benzine 91 / Super 95 / Super Plus 98, \\n]                                                                                        1\n",
       "[\\n, Regular/Benzine 91 / Super 95, \\n]                                                                                                        1\n",
       "[\\n, Regular/Benzine E10 91 / Regular/Benzine 91 / Super 95 / Super Plus 98 / Super E10 95 / Super Plus E10 98, \\n]                            1\n",
       "[\\n, Domestic gas H, \\n]                                                                                                                       1\n",
       "[\\n, Super E10 95 / Regular/Benzine 91 / Super 95 / Super Plus 98 / Regular/Benzine E10 91 / Super Plus E10 98, \\n]                            1\n",
       "[\\n, Super Plus E10 98 / Super 95 / Super Plus 98 / Super E10 95, \\n]                                                                          1\n",
       "[\\n, Super 95 / Regular/Benzine 91 / Super E10 95 / Super Plus E10 98 / Super Plus 98 / Regular/Benzine E10 91, \\n]                            1\n",
       "[\\n, Super Plus 98 / Super 95 / Super E10 95, \\n]                                                                                              1\n",
       "[\\n, Super Plus E10 98, \\n]                                                                                                                    1\n",
       "[\\n, Regular/Benzine 91 / Super 95 / Regular/Benzine E10 91, \\n]                                                                               1\n",
       "[\\n, Super Plus 98 / Super E10 95, \\n]                                                                                                         1\n",
       "[\\n, Regular/Benzine 91 / Super 95 / Regular/Benzine E10 91 / Super E10 95 / Super Plus 98 / Super Plus E10 98, \\n]                            1\n",
       "[\\n, Regular/Benzine 91 / Super Plus 98 / Regular/Benzine E10 91 / Super 95 / Super E10 95 / Super Plus E10 98, \\n]                            1\n",
       "[\\n, Super Plus 98 / Super 95 / Super Plus E10 98, \\n]                                                                                         1\n",
       "Name: fuel, dtype: int64"
      ]
     },
     "execution_count": 1455,
     "metadata": {},
     "output_type": "execute_result"
    }
   ],
   "source": [
    "df[\"fuel\"].value_counts()"
   ]
  },
  {
   "cell_type": "code",
   "execution_count": 1456,
   "metadata": {},
   "outputs": [
    {
     "data": {
      "text/plain": [
       "fuel                           0\n",
       "electricity_consumption    15782\n",
       "other_fuel_types           15039\n",
       "dtype: int64"
      ]
     },
     "execution_count": 1456,
     "metadata": {},
     "output_type": "execute_result"
    }
   ],
   "source": [
    "df[[\"fuel\",\"electricity_consumption\",\"other_fuel_types\"]].isnull().sum() "
   ]
  },
  {
   "cell_type": "code",
   "execution_count": 1457,
   "metadata": {},
   "outputs": [
    {
     "data": {
      "text/plain": [
       "[\\n0 kWh/100 km (comb)\\n]    137\n",
       "Name: electricity_consumption, dtype: int64"
      ]
     },
     "execution_count": 1457,
     "metadata": {},
     "output_type": "execute_result"
    }
   ],
   "source": [
    "df[\"electricity_consumption\"].value_counts()"
   ]
  },
  {
   "cell_type": "code",
   "execution_count": 1458,
   "metadata": {},
   "outputs": [
    {
     "data": {
      "text/html": [
       "<div>\n",
       "<style scoped>\n",
       "    .dataframe tbody tr th:only-of-type {\n",
       "        vertical-align: middle;\n",
       "    }\n",
       "\n",
       "    .dataframe tbody tr th {\n",
       "        vertical-align: top;\n",
       "    }\n",
       "\n",
       "    .dataframe thead th {\n",
       "        text-align: right;\n",
       "    }\n",
       "</style>\n",
       "<table border=\"1\" class=\"dataframe\">\n",
       "  <thead>\n",
       "    <tr style=\"text-align: right;\">\n",
       "      <th></th>\n",
       "      <th>fuel</th>\n",
       "      <th>electricity_consumption</th>\n",
       "      <th>other_fuel_types</th>\n",
       "    </tr>\n",
       "  </thead>\n",
       "  <tbody>\n",
       "    <tr>\n",
       "      <th>619</th>\n",
       "      <td>[\\n, Diesel, \\n]</td>\n",
       "      <td>NaN</td>\n",
       "      <td>NaN</td>\n",
       "    </tr>\n",
       "    <tr>\n",
       "      <th>12256</th>\n",
       "      <td>[\\n, Diesel, \\n]</td>\n",
       "      <td>NaN</td>\n",
       "      <td>NaN</td>\n",
       "    </tr>\n",
       "    <tr>\n",
       "      <th>7995</th>\n",
       "      <td>[\\n, Gasoline, \\n]</td>\n",
       "      <td>NaN</td>\n",
       "      <td>NaN</td>\n",
       "    </tr>\n",
       "    <tr>\n",
       "      <th>15094</th>\n",
       "      <td>[\\n, Diesel (Particulate Filter), \\n]</td>\n",
       "      <td>NaN</td>\n",
       "      <td>NaN</td>\n",
       "    </tr>\n",
       "    <tr>\n",
       "      <th>14771</th>\n",
       "      <td>[\\n, Regular/Benzine 91, \\n]</td>\n",
       "      <td>NaN</td>\n",
       "      <td>NaN</td>\n",
       "    </tr>\n",
       "    <tr>\n",
       "      <th>2293</th>\n",
       "      <td>[\\n, Diesel, \\n]</td>\n",
       "      <td>NaN</td>\n",
       "      <td>NaN</td>\n",
       "    </tr>\n",
       "    <tr>\n",
       "      <th>2604</th>\n",
       "      <td>[\\n, Super 95, \\n]</td>\n",
       "      <td>NaN</td>\n",
       "      <td>NaN</td>\n",
       "    </tr>\n",
       "    <tr>\n",
       "      <th>4021</th>\n",
       "      <td>[\\n, Diesel, \\n]</td>\n",
       "      <td>NaN</td>\n",
       "      <td>NaN</td>\n",
       "    </tr>\n",
       "    <tr>\n",
       "      <th>7090</th>\n",
       "      <td>[\\n, Super 95, \\n]</td>\n",
       "      <td>NaN</td>\n",
       "      <td>NaN</td>\n",
       "    </tr>\n",
       "    <tr>\n",
       "      <th>742</th>\n",
       "      <td>[\\n, Gasoline, \\n]</td>\n",
       "      <td>NaN</td>\n",
       "      <td>NaN</td>\n",
       "    </tr>\n",
       "    <tr>\n",
       "      <th>2600</th>\n",
       "      <td>[\\n, Super 95 / Regular/Benzine 91, \\n]</td>\n",
       "      <td>NaN</td>\n",
       "      <td>[[], [], []]</td>\n",
       "    </tr>\n",
       "    <tr>\n",
       "      <th>11727</th>\n",
       "      <td>[\\n, Diesel (Particulate Filter), \\n]</td>\n",
       "      <td>NaN</td>\n",
       "      <td>NaN</td>\n",
       "    </tr>\n",
       "    <tr>\n",
       "      <th>4492</th>\n",
       "      <td>[\\n, Diesel, \\n]</td>\n",
       "      <td>NaN</td>\n",
       "      <td>NaN</td>\n",
       "    </tr>\n",
       "    <tr>\n",
       "      <th>11842</th>\n",
       "      <td>[\\n, Diesel (Particulate Filter), \\n]</td>\n",
       "      <td>NaN</td>\n",
       "      <td>NaN</td>\n",
       "    </tr>\n",
       "    <tr>\n",
       "      <th>1722</th>\n",
       "      <td>[\\n, Gasoline, \\n]</td>\n",
       "      <td>NaN</td>\n",
       "      <td>NaN</td>\n",
       "    </tr>\n",
       "  </tbody>\n",
       "</table>\n",
       "</div>"
      ],
      "text/plain": [
       "                                          fuel electricity_consumption  \\\n",
       "619                           [\\n, Diesel, \\n]                     NaN   \n",
       "12256                         [\\n, Diesel, \\n]                     NaN   \n",
       "7995                        [\\n, Gasoline, \\n]                     NaN   \n",
       "15094    [\\n, Diesel (Particulate Filter), \\n]                     NaN   \n",
       "14771             [\\n, Regular/Benzine 91, \\n]                     NaN   \n",
       "2293                          [\\n, Diesel, \\n]                     NaN   \n",
       "2604                        [\\n, Super 95, \\n]                     NaN   \n",
       "4021                          [\\n, Diesel, \\n]                     NaN   \n",
       "7090                        [\\n, Super 95, \\n]                     NaN   \n",
       "742                         [\\n, Gasoline, \\n]                     NaN   \n",
       "2600   [\\n, Super 95 / Regular/Benzine 91, \\n]                     NaN   \n",
       "11727    [\\n, Diesel (Particulate Filter), \\n]                     NaN   \n",
       "4492                          [\\n, Diesel, \\n]                     NaN   \n",
       "11842    [\\n, Diesel (Particulate Filter), \\n]                     NaN   \n",
       "1722                        [\\n, Gasoline, \\n]                     NaN   \n",
       "\n",
       "      other_fuel_types  \n",
       "619                NaN  \n",
       "12256              NaN  \n",
       "7995               NaN  \n",
       "15094              NaN  \n",
       "14771              NaN  \n",
       "2293               NaN  \n",
       "2604               NaN  \n",
       "4021               NaN  \n",
       "7090               NaN  \n",
       "742                NaN  \n",
       "2600      [[], [], []]  \n",
       "11727              NaN  \n",
       "4492               NaN  \n",
       "11842              NaN  \n",
       "1722               NaN  "
      ]
     },
     "execution_count": 1458,
     "metadata": {},
     "output_type": "execute_result"
    }
   ],
   "source": [
    "df[[\"fuel\",\"electricity_consumption\", \"other_fuel_types\" ]].sample(15)"
   ]
  },
  {
   "cell_type": "markdown",
   "metadata": {},
   "source": [
    "### Edwin Hoca code"
   ]
  },
  {
   "cell_type": "code",
   "execution_count": 1459,
   "metadata": {
    "scrolled": true
   },
   "outputs": [
    {
     "data": {
      "text/plain": [
       "['\\n', 'Diesel (Particulate Filter)', '\\n']                                                                                                       4315\n",
       "['\\n', 'Super 95', '\\n']                                                                                                                          3338\n",
       "['\\n', 'Gasoline', '\\n']                                                                                                                          3175\n",
       "['\\n', 'Diesel', '\\n']                                                                                                                            2984\n",
       "['\\n', 'Super 95 / Regular/Benzine 91', '\\n']                                                                                                      424\n",
       "['\\n', 'Regular/Benzine 91', '\\n']                                                                                                                 354\n",
       "['\\n', 'Super E10 95', '\\n']                                                                                                                       331\n",
       "['\\n', 'Super 95 (Particulate Filter)', '\\n']                                                                                                      268\n",
       "['\\n', 'Super 95 / Super E10 95', '\\n']                                                                                                            131\n",
       "['\\n', 'Regular/Benzine 91 (Particulate Filter)', '\\n']                                                                                            100\n",
       "['\\n', 'Super 95 / Super Plus 98', '\\n']                                                                                                            85\n",
       "['\\n', 'Gasoline (Particulate Filter)', '\\n']                                                                                                       77\n",
       "['\\n', 'Super 95 / Super Plus 98 / Super E10 95 / Super Plus E10 98', '\\n']                                                                         40\n",
       "['\\n', 'Super E10 95 / Super 95', '\\n']                                                                                                             38\n",
       "['\\n', 'CNG', '\\n']                                                                                                                                 33\n",
       "['\\n', 'Super 95 / Super E10 95 (Particulate Filter)', '\\n']                                                                                        25\n",
       "['\\n', 'Super E10 95 / Super 95 / Super Plus 98 / Super Plus E10 98', '\\n']                                                                         19\n",
       "['\\n', 'LPG', '\\n']                                                                                                                                 16\n",
       "['\\n', 'Super 95 / Super Plus 98 (Particulate Filter)', '\\n']                                                                                       14\n",
       "['\\n', 'Regular/Benzine 91 / Super 95 / Super Plus 98 / Regular/Benzine E10 91 / Super E10 95 / Super Plus E10 98', '\\n']                           13\n",
       "['\\n', 'Regular/Benzine E10 91', '\\n']                                                                                                              11\n",
       "['\\n', 'Liquid petroleum gas (LPG)', '\\n']                                                                                                          10\n",
       "['\\n', 'Super 95 / Super Plus 98 / Super E10 95', '\\n']                                                                                              8\n",
       "['\\n', 'Regular/Benzine 91 / Regular/Benzine E10 91', '\\n']                                                                                          7\n",
       "['\\n', 'Super 95 / Regular/Benzine 91 / Super Plus 98 / Regular/Benzine E10 91 / Super E10 95 / Super Plus E10 98', '\\n']                            7\n",
       "['\\n', 'Super Plus 98', '\\n']                                                                                                                        7\n",
       "['\\n', 'Super E10 95 (Particulate Filter)', '\\n']                                                                                                    7\n",
       "['\\n', 'Super 95 / Super Plus 98 / Super Plus E10 98 / Super E10 95', '\\n']                                                                          5\n",
       "['\\n', 'Others', '\\n']                                                                                                                               5\n",
       "['\\n', 'Super E10 95 / Super Plus E10 98', '\\n']                                                                                                     4\n",
       "['\\n', 'Electric/Gasoline', '\\n']                                                                                                                    4\n",
       "['\\n', 'Super 95 / Super Plus 98 / Super E10 95 / Super Plus E10 98 (Particulate Filter)', '\\n']                                                     4\n",
       "['\\n', 'Super 95 / Super E10 95 / Super Plus E10 98 / Super Plus 98', '\\n']                                                                          4\n",
       "['\\n', 'Regular/Benzine 91 / Super 95 / Super Plus 98 / Regular/Benzine E10 91 / Super Plus E10 98 / Super E10 95', '\\n']                            4\n",
       "['\\n', 'CNG (Particulate Filter)', '\\n']                                                                                                             3\n",
       "['\\n', 'Super E10 95 / Super 95 / Super Plus 98 / Super Plus E10 98 (Particulate Filter)', '\\n']                                                     3\n",
       "['\\n', 'Super E10 95 / Super 95 / Super Plus 98', '\\n']                                                                                              3\n",
       "['\\n', 'Super E10 95 / Regular/Benzine 91', '\\n']                                                                                                    2\n",
       "['\\n', 'Super 95 / Regular/Benzine 91 / Super Plus 98', '\\n']                                                                                        2\n",
       "['\\n', 'Regular/Benzine 91 / Super 95 / Super Plus 98 / Super Plus E10 98 / Super E10 95 / Regular/Benzine E10 91', '\\n']                            2\n",
       "['\\n', 'Regular/Benzine 91 / Super 95 / Super E10 95', '\\n']                                                                                         1\n",
       "['\\n', 'Electric', '\\n']                                                                                                                             1\n",
       "['\\n', 'Regular/Benzine 91 / Super 95 / Super E10 95 / Super Plus E10 98 / Super Plus 98 / Regular/Benzine E10 91', '\\n']                            1\n",
       "['\\n', 'Super 95 / Super E10 95 / Super Plus E10 98', '\\n']                                                                                          1\n",
       "['\\n', 'Super 95 / Super E10 95 / Super Plus 98', '\\n']                                                                                              1\n",
       "['\\n', 'Regular/Benzine 91 / Super 95 / Super Plus E10 98 / Super E10 95 / Regular/Benzine E10 91 / Super Plus 98', '\\n']                            1\n",
       "['\\n', 'Super 95 / Super Plus 98 / Regular/Benzine E10 91 / Super Plus E10 98 / Super E10 95 / Regular/Benzine 91', '\\n']                            1\n",
       "['\\n', 'Super 95 / Regular/Benzine E10 91', '\\n']                                                                                                    1\n",
       "['\\n', 'Super E10 95 / Regular/Benzine 91 / Regular/Benzine E10 91 / Super 95', '\\n']                                                                1\n",
       "['\\n', 'Super Plus 98 / Regular/Benzine 91', '\\n']                                                                                                   1\n",
       "['\\n', 'Super 95 / Regular/Benzine 91 / Super E10 95 / Super Plus 98 / Super Plus E10 98 / Regular/Benzine E10 91', '\\n']                            1\n",
       "['\\n', 'Super 95 / Super Plus 98 / Super Plus E10 98', '\\n']                                                                                         1\n",
       "['\\n', 'Super 95 / Regular/Benzine 91 (Particulate Filter)', '\\n']                                                                                   1\n",
       "['\\n', 'Super 95 / Super E10 95 / Regular/Benzine 91', '\\n']                                                                                         1\n",
       "['\\n', 'Regular/Benzine 91 / Super 95 / Super E10 95 / Regular/Benzine E10 91', '\\n']                                                                1\n",
       "['\\n', 'Super 95 / Regular/Benzine E10 91 / Super E10 95', '\\n']                                                                                     1\n",
       "['\\n', 'Super 95 / Regular/Benzine 91 / Super Plus 98 / Regular/Benzine E10 91 / Super Plus E10 98 / Super E10 95', '\\n']                            1\n",
       "['\\n', 'Regular/Benzine E10 91 / Super E10 95 / Super Plus E10 98 / Super Plus 98 / Super 95 / Regular/Benzine 91', '\\n']                            1\n",
       "['\\n', 'Super 95 / Regular/Benzine 91 / Super E10 95 / Super Plus E10 98 / Super Plus 98', '\\n']                                                     1\n",
       "['\\n', 'Others (Particulate Filter)', '\\n']                                                                                                          1\n",
       "['\\n', 'Biogas', '\\n']                                                                                                                               1\n",
       "['\\n', 'Super 95 / Biodiesel', '\\n']                                                                                                                 1\n",
       "['\\n', 'Regular/Benzine 91 / Super 95 / Super Plus 98 / Super Plus E10 98 / Super E10 95 / Regular/Benzine E10 91 (Particulate Filter)', '\\n']       1\n",
       "['\\n', 'Regular/Benzine 91 / Super 95 / Super Plus 98', '\\n']                                                                                        1\n",
       "['\\n', 'Regular/Benzine 91 / Super 95', '\\n']                                                                                                        1\n",
       "['\\n', 'Regular/Benzine E10 91 / Regular/Benzine 91 / Super 95 / Super Plus 98 / Super E10 95 / Super Plus E10 98', '\\n']                            1\n",
       "['\\n', 'Domestic gas H', '\\n']                                                                                                                       1\n",
       "['\\n', 'Super E10 95 / Regular/Benzine 91 / Super 95 / Super Plus 98 / Regular/Benzine E10 91 / Super Plus E10 98', '\\n']                            1\n",
       "['\\n', 'Super Plus E10 98 / Super 95 / Super Plus 98 / Super E10 95', '\\n']                                                                          1\n",
       "['\\n', 'Super 95 / Regular/Benzine 91 / Super E10 95 / Super Plus E10 98 / Super Plus 98 / Regular/Benzine E10 91', '\\n']                            1\n",
       "['\\n', 'Super Plus 98 / Super 95 / Super E10 95', '\\n']                                                                                              1\n",
       "['\\n', 'Super Plus E10 98', '\\n']                                                                                                                    1\n",
       "['\\n', 'Regular/Benzine 91 / Super 95 / Regular/Benzine E10 91', '\\n']                                                                               1\n",
       "['\\n', 'Super Plus 98 / Super E10 95', '\\n']                                                                                                         1\n",
       "['\\n', 'Regular/Benzine 91 / Super 95 / Regular/Benzine E10 91 / Super E10 95 / Super Plus 98 / Super Plus E10 98', '\\n']                            1\n",
       "['\\n', 'Regular/Benzine 91 / Super Plus 98 / Regular/Benzine E10 91 / Super 95 / Super E10 95 / Super Plus E10 98', '\\n']                            1\n",
       "['\\n', 'Super Plus 98 / Super 95 / Super Plus E10 98', '\\n']                                                                                         1\n",
       "Name: fuel, dtype: int64"
      ]
     },
     "execution_count": 1459,
     "metadata": {},
     "output_type": "execute_result"
    }
   ],
   "source": [
    "df[\"fuel\"].astype('str').value_counts(dropna=False)\n"
   ]
  },
  {
   "cell_type": "code",
   "execution_count": 1460,
   "metadata": {},
   "outputs": [],
   "source": [
    "df[\"fuel\"] = df.fuel.str[1].str.split(\"/\").str[0].str.strip()\n"
   ]
  },
  {
   "cell_type": "code",
   "execution_count": 1461,
   "metadata": {},
   "outputs": [
    {
     "data": {
      "text/plain": [
       "Diesel (Particulate Filter)          4315\n",
       "Super 95                             4100\n",
       "Gasoline                             3175\n",
       "Diesel                               2984\n",
       "Regular                               503\n",
       "Super E10 95                          402\n",
       "Super 95 (Particulate Filter)         268\n",
       "Gasoline (Particulate Filter)          77\n",
       "CNG                                    33\n",
       "LPG                                    16\n",
       "Super Plus 98                          11\n",
       "Liquid petroleum gas (LPG)             10\n",
       "Super E10 95 (Particulate Filter)       7\n",
       "Electric                                5\n",
       "Others                                  5\n",
       "CNG (Particulate Filter)                3\n",
       "Super Plus E10 98                       2\n",
       "Others (Particulate Filter)             1\n",
       "Biogas                                  1\n",
       "Domestic gas H                          1\n",
       "Name: fuel, dtype: int64"
      ]
     },
     "execution_count": 1461,
     "metadata": {},
     "output_type": "execute_result"
    }
   ],
   "source": [
    "df[\"fuel\"].value_counts(dropna=False)\n"
   ]
  },
  {
   "cell_type": "code",
   "execution_count": 1462,
   "metadata": {},
   "outputs": [],
   "source": [
    "df[\"fuel\"] = df.fuel.str.split(\"(\").str[0].str.strip()\n"
   ]
  },
  {
   "cell_type": "code",
   "execution_count": 1463,
   "metadata": {},
   "outputs": [
    {
     "data": {
      "text/plain": [
       "Diesel                  7299\n",
       "Super 95                4368\n",
       "Gasoline                3252\n",
       "Regular                  503\n",
       "Super E10 95             409\n",
       "CNG                       36\n",
       "LPG                       16\n",
       "Super Plus 98             11\n",
       "Liquid petroleum gas      10\n",
       "Others                     6\n",
       "Electric                   5\n",
       "Super Plus E10 98          2\n",
       "Biogas                     1\n",
       "Domestic gas H             1\n",
       "Name: fuel, dtype: int64"
      ]
     },
     "execution_count": 1463,
     "metadata": {},
     "output_type": "execute_result"
    }
   ],
   "source": [
    "df[\"fuel\"].value_counts(dropna=False)\n"
   ]
  },
  {
   "cell_type": "code",
   "execution_count": 1464,
   "metadata": {},
   "outputs": [],
   "source": [
    "benzin = [\"Gasoline\", \"Super 95\", \"Regular\", \"Super E10 95\", \"Super Plus 98\", \"Super Plus E10 98\", \"Others\"]\n",
    "\n",
    "gas = [\"LPG\", \"Liquid petroleum gas\", \"CNG\", \"Biogas\", \"Domestic gas H\"]\n",
    "\n",
    "\n",
    "def fueltypes(x):\n",
    "    if x in benzin:\n",
    "        return \"Benzin\"\n",
    "    elif x in gas:\n",
    "        return \"Gas\"\n",
    "    else:\n",
    "        return x\n",
    "    \n",
    "    \n",
    "df.fuel = df.fuel.apply(fueltypes)"
   ]
  },
  {
   "cell_type": "code",
   "execution_count": 1465,
   "metadata": {},
   "outputs": [
    {
     "data": {
      "text/plain": [
       "Benzin      8551\n",
       "Diesel      7299\n",
       "Gas           64\n",
       "Electric       5\n",
       "Name: fuel, dtype: int64"
      ]
     },
     "execution_count": 1465,
     "metadata": {},
     "output_type": "execute_result"
    }
   ],
   "source": [
    "df.fuel.value_counts()"
   ]
  },
  {
   "cell_type": "markdown",
   "metadata": {},
   "source": [
    "## Consumption"
   ]
  },
  {
   "cell_type": "code",
   "execution_count": 1466,
   "metadata": {},
   "outputs": [
    {
     "data": {
      "text/plain": [
       "[[3.9 l/100 km (comb)], [4.1 l/100 km (city)], [3.7 l/100 km (country)]]              304\n",
       "[[4.2 l/100 km (comb)], [5 l/100 km (city)], [3.7 l/100 km (country)]]                276\n",
       "[[5.4 l/100 km (comb)], [6.8 l/100 km (city)], [4.5 l/100 km (country)]]              257\n",
       "[[3.8 l/100 km (comb)], [4.3 l/100 km (city)], [3.5 l/100 km (country)]]              253\n",
       "[[4.7 l/100 km (comb)], [5.1 l/100 km (city)], [4.4 l/100 km (country)]]              244\n",
       "                                                                                     ... \n",
       "[[4.2 l/100 km (comb)], [5.3 l/100 km (city)], [3.6 l/100 km (country)]]                1\n",
       "[\\n, 5.1 l/100 km (comb), \\n, 6.4 l/100 km (city), \\n, 4.3 l/100 km (country), \\n]      1\n",
       "[[4.6 l/100 km (comb)], [5.4 l/100 km (city)], [6.7 l/100 km (country)]]                1\n",
       "[\\n, 6.3 l/100 km (comb), \\n, \\n, \\n]                                                   1\n",
       "[\\n, 7.4 l/100 km (comb), \\n, 9.6 l/100 km (city), \\n, 6 l/100 km (country), \\n]        1\n",
       "Name: consumption, Length: 881, dtype: int64"
      ]
     },
     "execution_count": 1466,
     "metadata": {},
     "output_type": "execute_result"
    }
   ],
   "source": [
    "df[\"consumption\"].value_counts()"
   ]
  },
  {
   "cell_type": "code",
   "execution_count": 1467,
   "metadata": {},
   "outputs": [
    {
     "data": {
      "text/plain": [
       "1906"
      ]
     },
     "execution_count": 1467,
     "metadata": {},
     "output_type": "execute_result"
    }
   ],
   "source": [
    "df[\"consumption\"].isnull().sum() "
   ]
  },
  {
   "cell_type": "code",
   "execution_count": 1468,
   "metadata": {},
   "outputs": [
    {
     "data": {
      "text/html": [
       "<div>\n",
       "<style scoped>\n",
       "    .dataframe tbody tr th:only-of-type {\n",
       "        vertical-align: middle;\n",
       "    }\n",
       "\n",
       "    .dataframe tbody tr th {\n",
       "        vertical-align: top;\n",
       "    }\n",
       "\n",
       "    .dataframe thead th {\n",
       "        text-align: right;\n",
       "    }\n",
       "</style>\n",
       "<table border=\"1\" class=\"dataframe\">\n",
       "  <thead>\n",
       "    <tr style=\"text-align: right;\">\n",
       "      <th></th>\n",
       "      <th>consumption</th>\n",
       "    </tr>\n",
       "  </thead>\n",
       "  <tbody>\n",
       "    <tr>\n",
       "      <th>11115</th>\n",
       "      <td>NaN</td>\n",
       "    </tr>\n",
       "    <tr>\n",
       "      <th>13683</th>\n",
       "      <td>[[3.3 l/100 km (comb)], [3.5 l/100 km (city)],...</td>\n",
       "    </tr>\n",
       "    <tr>\n",
       "      <th>13765</th>\n",
       "      <td>[[5.2 l/100 km (comb)], [6.6 l/100 km (city)],...</td>\n",
       "    </tr>\n",
       "    <tr>\n",
       "      <th>13546</th>\n",
       "      <td>[[3.3 l/100 km (comb)], [3.5 l/100 km (city)],...</td>\n",
       "    </tr>\n",
       "    <tr>\n",
       "      <th>15320</th>\n",
       "      <td>[[4.4 l/100 km (comb)], [5.1 l/100 km (city)],...</td>\n",
       "    </tr>\n",
       "    <tr>\n",
       "      <th>9847</th>\n",
       "      <td>[\\n, 5.9 l/100 km (comb), \\n, 7.5 l/100 km (ci...</td>\n",
       "    </tr>\n",
       "    <tr>\n",
       "      <th>11804</th>\n",
       "      <td>[[5 l/100 km (comb)], [6 l/100 km (city)], [4 ...</td>\n",
       "    </tr>\n",
       "    <tr>\n",
       "      <th>3057</th>\n",
       "      <td>[[4.9 l/100 km (comb)], [6.2 l/100 km (city)],...</td>\n",
       "    </tr>\n",
       "    <tr>\n",
       "      <th>2465</th>\n",
       "      <td>[[4.7 l/100 km (comb)], [5.9 l/100 km (city)],...</td>\n",
       "    </tr>\n",
       "    <tr>\n",
       "      <th>9483</th>\n",
       "      <td>[[5.2 l/100 km (comb)], [6.6 l/100 km (city)],...</td>\n",
       "    </tr>\n",
       "    <tr>\n",
       "      <th>15407</th>\n",
       "      <td>[[4.7 l/100 km (comb)], [5.1 l/100 km (city)],...</td>\n",
       "    </tr>\n",
       "    <tr>\n",
       "      <th>12510</th>\n",
       "      <td>[[5.5 l/100 km (comb)], [7.3 l/100 km (city)],...</td>\n",
       "    </tr>\n",
       "    <tr>\n",
       "      <th>1844</th>\n",
       "      <td>[[3.9 l/100 km (comb)], [4.5 l/100 km (city)],...</td>\n",
       "    </tr>\n",
       "    <tr>\n",
       "      <th>8472</th>\n",
       "      <td>[[4.8 l/100 km (comb)], [5.9 l/100 km (city)],...</td>\n",
       "    </tr>\n",
       "    <tr>\n",
       "      <th>1359</th>\n",
       "      <td>[[4.2 l/100 km (comb)], [5 l/100 km (city)], [...</td>\n",
       "    </tr>\n",
       "  </tbody>\n",
       "</table>\n",
       "</div>"
      ],
      "text/plain": [
       "                                             consumption\n",
       "11115                                                NaN\n",
       "13683  [[3.3 l/100 km (comb)], [3.5 l/100 km (city)],...\n",
       "13765  [[5.2 l/100 km (comb)], [6.6 l/100 km (city)],...\n",
       "13546  [[3.3 l/100 km (comb)], [3.5 l/100 km (city)],...\n",
       "15320  [[4.4 l/100 km (comb)], [5.1 l/100 km (city)],...\n",
       "9847   [\\n, 5.9 l/100 km (comb), \\n, 7.5 l/100 km (ci...\n",
       "11804  [[5 l/100 km (comb)], [6 l/100 km (city)], [4 ...\n",
       "3057   [[4.9 l/100 km (comb)], [6.2 l/100 km (city)],...\n",
       "2465   [[4.7 l/100 km (comb)], [5.9 l/100 km (city)],...\n",
       "9483   [[5.2 l/100 km (comb)], [6.6 l/100 km (city)],...\n",
       "15407  [[4.7 l/100 km (comb)], [5.1 l/100 km (city)],...\n",
       "12510  [[5.5 l/100 km (comb)], [7.3 l/100 km (city)],...\n",
       "1844   [[3.9 l/100 km (comb)], [4.5 l/100 km (city)],...\n",
       "8472   [[4.8 l/100 km (comb)], [5.9 l/100 km (city)],...\n",
       "1359   [[4.2 l/100 km (comb)], [5 l/100 km (city)], [..."
      ]
     },
     "execution_count": 1468,
     "metadata": {},
     "output_type": "execute_result"
    }
   ],
   "source": [
    "df[[\"consumption\"]].sample(15)"
   ]
  },
  {
   "cell_type": "markdown",
   "metadata": {},
   "source": [
    "## Comfort & Convenience"
   ]
  },
  {
   "cell_type": "code",
   "execution_count": 1469,
   "metadata": {
    "scrolled": true
   },
   "outputs": [
    {
     "data": {
      "text/plain": [
       "[Air conditioning, Electrical side mirrors, Hill Holder, Power windows]                                                                                                                                                                                                                                                                                                                                                                                                                                                      216\n",
       "[Air conditioning, Electrical side mirrors, Power windows]                                                                                                                                                                                                                                                                                                                                                                                                                                                                   134\n",
       "[Air conditioning, Power windows]                                                                                                                                                                                                                                                                                                                                                                                                                                                                                            130\n",
       "[Air conditioning, Armrest, Automatic climate control, Cruise control, Electrical side mirrors, Leather steering wheel, Light sensor, Lumbar support, Multi-function steering wheel, Navigation system, Park Distance Control, Parking assist system sensors front, Parking assist system sensors rear, Power windows, Rain sensor, Seat heating, Start-stop system]                                                                                                                                                         105\n",
       "[Air conditioning, Armrest, Automatic climate control, Cruise control, Electrical side mirrors, Hill Holder, Leather steering wheel, Light sensor, Multi-function steering wheel, Navigation system, Park Distance Control, Parking assist system sensors rear, Power windows, Rain sensor, Seat heating, Start-stop system]                                                                                                                                                                                                  92\n",
       "                                                                                                                                                                                                                                                                                                                                                                                                                                                                                                                            ... \n",
       "[Air conditioning, Cruise control, Electrical side mirrors, Multi-function steering wheel, Park Distance Control, Parking assist system sensors front, Parking assist system sensors rear, Power windows, Start-stop system]                                                                                                                                                                                                                                                                                                   1\n",
       "[Air conditioning, Armrest, Cruise control, Electrical side mirrors, Heated steering wheel, Hill Holder, Leather steering wheel, Light sensor, Multi-function steering wheel, Park Distance Control, Parking assist system camera, Parking assist system sensors rear, Power windows, Rain sensor, Seat heating, Split rear seats, Start-stop system, Sunroof, Tinted windows]                                                                                                                                                 1\n",
       "[Air conditioning, Armrest, Cruise control, Hill Holder, Leather steering wheel, Multi-function steering wheel, Park Distance Control, Parking assist system sensors front, Parking assist system sensors rear, Power windows]                                                                                                                                                                                                                                                                                                 1\n",
       "[Air conditioning, Armrest, Automatic climate control, Cruise control, Electrical side mirrors, Leather steering wheel, Multi-function steering wheel, Power windows, Rain sensor, Start-stop system, Tinted windows]                                                                                                                                                                                                                                                                                                          1\n",
       "[Air conditioning, Automatic climate control, Cruise control, Electrically heated windshield, Electrical side mirrors, Electric tailgate, Heads-up display, Heated steering wheel, Hill Holder, Keyless central door lock, Leather steering wheel, Light sensor, Lumbar support, Navigation system, Park Distance Control, Parking assist system camera, Parking assist system self-steering, Parking assist system sensors front, Parking assist system sensors rear, Power windows, Rain sensor, Seat heating, Sunroof]      1\n",
       "Name: comfort_&_convenience, Length: 6198, dtype: int64"
      ]
     },
     "execution_count": 1469,
     "metadata": {},
     "output_type": "execute_result"
    }
   ],
   "source": [
    "df[\"comfort_&_convenience\"].value_counts()"
   ]
  },
  {
   "cell_type": "code",
   "execution_count": 1470,
   "metadata": {},
   "outputs": [
    {
     "data": {
      "text/plain": [
       "920"
      ]
     },
     "execution_count": 1470,
     "metadata": {},
     "output_type": "execute_result"
    }
   ],
   "source": [
    "df[\"comfort_&_convenience\"].isnull().sum() "
   ]
  },
  {
   "cell_type": "code",
   "execution_count": 1471,
   "metadata": {},
   "outputs": [
    {
     "data": {
      "text/plain": [
       "Index(['url', 'make_model', 'short_description', 'body_type', 'price', 'vat',\n",
       "       'km', 'registration', 'prev_owner', 'k_w', 'hp', 'type',\n",
       "       'previous_owners', 'next_inspection', 'inspection_new', 'warranty',\n",
       "       'full_service', 'non_smoking_vehicle', 'null', 'make', 'model',\n",
       "       'offer_number', 'first_registration', 'body_color', 'paint_type',\n",
       "       'body_color_original', 'upholstery', 'body', 'nr_of_doors',\n",
       "       'nr_of_seats', 'model_code', 'gearing_type', 'displacement',\n",
       "       'cylinders', 'weight', 'drive_chain', 'fuel', 'consumption',\n",
       "       'co_2_emission', 'emission_class', 'comfort_&_convenience',\n",
       "       'entertainment_&_media', 'extras', 'safety_&_security', 'description',\n",
       "       'emission_label', 'gears', 'country_version', 'electricity_consumption',\n",
       "       'last_service_date', 'other_fuel_types', 'availability',\n",
       "       'last_timing_belt_service_date', 'available_from',\n",
       "       'First Registration'],\n",
       "      dtype='object')"
      ]
     },
     "execution_count": 1471,
     "metadata": {},
     "output_type": "execute_result"
    }
   ],
   "source": [
    "df.columns"
   ]
  },
  {
   "cell_type": "markdown",
   "metadata": {},
   "source": [
    "## Entertainment & Media"
   ]
  },
  {
   "cell_type": "code",
   "execution_count": 1472,
   "metadata": {},
   "outputs": [
    {
     "data": {
      "text/plain": [
       "[Bluetooth, Hands-free equipment, On-board computer, Radio, USB]                         1282\n",
       "[Bluetooth, Hands-free equipment, MP3, On-board computer, Radio, USB]                     982\n",
       "[Bluetooth, CD player, Hands-free equipment, MP3, On-board computer, Radio, USB]          783\n",
       "[On-board computer, Radio]                                                                487\n",
       "[Radio]                                                                                   477\n",
       "                                                                                         ... \n",
       "[Bluetooth, CD player, MP3]                                                                 1\n",
       "[CD player, USB]                                                                            1\n",
       "[Bluetooth, CD player, Digital radio, Radio, USB]                                           1\n",
       "[Bluetooth, CD player, Digital radio, MP3, On-board computer, Radio, Television, USB]       1\n",
       "[Hands-free equipment, On-board computer, Radio, Sound system]                              1\n",
       "Name: entertainment_&_media, Length: 346, dtype: int64"
      ]
     },
     "execution_count": 1472,
     "metadata": {},
     "output_type": "execute_result"
    }
   ],
   "source": [
    "df[\"entertainment_&_media\"].value_counts()"
   ]
  },
  {
   "cell_type": "code",
   "execution_count": 1473,
   "metadata": {},
   "outputs": [
    {
     "data": {
      "text/plain": [
       "1374"
      ]
     },
     "execution_count": 1473,
     "metadata": {},
     "output_type": "execute_result"
    }
   ],
   "source": [
    "df[\"entertainment_&_media\"].isnull().sum() "
   ]
  },
  {
   "cell_type": "markdown",
   "metadata": {},
   "source": [
    "## Extras"
   ]
  },
  {
   "cell_type": "code",
   "execution_count": 1474,
   "metadata": {},
   "outputs": [
    {
     "data": {
      "text/plain": [
       "[Alloy wheels]                                                                                                     3245\n",
       "[Alloy wheels, Touch screen]                                                                                        697\n",
       "[Alloy wheels, Voice Control]                                                                                       577\n",
       "[Alloy wheels, Touch screen, Voice Control]                                                                         541\n",
       "[Alloy wheels, Roof rack]                                                                                           385\n",
       "                                                                                                                   ... \n",
       "[Alloy wheels, Catalytic Converter, Shift paddles, Sport package, Sport seats, Sport suspension, Voice Control]       1\n",
       "[Alloy wheels, Catalytic Converter, Roof rack, Sport package, Sport seats, Trailer hitch]                             1\n",
       "[Alloy wheels, Catalytic Converter, Ski bag, Sport package, Voice Control]                                            1\n",
       "[Catalytic Converter, Roof rack, Sport seats, Sport suspension]                                                       1\n",
       "[Alloy wheels, Shift paddles, Ski bag, Sport seats, Sport suspension, Touch screen, Voice Control]                    1\n",
       "Name: extras, Length: 659, dtype: int64"
      ]
     },
     "execution_count": 1474,
     "metadata": {},
     "output_type": "execute_result"
    }
   ],
   "source": [
    "df[\"extras\"].value_counts()"
   ]
  },
  {
   "cell_type": "code",
   "execution_count": 1475,
   "metadata": {},
   "outputs": [
    {
     "data": {
      "text/plain": [
       "2962"
      ]
     },
     "execution_count": 1475,
     "metadata": {},
     "output_type": "execute_result"
    }
   ],
   "source": [
    "df[\"extras\"].isnull().sum() "
   ]
  },
  {
   "cell_type": "markdown",
   "metadata": {},
   "source": [
    "## Safety & Security"
   ]
  },
  {
   "cell_type": "code",
   "execution_count": 1476,
   "metadata": {},
   "outputs": [
    {
     "data": {
      "text/plain": [
       "[ABS, Central door lock, Daytime running lights, Driver-side airbag, Electronic stability control, Fog lights, Immobilizer, Isofix, Passenger-side airbag, Power steering, Side airbag, Tire pressure monitoring system, Traction control]                                                                                                                                           538\n",
       "[ABS, Central door lock, Daytime running lights, Driver-side airbag, Electronic stability control, Immobilizer, Isofix, Passenger-side airbag, Power steering, Side airbag, Tire pressure monitoring system, Traction control]                                                                                                                                                       480\n",
       "[ABS, Central door lock, Daytime running lights, Driver-side airbag, Electronic stability control, Immobilizer, Isofix, Passenger-side airbag, Power steering, Side airbag, Tire pressure monitoring system, Traction control, Xenon headlights]                                                                                                                                     275\n",
       "[ABS, Central door lock, Daytime running lights, Driver-side airbag, Electronic stability control, Fog lights, Immobilizer, Isofix, LED Daytime Running Lights, Passenger-side airbag, Power steering, Side airbag, Tire pressure monitoring system, Traction control]                                                                                                               272\n",
       "[ABS, Central door lock, Daytime running lights, Driver-side airbag, Electronic stability control, Immobilizer, Isofix, LED Daytime Running Lights, Passenger-side airbag, Power steering, Side airbag, Tire pressure monitoring system, Traction control]                                                                                                                           228\n",
       "                                                                                                                                                                                                                                                                                                                                                                                    ... \n",
       "[ABS, Central door lock, Electronic stability control, Immobilizer, Isofix, Passenger-side airbag, Power steering, Side airbag]                                                                                                                                                                                                                                                        1\n",
       "[ABS, Adaptive Cruise Control, Central door lock, Daytime running lights, Driver-side airbag, Electronic stability control, Emergency brake assistant, Immobilizer, Isofix, Passenger-side airbag, Power steering, Side airbag, Tire pressure monitoring system, Traction control]                                                                                                     1\n",
       "[ABS, Adaptive Cruise Control, Alarm system, Central door lock, Driver-side airbag, Electronic stability control, Fog lights, Immobilizer, Isofix, Lane departure warning system, LED Daytime Running Lights, Passenger-side airbag, Power steering, Side airbag, Tire pressure monitoring system, Traction control, Xenon headlights]                                                 1\n",
       "[ABS, Adaptive Cruise Control, Central door lock, Daytime running lights, Driver-side airbag, Electronic stability control, Fog lights, Immobilizer, Isofix, Power steering, Tire pressure monitoring system, Traction control]                                                                                                                                                        1\n",
       "[ABS, Adaptive Cruise Control, Central door lock, Daytime running lights, Driver-side airbag, Electronic stability control, Emergency brake assistant, Fog lights, Immobilizer, Isofix, Lane departure warning system, LED Daytime Running Lights, LED Headlights, Passenger-side airbag, Power steering, Side airbag, Tire pressure monitoring system, Traffic sign recognition]      1\n",
       "Name: safety_&_security, Length: 4443, dtype: int64"
      ]
     },
     "execution_count": 1476,
     "metadata": {},
     "output_type": "execute_result"
    }
   ],
   "source": [
    "df[\"safety_&_security\"].value_counts()"
   ]
  },
  {
   "cell_type": "code",
   "execution_count": 1477,
   "metadata": {},
   "outputs": [
    {
     "data": {
      "text/plain": [
       "982"
      ]
     },
     "execution_count": 1477,
     "metadata": {},
     "output_type": "execute_result"
    }
   ],
   "source": [
    "df[\"safety_&_security\"].isnull().sum() "
   ]
  },
  {
   "cell_type": "markdown",
   "metadata": {},
   "source": [
    "## Country version"
   ]
  },
  {
   "cell_type": "code",
   "execution_count": 1478,
   "metadata": {},
   "outputs": [
    {
     "data": {
      "text/plain": [
       "[\\nGermany\\n]           4502\n",
       "[\\nItaly\\n]             1038\n",
       "[\\nEuropean Union\\n]     507\n",
       "[\\nNetherlands\\n]        464\n",
       "[\\nSpain\\n]              325\n",
       "[\\nBelgium\\n]            314\n",
       "[\\nAustria\\n]            208\n",
       "[\\nCzech Republic\\n]      52\n",
       "[\\nPoland\\n]              49\n",
       "[\\nFrance\\n]              38\n",
       "[\\nDenmark\\n]             33\n",
       "[\\nHungary\\n]             28\n",
       "[\\nJapan\\n]                8\n",
       "[\\nSlovakia\\n]             4\n",
       "[\\nCroatia\\n]              4\n",
       "[\\nSweden\\n]               3\n",
       "[\\nRomania\\n]              2\n",
       "[\\nBulgaria\\n]             2\n",
       "[\\nLuxembourg\\n]           1\n",
       "[\\nSwitzerland\\n]          1\n",
       "[\\nSlovenia\\n]             1\n",
       "[\\nEgypt\\n]                1\n",
       "[\\nSerbia\\n]               1\n",
       "Name: country_version, dtype: int64"
      ]
     },
     "execution_count": 1478,
     "metadata": {},
     "output_type": "execute_result"
    }
   ],
   "source": [
    "df[\"country_version\"].value_counts()"
   ]
  },
  {
   "cell_type": "code",
   "execution_count": 1479,
   "metadata": {},
   "outputs": [
    {
     "data": {
      "text/plain": [
       "8333"
      ]
     },
     "execution_count": 1479,
     "metadata": {},
     "output_type": "execute_result"
    }
   ],
   "source": [
    "df[\"country_version\"].isnull().sum() "
   ]
  },
  {
   "cell_type": "code",
   "execution_count": 1480,
   "metadata": {},
   "outputs": [],
   "source": [
    "df[\"country_version\"] = [item[0] if type(item) == list else item for item in df[\"country_version\"]]\n",
    "## hepsini liste disina cikaracak4\n",
    "\n",
    "\n",
    "#df[\"previous_owners\"]= df[\"previous_owners\"].str.strip(\"\\n\").astype('float')"
   ]
  },
  {
   "cell_type": "code",
   "execution_count": 1481,
   "metadata": {
    "scrolled": false
   },
   "outputs": [
    {
     "data": {
      "text/plain": [
       "\\nGermany\\n           4502\n",
       "\\nItaly\\n             1038\n",
       "\\nEuropean Union\\n     507\n",
       "\\nNetherlands\\n        464\n",
       "\\nSpain\\n              325\n",
       "\\nBelgium\\n            314\n",
       "\\nAustria\\n            208\n",
       "\\nCzech Republic\\n      52\n",
       "\\nPoland\\n              49\n",
       "\\nFrance\\n              38\n",
       "\\nDenmark\\n             33\n",
       "\\nHungary\\n             28\n",
       "\\nJapan\\n                8\n",
       "\\nSlovakia\\n             4\n",
       "\\nCroatia\\n              4\n",
       "\\nSweden\\n               3\n",
       "\\nRomania\\n              2\n",
       "\\nBulgaria\\n             2\n",
       "\\nLuxembourg\\n           1\n",
       "\\nSwitzerland\\n          1\n",
       "\\nSlovenia\\n             1\n",
       "\\nEgypt\\n                1\n",
       "\\nSerbia\\n               1\n",
       "Name: country_version, dtype: int64"
      ]
     },
     "execution_count": 1481,
     "metadata": {},
     "output_type": "execute_result"
    }
   ],
   "source": [
    "df[\"country_version\"].value_counts()"
   ]
  },
  {
   "cell_type": "code",
   "execution_count": 1482,
   "metadata": {},
   "outputs": [
    {
     "data": {
      "text/plain": [
       "NaN               8333\n",
       "Germany           4502\n",
       "Italy             1038\n",
       "European Union     507\n",
       "Netherlands        464\n",
       "Spain              325\n",
       "Belgium            314\n",
       "Austria            208\n",
       "Czech Republic      52\n",
       "Poland              49\n",
       "France              38\n",
       "Denmark             33\n",
       "Hungary             28\n",
       "Japan                8\n",
       "Slovakia             4\n",
       "Croatia              4\n",
       "Sweden               3\n",
       "Romania              2\n",
       "Bulgaria             2\n",
       "Luxembourg           1\n",
       "Switzerland          1\n",
       "Slovenia             1\n",
       "Egypt                1\n",
       "Serbia               1\n",
       "Name: country_version, dtype: int64"
      ]
     },
     "execution_count": 1482,
     "metadata": {},
     "output_type": "execute_result"
    }
   ],
   "source": [
    "df.country_version = df[\"country_version\"].replace(\"\\\\n\",\"\", regex=True)\n",
    "df[\"country_version\"].value_counts(dropna=False)"
   ]
  },
  {
   "cell_type": "code",
   "execution_count": 1483,
   "metadata": {},
   "outputs": [
    {
     "data": {
      "text/plain": [
       "url                              https://www.autoscout24.com//offers/audi-a1-sp...\n",
       "make_model                                                                 Audi A1\n",
       "short_description                      Sportback 1.4 TDI S-tronic Xenon Navi Klima\n",
       "body_type                                                                   Sedans\n",
       "price                                                                    15770.000\n",
       "vat                                                                 VAT deductible\n",
       "km                                                                       56013.000\n",
       "registration                                                               01/2016\n",
       "prev_owner                                                                       2\n",
       "k_w                                                                            NaN\n",
       "hp                                                                           66 kW\n",
       "type                                                                        Diesel\n",
       "previous_owners                                                              2.000\n",
       "next_inspection                                                                NaT\n",
       "inspection_new                                               [\\nYes\\n, \\nEuro 6\\n]\n",
       "warranty                                                   [\\n, \\n, \\n4 (Green)\\n]\n",
       "full_service                                                              [\\n, \\n]\n",
       "non_smoking_vehicle                                                       [\\n, \\n]\n",
       "null                                                                            []\n",
       "make                                                                          Audi\n",
       "model                                                                           A1\n",
       "offer_number                                                       [\\nLR-062483\\n]\n",
       "first_registration                                                  [\\n, 2016, \\n]\n",
       "body_color                                                         [\\n, Black, \\n]\n",
       "paint_type                                                          [\\nMetallic\\n]\n",
       "body_color_original                                            [\\nMythosschwarz\\n]\n",
       "upholstery                                                      [\\nCloth, Black\\n]\n",
       "body                                                                        Sedans\n",
       "nr_of_doors                                                                [\\n5\\n]\n",
       "nr_of_seats                                                                [\\n5\\n]\n",
       "model_code                                                          [\\n0588/BDF\\n]\n",
       "gearing_type                                                   [\\n, Automatic, \\n]\n",
       "displacement                                                        [\\n1,422 cc\\n]\n",
       "cylinders                                                                  [\\n3\\n]\n",
       "weight                                                              [\\n1,220 kg\\n]\n",
       "drive_chain                                                            [\\nfront\\n]\n",
       "fuel                                                                        Diesel\n",
       "consumption                      [[3.8 l/100 km (comb)], [4.3 l/100 km (city)],...\n",
       "co_2_emission                                             [\\n99 g CO2/km (comb)\\n]\n",
       "emission_class                                                        [\\nEuro 6\\n]\n",
       "comfort_&_convenience            [Air conditioning, Armrest, Automatic climate ...\n",
       "entertainment_&_media            [Bluetooth, Hands-free equipment, On-board com...\n",
       "extras                           [Alloy wheels, Catalytic Converter, Voice Cont...\n",
       "safety_&_security                [ABS, Central door lock, Daytime running light...\n",
       "description                      [\\n, Sicherheit:,  , Deaktivierung für Beifahr...\n",
       "emission_label                                                                 NaN\n",
       "gears                                                                          NaN\n",
       "country_version                                                                NaN\n",
       "electricity_consumption                                                        NaN\n",
       "last_service_date                                                              NaN\n",
       "other_fuel_types                                                               NaN\n",
       "availability                                                                   NaN\n",
       "last_timing_belt_service_date                                                  NaN\n",
       "available_from                                                                 NaN\n",
       "First Registration                                                            2016\n",
       "Name: 0, dtype: object"
      ]
     },
     "execution_count": 1483,
     "metadata": {},
     "output_type": "execute_result"
    }
   ],
   "source": [
    "df.iloc[0]"
   ]
  },
  {
   "cell_type": "markdown",
   "metadata": {},
   "source": [
    "## Last Service Date"
   ]
  },
  {
   "cell_type": "code",
   "execution_count": 1484,
   "metadata": {},
   "outputs": [
    {
     "data": {
      "text/plain": [
       "[\\n02/2019\\n, \\nEuro 6\\n]                 23\n",
       "[\\n05/2019\\n, \\nEuro 6\\n]                 16\n",
       "[\\n01/2018\\n, \\n118 g CO2/km (comb)\\n]    15\n",
       "[\\n03/2019\\n, \\nEuro 6\\n]                 15\n",
       "[\\n06/2019\\n, \\nEuro 6\\n]                 13\n",
       "                                          ..\n",
       "[\\n01/2017\\n, \\n95 g CO2/km (comb)\\n]      1\n",
       "[\\n06/2019\\n, \\n87 g CO2/km (comb)\\n]      1\n",
       "[\\n10/2018\\n, \\n100 g CO2/km (comb)\\n]     1\n",
       "[\\n02/2018\\n, \\n97 g CO2/km (comb)\\n]      1\n",
       "[\\n03/2019\\n, \\n120 g CO2/km (comb)\\n]     1\n",
       "Name: last_service_date, Length: 266, dtype: int64"
      ]
     },
     "execution_count": 1484,
     "metadata": {},
     "output_type": "execute_result"
    }
   ],
   "source": [
    "df[\"last_service_date\"].value_counts()"
   ]
  },
  {
   "cell_type": "code",
   "execution_count": 1485,
   "metadata": {},
   "outputs": [
    {
     "data": {
      "text/plain": [
       "15353"
      ]
     },
     "execution_count": 1485,
     "metadata": {},
     "output_type": "execute_result"
    }
   ],
   "source": [
    "df[\"last_service_date\"].isnull().sum() "
   ]
  },
  {
   "cell_type": "markdown",
   "metadata": {},
   "source": [
    "## Availability"
   ]
  },
  {
   "cell_type": "code",
   "execution_count": 1486,
   "metadata": {},
   "outputs": [
    {
     "data": {
      "text/plain": [
       "\\nin 90 days from ordering\\n     196\n",
       "\\nin 120 days from ordering\\n    182\n",
       "\\nin 1 day from ordering\\n        51\n",
       "\\nin 5 days from ordering\\n       35\n",
       "\\nin 3 days from ordering\\n       35\n",
       "\\nin 180 days from ordering\\n     24\n",
       "\\nin 14 days from ordering\\n      24\n",
       "\\nin 7 days from ordering\\n       20\n",
       "\\nin 150 days from ordering\\n     18\n",
       "\\nin 2 days from ordering\\n       16\n",
       "\\nin 60 days from ordering\\n      13\n",
       "\\nin 42 days from ordering\\n      10\n",
       "\\nin 21 days from ordering\\n       8\n",
       "\\nin 4 days from ordering\\n        2\n",
       "\\nin 6 days from ordering\\n        1\n",
       "Name: availability, dtype: int64"
      ]
     },
     "execution_count": 1486,
     "metadata": {},
     "output_type": "execute_result"
    }
   ],
   "source": [
    "df[\"availability\"].value_counts()"
   ]
  },
  {
   "cell_type": "code",
   "execution_count": 1487,
   "metadata": {},
   "outputs": [
    {
     "data": {
      "text/plain": [
       "15284"
      ]
     },
     "execution_count": 1487,
     "metadata": {},
     "output_type": "execute_result"
    }
   ],
   "source": [
    "df[\"availability\"].isnull().sum() "
   ]
  },
  {
   "cell_type": "markdown",
   "metadata": {},
   "source": [
    "## Available from"
   ]
  },
  {
   "cell_type": "code",
   "execution_count": 1488,
   "metadata": {
    "scrolled": true
   },
   "outputs": [
    {
     "data": {
      "text/plain": [
       "\\n31/08/19\\n    98\n",
       "\\n30/07/19\\n    25\n",
       "\\n15/08/19\\n    24\n",
       "\\n16/09/19\\n    14\n",
       "\\n29/06/19\\n    12\n",
       "\\n01/07/19\\n    11\n",
       "\\n28/06/19\\n    10\n",
       "\\n19/08/19\\n     7\n",
       "\\n10/09/19\\n     6\n",
       "\\n26/06/19\\n     5\n",
       "\\n27/06/19\\n     5\n",
       "\\n10/11/19\\n     5\n",
       "\\n08/07/19\\n     4\n",
       "\\n25/10/19\\n     3\n",
       "\\n15/07/19\\n     3\n",
       "\\n01/08/19\\n     3\n",
       "\\n04/07/19\\n     2\n",
       "\\n05/08/19\\n     2\n",
       "\\n24/08/19\\n     2\n",
       "\\n16/07/19\\n     2\n",
       "\\n20/07/19\\n     2\n",
       "\\n05/07/19\\n     2\n",
       "\\n30/06/19\\n     2\n",
       "\\n30/09/19\\n     1\n",
       "\\n31/10/19\\n     1\n",
       "\\n27/07/19\\n     1\n",
       "\\n02/07/19\\n     1\n",
       "\\n10/07/19\\n     1\n",
       "\\n19/07/19\\n     1\n",
       "\\n24/07/19\\n     1\n",
       "\\n29/07/19\\n     1\n",
       "\\n29/09/19\\n     1\n",
       "\\n18/08/19\\n     1\n",
       "\\n14/09/19\\n     1\n",
       "\\n18/07/19\\n     1\n",
       "\\n16/08/19\\n     1\n",
       "\\n24/09/19\\n     1\n",
       "\\n17/08/19\\n     1\n",
       "\\n10/10/19\\n     1\n",
       "\\n06/12/19\\n     1\n",
       "\\n03/12/19\\n     1\n",
       "\\n05/12/19\\n     1\n",
       "\\n11/08/19\\n     1\n",
       "\\n10/12/19\\n     1\n",
       "\\n01/09/19\\n     1\n",
       "\\n03/08/19\\n     1\n",
       "Name: available_from, dtype: int64"
      ]
     },
     "execution_count": 1488,
     "metadata": {},
     "output_type": "execute_result"
    }
   ],
   "source": [
    "df[\"available_from\"].value_counts()"
   ]
  },
  {
   "cell_type": "code",
   "execution_count": 1489,
   "metadata": {},
   "outputs": [
    {
     "data": {
      "text/plain": [
       "15647"
      ]
     },
     "execution_count": 1489,
     "metadata": {},
     "output_type": "execute_result"
    }
   ],
   "source": [
    "df[\"available_from\"].isnull().sum() "
   ]
  },
  {
   "cell_type": "markdown",
   "metadata": {},
   "source": [
    "## Last Timing Belt Service Date"
   ]
  },
  {
   "cell_type": "code",
   "execution_count": 1490,
   "metadata": {},
   "outputs": [
    {
     "data": {
      "text/plain": [
       "[\\n04/2016\\n]                2\n",
       "[\\n12/1900\\n]                1\n",
       "[\\n07/2018\\n]                1\n",
       "[\\n01/1900\\n]                1\n",
       "[\\n05/2019\\n]                1\n",
       "[\\n09/2018\\n]                1\n",
       "[\\n05/2018\\n, \\nEuro 6\\n]    1\n",
       "[\\n06/2017\\n]                1\n",
       "[\\n01/2019\\n]                1\n",
       "[\\n02/2019\\n]                1\n",
       "[\\n02/2018\\n]                1\n",
       "[\\n06/2019\\n]                1\n",
       "[\\n01/2018\\n]                1\n",
       "[\\n04/2019\\n]                1\n",
       "[\\n01/1970\\n]                1\n",
       "Name: last_timing_belt_service_date, dtype: int64"
      ]
     },
     "execution_count": 1490,
     "metadata": {},
     "output_type": "execute_result"
    }
   ],
   "source": [
    "df[\"last_timing_belt_service_date\"].value_counts()"
   ]
  },
  {
   "cell_type": "code",
   "execution_count": 1491,
   "metadata": {},
   "outputs": [
    {
     "data": {
      "text/plain": [
       "15903"
      ]
     },
     "execution_count": 1491,
     "metadata": {},
     "output_type": "execute_result"
    }
   ],
   "source": [
    "df[\"last_timing_belt_service_date\"].isnull().sum() "
   ]
  },
  {
   "cell_type": "code",
   "execution_count": null,
   "metadata": {},
   "outputs": [],
   "source": []
  },
  {
   "cell_type": "code",
   "execution_count": null,
   "metadata": {},
   "outputs": [],
   "source": []
  },
  {
   "cell_type": "code",
   "execution_count": null,
   "metadata": {},
   "outputs": [],
   "source": []
  },
  {
   "cell_type": "code",
   "execution_count": null,
   "metadata": {},
   "outputs": [],
   "source": []
  },
  {
   "cell_type": "code",
   "execution_count": null,
   "metadata": {},
   "outputs": [],
   "source": []
  },
  {
   "cell_type": "code",
   "execution_count": null,
   "metadata": {},
   "outputs": [],
   "source": []
  },
  {
   "cell_type": "markdown",
   "metadata": {},
   "source": [
    "# PART- 2 `( Handling With Missing Vales )`"
   ]
  },
  {
   "cell_type": "code",
   "execution_count": null,
   "metadata": {},
   "outputs": [],
   "source": []
  },
  {
   "cell_type": "markdown",
   "metadata": {},
   "source": [
    "# PART- 3 `( Handling With Outliers )`"
   ]
  },
  {
   "cell_type": "code",
   "execution_count": null,
   "metadata": {},
   "outputs": [],
   "source": []
  },
  {
   "cell_type": "markdown",
   "metadata": {},
   "source": [
    "# Final Step (Checking final situation of data via graphs)"
   ]
  },
  {
   "cell_type": "code",
   "execution_count": null,
   "metadata": {},
   "outputs": [],
   "source": []
  },
  {
   "cell_type": "markdown",
   "metadata": {},
   "source": [
    "## Export dataframe to csv file (without dummy)"
   ]
  },
  {
   "cell_type": "code",
   "execution_count": 1492,
   "metadata": {},
   "outputs": [],
   "source": [
    "df.to_csv(\"final_scout_not_dummy.csv\", index=False)"
   ]
  },
  {
   "cell_type": "markdown",
   "metadata": {},
   "source": [
    "# Dummy Operation"
   ]
  },
  {
   "cell_type": "code",
   "execution_count": null,
   "metadata": {},
   "outputs": [],
   "source": []
  },
  {
   "cell_type": "markdown",
   "metadata": {},
   "source": [
    "## Export dataframe to csv file (dummy)"
   ]
  },
  {
   "cell_type": "code",
   "execution_count": 1493,
   "metadata": {},
   "outputs": [
    {
     "ename": "NameError",
     "evalue": "name 'df_dummied' is not defined",
     "output_type": "error",
     "traceback": [
      "\u001b[1;31m---------------------------------------------------------------------------\u001b[0m",
      "\u001b[1;31mNameError\u001b[0m                                 Traceback (most recent call last)",
      "\u001b[1;32m<ipython-input-1493-0070e033c36f>\u001b[0m in \u001b[0;36m<module>\u001b[1;34m\u001b[0m\n\u001b[1;32m----> 1\u001b[1;33m \u001b[0mdf_dummied\u001b[0m\u001b[1;33m.\u001b[0m\u001b[0mto_csv\u001b[0m\u001b[1;33m(\u001b[0m\u001b[1;34m\"final_scout_dummy.csv\"\u001b[0m\u001b[1;33m,\u001b[0m \u001b[0mindex\u001b[0m\u001b[1;33m=\u001b[0m\u001b[1;32mFalse\u001b[0m\u001b[1;33m)\u001b[0m\u001b[1;33m\u001b[0m\u001b[1;33m\u001b[0m\u001b[0m\n\u001b[0m",
      "\u001b[1;31mNameError\u001b[0m: name 'df_dummied' is not defined"
     ]
    }
   ],
   "source": [
    "df_dummied.to_csv(\"final_scout_dummy.csv\", index=False)"
   ]
  }
 ],
 "metadata": {
  "kernelspec": {
   "display_name": "Python 3",
   "language": "python",
   "name": "python3"
  },
  "language_info": {
   "codemirror_mode": {
    "name": "ipython",
    "version": 3
   },
   "file_extension": ".py",
   "mimetype": "text/x-python",
   "name": "python",
   "nbconvert_exporter": "python",
   "pygments_lexer": "ipython3",
   "version": "3.8.8"
  },
  "toc": {
   "base_numbering": 1,
   "nav_menu": {},
   "number_sections": true,
   "sideBar": true,
   "skip_h1_title": false,
   "title_cell": "Table of Contents",
   "title_sidebar": "Contents",
   "toc_cell": false,
   "toc_position": {
    "height": "calc(100% - 180px)",
    "left": "10px",
    "top": "150px",
    "width": "311.188px"
   },
   "toc_section_display": true,
   "toc_window_display": true
  }
 },
 "nbformat": 4,
 "nbformat_minor": 4
}
