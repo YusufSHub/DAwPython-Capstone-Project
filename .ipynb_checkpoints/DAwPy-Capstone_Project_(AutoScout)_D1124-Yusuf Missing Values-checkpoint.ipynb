{
 "cells": [
  {
   "cell_type": "markdown",
   "metadata": {},
   "source": [
    "___\n",
    "\n",
    "<p style=\"text-align: center;\"><img src=\"https://docs.google.com/uc?id=1lY0Uj5R04yMY3-ZppPWxqCr5pvBLYPnV\" class=\"img-fluid\" \n",
    "alt=\"CLRSWY\"></p>\n",
    "\n",
    "## <p style=\"background-color:#FDFEFE; font-family:newtimeroman; color:#9d4f8c; font-size:100%; text-align:center; border-radius:10px 10px;\">WAY TO REINVENT YOURSELF</p>"
   ]
  },
  {
   "cell_type": "markdown",
   "metadata": {},
   "source": [
    "<img src=https://i.ibb.co/wJW61Y2/Used-cars.jpg width=\"700\" height=\"200\">\n",
    "\n",
    "## <p style=\"background-color:#FDFEFE; font-family:newtimeroman; color:#060108; font-size:200%; text-align:center; border-radius:10px 10px;\">The Capstone Project of Data Analytics Module</p>\n",
    "\n",
    "## <p style=\"background-color:#FDFEFE; font-family:newtimeroman; color:#060108; font-size:150%; text-align:center; border-radius:10px 10px;\">Car Price Prediction EDA</p>"
   ]
  },
  {
   "cell_type": "markdown",
   "metadata": {},
   "source": [
    "# WELCOME!"
   ]
  },
  {
   "cell_type": "markdown",
   "metadata": {},
   "source": [
    "## Introduction\n",
    "Welcome to \"***AutoScout Data Analysis Project***\". This is the capstone project of ***Data Analysis*** Module. **Auto Scout** data which using for this project, scraped from the on-line car trading company in 2019, contains many features of 9 different car models. In this project, you will have the opportunity to apply many commonly used algorithms for Data Cleaning and Exploratory Data Analysis by using many Python libraries such as Numpy, Pandas, Matplotlib, Seaborn, Scipy you will analyze clean dataset.\n",
    "\n",
    "The project consists of 3 parts:\n",
    "* First part is related with 'data cleaning'. It deals with Incorrect Headers, Incorrect Format, Anomalies, Dropping useless columns.\n",
    "* Second part is related with 'filling data'. It deals with Missing Values. Categorical to numeric transformation is done.\n",
    "* Third part is related with 'handling outliers of data' via Visualisation libraries. Some insights are extracted.\n"
   ]
  },
  {
   "cell_type": "code",
   "execution_count": 1,
   "metadata": {},
   "outputs": [],
   "source": [
    "import pandas as pd \n",
    "import numpy as np \n",
    "import matplotlib.pyplot as plt \n",
    "import seaborn as sns\n",
    "\n",
    "import warnings \n",
    "warnings.filterwarnings(\"ignore\") \n",
    "warnings.warn(\"this will not show\")\n",
    "\n",
    "%matplotlib inline\n",
    "\n",
    "plt.rcParams[\"figure.figsize\"] = (10,6)\n",
    "\n",
    "sns.set_style(\"whitegrid\") \n",
    "pd.set_option('display.float_format', lambda x: '%.3f' % x)\n",
    "\n",
    "pd.options.display.max_rows = 150 \n",
    "pd.options.display.max_columns = 100\n",
    "import json\n",
    "import regex as re\n",
    "from datetime import date\n",
    "from datetime import datetime\n",
    "from datetime import timedelta"
   ]
  },
  {
   "cell_type": "markdown",
   "metadata": {},
   "source": [
    "# PART- 1 `( Data Cleaning )`"
   ]
  },
  {
   "cell_type": "code",
   "execution_count": 2,
   "metadata": {},
   "outputs": [],
   "source": [
    "df0 = pd.read_excel(\"scout_car_dropped.xlsx\")\n",
    "df = df0.copy()"
   ]
  },
  {
   "cell_type": "code",
   "execution_count": 3,
   "metadata": {},
   "outputs": [
    {
     "data": {
      "text/html": [
       "<div>\n",
       "<style scoped>\n",
       "    .dataframe tbody tr th:only-of-type {\n",
       "        vertical-align: middle;\n",
       "    }\n",
       "\n",
       "    .dataframe tbody tr th {\n",
       "        vertical-align: top;\n",
       "    }\n",
       "\n",
       "    .dataframe thead th {\n",
       "        text-align: right;\n",
       "    }\n",
       "</style>\n",
       "<table border=\"1\" class=\"dataframe\">\n",
       "  <thead>\n",
       "    <tr style=\"text-align: right;\">\n",
       "      <th></th>\n",
       "      <th>Unnamed: 0</th>\n",
       "      <th>make_model</th>\n",
       "      <th>body_type</th>\n",
       "      <th>price</th>\n",
       "      <th>vat</th>\n",
       "      <th>km</th>\n",
       "      <th>registration</th>\n",
       "      <th>hp</th>\n",
       "      <th>type</th>\n",
       "      <th>previous_owners</th>\n",
       "      <th>make</th>\n",
       "      <th>model</th>\n",
       "      <th>first_registration</th>\n",
       "      <th>body_color</th>\n",
       "      <th>paint_type</th>\n",
       "      <th>upholstery</th>\n",
       "      <th>body</th>\n",
       "      <th>nr_of_doors</th>\n",
       "      <th>nr_of_seats</th>\n",
       "      <th>gearing_type</th>\n",
       "      <th>displacement</th>\n",
       "      <th>cylinders</th>\n",
       "      <th>weight</th>\n",
       "      <th>drive_chain</th>\n",
       "      <th>fuel</th>\n",
       "      <th>co_2_emission</th>\n",
       "      <th>emission_class</th>\n",
       "      <th>gears</th>\n",
       "      <th>country_version</th>\n",
       "      <th>cons_combined</th>\n",
       "      <th>cons_city</th>\n",
       "      <th>cons_country</th>\n",
       "      <th>air_cond</th>\n",
       "      <th>bluetooth</th>\n",
       "    </tr>\n",
       "  </thead>\n",
       "  <tbody>\n",
       "    <tr>\n",
       "      <th>0</th>\n",
       "      <td>0</td>\n",
       "      <td>Audi A1</td>\n",
       "      <td>Sedans</td>\n",
       "      <td>15770</td>\n",
       "      <td>VAT deductible</td>\n",
       "      <td>56013</td>\n",
       "      <td>01/2016</td>\n",
       "      <td>66.000</td>\n",
       "      <td>Diesel</td>\n",
       "      <td>2.000</td>\n",
       "      <td>Audi</td>\n",
       "      <td>A1</td>\n",
       "      <td>2016.000</td>\n",
       "      <td>Black</td>\n",
       "      <td>Metallic</td>\n",
       "      <td>Cloth, Black</td>\n",
       "      <td>Sedans</td>\n",
       "      <td>5.000</td>\n",
       "      <td>5.000</td>\n",
       "      <td>Automatic</td>\n",
       "      <td>1422.000</td>\n",
       "      <td>3.000</td>\n",
       "      <td>1220.000</td>\n",
       "      <td>front</td>\n",
       "      <td>Diesel</td>\n",
       "      <td>99.000</td>\n",
       "      <td>Euro 6</td>\n",
       "      <td>NaN</td>\n",
       "      <td>NaN</td>\n",
       "      <td>3.800</td>\n",
       "      <td>4.300</td>\n",
       "      <td>3.500</td>\n",
       "      <td>Air conditioning</td>\n",
       "      <td>Bluetooth</td>\n",
       "    </tr>\n",
       "    <tr>\n",
       "      <th>1</th>\n",
       "      <td>1</td>\n",
       "      <td>Audi A1</td>\n",
       "      <td>Sedans</td>\n",
       "      <td>14500</td>\n",
       "      <td>Price negotiable</td>\n",
       "      <td>80000</td>\n",
       "      <td>03/2017</td>\n",
       "      <td>141.000</td>\n",
       "      <td>Benzin</td>\n",
       "      <td>NaN</td>\n",
       "      <td>Audi</td>\n",
       "      <td>A1</td>\n",
       "      <td>2017.000</td>\n",
       "      <td>Red</td>\n",
       "      <td>NaN</td>\n",
       "      <td>Cloth, Grey</td>\n",
       "      <td>Sedans</td>\n",
       "      <td>3.000</td>\n",
       "      <td>4.000</td>\n",
       "      <td>Automatic</td>\n",
       "      <td>1798.000</td>\n",
       "      <td>4.000</td>\n",
       "      <td>1255.000</td>\n",
       "      <td>front</td>\n",
       "      <td>Benzin</td>\n",
       "      <td>129.000</td>\n",
       "      <td>Euro 6</td>\n",
       "      <td>7.000</td>\n",
       "      <td>NaN</td>\n",
       "      <td>5.600</td>\n",
       "      <td>7.100</td>\n",
       "      <td>4.700</td>\n",
       "      <td>Air conditioning</td>\n",
       "      <td>Bluetooth</td>\n",
       "    </tr>\n",
       "    <tr>\n",
       "      <th>2</th>\n",
       "      <td>2</td>\n",
       "      <td>Audi A1</td>\n",
       "      <td>Sedans</td>\n",
       "      <td>14640</td>\n",
       "      <td>VAT deductible</td>\n",
       "      <td>83450</td>\n",
       "      <td>02/2016</td>\n",
       "      <td>85.000</td>\n",
       "      <td>Diesel</td>\n",
       "      <td>1.000</td>\n",
       "      <td>Audi</td>\n",
       "      <td>A1</td>\n",
       "      <td>2016.000</td>\n",
       "      <td>Black</td>\n",
       "      <td>Metallic</td>\n",
       "      <td>Cloth, Black</td>\n",
       "      <td>Sedans</td>\n",
       "      <td>4.000</td>\n",
       "      <td>4.000</td>\n",
       "      <td>Automatic</td>\n",
       "      <td>1598.000</td>\n",
       "      <td>NaN</td>\n",
       "      <td>NaN</td>\n",
       "      <td>front</td>\n",
       "      <td>Diesel</td>\n",
       "      <td>99.000</td>\n",
       "      <td>Euro 6</td>\n",
       "      <td>NaN</td>\n",
       "      <td>NaN</td>\n",
       "      <td>3.800</td>\n",
       "      <td>4.400</td>\n",
       "      <td>3.400</td>\n",
       "      <td>Air conditioning</td>\n",
       "      <td>MP3</td>\n",
       "    </tr>\n",
       "    <tr>\n",
       "      <th>3</th>\n",
       "      <td>3</td>\n",
       "      <td>Audi A1</td>\n",
       "      <td>Sedans</td>\n",
       "      <td>14500</td>\n",
       "      <td>NaN</td>\n",
       "      <td>73000</td>\n",
       "      <td>08/2016</td>\n",
       "      <td>66.000</td>\n",
       "      <td>Diesel</td>\n",
       "      <td>1.000</td>\n",
       "      <td>Audi</td>\n",
       "      <td>A1</td>\n",
       "      <td>2016.000</td>\n",
       "      <td>Brown</td>\n",
       "      <td>Metallic</td>\n",
       "      <td>NaN</td>\n",
       "      <td>Sedans</td>\n",
       "      <td>3.000</td>\n",
       "      <td>4.000</td>\n",
       "      <td>Automatic</td>\n",
       "      <td>1422.000</td>\n",
       "      <td>3.000</td>\n",
       "      <td>1195.000</td>\n",
       "      <td>NaN</td>\n",
       "      <td>Diesel</td>\n",
       "      <td>99.000</td>\n",
       "      <td>Euro 6</td>\n",
       "      <td>6.000</td>\n",
       "      <td>NaN</td>\n",
       "      <td>3.800</td>\n",
       "      <td>4.300</td>\n",
       "      <td>3.500</td>\n",
       "      <td>Air suspension</td>\n",
       "      <td>Bluetooth</td>\n",
       "    </tr>\n",
       "    <tr>\n",
       "      <th>4</th>\n",
       "      <td>4</td>\n",
       "      <td>Audi A1</td>\n",
       "      <td>Sedans</td>\n",
       "      <td>16790</td>\n",
       "      <td>NaN</td>\n",
       "      <td>16200</td>\n",
       "      <td>05/2016</td>\n",
       "      <td>66.000</td>\n",
       "      <td>Diesel</td>\n",
       "      <td>1.000</td>\n",
       "      <td>Audi</td>\n",
       "      <td>A1</td>\n",
       "      <td>2016.000</td>\n",
       "      <td>Black</td>\n",
       "      <td>Metallic</td>\n",
       "      <td>Cloth, Black</td>\n",
       "      <td>Sedans</td>\n",
       "      <td>5.000</td>\n",
       "      <td>5.000</td>\n",
       "      <td>Automatic</td>\n",
       "      <td>1422.000</td>\n",
       "      <td>3.000</td>\n",
       "      <td>NaN</td>\n",
       "      <td>front</td>\n",
       "      <td>Diesel</td>\n",
       "      <td>109.000</td>\n",
       "      <td>Euro 6</td>\n",
       "      <td>NaN</td>\n",
       "      <td>Germany</td>\n",
       "      <td>4.100</td>\n",
       "      <td>4.600</td>\n",
       "      <td>3.800</td>\n",
       "      <td>Air conditioning</td>\n",
       "      <td>Bluetooth</td>\n",
       "    </tr>\n",
       "  </tbody>\n",
       "</table>\n",
       "</div>"
      ],
      "text/plain": [
       "   Unnamed: 0 make_model body_type  price               vat     km  \\\n",
       "0           0    Audi A1    Sedans  15770    VAT deductible  56013   \n",
       "1           1    Audi A1    Sedans  14500  Price negotiable  80000   \n",
       "2           2    Audi A1    Sedans  14640    VAT deductible  83450   \n",
       "3           3    Audi A1    Sedans  14500               NaN  73000   \n",
       "4           4    Audi A1    Sedans  16790               NaN  16200   \n",
       "\n",
       "  registration      hp    type  previous_owners  make model  \\\n",
       "0      01/2016  66.000  Diesel            2.000  Audi    A1   \n",
       "1      03/2017 141.000  Benzin              NaN  Audi    A1   \n",
       "2      02/2016  85.000  Diesel            1.000  Audi    A1   \n",
       "3      08/2016  66.000  Diesel            1.000  Audi    A1   \n",
       "4      05/2016  66.000  Diesel            1.000  Audi    A1   \n",
       "\n",
       "   first_registration body_color paint_type    upholstery    body  \\\n",
       "0            2016.000      Black   Metallic  Cloth, Black  Sedans   \n",
       "1            2017.000        Red        NaN   Cloth, Grey  Sedans   \n",
       "2            2016.000      Black   Metallic  Cloth, Black  Sedans   \n",
       "3            2016.000      Brown   Metallic           NaN  Sedans   \n",
       "4            2016.000      Black   Metallic  Cloth, Black  Sedans   \n",
       "\n",
       "   nr_of_doors  nr_of_seats gearing_type  displacement  cylinders   weight  \\\n",
       "0        5.000        5.000    Automatic      1422.000      3.000 1220.000   \n",
       "1        3.000        4.000    Automatic      1798.000      4.000 1255.000   \n",
       "2        4.000        4.000    Automatic      1598.000        NaN      NaN   \n",
       "3        3.000        4.000    Automatic      1422.000      3.000 1195.000   \n",
       "4        5.000        5.000    Automatic      1422.000      3.000      NaN   \n",
       "\n",
       "  drive_chain    fuel  co_2_emission emission_class  gears country_version  \\\n",
       "0       front  Diesel         99.000         Euro 6    NaN             NaN   \n",
       "1       front  Benzin        129.000         Euro 6  7.000             NaN   \n",
       "2       front  Diesel         99.000         Euro 6    NaN             NaN   \n",
       "3         NaN  Diesel         99.000         Euro 6  6.000             NaN   \n",
       "4       front  Diesel        109.000         Euro 6    NaN         Germany   \n",
       "\n",
       "   cons_combined  cons_city  cons_country          air_cond  bluetooth  \n",
       "0          3.800      4.300         3.500  Air conditioning  Bluetooth  \n",
       "1          5.600      7.100         4.700  Air conditioning  Bluetooth  \n",
       "2          3.800      4.400         3.400  Air conditioning        MP3  \n",
       "3          3.800      4.300         3.500    Air suspension  Bluetooth  \n",
       "4          4.100      4.600         3.800  Air conditioning  Bluetooth  "
      ]
     },
     "execution_count": 3,
     "metadata": {},
     "output_type": "execute_result"
    }
   ],
   "source": [
    "df.head()"
   ]
  },
  {
   "cell_type": "code",
   "execution_count": 4,
   "metadata": {},
   "outputs": [],
   "source": [
    "df.drop(\"Unnamed: 0\", axis=1, inplace=True)"
   ]
  },
  {
   "cell_type": "code",
   "execution_count": 5,
   "metadata": {},
   "outputs": [
    {
     "data": {
      "text/plain": [
       "525327"
      ]
     },
     "execution_count": 5,
     "metadata": {},
     "output_type": "execute_result"
    }
   ],
   "source": [
    "df.size"
   ]
  },
  {
   "cell_type": "code",
   "execution_count": 6,
   "metadata": {},
   "outputs": [
    {
     "name": "stdout",
     "output_type": "stream",
     "text": [
      "<class 'pandas.core.frame.DataFrame'>\n",
      "RangeIndex: 15919 entries, 0 to 15918\n",
      "Data columns (total 33 columns):\n",
      " #   Column              Non-Null Count  Dtype  \n",
      "---  ------              --------------  -----  \n",
      " 0   make_model          15919 non-null  object \n",
      " 1   body_type           15859 non-null  object \n",
      " 2   price               15919 non-null  int64  \n",
      " 3   vat                 11406 non-null  object \n",
      " 4   km                  15919 non-null  int64  \n",
      " 5   registration        14322 non-null  object \n",
      " 6   hp                  15831 non-null  float64\n",
      " 7   type                15917 non-null  object \n",
      " 8   previous_owners     9279 non-null   float64\n",
      " 9   make                15919 non-null  object \n",
      " 10  model               15919 non-null  object \n",
      " 11  first_registration  14322 non-null  float64\n",
      " 12  body_color          15322 non-null  object \n",
      " 13  paint_type          10147 non-null  object \n",
      " 14  upholstery          12199 non-null  object \n",
      " 15  body                15859 non-null  object \n",
      " 16  nr_of_doors         15707 non-null  float64\n",
      " 17  nr_of_seats         14942 non-null  float64\n",
      " 18  gearing_type        15919 non-null  object \n",
      " 19  displacement        15423 non-null  float64\n",
      " 20  cylinders           10239 non-null  float64\n",
      " 21  weight              8945 non-null   float64\n",
      " 22  drive_chain         9061 non-null   object \n",
      " 23  fuel                15919 non-null  object \n",
      " 24  co_2_emission       13483 non-null  float64\n",
      " 25  emission_class      12291 non-null  object \n",
      " 26  gears               11207 non-null  float64\n",
      " 27  country_version     7586 non-null   object \n",
      " 28  cons_combined       13036 non-null  float64\n",
      " 29  cons_city           12647 non-null  float64\n",
      " 30  cons_country        12707 non-null  float64\n",
      " 31  air_cond            14999 non-null  object \n",
      " 32  bluetooth           14545 non-null  object \n",
      "dtypes: float64(13), int64(2), object(18)\n",
      "memory usage: 4.0+ MB\n"
     ]
    }
   ],
   "source": [
    "df.info()"
   ]
  },
  {
   "cell_type": "code",
   "execution_count": 7,
   "metadata": {},
   "outputs": [
    {
     "data": {
      "text/plain": [
       "0        01/2016\n",
       "1        03/2017\n",
       "2        02/2016\n",
       "3        08/2016\n",
       "4        05/2016\n",
       "          ...   \n",
       "15914        NaN\n",
       "15915    01/2019\n",
       "15916    03/2019\n",
       "15917    06/2019\n",
       "15918    01/2019\n",
       "Name: registration, Length: 15919, dtype: object"
      ]
     },
     "execution_count": 7,
     "metadata": {},
     "output_type": "execute_result"
    }
   ],
   "source": [
    "df.registration"
   ]
  },
  {
   "cell_type": "code",
   "execution_count": 8,
   "metadata": {
    "scrolled": false
   },
   "outputs": [
    {
     "data": {
      "text/plain": [
       "make_model            0.000\n",
       "body_type             0.377\n",
       "price                 0.000\n",
       "vat                  28.350\n",
       "km                    0.000\n",
       "registration         10.032\n",
       "hp                    0.553\n",
       "type                  0.013\n",
       "previous_owners      41.711\n",
       "make                  0.000\n",
       "model                 0.000\n",
       "first_registration   10.032\n",
       "body_color            3.750\n",
       "paint_type           36.259\n",
       "upholstery           23.368\n",
       "body                  0.377\n",
       "nr_of_doors           1.332\n",
       "nr_of_seats           6.137\n",
       "gearing_type          0.000\n",
       "displacement          3.116\n",
       "cylinders            35.681\n",
       "weight               43.809\n",
       "drive_chain          43.081\n",
       "fuel                  0.000\n",
       "co_2_emission        15.302\n",
       "emission_class       22.790\n",
       "gears                29.600\n",
       "country_version      52.346\n",
       "cons_combined        18.110\n",
       "cons_city            20.554\n",
       "cons_country         20.177\n",
       "air_cond              5.779\n",
       "bluetooth             8.631\n",
       "dtype: float64"
      ]
     },
     "execution_count": 8,
     "metadata": {},
     "output_type": "execute_result"
    }
   ],
   "source": [
    "df.isnull().sum()/len(df)*100"
   ]
  },
  {
   "cell_type": "code",
   "execution_count": 9,
   "metadata": {},
   "outputs": [
    {
     "data": {
      "text/html": [
       "<div>\n",
       "<style scoped>\n",
       "    .dataframe tbody tr th:only-of-type {\n",
       "        vertical-align: middle;\n",
       "    }\n",
       "\n",
       "    .dataframe tbody tr th {\n",
       "        vertical-align: top;\n",
       "    }\n",
       "\n",
       "    .dataframe thead th {\n",
       "        text-align: right;\n",
       "    }\n",
       "</style>\n",
       "<table border=\"1\" class=\"dataframe\">\n",
       "  <thead>\n",
       "    <tr style=\"text-align: right;\">\n",
       "      <th></th>\n",
       "      <th>make_model</th>\n",
       "      <th>body_type</th>\n",
       "      <th>price</th>\n",
       "      <th>vat</th>\n",
       "      <th>km</th>\n",
       "      <th>registration</th>\n",
       "      <th>hp</th>\n",
       "      <th>type</th>\n",
       "      <th>previous_owners</th>\n",
       "      <th>make</th>\n",
       "      <th>model</th>\n",
       "      <th>first_registration</th>\n",
       "      <th>body_color</th>\n",
       "      <th>paint_type</th>\n",
       "      <th>upholstery</th>\n",
       "      <th>body</th>\n",
       "      <th>nr_of_doors</th>\n",
       "      <th>nr_of_seats</th>\n",
       "      <th>gearing_type</th>\n",
       "      <th>displacement</th>\n",
       "      <th>cylinders</th>\n",
       "      <th>weight</th>\n",
       "      <th>drive_chain</th>\n",
       "      <th>fuel</th>\n",
       "      <th>co_2_emission</th>\n",
       "      <th>emission_class</th>\n",
       "      <th>gears</th>\n",
       "      <th>country_version</th>\n",
       "      <th>cons_combined</th>\n",
       "      <th>cons_city</th>\n",
       "      <th>cons_country</th>\n",
       "      <th>air_cond</th>\n",
       "      <th>bluetooth</th>\n",
       "    </tr>\n",
       "  </thead>\n",
       "  <tbody>\n",
       "    <tr>\n",
       "      <th>0</th>\n",
       "      <td>Audi A1</td>\n",
       "      <td>Sedans</td>\n",
       "      <td>15770</td>\n",
       "      <td>VAT deductible</td>\n",
       "      <td>56013</td>\n",
       "      <td>01/2016</td>\n",
       "      <td>66.000</td>\n",
       "      <td>Diesel</td>\n",
       "      <td>2.000</td>\n",
       "      <td>Audi</td>\n",
       "      <td>A1</td>\n",
       "      <td>2016.000</td>\n",
       "      <td>Black</td>\n",
       "      <td>Metallic</td>\n",
       "      <td>Cloth, Black</td>\n",
       "      <td>Sedans</td>\n",
       "      <td>5.000</td>\n",
       "      <td>5.000</td>\n",
       "      <td>Automatic</td>\n",
       "      <td>1422.000</td>\n",
       "      <td>3.000</td>\n",
       "      <td>1220.000</td>\n",
       "      <td>front</td>\n",
       "      <td>Diesel</td>\n",
       "      <td>99.000</td>\n",
       "      <td>Euro 6</td>\n",
       "      <td>NaN</td>\n",
       "      <td>NaN</td>\n",
       "      <td>3.800</td>\n",
       "      <td>4.300</td>\n",
       "      <td>3.500</td>\n",
       "      <td>Air conditioning</td>\n",
       "      <td>Bluetooth</td>\n",
       "    </tr>\n",
       "    <tr>\n",
       "      <th>1</th>\n",
       "      <td>Audi A1</td>\n",
       "      <td>Sedans</td>\n",
       "      <td>14500</td>\n",
       "      <td>Price negotiable</td>\n",
       "      <td>80000</td>\n",
       "      <td>03/2017</td>\n",
       "      <td>141.000</td>\n",
       "      <td>Benzin</td>\n",
       "      <td>NaN</td>\n",
       "      <td>Audi</td>\n",
       "      <td>A1</td>\n",
       "      <td>2017.000</td>\n",
       "      <td>Red</td>\n",
       "      <td>NaN</td>\n",
       "      <td>Cloth, Grey</td>\n",
       "      <td>Sedans</td>\n",
       "      <td>3.000</td>\n",
       "      <td>4.000</td>\n",
       "      <td>Automatic</td>\n",
       "      <td>1798.000</td>\n",
       "      <td>4.000</td>\n",
       "      <td>1255.000</td>\n",
       "      <td>front</td>\n",
       "      <td>Benzin</td>\n",
       "      <td>129.000</td>\n",
       "      <td>Euro 6</td>\n",
       "      <td>7.000</td>\n",
       "      <td>NaN</td>\n",
       "      <td>5.600</td>\n",
       "      <td>7.100</td>\n",
       "      <td>4.700</td>\n",
       "      <td>Air conditioning</td>\n",
       "      <td>Bluetooth</td>\n",
       "    </tr>\n",
       "    <tr>\n",
       "      <th>2</th>\n",
       "      <td>Audi A1</td>\n",
       "      <td>Sedans</td>\n",
       "      <td>14640</td>\n",
       "      <td>VAT deductible</td>\n",
       "      <td>83450</td>\n",
       "      <td>02/2016</td>\n",
       "      <td>85.000</td>\n",
       "      <td>Diesel</td>\n",
       "      <td>1.000</td>\n",
       "      <td>Audi</td>\n",
       "      <td>A1</td>\n",
       "      <td>2016.000</td>\n",
       "      <td>Black</td>\n",
       "      <td>Metallic</td>\n",
       "      <td>Cloth, Black</td>\n",
       "      <td>Sedans</td>\n",
       "      <td>4.000</td>\n",
       "      <td>4.000</td>\n",
       "      <td>Automatic</td>\n",
       "      <td>1598.000</td>\n",
       "      <td>NaN</td>\n",
       "      <td>NaN</td>\n",
       "      <td>front</td>\n",
       "      <td>Diesel</td>\n",
       "      <td>99.000</td>\n",
       "      <td>Euro 6</td>\n",
       "      <td>NaN</td>\n",
       "      <td>NaN</td>\n",
       "      <td>3.800</td>\n",
       "      <td>4.400</td>\n",
       "      <td>3.400</td>\n",
       "      <td>Air conditioning</td>\n",
       "      <td>MP3</td>\n",
       "    </tr>\n",
       "    <tr>\n",
       "      <th>3</th>\n",
       "      <td>Audi A1</td>\n",
       "      <td>Sedans</td>\n",
       "      <td>14500</td>\n",
       "      <td>NaN</td>\n",
       "      <td>73000</td>\n",
       "      <td>08/2016</td>\n",
       "      <td>66.000</td>\n",
       "      <td>Diesel</td>\n",
       "      <td>1.000</td>\n",
       "      <td>Audi</td>\n",
       "      <td>A1</td>\n",
       "      <td>2016.000</td>\n",
       "      <td>Brown</td>\n",
       "      <td>Metallic</td>\n",
       "      <td>NaN</td>\n",
       "      <td>Sedans</td>\n",
       "      <td>3.000</td>\n",
       "      <td>4.000</td>\n",
       "      <td>Automatic</td>\n",
       "      <td>1422.000</td>\n",
       "      <td>3.000</td>\n",
       "      <td>1195.000</td>\n",
       "      <td>NaN</td>\n",
       "      <td>Diesel</td>\n",
       "      <td>99.000</td>\n",
       "      <td>Euro 6</td>\n",
       "      <td>6.000</td>\n",
       "      <td>NaN</td>\n",
       "      <td>3.800</td>\n",
       "      <td>4.300</td>\n",
       "      <td>3.500</td>\n",
       "      <td>Air suspension</td>\n",
       "      <td>Bluetooth</td>\n",
       "    </tr>\n",
       "    <tr>\n",
       "      <th>4</th>\n",
       "      <td>Audi A1</td>\n",
       "      <td>Sedans</td>\n",
       "      <td>16790</td>\n",
       "      <td>NaN</td>\n",
       "      <td>16200</td>\n",
       "      <td>05/2016</td>\n",
       "      <td>66.000</td>\n",
       "      <td>Diesel</td>\n",
       "      <td>1.000</td>\n",
       "      <td>Audi</td>\n",
       "      <td>A1</td>\n",
       "      <td>2016.000</td>\n",
       "      <td>Black</td>\n",
       "      <td>Metallic</td>\n",
       "      <td>Cloth, Black</td>\n",
       "      <td>Sedans</td>\n",
       "      <td>5.000</td>\n",
       "      <td>5.000</td>\n",
       "      <td>Automatic</td>\n",
       "      <td>1422.000</td>\n",
       "      <td>3.000</td>\n",
       "      <td>NaN</td>\n",
       "      <td>front</td>\n",
       "      <td>Diesel</td>\n",
       "      <td>109.000</td>\n",
       "      <td>Euro 6</td>\n",
       "      <td>NaN</td>\n",
       "      <td>Germany</td>\n",
       "      <td>4.100</td>\n",
       "      <td>4.600</td>\n",
       "      <td>3.800</td>\n",
       "      <td>Air conditioning</td>\n",
       "      <td>Bluetooth</td>\n",
       "    </tr>\n",
       "    <tr>\n",
       "      <th>...</th>\n",
       "      <td>...</td>\n",
       "      <td>...</td>\n",
       "      <td>...</td>\n",
       "      <td>...</td>\n",
       "      <td>...</td>\n",
       "      <td>...</td>\n",
       "      <td>...</td>\n",
       "      <td>...</td>\n",
       "      <td>...</td>\n",
       "      <td>...</td>\n",
       "      <td>...</td>\n",
       "      <td>...</td>\n",
       "      <td>...</td>\n",
       "      <td>...</td>\n",
       "      <td>...</td>\n",
       "      <td>...</td>\n",
       "      <td>...</td>\n",
       "      <td>...</td>\n",
       "      <td>...</td>\n",
       "      <td>...</td>\n",
       "      <td>...</td>\n",
       "      <td>...</td>\n",
       "      <td>...</td>\n",
       "      <td>...</td>\n",
       "      <td>...</td>\n",
       "      <td>...</td>\n",
       "      <td>...</td>\n",
       "      <td>...</td>\n",
       "      <td>...</td>\n",
       "      <td>...</td>\n",
       "      <td>...</td>\n",
       "      <td>...</td>\n",
       "      <td>...</td>\n",
       "    </tr>\n",
       "    <tr>\n",
       "      <th>15914</th>\n",
       "      <td>Renault Espace</td>\n",
       "      <td>Van</td>\n",
       "      <td>39950</td>\n",
       "      <td>VAT deductible</td>\n",
       "      <td>0</td>\n",
       "      <td>NaN</td>\n",
       "      <td>147.000</td>\n",
       "      <td>Diesel</td>\n",
       "      <td>NaN</td>\n",
       "      <td>Renault</td>\n",
       "      <td>Espace</td>\n",
       "      <td>NaN</td>\n",
       "      <td>Grey</td>\n",
       "      <td>Metallic</td>\n",
       "      <td>NaN</td>\n",
       "      <td>Van</td>\n",
       "      <td>5.000</td>\n",
       "      <td>5.000</td>\n",
       "      <td>Automatic</td>\n",
       "      <td>1997.000</td>\n",
       "      <td>4.000</td>\n",
       "      <td>1758.000</td>\n",
       "      <td>front</td>\n",
       "      <td>Diesel</td>\n",
       "      <td>139.000</td>\n",
       "      <td>NaN</td>\n",
       "      <td>6.000</td>\n",
       "      <td>NaN</td>\n",
       "      <td>5.300</td>\n",
       "      <td>6.200</td>\n",
       "      <td>4.700</td>\n",
       "      <td>Air conditioning</td>\n",
       "      <td>Bluetooth</td>\n",
       "    </tr>\n",
       "    <tr>\n",
       "      <th>15915</th>\n",
       "      <td>Renault Espace</td>\n",
       "      <td>Van</td>\n",
       "      <td>39885</td>\n",
       "      <td>VAT deductible</td>\n",
       "      <td>9900</td>\n",
       "      <td>01/2019</td>\n",
       "      <td>165.000</td>\n",
       "      <td>Benzin</td>\n",
       "      <td>1.000</td>\n",
       "      <td>Renault</td>\n",
       "      <td>Espace</td>\n",
       "      <td>2019.000</td>\n",
       "      <td>Grey</td>\n",
       "      <td>Metallic</td>\n",
       "      <td>Cloth</td>\n",
       "      <td>Van</td>\n",
       "      <td>5.000</td>\n",
       "      <td>5.000</td>\n",
       "      <td>Automatic</td>\n",
       "      <td>1798.000</td>\n",
       "      <td>4.000</td>\n",
       "      <td>1708.000</td>\n",
       "      <td>front</td>\n",
       "      <td>Benzin</td>\n",
       "      <td>168.000</td>\n",
       "      <td>NaN</td>\n",
       "      <td>7.000</td>\n",
       "      <td>Germany</td>\n",
       "      <td>NaN</td>\n",
       "      <td>NaN</td>\n",
       "      <td>NaN</td>\n",
       "      <td>Air conditioning</td>\n",
       "      <td>Bluetooth</td>\n",
       "    </tr>\n",
       "    <tr>\n",
       "      <th>15916</th>\n",
       "      <td>Renault Espace</td>\n",
       "      <td>Van</td>\n",
       "      <td>39875</td>\n",
       "      <td>VAT deductible</td>\n",
       "      <td>15</td>\n",
       "      <td>03/2019</td>\n",
       "      <td>146.000</td>\n",
       "      <td>Diesel</td>\n",
       "      <td>1.000</td>\n",
       "      <td>Renault</td>\n",
       "      <td>Espace</td>\n",
       "      <td>2019.000</td>\n",
       "      <td>White</td>\n",
       "      <td>NaN</td>\n",
       "      <td>Full leather, Black</td>\n",
       "      <td>Van</td>\n",
       "      <td>5.000</td>\n",
       "      <td>7.000</td>\n",
       "      <td>Automatic</td>\n",
       "      <td>1997.000</td>\n",
       "      <td>4.000</td>\n",
       "      <td>NaN</td>\n",
       "      <td>front</td>\n",
       "      <td>Diesel</td>\n",
       "      <td>139.000</td>\n",
       "      <td>Euro 6d-TEMP</td>\n",
       "      <td>6.000</td>\n",
       "      <td>Austria</td>\n",
       "      <td>5.300</td>\n",
       "      <td>6.200</td>\n",
       "      <td>4.700</td>\n",
       "      <td>Air conditioning</td>\n",
       "      <td>Bluetooth</td>\n",
       "    </tr>\n",
       "    <tr>\n",
       "      <th>15917</th>\n",
       "      <td>Renault Espace</td>\n",
       "      <td>Van</td>\n",
       "      <td>39700</td>\n",
       "      <td>VAT deductible</td>\n",
       "      <td>10</td>\n",
       "      <td>06/2019</td>\n",
       "      <td>147.000</td>\n",
       "      <td>Diesel</td>\n",
       "      <td>NaN</td>\n",
       "      <td>Renault</td>\n",
       "      <td>Espace</td>\n",
       "      <td>2019.000</td>\n",
       "      <td>Grey</td>\n",
       "      <td>NaN</td>\n",
       "      <td>Part leather</td>\n",
       "      <td>Van</td>\n",
       "      <td>5.000</td>\n",
       "      <td>7.000</td>\n",
       "      <td>Automatic</td>\n",
       "      <td>1997.000</td>\n",
       "      <td>4.000</td>\n",
       "      <td>1758.000</td>\n",
       "      <td>front</td>\n",
       "      <td>Diesel</td>\n",
       "      <td>139.000</td>\n",
       "      <td>Euro 6</td>\n",
       "      <td>6.000</td>\n",
       "      <td>NaN</td>\n",
       "      <td>5.300</td>\n",
       "      <td>6.200</td>\n",
       "      <td>4.700</td>\n",
       "      <td>Air conditioning</td>\n",
       "      <td>Bluetooth</td>\n",
       "    </tr>\n",
       "    <tr>\n",
       "      <th>15918</th>\n",
       "      <td>Renault Espace</td>\n",
       "      <td>Van</td>\n",
       "      <td>40999</td>\n",
       "      <td>VAT deductible</td>\n",
       "      <td>0</td>\n",
       "      <td>01/2019</td>\n",
       "      <td>165.000</td>\n",
       "      <td>Benzin</td>\n",
       "      <td>1.000</td>\n",
       "      <td>Renault</td>\n",
       "      <td>Espace</td>\n",
       "      <td>2019.000</td>\n",
       "      <td>Grey</td>\n",
       "      <td>Metallic</td>\n",
       "      <td>Full leather, Brown</td>\n",
       "      <td>Van</td>\n",
       "      <td>5.000</td>\n",
       "      <td>5.000</td>\n",
       "      <td>Automatic</td>\n",
       "      <td>1798.000</td>\n",
       "      <td>4.000</td>\n",
       "      <td>1685.000</td>\n",
       "      <td>4WD</td>\n",
       "      <td>Benzin</td>\n",
       "      <td>153.000</td>\n",
       "      <td>Euro 6</td>\n",
       "      <td>NaN</td>\n",
       "      <td>Germany</td>\n",
       "      <td>6.800</td>\n",
       "      <td>8.700</td>\n",
       "      <td>5.700</td>\n",
       "      <td>Air conditioning</td>\n",
       "      <td>USB</td>\n",
       "    </tr>\n",
       "  </tbody>\n",
       "</table>\n",
       "<p>15202 rows × 33 columns</p>\n",
       "</div>"
      ],
      "text/plain": [
       "           make_model body_type  price               vat     km registration  \\\n",
       "0             Audi A1    Sedans  15770    VAT deductible  56013      01/2016   \n",
       "1             Audi A1    Sedans  14500  Price negotiable  80000      03/2017   \n",
       "2             Audi A1    Sedans  14640    VAT deductible  83450      02/2016   \n",
       "3             Audi A1    Sedans  14500               NaN  73000      08/2016   \n",
       "4             Audi A1    Sedans  16790               NaN  16200      05/2016   \n",
       "...               ...       ...    ...               ...    ...          ...   \n",
       "15914  Renault Espace       Van  39950    VAT deductible      0          NaN   \n",
       "15915  Renault Espace       Van  39885    VAT deductible   9900      01/2019   \n",
       "15916  Renault Espace       Van  39875    VAT deductible     15      03/2019   \n",
       "15917  Renault Espace       Van  39700    VAT deductible     10      06/2019   \n",
       "15918  Renault Espace       Van  40999    VAT deductible      0      01/2019   \n",
       "\n",
       "           hp    type  previous_owners     make   model  first_registration  \\\n",
       "0      66.000  Diesel            2.000     Audi      A1            2016.000   \n",
       "1     141.000  Benzin              NaN     Audi      A1            2017.000   \n",
       "2      85.000  Diesel            1.000     Audi      A1            2016.000   \n",
       "3      66.000  Diesel            1.000     Audi      A1            2016.000   \n",
       "4      66.000  Diesel            1.000     Audi      A1            2016.000   \n",
       "...       ...     ...              ...      ...     ...                 ...   \n",
       "15914 147.000  Diesel              NaN  Renault  Espace                 NaN   \n",
       "15915 165.000  Benzin            1.000  Renault  Espace            2019.000   \n",
       "15916 146.000  Diesel            1.000  Renault  Espace            2019.000   \n",
       "15917 147.000  Diesel              NaN  Renault  Espace            2019.000   \n",
       "15918 165.000  Benzin            1.000  Renault  Espace            2019.000   \n",
       "\n",
       "      body_color paint_type           upholstery    body  nr_of_doors  \\\n",
       "0          Black   Metallic         Cloth, Black  Sedans        5.000   \n",
       "1            Red        NaN          Cloth, Grey  Sedans        3.000   \n",
       "2          Black   Metallic         Cloth, Black  Sedans        4.000   \n",
       "3          Brown   Metallic                  NaN  Sedans        3.000   \n",
       "4          Black   Metallic         Cloth, Black  Sedans        5.000   \n",
       "...          ...        ...                  ...     ...          ...   \n",
       "15914       Grey   Metallic                  NaN     Van        5.000   \n",
       "15915       Grey   Metallic                Cloth     Van        5.000   \n",
       "15916      White        NaN  Full leather, Black     Van        5.000   \n",
       "15917       Grey        NaN         Part leather     Van        5.000   \n",
       "15918       Grey   Metallic  Full leather, Brown     Van        5.000   \n",
       "\n",
       "       nr_of_seats gearing_type  displacement  cylinders   weight drive_chain  \\\n",
       "0            5.000    Automatic      1422.000      3.000 1220.000       front   \n",
       "1            4.000    Automatic      1798.000      4.000 1255.000       front   \n",
       "2            4.000    Automatic      1598.000        NaN      NaN       front   \n",
       "3            4.000    Automatic      1422.000      3.000 1195.000         NaN   \n",
       "4            5.000    Automatic      1422.000      3.000      NaN       front   \n",
       "...            ...          ...           ...        ...      ...         ...   \n",
       "15914        5.000    Automatic      1997.000      4.000 1758.000       front   \n",
       "15915        5.000    Automatic      1798.000      4.000 1708.000       front   \n",
       "15916        7.000    Automatic      1997.000      4.000      NaN       front   \n",
       "15917        7.000    Automatic      1997.000      4.000 1758.000       front   \n",
       "15918        5.000    Automatic      1798.000      4.000 1685.000         4WD   \n",
       "\n",
       "         fuel  co_2_emission emission_class  gears country_version  \\\n",
       "0      Diesel         99.000         Euro 6    NaN             NaN   \n",
       "1      Benzin        129.000         Euro 6  7.000             NaN   \n",
       "2      Diesel         99.000         Euro 6    NaN             NaN   \n",
       "3      Diesel         99.000         Euro 6  6.000             NaN   \n",
       "4      Diesel        109.000         Euro 6    NaN         Germany   \n",
       "...       ...            ...            ...    ...             ...   \n",
       "15914  Diesel        139.000            NaN  6.000             NaN   \n",
       "15915  Benzin        168.000            NaN  7.000         Germany   \n",
       "15916  Diesel        139.000   Euro 6d-TEMP  6.000         Austria   \n",
       "15917  Diesel        139.000         Euro 6  6.000             NaN   \n",
       "15918  Benzin        153.000         Euro 6    NaN         Germany   \n",
       "\n",
       "       cons_combined  cons_city  cons_country          air_cond  bluetooth  \n",
       "0              3.800      4.300         3.500  Air conditioning  Bluetooth  \n",
       "1              5.600      7.100         4.700  Air conditioning  Bluetooth  \n",
       "2              3.800      4.400         3.400  Air conditioning        MP3  \n",
       "3              3.800      4.300         3.500    Air suspension  Bluetooth  \n",
       "4              4.100      4.600         3.800  Air conditioning  Bluetooth  \n",
       "...              ...        ...           ...               ...        ...  \n",
       "15914          5.300      6.200         4.700  Air conditioning  Bluetooth  \n",
       "15915            NaN        NaN           NaN  Air conditioning  Bluetooth  \n",
       "15916          5.300      6.200         4.700  Air conditioning  Bluetooth  \n",
       "15917          5.300      6.200         4.700  Air conditioning  Bluetooth  \n",
       "15918          6.800      8.700         5.700  Air conditioning        USB  \n",
       "\n",
       "[15202 rows x 33 columns]"
      ]
     },
     "execution_count": 9,
     "metadata": {},
     "output_type": "execute_result"
    }
   ],
   "source": [
    "df.loc[df.isnull().any(axis=1)]"
   ]
  },
  {
   "cell_type": "code",
   "execution_count": null,
   "metadata": {},
   "outputs": [],
   "source": []
  },
  {
   "cell_type": "code",
   "execution_count": 10,
   "metadata": {},
   "outputs": [
    {
     "data": {
      "text/plain": [
       "Series([], dtype: float64)"
      ]
     },
     "execution_count": 10,
     "metadata": {},
     "output_type": "execute_result"
    }
   ],
   "source": [
    "# # function to return limit percent of missing values\n",
    "def show_nans(df, limit):\n",
    "    missing = df.isnull().sum()*100/df.shape[0]\n",
    "    return missing.loc[lambda x : x >= limit]\n",
    "show_nans(df,90)"
   ]
  },
  {
   "cell_type": "code",
   "execution_count": null,
   "metadata": {},
   "outputs": [],
   "source": []
  },
  {
   "cell_type": "markdown",
   "metadata": {},
   "source": [
    "# PART- 2 `( Handling With Missing Vales )`"
   ]
  },
  {
   "cell_type": "code",
   "execution_count": 610,
   "metadata": {},
   "outputs": [
    {
     "data": {
      "text/plain": [
       "price                                    7386.169\n",
       "km                                      37089.142\n",
       "registration          385 days 12:07:29.511552708\n",
       "hp                                         26.835\n",
       "previous_owners                             0.330\n",
       "first_registration                          1.077\n",
       "nr_of_doors                                 0.645\n",
       "nr_of_seats                                 0.490\n",
       "displacement                              333.531\n",
       "cylinders                                   0.415\n",
       "weight                                    220.662\n",
       "co_2_emission                              20.246\n",
       "gears                                       0.848\n",
       "dtype: object"
      ]
     },
     "execution_count": 610,
     "metadata": {},
     "output_type": "execute_result"
    }
   ],
   "source": [
    "df.std()"
   ]
  },
  {
   "cell_type": "code",
   "execution_count": 611,
   "metadata": {},
   "outputs": [
    {
     "data": {
      "text/plain": [
       "price                  54555498.537\n",
       "km                   1375604432.807\n",
       "hp                          720.124\n",
       "previous_owners               0.109\n",
       "first_registration            1.160\n",
       "nr_of_doors                   0.416\n",
       "nr_of_seats                   0.240\n",
       "displacement             111242.700\n",
       "cylinders                     0.173\n",
       "weight                    48691.512\n",
       "co_2_emission               409.884\n",
       "gears                         0.719\n",
       "dtype: float64"
      ]
     },
     "execution_count": 611,
     "metadata": {},
     "output_type": "execute_result"
    }
   ],
   "source": [
    "df.var()"
   ]
  },
  {
   "cell_type": "code",
   "execution_count": null,
   "metadata": {},
   "outputs": [],
   "source": []
  },
  {
   "cell_type": "markdown",
   "metadata": {},
   "source": [
    "## Done body_type NaN filling "
   ]
  },
  {
   "cell_type": "code",
   "execution_count": 612,
   "metadata": {},
   "outputs": [
    {
     "data": {
      "text/plain": [
       "Sedans           7903\n",
       "Station wagon    3553\n",
       "Compact          3153\n",
       "Van               783\n",
       "Other             290\n",
       "Transporter        88\n",
       "NaN                60\n",
       "Off-Road           56\n",
       "Coupe              25\n",
       "Convertible         8\n",
       "Name: body_type, dtype: int64"
      ]
     },
     "execution_count": 612,
     "metadata": {},
     "output_type": "execute_result"
    }
   ],
   "source": [
    "df.body_type.value_counts(dropna=False)"
   ]
  },
  {
   "cell_type": "code",
   "execution_count": 613,
   "metadata": {},
   "outputs": [
    {
     "data": {
      "text/plain": [
       "Sedans           7963\n",
       "Station wagon    3553\n",
       "Compact          3153\n",
       "Van               783\n",
       "Other             290\n",
       "Transporter        88\n",
       "Off-Road           56\n",
       "Coupe              25\n",
       "Convertible         8\n",
       "Name: body_type, dtype: int64"
      ]
     },
     "execution_count": 613,
     "metadata": {},
     "output_type": "execute_result"
    }
   ],
   "source": [
    "df[\"body_type\"].fillna(df[\"body_type\"].mode()[0]).value_counts(dropna=False)"
   ]
  },
  {
   "cell_type": "code",
   "execution_count": 614,
   "metadata": {},
   "outputs": [
    {
     "data": {
      "text/plain": [
       "Sedans           7903\n",
       "Station wagon    3553\n",
       "Compact          3153\n",
       "Van               783\n",
       "Other             290\n",
       "Transporter        88\n",
       "Off-Road           56\n",
       "Coupe              25\n",
       "Convertible         8\n",
       "Name: body_type, dtype: int64"
      ]
     },
     "execution_count": 614,
     "metadata": {},
     "output_type": "execute_result"
    }
   ],
   "source": [
    "df.body_type.value_counts()"
   ]
  },
  {
   "cell_type": "code",
   "execution_count": 615,
   "metadata": {},
   "outputs": [],
   "source": [
    "#df.fillna({\"dept\":\"other\", \"var1\":df.var1.mean(), \"var2\":df.var2.median()})"
   ]
  },
  {
   "cell_type": "code",
   "execution_count": 616,
   "metadata": {},
   "outputs": [
    {
     "data": {
      "text/plain": [
       "1633     True\n",
       "1263     True\n",
       "2666     True\n",
       "6100     True\n",
       "13794    True\n",
       "334      True\n",
       "7867     True\n",
       "6556     True\n",
       "89       True\n",
       "7037     True\n",
       "12092    True\n",
       "15192    True\n",
       "14642    True\n",
       "14488    True\n",
       "3379     True\n",
       "Name: body_type, dtype: bool"
      ]
     },
     "execution_count": 616,
     "metadata": {},
     "output_type": "execute_result"
    }
   ],
   "source": [
    "df.notna()[\"body_type\"].sample(15)"
   ]
  },
  {
   "cell_type": "code",
   "execution_count": 617,
   "metadata": {},
   "outputs": [],
   "source": [
    "#df.where(cond=df[\"body_type\"].notna(), other=df[\"body_type\"].mode(), axis=1) # get cond and fill with other"
   ]
  },
  {
   "cell_type": "code",
   "execution_count": 618,
   "metadata": {},
   "outputs": [
    {
     "data": {
      "text/plain": [
       "Sedans           7903\n",
       "Station wagon    3553\n",
       "Compact          3153\n",
       "Van               783\n",
       "Other             290\n",
       "Transporter        88\n",
       "NaN                60\n",
       "Off-Road           56\n",
       "Coupe              25\n",
       "Convertible         8\n",
       "Name: body_type, dtype: int64"
      ]
     },
     "execution_count": 618,
     "metadata": {},
     "output_type": "execute_result"
    }
   ],
   "source": [
    "df[\"body_type\"].interpolate().value_counts(dropna=False)# ustteki row ve alttaki row ortlama alip doldurur."
   ]
  },
  {
   "cell_type": "code",
   "execution_count": 619,
   "metadata": {},
   "outputs": [],
   "source": [
    "## kategorik verileri doldurmak icin mode kullan\n",
    "df[\"body_type\"] = df.body_type.fillna(df.body_type.mode()[0])"
   ]
  },
  {
   "cell_type": "code",
   "execution_count": 620,
   "metadata": {},
   "outputs": [
    {
     "data": {
      "text/plain": [
       "Sedans           7963\n",
       "Station wagon    3553\n",
       "Compact          3153\n",
       "Van               783\n",
       "Other             290\n",
       "Transporter        88\n",
       "Off-Road           56\n",
       "Coupe              25\n",
       "Convertible         8\n",
       "Name: body_type, dtype: int64"
      ]
     },
     "execution_count": 620,
     "metadata": {},
     "output_type": "execute_result"
    }
   ],
   "source": [
    "df.body_type.value_counts(dropna=False)"
   ]
  },
  {
   "cell_type": "code",
   "execution_count": null,
   "metadata": {},
   "outputs": [],
   "source": []
  },
  {
   "cell_type": "code",
   "execution_count": 621,
   "metadata": {},
   "outputs": [],
   "source": [
    "#df[\"salary\"]>=100, \"status\"] = df.loc[df[\"salary\"]>=100, \"status\"].fillna(df.loc[df[\"salary\"]>=100, \"status\"].mode()[0]) \n",
    "#df[\"salary\"]<100, \"status\"] = df.loc[df[\"salary\"]<100, \"status\"].fillna(df.loc[df[\"salary\"]<100, \"status\"].mode()[0]) "
   ]
  },
  {
   "cell_type": "code",
   "execution_count": 622,
   "metadata": {},
   "outputs": [],
   "source": [
    "# loc ile atama yaparken inplace calismaz ama kendien esitle"
   ]
  },
  {
   "cell_type": "code",
   "execution_count": 623,
   "metadata": {},
   "outputs": [],
   "source": [
    "#df.groupby([\"gender\",\"dept\"])[\"status\"].transform(lambda x : x.mode()[0]) atama yap"
   ]
  },
  {
   "cell_type": "code",
   "execution_count": 624,
   "metadata": {},
   "outputs": [],
   "source": [
    "#df.groupby([\"gender\",\"dept\"])[\"status\"].apply(lambda x : x.mode()[0])"
   ]
  },
  {
   "cell_type": "code",
   "execution_count": 625,
   "metadata": {},
   "outputs": [],
   "source": [
    "#df[\"status\"].fillna(df.groupby([\"gender\",\"dept\"])[\"status\"].transform(lambda x : x.mode()[0], inplace=True)"
   ]
  },
  {
   "cell_type": "code",
   "execution_count": 626,
   "metadata": {},
   "outputs": [],
   "source": [
    "#df.groupby([\"status\", \"dept\"])[\"salary\"].mean()"
   ]
  },
  {
   "cell_type": "code",
   "execution_count": 627,
   "metadata": {},
   "outputs": [],
   "source": [
    "#df[\"salary\"].fillna(df.groupby([\"status\",\"dept\"])[\"salary\"].transform(\"mean\"), inplace=True)\n"
   ]
  },
  {
   "cell_type": "code",
   "execution_count": null,
   "metadata": {},
   "outputs": [],
   "source": []
  },
  {
   "cell_type": "markdown",
   "metadata": {},
   "source": [
    "## Done vat type NaN filling"
   ]
  },
  {
   "cell_type": "code",
   "execution_count": 628,
   "metadata": {},
   "outputs": [
    {
     "data": {
      "text/plain": [
       "VAT deductible      10980\n",
       "NaN                  4513\n",
       "Price negotiable      426\n",
       "Name: vat, dtype: int64"
      ]
     },
     "execution_count": 628,
     "metadata": {},
     "output_type": "execute_result"
    }
   ],
   "source": [
    "df.vat.value_counts(dropna=False)"
   ]
  },
  {
   "cell_type": "code",
   "execution_count": 629,
   "metadata": {},
   "outputs": [],
   "source": [
    "df.vat = df.vat.fillna(df.vat.mode()[0])"
   ]
  },
  {
   "cell_type": "code",
   "execution_count": 630,
   "metadata": {},
   "outputs": [
    {
     "data": {
      "text/plain": [
       "VAT deductible      15493\n",
       "Price negotiable      426\n",
       "Name: vat, dtype: int64"
      ]
     },
     "execution_count": 630,
     "metadata": {},
     "output_type": "execute_result"
    }
   ],
   "source": [
    "df.vat.value_counts(dropna=False)"
   ]
  },
  {
   "cell_type": "code",
   "execution_count": null,
   "metadata": {},
   "outputs": [],
   "source": []
  },
  {
   "cell_type": "code",
   "execution_count": null,
   "metadata": {},
   "outputs": [],
   "source": []
  },
  {
   "cell_type": "code",
   "execution_count": null,
   "metadata": {},
   "outputs": [],
   "source": []
  },
  {
   "cell_type": "code",
   "execution_count": null,
   "metadata": {},
   "outputs": [],
   "source": []
  },
  {
   "cell_type": "markdown",
   "metadata": {},
   "source": [
    "## Done registration type NaN filling"
   ]
  },
  {
   "cell_type": "code",
   "execution_count": 631,
   "metadata": {},
   "outputs": [
    {
     "data": {
      "text/plain": [
       "True     14322\n",
       "False     1597\n",
       "Name: registration, dtype: int64"
      ]
     },
     "execution_count": 631,
     "metadata": {},
     "output_type": "execute_result"
    }
   ],
   "source": [
    "df[\"registration\"].notna().value_counts(dropna=False)"
   ]
  },
  {
   "cell_type": "code",
   "execution_count": 632,
   "metadata": {},
   "outputs": [
    {
     "data": {
      "text/plain": [
       "Timestamp('2018-03-01 00:00:00')"
      ]
     },
     "execution_count": 632,
     "metadata": {},
     "output_type": "execute_result"
    }
   ],
   "source": [
    "df.registration.mode()[0]"
   ]
  },
  {
   "cell_type": "code",
   "execution_count": 633,
   "metadata": {},
   "outputs": [],
   "source": [
    "#df.registration = df.registration.fillna(df.registration.mode()[0])"
   ]
  },
  {
   "cell_type": "code",
   "execution_count": 634,
   "metadata": {},
   "outputs": [],
   "source": [
    "#df[\"registration\"].notna().value_counts(dropna=False)"
   ]
  },
  {
   "cell_type": "code",
   "execution_count": null,
   "metadata": {},
   "outputs": [],
   "source": []
  },
  {
   "cell_type": "markdown",
   "metadata": {},
   "source": [
    "## Done hp type NaN filling"
   ]
  },
  {
   "cell_type": "code",
   "execution_count": 635,
   "metadata": {},
   "outputs": [
    {
     "data": {
      "text/plain": [
       "85.000     2542\n",
       "66.000     2122\n",
       "81.000     1402\n",
       "100.000    1308\n",
       "110.000    1112\n",
       "70.000      888\n",
       "125.000     707\n",
       "51.000      695\n",
       "55.000      569\n",
       "118.000     516\n",
       "92.000      466\n",
       "121.000     392\n",
       "147.000     380\n",
       "77.000      345\n",
       "56.000      286\n",
       "54.000      276\n",
       "103.000     253\n",
       "87.000      232\n",
       "165.000     194\n",
       "88.000      177\n",
       "60.000      160\n",
       "162.000      98\n",
       "NaN          88\n",
       "74.000       81\n",
       "96.000       72\n",
       "71.000       59\n",
       "101.000      47\n",
       "67.000       40\n",
       "154.000      39\n",
       "122.000      35\n",
       "119.000      30\n",
       "164.000      27\n",
       "135.000      24\n",
       "82.000       22\n",
       "52.000       22\n",
       "78.000       20\n",
       "1.000        20\n",
       "294.000      18\n",
       "146.000      18\n",
       "141.000      16\n",
       "57.000       10\n",
       "104.000       8\n",
       "120.000       8\n",
       "191.000       7\n",
       "112.000       7\n",
       "155.000       6\n",
       "117.000       6\n",
       "184.000       5\n",
       "90.000        4\n",
       "76.000        4\n",
       "65.000        4\n",
       "149.000       3\n",
       "80.000        3\n",
       "168.000       3\n",
       "98.000        3\n",
       "93.000        3\n",
       "228.000       2\n",
       "270.000       2\n",
       "53.000        2\n",
       "140.000       2\n",
       "86.000        2\n",
       "167.000       2\n",
       "127.000       2\n",
       "89.000        2\n",
       "143.000       2\n",
       "63.000        2\n",
       "40.000        2\n",
       "150.000       2\n",
       "163.000       1\n",
       "115.000       1\n",
       "132.000       1\n",
       "75.000        1\n",
       "4.000         1\n",
       "137.000       1\n",
       "123.000       1\n",
       "133.000       1\n",
       "84.000        1\n",
       "195.000       1\n",
       "44.000        1\n",
       "239.000       1\n",
       "9.000         1\n",
       "Name: hp, dtype: int64"
      ]
     },
     "execution_count": 635,
     "metadata": {},
     "output_type": "execute_result"
    }
   ],
   "source": [
    "df.hp.value_counts(dropna=False)"
   ]
  },
  {
   "cell_type": "code",
   "execution_count": 636,
   "metadata": {},
   "outputs": [
    {
     "data": {
      "text/plain": [
       "88.36769629208514"
      ]
     },
     "execution_count": 636,
     "metadata": {},
     "output_type": "execute_result"
    }
   ],
   "source": [
    "df.hp.mean()"
   ]
  },
  {
   "cell_type": "code",
   "execution_count": 637,
   "metadata": {},
   "outputs": [
    {
     "data": {
      "text/plain": [
       "0   85.000\n",
       "Name: hp, dtype: float64"
      ]
     },
     "execution_count": 637,
     "metadata": {},
     "output_type": "execute_result"
    }
   ],
   "source": [
    "df.hp.mode()"
   ]
  },
  {
   "cell_type": "code",
   "execution_count": 638,
   "metadata": {},
   "outputs": [],
   "source": [
    "df.hp = df.hp.fillna(df.hp.mode()[0])"
   ]
  },
  {
   "cell_type": "code",
   "execution_count": 639,
   "metadata": {},
   "outputs": [
    {
     "data": {
      "text/plain": [
       "0"
      ]
     },
     "execution_count": 639,
     "metadata": {},
     "output_type": "execute_result"
    }
   ],
   "source": [
    "df.hp.isnull().sum()"
   ]
  },
  {
   "cell_type": "code",
   "execution_count": null,
   "metadata": {},
   "outputs": [],
   "source": []
  },
  {
   "cell_type": "code",
   "execution_count": null,
   "metadata": {},
   "outputs": [],
   "source": []
  },
  {
   "cell_type": "markdown",
   "metadata": {},
   "source": [
    "## Done type NaN filling"
   ]
  },
  {
   "cell_type": "code",
   "execution_count": 640,
   "metadata": {},
   "outputs": [],
   "source": [
    "df.drop(\"type\", axis=1, inplace=True)"
   ]
  },
  {
   "cell_type": "code",
   "execution_count": 641,
   "metadata": {},
   "outputs": [],
   "source": [
    "# same as fuel  that why I dropped"
   ]
  },
  {
   "cell_type": "markdown",
   "metadata": {},
   "source": [
    "## Done previous_owners NaN filling"
   ]
  },
  {
   "cell_type": "code",
   "execution_count": 642,
   "metadata": {},
   "outputs": [
    {
     "data": {
      "text/plain": [
       "1.000    8294\n",
       "NaN      6640\n",
       "2.000     778\n",
       "0.000     188\n",
       "3.000      17\n",
       "4.000       2\n",
       "Name: previous_owners, dtype: int64"
      ]
     },
     "execution_count": 642,
     "metadata": {},
     "output_type": "execute_result"
    }
   ],
   "source": [
    "df.previous_owners.value_counts(dropna=False)"
   ]
  },
  {
   "cell_type": "code",
   "execution_count": 643,
   "metadata": {},
   "outputs": [
    {
     "data": {
      "text/plain": [
       "1.0678952473326868"
      ]
     },
     "execution_count": 643,
     "metadata": {},
     "output_type": "execute_result"
    }
   ],
   "source": [
    "df.previous_owners.mean()"
   ]
  },
  {
   "cell_type": "code",
   "execution_count": 644,
   "metadata": {},
   "outputs": [
    {
     "data": {
      "text/plain": [
       "price  km    \n",
       "13     123        NaN\n",
       "120    12         NaN\n",
       "255    5563       NaN\n",
       "331    10         NaN\n",
       "4950   179521     NaN\n",
       "                 ... \n",
       "64332  1          NaN\n",
       "64900  35000      NaN\n",
       "67600  37747    1.000\n",
       "68320  4307     1.000\n",
       "74600  13000    1.000\n",
       "Name: previous_owners, Length: 13098, dtype: float64"
      ]
     },
     "execution_count": 644,
     "metadata": {},
     "output_type": "execute_result"
    }
   ],
   "source": [
    "df.groupby([\"price\", \"km\"])[\"previous_owners\"].mean()"
   ]
  },
  {
   "cell_type": "code",
   "execution_count": 645,
   "metadata": {},
   "outputs": [],
   "source": [
    "#df[\"previous_owners\"].fillna()\n"
   ]
  },
  {
   "cell_type": "code",
   "execution_count": 646,
   "metadata": {},
   "outputs": [
    {
     "data": {
      "text/plain": [
       "1.000    8294\n",
       "NaN      6640\n",
       "2.000     778\n",
       "0.000     188\n",
       "3.000      17\n",
       "4.000       2\n",
       "Name: previous_owners, dtype: int64"
      ]
     },
     "execution_count": 646,
     "metadata": {},
     "output_type": "execute_result"
    }
   ],
   "source": [
    "df.previous_owners.value_counts(dropna=False)"
   ]
  },
  {
   "cell_type": "code",
   "execution_count": 647,
   "metadata": {},
   "outputs": [],
   "source": [
    "df.loc[(df[\"price\"]>=20000)&(df[\"km\"]<=10000), \"previous_owners\"] = df.loc[(df[\"price\"]>=20000)&(df[\"km\"]<=10000), \"previous_owners\"].fillna(df.loc[(df[\"price\"]>=20000)&(df[\"km\"]<=10000), \"previous_owners\"].mode()[0])"
   ]
  },
  {
   "cell_type": "code",
   "execution_count": 648,
   "metadata": {},
   "outputs": [
    {
     "data": {
      "text/plain": [
       "1.000    10243\n",
       "NaN       4691\n",
       "2.000      778\n",
       "0.000      188\n",
       "3.000       17\n",
       "4.000        2\n",
       "Name: previous_owners, dtype: int64"
      ]
     },
     "execution_count": 648,
     "metadata": {},
     "output_type": "execute_result"
    }
   ],
   "source": [
    "df.previous_owners.value_counts(dropna=False)"
   ]
  },
  {
   "cell_type": "code",
   "execution_count": 649,
   "metadata": {},
   "outputs": [],
   "source": [
    "df.loc[(df[\"price\"]<20000)&(df[\"km\"]>10000), \"previous_owners\"] = df.loc[(df[\"price\"]<20000)&(df[\"km\"]>10000), \"previous_owners\"].fillna(df.loc[(df[\"price\"]<20000)&(df[\"km\"]>10000), \"previous_owners\"].mode()[0])"
   ]
  },
  {
   "cell_type": "code",
   "execution_count": 650,
   "metadata": {},
   "outputs": [
    {
     "data": {
      "text/plain": [
       "1.000    12951\n",
       "NaN       1983\n",
       "2.000      778\n",
       "0.000      188\n",
       "3.000       17\n",
       "4.000        2\n",
       "Name: previous_owners, dtype: int64"
      ]
     },
     "execution_count": 650,
     "metadata": {},
     "output_type": "execute_result"
    }
   ],
   "source": [
    "df.previous_owners.value_counts(dropna=False)"
   ]
  },
  {
   "cell_type": "code",
   "execution_count": 651,
   "metadata": {},
   "outputs": [
    {
     "data": {
      "text/plain": [
       "0        True\n",
       "1        True\n",
       "2        True\n",
       "3        True\n",
       "4        True\n",
       "         ... \n",
       "15914    True\n",
       "15915    True\n",
       "15916    True\n",
       "15917    True\n",
       "15918    True\n",
       "Name: previous_owners, Length: 15919, dtype: bool"
      ]
     },
     "execution_count": 651,
     "metadata": {},
     "output_type": "execute_result"
    }
   ],
   "source": [
    "df[\"previous_owners\"].notnull()"
   ]
  },
  {
   "cell_type": "code",
   "execution_count": 652,
   "metadata": {},
   "outputs": [
    {
     "data": {
      "text/plain": [
       "Int64Index([   16,    23,   103,   104,   110,   113,   116,   122,   278,\n",
       "              309,\n",
       "            ...\n",
       "            15714, 15718, 15767, 15779, 15788, 15789, 15791, 15803, 15815,\n",
       "            15830],\n",
       "           dtype='int64', length=1983)"
      ]
     },
     "execution_count": 652,
     "metadata": {},
     "output_type": "execute_result"
    }
   ],
   "source": [
    "df.loc[pd.isna(df[\"previous_owners\"]), :].index"
   ]
  },
  {
   "cell_type": "code",
   "execution_count": 653,
   "metadata": {},
   "outputs": [
    {
     "data": {
      "text/plain": [
       "make_model                        Audi A1\n",
       "body_type                          Sedans\n",
       "price                               18900\n",
       "vat                        VAT deductible\n",
       "km                                   9752\n",
       "registration          2018-06-01 00:00:00\n",
       "hp                                 85.000\n",
       "previous_owners                       NaN\n",
       "make                                 Audi\n",
       "model                                  A1\n",
       "first_registration               2018.000\n",
       "body_color                           Blue\n",
       "paint_type                            NaN\n",
       "upholstery                            NaN\n",
       "body                               Sedans\n",
       "nr_of_doors                         5.000\n",
       "nr_of_seats                         4.000\n",
       "gearing_type                    Automatic\n",
       "displacement                     1598.000\n",
       "cylinders                           4.000\n",
       "weight                           1175.000\n",
       "drive_chain                         front\n",
       "fuel                               Diesel\n",
       "co_2_emission                      92.000\n",
       "emission_class                     Euro 6\n",
       "gears                               5.000\n",
       "country_version                       NaN\n",
       "air_cond                 Air conditioning\n",
       "bluetooth                       CD player\n",
       "Name: 16, dtype: object"
      ]
     },
     "execution_count": 653,
     "metadata": {},
     "output_type": "execute_result"
    }
   ],
   "source": [
    "df.iloc[16]"
   ]
  },
  {
   "cell_type": "code",
   "execution_count": 654,
   "metadata": {},
   "outputs": [],
   "source": [
    "df.previous_owners.fillna(value=0, inplace=True)"
   ]
  },
  {
   "cell_type": "code",
   "execution_count": 655,
   "metadata": {},
   "outputs": [
    {
     "data": {
      "text/plain": [
       "1.000    12951\n",
       "0.000     2171\n",
       "2.000      778\n",
       "3.000       17\n",
       "4.000        2\n",
       "Name: previous_owners, dtype: int64"
      ]
     },
     "execution_count": 655,
     "metadata": {},
     "output_type": "execute_result"
    }
   ],
   "source": [
    "df.previous_owners.value_counts(dropna=False)"
   ]
  },
  {
   "cell_type": "code",
   "execution_count": 656,
   "metadata": {},
   "outputs": [],
   "source": [
    "df.previous_owners = pd.to_numeric(df.previous_owners, downcast=\"integer\")"
   ]
  },
  {
   "cell_type": "code",
   "execution_count": null,
   "metadata": {},
   "outputs": [],
   "source": []
  },
  {
   "cell_type": "code",
   "execution_count": null,
   "metadata": {},
   "outputs": [],
   "source": []
  },
  {
   "cell_type": "markdown",
   "metadata": {},
   "source": [
    "## Done first_registration Nan Filling   "
   ]
  },
  {
   "cell_type": "code",
   "execution_count": 657,
   "metadata": {},
   "outputs": [
    {
     "data": {
      "text/plain": [
       "2018.000    4522\n",
       "2016.000    3674\n",
       "2017.000    3273\n",
       "2019.000    2853\n",
       "NaN         1597\n",
       "Name: first_registration, dtype: int64"
      ]
     },
     "execution_count": 657,
     "metadata": {},
     "output_type": "execute_result"
    }
   ],
   "source": [
    "df.first_registration.value_counts(dropna=False)"
   ]
  },
  {
   "cell_type": "code",
   "execution_count": 658,
   "metadata": {},
   "outputs": [
    {
     "data": {
      "text/plain": [
       "0       2016.000\n",
       "1       2017.000\n",
       "2       2016.000\n",
       "3       2016.000\n",
       "4       2016.000\n",
       "          ...   \n",
       "15914        NaN\n",
       "15915   2019.000\n",
       "15916   2019.000\n",
       "15917   2019.000\n",
       "15918   2019.000\n",
       "Name: first_registration, Length: 15919, dtype: float64"
      ]
     },
     "execution_count": 658,
     "metadata": {},
     "output_type": "execute_result"
    }
   ],
   "source": [
    "df.groupby([\"price\", \"km\"])[\"first_registration\"].transform(\"mean\")"
   ]
  },
  {
   "cell_type": "code",
   "execution_count": 659,
   "metadata": {},
   "outputs": [
    {
     "data": {
      "text/plain": [
       "16      2018.000\n",
       "23      2018.000\n",
       "24      2018.000\n",
       "68      2017.000\n",
       "69      2018.000\n",
       "          ...   \n",
       "15914        NaN\n",
       "15915   2019.000\n",
       "15916   2019.000\n",
       "15917   2019.000\n",
       "15918   2019.000\n",
       "Name: first_registration, Length: 5731, dtype: float64"
      ]
     },
     "execution_count": 659,
     "metadata": {},
     "output_type": "execute_result"
    }
   ],
   "source": [
    "df[(df[\"price\"]>2000) & (df[\"km\"]<10000)][\"first_registration\"]"
   ]
  },
  {
   "cell_type": "code",
   "execution_count": 660,
   "metadata": {},
   "outputs": [],
   "source": [
    "#df.loc[df[\"salary\"]>=100, \"status\"] = "
   ]
  },
  {
   "cell_type": "code",
   "execution_count": null,
   "metadata": {},
   "outputs": [],
   "source": []
  },
  {
   "cell_type": "code",
   "execution_count": 661,
   "metadata": {},
   "outputs": [],
   "source": [
    "#df.loc[(df[\"price\"]>=20000)&(df[\"km\"]<=10000)][\"first_registration\"].fillna(df.loc[(df[\"price\"]<20000)&(df[\"km\"]>10000), \"first_registration\"].mean())"
   ]
  },
  {
   "cell_type": "code",
   "execution_count": 662,
   "metadata": {},
   "outputs": [],
   "source": [
    "#df.loc[(df[\"price\"]<20000)&(df[\"km\"]>10000)] = df.loc[(df[\"price\"]<20000)&(df[\"km\"]>10000)][\"first_registration\"].mode()[0]"
   ]
  },
  {
   "cell_type": "code",
   "execution_count": 663,
   "metadata": {},
   "outputs": [
    {
     "data": {
      "text/plain": [
       "2018.000    4522\n",
       "2016.000    3674\n",
       "2017.000    3273\n",
       "2019.000    2853\n",
       "NaN         1597\n",
       "Name: first_registration, dtype: int64"
      ]
     },
     "execution_count": 663,
     "metadata": {},
     "output_type": "execute_result"
    }
   ],
   "source": [
    "df.first_registration.value_counts(dropna=False)"
   ]
  },
  {
   "cell_type": "code",
   "execution_count": 664,
   "metadata": {},
   "outputs": [
    {
     "data": {
      "text/plain": [
       "Int64Index([  122,   710,   734,   741,   743,   869,   892,   946,   960,\n",
       "              974,\n",
       "            ...\n",
       "            15884, 15885, 15888, 15890, 15892, 15896, 15902, 15907, 15912,\n",
       "            15914],\n",
       "           dtype='int64', length=1597)"
      ]
     },
     "execution_count": 664,
     "metadata": {},
     "output_type": "execute_result"
    }
   ],
   "source": [
    "df.loc[pd.isna(df[\"first_registration\"]), :].index"
   ]
  },
  {
   "cell_type": "code",
   "execution_count": 665,
   "metadata": {},
   "outputs": [
    {
     "data": {
      "text/plain": [
       "make_model                     Audi A1\n",
       "body_type                      Compact\n",
       "price                            18730\n",
       "vat                     VAT deductible\n",
       "km                                   1\n",
       "registration                       NaT\n",
       "hp                              85.000\n",
       "previous_owners                      0\n",
       "make                              Audi\n",
       "model                               A1\n",
       "first_registration                 NaN\n",
       "body_color                         NaN\n",
       "paint_type                         NaN\n",
       "upholstery                      Velour\n",
       "body                           Compact\n",
       "nr_of_doors                      5.000\n",
       "nr_of_seats                      5.000\n",
       "gearing_type                 Automatic\n",
       "displacement                   999.000\n",
       "cylinders                        3.000\n",
       "weight                        1200.000\n",
       "drive_chain                      front\n",
       "fuel                            Benzin\n",
       "co_2_emission                  108.000\n",
       "emission_class            Euro 6d-TEMP\n",
       "gears                            7.000\n",
       "country_version         European Union\n",
       "air_cond              Air conditioning\n",
       "bluetooth                    Bluetooth\n",
       "Name: 122, dtype: object"
      ]
     },
     "execution_count": 665,
     "metadata": {},
     "output_type": "execute_result"
    }
   ],
   "source": [
    "df.iloc[122]"
   ]
  },
  {
   "cell_type": "code",
   "execution_count": 666,
   "metadata": {
    "scrolled": false
   },
   "outputs": [
    {
     "data": {
      "text/plain": [
       "make_model              Renault Duster\n",
       "body_type                     Off-Road\n",
       "price                            12250\n",
       "vat                     VAT deductible\n",
       "km                                   0\n",
       "registration                       NaT\n",
       "hp                              77.000\n",
       "previous_owners                      0\n",
       "make                           Renault\n",
       "model                           Duster\n",
       "first_registration                 NaN\n",
       "body_color                       White\n",
       "paint_type                   Uni/basic\n",
       "upholstery                 Cloth, Grey\n",
       "body                          Off-Road\n",
       "nr_of_doors                      5.000\n",
       "nr_of_seats                      5.000\n",
       "gearing_type                    Manual\n",
       "displacement                  1598.000\n",
       "cylinders                        4.000\n",
       "weight                             NaN\n",
       "drive_chain                        NaN\n",
       "fuel                            Benzin\n",
       "co_2_emission                  186.000\n",
       "emission_class                  Euro 4\n",
       "gears                            6.000\n",
       "country_version                  Japan\n",
       "air_cond              Air conditioning\n",
       "bluetooth                    Bluetooth\n",
       "Name: 14917, dtype: object"
      ]
     },
     "execution_count": 666,
     "metadata": {},
     "output_type": "execute_result"
    }
   ],
   "source": [
    "df.iloc[14917]"
   ]
  },
  {
   "cell_type": "code",
   "execution_count": 667,
   "metadata": {},
   "outputs": [
    {
     "data": {
      "text/plain": [
       "make_model              Renault Duster\n",
       "body_type                     Off-Road\n",
       "price                            11900\n",
       "vat                     VAT deductible\n",
       "km                                   0\n",
       "registration                       NaT\n",
       "hp                              77.000\n",
       "previous_owners                      0\n",
       "make                           Renault\n",
       "model                           Duster\n",
       "first_registration                 NaN\n",
       "body_color                       White\n",
       "paint_type                         NaN\n",
       "upholstery                         NaN\n",
       "body                          Off-Road\n",
       "nr_of_doors                      5.000\n",
       "nr_of_seats                      5.000\n",
       "gearing_type                    Manual\n",
       "displacement                  1598.000\n",
       "cylinders                        4.000\n",
       "weight                             NaN\n",
       "drive_chain                        NaN\n",
       "fuel                            Benzin\n",
       "co_2_emission                  186.000\n",
       "emission_class                  Euro 4\n",
       "gears                            6.000\n",
       "country_version                    NaN\n",
       "air_cond              Air conditioning\n",
       "bluetooth                    Bluetooth\n",
       "Name: 14922, dtype: object"
      ]
     },
     "execution_count": 667,
     "metadata": {},
     "output_type": "execute_result"
    }
   ],
   "source": [
    "df.iloc[14922]"
   ]
  },
  {
   "cell_type": "code",
   "execution_count": 668,
   "metadata": {},
   "outputs": [],
   "source": [
    "#df.loc[(df[\"price\"]>=20000)&(df[\"km\"]<15000), \"first_registration\"]=df.loc[(df[\"price\"]>=20000)&(df[\"km\"]<15000), \"first_registration\"].fillna(df.loc[(df[\"price\"]>=20000)&(df[\"km\"]<15000), \"first_registration\"].mean())"
   ]
  },
  {
   "cell_type": "code",
   "execution_count": 669,
   "metadata": {},
   "outputs": [
    {
     "data": {
      "text/plain": [
       "2018.000    4522\n",
       "2016.000    3674\n",
       "2017.000    3273\n",
       "2019.000    2853\n",
       "NaN         1597\n",
       "Name: first_registration, dtype: int64"
      ]
     },
     "execution_count": 669,
     "metadata": {},
     "output_type": "execute_result"
    }
   ],
   "source": [
    "df.first_registration.value_counts(dropna=False)"
   ]
  },
  {
   "cell_type": "code",
   "execution_count": 670,
   "metadata": {},
   "outputs": [],
   "source": [
    "#df.loc[(df[\"price\"]<15000)&(df[\"km\"]>15000), \"first_registration\"]=df.loc[(df[\"price\"]<15000)&(df[\"km\"]>15000), \"first_registration\"].fillna(df.loc[(df[\"price\"]<15000)&(df[\"km\"]>15000), \"first_registration\"].mode()[0])"
   ]
  },
  {
   "cell_type": "code",
   "execution_count": 671,
   "metadata": {},
   "outputs": [
    {
     "data": {
      "text/plain": [
       "2018.000    4522\n",
       "2016.000    3674\n",
       "2017.000    3273\n",
       "2019.000    2853\n",
       "NaN         1597\n",
       "Name: first_registration, dtype: int64"
      ]
     },
     "execution_count": 671,
     "metadata": {},
     "output_type": "execute_result"
    }
   ],
   "source": [
    "df.first_registration.value_counts(dropna=False)"
   ]
  },
  {
   "cell_type": "code",
   "execution_count": 672,
   "metadata": {},
   "outputs": [],
   "source": [
    "df.first_registration.fillna(\"2018\", inplace=True)"
   ]
  },
  {
   "cell_type": "code",
   "execution_count": 673,
   "metadata": {
    "scrolled": false
   },
   "outputs": [
    {
     "data": {
      "text/plain": [
       "2018.0    4522\n",
       "2016.0    3674\n",
       "2017.0    3273\n",
       "2019.0    2853\n",
       "2018      1597\n",
       "Name: first_registration, dtype: int64"
      ]
     },
     "execution_count": 673,
     "metadata": {},
     "output_type": "execute_result"
    }
   ],
   "source": [
    "df.first_registration.value_counts(dropna=False)"
   ]
  },
  {
   "cell_type": "code",
   "execution_count": 674,
   "metadata": {},
   "outputs": [
    {
     "data": {
      "text/html": [
       "<div>\n",
       "<style scoped>\n",
       "    .dataframe tbody tr th:only-of-type {\n",
       "        vertical-align: middle;\n",
       "    }\n",
       "\n",
       "    .dataframe tbody tr th {\n",
       "        vertical-align: top;\n",
       "    }\n",
       "\n",
       "    .dataframe thead th {\n",
       "        text-align: right;\n",
       "    }\n",
       "</style>\n",
       "<table border=\"1\" class=\"dataframe\">\n",
       "  <thead>\n",
       "    <tr style=\"text-align: right;\">\n",
       "      <th></th>\n",
       "      <th>make_model</th>\n",
       "      <th>body_type</th>\n",
       "      <th>price</th>\n",
       "      <th>vat</th>\n",
       "      <th>km</th>\n",
       "      <th>registration</th>\n",
       "      <th>hp</th>\n",
       "      <th>previous_owners</th>\n",
       "      <th>make</th>\n",
       "      <th>model</th>\n",
       "      <th>first_registration</th>\n",
       "      <th>body_color</th>\n",
       "      <th>paint_type</th>\n",
       "      <th>upholstery</th>\n",
       "      <th>body</th>\n",
       "      <th>nr_of_doors</th>\n",
       "      <th>nr_of_seats</th>\n",
       "      <th>gearing_type</th>\n",
       "      <th>displacement</th>\n",
       "      <th>cylinders</th>\n",
       "      <th>weight</th>\n",
       "      <th>drive_chain</th>\n",
       "      <th>fuel</th>\n",
       "      <th>co_2_emission</th>\n",
       "      <th>emission_class</th>\n",
       "      <th>gears</th>\n",
       "      <th>country_version</th>\n",
       "      <th>air_cond</th>\n",
       "      <th>bluetooth</th>\n",
       "    </tr>\n",
       "  </thead>\n",
       "  <tbody>\n",
       "  </tbody>\n",
       "</table>\n",
       "</div>"
      ],
      "text/plain": [
       "Empty DataFrame\n",
       "Columns: [make_model, body_type, price, vat, km, registration, hp, previous_owners, make, model, first_registration, body_color, paint_type, upholstery, body, nr_of_doors, nr_of_seats, gearing_type, displacement, cylinders, weight, drive_chain, fuel, co_2_emission, emission_class, gears, country_version, air_cond, bluetooth]\n",
       "Index: []"
      ]
     },
     "execution_count": 674,
     "metadata": {},
     "output_type": "execute_result"
    }
   ],
   "source": [
    "df[df[\"first_registration\"]==2017.9832775919733]"
   ]
  },
  {
   "cell_type": "code",
   "execution_count": 675,
   "metadata": {},
   "outputs": [
    {
     "data": {
      "text/plain": [
       "make_model                    object\n",
       "body_type                     object\n",
       "price                          int64\n",
       "vat                           object\n",
       "km                             int64\n",
       "registration          datetime64[ns]\n",
       "hp                           float64\n",
       "previous_owners                 int8\n",
       "make                          object\n",
       "model                         object\n",
       "first_registration            object\n",
       "body_color                    object\n",
       "paint_type                    object\n",
       "upholstery                    object\n",
       "body                          object\n",
       "nr_of_doors                  float64\n",
       "nr_of_seats                  float64\n",
       "gearing_type                  object\n",
       "displacement                 float64\n",
       "cylinders                    float64\n",
       "weight                       float64\n",
       "drive_chain                   object\n",
       "fuel                          object\n",
       "co_2_emission                float64\n",
       "emission_class                object\n",
       "gears                        float64\n",
       "country_version               object\n",
       "air_cond                      object\n",
       "bluetooth                     object\n",
       "dtype: object"
      ]
     },
     "execution_count": 675,
     "metadata": {},
     "output_type": "execute_result"
    }
   ],
   "source": [
    "df.dtypes"
   ]
  },
  {
   "cell_type": "code",
   "execution_count": 676,
   "metadata": {},
   "outputs": [],
   "source": [
    "df.first_registration = pd.to_numeric(df.first_registration, downcast=\"integer\")"
   ]
  },
  {
   "cell_type": "code",
   "execution_count": 677,
   "metadata": {},
   "outputs": [
    {
     "data": {
      "text/plain": [
       "2018    6119\n",
       "2016    3674\n",
       "2017    3273\n",
       "2019    2853\n",
       "Name: first_registration, dtype: int64"
      ]
     },
     "execution_count": 677,
     "metadata": {},
     "output_type": "execute_result"
    }
   ],
   "source": [
    "df.first_registration.value_counts()"
   ]
  },
  {
   "cell_type": "code",
   "execution_count": null,
   "metadata": {},
   "outputs": [],
   "source": []
  },
  {
   "cell_type": "markdown",
   "metadata": {},
   "source": [
    "## body_color NaN filling"
   ]
  },
  {
   "cell_type": "code",
   "execution_count": 678,
   "metadata": {},
   "outputs": [
    {
     "data": {
      "text/plain": [
       "Black     3745\n",
       "Grey      3505\n",
       "White     3406\n",
       "Silver    1647\n",
       "Blue      1431\n",
       "Red        957\n",
       "NaN        597\n",
       "Brown      289\n",
       "Green      154\n",
       "Beige      108\n",
       "Yellow      51\n",
       "Violet      18\n",
       "Bronze       6\n",
       "Orange       3\n",
       "Gold         2\n",
       "Name: body_color, dtype: int64"
      ]
     },
     "execution_count": 678,
     "metadata": {},
     "output_type": "execute_result"
    }
   ],
   "source": [
    "df.body_color.value_counts(dropna=False)"
   ]
  },
  {
   "cell_type": "code",
   "execution_count": 680,
   "metadata": {},
   "outputs": [
    {
     "data": {
      "text/plain": [
       "Int64Index([   70,   122,   150,   195,   198,   262,   409,   435,   595,\n",
       "              865,\n",
       "            ...\n",
       "            15619, 15638, 15651, 15654, 15663, 15690, 15785, 15849, 15854,\n",
       "            15864],\n",
       "           dtype='int64', length=597)"
      ]
     },
     "execution_count": 680,
     "metadata": {},
     "output_type": "execute_result"
    }
   ],
   "source": [
    "df.loc[pd.isna(df[\"body_color\"]), :].index"
   ]
  },
  {
   "cell_type": "code",
   "execution_count": 681,
   "metadata": {},
   "outputs": [
    {
     "data": {
      "text/plain": [
       "make_model                        Audi A1\n",
       "body_type                          Sedans\n",
       "price                               18890\n",
       "vat                        VAT deductible\n",
       "km                                  17861\n",
       "registration          2017-05-01 00:00:00\n",
       "hp                                 71.000\n",
       "previous_owners                         1\n",
       "make                                 Audi\n",
       "model                                  A1\n",
       "first_registration                   2017\n",
       "body_color                            NaN\n",
       "paint_type                            NaN\n",
       "upholstery                            NaN\n",
       "body                               Sedans\n",
       "nr_of_doors                         5.000\n",
       "nr_of_seats                         4.000\n",
       "gearing_type                    Automatic\n",
       "displacement                      999.000\n",
       "cylinders                             NaN\n",
       "weight                                NaN\n",
       "drive_chain                           NaN\n",
       "fuel                               Benzin\n",
       "co_2_emission                         NaN\n",
       "emission_class                        NaN\n",
       "gears                                 NaN\n",
       "country_version                       NaN\n",
       "air_cond                 Air conditioning\n",
       "bluetooth                       Bluetooth\n",
       "Name: 70, dtype: object"
      ]
     },
     "execution_count": 681,
     "metadata": {},
     "output_type": "execute_result"
    }
   ],
   "source": [
    "df.iloc[70]"
   ]
  },
  {
   "cell_type": "code",
   "execution_count": 682,
   "metadata": {},
   "outputs": [
    {
     "data": {
      "text/plain": [
       "'Black'"
      ]
     },
     "execution_count": 682,
     "metadata": {},
     "output_type": "execute_result"
    }
   ],
   "source": [
    "df.body_color.mode()[0]"
   ]
  },
  {
   "cell_type": "code",
   "execution_count": 684,
   "metadata": {},
   "outputs": [
    {
     "data": {
      "text/plain": [
       "Int64Index([], dtype='int64')"
      ]
     },
     "execution_count": 684,
     "metadata": {},
     "output_type": "execute_result"
    }
   ],
   "source": [
    "df.loc[pd.isna(df[\"km\"]), :].index"
   ]
  },
  {
   "cell_type": "code",
   "execution_count": 686,
   "metadata": {},
   "outputs": [
    {
     "data": {
      "text/html": [
       "<div>\n",
       "<style scoped>\n",
       "    .dataframe tbody tr th:only-of-type {\n",
       "        vertical-align: middle;\n",
       "    }\n",
       "\n",
       "    .dataframe tbody tr th {\n",
       "        vertical-align: top;\n",
       "    }\n",
       "\n",
       "    .dataframe thead th {\n",
       "        text-align: right;\n",
       "    }\n",
       "</style>\n",
       "<table border=\"1\" class=\"dataframe\">\n",
       "  <thead>\n",
       "    <tr style=\"text-align: right;\">\n",
       "      <th></th>\n",
       "      <th>make_model</th>\n",
       "      <th>body_type</th>\n",
       "      <th>price</th>\n",
       "      <th>vat</th>\n",
       "      <th>km</th>\n",
       "      <th>registration</th>\n",
       "      <th>hp</th>\n",
       "      <th>previous_owners</th>\n",
       "      <th>make</th>\n",
       "      <th>model</th>\n",
       "      <th>first_registration</th>\n",
       "      <th>body_color</th>\n",
       "      <th>paint_type</th>\n",
       "      <th>upholstery</th>\n",
       "      <th>body</th>\n",
       "      <th>nr_of_doors</th>\n",
       "      <th>nr_of_seats</th>\n",
       "      <th>gearing_type</th>\n",
       "      <th>displacement</th>\n",
       "      <th>cylinders</th>\n",
       "      <th>weight</th>\n",
       "      <th>drive_chain</th>\n",
       "      <th>fuel</th>\n",
       "      <th>co_2_emission</th>\n",
       "      <th>emission_class</th>\n",
       "      <th>gears</th>\n",
       "      <th>country_version</th>\n",
       "      <th>air_cond</th>\n",
       "      <th>bluetooth</th>\n",
       "    </tr>\n",
       "  </thead>\n",
       "  <tbody>\n",
       "    <tr>\n",
       "      <th>6066</th>\n",
       "      <td>Opel Astra</td>\n",
       "      <td>Station wagon</td>\n",
       "      <td>255</td>\n",
       "      <td>VAT deductible</td>\n",
       "      <td>5563</td>\n",
       "      <td>2018-06-01</td>\n",
       "      <td>100.000</td>\n",
       "      <td>0</td>\n",
       "      <td>Opel</td>\n",
       "      <td>Astra</td>\n",
       "      <td>2018</td>\n",
       "      <td>Gold</td>\n",
       "      <td>NaN</td>\n",
       "      <td>NaN</td>\n",
       "      <td>Station wagon</td>\n",
       "      <td>5.000</td>\n",
       "      <td>5.000</td>\n",
       "      <td>Manual</td>\n",
       "      <td>1598.000</td>\n",
       "      <td>4.000</td>\n",
       "      <td>1403.000</td>\n",
       "      <td>NaN</td>\n",
       "      <td>Diesel</td>\n",
       "      <td>101.000</td>\n",
       "      <td>Euro 6</td>\n",
       "      <td>6.000</td>\n",
       "      <td>NaN</td>\n",
       "      <td>Air conditioning</td>\n",
       "      <td>Bluetooth</td>\n",
       "    </tr>\n",
       "    <tr>\n",
       "      <th>8594</th>\n",
       "      <td>Opel Corsa</td>\n",
       "      <td>Sedans</td>\n",
       "      <td>13</td>\n",
       "      <td>VAT deductible</td>\n",
       "      <td>123</td>\n",
       "      <td>2018-06-01</td>\n",
       "      <td>66.000</td>\n",
       "      <td>0</td>\n",
       "      <td>Opel</td>\n",
       "      <td>Corsa</td>\n",
       "      <td>2018</td>\n",
       "      <td>Gold</td>\n",
       "      <td>NaN</td>\n",
       "      <td>NaN</td>\n",
       "      <td>Sedans</td>\n",
       "      <td>3.000</td>\n",
       "      <td>5.000</td>\n",
       "      <td>Manual</td>\n",
       "      <td>1398.000</td>\n",
       "      <td>4.000</td>\n",
       "      <td>1141.000</td>\n",
       "      <td>NaN</td>\n",
       "      <td>Benzin</td>\n",
       "      <td>128.000</td>\n",
       "      <td>Euro 6d-TEMP</td>\n",
       "      <td>5.000</td>\n",
       "      <td>NaN</td>\n",
       "      <td>Air conditioning</td>\n",
       "      <td>Bluetooth</td>\n",
       "    </tr>\n",
       "    <tr>\n",
       "      <th>8828</th>\n",
       "      <td>Opel Corsa</td>\n",
       "      <td>Compact</td>\n",
       "      <td>120</td>\n",
       "      <td>VAT deductible</td>\n",
       "      <td>12</td>\n",
       "      <td>2019-01-01</td>\n",
       "      <td>66.000</td>\n",
       "      <td>0</td>\n",
       "      <td>Opel</td>\n",
       "      <td>Corsa</td>\n",
       "      <td>2019</td>\n",
       "      <td>Grey</td>\n",
       "      <td>Metallic</td>\n",
       "      <td>Cloth, Black</td>\n",
       "      <td>Compact</td>\n",
       "      <td>5.000</td>\n",
       "      <td>5.000</td>\n",
       "      <td>Manual</td>\n",
       "      <td>999.000</td>\n",
       "      <td>3.000</td>\n",
       "      <td>1099.000</td>\n",
       "      <td>NaN</td>\n",
       "      <td>Benzin</td>\n",
       "      <td>107.000</td>\n",
       "      <td>Euro 6</td>\n",
       "      <td>6.000</td>\n",
       "      <td>Netherlands</td>\n",
       "      <td>Air conditioning</td>\n",
       "      <td>Digital radio</td>\n",
       "    </tr>\n",
       "    <tr>\n",
       "      <th>8829</th>\n",
       "      <td>Opel Corsa</td>\n",
       "      <td>Other</td>\n",
       "      <td>331</td>\n",
       "      <td>VAT deductible</td>\n",
       "      <td>10</td>\n",
       "      <td>2019-01-01</td>\n",
       "      <td>66.000</td>\n",
       "      <td>0</td>\n",
       "      <td>Opel</td>\n",
       "      <td>Corsa</td>\n",
       "      <td>2019</td>\n",
       "      <td>White</td>\n",
       "      <td>NaN</td>\n",
       "      <td>Cloth, Black</td>\n",
       "      <td>Other</td>\n",
       "      <td>5.000</td>\n",
       "      <td>5.000</td>\n",
       "      <td>Manual</td>\n",
       "      <td>999.000</td>\n",
       "      <td>3.000</td>\n",
       "      <td>1163.000</td>\n",
       "      <td>NaN</td>\n",
       "      <td>Benzin</td>\n",
       "      <td>NaN</td>\n",
       "      <td>NaN</td>\n",
       "      <td>6.000</td>\n",
       "      <td>Netherlands</td>\n",
       "      <td>Air conditioning</td>\n",
       "      <td>Hands-free equipment</td>\n",
       "    </tr>\n",
       "  </tbody>\n",
       "</table>\n",
       "</div>"
      ],
      "text/plain": [
       "      make_model      body_type  price             vat    km registration  \\\n",
       "6066  Opel Astra  Station wagon    255  VAT deductible  5563   2018-06-01   \n",
       "8594  Opel Corsa         Sedans     13  VAT deductible   123   2018-06-01   \n",
       "8828  Opel Corsa        Compact    120  VAT deductible    12   2019-01-01   \n",
       "8829  Opel Corsa          Other    331  VAT deductible    10   2019-01-01   \n",
       "\n",
       "          hp  previous_owners  make  model  first_registration body_color  \\\n",
       "6066 100.000                0  Opel  Astra                2018       Gold   \n",
       "8594  66.000                0  Opel  Corsa                2018       Gold   \n",
       "8828  66.000                0  Opel  Corsa                2019       Grey   \n",
       "8829  66.000                0  Opel  Corsa                2019      White   \n",
       "\n",
       "     paint_type    upholstery           body  nr_of_doors  nr_of_seats  \\\n",
       "6066        NaN           NaN  Station wagon        5.000        5.000   \n",
       "8594        NaN           NaN         Sedans        3.000        5.000   \n",
       "8828   Metallic  Cloth, Black        Compact        5.000        5.000   \n",
       "8829        NaN  Cloth, Black          Other        5.000        5.000   \n",
       "\n",
       "     gearing_type  displacement  cylinders   weight drive_chain    fuel  \\\n",
       "6066       Manual      1598.000      4.000 1403.000         NaN  Diesel   \n",
       "8594       Manual      1398.000      4.000 1141.000         NaN  Benzin   \n",
       "8828       Manual       999.000      3.000 1099.000         NaN  Benzin   \n",
       "8829       Manual       999.000      3.000 1163.000         NaN  Benzin   \n",
       "\n",
       "      co_2_emission emission_class  gears country_version          air_cond  \\\n",
       "6066        101.000         Euro 6  6.000             NaN  Air conditioning   \n",
       "8594        128.000   Euro 6d-TEMP  5.000             NaN  Air conditioning   \n",
       "8828        107.000         Euro 6  6.000     Netherlands  Air conditioning   \n",
       "8829            NaN            NaN  6.000     Netherlands  Air conditioning   \n",
       "\n",
       "                 bluetooth  \n",
       "6066             Bluetooth  \n",
       "8594             Bluetooth  \n",
       "8828         Digital radio  \n",
       "8829  Hands-free equipment  "
      ]
     },
     "execution_count": 686,
     "metadata": {},
     "output_type": "execute_result"
    }
   ],
   "source": [
    "df[df[\"price\"]<1000]"
   ]
  },
  {
   "cell_type": "markdown",
   "metadata": {},
   "source": [
    "## paint type NaN filling"
   ]
  },
  {
   "cell_type": "code",
   "execution_count": null,
   "metadata": {},
   "outputs": [],
   "source": []
  },
  {
   "cell_type": "code",
   "execution_count": null,
   "metadata": {},
   "outputs": [],
   "source": []
  },
  {
   "cell_type": "markdown",
   "metadata": {},
   "source": [
    "## upholstery NaN filling"
   ]
  },
  {
   "cell_type": "code",
   "execution_count": null,
   "metadata": {},
   "outputs": [],
   "source": []
  },
  {
   "cell_type": "code",
   "execution_count": null,
   "metadata": {},
   "outputs": [],
   "source": []
  },
  {
   "cell_type": "code",
   "execution_count": null,
   "metadata": {},
   "outputs": [],
   "source": []
  },
  {
   "cell_type": "markdown",
   "metadata": {},
   "source": [
    "## body NaN filling"
   ]
  },
  {
   "cell_type": "code",
   "execution_count": null,
   "metadata": {},
   "outputs": [],
   "source": []
  },
  {
   "cell_type": "code",
   "execution_count": null,
   "metadata": {},
   "outputs": [],
   "source": []
  },
  {
   "cell_type": "code",
   "execution_count": null,
   "metadata": {},
   "outputs": [],
   "source": []
  },
  {
   "cell_type": "code",
   "execution_count": null,
   "metadata": {},
   "outputs": [],
   "source": []
  },
  {
   "cell_type": "markdown",
   "metadata": {},
   "source": [
    "## nr_of_seats NaN filling"
   ]
  },
  {
   "cell_type": "code",
   "execution_count": null,
   "metadata": {},
   "outputs": [],
   "source": []
  },
  {
   "cell_type": "code",
   "execution_count": null,
   "metadata": {},
   "outputs": [],
   "source": []
  },
  {
   "cell_type": "code",
   "execution_count": null,
   "metadata": {},
   "outputs": [],
   "source": []
  },
  {
   "cell_type": "markdown",
   "metadata": {},
   "source": [
    "## nr_of_seats NaN filling"
   ]
  },
  {
   "cell_type": "code",
   "execution_count": null,
   "metadata": {},
   "outputs": [],
   "source": []
  },
  {
   "cell_type": "code",
   "execution_count": null,
   "metadata": {},
   "outputs": [],
   "source": []
  },
  {
   "cell_type": "code",
   "execution_count": null,
   "metadata": {},
   "outputs": [],
   "source": []
  },
  {
   "cell_type": "code",
   "execution_count": null,
   "metadata": {},
   "outputs": [],
   "source": []
  },
  {
   "cell_type": "markdown",
   "metadata": {},
   "source": [
    "## displacement NaN filling"
   ]
  },
  {
   "cell_type": "code",
   "execution_count": null,
   "metadata": {},
   "outputs": [],
   "source": []
  },
  {
   "cell_type": "code",
   "execution_count": null,
   "metadata": {},
   "outputs": [],
   "source": []
  },
  {
   "cell_type": "code",
   "execution_count": null,
   "metadata": {},
   "outputs": [],
   "source": []
  },
  {
   "cell_type": "code",
   "execution_count": null,
   "metadata": {},
   "outputs": [],
   "source": []
  },
  {
   "cell_type": "markdown",
   "metadata": {},
   "source": [
    "## cylinders NaN filling"
   ]
  },
  {
   "cell_type": "code",
   "execution_count": null,
   "metadata": {},
   "outputs": [],
   "source": []
  },
  {
   "cell_type": "code",
   "execution_count": null,
   "metadata": {},
   "outputs": [],
   "source": []
  },
  {
   "cell_type": "code",
   "execution_count": null,
   "metadata": {},
   "outputs": [],
   "source": []
  },
  {
   "cell_type": "code",
   "execution_count": null,
   "metadata": {},
   "outputs": [],
   "source": []
  },
  {
   "cell_type": "markdown",
   "metadata": {},
   "source": [
    "## weight NaN filling "
   ]
  },
  {
   "cell_type": "code",
   "execution_count": null,
   "metadata": {},
   "outputs": [],
   "source": []
  },
  {
   "cell_type": "code",
   "execution_count": null,
   "metadata": {},
   "outputs": [],
   "source": []
  },
  {
   "cell_type": "code",
   "execution_count": null,
   "metadata": {},
   "outputs": [],
   "source": []
  },
  {
   "cell_type": "code",
   "execution_count": null,
   "metadata": {},
   "outputs": [],
   "source": []
  },
  {
   "cell_type": "markdown",
   "metadata": {},
   "source": [
    "## drive_chain NaN filling"
   ]
  },
  {
   "cell_type": "code",
   "execution_count": null,
   "metadata": {},
   "outputs": [],
   "source": []
  },
  {
   "cell_type": "code",
   "execution_count": null,
   "metadata": {},
   "outputs": [],
   "source": []
  },
  {
   "cell_type": "code",
   "execution_count": null,
   "metadata": {},
   "outputs": [],
   "source": []
  },
  {
   "cell_type": "code",
   "execution_count": null,
   "metadata": {},
   "outputs": [],
   "source": []
  },
  {
   "cell_type": "markdown",
   "metadata": {},
   "source": [
    "## co_2_emission NaN filling"
   ]
  },
  {
   "cell_type": "code",
   "execution_count": null,
   "metadata": {},
   "outputs": [],
   "source": []
  },
  {
   "cell_type": "code",
   "execution_count": null,
   "metadata": {},
   "outputs": [],
   "source": []
  },
  {
   "cell_type": "code",
   "execution_count": null,
   "metadata": {},
   "outputs": [],
   "source": []
  },
  {
   "cell_type": "code",
   "execution_count": null,
   "metadata": {},
   "outputs": [],
   "source": []
  },
  {
   "cell_type": "markdown",
   "metadata": {},
   "source": [
    "## emission_class NaN filling"
   ]
  },
  {
   "cell_type": "code",
   "execution_count": null,
   "metadata": {},
   "outputs": [],
   "source": []
  },
  {
   "cell_type": "code",
   "execution_count": null,
   "metadata": {},
   "outputs": [],
   "source": []
  },
  {
   "cell_type": "code",
   "execution_count": null,
   "metadata": {},
   "outputs": [],
   "source": []
  },
  {
   "cell_type": "code",
   "execution_count": null,
   "metadata": {},
   "outputs": [],
   "source": []
  },
  {
   "cell_type": "markdown",
   "metadata": {},
   "source": [
    "## gears NaN filling"
   ]
  },
  {
   "cell_type": "code",
   "execution_count": null,
   "metadata": {},
   "outputs": [],
   "source": []
  },
  {
   "cell_type": "code",
   "execution_count": null,
   "metadata": {},
   "outputs": [],
   "source": []
  },
  {
   "cell_type": "code",
   "execution_count": null,
   "metadata": {},
   "outputs": [],
   "source": []
  },
  {
   "cell_type": "code",
   "execution_count": null,
   "metadata": {},
   "outputs": [],
   "source": []
  },
  {
   "cell_type": "markdown",
   "metadata": {},
   "source": [
    "## country_version NaN filling"
   ]
  },
  {
   "cell_type": "code",
   "execution_count": null,
   "metadata": {},
   "outputs": [],
   "source": []
  },
  {
   "cell_type": "code",
   "execution_count": null,
   "metadata": {},
   "outputs": [],
   "source": []
  },
  {
   "cell_type": "code",
   "execution_count": null,
   "metadata": {},
   "outputs": [],
   "source": []
  },
  {
   "cell_type": "code",
   "execution_count": null,
   "metadata": {},
   "outputs": [],
   "source": []
  },
  {
   "cell_type": "markdown",
   "metadata": {},
   "source": [
    "## air_cond NaN filling"
   ]
  },
  {
   "cell_type": "code",
   "execution_count": null,
   "metadata": {},
   "outputs": [],
   "source": []
  },
  {
   "cell_type": "code",
   "execution_count": null,
   "metadata": {},
   "outputs": [],
   "source": []
  },
  {
   "cell_type": "code",
   "execution_count": null,
   "metadata": {},
   "outputs": [],
   "source": []
  },
  {
   "cell_type": "code",
   "execution_count": null,
   "metadata": {},
   "outputs": [],
   "source": []
  },
  {
   "cell_type": "markdown",
   "metadata": {},
   "source": [
    "## bluetooth NaN filling"
   ]
  },
  {
   "cell_type": "code",
   "execution_count": null,
   "metadata": {},
   "outputs": [],
   "source": []
  },
  {
   "cell_type": "code",
   "execution_count": null,
   "metadata": {},
   "outputs": [],
   "source": []
  },
  {
   "cell_type": "code",
   "execution_count": null,
   "metadata": {},
   "outputs": [],
   "source": []
  },
  {
   "cell_type": "code",
   "execution_count": null,
   "metadata": {},
   "outputs": [],
   "source": []
  },
  {
   "cell_type": "markdown",
   "metadata": {},
   "source": [
    "## arabanin yasi"
   ]
  },
  {
   "cell_type": "code",
   "execution_count": null,
   "metadata": {},
   "outputs": [],
   "source": [
    "import datetime\n",
    "from dateutil.relativedelta import relativedelta\n",
    "from datetime import date"
   ]
  },
  {
   "cell_type": "code",
   "execution_count": null,
   "metadata": {},
   "outputs": [],
   "source": [
    "# df['registration'] = pd.to_datetime(df['registration'])\n",
    "# df['registration']"
   ]
  },
  {
   "cell_type": "code",
   "execution_count": null,
   "metadata": {},
   "outputs": [],
   "source": [
    "today = \"01 Dec,2019\""
   ]
  },
  {
   "cell_type": "code",
   "execution_count": null,
   "metadata": {},
   "outputs": [],
   "source": [
    "# df['age_months'] = (pd.to_datetime(today)- df['registration'])/np.timedelta64(1,'M')\n",
    "# df['age_months']"
   ]
  },
  {
   "cell_type": "code",
   "execution_count": null,
   "metadata": {},
   "outputs": [],
   "source": []
  },
  {
   "cell_type": "code",
   "execution_count": null,
   "metadata": {},
   "outputs": [],
   "source": []
  },
  {
   "cell_type": "code",
   "execution_count": null,
   "metadata": {},
   "outputs": [],
   "source": []
  },
  {
   "cell_type": "code",
   "execution_count": null,
   "metadata": {},
   "outputs": [],
   "source": []
  },
  {
   "cell_type": "code",
   "execution_count": null,
   "metadata": {},
   "outputs": [],
   "source": []
  },
  {
   "cell_type": "code",
   "execution_count": null,
   "metadata": {},
   "outputs": [],
   "source": []
  },
  {
   "cell_type": "code",
   "execution_count": null,
   "metadata": {},
   "outputs": [],
   "source": []
  },
  {
   "cell_type": "code",
   "execution_count": null,
   "metadata": {},
   "outputs": [],
   "source": []
  },
  {
   "cell_type": "markdown",
   "metadata": {},
   "source": [
    "### g12"
   ]
  },
  {
   "cell_type": "code",
   "execution_count": null,
   "metadata": {},
   "outputs": [],
   "source": [
    "# df['body_type'].fillna(df.groupby(['make', 'model'])['body_type'].transform(lambda x: x.mode()[0]), inplace = True)"
   ]
  },
  {
   "cell_type": "code",
   "execution_count": null,
   "metadata": {},
   "outputs": [],
   "source": [
    "# df[\"Displacement\"][df[\"Displacement\"].isnull()== True][df.make_model=='Audi A3'].fillna(1.4)"
   ]
  },
  {
   "cell_type": "code",
   "execution_count": null,
   "metadata": {},
   "outputs": [],
   "source": [
    "# df.loc[(df[\"Type\"].isna()==True) & (df.km > 100),\"Type\"]= \"Used\"\n",
    "# df.loc[(df[\"Type\"].isna()==True) & (df.km < 100),\"Type\"]= \"New\""
   ]
  },
  {
   "cell_type": "code",
   "execution_count": null,
   "metadata": {},
   "outputs": [],
   "source": [
    "# def fill_most(df, group_col, col_name):\n",
    "#     for group in list(df[group_col].unique()) :\n",
    "#         cond = df[group_col] == group\n",
    "#         mode = list(df[cond][col_name].mode())\n",
    "#         if mode != [] :\n",
    "#             df.loc[cond,col_name] = df.loc[cond,col_name].fillna(df[cond][col_name].mode()[0])\n",
    "#         else :\n",
    "#             df.loc[cond,col_name] = df.loc[cond,col_name].fillna(df[col_name].mode()[0])"
   ]
  },
  {
   "cell_type": "code",
   "execution_count": 54,
   "metadata": {},
   "outputs": [
    {
     "data": {
      "text/plain": [
       "Cloth    8423\n",
       "Part     1499\n",
       "Full     1009\n",
       "Black     491\n",
       "Other     368\n",
       "Grey      273\n",
       "Velou      60\n",
       "alcan      57\n",
       "Brown      12\n",
       "Beige       3\n",
       "Blue        2\n",
       "White       2\n",
       "Name: upholstery, dtype: int64"
      ]
     },
     "execution_count": 54,
     "metadata": {},
     "output_type": "execute_result"
    }
   ],
   "source": [
    "df.upholstery.str[:5].value_counts()"
   ]
  },
  {
   "cell_type": "code",
   "execution_count": 57,
   "metadata": {},
   "outputs": [
    {
     "data": {
      "text/plain": [
       "Cloth, Black           5821\n",
       "Part leather, Black    1121\n",
       "Cloth                  1005\n",
       "Cloth, Grey             891\n",
       "Cloth, Other            639\n",
       "Full leather, Black     575\n",
       "Black                   491\n",
       "Grey                    273\n",
       "Other, Other            182\n",
       "Part leather            140\n",
       "Full leather            139\n",
       "Part leather, Grey      116\n",
       "Full leather, Brown     116\n",
       "Other, Black            110\n",
       "Full leather, Other      72\n",
       "Full leather, Grey       67\n",
       "Part leather, Other      65\n",
       "Other                    56\n",
       "Part leather, Brown      50\n",
       "alcantara, Black         47\n",
       "Full leather, Beige      36\n",
       "Velour, Black            36\n",
       "Cloth, Brown             28\n",
       "Velour                   16\n",
       "Other, Grey              15\n",
       "Cloth, Beige             13\n",
       "Brown                    12\n",
       "Cloth, Blue              12\n",
       "Cloth, White              8\n",
       "Velour, Grey              8\n",
       "alcantara, Grey           6\n",
       "Cloth, Red                5\n",
       "Other, Yellow             4\n",
       "Beige                     3\n",
       "Part leather, Red         3\n",
       "alcantara                 2\n",
       "Part leather, White       2\n",
       "Blue                      2\n",
       "White                     2\n",
       "Part leather, Beige       2\n",
       "alcantara, Other          2\n",
       "Full leather, Blue        2\n",
       "Other, Brown              1\n",
       "Cloth, Orange             1\n",
       "Full leather, Red         1\n",
       "Full leather, White       1\n",
       "Name: upholstery, dtype: int64"
      ]
     },
     "execution_count": 57,
     "metadata": {},
     "output_type": "execute_result"
    }
   ],
   "source": [
    "df.upholstery.value_counts()"
   ]
  },
  {
   "cell_type": "code",
   "execution_count": null,
   "metadata": {},
   "outputs": [],
   "source": []
  },
  {
   "cell_type": "code",
   "execution_count": null,
   "metadata": {},
   "outputs": [],
   "source": []
  },
  {
   "cell_type": "markdown",
   "metadata": {},
   "source": [
    "# PART- 3 `( Handling With Outliers )`"
   ]
  },
  {
   "cell_type": "code",
   "execution_count": null,
   "metadata": {},
   "outputs": [],
   "source": []
  },
  {
   "cell_type": "markdown",
   "metadata": {},
   "source": [
    "# Final Step (Checking final situation of data via graphs)"
   ]
  },
  {
   "cell_type": "code",
   "execution_count": 41,
   "metadata": {},
   "outputs": [
    {
     "data": {
      "image/png": "[encoded data removed]",
      "text/plain": [
       "<Figure size 1008x720 with 2 Axes>"
      ]
     },
     "metadata": {},
     "output_type": "display_data"
    }
   ],
   "source": [
    "plt.figure(figsize = (14,10))\n",
    "sns.heatmap(data=df.corr(), \n",
    "            annot=True, \n",
    "            cmap='Spectral');"
   ]
  },
  {
   "cell_type": "code",
   "execution_count": null,
   "metadata": {},
   "outputs": [],
   "source": []
  },
  {
   "cell_type": "code",
   "execution_count": 42,
   "metadata": {},
   "outputs": [
    {
     "data": {
      "text/plain": [
       "<AxesSubplot:>"
      ]
     },
     "execution_count": 42,
     "metadata": {},
     "output_type": "execute_result"
    },
    {
     "data": {
      "image/png": "[encoded data removed]",
      "text/plain": [
       "<Figure size 288x720 with 2 Axes>"
      ]
     },
     "metadata": {},
     "output_type": "display_data"
    }
   ],
   "source": [
    "fig,ax = plt.subplots(figsize=(4, 10))\n",
    "sns.heatmap(data=df.corr()[['price']].sort_values(by='price'),\n",
    "            vmin = -1, vmax = 1, \n",
    "            annot=True, \n",
    "            cmap='BrBG')"
   ]
  },
  {
   "cell_type": "code",
   "execution_count": null,
   "metadata": {},
   "outputs": [],
   "source": []
  },
  {
   "cell_type": "code",
   "execution_count": null,
   "metadata": {},
   "outputs": [],
   "source": []
  },
  {
   "cell_type": "code",
   "execution_count": null,
   "metadata": {},
   "outputs": [],
   "source": []
  },
  {
   "cell_type": "code",
   "execution_count": null,
   "metadata": {},
   "outputs": [],
   "source": []
  },
  {
   "cell_type": "code",
   "execution_count": null,
   "metadata": {},
   "outputs": [],
   "source": []
  },
  {
   "cell_type": "code",
   "execution_count": null,
   "metadata": {},
   "outputs": [],
   "source": []
  },
  {
   "cell_type": "code",
   "execution_count": null,
   "metadata": {},
   "outputs": [],
   "source": []
  },
  {
   "cell_type": "markdown",
   "metadata": {},
   "source": [
    "## Export dataframe to csv file (without dummy)"
   ]
  },
  {
   "cell_type": "code",
   "execution_count": null,
   "metadata": {},
   "outputs": [],
   "source": [
    "df.to_csv(\"final_scout_not_dummy.csv\", index=False)"
   ]
  },
  {
   "cell_type": "markdown",
   "metadata": {},
   "source": [
    "# Dummy Operation"
   ]
  },
  {
   "cell_type": "code",
   "execution_count": null,
   "metadata": {},
   "outputs": [],
   "source": []
  },
  {
   "cell_type": "markdown",
   "metadata": {},
   "source": [
    "## Export dataframe to csv file (dummy)"
   ]
  },
  {
   "cell_type": "code",
   "execution_count": null,
   "metadata": {},
   "outputs": [],
   "source": [
    "df_dummied.to_csv(\"final_scout_dummy.csv\", index=False)"
   ]
  }
 ],
 "metadata": {
  "kernelspec": {
   "display_name": "Python 3",
   "language": "python",
   "name": "python3"
  },
  "language_info": {
   "codemirror_mode": {
    "name": "ipython",
    "version": 3
   },
   "file_extension": ".py",
   "mimetype": "text/x-python",
   "name": "python",
   "nbconvert_exporter": "python",
   "pygments_lexer": "ipython3",
   "version": "3.8.8"
  },
  "toc": {
   "base_numbering": 1,
   "nav_menu": {},
   "number_sections": true,
   "sideBar": true,
   "skip_h1_title": false,
   "title_cell": "Table of Contents",
   "title_sidebar": "Contents",
   "toc_cell": false,
   "toc_position": {
    "height": "calc(100% - 180px)",
    "left": "10px",
    "top": "150px",
    "width": "252px"
   },
   "toc_section_display": true,
   "toc_window_display": true
  }
 },
 "nbformat": 4,
 "nbformat_minor": 4
}
