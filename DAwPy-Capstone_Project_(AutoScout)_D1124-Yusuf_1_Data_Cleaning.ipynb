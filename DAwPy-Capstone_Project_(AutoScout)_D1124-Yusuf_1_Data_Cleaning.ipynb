{
 "cells": [
  {
   "cell_type": "markdown",
   "metadata": {},
   "source": [
    "___\n",
    "\n",
    "<p style=\"text-align: center;\"><img src=\"https://docs.google.com/uc?id=1lY0Uj5R04yMY3-ZppPWxqCr5pvBLYPnV\" class=\"img-fluid\" \n",
    "alt=\"CLRSWY\"></p>\n",
    "\n",
    "## <p style=\"background-color:#FDFEFE; font-family:newtimeroman; color:#9d4f8c; font-size:100%; text-align:center; border-radius:10px 10px;\">WAY TO REINVENT YOURSELF</p>"
   ]
  },
  {
   "cell_type": "markdown",
   "metadata": {},
   "source": [
    "<img src=https://i.ibb.co/wJW61Y2/Used-cars.jpg width=\"700\" height=\"200\">\n",
    "\n",
    "## <p style=\"background-color:#FDFEFE; font-family:newtimeroman; color:#060108; font-size:200%; text-align:center; border-radius:10px 10px;\">The Capstone Project of Data Analytics Module</p>\n",
    "\n",
    "## <p style=\"background-color:#FDFEFE; font-family:newtimeroman; color:#060108; font-size:150%; text-align:center; border-radius:10px 10px;\">Car Price Prediction EDA</p>"
   ]
  },
  {
   "cell_type": "markdown",
   "metadata": {},
   "source": [
    "# WELCOME!"
   ]
  },
  {
   "cell_type": "markdown",
   "metadata": {},
   "source": [
    "## Introduction\n",
    "Welcome to \"***AutoScout Data Analysis Project***\". This is the capstone project of ***Data Analysis*** Module. **Auto Scout** data which using for this project, scraped from the on-line car trading company in 2019, contains many features of 9 different car models. In this project, you will have the opportunity to apply many commonly used algorithms for Data Cleaning and Exploratory Data Analysis by using many Python libraries such as Numpy, Pandas, Matplotlib, Seaborn, Scipy you will analyze clean dataset.\n",
    "\n",
    "The project consists of 3 parts:\n",
    "* First part is related with 'data cleaning'. It deals with Incorrect Headers, Incorrect Format, Anomalies, Dropping useless columns.\n",
    "* Second part is related with 'filling data'. It deals with Missing Values. Categorical to numeric transformation is done.\n",
    "* Third part is related with 'handling outliers of data' via Visualisation libraries. Some insights are extracted.\n"
   ]
  },
  {
   "cell_type": "code",
   "execution_count": 2336,
   "metadata": {},
   "outputs": [],
   "source": [
    "import pandas as pd \n",
    "import numpy as np \n",
    "import matplotlib.pyplot as plt \n",
    "import seaborn as sns\n",
    "\n",
    "import warnings \n",
    "warnings.filterwarnings(\"ignore\") \n",
    "warnings.warn(\"this will not show\")\n",
    "\n",
    "%matplotlib inline\n",
    "\n",
    "plt.rcParams[\"figure.figsize\"] = (10,6)\n",
    "\n",
    "sns.set_style(\"whitegrid\") \n",
    "pd.set_option('display.float_format', lambda x: '%.3f' % x)\n",
    "\n",
    "pd.options.display.max_rows = 150 \n",
    "pd.options.display.max_columns = 100\n",
    "import json\n",
    "import regex as re\n",
    "from datetime import date\n",
    "from datetime import datetime\n",
    "from datetime import timedelta"
   ]
  },
  {
   "cell_type": "code",
   "execution_count": 2337,
   "metadata": {},
   "outputs": [],
   "source": [
    "#df.to_excel('scout_car_dropped.xlsx')\n",
    "##convert json to excel"
   ]
  },
  {
   "cell_type": "markdown",
   "metadata": {},
   "source": [
    "# PART- 1 `( Data Cleaning )`"
   ]
  },
  {
   "cell_type": "code",
   "execution_count": 2338,
   "metadata": {
    "scrolled": true
   },
   "outputs": [
    {
     "data": {
      "text/html": [
       "<div>\n",
       "<style scoped>\n",
       "    .dataframe tbody tr th:only-of-type {\n",
       "        vertical-align: middle;\n",
       "    }\n",
       "\n",
       "    .dataframe tbody tr th {\n",
       "        vertical-align: top;\n",
       "    }\n",
       "\n",
       "    .dataframe thead th {\n",
       "        text-align: right;\n",
       "    }\n",
       "</style>\n",
       "<table border=\"1\" class=\"dataframe\">\n",
       "  <thead>\n",
       "    <tr style=\"text-align: right;\">\n",
       "      <th></th>\n",
       "      <th>0</th>\n",
       "      <th>1</th>\n",
       "      <th>2</th>\n",
       "      <th>3</th>\n",
       "      <th>4</th>\n",
       "    </tr>\n",
       "  </thead>\n",
       "  <tbody>\n",
       "    <tr>\n",
       "      <th>url</th>\n",
       "      <td>https://www.autoscout24.com//offers/audi-a1-sp...</td>\n",
       "      <td>https://www.autoscout24.com//offers/audi-a1-1-...</td>\n",
       "      <td>https://www.autoscout24.com//offers/audi-a1-sp...</td>\n",
       "      <td>https://www.autoscout24.com//offers/audi-a1-1-...</td>\n",
       "      <td>https://www.autoscout24.com//offers/audi-a1-sp...</td>\n",
       "    </tr>\n",
       "    <tr>\n",
       "      <th>make_model</th>\n",
       "      <td>Audi A1</td>\n",
       "      <td>Audi A1</td>\n",
       "      <td>Audi A1</td>\n",
       "      <td>Audi A1</td>\n",
       "      <td>Audi A1</td>\n",
       "    </tr>\n",
       "    <tr>\n",
       "      <th>short_description</th>\n",
       "      <td>Sportback 1.4 TDI S-tronic Xenon Navi Klima</td>\n",
       "      <td>1.8 TFSI sport</td>\n",
       "      <td>Sportback 1.6 TDI S tronic Einparkhilfe plus+m...</td>\n",
       "      <td>1.4 TDi Design S tronic</td>\n",
       "      <td>Sportback 1.4 TDI S-Tronic S-Line Ext. admired...</td>\n",
       "    </tr>\n",
       "    <tr>\n",
       "      <th>body_type</th>\n",
       "      <td>Sedans</td>\n",
       "      <td>Sedans</td>\n",
       "      <td>Sedans</td>\n",
       "      <td>Sedans</td>\n",
       "      <td>Sedans</td>\n",
       "    </tr>\n",
       "    <tr>\n",
       "      <th>price</th>\n",
       "      <td>15770</td>\n",
       "      <td>14500</td>\n",
       "      <td>14640</td>\n",
       "      <td>14500</td>\n",
       "      <td>16790</td>\n",
       "    </tr>\n",
       "    <tr>\n",
       "      <th>vat</th>\n",
       "      <td>VAT deductible</td>\n",
       "      <td>Price negotiable</td>\n",
       "      <td>VAT deductible</td>\n",
       "      <td>None</td>\n",
       "      <td>None</td>\n",
       "    </tr>\n",
       "    <tr>\n",
       "      <th>km</th>\n",
       "      <td>56,013 km</td>\n",
       "      <td>80,000 km</td>\n",
       "      <td>83,450 km</td>\n",
       "      <td>73,000 km</td>\n",
       "      <td>16,200 km</td>\n",
       "    </tr>\n",
       "    <tr>\n",
       "      <th>registration</th>\n",
       "      <td>01/2016</td>\n",
       "      <td>03/2017</td>\n",
       "      <td>02/2016</td>\n",
       "      <td>08/2016</td>\n",
       "      <td>05/2016</td>\n",
       "    </tr>\n",
       "    <tr>\n",
       "      <th>prev_owner</th>\n",
       "      <td>2 previous owners</td>\n",
       "      <td>None</td>\n",
       "      <td>1 previous owner</td>\n",
       "      <td>1 previous owner</td>\n",
       "      <td>1 previous owner</td>\n",
       "    </tr>\n",
       "    <tr>\n",
       "      <th>kW</th>\n",
       "      <td>NaN</td>\n",
       "      <td>NaN</td>\n",
       "      <td>NaN</td>\n",
       "      <td>NaN</td>\n",
       "      <td>NaN</td>\n",
       "    </tr>\n",
       "    <tr>\n",
       "      <th>hp</th>\n",
       "      <td>66 kW</td>\n",
       "      <td>141 kW</td>\n",
       "      <td>85 kW</td>\n",
       "      <td>66 kW</td>\n",
       "      <td>66 kW</td>\n",
       "    </tr>\n",
       "    <tr>\n",
       "      <th>Type</th>\n",
       "      <td>[, Used, , Diesel (Particulate Filter)]</td>\n",
       "      <td>[, Used, , Gasoline]</td>\n",
       "      <td>[, Used, , Diesel (Particulate Filter)]</td>\n",
       "      <td>[, Used, , Diesel (Particulate Filter)]</td>\n",
       "      <td>[, Used, , Diesel (Particulate Filter)]</td>\n",
       "    </tr>\n",
       "    <tr>\n",
       "      <th>Previous Owners</th>\n",
       "      <td>\\n2\\n</td>\n",
       "      <td>NaN</td>\n",
       "      <td>\\n1\\n</td>\n",
       "      <td>\\n1\\n</td>\n",
       "      <td>\\n1\\n</td>\n",
       "    </tr>\n",
       "    <tr>\n",
       "      <th>Next Inspection</th>\n",
       "      <td>[\\n06/2021\\n, \\n99 g CO2/km (comb)\\n]</td>\n",
       "      <td>NaN</td>\n",
       "      <td>NaN</td>\n",
       "      <td>NaN</td>\n",
       "      <td>NaN</td>\n",
       "    </tr>\n",
       "    <tr>\n",
       "      <th>Inspection new</th>\n",
       "      <td>[\\nYes\\n, \\nEuro 6\\n]</td>\n",
       "      <td>NaN</td>\n",
       "      <td>NaN</td>\n",
       "      <td>NaN</td>\n",
       "      <td>[\\nYes\\n, \\n109 g CO2/km (comb)\\n]</td>\n",
       "    </tr>\n",
       "    <tr>\n",
       "      <th>Warranty</th>\n",
       "      <td>[\\n, \\n, \\n4 (Green)\\n]</td>\n",
       "      <td>NaN</td>\n",
       "      <td>[\\n, \\n, \\n99 g CO2/km (comb)\\n]</td>\n",
       "      <td>NaN</td>\n",
       "      <td>[\\n, \\n, \\nEuro 6\\n]</td>\n",
       "    </tr>\n",
       "    <tr>\n",
       "      <th>Full Service</th>\n",
       "      <td>[\\n, \\n]</td>\n",
       "      <td>NaN</td>\n",
       "      <td>NaN</td>\n",
       "      <td>[\\n, \\n, \\n99 g CO2/km (comb)\\n]</td>\n",
       "      <td>[\\n, \\n, \\n4 (Green)\\n]</td>\n",
       "    </tr>\n",
       "    <tr>\n",
       "      <th>Non-smoking Vehicle</th>\n",
       "      <td>[\\n, \\n]</td>\n",
       "      <td>NaN</td>\n",
       "      <td>NaN</td>\n",
       "      <td>[\\n, \\n, \\nEuro 6\\n]</td>\n",
       "      <td>[\\n, \\n]</td>\n",
       "    </tr>\n",
       "    <tr>\n",
       "      <th>null</th>\n",
       "      <td>[]</td>\n",
       "      <td>[]</td>\n",
       "      <td>[]</td>\n",
       "      <td>[]</td>\n",
       "      <td>[]</td>\n",
       "    </tr>\n",
       "    <tr>\n",
       "      <th>Make</th>\n",
       "      <td>\\nAudi\\n</td>\n",
       "      <td>\\nAudi\\n</td>\n",
       "      <td>\\nAudi\\n</td>\n",
       "      <td>\\nAudi\\n</td>\n",
       "      <td>\\nAudi\\n</td>\n",
       "    </tr>\n",
       "    <tr>\n",
       "      <th>Model</th>\n",
       "      <td>[\\n, A1, \\n]</td>\n",
       "      <td>[\\n, A1, \\n]</td>\n",
       "      <td>[\\n, A1, \\n]</td>\n",
       "      <td>[\\n, A1, \\n]</td>\n",
       "      <td>[\\n, A1, \\n]</td>\n",
       "    </tr>\n",
       "    <tr>\n",
       "      <th>Offer Number</th>\n",
       "      <td>[\\nLR-062483\\n]</td>\n",
       "      <td>NaN</td>\n",
       "      <td>[\\nAM-95365\\n]</td>\n",
       "      <td>NaN</td>\n",
       "      <td>[\\nC1626\\n]</td>\n",
       "    </tr>\n",
       "    <tr>\n",
       "      <th>First Registration</th>\n",
       "      <td>[\\n, 2016, \\n]</td>\n",
       "      <td>[\\n, 2017, \\n]</td>\n",
       "      <td>[\\n, 2016, \\n]</td>\n",
       "      <td>[\\n, 2016, \\n]</td>\n",
       "      <td>[\\n, 2016, \\n]</td>\n",
       "    </tr>\n",
       "    <tr>\n",
       "      <th>Body Color</th>\n",
       "      <td>[\\n, Black, \\n]</td>\n",
       "      <td>[\\n, Red, \\n]</td>\n",
       "      <td>[\\n, Black, \\n]</td>\n",
       "      <td>[\\n, Brown, \\n]</td>\n",
       "      <td>[\\n, Black, \\n]</td>\n",
       "    </tr>\n",
       "    <tr>\n",
       "      <th>Paint Type</th>\n",
       "      <td>[\\nMetallic\\n]</td>\n",
       "      <td>NaN</td>\n",
       "      <td>[\\nMetallic\\n]</td>\n",
       "      <td>[\\nMetallic\\n]</td>\n",
       "      <td>[\\nMetallic\\n]</td>\n",
       "    </tr>\n",
       "    <tr>\n",
       "      <th>Body Color Original</th>\n",
       "      <td>[\\nMythosschwarz\\n]</td>\n",
       "      <td>NaN</td>\n",
       "      <td>[\\nmythosschwarz metallic\\n]</td>\n",
       "      <td>NaN</td>\n",
       "      <td>[\\nMythosschwarz Metallic\\n]</td>\n",
       "    </tr>\n",
       "    <tr>\n",
       "      <th>Upholstery</th>\n",
       "      <td>[\\nCloth, Black\\n]</td>\n",
       "      <td>[\\nCloth, Grey\\n]</td>\n",
       "      <td>[\\nCloth, Black\\n]</td>\n",
       "      <td>NaN</td>\n",
       "      <td>[\\nCloth, Black\\n]</td>\n",
       "    </tr>\n",
       "    <tr>\n",
       "      <th>Body</th>\n",
       "      <td>[\\n, Sedans, \\n]</td>\n",
       "      <td>[\\n, Sedans, \\n]</td>\n",
       "      <td>[\\n, Sedans, \\n]</td>\n",
       "      <td>[\\n, Sedans, \\n]</td>\n",
       "      <td>[\\n, Sedans, \\n]</td>\n",
       "    </tr>\n",
       "    <tr>\n",
       "      <th>Nr. of Doors</th>\n",
       "      <td>[\\n5\\n]</td>\n",
       "      <td>[\\n3\\n]</td>\n",
       "      <td>[\\n4\\n]</td>\n",
       "      <td>[\\n3\\n]</td>\n",
       "      <td>[\\n5\\n]</td>\n",
       "    </tr>\n",
       "    <tr>\n",
       "      <th>Nr. of Seats</th>\n",
       "      <td>[\\n5\\n]</td>\n",
       "      <td>[\\n4\\n]</td>\n",
       "      <td>[\\n4\\n]</td>\n",
       "      <td>[\\n4\\n]</td>\n",
       "      <td>[\\n5\\n]</td>\n",
       "    </tr>\n",
       "    <tr>\n",
       "      <th>Model Code</th>\n",
       "      <td>[\\n0588/BDF\\n]</td>\n",
       "      <td>[\\n0588/BCY\\n]</td>\n",
       "      <td>NaN</td>\n",
       "      <td>NaN</td>\n",
       "      <td>[\\n0588/BDF\\n]</td>\n",
       "    </tr>\n",
       "    <tr>\n",
       "      <th>Gearing Type</th>\n",
       "      <td>[\\n, Automatic, \\n]</td>\n",
       "      <td>[\\n, Automatic, \\n]</td>\n",
       "      <td>[\\n, Automatic, \\n]</td>\n",
       "      <td>[\\n, Automatic, \\n]</td>\n",
       "      <td>[\\n, Automatic, \\n]</td>\n",
       "    </tr>\n",
       "    <tr>\n",
       "      <th>Displacement</th>\n",
       "      <td>[\\n1,422 cc\\n]</td>\n",
       "      <td>[\\n1,798 cc\\n]</td>\n",
       "      <td>[\\n1,598 cc\\n]</td>\n",
       "      <td>[\\n1,422 cc\\n]</td>\n",
       "      <td>[\\n1,422 cc\\n]</td>\n",
       "    </tr>\n",
       "    <tr>\n",
       "      <th>Cylinders</th>\n",
       "      <td>[\\n3\\n]</td>\n",
       "      <td>[\\n4\\n]</td>\n",
       "      <td>NaN</td>\n",
       "      <td>[\\n3\\n]</td>\n",
       "      <td>[\\n3\\n]</td>\n",
       "    </tr>\n",
       "    <tr>\n",
       "      <th>Weight</th>\n",
       "      <td>[\\n1,220 kg\\n]</td>\n",
       "      <td>[\\n1,255 kg\\n]</td>\n",
       "      <td>NaN</td>\n",
       "      <td>[\\n1,195 kg\\n]</td>\n",
       "      <td>NaN</td>\n",
       "    </tr>\n",
       "    <tr>\n",
       "      <th>Drive chain</th>\n",
       "      <td>[\\nfront\\n]</td>\n",
       "      <td>[\\nfront\\n]</td>\n",
       "      <td>[\\nfront\\n]</td>\n",
       "      <td>NaN</td>\n",
       "      <td>[\\nfront\\n]</td>\n",
       "    </tr>\n",
       "    <tr>\n",
       "      <th>Fuel</th>\n",
       "      <td>[\\n, Diesel (Particulate Filter), \\n]</td>\n",
       "      <td>[\\n, Gasoline, \\n]</td>\n",
       "      <td>[\\n, Diesel (Particulate Filter), \\n]</td>\n",
       "      <td>[\\n, Diesel (Particulate Filter), \\n]</td>\n",
       "      <td>[\\n, Diesel (Particulate Filter), \\n]</td>\n",
       "    </tr>\n",
       "    <tr>\n",
       "      <th>Consumption</th>\n",
       "      <td>[[3.8 l/100 km (comb)], [4.3 l/100 km (city)],...</td>\n",
       "      <td>[[5.6 l/100 km (comb)], [7.1 l/100 km (city)],...</td>\n",
       "      <td>[[3.8 l/100 km (comb)], [4.4 l/100 km (city)],...</td>\n",
       "      <td>[[3.8 l/100 km (comb)], [4.3 l/100 km (city)],...</td>\n",
       "      <td>[[4.1 l/100 km (comb)], [4.6 l/100 km (city)],...</td>\n",
       "    </tr>\n",
       "    <tr>\n",
       "      <th>CO2 Emission</th>\n",
       "      <td>[\\n99 g CO2/km (comb)\\n]</td>\n",
       "      <td>[\\n129 g CO2/km (comb)\\n]</td>\n",
       "      <td>[\\n99 g CO2/km (comb)\\n]</td>\n",
       "      <td>[\\n99 g CO2/km (comb)\\n]</td>\n",
       "      <td>[\\n109 g CO2/km (comb)\\n]</td>\n",
       "    </tr>\n",
       "    <tr>\n",
       "      <th>Emission Class</th>\n",
       "      <td>[\\nEuro 6\\n]</td>\n",
       "      <td>[\\nEuro 6\\n]</td>\n",
       "      <td>[\\nEuro 6\\n]</td>\n",
       "      <td>[\\nEuro 6\\n]</td>\n",
       "      <td>[\\nEuro 6\\n]</td>\n",
       "    </tr>\n",
       "    <tr>\n",
       "      <th>\\nComfort &amp; Convenience\\n</th>\n",
       "      <td>[Air conditioning, Armrest, Automatic climate ...</td>\n",
       "      <td>[Air conditioning, Automatic climate control, ...</td>\n",
       "      <td>[Air conditioning, Cruise control, Electrical ...</td>\n",
       "      <td>[Air suspension, Armrest, Auxiliary heating, E...</td>\n",
       "      <td>[Air conditioning, Armrest, Automatic climate ...</td>\n",
       "    </tr>\n",
       "    <tr>\n",
       "      <th>\\nEntertainment &amp; Media\\n</th>\n",
       "      <td>[Bluetooth, Hands-free equipment, On-board com...</td>\n",
       "      <td>[Bluetooth, Hands-free equipment, On-board com...</td>\n",
       "      <td>[MP3, On-board computer]</td>\n",
       "      <td>[Bluetooth, CD player, Hands-free equipment, M...</td>\n",
       "      <td>[Bluetooth, CD player, Hands-free equipment, M...</td>\n",
       "    </tr>\n",
       "    <tr>\n",
       "      <th>\\nExtras\\n</th>\n",
       "      <td>[Alloy wheels, Catalytic Converter, Voice Cont...</td>\n",
       "      <td>[Alloy wheels, Sport seats, Sport suspension, ...</td>\n",
       "      <td>[Alloy wheels, Voice Control]</td>\n",
       "      <td>[Alloy wheels, Sport seats, Voice Control]</td>\n",
       "      <td>[Alloy wheels, Sport package, Sport suspension...</td>\n",
       "    </tr>\n",
       "    <tr>\n",
       "      <th>\\nSafety &amp; Security\\n</th>\n",
       "      <td>[ABS, Central door lock, Daytime running light...</td>\n",
       "      <td>[ABS, Central door lock, Central door lock wit...</td>\n",
       "      <td>[ABS, Central door lock, Daytime running light...</td>\n",
       "      <td>[ABS, Alarm system, Central door lock with rem...</td>\n",
       "      <td>[ABS, Central door lock, Driver-side airbag, E...</td>\n",
       "    </tr>\n",
       "    <tr>\n",
       "      <th>description</th>\n",
       "      <td>[\\n, Sicherheit:,  , Deaktivierung für Beifahr...</td>\n",
       "      <td>[\\nLangstreckenfahrzeug daher die hohe Kilomet...</td>\n",
       "      <td>[\\n, Fahrzeug-Nummer: AM-95365,  , Ehem. UPE 2...</td>\n",
       "      <td>[\\nAudi A1: , - 1e eigenaar , - Perfecte staat...</td>\n",
       "      <td>[\\n, Technik &amp; Sicherheit:, Xenon plus, Klimaa...</td>\n",
       "    </tr>\n",
       "    <tr>\n",
       "      <th>Emission Label</th>\n",
       "      <td>NaN</td>\n",
       "      <td>[\\n4 (Green)\\n]</td>\n",
       "      <td>[\\n4 (Green)\\n]</td>\n",
       "      <td>NaN</td>\n",
       "      <td>NaN</td>\n",
       "    </tr>\n",
       "    <tr>\n",
       "      <th>Gears</th>\n",
       "      <td>NaN</td>\n",
       "      <td>[\\n7\\n]</td>\n",
       "      <td>NaN</td>\n",
       "      <td>[\\n6\\n]</td>\n",
       "      <td>NaN</td>\n",
       "    </tr>\n",
       "    <tr>\n",
       "      <th>Country version</th>\n",
       "      <td>NaN</td>\n",
       "      <td>NaN</td>\n",
       "      <td>NaN</td>\n",
       "      <td>NaN</td>\n",
       "      <td>[\\nGermany\\n]</td>\n",
       "    </tr>\n",
       "    <tr>\n",
       "      <th>Electricity consumption</th>\n",
       "      <td>NaN</td>\n",
       "      <td>NaN</td>\n",
       "      <td>NaN</td>\n",
       "      <td>NaN</td>\n",
       "      <td>NaN</td>\n",
       "    </tr>\n",
       "    <tr>\n",
       "      <th>Last Service Date</th>\n",
       "      <td>NaN</td>\n",
       "      <td>NaN</td>\n",
       "      <td>NaN</td>\n",
       "      <td>NaN</td>\n",
       "      <td>NaN</td>\n",
       "    </tr>\n",
       "    <tr>\n",
       "      <th>Other Fuel Types</th>\n",
       "      <td>NaN</td>\n",
       "      <td>NaN</td>\n",
       "      <td>NaN</td>\n",
       "      <td>NaN</td>\n",
       "      <td>NaN</td>\n",
       "    </tr>\n",
       "    <tr>\n",
       "      <th>Availability</th>\n",
       "      <td>NaN</td>\n",
       "      <td>NaN</td>\n",
       "      <td>NaN</td>\n",
       "      <td>NaN</td>\n",
       "      <td>NaN</td>\n",
       "    </tr>\n",
       "    <tr>\n",
       "      <th>Last Timing Belt Service Date</th>\n",
       "      <td>NaN</td>\n",
       "      <td>NaN</td>\n",
       "      <td>NaN</td>\n",
       "      <td>NaN</td>\n",
       "      <td>NaN</td>\n",
       "    </tr>\n",
       "    <tr>\n",
       "      <th>Available from</th>\n",
       "      <td>NaN</td>\n",
       "      <td>NaN</td>\n",
       "      <td>NaN</td>\n",
       "      <td>NaN</td>\n",
       "      <td>NaN</td>\n",
       "    </tr>\n",
       "  </tbody>\n",
       "</table>\n",
       "</div>"
      ],
      "text/plain": [
       "                                                                               0  \\\n",
       "url                            https://www.autoscout24.com//offers/audi-a1-sp...   \n",
       "make_model                                                               Audi A1   \n",
       "short_description                    Sportback 1.4 TDI S-tronic Xenon Navi Klima   \n",
       "body_type                                                                 Sedans   \n",
       "price                                                                      15770   \n",
       "vat                                                               VAT deductible   \n",
       "km                                                                     56,013 km   \n",
       "registration                                                             01/2016   \n",
       "prev_owner                                                     2 previous owners   \n",
       "kW                                                                           NaN   \n",
       "hp                                                                         66 kW   \n",
       "Type                                     [, Used, , Diesel (Particulate Filter)]   \n",
       "Previous Owners                                                            \\n2\\n   \n",
       "Next Inspection                            [\\n06/2021\\n, \\n99 g CO2/km (comb)\\n]   \n",
       "Inspection new                                             [\\nYes\\n, \\nEuro 6\\n]   \n",
       "Warranty                                                 [\\n, \\n, \\n4 (Green)\\n]   \n",
       "Full Service                                                            [\\n, \\n]   \n",
       "Non-smoking Vehicle                                                     [\\n, \\n]   \n",
       "null                                                                          []   \n",
       "Make                                                                    \\nAudi\\n   \n",
       "Model                                                               [\\n, A1, \\n]   \n",
       "Offer Number                                                     [\\nLR-062483\\n]   \n",
       "First Registration                                                [\\n, 2016, \\n]   \n",
       "Body Color                                                       [\\n, Black, \\n]   \n",
       "Paint Type                                                        [\\nMetallic\\n]   \n",
       "Body Color Original                                          [\\nMythosschwarz\\n]   \n",
       "Upholstery                                                    [\\nCloth, Black\\n]   \n",
       "Body                                                            [\\n, Sedans, \\n]   \n",
       "Nr. of Doors                                                             [\\n5\\n]   \n",
       "Nr. of Seats                                                             [\\n5\\n]   \n",
       "Model Code                                                        [\\n0588/BDF\\n]   \n",
       "Gearing Type                                                 [\\n, Automatic, \\n]   \n",
       "Displacement                                                      [\\n1,422 cc\\n]   \n",
       "Cylinders                                                                [\\n3\\n]   \n",
       "Weight                                                            [\\n1,220 kg\\n]   \n",
       "Drive chain                                                          [\\nfront\\n]   \n",
       "Fuel                                       [\\n, Diesel (Particulate Filter), \\n]   \n",
       "Consumption                    [[3.8 l/100 km (comb)], [4.3 l/100 km (city)],...   \n",
       "CO2 Emission                                            [\\n99 g CO2/km (comb)\\n]   \n",
       "Emission Class                                                      [\\nEuro 6\\n]   \n",
       "\\nComfort & Convenience\\n      [Air conditioning, Armrest, Automatic climate ...   \n",
       "\\nEntertainment & Media\\n      [Bluetooth, Hands-free equipment, On-board com...   \n",
       "\\nExtras\\n                     [Alloy wheels, Catalytic Converter, Voice Cont...   \n",
       "\\nSafety & Security\\n          [ABS, Central door lock, Daytime running light...   \n",
       "description                    [\\n, Sicherheit:,  , Deaktivierung für Beifahr...   \n",
       "Emission Label                                                               NaN   \n",
       "Gears                                                                        NaN   \n",
       "Country version                                                              NaN   \n",
       "Electricity consumption                                                      NaN   \n",
       "Last Service Date                                                            NaN   \n",
       "Other Fuel Types                                                             NaN   \n",
       "Availability                                                                 NaN   \n",
       "Last Timing Belt Service Date                                                NaN   \n",
       "Available from                                                               NaN   \n",
       "\n",
       "                                                                               1  \\\n",
       "url                            https://www.autoscout24.com//offers/audi-a1-1-...   \n",
       "make_model                                                               Audi A1   \n",
       "short_description                                                 1.8 TFSI sport   \n",
       "body_type                                                                 Sedans   \n",
       "price                                                                      14500   \n",
       "vat                                                             Price negotiable   \n",
       "km                                                                     80,000 km   \n",
       "registration                                                             03/2017   \n",
       "prev_owner                                                                  None   \n",
       "kW                                                                           NaN   \n",
       "hp                                                                        141 kW   \n",
       "Type                                                        [, Used, , Gasoline]   \n",
       "Previous Owners                                                              NaN   \n",
       "Next Inspection                                                              NaN   \n",
       "Inspection new                                                               NaN   \n",
       "Warranty                                                                     NaN   \n",
       "Full Service                                                                 NaN   \n",
       "Non-smoking Vehicle                                                          NaN   \n",
       "null                                                                          []   \n",
       "Make                                                                    \\nAudi\\n   \n",
       "Model                                                               [\\n, A1, \\n]   \n",
       "Offer Number                                                                 NaN   \n",
       "First Registration                                                [\\n, 2017, \\n]   \n",
       "Body Color                                                         [\\n, Red, \\n]   \n",
       "Paint Type                                                                   NaN   \n",
       "Body Color Original                                                          NaN   \n",
       "Upholstery                                                     [\\nCloth, Grey\\n]   \n",
       "Body                                                            [\\n, Sedans, \\n]   \n",
       "Nr. of Doors                                                             [\\n3\\n]   \n",
       "Nr. of Seats                                                             [\\n4\\n]   \n",
       "Model Code                                                        [\\n0588/BCY\\n]   \n",
       "Gearing Type                                                 [\\n, Automatic, \\n]   \n",
       "Displacement                                                      [\\n1,798 cc\\n]   \n",
       "Cylinders                                                                [\\n4\\n]   \n",
       "Weight                                                            [\\n1,255 kg\\n]   \n",
       "Drive chain                                                          [\\nfront\\n]   \n",
       "Fuel                                                          [\\n, Gasoline, \\n]   \n",
       "Consumption                    [[5.6 l/100 km (comb)], [7.1 l/100 km (city)],...   \n",
       "CO2 Emission                                           [\\n129 g CO2/km (comb)\\n]   \n",
       "Emission Class                                                      [\\nEuro 6\\n]   \n",
       "\\nComfort & Convenience\\n      [Air conditioning, Automatic climate control, ...   \n",
       "\\nEntertainment & Media\\n      [Bluetooth, Hands-free equipment, On-board com...   \n",
       "\\nExtras\\n                     [Alloy wheels, Sport seats, Sport suspension, ...   \n",
       "\\nSafety & Security\\n          [ABS, Central door lock, Central door lock wit...   \n",
       "description                    [\\nLangstreckenfahrzeug daher die hohe Kilomet...   \n",
       "Emission Label                                                   [\\n4 (Green)\\n]   \n",
       "Gears                                                                    [\\n7\\n]   \n",
       "Country version                                                              NaN   \n",
       "Electricity consumption                                                      NaN   \n",
       "Last Service Date                                                            NaN   \n",
       "Other Fuel Types                                                             NaN   \n",
       "Availability                                                                 NaN   \n",
       "Last Timing Belt Service Date                                                NaN   \n",
       "Available from                                                               NaN   \n",
       "\n",
       "                                                                               2  \\\n",
       "url                            https://www.autoscout24.com//offers/audi-a1-sp...   \n",
       "make_model                                                               Audi A1   \n",
       "short_description              Sportback 1.6 TDI S tronic Einparkhilfe plus+m...   \n",
       "body_type                                                                 Sedans   \n",
       "price                                                                      14640   \n",
       "vat                                                               VAT deductible   \n",
       "km                                                                     83,450 km   \n",
       "registration                                                             02/2016   \n",
       "prev_owner                                                      1 previous owner   \n",
       "kW                                                                           NaN   \n",
       "hp                                                                         85 kW   \n",
       "Type                                     [, Used, , Diesel (Particulate Filter)]   \n",
       "Previous Owners                                                            \\n1\\n   \n",
       "Next Inspection                                                              NaN   \n",
       "Inspection new                                                               NaN   \n",
       "Warranty                                        [\\n, \\n, \\n99 g CO2/km (comb)\\n]   \n",
       "Full Service                                                                 NaN   \n",
       "Non-smoking Vehicle                                                          NaN   \n",
       "null                                                                          []   \n",
       "Make                                                                    \\nAudi\\n   \n",
       "Model                                                               [\\n, A1, \\n]   \n",
       "Offer Number                                                      [\\nAM-95365\\n]   \n",
       "First Registration                                                [\\n, 2016, \\n]   \n",
       "Body Color                                                       [\\n, Black, \\n]   \n",
       "Paint Type                                                        [\\nMetallic\\n]   \n",
       "Body Color Original                                 [\\nmythosschwarz metallic\\n]   \n",
       "Upholstery                                                    [\\nCloth, Black\\n]   \n",
       "Body                                                            [\\n, Sedans, \\n]   \n",
       "Nr. of Doors                                                             [\\n4\\n]   \n",
       "Nr. of Seats                                                             [\\n4\\n]   \n",
       "Model Code                                                                   NaN   \n",
       "Gearing Type                                                 [\\n, Automatic, \\n]   \n",
       "Displacement                                                      [\\n1,598 cc\\n]   \n",
       "Cylinders                                                                    NaN   \n",
       "Weight                                                                       NaN   \n",
       "Drive chain                                                          [\\nfront\\n]   \n",
       "Fuel                                       [\\n, Diesel (Particulate Filter), \\n]   \n",
       "Consumption                    [[3.8 l/100 km (comb)], [4.4 l/100 km (city)],...   \n",
       "CO2 Emission                                            [\\n99 g CO2/km (comb)\\n]   \n",
       "Emission Class                                                      [\\nEuro 6\\n]   \n",
       "\\nComfort & Convenience\\n      [Air conditioning, Cruise control, Electrical ...   \n",
       "\\nEntertainment & Media\\n                               [MP3, On-board computer]   \n",
       "\\nExtras\\n                                         [Alloy wheels, Voice Control]   \n",
       "\\nSafety & Security\\n          [ABS, Central door lock, Daytime running light...   \n",
       "description                    [\\n, Fahrzeug-Nummer: AM-95365,  , Ehem. UPE 2...   \n",
       "Emission Label                                                   [\\n4 (Green)\\n]   \n",
       "Gears                                                                        NaN   \n",
       "Country version                                                              NaN   \n",
       "Electricity consumption                                                      NaN   \n",
       "Last Service Date                                                            NaN   \n",
       "Other Fuel Types                                                             NaN   \n",
       "Availability                                                                 NaN   \n",
       "Last Timing Belt Service Date                                                NaN   \n",
       "Available from                                                               NaN   \n",
       "\n",
       "                                                                               3  \\\n",
       "url                            https://www.autoscout24.com//offers/audi-a1-1-...   \n",
       "make_model                                                               Audi A1   \n",
       "short_description                                        1.4 TDi Design S tronic   \n",
       "body_type                                                                 Sedans   \n",
       "price                                                                      14500   \n",
       "vat                                                                         None   \n",
       "km                                                                     73,000 km   \n",
       "registration                                                             08/2016   \n",
       "prev_owner                                                      1 previous owner   \n",
       "kW                                                                           NaN   \n",
       "hp                                                                         66 kW   \n",
       "Type                                     [, Used, , Diesel (Particulate Filter)]   \n",
       "Previous Owners                                                            \\n1\\n   \n",
       "Next Inspection                                                              NaN   \n",
       "Inspection new                                                               NaN   \n",
       "Warranty                                                                     NaN   \n",
       "Full Service                                    [\\n, \\n, \\n99 g CO2/km (comb)\\n]   \n",
       "Non-smoking Vehicle                                         [\\n, \\n, \\nEuro 6\\n]   \n",
       "null                                                                          []   \n",
       "Make                                                                    \\nAudi\\n   \n",
       "Model                                                               [\\n, A1, \\n]   \n",
       "Offer Number                                                                 NaN   \n",
       "First Registration                                                [\\n, 2016, \\n]   \n",
       "Body Color                                                       [\\n, Brown, \\n]   \n",
       "Paint Type                                                        [\\nMetallic\\n]   \n",
       "Body Color Original                                                          NaN   \n",
       "Upholstery                                                                   NaN   \n",
       "Body                                                            [\\n, Sedans, \\n]   \n",
       "Nr. of Doors                                                             [\\n3\\n]   \n",
       "Nr. of Seats                                                             [\\n4\\n]   \n",
       "Model Code                                                                   NaN   \n",
       "Gearing Type                                                 [\\n, Automatic, \\n]   \n",
       "Displacement                                                      [\\n1,422 cc\\n]   \n",
       "Cylinders                                                                [\\n3\\n]   \n",
       "Weight                                                            [\\n1,195 kg\\n]   \n",
       "Drive chain                                                                  NaN   \n",
       "Fuel                                       [\\n, Diesel (Particulate Filter), \\n]   \n",
       "Consumption                    [[3.8 l/100 km (comb)], [4.3 l/100 km (city)],...   \n",
       "CO2 Emission                                            [\\n99 g CO2/km (comb)\\n]   \n",
       "Emission Class                                                      [\\nEuro 6\\n]   \n",
       "\\nComfort & Convenience\\n      [Air suspension, Armrest, Auxiliary heating, E...   \n",
       "\\nEntertainment & Media\\n      [Bluetooth, CD player, Hands-free equipment, M...   \n",
       "\\nExtras\\n                            [Alloy wheels, Sport seats, Voice Control]   \n",
       "\\nSafety & Security\\n          [ABS, Alarm system, Central door lock with rem...   \n",
       "description                    [\\nAudi A1: , - 1e eigenaar , - Perfecte staat...   \n",
       "Emission Label                                                               NaN   \n",
       "Gears                                                                    [\\n6\\n]   \n",
       "Country version                                                              NaN   \n",
       "Electricity consumption                                                      NaN   \n",
       "Last Service Date                                                            NaN   \n",
       "Other Fuel Types                                                             NaN   \n",
       "Availability                                                                 NaN   \n",
       "Last Timing Belt Service Date                                                NaN   \n",
       "Available from                                                               NaN   \n",
       "\n",
       "                                                                               4  \n",
       "url                            https://www.autoscout24.com//offers/audi-a1-sp...  \n",
       "make_model                                                               Audi A1  \n",
       "short_description              Sportback 1.4 TDI S-Tronic S-Line Ext. admired...  \n",
       "body_type                                                                 Sedans  \n",
       "price                                                                      16790  \n",
       "vat                                                                         None  \n",
       "km                                                                     16,200 km  \n",
       "registration                                                             05/2016  \n",
       "prev_owner                                                      1 previous owner  \n",
       "kW                                                                           NaN  \n",
       "hp                                                                         66 kW  \n",
       "Type                                     [, Used, , Diesel (Particulate Filter)]  \n",
       "Previous Owners                                                            \\n1\\n  \n",
       "Next Inspection                                                              NaN  \n",
       "Inspection new                                [\\nYes\\n, \\n109 g CO2/km (comb)\\n]  \n",
       "Warranty                                                    [\\n, \\n, \\nEuro 6\\n]  \n",
       "Full Service                                             [\\n, \\n, \\n4 (Green)\\n]  \n",
       "Non-smoking Vehicle                                                     [\\n, \\n]  \n",
       "null                                                                          []  \n",
       "Make                                                                    \\nAudi\\n  \n",
       "Model                                                               [\\n, A1, \\n]  \n",
       "Offer Number                                                         [\\nC1626\\n]  \n",
       "First Registration                                                [\\n, 2016, \\n]  \n",
       "Body Color                                                       [\\n, Black, \\n]  \n",
       "Paint Type                                                        [\\nMetallic\\n]  \n",
       "Body Color Original                                 [\\nMythosschwarz Metallic\\n]  \n",
       "Upholstery                                                    [\\nCloth, Black\\n]  \n",
       "Body                                                            [\\n, Sedans, \\n]  \n",
       "Nr. of Doors                                                             [\\n5\\n]  \n",
       "Nr. of Seats                                                             [\\n5\\n]  \n",
       "Model Code                                                        [\\n0588/BDF\\n]  \n",
       "Gearing Type                                                 [\\n, Automatic, \\n]  \n",
       "Displacement                                                      [\\n1,422 cc\\n]  \n",
       "Cylinders                                                                [\\n3\\n]  \n",
       "Weight                                                                       NaN  \n",
       "Drive chain                                                          [\\nfront\\n]  \n",
       "Fuel                                       [\\n, Diesel (Particulate Filter), \\n]  \n",
       "Consumption                    [[4.1 l/100 km (comb)], [4.6 l/100 km (city)],...  \n",
       "CO2 Emission                                           [\\n109 g CO2/km (comb)\\n]  \n",
       "Emission Class                                                      [\\nEuro 6\\n]  \n",
       "\\nComfort & Convenience\\n      [Air conditioning, Armrest, Automatic climate ...  \n",
       "\\nEntertainment & Media\\n      [Bluetooth, CD player, Hands-free equipment, M...  \n",
       "\\nExtras\\n                     [Alloy wheels, Sport package, Sport suspension...  \n",
       "\\nSafety & Security\\n          [ABS, Central door lock, Driver-side airbag, E...  \n",
       "description                    [\\n, Technik & Sicherheit:, Xenon plus, Klimaa...  \n",
       "Emission Label                                                               NaN  \n",
       "Gears                                                                        NaN  \n",
       "Country version                                                    [\\nGermany\\n]  \n",
       "Electricity consumption                                                      NaN  \n",
       "Last Service Date                                                            NaN  \n",
       "Other Fuel Types                                                             NaN  \n",
       "Availability                                                                 NaN  \n",
       "Last Timing Belt Service Date                                                NaN  \n",
       "Available from                                                               NaN  "
      ]
     },
     "execution_count": 2338,
     "metadata": {},
     "output_type": "execute_result"
    }
   ],
   "source": [
    "df0 = pd.read_json(\"scout_car.json\",lines=True)\n",
    "df = df0.copy()\n",
    "df.head().T"
   ]
  },
  {
   "cell_type": "code",
   "execution_count": 2339,
   "metadata": {},
   "outputs": [
    {
     "data": {
      "text/html": [
       "<div>\n",
       "<style scoped>\n",
       "    .dataframe tbody tr th:only-of-type {\n",
       "        vertical-align: middle;\n",
       "    }\n",
       "\n",
       "    .dataframe tbody tr th {\n",
       "        vertical-align: top;\n",
       "    }\n",
       "\n",
       "    .dataframe thead th {\n",
       "        text-align: right;\n",
       "    }\n",
       "</style>\n",
       "<table border=\"1\" class=\"dataframe\">\n",
       "  <thead>\n",
       "    <tr style=\"text-align: right;\">\n",
       "      <th></th>\n",
       "      <th>url</th>\n",
       "      <th>make_model</th>\n",
       "      <th>short_description</th>\n",
       "      <th>body_type</th>\n",
       "      <th>price</th>\n",
       "      <th>vat</th>\n",
       "      <th>km</th>\n",
       "      <th>registration</th>\n",
       "      <th>prev_owner</th>\n",
       "      <th>kW</th>\n",
       "      <th>hp</th>\n",
       "      <th>Type</th>\n",
       "      <th>Previous Owners</th>\n",
       "      <th>Next Inspection</th>\n",
       "      <th>Inspection new</th>\n",
       "      <th>Warranty</th>\n",
       "      <th>Full Service</th>\n",
       "      <th>Non-smoking Vehicle</th>\n",
       "      <th>null</th>\n",
       "      <th>Make</th>\n",
       "      <th>Model</th>\n",
       "      <th>Offer Number</th>\n",
       "      <th>First Registration</th>\n",
       "      <th>Body Color</th>\n",
       "      <th>Paint Type</th>\n",
       "      <th>Body Color Original</th>\n",
       "      <th>Upholstery</th>\n",
       "      <th>Body</th>\n",
       "      <th>Nr. of Doors</th>\n",
       "      <th>Nr. of Seats</th>\n",
       "      <th>Model Code</th>\n",
       "      <th>Gearing Type</th>\n",
       "      <th>Displacement</th>\n",
       "      <th>Cylinders</th>\n",
       "      <th>Weight</th>\n",
       "      <th>Drive chain</th>\n",
       "      <th>Fuel</th>\n",
       "      <th>Consumption</th>\n",
       "      <th>CO2 Emission</th>\n",
       "      <th>Emission Class</th>\n",
       "      <th>\\nComfort &amp; Convenience\\n</th>\n",
       "      <th>\\nEntertainment &amp; Media\\n</th>\n",
       "      <th>\\nExtras\\n</th>\n",
       "      <th>\\nSafety &amp; Security\\n</th>\n",
       "      <th>description</th>\n",
       "      <th>Emission Label</th>\n",
       "      <th>Gears</th>\n",
       "      <th>Country version</th>\n",
       "      <th>Electricity consumption</th>\n",
       "      <th>Last Service Date</th>\n",
       "      <th>Other Fuel Types</th>\n",
       "      <th>Availability</th>\n",
       "      <th>Last Timing Belt Service Date</th>\n",
       "      <th>Available from</th>\n",
       "    </tr>\n",
       "  </thead>\n",
       "  <tbody>\n",
       "    <tr>\n",
       "      <th>0</th>\n",
       "      <td>https://www.autoscout24.com//offers/audi-a1-sp...</td>\n",
       "      <td>Audi A1</td>\n",
       "      <td>Sportback 1.4 TDI S-tronic Xenon Navi Klima</td>\n",
       "      <td>Sedans</td>\n",
       "      <td>15770</td>\n",
       "      <td>VAT deductible</td>\n",
       "      <td>56,013 km</td>\n",
       "      <td>01/2016</td>\n",
       "      <td>2 previous owners</td>\n",
       "      <td>NaN</td>\n",
       "      <td>66 kW</td>\n",
       "      <td>[, Used, , Diesel (Particulate Filter)]</td>\n",
       "      <td>\\n2\\n</td>\n",
       "      <td>[\\n06/2021\\n, \\n99 g CO2/km (comb)\\n]</td>\n",
       "      <td>[\\nYes\\n, \\nEuro 6\\n]</td>\n",
       "      <td>[\\n, \\n, \\n4 (Green)\\n]</td>\n",
       "      <td>[\\n, \\n]</td>\n",
       "      <td>[\\n, \\n]</td>\n",
       "      <td>[]</td>\n",
       "      <td>\\nAudi\\n</td>\n",
       "      <td>[\\n, A1, \\n]</td>\n",
       "      <td>[\\nLR-062483\\n]</td>\n",
       "      <td>[\\n, 2016, \\n]</td>\n",
       "      <td>[\\n, Black, \\n]</td>\n",
       "      <td>[\\nMetallic\\n]</td>\n",
       "      <td>[\\nMythosschwarz\\n]</td>\n",
       "      <td>[\\nCloth, Black\\n]</td>\n",
       "      <td>[\\n, Sedans, \\n]</td>\n",
       "      <td>[\\n5\\n]</td>\n",
       "      <td>[\\n5\\n]</td>\n",
       "      <td>[\\n0588/BDF\\n]</td>\n",
       "      <td>[\\n, Automatic, \\n]</td>\n",
       "      <td>[\\n1,422 cc\\n]</td>\n",
       "      <td>[\\n3\\n]</td>\n",
       "      <td>[\\n1,220 kg\\n]</td>\n",
       "      <td>[\\nfront\\n]</td>\n",
       "      <td>[\\n, Diesel (Particulate Filter), \\n]</td>\n",
       "      <td>[[3.8 l/100 km (comb)], [4.3 l/100 km (city)],...</td>\n",
       "      <td>[\\n99 g CO2/km (comb)\\n]</td>\n",
       "      <td>[\\nEuro 6\\n]</td>\n",
       "      <td>[Air conditioning, Armrest, Automatic climate ...</td>\n",
       "      <td>[Bluetooth, Hands-free equipment, On-board com...</td>\n",
       "      <td>[Alloy wheels, Catalytic Converter, Voice Cont...</td>\n",
       "      <td>[ABS, Central door lock, Daytime running light...</td>\n",
       "      <td>[\\n, Sicherheit:,  , Deaktivierung für Beifahr...</td>\n",
       "      <td>NaN</td>\n",
       "      <td>NaN</td>\n",
       "      <td>NaN</td>\n",
       "      <td>NaN</td>\n",
       "      <td>NaN</td>\n",
       "      <td>NaN</td>\n",
       "      <td>NaN</td>\n",
       "      <td>NaN</td>\n",
       "      <td>NaN</td>\n",
       "    </tr>\n",
       "    <tr>\n",
       "      <th>1</th>\n",
       "      <td>https://www.autoscout24.com//offers/audi-a1-1-...</td>\n",
       "      <td>Audi A1</td>\n",
       "      <td>1.8 TFSI sport</td>\n",
       "      <td>Sedans</td>\n",
       "      <td>14500</td>\n",
       "      <td>Price negotiable</td>\n",
       "      <td>80,000 km</td>\n",
       "      <td>03/2017</td>\n",
       "      <td>None</td>\n",
       "      <td>NaN</td>\n",
       "      <td>141 kW</td>\n",
       "      <td>[, Used, , Gasoline]</td>\n",
       "      <td>NaN</td>\n",
       "      <td>NaN</td>\n",
       "      <td>NaN</td>\n",
       "      <td>NaN</td>\n",
       "      <td>NaN</td>\n",
       "      <td>NaN</td>\n",
       "      <td>[]</td>\n",
       "      <td>\\nAudi\\n</td>\n",
       "      <td>[\\n, A1, \\n]</td>\n",
       "      <td>NaN</td>\n",
       "      <td>[\\n, 2017, \\n]</td>\n",
       "      <td>[\\n, Red, \\n]</td>\n",
       "      <td>NaN</td>\n",
       "      <td>NaN</td>\n",
       "      <td>[\\nCloth, Grey\\n]</td>\n",
       "      <td>[\\n, Sedans, \\n]</td>\n",
       "      <td>[\\n3\\n]</td>\n",
       "      <td>[\\n4\\n]</td>\n",
       "      <td>[\\n0588/BCY\\n]</td>\n",
       "      <td>[\\n, Automatic, \\n]</td>\n",
       "      <td>[\\n1,798 cc\\n]</td>\n",
       "      <td>[\\n4\\n]</td>\n",
       "      <td>[\\n1,255 kg\\n]</td>\n",
       "      <td>[\\nfront\\n]</td>\n",
       "      <td>[\\n, Gasoline, \\n]</td>\n",
       "      <td>[[5.6 l/100 km (comb)], [7.1 l/100 km (city)],...</td>\n",
       "      <td>[\\n129 g CO2/km (comb)\\n]</td>\n",
       "      <td>[\\nEuro 6\\n]</td>\n",
       "      <td>[Air conditioning, Automatic climate control, ...</td>\n",
       "      <td>[Bluetooth, Hands-free equipment, On-board com...</td>\n",
       "      <td>[Alloy wheels, Sport seats, Sport suspension, ...</td>\n",
       "      <td>[ABS, Central door lock, Central door lock wit...</td>\n",
       "      <td>[\\nLangstreckenfahrzeug daher die hohe Kilomet...</td>\n",
       "      <td>[\\n4 (Green)\\n]</td>\n",
       "      <td>[\\n7\\n]</td>\n",
       "      <td>NaN</td>\n",
       "      <td>NaN</td>\n",
       "      <td>NaN</td>\n",
       "      <td>NaN</td>\n",
       "      <td>NaN</td>\n",
       "      <td>NaN</td>\n",
       "      <td>NaN</td>\n",
       "    </tr>\n",
       "    <tr>\n",
       "      <th>2</th>\n",
       "      <td>https://www.autoscout24.com//offers/audi-a1-sp...</td>\n",
       "      <td>Audi A1</td>\n",
       "      <td>Sportback 1.6 TDI S tronic Einparkhilfe plus+m...</td>\n",
       "      <td>Sedans</td>\n",
       "      <td>14640</td>\n",
       "      <td>VAT deductible</td>\n",
       "      <td>83,450 km</td>\n",
       "      <td>02/2016</td>\n",
       "      <td>1 previous owner</td>\n",
       "      <td>NaN</td>\n",
       "      <td>85 kW</td>\n",
       "      <td>[, Used, , Diesel (Particulate Filter)]</td>\n",
       "      <td>\\n1\\n</td>\n",
       "      <td>NaN</td>\n",
       "      <td>NaN</td>\n",
       "      <td>[\\n, \\n, \\n99 g CO2/km (comb)\\n]</td>\n",
       "      <td>NaN</td>\n",
       "      <td>NaN</td>\n",
       "      <td>[]</td>\n",
       "      <td>\\nAudi\\n</td>\n",
       "      <td>[\\n, A1, \\n]</td>\n",
       "      <td>[\\nAM-95365\\n]</td>\n",
       "      <td>[\\n, 2016, \\n]</td>\n",
       "      <td>[\\n, Black, \\n]</td>\n",
       "      <td>[\\nMetallic\\n]</td>\n",
       "      <td>[\\nmythosschwarz metallic\\n]</td>\n",
       "      <td>[\\nCloth, Black\\n]</td>\n",
       "      <td>[\\n, Sedans, \\n]</td>\n",
       "      <td>[\\n4\\n]</td>\n",
       "      <td>[\\n4\\n]</td>\n",
       "      <td>NaN</td>\n",
       "      <td>[\\n, Automatic, \\n]</td>\n",
       "      <td>[\\n1,598 cc\\n]</td>\n",
       "      <td>NaN</td>\n",
       "      <td>NaN</td>\n",
       "      <td>[\\nfront\\n]</td>\n",
       "      <td>[\\n, Diesel (Particulate Filter), \\n]</td>\n",
       "      <td>[[3.8 l/100 km (comb)], [4.4 l/100 km (city)],...</td>\n",
       "      <td>[\\n99 g CO2/km (comb)\\n]</td>\n",
       "      <td>[\\nEuro 6\\n]</td>\n",
       "      <td>[Air conditioning, Cruise control, Electrical ...</td>\n",
       "      <td>[MP3, On-board computer]</td>\n",
       "      <td>[Alloy wheels, Voice Control]</td>\n",
       "      <td>[ABS, Central door lock, Daytime running light...</td>\n",
       "      <td>[\\n, Fahrzeug-Nummer: AM-95365,  , Ehem. UPE 2...</td>\n",
       "      <td>[\\n4 (Green)\\n]</td>\n",
       "      <td>NaN</td>\n",
       "      <td>NaN</td>\n",
       "      <td>NaN</td>\n",
       "      <td>NaN</td>\n",
       "      <td>NaN</td>\n",
       "      <td>NaN</td>\n",
       "      <td>NaN</td>\n",
       "      <td>NaN</td>\n",
       "    </tr>\n",
       "    <tr>\n",
       "      <th>3</th>\n",
       "      <td>https://www.autoscout24.com//offers/audi-a1-1-...</td>\n",
       "      <td>Audi A1</td>\n",
       "      <td>1.4 TDi Design S tronic</td>\n",
       "      <td>Sedans</td>\n",
       "      <td>14500</td>\n",
       "      <td>None</td>\n",
       "      <td>73,000 km</td>\n",
       "      <td>08/2016</td>\n",
       "      <td>1 previous owner</td>\n",
       "      <td>NaN</td>\n",
       "      <td>66 kW</td>\n",
       "      <td>[, Used, , Diesel (Particulate Filter)]</td>\n",
       "      <td>\\n1\\n</td>\n",
       "      <td>NaN</td>\n",
       "      <td>NaN</td>\n",
       "      <td>NaN</td>\n",
       "      <td>[\\n, \\n, \\n99 g CO2/km (comb)\\n]</td>\n",
       "      <td>[\\n, \\n, \\nEuro 6\\n]</td>\n",
       "      <td>[]</td>\n",
       "      <td>\\nAudi\\n</td>\n",
       "      <td>[\\n, A1, \\n]</td>\n",
       "      <td>NaN</td>\n",
       "      <td>[\\n, 2016, \\n]</td>\n",
       "      <td>[\\n, Brown, \\n]</td>\n",
       "      <td>[\\nMetallic\\n]</td>\n",
       "      <td>NaN</td>\n",
       "      <td>NaN</td>\n",
       "      <td>[\\n, Sedans, \\n]</td>\n",
       "      <td>[\\n3\\n]</td>\n",
       "      <td>[\\n4\\n]</td>\n",
       "      <td>NaN</td>\n",
       "      <td>[\\n, Automatic, \\n]</td>\n",
       "      <td>[\\n1,422 cc\\n]</td>\n",
       "      <td>[\\n3\\n]</td>\n",
       "      <td>[\\n1,195 kg\\n]</td>\n",
       "      <td>NaN</td>\n",
       "      <td>[\\n, Diesel (Particulate Filter), \\n]</td>\n",
       "      <td>[[3.8 l/100 km (comb)], [4.3 l/100 km (city)],...</td>\n",
       "      <td>[\\n99 g CO2/km (comb)\\n]</td>\n",
       "      <td>[\\nEuro 6\\n]</td>\n",
       "      <td>[Air suspension, Armrest, Auxiliary heating, E...</td>\n",
       "      <td>[Bluetooth, CD player, Hands-free equipment, M...</td>\n",
       "      <td>[Alloy wheels, Sport seats, Voice Control]</td>\n",
       "      <td>[ABS, Alarm system, Central door lock with rem...</td>\n",
       "      <td>[\\nAudi A1: , - 1e eigenaar , - Perfecte staat...</td>\n",
       "      <td>NaN</td>\n",
       "      <td>[\\n6\\n]</td>\n",
       "      <td>NaN</td>\n",
       "      <td>NaN</td>\n",
       "      <td>NaN</td>\n",
       "      <td>NaN</td>\n",
       "      <td>NaN</td>\n",
       "      <td>NaN</td>\n",
       "      <td>NaN</td>\n",
       "    </tr>\n",
       "    <tr>\n",
       "      <th>4</th>\n",
       "      <td>https://www.autoscout24.com//offers/audi-a1-sp...</td>\n",
       "      <td>Audi A1</td>\n",
       "      <td>Sportback 1.4 TDI S-Tronic S-Line Ext. admired...</td>\n",
       "      <td>Sedans</td>\n",
       "      <td>16790</td>\n",
       "      <td>None</td>\n",
       "      <td>16,200 km</td>\n",
       "      <td>05/2016</td>\n",
       "      <td>1 previous owner</td>\n",
       "      <td>NaN</td>\n",
       "      <td>66 kW</td>\n",
       "      <td>[, Used, , Diesel (Particulate Filter)]</td>\n",
       "      <td>\\n1\\n</td>\n",
       "      <td>NaN</td>\n",
       "      <td>[\\nYes\\n, \\n109 g CO2/km (comb)\\n]</td>\n",
       "      <td>[\\n, \\n, \\nEuro 6\\n]</td>\n",
       "      <td>[\\n, \\n, \\n4 (Green)\\n]</td>\n",
       "      <td>[\\n, \\n]</td>\n",
       "      <td>[]</td>\n",
       "      <td>\\nAudi\\n</td>\n",
       "      <td>[\\n, A1, \\n]</td>\n",
       "      <td>[\\nC1626\\n]</td>\n",
       "      <td>[\\n, 2016, \\n]</td>\n",
       "      <td>[\\n, Black, \\n]</td>\n",
       "      <td>[\\nMetallic\\n]</td>\n",
       "      <td>[\\nMythosschwarz Metallic\\n]</td>\n",
       "      <td>[\\nCloth, Black\\n]</td>\n",
       "      <td>[\\n, Sedans, \\n]</td>\n",
       "      <td>[\\n5\\n]</td>\n",
       "      <td>[\\n5\\n]</td>\n",
       "      <td>[\\n0588/BDF\\n]</td>\n",
       "      <td>[\\n, Automatic, \\n]</td>\n",
       "      <td>[\\n1,422 cc\\n]</td>\n",
       "      <td>[\\n3\\n]</td>\n",
       "      <td>NaN</td>\n",
       "      <td>[\\nfront\\n]</td>\n",
       "      <td>[\\n, Diesel (Particulate Filter), \\n]</td>\n",
       "      <td>[[4.1 l/100 km (comb)], [4.6 l/100 km (city)],...</td>\n",
       "      <td>[\\n109 g CO2/km (comb)\\n]</td>\n",
       "      <td>[\\nEuro 6\\n]</td>\n",
       "      <td>[Air conditioning, Armrest, Automatic climate ...</td>\n",
       "      <td>[Bluetooth, CD player, Hands-free equipment, M...</td>\n",
       "      <td>[Alloy wheels, Sport package, Sport suspension...</td>\n",
       "      <td>[ABS, Central door lock, Driver-side airbag, E...</td>\n",
       "      <td>[\\n, Technik &amp; Sicherheit:, Xenon plus, Klimaa...</td>\n",
       "      <td>NaN</td>\n",
       "      <td>NaN</td>\n",
       "      <td>[\\nGermany\\n]</td>\n",
       "      <td>NaN</td>\n",
       "      <td>NaN</td>\n",
       "      <td>NaN</td>\n",
       "      <td>NaN</td>\n",
       "      <td>NaN</td>\n",
       "      <td>NaN</td>\n",
       "    </tr>\n",
       "  </tbody>\n",
       "</table>\n",
       "</div>"
      ],
      "text/plain": [
       "                                                 url make_model  \\\n",
       "0  https://www.autoscout24.com//offers/audi-a1-sp...    Audi A1   \n",
       "1  https://www.autoscout24.com//offers/audi-a1-1-...    Audi A1   \n",
       "2  https://www.autoscout24.com//offers/audi-a1-sp...    Audi A1   \n",
       "3  https://www.autoscout24.com//offers/audi-a1-1-...    Audi A1   \n",
       "4  https://www.autoscout24.com//offers/audi-a1-sp...    Audi A1   \n",
       "\n",
       "                                   short_description body_type  price  \\\n",
       "0        Sportback 1.4 TDI S-tronic Xenon Navi Klima    Sedans  15770   \n",
       "1                                     1.8 TFSI sport    Sedans  14500   \n",
       "2  Sportback 1.6 TDI S tronic Einparkhilfe plus+m...    Sedans  14640   \n",
       "3                            1.4 TDi Design S tronic    Sedans  14500   \n",
       "4  Sportback 1.4 TDI S-Tronic S-Line Ext. admired...    Sedans  16790   \n",
       "\n",
       "                vat         km registration         prev_owner  kW      hp  \\\n",
       "0    VAT deductible  56,013 km      01/2016  2 previous owners NaN   66 kW   \n",
       "1  Price negotiable  80,000 km      03/2017               None NaN  141 kW   \n",
       "2    VAT deductible  83,450 km      02/2016   1 previous owner NaN   85 kW   \n",
       "3              None  73,000 km      08/2016   1 previous owner NaN   66 kW   \n",
       "4              None  16,200 km      05/2016   1 previous owner NaN   66 kW   \n",
       "\n",
       "                                      Type Previous Owners  \\\n",
       "0  [, Used, , Diesel (Particulate Filter)]           \\n2\\n   \n",
       "1                     [, Used, , Gasoline]             NaN   \n",
       "2  [, Used, , Diesel (Particulate Filter)]           \\n1\\n   \n",
       "3  [, Used, , Diesel (Particulate Filter)]           \\n1\\n   \n",
       "4  [, Used, , Diesel (Particulate Filter)]           \\n1\\n   \n",
       "\n",
       "                         Next Inspection                      Inspection new  \\\n",
       "0  [\\n06/2021\\n, \\n99 g CO2/km (comb)\\n]               [\\nYes\\n, \\nEuro 6\\n]   \n",
       "1                                    NaN                                 NaN   \n",
       "2                                    NaN                                 NaN   \n",
       "3                                    NaN                                 NaN   \n",
       "4                                    NaN  [\\nYes\\n, \\n109 g CO2/km (comb)\\n]   \n",
       "\n",
       "                           Warranty                      Full Service  \\\n",
       "0           [\\n, \\n, \\n4 (Green)\\n]                          [\\n, \\n]   \n",
       "1                               NaN                               NaN   \n",
       "2  [\\n, \\n, \\n99 g CO2/km (comb)\\n]                               NaN   \n",
       "3                               NaN  [\\n, \\n, \\n99 g CO2/km (comb)\\n]   \n",
       "4              [\\n, \\n, \\nEuro 6\\n]           [\\n, \\n, \\n4 (Green)\\n]   \n",
       "\n",
       "    Non-smoking Vehicle null      Make         Model     Offer Number  \\\n",
       "0              [\\n, \\n]   []  \\nAudi\\n  [\\n, A1, \\n]  [\\nLR-062483\\n]   \n",
       "1                   NaN   []  \\nAudi\\n  [\\n, A1, \\n]              NaN   \n",
       "2                   NaN   []  \\nAudi\\n  [\\n, A1, \\n]   [\\nAM-95365\\n]   \n",
       "3  [\\n, \\n, \\nEuro 6\\n]   []  \\nAudi\\n  [\\n, A1, \\n]              NaN   \n",
       "4              [\\n, \\n]   []  \\nAudi\\n  [\\n, A1, \\n]      [\\nC1626\\n]   \n",
       "\n",
       "  First Registration       Body Color      Paint Type  \\\n",
       "0     [\\n, 2016, \\n]  [\\n, Black, \\n]  [\\nMetallic\\n]   \n",
       "1     [\\n, 2017, \\n]    [\\n, Red, \\n]             NaN   \n",
       "2     [\\n, 2016, \\n]  [\\n, Black, \\n]  [\\nMetallic\\n]   \n",
       "3     [\\n, 2016, \\n]  [\\n, Brown, \\n]  [\\nMetallic\\n]   \n",
       "4     [\\n, 2016, \\n]  [\\n, Black, \\n]  [\\nMetallic\\n]   \n",
       "\n",
       "            Body Color Original          Upholstery              Body  \\\n",
       "0           [\\nMythosschwarz\\n]  [\\nCloth, Black\\n]  [\\n, Sedans, \\n]   \n",
       "1                           NaN   [\\nCloth, Grey\\n]  [\\n, Sedans, \\n]   \n",
       "2  [\\nmythosschwarz metallic\\n]  [\\nCloth, Black\\n]  [\\n, Sedans, \\n]   \n",
       "3                           NaN                 NaN  [\\n, Sedans, \\n]   \n",
       "4  [\\nMythosschwarz Metallic\\n]  [\\nCloth, Black\\n]  [\\n, Sedans, \\n]   \n",
       "\n",
       "  Nr. of Doors Nr. of Seats      Model Code         Gearing Type  \\\n",
       "0      [\\n5\\n]      [\\n5\\n]  [\\n0588/BDF\\n]  [\\n, Automatic, \\n]   \n",
       "1      [\\n3\\n]      [\\n4\\n]  [\\n0588/BCY\\n]  [\\n, Automatic, \\n]   \n",
       "2      [\\n4\\n]      [\\n4\\n]             NaN  [\\n, Automatic, \\n]   \n",
       "3      [\\n3\\n]      [\\n4\\n]             NaN  [\\n, Automatic, \\n]   \n",
       "4      [\\n5\\n]      [\\n5\\n]  [\\n0588/BDF\\n]  [\\n, Automatic, \\n]   \n",
       "\n",
       "     Displacement Cylinders          Weight  Drive chain  \\\n",
       "0  [\\n1,422 cc\\n]   [\\n3\\n]  [\\n1,220 kg\\n]  [\\nfront\\n]   \n",
       "1  [\\n1,798 cc\\n]   [\\n4\\n]  [\\n1,255 kg\\n]  [\\nfront\\n]   \n",
       "2  [\\n1,598 cc\\n]       NaN             NaN  [\\nfront\\n]   \n",
       "3  [\\n1,422 cc\\n]   [\\n3\\n]  [\\n1,195 kg\\n]          NaN   \n",
       "4  [\\n1,422 cc\\n]   [\\n3\\n]             NaN  [\\nfront\\n]   \n",
       "\n",
       "                                    Fuel  \\\n",
       "0  [\\n, Diesel (Particulate Filter), \\n]   \n",
       "1                     [\\n, Gasoline, \\n]   \n",
       "2  [\\n, Diesel (Particulate Filter), \\n]   \n",
       "3  [\\n, Diesel (Particulate Filter), \\n]   \n",
       "4  [\\n, Diesel (Particulate Filter), \\n]   \n",
       "\n",
       "                                         Consumption  \\\n",
       "0  [[3.8 l/100 km (comb)], [4.3 l/100 km (city)],...   \n",
       "1  [[5.6 l/100 km (comb)], [7.1 l/100 km (city)],...   \n",
       "2  [[3.8 l/100 km (comb)], [4.4 l/100 km (city)],...   \n",
       "3  [[3.8 l/100 km (comb)], [4.3 l/100 km (city)],...   \n",
       "4  [[4.1 l/100 km (comb)], [4.6 l/100 km (city)],...   \n",
       "\n",
       "                CO2 Emission Emission Class  \\\n",
       "0   [\\n99 g CO2/km (comb)\\n]   [\\nEuro 6\\n]   \n",
       "1  [\\n129 g CO2/km (comb)\\n]   [\\nEuro 6\\n]   \n",
       "2   [\\n99 g CO2/km (comb)\\n]   [\\nEuro 6\\n]   \n",
       "3   [\\n99 g CO2/km (comb)\\n]   [\\nEuro 6\\n]   \n",
       "4  [\\n109 g CO2/km (comb)\\n]   [\\nEuro 6\\n]   \n",
       "\n",
       "                           \\nComfort & Convenience\\n  \\\n",
       "0  [Air conditioning, Armrest, Automatic climate ...   \n",
       "1  [Air conditioning, Automatic climate control, ...   \n",
       "2  [Air conditioning, Cruise control, Electrical ...   \n",
       "3  [Air suspension, Armrest, Auxiliary heating, E...   \n",
       "4  [Air conditioning, Armrest, Automatic climate ...   \n",
       "\n",
       "                           \\nEntertainment & Media\\n  \\\n",
       "0  [Bluetooth, Hands-free equipment, On-board com...   \n",
       "1  [Bluetooth, Hands-free equipment, On-board com...   \n",
       "2                           [MP3, On-board computer]   \n",
       "3  [Bluetooth, CD player, Hands-free equipment, M...   \n",
       "4  [Bluetooth, CD player, Hands-free equipment, M...   \n",
       "\n",
       "                                          \\nExtras\\n  \\\n",
       "0  [Alloy wheels, Catalytic Converter, Voice Cont...   \n",
       "1  [Alloy wheels, Sport seats, Sport suspension, ...   \n",
       "2                      [Alloy wheels, Voice Control]   \n",
       "3         [Alloy wheels, Sport seats, Voice Control]   \n",
       "4  [Alloy wheels, Sport package, Sport suspension...   \n",
       "\n",
       "                               \\nSafety & Security\\n  \\\n",
       "0  [ABS, Central door lock, Daytime running light...   \n",
       "1  [ABS, Central door lock, Central door lock wit...   \n",
       "2  [ABS, Central door lock, Daytime running light...   \n",
       "3  [ABS, Alarm system, Central door lock with rem...   \n",
       "4  [ABS, Central door lock, Driver-side airbag, E...   \n",
       "\n",
       "                                         description   Emission Label  \\\n",
       "0  [\\n, Sicherheit:,  , Deaktivierung für Beifahr...              NaN   \n",
       "1  [\\nLangstreckenfahrzeug daher die hohe Kilomet...  [\\n4 (Green)\\n]   \n",
       "2  [\\n, Fahrzeug-Nummer: AM-95365,  , Ehem. UPE 2...  [\\n4 (Green)\\n]   \n",
       "3  [\\nAudi A1: , - 1e eigenaar , - Perfecte staat...              NaN   \n",
       "4  [\\n, Technik & Sicherheit:, Xenon plus, Klimaa...              NaN   \n",
       "\n",
       "     Gears Country version Electricity consumption Last Service Date  \\\n",
       "0      NaN             NaN                     NaN               NaN   \n",
       "1  [\\n7\\n]             NaN                     NaN               NaN   \n",
       "2      NaN             NaN                     NaN               NaN   \n",
       "3  [\\n6\\n]             NaN                     NaN               NaN   \n",
       "4      NaN   [\\nGermany\\n]                     NaN               NaN   \n",
       "\n",
       "  Other Fuel Types Availability Last Timing Belt Service Date Available from  \n",
       "0              NaN          NaN                           NaN            NaN  \n",
       "1              NaN          NaN                           NaN            NaN  \n",
       "2              NaN          NaN                           NaN            NaN  \n",
       "3              NaN          NaN                           NaN            NaN  \n",
       "4              NaN          NaN                           NaN            NaN  "
      ]
     },
     "execution_count": 2339,
     "metadata": {},
     "output_type": "execute_result"
    }
   ],
   "source": [
    "df.head()"
   ]
  },
  {
   "cell_type": "code",
   "execution_count": 2340,
   "metadata": {
    "scrolled": true
   },
   "outputs": [
    {
     "data": {
      "text/plain": [
       "(15919, 54)"
      ]
     },
     "execution_count": 2340,
     "metadata": {},
     "output_type": "execute_result"
    }
   ],
   "source": [
    "df.shape"
   ]
  },
  {
   "cell_type": "code",
   "execution_count": 2341,
   "metadata": {},
   "outputs": [
    {
     "name": "stdout",
     "output_type": "stream",
     "text": [
      "<class 'pandas.core.frame.DataFrame'>\n",
      "RangeIndex: 15919 entries, 0 to 15918\n",
      "Data columns (total 54 columns):\n",
      " #   Column                         Non-Null Count  Dtype  \n",
      "---  ------                         --------------  -----  \n",
      " 0   url                            15919 non-null  object \n",
      " 1   make_model                     15919 non-null  object \n",
      " 2   short_description              15873 non-null  object \n",
      " 3   body_type                      15859 non-null  object \n",
      " 4   price                          15919 non-null  int64  \n",
      " 5   vat                            11406 non-null  object \n",
      " 6   km                             15919 non-null  object \n",
      " 7   registration                   15919 non-null  object \n",
      " 8   prev_owner                     9091 non-null   object \n",
      " 9   kW                             0 non-null      float64\n",
      " 10  hp                             15919 non-null  object \n",
      " 11  Type                           15917 non-null  object \n",
      " 12  Previous Owners                9279 non-null   object \n",
      " 13  Next Inspection                3535 non-null   object \n",
      " 14  Inspection new                 3932 non-null   object \n",
      " 15  Warranty                       10499 non-null  object \n",
      " 16  Full Service                   8215 non-null   object \n",
      " 17  Non-smoking Vehicle            7177 non-null   object \n",
      " 18  null                           15919 non-null  object \n",
      " 19  Make                           15919 non-null  object \n",
      " 20  Model                          15919 non-null  object \n",
      " 21  Offer Number                   12744 non-null  object \n",
      " 22  First Registration             14322 non-null  object \n",
      " 23  Body Color                     15322 non-null  object \n",
      " 24  Paint Type                     10147 non-null  object \n",
      " 25  Body Color Original            12160 non-null  object \n",
      " 26  Upholstery                     12199 non-null  object \n",
      " 27  Body                           15859 non-null  object \n",
      " 28  Nr. of Doors                   15707 non-null  object \n",
      " 29  Nr. of Seats                   14942 non-null  object \n",
      " 30  Model Code                     4978 non-null   object \n",
      " 31  Gearing Type                   15919 non-null  object \n",
      " 32  Displacement                   15423 non-null  object \n",
      " 33  Cylinders                      10239 non-null  object \n",
      " 34  Weight                         8945 non-null   object \n",
      " 35  Drive chain                    9061 non-null   object \n",
      " 36  Fuel                           15919 non-null  object \n",
      " 37  Consumption                    14013 non-null  object \n",
      " 38  CO2 Emission                   14111 non-null  object \n",
      " 39  Emission Class                 12898 non-null  object \n",
      " 40  \n",
      "Comfort & Convenience\n",
      "        14999 non-null  object \n",
      " 41  \n",
      "Entertainment & Media\n",
      "        14545 non-null  object \n",
      " 42  \n",
      "Extras\n",
      "                       12957 non-null  object \n",
      " 43  \n",
      "Safety & Security\n",
      "            14937 non-null  object \n",
      " 44  description                    15919 non-null  object \n",
      " 45  Emission Label                 3985 non-null   object \n",
      " 46  Gears                          11207 non-null  object \n",
      " 47  Country version                7586 non-null   object \n",
      " 48  Electricity consumption        137 non-null    object \n",
      " 49  Last Service Date              566 non-null    object \n",
      " 50  Other Fuel Types               880 non-null    object \n",
      " 51  Availability                   635 non-null    object \n",
      " 52  Last Timing Belt Service Date  16 non-null     object \n",
      " 53  Available from                 272 non-null    object \n",
      "dtypes: float64(1), int64(1), object(52)\n",
      "memory usage: 6.6+ MB\n"
     ]
    }
   ],
   "source": [
    "df.info()"
   ]
  },
  {
   "cell_type": "code",
   "execution_count": 2342,
   "metadata": {},
   "outputs": [
    {
     "data": {
      "text/plain": [
       "Index(['url', 'make_model', 'short_description', 'body_type', 'price', 'vat',\n",
       "       'km', 'registration', 'prev_owner', 'kW', 'hp', 'Type',\n",
       "       'Previous Owners', 'Next Inspection', 'Inspection new', 'Warranty',\n",
       "       'Full Service', 'Non-smoking Vehicle', 'null', 'Make', 'Model',\n",
       "       'Offer Number', 'First Registration', 'Body Color', 'Paint Type',\n",
       "       'Body Color Original', 'Upholstery', 'Body', 'Nr. of Doors',\n",
       "       'Nr. of Seats', 'Model Code', 'Gearing Type', 'Displacement',\n",
       "       'Cylinders', 'Weight', 'Drive chain', 'Fuel', 'Consumption',\n",
       "       'CO2 Emission', 'Emission Class', '\\nComfort & Convenience\\n',\n",
       "       '\\nEntertainment & Media\\n', '\\nExtras\\n', '\\nSafety & Security\\n',\n",
       "       'description', 'Emission Label', 'Gears', 'Country version',\n",
       "       'Electricity consumption', 'Last Service Date', 'Other Fuel Types',\n",
       "       'Availability', 'Last Timing Belt Service Date', 'Available from'],\n",
       "      dtype='object')"
      ]
     },
     "execution_count": 2342,
     "metadata": {},
     "output_type": "execute_result"
    }
   ],
   "source": [
    "df.columns"
   ]
  },
  {
   "cell_type": "markdown",
   "metadata": {},
   "source": [
    "## Fixing Headers"
   ]
  },
  {
   "cell_type": "code",
   "execution_count": 2343,
   "metadata": {},
   "outputs": [],
   "source": [
    "#pip install skimpy"
   ]
  },
  {
   "cell_type": "code",
   "execution_count": 2344,
   "metadata": {},
   "outputs": [],
   "source": [
    "from skimpy import clean_columns"
   ]
  },
  {
   "cell_type": "code",
   "execution_count": 2345,
   "metadata": {},
   "outputs": [],
   "source": [
    "df= clean_columns(df)"
   ]
  },
  {
   "cell_type": "code",
   "execution_count": 2346,
   "metadata": {},
   "outputs": [
    {
     "data": {
      "text/html": [
       "<div>\n",
       "<style scoped>\n",
       "    .dataframe tbody tr th:only-of-type {\n",
       "        vertical-align: middle;\n",
       "    }\n",
       "\n",
       "    .dataframe tbody tr th {\n",
       "        vertical-align: top;\n",
       "    }\n",
       "\n",
       "    .dataframe thead th {\n",
       "        text-align: right;\n",
       "    }\n",
       "</style>\n",
       "<table border=\"1\" class=\"dataframe\">\n",
       "  <thead>\n",
       "    <tr style=\"text-align: right;\">\n",
       "      <th></th>\n",
       "      <th>url</th>\n",
       "      <th>make_model</th>\n",
       "      <th>short_description</th>\n",
       "      <th>body_type</th>\n",
       "      <th>price</th>\n",
       "      <th>vat</th>\n",
       "      <th>km</th>\n",
       "      <th>registration</th>\n",
       "      <th>prev_owner</th>\n",
       "      <th>k_w</th>\n",
       "      <th>hp</th>\n",
       "      <th>type</th>\n",
       "      <th>previous_owners</th>\n",
       "      <th>next_inspection</th>\n",
       "      <th>inspection_new</th>\n",
       "      <th>warranty</th>\n",
       "      <th>full_service</th>\n",
       "      <th>non_smoking_vehicle</th>\n",
       "      <th>null</th>\n",
       "      <th>make</th>\n",
       "      <th>model</th>\n",
       "      <th>offer_number</th>\n",
       "      <th>first_registration</th>\n",
       "      <th>body_color</th>\n",
       "      <th>paint_type</th>\n",
       "      <th>body_color_original</th>\n",
       "      <th>upholstery</th>\n",
       "      <th>body</th>\n",
       "      <th>nr_of_doors</th>\n",
       "      <th>nr_of_seats</th>\n",
       "      <th>model_code</th>\n",
       "      <th>gearing_type</th>\n",
       "      <th>displacement</th>\n",
       "      <th>cylinders</th>\n",
       "      <th>weight</th>\n",
       "      <th>drive_chain</th>\n",
       "      <th>fuel</th>\n",
       "      <th>consumption</th>\n",
       "      <th>co_2_emission</th>\n",
       "      <th>emission_class</th>\n",
       "      <th>comfort_&amp;_convenience</th>\n",
       "      <th>entertainment_&amp;_media</th>\n",
       "      <th>extras</th>\n",
       "      <th>safety_&amp;_security</th>\n",
       "      <th>description</th>\n",
       "      <th>emission_label</th>\n",
       "      <th>gears</th>\n",
       "      <th>country_version</th>\n",
       "      <th>electricity_consumption</th>\n",
       "      <th>last_service_date</th>\n",
       "      <th>other_fuel_types</th>\n",
       "      <th>availability</th>\n",
       "      <th>last_timing_belt_service_date</th>\n",
       "      <th>available_from</th>\n",
       "    </tr>\n",
       "  </thead>\n",
       "  <tbody>\n",
       "    <tr>\n",
       "      <th>0</th>\n",
       "      <td>https://www.autoscout24.com//offers/audi-a1-sp...</td>\n",
       "      <td>Audi A1</td>\n",
       "      <td>Sportback 1.4 TDI S-tronic Xenon Navi Klima</td>\n",
       "      <td>Sedans</td>\n",
       "      <td>15770</td>\n",
       "      <td>VAT deductible</td>\n",
       "      <td>56,013 km</td>\n",
       "      <td>01/2016</td>\n",
       "      <td>2 previous owners</td>\n",
       "      <td>NaN</td>\n",
       "      <td>66 kW</td>\n",
       "      <td>[, Used, , Diesel (Particulate Filter)]</td>\n",
       "      <td>\\n2\\n</td>\n",
       "      <td>[\\n06/2021\\n, \\n99 g CO2/km (comb)\\n]</td>\n",
       "      <td>[\\nYes\\n, \\nEuro 6\\n]</td>\n",
       "      <td>[\\n, \\n, \\n4 (Green)\\n]</td>\n",
       "      <td>[\\n, \\n]</td>\n",
       "      <td>[\\n, \\n]</td>\n",
       "      <td>[]</td>\n",
       "      <td>\\nAudi\\n</td>\n",
       "      <td>[\\n, A1, \\n]</td>\n",
       "      <td>[\\nLR-062483\\n]</td>\n",
       "      <td>[\\n, 2016, \\n]</td>\n",
       "      <td>[\\n, Black, \\n]</td>\n",
       "      <td>[\\nMetallic\\n]</td>\n",
       "      <td>[\\nMythosschwarz\\n]</td>\n",
       "      <td>[\\nCloth, Black\\n]</td>\n",
       "      <td>[\\n, Sedans, \\n]</td>\n",
       "      <td>[\\n5\\n]</td>\n",
       "      <td>[\\n5\\n]</td>\n",
       "      <td>[\\n0588/BDF\\n]</td>\n",
       "      <td>[\\n, Automatic, \\n]</td>\n",
       "      <td>[\\n1,422 cc\\n]</td>\n",
       "      <td>[\\n3\\n]</td>\n",
       "      <td>[\\n1,220 kg\\n]</td>\n",
       "      <td>[\\nfront\\n]</td>\n",
       "      <td>[\\n, Diesel (Particulate Filter), \\n]</td>\n",
       "      <td>[[3.8 l/100 km (comb)], [4.3 l/100 km (city)],...</td>\n",
       "      <td>[\\n99 g CO2/km (comb)\\n]</td>\n",
       "      <td>[\\nEuro 6\\n]</td>\n",
       "      <td>[Air conditioning, Armrest, Automatic climate ...</td>\n",
       "      <td>[Bluetooth, Hands-free equipment, On-board com...</td>\n",
       "      <td>[Alloy wheels, Catalytic Converter, Voice Cont...</td>\n",
       "      <td>[ABS, Central door lock, Daytime running light...</td>\n",
       "      <td>[\\n, Sicherheit:,  , Deaktivierung für Beifahr...</td>\n",
       "      <td>NaN</td>\n",
       "      <td>NaN</td>\n",
       "      <td>NaN</td>\n",
       "      <td>NaN</td>\n",
       "      <td>NaN</td>\n",
       "      <td>NaN</td>\n",
       "      <td>NaN</td>\n",
       "      <td>NaN</td>\n",
       "      <td>NaN</td>\n",
       "    </tr>\n",
       "    <tr>\n",
       "      <th>1</th>\n",
       "      <td>https://www.autoscout24.com//offers/audi-a1-1-...</td>\n",
       "      <td>Audi A1</td>\n",
       "      <td>1.8 TFSI sport</td>\n",
       "      <td>Sedans</td>\n",
       "      <td>14500</td>\n",
       "      <td>Price negotiable</td>\n",
       "      <td>80,000 km</td>\n",
       "      <td>03/2017</td>\n",
       "      <td>None</td>\n",
       "      <td>NaN</td>\n",
       "      <td>141 kW</td>\n",
       "      <td>[, Used, , Gasoline]</td>\n",
       "      <td>NaN</td>\n",
       "      <td>NaN</td>\n",
       "      <td>NaN</td>\n",
       "      <td>NaN</td>\n",
       "      <td>NaN</td>\n",
       "      <td>NaN</td>\n",
       "      <td>[]</td>\n",
       "      <td>\\nAudi\\n</td>\n",
       "      <td>[\\n, A1, \\n]</td>\n",
       "      <td>NaN</td>\n",
       "      <td>[\\n, 2017, \\n]</td>\n",
       "      <td>[\\n, Red, \\n]</td>\n",
       "      <td>NaN</td>\n",
       "      <td>NaN</td>\n",
       "      <td>[\\nCloth, Grey\\n]</td>\n",
       "      <td>[\\n, Sedans, \\n]</td>\n",
       "      <td>[\\n3\\n]</td>\n",
       "      <td>[\\n4\\n]</td>\n",
       "      <td>[\\n0588/BCY\\n]</td>\n",
       "      <td>[\\n, Automatic, \\n]</td>\n",
       "      <td>[\\n1,798 cc\\n]</td>\n",
       "      <td>[\\n4\\n]</td>\n",
       "      <td>[\\n1,255 kg\\n]</td>\n",
       "      <td>[\\nfront\\n]</td>\n",
       "      <td>[\\n, Gasoline, \\n]</td>\n",
       "      <td>[[5.6 l/100 km (comb)], [7.1 l/100 km (city)],...</td>\n",
       "      <td>[\\n129 g CO2/km (comb)\\n]</td>\n",
       "      <td>[\\nEuro 6\\n]</td>\n",
       "      <td>[Air conditioning, Automatic climate control, ...</td>\n",
       "      <td>[Bluetooth, Hands-free equipment, On-board com...</td>\n",
       "      <td>[Alloy wheels, Sport seats, Sport suspension, ...</td>\n",
       "      <td>[ABS, Central door lock, Central door lock wit...</td>\n",
       "      <td>[\\nLangstreckenfahrzeug daher die hohe Kilomet...</td>\n",
       "      <td>[\\n4 (Green)\\n]</td>\n",
       "      <td>[\\n7\\n]</td>\n",
       "      <td>NaN</td>\n",
       "      <td>NaN</td>\n",
       "      <td>NaN</td>\n",
       "      <td>NaN</td>\n",
       "      <td>NaN</td>\n",
       "      <td>NaN</td>\n",
       "      <td>NaN</td>\n",
       "    </tr>\n",
       "    <tr>\n",
       "      <th>2</th>\n",
       "      <td>https://www.autoscout24.com//offers/audi-a1-sp...</td>\n",
       "      <td>Audi A1</td>\n",
       "      <td>Sportback 1.6 TDI S tronic Einparkhilfe plus+m...</td>\n",
       "      <td>Sedans</td>\n",
       "      <td>14640</td>\n",
       "      <td>VAT deductible</td>\n",
       "      <td>83,450 km</td>\n",
       "      <td>02/2016</td>\n",
       "      <td>1 previous owner</td>\n",
       "      <td>NaN</td>\n",
       "      <td>85 kW</td>\n",
       "      <td>[, Used, , Diesel (Particulate Filter)]</td>\n",
       "      <td>\\n1\\n</td>\n",
       "      <td>NaN</td>\n",
       "      <td>NaN</td>\n",
       "      <td>[\\n, \\n, \\n99 g CO2/km (comb)\\n]</td>\n",
       "      <td>NaN</td>\n",
       "      <td>NaN</td>\n",
       "      <td>[]</td>\n",
       "      <td>\\nAudi\\n</td>\n",
       "      <td>[\\n, A1, \\n]</td>\n",
       "      <td>[\\nAM-95365\\n]</td>\n",
       "      <td>[\\n, 2016, \\n]</td>\n",
       "      <td>[\\n, Black, \\n]</td>\n",
       "      <td>[\\nMetallic\\n]</td>\n",
       "      <td>[\\nmythosschwarz metallic\\n]</td>\n",
       "      <td>[\\nCloth, Black\\n]</td>\n",
       "      <td>[\\n, Sedans, \\n]</td>\n",
       "      <td>[\\n4\\n]</td>\n",
       "      <td>[\\n4\\n]</td>\n",
       "      <td>NaN</td>\n",
       "      <td>[\\n, Automatic, \\n]</td>\n",
       "      <td>[\\n1,598 cc\\n]</td>\n",
       "      <td>NaN</td>\n",
       "      <td>NaN</td>\n",
       "      <td>[\\nfront\\n]</td>\n",
       "      <td>[\\n, Diesel (Particulate Filter), \\n]</td>\n",
       "      <td>[[3.8 l/100 km (comb)], [4.4 l/100 km (city)],...</td>\n",
       "      <td>[\\n99 g CO2/km (comb)\\n]</td>\n",
       "      <td>[\\nEuro 6\\n]</td>\n",
       "      <td>[Air conditioning, Cruise control, Electrical ...</td>\n",
       "      <td>[MP3, On-board computer]</td>\n",
       "      <td>[Alloy wheels, Voice Control]</td>\n",
       "      <td>[ABS, Central door lock, Daytime running light...</td>\n",
       "      <td>[\\n, Fahrzeug-Nummer: AM-95365,  , Ehem. UPE 2...</td>\n",
       "      <td>[\\n4 (Green)\\n]</td>\n",
       "      <td>NaN</td>\n",
       "      <td>NaN</td>\n",
       "      <td>NaN</td>\n",
       "      <td>NaN</td>\n",
       "      <td>NaN</td>\n",
       "      <td>NaN</td>\n",
       "      <td>NaN</td>\n",
       "      <td>NaN</td>\n",
       "    </tr>\n",
       "    <tr>\n",
       "      <th>3</th>\n",
       "      <td>https://www.autoscout24.com//offers/audi-a1-1-...</td>\n",
       "      <td>Audi A1</td>\n",
       "      <td>1.4 TDi Design S tronic</td>\n",
       "      <td>Sedans</td>\n",
       "      <td>14500</td>\n",
       "      <td>None</td>\n",
       "      <td>73,000 km</td>\n",
       "      <td>08/2016</td>\n",
       "      <td>1 previous owner</td>\n",
       "      <td>NaN</td>\n",
       "      <td>66 kW</td>\n",
       "      <td>[, Used, , Diesel (Particulate Filter)]</td>\n",
       "      <td>\\n1\\n</td>\n",
       "      <td>NaN</td>\n",
       "      <td>NaN</td>\n",
       "      <td>NaN</td>\n",
       "      <td>[\\n, \\n, \\n99 g CO2/km (comb)\\n]</td>\n",
       "      <td>[\\n, \\n, \\nEuro 6\\n]</td>\n",
       "      <td>[]</td>\n",
       "      <td>\\nAudi\\n</td>\n",
       "      <td>[\\n, A1, \\n]</td>\n",
       "      <td>NaN</td>\n",
       "      <td>[\\n, 2016, \\n]</td>\n",
       "      <td>[\\n, Brown, \\n]</td>\n",
       "      <td>[\\nMetallic\\n]</td>\n",
       "      <td>NaN</td>\n",
       "      <td>NaN</td>\n",
       "      <td>[\\n, Sedans, \\n]</td>\n",
       "      <td>[\\n3\\n]</td>\n",
       "      <td>[\\n4\\n]</td>\n",
       "      <td>NaN</td>\n",
       "      <td>[\\n, Automatic, \\n]</td>\n",
       "      <td>[\\n1,422 cc\\n]</td>\n",
       "      <td>[\\n3\\n]</td>\n",
       "      <td>[\\n1,195 kg\\n]</td>\n",
       "      <td>NaN</td>\n",
       "      <td>[\\n, Diesel (Particulate Filter), \\n]</td>\n",
       "      <td>[[3.8 l/100 km (comb)], [4.3 l/100 km (city)],...</td>\n",
       "      <td>[\\n99 g CO2/km (comb)\\n]</td>\n",
       "      <td>[\\nEuro 6\\n]</td>\n",
       "      <td>[Air suspension, Armrest, Auxiliary heating, E...</td>\n",
       "      <td>[Bluetooth, CD player, Hands-free equipment, M...</td>\n",
       "      <td>[Alloy wheels, Sport seats, Voice Control]</td>\n",
       "      <td>[ABS, Alarm system, Central door lock with rem...</td>\n",
       "      <td>[\\nAudi A1: , - 1e eigenaar , - Perfecte staat...</td>\n",
       "      <td>NaN</td>\n",
       "      <td>[\\n6\\n]</td>\n",
       "      <td>NaN</td>\n",
       "      <td>NaN</td>\n",
       "      <td>NaN</td>\n",
       "      <td>NaN</td>\n",
       "      <td>NaN</td>\n",
       "      <td>NaN</td>\n",
       "      <td>NaN</td>\n",
       "    </tr>\n",
       "    <tr>\n",
       "      <th>4</th>\n",
       "      <td>https://www.autoscout24.com//offers/audi-a1-sp...</td>\n",
       "      <td>Audi A1</td>\n",
       "      <td>Sportback 1.4 TDI S-Tronic S-Line Ext. admired...</td>\n",
       "      <td>Sedans</td>\n",
       "      <td>16790</td>\n",
       "      <td>None</td>\n",
       "      <td>16,200 km</td>\n",
       "      <td>05/2016</td>\n",
       "      <td>1 previous owner</td>\n",
       "      <td>NaN</td>\n",
       "      <td>66 kW</td>\n",
       "      <td>[, Used, , Diesel (Particulate Filter)]</td>\n",
       "      <td>\\n1\\n</td>\n",
       "      <td>NaN</td>\n",
       "      <td>[\\nYes\\n, \\n109 g CO2/km (comb)\\n]</td>\n",
       "      <td>[\\n, \\n, \\nEuro 6\\n]</td>\n",
       "      <td>[\\n, \\n, \\n4 (Green)\\n]</td>\n",
       "      <td>[\\n, \\n]</td>\n",
       "      <td>[]</td>\n",
       "      <td>\\nAudi\\n</td>\n",
       "      <td>[\\n, A1, \\n]</td>\n",
       "      <td>[\\nC1626\\n]</td>\n",
       "      <td>[\\n, 2016, \\n]</td>\n",
       "      <td>[\\n, Black, \\n]</td>\n",
       "      <td>[\\nMetallic\\n]</td>\n",
       "      <td>[\\nMythosschwarz Metallic\\n]</td>\n",
       "      <td>[\\nCloth, Black\\n]</td>\n",
       "      <td>[\\n, Sedans, \\n]</td>\n",
       "      <td>[\\n5\\n]</td>\n",
       "      <td>[\\n5\\n]</td>\n",
       "      <td>[\\n0588/BDF\\n]</td>\n",
       "      <td>[\\n, Automatic, \\n]</td>\n",
       "      <td>[\\n1,422 cc\\n]</td>\n",
       "      <td>[\\n3\\n]</td>\n",
       "      <td>NaN</td>\n",
       "      <td>[\\nfront\\n]</td>\n",
       "      <td>[\\n, Diesel (Particulate Filter), \\n]</td>\n",
       "      <td>[[4.1 l/100 km (comb)], [4.6 l/100 km (city)],...</td>\n",
       "      <td>[\\n109 g CO2/km (comb)\\n]</td>\n",
       "      <td>[\\nEuro 6\\n]</td>\n",
       "      <td>[Air conditioning, Armrest, Automatic climate ...</td>\n",
       "      <td>[Bluetooth, CD player, Hands-free equipment, M...</td>\n",
       "      <td>[Alloy wheels, Sport package, Sport suspension...</td>\n",
       "      <td>[ABS, Central door lock, Driver-side airbag, E...</td>\n",
       "      <td>[\\n, Technik &amp; Sicherheit:, Xenon plus, Klimaa...</td>\n",
       "      <td>NaN</td>\n",
       "      <td>NaN</td>\n",
       "      <td>[\\nGermany\\n]</td>\n",
       "      <td>NaN</td>\n",
       "      <td>NaN</td>\n",
       "      <td>NaN</td>\n",
       "      <td>NaN</td>\n",
       "      <td>NaN</td>\n",
       "      <td>NaN</td>\n",
       "    </tr>\n",
       "  </tbody>\n",
       "</table>\n",
       "</div>"
      ],
      "text/plain": [
       "                                                 url make_model  \\\n",
       "0  https://www.autoscout24.com//offers/audi-a1-sp...    Audi A1   \n",
       "1  https://www.autoscout24.com//offers/audi-a1-1-...    Audi A1   \n",
       "2  https://www.autoscout24.com//offers/audi-a1-sp...    Audi A1   \n",
       "3  https://www.autoscout24.com//offers/audi-a1-1-...    Audi A1   \n",
       "4  https://www.autoscout24.com//offers/audi-a1-sp...    Audi A1   \n",
       "\n",
       "                                   short_description body_type  price  \\\n",
       "0        Sportback 1.4 TDI S-tronic Xenon Navi Klima    Sedans  15770   \n",
       "1                                     1.8 TFSI sport    Sedans  14500   \n",
       "2  Sportback 1.6 TDI S tronic Einparkhilfe plus+m...    Sedans  14640   \n",
       "3                            1.4 TDi Design S tronic    Sedans  14500   \n",
       "4  Sportback 1.4 TDI S-Tronic S-Line Ext. admired...    Sedans  16790   \n",
       "\n",
       "                vat         km registration         prev_owner  k_w      hp  \\\n",
       "0    VAT deductible  56,013 km      01/2016  2 previous owners  NaN   66 kW   \n",
       "1  Price negotiable  80,000 km      03/2017               None  NaN  141 kW   \n",
       "2    VAT deductible  83,450 km      02/2016   1 previous owner  NaN   85 kW   \n",
       "3              None  73,000 km      08/2016   1 previous owner  NaN   66 kW   \n",
       "4              None  16,200 km      05/2016   1 previous owner  NaN   66 kW   \n",
       "\n",
       "                                      type previous_owners  \\\n",
       "0  [, Used, , Diesel (Particulate Filter)]           \\n2\\n   \n",
       "1                     [, Used, , Gasoline]             NaN   \n",
       "2  [, Used, , Diesel (Particulate Filter)]           \\n1\\n   \n",
       "3  [, Used, , Diesel (Particulate Filter)]           \\n1\\n   \n",
       "4  [, Used, , Diesel (Particulate Filter)]           \\n1\\n   \n",
       "\n",
       "                         next_inspection                      inspection_new  \\\n",
       "0  [\\n06/2021\\n, \\n99 g CO2/km (comb)\\n]               [\\nYes\\n, \\nEuro 6\\n]   \n",
       "1                                    NaN                                 NaN   \n",
       "2                                    NaN                                 NaN   \n",
       "3                                    NaN                                 NaN   \n",
       "4                                    NaN  [\\nYes\\n, \\n109 g CO2/km (comb)\\n]   \n",
       "\n",
       "                           warranty                      full_service  \\\n",
       "0           [\\n, \\n, \\n4 (Green)\\n]                          [\\n, \\n]   \n",
       "1                               NaN                               NaN   \n",
       "2  [\\n, \\n, \\n99 g CO2/km (comb)\\n]                               NaN   \n",
       "3                               NaN  [\\n, \\n, \\n99 g CO2/km (comb)\\n]   \n",
       "4              [\\n, \\n, \\nEuro 6\\n]           [\\n, \\n, \\n4 (Green)\\n]   \n",
       "\n",
       "    non_smoking_vehicle null      make         model     offer_number  \\\n",
       "0              [\\n, \\n]   []  \\nAudi\\n  [\\n, A1, \\n]  [\\nLR-062483\\n]   \n",
       "1                   NaN   []  \\nAudi\\n  [\\n, A1, \\n]              NaN   \n",
       "2                   NaN   []  \\nAudi\\n  [\\n, A1, \\n]   [\\nAM-95365\\n]   \n",
       "3  [\\n, \\n, \\nEuro 6\\n]   []  \\nAudi\\n  [\\n, A1, \\n]              NaN   \n",
       "4              [\\n, \\n]   []  \\nAudi\\n  [\\n, A1, \\n]      [\\nC1626\\n]   \n",
       "\n",
       "  first_registration       body_color      paint_type  \\\n",
       "0     [\\n, 2016, \\n]  [\\n, Black, \\n]  [\\nMetallic\\n]   \n",
       "1     [\\n, 2017, \\n]    [\\n, Red, \\n]             NaN   \n",
       "2     [\\n, 2016, \\n]  [\\n, Black, \\n]  [\\nMetallic\\n]   \n",
       "3     [\\n, 2016, \\n]  [\\n, Brown, \\n]  [\\nMetallic\\n]   \n",
       "4     [\\n, 2016, \\n]  [\\n, Black, \\n]  [\\nMetallic\\n]   \n",
       "\n",
       "            body_color_original          upholstery              body  \\\n",
       "0           [\\nMythosschwarz\\n]  [\\nCloth, Black\\n]  [\\n, Sedans, \\n]   \n",
       "1                           NaN   [\\nCloth, Grey\\n]  [\\n, Sedans, \\n]   \n",
       "2  [\\nmythosschwarz metallic\\n]  [\\nCloth, Black\\n]  [\\n, Sedans, \\n]   \n",
       "3                           NaN                 NaN  [\\n, Sedans, \\n]   \n",
       "4  [\\nMythosschwarz Metallic\\n]  [\\nCloth, Black\\n]  [\\n, Sedans, \\n]   \n",
       "\n",
       "  nr_of_doors nr_of_seats      model_code         gearing_type  \\\n",
       "0     [\\n5\\n]     [\\n5\\n]  [\\n0588/BDF\\n]  [\\n, Automatic, \\n]   \n",
       "1     [\\n3\\n]     [\\n4\\n]  [\\n0588/BCY\\n]  [\\n, Automatic, \\n]   \n",
       "2     [\\n4\\n]     [\\n4\\n]             NaN  [\\n, Automatic, \\n]   \n",
       "3     [\\n3\\n]     [\\n4\\n]             NaN  [\\n, Automatic, \\n]   \n",
       "4     [\\n5\\n]     [\\n5\\n]  [\\n0588/BDF\\n]  [\\n, Automatic, \\n]   \n",
       "\n",
       "     displacement cylinders          weight  drive_chain  \\\n",
       "0  [\\n1,422 cc\\n]   [\\n3\\n]  [\\n1,220 kg\\n]  [\\nfront\\n]   \n",
       "1  [\\n1,798 cc\\n]   [\\n4\\n]  [\\n1,255 kg\\n]  [\\nfront\\n]   \n",
       "2  [\\n1,598 cc\\n]       NaN             NaN  [\\nfront\\n]   \n",
       "3  [\\n1,422 cc\\n]   [\\n3\\n]  [\\n1,195 kg\\n]          NaN   \n",
       "4  [\\n1,422 cc\\n]   [\\n3\\n]             NaN  [\\nfront\\n]   \n",
       "\n",
       "                                    fuel  \\\n",
       "0  [\\n, Diesel (Particulate Filter), \\n]   \n",
       "1                     [\\n, Gasoline, \\n]   \n",
       "2  [\\n, Diesel (Particulate Filter), \\n]   \n",
       "3  [\\n, Diesel (Particulate Filter), \\n]   \n",
       "4  [\\n, Diesel (Particulate Filter), \\n]   \n",
       "\n",
       "                                         consumption  \\\n",
       "0  [[3.8 l/100 km (comb)], [4.3 l/100 km (city)],...   \n",
       "1  [[5.6 l/100 km (comb)], [7.1 l/100 km (city)],...   \n",
       "2  [[3.8 l/100 km (comb)], [4.4 l/100 km (city)],...   \n",
       "3  [[3.8 l/100 km (comb)], [4.3 l/100 km (city)],...   \n",
       "4  [[4.1 l/100 km (comb)], [4.6 l/100 km (city)],...   \n",
       "\n",
       "               co_2_emission emission_class  \\\n",
       "0   [\\n99 g CO2/km (comb)\\n]   [\\nEuro 6\\n]   \n",
       "1  [\\n129 g CO2/km (comb)\\n]   [\\nEuro 6\\n]   \n",
       "2   [\\n99 g CO2/km (comb)\\n]   [\\nEuro 6\\n]   \n",
       "3   [\\n99 g CO2/km (comb)\\n]   [\\nEuro 6\\n]   \n",
       "4  [\\n109 g CO2/km (comb)\\n]   [\\nEuro 6\\n]   \n",
       "\n",
       "                               comfort_&_convenience  \\\n",
       "0  [Air conditioning, Armrest, Automatic climate ...   \n",
       "1  [Air conditioning, Automatic climate control, ...   \n",
       "2  [Air conditioning, Cruise control, Electrical ...   \n",
       "3  [Air suspension, Armrest, Auxiliary heating, E...   \n",
       "4  [Air conditioning, Armrest, Automatic climate ...   \n",
       "\n",
       "                               entertainment_&_media  \\\n",
       "0  [Bluetooth, Hands-free equipment, On-board com...   \n",
       "1  [Bluetooth, Hands-free equipment, On-board com...   \n",
       "2                           [MP3, On-board computer]   \n",
       "3  [Bluetooth, CD player, Hands-free equipment, M...   \n",
       "4  [Bluetooth, CD player, Hands-free equipment, M...   \n",
       "\n",
       "                                              extras  \\\n",
       "0  [Alloy wheels, Catalytic Converter, Voice Cont...   \n",
       "1  [Alloy wheels, Sport seats, Sport suspension, ...   \n",
       "2                      [Alloy wheels, Voice Control]   \n",
       "3         [Alloy wheels, Sport seats, Voice Control]   \n",
       "4  [Alloy wheels, Sport package, Sport suspension...   \n",
       "\n",
       "                                   safety_&_security  \\\n",
       "0  [ABS, Central door lock, Daytime running light...   \n",
       "1  [ABS, Central door lock, Central door lock wit...   \n",
       "2  [ABS, Central door lock, Daytime running light...   \n",
       "3  [ABS, Alarm system, Central door lock with rem...   \n",
       "4  [ABS, Central door lock, Driver-side airbag, E...   \n",
       "\n",
       "                                         description   emission_label  \\\n",
       "0  [\\n, Sicherheit:,  , Deaktivierung für Beifahr...              NaN   \n",
       "1  [\\nLangstreckenfahrzeug daher die hohe Kilomet...  [\\n4 (Green)\\n]   \n",
       "2  [\\n, Fahrzeug-Nummer: AM-95365,  , Ehem. UPE 2...  [\\n4 (Green)\\n]   \n",
       "3  [\\nAudi A1: , - 1e eigenaar , - Perfecte staat...              NaN   \n",
       "4  [\\n, Technik & Sicherheit:, Xenon plus, Klimaa...              NaN   \n",
       "\n",
       "     gears country_version electricity_consumption last_service_date  \\\n",
       "0      NaN             NaN                     NaN               NaN   \n",
       "1  [\\n7\\n]             NaN                     NaN               NaN   \n",
       "2      NaN             NaN                     NaN               NaN   \n",
       "3  [\\n6\\n]             NaN                     NaN               NaN   \n",
       "4      NaN   [\\nGermany\\n]                     NaN               NaN   \n",
       "\n",
       "  other_fuel_types availability last_timing_belt_service_date available_from  \n",
       "0              NaN          NaN                           NaN            NaN  \n",
       "1              NaN          NaN                           NaN            NaN  \n",
       "2              NaN          NaN                           NaN            NaN  \n",
       "3              NaN          NaN                           NaN            NaN  \n",
       "4              NaN          NaN                           NaN            NaN  "
      ]
     },
     "execution_count": 2346,
     "metadata": {},
     "output_type": "execute_result"
    }
   ],
   "source": [
    "df.head()"
   ]
  },
  {
   "cell_type": "markdown",
   "metadata": {},
   "source": [
    "### Another way of fixing headers"
   ]
  },
  {
   "cell_type": "code",
   "execution_count": 2347,
   "metadata": {
    "scrolled": false
   },
   "outputs": [],
   "source": [
    "# df.rename(columns={\"\\nComfort & Convenience\\n\":\"Comfort & Convenience\",\n",
    "#                   \"\\nEntertainment & Media\\n\":\"Entertainment & Media\",\n",
    "#                   \"\\nExtras\\n\":\"Extras\",\n",
    "#                   \"\\nSafety & Security\\n\":\"Safety & Security\"})"
   ]
  },
  {
   "cell_type": "code",
   "execution_count": 2348,
   "metadata": {
    "scrolled": true
   },
   "outputs": [
    {
     "data": {
      "text/html": [
       "<div>\n",
       "<style scoped>\n",
       "    .dataframe tbody tr th:only-of-type {\n",
       "        vertical-align: middle;\n",
       "    }\n",
       "\n",
       "    .dataframe tbody tr th {\n",
       "        vertical-align: top;\n",
       "    }\n",
       "\n",
       "    .dataframe thead th {\n",
       "        text-align: right;\n",
       "    }\n",
       "</style>\n",
       "<table border=\"1\" class=\"dataframe\">\n",
       "  <thead>\n",
       "    <tr style=\"text-align: right;\">\n",
       "      <th></th>\n",
       "      <th>0</th>\n",
       "    </tr>\n",
       "  </thead>\n",
       "  <tbody>\n",
       "    <tr>\n",
       "      <th>url</th>\n",
       "      <td>https://www.autoscout24.com//offers/audi-a1-sp...</td>\n",
       "    </tr>\n",
       "    <tr>\n",
       "      <th>make_model</th>\n",
       "      <td>Audi A1</td>\n",
       "    </tr>\n",
       "    <tr>\n",
       "      <th>short_description</th>\n",
       "      <td>Sportback 1.4 TDI S-tronic Xenon Navi Klima</td>\n",
       "    </tr>\n",
       "    <tr>\n",
       "      <th>body_type</th>\n",
       "      <td>Sedans</td>\n",
       "    </tr>\n",
       "    <tr>\n",
       "      <th>price</th>\n",
       "      <td>15770</td>\n",
       "    </tr>\n",
       "    <tr>\n",
       "      <th>vat</th>\n",
       "      <td>VAT deductible</td>\n",
       "    </tr>\n",
       "    <tr>\n",
       "      <th>km</th>\n",
       "      <td>56,013 km</td>\n",
       "    </tr>\n",
       "    <tr>\n",
       "      <th>registration</th>\n",
       "      <td>01/2016</td>\n",
       "    </tr>\n",
       "    <tr>\n",
       "      <th>prev_owner</th>\n",
       "      <td>2 previous owners</td>\n",
       "    </tr>\n",
       "    <tr>\n",
       "      <th>k_w</th>\n",
       "      <td>NaN</td>\n",
       "    </tr>\n",
       "    <tr>\n",
       "      <th>hp</th>\n",
       "      <td>66 kW</td>\n",
       "    </tr>\n",
       "    <tr>\n",
       "      <th>type</th>\n",
       "      <td>[, Used, , Diesel (Particulate Filter)]</td>\n",
       "    </tr>\n",
       "    <tr>\n",
       "      <th>previous_owners</th>\n",
       "      <td>\\n2\\n</td>\n",
       "    </tr>\n",
       "    <tr>\n",
       "      <th>next_inspection</th>\n",
       "      <td>[\\n06/2021\\n, \\n99 g CO2/km (comb)\\n]</td>\n",
       "    </tr>\n",
       "    <tr>\n",
       "      <th>inspection_new</th>\n",
       "      <td>[\\nYes\\n, \\nEuro 6\\n]</td>\n",
       "    </tr>\n",
       "    <tr>\n",
       "      <th>warranty</th>\n",
       "      <td>[\\n, \\n, \\n4 (Green)\\n]</td>\n",
       "    </tr>\n",
       "    <tr>\n",
       "      <th>full_service</th>\n",
       "      <td>[\\n, \\n]</td>\n",
       "    </tr>\n",
       "    <tr>\n",
       "      <th>non_smoking_vehicle</th>\n",
       "      <td>[\\n, \\n]</td>\n",
       "    </tr>\n",
       "    <tr>\n",
       "      <th>null</th>\n",
       "      <td>[]</td>\n",
       "    </tr>\n",
       "    <tr>\n",
       "      <th>make</th>\n",
       "      <td>\\nAudi\\n</td>\n",
       "    </tr>\n",
       "    <tr>\n",
       "      <th>model</th>\n",
       "      <td>[\\n, A1, \\n]</td>\n",
       "    </tr>\n",
       "    <tr>\n",
       "      <th>offer_number</th>\n",
       "      <td>[\\nLR-062483\\n]</td>\n",
       "    </tr>\n",
       "    <tr>\n",
       "      <th>first_registration</th>\n",
       "      <td>[\\n, 2016, \\n]</td>\n",
       "    </tr>\n",
       "    <tr>\n",
       "      <th>body_color</th>\n",
       "      <td>[\\n, Black, \\n]</td>\n",
       "    </tr>\n",
       "    <tr>\n",
       "      <th>paint_type</th>\n",
       "      <td>[\\nMetallic\\n]</td>\n",
       "    </tr>\n",
       "    <tr>\n",
       "      <th>body_color_original</th>\n",
       "      <td>[\\nMythosschwarz\\n]</td>\n",
       "    </tr>\n",
       "    <tr>\n",
       "      <th>upholstery</th>\n",
       "      <td>[\\nCloth, Black\\n]</td>\n",
       "    </tr>\n",
       "    <tr>\n",
       "      <th>body</th>\n",
       "      <td>[\\n, Sedans, \\n]</td>\n",
       "    </tr>\n",
       "    <tr>\n",
       "      <th>nr_of_doors</th>\n",
       "      <td>[\\n5\\n]</td>\n",
       "    </tr>\n",
       "    <tr>\n",
       "      <th>nr_of_seats</th>\n",
       "      <td>[\\n5\\n]</td>\n",
       "    </tr>\n",
       "    <tr>\n",
       "      <th>model_code</th>\n",
       "      <td>[\\n0588/BDF\\n]</td>\n",
       "    </tr>\n",
       "    <tr>\n",
       "      <th>gearing_type</th>\n",
       "      <td>[\\n, Automatic, \\n]</td>\n",
       "    </tr>\n",
       "    <tr>\n",
       "      <th>displacement</th>\n",
       "      <td>[\\n1,422 cc\\n]</td>\n",
       "    </tr>\n",
       "    <tr>\n",
       "      <th>cylinders</th>\n",
       "      <td>[\\n3\\n]</td>\n",
       "    </tr>\n",
       "    <tr>\n",
       "      <th>weight</th>\n",
       "      <td>[\\n1,220 kg\\n]</td>\n",
       "    </tr>\n",
       "    <tr>\n",
       "      <th>drive_chain</th>\n",
       "      <td>[\\nfront\\n]</td>\n",
       "    </tr>\n",
       "    <tr>\n",
       "      <th>fuel</th>\n",
       "      <td>[\\n, Diesel (Particulate Filter), \\n]</td>\n",
       "    </tr>\n",
       "    <tr>\n",
       "      <th>consumption</th>\n",
       "      <td>[[3.8 l/100 km (comb)], [4.3 l/100 km (city)],...</td>\n",
       "    </tr>\n",
       "    <tr>\n",
       "      <th>co_2_emission</th>\n",
       "      <td>[\\n99 g CO2/km (comb)\\n]</td>\n",
       "    </tr>\n",
       "    <tr>\n",
       "      <th>emission_class</th>\n",
       "      <td>[\\nEuro 6\\n]</td>\n",
       "    </tr>\n",
       "    <tr>\n",
       "      <th>comfort_&amp;_convenience</th>\n",
       "      <td>[Air conditioning, Armrest, Automatic climate ...</td>\n",
       "    </tr>\n",
       "    <tr>\n",
       "      <th>entertainment_&amp;_media</th>\n",
       "      <td>[Bluetooth, Hands-free equipment, On-board com...</td>\n",
       "    </tr>\n",
       "    <tr>\n",
       "      <th>extras</th>\n",
       "      <td>[Alloy wheels, Catalytic Converter, Voice Cont...</td>\n",
       "    </tr>\n",
       "    <tr>\n",
       "      <th>safety_&amp;_security</th>\n",
       "      <td>[ABS, Central door lock, Daytime running light...</td>\n",
       "    </tr>\n",
       "    <tr>\n",
       "      <th>description</th>\n",
       "      <td>[\\n, Sicherheit:,  , Deaktivierung für Beifahr...</td>\n",
       "    </tr>\n",
       "    <tr>\n",
       "      <th>emission_label</th>\n",
       "      <td>NaN</td>\n",
       "    </tr>\n",
       "    <tr>\n",
       "      <th>gears</th>\n",
       "      <td>NaN</td>\n",
       "    </tr>\n",
       "    <tr>\n",
       "      <th>country_version</th>\n",
       "      <td>NaN</td>\n",
       "    </tr>\n",
       "    <tr>\n",
       "      <th>electricity_consumption</th>\n",
       "      <td>NaN</td>\n",
       "    </tr>\n",
       "    <tr>\n",
       "      <th>last_service_date</th>\n",
       "      <td>NaN</td>\n",
       "    </tr>\n",
       "    <tr>\n",
       "      <th>other_fuel_types</th>\n",
       "      <td>NaN</td>\n",
       "    </tr>\n",
       "    <tr>\n",
       "      <th>availability</th>\n",
       "      <td>NaN</td>\n",
       "    </tr>\n",
       "    <tr>\n",
       "      <th>last_timing_belt_service_date</th>\n",
       "      <td>NaN</td>\n",
       "    </tr>\n",
       "    <tr>\n",
       "      <th>available_from</th>\n",
       "      <td>NaN</td>\n",
       "    </tr>\n",
       "  </tbody>\n",
       "</table>\n",
       "</div>"
      ],
      "text/plain": [
       "                                                                               0\n",
       "url                            https://www.autoscout24.com//offers/audi-a1-sp...\n",
       "make_model                                                               Audi A1\n",
       "short_description                    Sportback 1.4 TDI S-tronic Xenon Navi Klima\n",
       "body_type                                                                 Sedans\n",
       "price                                                                      15770\n",
       "vat                                                               VAT deductible\n",
       "km                                                                     56,013 km\n",
       "registration                                                             01/2016\n",
       "prev_owner                                                     2 previous owners\n",
       "k_w                                                                          NaN\n",
       "hp                                                                         66 kW\n",
       "type                                     [, Used, , Diesel (Particulate Filter)]\n",
       "previous_owners                                                            \\n2\\n\n",
       "next_inspection                            [\\n06/2021\\n, \\n99 g CO2/km (comb)\\n]\n",
       "inspection_new                                             [\\nYes\\n, \\nEuro 6\\n]\n",
       "warranty                                                 [\\n, \\n, \\n4 (Green)\\n]\n",
       "full_service                                                            [\\n, \\n]\n",
       "non_smoking_vehicle                                                     [\\n, \\n]\n",
       "null                                                                          []\n",
       "make                                                                    \\nAudi\\n\n",
       "model                                                               [\\n, A1, \\n]\n",
       "offer_number                                                     [\\nLR-062483\\n]\n",
       "first_registration                                                [\\n, 2016, \\n]\n",
       "body_color                                                       [\\n, Black, \\n]\n",
       "paint_type                                                        [\\nMetallic\\n]\n",
       "body_color_original                                          [\\nMythosschwarz\\n]\n",
       "upholstery                                                    [\\nCloth, Black\\n]\n",
       "body                                                            [\\n, Sedans, \\n]\n",
       "nr_of_doors                                                              [\\n5\\n]\n",
       "nr_of_seats                                                              [\\n5\\n]\n",
       "model_code                                                        [\\n0588/BDF\\n]\n",
       "gearing_type                                                 [\\n, Automatic, \\n]\n",
       "displacement                                                      [\\n1,422 cc\\n]\n",
       "cylinders                                                                [\\n3\\n]\n",
       "weight                                                            [\\n1,220 kg\\n]\n",
       "drive_chain                                                          [\\nfront\\n]\n",
       "fuel                                       [\\n, Diesel (Particulate Filter), \\n]\n",
       "consumption                    [[3.8 l/100 km (comb)], [4.3 l/100 km (city)],...\n",
       "co_2_emission                                           [\\n99 g CO2/km (comb)\\n]\n",
       "emission_class                                                      [\\nEuro 6\\n]\n",
       "comfort_&_convenience          [Air conditioning, Armrest, Automatic climate ...\n",
       "entertainment_&_media          [Bluetooth, Hands-free equipment, On-board com...\n",
       "extras                         [Alloy wheels, Catalytic Converter, Voice Cont...\n",
       "safety_&_security              [ABS, Central door lock, Daytime running light...\n",
       "description                    [\\n, Sicherheit:,  , Deaktivierung für Beifahr...\n",
       "emission_label                                                               NaN\n",
       "gears                                                                        NaN\n",
       "country_version                                                              NaN\n",
       "electricity_consumption                                                      NaN\n",
       "last_service_date                                                            NaN\n",
       "other_fuel_types                                                             NaN\n",
       "availability                                                                 NaN\n",
       "last_timing_belt_service_date                                                NaN\n",
       "available_from                                                               NaN"
      ]
     },
     "execution_count": 2348,
     "metadata": {},
     "output_type": "execute_result"
    }
   ],
   "source": [
    "df.head(1).T"
   ]
  },
  {
   "cell_type": "markdown",
   "metadata": {},
   "source": [
    "### Third Way of Fixing Headers"
   ]
  },
  {
   "cell_type": "code",
   "execution_count": 2349,
   "metadata": {},
   "outputs": [],
   "source": [
    "# df[\"Comfort & Convenience\"]=df[\"\\nComfort & Convenience\\n\"]\n",
    "# df[\"Entertainment & Media\"]=df[\"\\nEntertainment & Media\\n\"]\n",
    "# df[\"Extras\"]=df[\"\\nExtras\\n\"]\n",
    "# df[\"Safety & Security\"]=df[\"\\nSafety & Security\\n\"]"
   ]
  },
  {
   "cell_type": "code",
   "execution_count": 2350,
   "metadata": {},
   "outputs": [],
   "source": [
    "# #then we need to delete old columns that we corrected \n",
    "# drop_columns=[\"\\nComfort & Convenience\\n\",\"\\nEntertainment & Media\\n\",\"\\nExtras\\n\",\"\\nSafety & Security\\n\"]\n",
    "# df.drop(drop_columns, axis=1, inplace=True) "
   ]
  },
  {
   "cell_type": "markdown",
   "metadata": {},
   "source": [
    "# Dropping Columns that have more than 90% null"
   ]
  },
  {
   "cell_type": "code",
   "execution_count": 2351,
   "metadata": {},
   "outputs": [],
   "source": [
    "def df_nans(df, limit):\n",
    "    missing = df.isnull().sum()*100 / df.shape[0]\n",
    "    return missing.loc[lambda x : x >= limit]\n",
    "\n",
    "def column_nans(serial):\n",
    "    # display percentage of nans in a Series\n",
    "    return serial.isnull().sum()*100 / serial.shape[0]"
   ]
  },
  {
   "cell_type": "code",
   "execution_count": 2352,
   "metadata": {},
   "outputs": [
    {
     "data": {
      "text/plain": [
       "k_w                             100.000\n",
       "electricity_consumption          99.139\n",
       "last_service_date                96.445\n",
       "other_fuel_types                 94.472\n",
       "availability                     96.011\n",
       "last_timing_belt_service_date    99.899\n",
       "available_from                   98.291\n",
       "dtype: float64"
      ]
     },
     "execution_count": 2352,
     "metadata": {},
     "output_type": "execute_result"
    }
   ],
   "source": [
    "df_nans(df, 90)"
   ]
  },
  {
   "cell_type": "code",
   "execution_count": null,
   "metadata": {},
   "outputs": [],
   "source": []
  },
  {
   "cell_type": "code",
   "execution_count": null,
   "metadata": {},
   "outputs": [],
   "source": []
  },
  {
   "cell_type": "code",
   "execution_count": null,
   "metadata": {},
   "outputs": [],
   "source": []
  },
  {
   "cell_type": "markdown",
   "metadata": {},
   "source": [
    "## Working with Null Values"
   ]
  },
  {
   "cell_type": "code",
   "execution_count": 2353,
   "metadata": {},
   "outputs": [
    {
     "data": {
      "text/plain": [
       "url                                  0\n",
       "make_model                           0\n",
       "short_description                   46\n",
       "body_type                           60\n",
       "price                                0\n",
       "vat                               4513\n",
       "km                                   0\n",
       "registration                         0\n",
       "prev_owner                        6828\n",
       "k_w                              15919\n",
       "hp                                   0\n",
       "type                                 2\n",
       "previous_owners                   6640\n",
       "next_inspection                  12384\n",
       "inspection_new                   11987\n",
       "warranty                          5420\n",
       "full_service                      7704\n",
       "non_smoking_vehicle               8742\n",
       "null                                 0\n",
       "make                                 0\n",
       "model                                0\n",
       "offer_number                      3175\n",
       "first_registration                1597\n",
       "body_color                         597\n",
       "paint_type                        5772\n",
       "body_color_original               3759\n",
       "upholstery                        3720\n",
       "body                                60\n",
       "nr_of_doors                        212\n",
       "nr_of_seats                        977\n",
       "model_code                       10941\n",
       "gearing_type                         0\n",
       "displacement                       496\n",
       "cylinders                         5680\n",
       "weight                            6974\n",
       "drive_chain                       6858\n",
       "fuel                                 0\n",
       "consumption                       1906\n",
       "co_2_emission                     1808\n",
       "emission_class                    3021\n",
       "comfort_&_convenience              920\n",
       "entertainment_&_media             1374\n",
       "extras                            2962\n",
       "safety_&_security                  982\n",
       "description                          0\n",
       "emission_label                   11934\n",
       "gears                             4712\n",
       "country_version                   8333\n",
       "electricity_consumption          15782\n",
       "last_service_date                15353\n",
       "other_fuel_types                 15039\n",
       "availability                     15284\n",
       "last_timing_belt_service_date    15903\n",
       "available_from                   15647\n",
       "dtype: int64"
      ]
     },
     "execution_count": 2353,
     "metadata": {},
     "output_type": "execute_result"
    }
   ],
   "source": [
    "df.isnull().sum()   #assuming that all NaN values are written correctly"
   ]
  },
  {
   "cell_type": "code",
   "execution_count": 2354,
   "metadata": {
    "scrolled": true
   },
   "outputs": [
    {
     "data": {
      "text/plain": [
       "url                               0.000\n",
       "make_model                        0.000\n",
       "short_description                 0.289\n",
       "body_type                         0.377\n",
       "price                             0.000\n",
       "vat                              28.350\n",
       "km                                0.000\n",
       "registration                      0.000\n",
       "prev_owner                       42.892\n",
       "k_w                             100.000\n",
       "hp                                0.000\n",
       "type                              0.013\n",
       "previous_owners                  41.711\n",
       "next_inspection                  77.794\n",
       "inspection_new                   75.300\n",
       "warranty                         34.047\n",
       "full_service                     48.395\n",
       "non_smoking_vehicle              54.916\n",
       "null                              0.000\n",
       "make                              0.000\n",
       "model                             0.000\n",
       "offer_number                     19.945\n",
       "first_registration               10.032\n",
       "body_color                        3.750\n",
       "paint_type                       36.259\n",
       "body_color_original              23.613\n",
       "upholstery                       23.368\n",
       "body                              0.377\n",
       "nr_of_doors                       1.332\n",
       "nr_of_seats                       6.137\n",
       "model_code                       68.729\n",
       "gearing_type                      0.000\n",
       "displacement                      3.116\n",
       "cylinders                        35.681\n",
       "weight                           43.809\n",
       "drive_chain                      43.081\n",
       "fuel                              0.000\n",
       "consumption                      11.973\n",
       "co_2_emission                    11.357\n",
       "emission_class                   18.977\n",
       "comfort_&_convenience             5.779\n",
       "entertainment_&_media             8.631\n",
       "extras                           18.607\n",
       "safety_&_security                 6.169\n",
       "description                       0.000\n",
       "emission_label                   74.967\n",
       "gears                            29.600\n",
       "country_version                  52.346\n",
       "electricity_consumption          99.139\n",
       "last_service_date                96.445\n",
       "other_fuel_types                 94.472\n",
       "availability                     96.011\n",
       "last_timing_belt_service_date    99.899\n",
       "available_from                   98.291\n",
       "dtype: float64"
      ]
     },
     "execution_count": 2354,
     "metadata": {},
     "output_type": "execute_result"
    }
   ],
   "source": [
    "# df.isnull().sum()/len(df)*100 #percentage of missing values per columns\n",
    "df.isnull().sum()/df.shape[0]*100"
   ]
  },
  {
   "cell_type": "code",
   "execution_count": 2355,
   "metadata": {},
   "outputs": [
    {
     "data": {
      "text/plain": [
       "k_w                             100.000\n",
       "electricity_consumption          99.139\n",
       "last_service_date                96.445\n",
       "other_fuel_types                 94.472\n",
       "availability                     96.011\n",
       "last_timing_belt_service_date    99.899\n",
       "available_from                   98.291\n",
       "dtype: float64"
      ]
     },
     "execution_count": 2355,
     "metadata": {},
     "output_type": "execute_result"
    }
   ],
   "source": [
    "# function to return limit percent of missing values\n",
    "def show_nans(df, limit):\n",
    "    missing = df.isnull().sum()*100/df.shape[0]\n",
    "    return missing.loc[lambda x : x >= limit]\n",
    "show_nans(df,90)"
   ]
  },
  {
   "cell_type": "markdown",
   "metadata": {},
   "source": [
    "## Dropping columns that have missing values more than ???"
   ]
  },
  {
   "cell_type": "code",
   "execution_count": null,
   "metadata": {},
   "outputs": [],
   "source": []
  },
  {
   "cell_type": "code",
   "execution_count": null,
   "metadata": {},
   "outputs": [],
   "source": []
  },
  {
   "cell_type": "markdown",
   "metadata": {},
   "source": [
    "# Examination Of Colomns"
   ]
  },
  {
   "cell_type": "markdown",
   "metadata": {},
   "source": [
    "## url"
   ]
  },
  {
   "cell_type": "code",
   "execution_count": 2356,
   "metadata": {},
   "outputs": [
    {
     "data": {
      "text/plain": [
       "'https://www.autoscout24.com//offers/audi-a1-sportback-1-4-tdi-s-tronic-xenon-navi-klima-diesel-black-bdab349a-caa5-41b0-98eb-c1345b84445e'"
      ]
     },
     "execution_count": 2356,
     "metadata": {},
     "output_type": "execute_result"
    }
   ],
   "source": [
    "df['url'][0]"
   ]
  },
  {
   "cell_type": "code",
   "execution_count": 2357,
   "metadata": {},
   "outputs": [],
   "source": [
    "# drop  url column ???"
   ]
  },
  {
   "cell_type": "markdown",
   "metadata": {},
   "source": [
    "## make_model vs Make vs Model "
   ]
  },
  {
   "cell_type": "code",
   "execution_count": 2358,
   "metadata": {},
   "outputs": [
    {
     "data": {
      "text/plain": [
       "Audi A3           3097\n",
       "Audi A1           2614\n",
       "Opel Insignia     2598\n",
       "Opel Astra        2526\n",
       "Opel Corsa        2219\n",
       "Renault Clio      1839\n",
       "Renault Espace     991\n",
       "Renault Duster      34\n",
       "Audi A2              1\n",
       "Name: make_model, dtype: int64"
      ]
     },
     "execution_count": 2358,
     "metadata": {},
     "output_type": "execute_result"
    }
   ],
   "source": [
    "df['make_model'].value_counts()"
   ]
  },
  {
   "cell_type": "code",
   "execution_count": 2359,
   "metadata": {},
   "outputs": [
    {
     "data": {
      "text/plain": [
       "\\nOpel\\n       7343\n",
       "\\nAudi\\n       5712\n",
       "\\nRenault\\n    2864\n",
       "Name: make, dtype: int64"
      ]
     },
     "execution_count": 2359,
     "metadata": {},
     "output_type": "execute_result"
    }
   ],
   "source": [
    "df['make'].value_counts()"
   ]
  },
  {
   "cell_type": "code",
   "execution_count": 2360,
   "metadata": {},
   "outputs": [
    {
     "data": {
      "text/plain": [
       "0"
      ]
     },
     "execution_count": 2360,
     "metadata": {},
     "output_type": "execute_result"
    }
   ],
   "source": [
    "df['make'].isnull().sum() "
   ]
  },
  {
   "cell_type": "code",
   "execution_count": 2361,
   "metadata": {},
   "outputs": [
    {
     "data": {
      "text/plain": [
       "[\\n, A3, \\n]          3097\n",
       "[\\n, A1, \\n]          2614\n",
       "[\\n, Insignia, \\n]    2598\n",
       "[\\n, Astra, \\n]       2526\n",
       "[\\n, Corsa, \\n]       2219\n",
       "[\\n, Clio, \\n]        1839\n",
       "[\\n, Espace, \\n]       991\n",
       "[\\n, Duster, \\n]        34\n",
       "[\\n, A2, \\n]             1\n",
       "Name: model, dtype: int64"
      ]
     },
     "execution_count": 2361,
     "metadata": {},
     "output_type": "execute_result"
    }
   ],
   "source": [
    "df['model'].value_counts()"
   ]
  },
  {
   "cell_type": "code",
   "execution_count": 2362,
   "metadata": {},
   "outputs": [],
   "source": [
    "# A2 ve Duster drop edilebilir"
   ]
  },
  {
   "cell_type": "code",
   "execution_count": 2363,
   "metadata": {},
   "outputs": [
    {
     "data": {
      "text/plain": [
       "0"
      ]
     },
     "execution_count": 2363,
     "metadata": {},
     "output_type": "execute_result"
    }
   ],
   "source": [
    "df['model'].isnull().sum()"
   ]
  },
  {
   "cell_type": "code",
   "execution_count": 2364,
   "metadata": {},
   "outputs": [
    {
     "data": {
      "text/html": [
       "<div>\n",
       "<style scoped>\n",
       "    .dataframe tbody tr th:only-of-type {\n",
       "        vertical-align: middle;\n",
       "    }\n",
       "\n",
       "    .dataframe tbody tr th {\n",
       "        vertical-align: top;\n",
       "    }\n",
       "\n",
       "    .dataframe thead th {\n",
       "        text-align: right;\n",
       "    }\n",
       "</style>\n",
       "<table border=\"1\" class=\"dataframe\">\n",
       "  <thead>\n",
       "    <tr style=\"text-align: right;\">\n",
       "      <th></th>\n",
       "      <th>make</th>\n",
       "      <th>model</th>\n",
       "      <th>make_model</th>\n",
       "    </tr>\n",
       "  </thead>\n",
       "  <tbody>\n",
       "    <tr>\n",
       "      <th>11065</th>\n",
       "      <td>\\nOpel\\n</td>\n",
       "      <td>[\\n, Insignia, \\n]</td>\n",
       "      <td>Opel Insignia</td>\n",
       "    </tr>\n",
       "    <tr>\n",
       "      <th>12080</th>\n",
       "      <td>\\nOpel\\n</td>\n",
       "      <td>[\\n, Insignia, \\n]</td>\n",
       "      <td>Opel Insignia</td>\n",
       "    </tr>\n",
       "    <tr>\n",
       "      <th>7450</th>\n",
       "      <td>\\nOpel\\n</td>\n",
       "      <td>[\\n, Astra, \\n]</td>\n",
       "      <td>Opel Astra</td>\n",
       "    </tr>\n",
       "    <tr>\n",
       "      <th>11985</th>\n",
       "      <td>\\nOpel\\n</td>\n",
       "      <td>[\\n, Insignia, \\n]</td>\n",
       "      <td>Opel Insignia</td>\n",
       "    </tr>\n",
       "    <tr>\n",
       "      <th>3016</th>\n",
       "      <td>\\nAudi\\n</td>\n",
       "      <td>[\\n, A3, \\n]</td>\n",
       "      <td>Audi A3</td>\n",
       "    </tr>\n",
       "    <tr>\n",
       "      <th>5667</th>\n",
       "      <td>\\nAudi\\n</td>\n",
       "      <td>[\\n, A3, \\n]</td>\n",
       "      <td>Audi A3</td>\n",
       "    </tr>\n",
       "    <tr>\n",
       "      <th>3775</th>\n",
       "      <td>\\nAudi\\n</td>\n",
       "      <td>[\\n, A3, \\n]</td>\n",
       "      <td>Audi A3</td>\n",
       "    </tr>\n",
       "    <tr>\n",
       "      <th>13710</th>\n",
       "      <td>\\nRenault\\n</td>\n",
       "      <td>[\\n, Clio, \\n]</td>\n",
       "      <td>Renault Clio</td>\n",
       "    </tr>\n",
       "    <tr>\n",
       "      <th>8101</th>\n",
       "      <td>\\nOpel\\n</td>\n",
       "      <td>[\\n, Astra, \\n]</td>\n",
       "      <td>Opel Astra</td>\n",
       "    </tr>\n",
       "    <tr>\n",
       "      <th>6662</th>\n",
       "      <td>\\nOpel\\n</td>\n",
       "      <td>[\\n, Astra, \\n]</td>\n",
       "      <td>Opel Astra</td>\n",
       "    </tr>\n",
       "  </tbody>\n",
       "</table>\n",
       "</div>"
      ],
      "text/plain": [
       "              make               model     make_model\n",
       "11065     \\nOpel\\n  [\\n, Insignia, \\n]  Opel Insignia\n",
       "12080     \\nOpel\\n  [\\n, Insignia, \\n]  Opel Insignia\n",
       "7450      \\nOpel\\n     [\\n, Astra, \\n]     Opel Astra\n",
       "11985     \\nOpel\\n  [\\n, Insignia, \\n]  Opel Insignia\n",
       "3016      \\nAudi\\n        [\\n, A3, \\n]        Audi A3\n",
       "5667      \\nAudi\\n        [\\n, A3, \\n]        Audi A3\n",
       "3775      \\nAudi\\n        [\\n, A3, \\n]        Audi A3\n",
       "13710  \\nRenault\\n      [\\n, Clio, \\n]   Renault Clio\n",
       "8101      \\nOpel\\n     [\\n, Astra, \\n]     Opel Astra\n",
       "6662      \\nOpel\\n     [\\n, Astra, \\n]     Opel Astra"
      ]
     },
     "execution_count": 2364,
     "metadata": {},
     "output_type": "execute_result"
    }
   ],
   "source": [
    "df[[\"make\",\"model\",'make_model']].sample(10)"
   ]
  },
  {
   "cell_type": "code",
   "execution_count": 2365,
   "metadata": {},
   "outputs": [],
   "source": [
    "## make ve model drop "
   ]
  },
  {
   "cell_type": "code",
   "execution_count": 2366,
   "metadata": {
    "scrolled": false
   },
   "outputs": [
    {
     "data": {
      "text/html": [
       "<div>\n",
       "<style scoped>\n",
       "    .dataframe tbody tr th:only-of-type {\n",
       "        vertical-align: middle;\n",
       "    }\n",
       "\n",
       "    .dataframe tbody tr th {\n",
       "        vertical-align: top;\n",
       "    }\n",
       "\n",
       "    .dataframe thead th {\n",
       "        text-align: right;\n",
       "    }\n",
       "</style>\n",
       "<table border=\"1\" class=\"dataframe\">\n",
       "  <thead>\n",
       "    <tr style=\"text-align: right;\">\n",
       "      <th></th>\n",
       "      <th>url</th>\n",
       "      <th>make_model</th>\n",
       "      <th>short_description</th>\n",
       "      <th>body_type</th>\n",
       "      <th>price</th>\n",
       "      <th>vat</th>\n",
       "      <th>km</th>\n",
       "      <th>registration</th>\n",
       "      <th>prev_owner</th>\n",
       "      <th>k_w</th>\n",
       "      <th>hp</th>\n",
       "      <th>type</th>\n",
       "      <th>previous_owners</th>\n",
       "      <th>next_inspection</th>\n",
       "      <th>inspection_new</th>\n",
       "      <th>warranty</th>\n",
       "      <th>full_service</th>\n",
       "      <th>non_smoking_vehicle</th>\n",
       "      <th>null</th>\n",
       "      <th>make</th>\n",
       "      <th>model</th>\n",
       "      <th>offer_number</th>\n",
       "      <th>first_registration</th>\n",
       "      <th>body_color</th>\n",
       "      <th>paint_type</th>\n",
       "      <th>body_color_original</th>\n",
       "      <th>upholstery</th>\n",
       "      <th>body</th>\n",
       "      <th>nr_of_doors</th>\n",
       "      <th>nr_of_seats</th>\n",
       "      <th>model_code</th>\n",
       "      <th>gearing_type</th>\n",
       "      <th>displacement</th>\n",
       "      <th>cylinders</th>\n",
       "      <th>weight</th>\n",
       "      <th>drive_chain</th>\n",
       "      <th>fuel</th>\n",
       "      <th>consumption</th>\n",
       "      <th>co_2_emission</th>\n",
       "      <th>emission_class</th>\n",
       "      <th>comfort_&amp;_convenience</th>\n",
       "      <th>entertainment_&amp;_media</th>\n",
       "      <th>extras</th>\n",
       "      <th>safety_&amp;_security</th>\n",
       "      <th>description</th>\n",
       "      <th>emission_label</th>\n",
       "      <th>gears</th>\n",
       "      <th>country_version</th>\n",
       "      <th>electricity_consumption</th>\n",
       "      <th>last_service_date</th>\n",
       "      <th>other_fuel_types</th>\n",
       "      <th>availability</th>\n",
       "      <th>last_timing_belt_service_date</th>\n",
       "      <th>available_from</th>\n",
       "    </tr>\n",
       "  </thead>\n",
       "  <tbody>\n",
       "  </tbody>\n",
       "</table>\n",
       "</div>"
      ],
      "text/plain": [
       "Empty DataFrame\n",
       "Columns: [url, make_model, short_description, body_type, price, vat, km, registration, prev_owner, k_w, hp, type, previous_owners, next_inspection, inspection_new, warranty, full_service, non_smoking_vehicle, null, make, model, offer_number, first_registration, body_color, paint_type, body_color_original, upholstery, body, nr_of_doors, nr_of_seats, model_code, gearing_type, displacement, cylinders, weight, drive_chain, fuel, consumption, co_2_emission, emission_class, comfort_&_convenience, entertainment_&_media, extras, safety_&_security, description, emission_label, gears, country_version, electricity_consumption, last_service_date, other_fuel_types, availability, last_timing_belt_service_date, available_from]\n",
       "Index: []"
      ]
     },
     "execution_count": 2366,
     "metadata": {},
     "output_type": "execute_result"
    }
   ],
   "source": [
    "df[df[\"model\"]==\"A2\"]"
   ]
  },
  {
   "cell_type": "markdown",
   "metadata": {},
   "source": [
    "#### Removing \\n and [\\n "
   ]
  },
  {
   "cell_type": "code",
   "execution_count": 2367,
   "metadata": {},
   "outputs": [],
   "source": [
    "# df[\"make\"]=df[\"make\"].replace(\"\\\\n\",\"\", regex=True)\n",
    "# df[\"make\"].value_counts()"
   ]
  },
  {
   "cell_type": "markdown",
   "metadata": {},
   "source": [
    "#### 2nd method"
   ]
  },
  {
   "cell_type": "code",
   "execution_count": 2368,
   "metadata": {},
   "outputs": [],
   "source": [
    "df[\"make\"] = df.make.str.strip('\\n')"
   ]
  },
  {
   "cell_type": "code",
   "execution_count": 2369,
   "metadata": {},
   "outputs": [
    {
     "data": {
      "text/plain": [
       "0           Audi\n",
       "1           Audi\n",
       "2           Audi\n",
       "3           Audi\n",
       "4           Audi\n",
       "          ...   \n",
       "15914    Renault\n",
       "15915    Renault\n",
       "15916    Renault\n",
       "15917    Renault\n",
       "15918    Renault\n",
       "Name: make, Length: 15919, dtype: object"
      ]
     },
     "execution_count": 2369,
     "metadata": {},
     "output_type": "execute_result"
    }
   ],
   "source": [
    "df.make"
   ]
  },
  {
   "cell_type": "markdown",
   "metadata": {},
   "source": [
    "#### 3rd method"
   ]
  },
  {
   "cell_type": "code",
   "execution_count": 2370,
   "metadata": {},
   "outputs": [],
   "source": [
    "def remove(x):\n",
    "    if type(x)==float:\n",
    "        return np.nan\n",
    "    else:\n",
    "        return x[1]"
   ]
  },
  {
   "cell_type": "code",
   "execution_count": 2371,
   "metadata": {
    "scrolled": true
   },
   "outputs": [
    {
     "data": {
      "text/plain": [
       "0            [\\n, A1, \\n]\n",
       "1            [\\n, A1, \\n]\n",
       "2            [\\n, A1, \\n]\n",
       "3            [\\n, A1, \\n]\n",
       "4            [\\n, A1, \\n]\n",
       "               ...       \n",
       "15914    [\\n, Espace, \\n]\n",
       "15915    [\\n, Espace, \\n]\n",
       "15916    [\\n, Espace, \\n]\n",
       "15917    [\\n, Espace, \\n]\n",
       "15918    [\\n, Espace, \\n]\n",
       "Name: model, Length: 15919, dtype: object"
      ]
     },
     "execution_count": 2371,
     "metadata": {},
     "output_type": "execute_result"
    }
   ],
   "source": [
    "df.model"
   ]
  },
  {
   "cell_type": "code",
   "execution_count": 2372,
   "metadata": {},
   "outputs": [],
   "source": [
    "#df.model = df[\"model\"].apply(remove)"
   ]
  },
  {
   "cell_type": "code",
   "execution_count": 2373,
   "metadata": {},
   "outputs": [
    {
     "data": {
      "text/plain": [
       "0            [\\n, A1, \\n]\n",
       "1            [\\n, A1, \\n]\n",
       "2            [\\n, A1, \\n]\n",
       "3            [\\n, A1, \\n]\n",
       "4            [\\n, A1, \\n]\n",
       "               ...       \n",
       "15914    [\\n, Espace, \\n]\n",
       "15915    [\\n, Espace, \\n]\n",
       "15916    [\\n, Espace, \\n]\n",
       "15917    [\\n, Espace, \\n]\n",
       "15918    [\\n, Espace, \\n]\n",
       "Name: model, Length: 15919, dtype: object"
      ]
     },
     "execution_count": 2373,
     "metadata": {},
     "output_type": "execute_result"
    }
   ],
   "source": [
    "df.model"
   ]
  },
  {
   "cell_type": "code",
   "execution_count": 2374,
   "metadata": {},
   "outputs": [
    {
     "data": {
      "text/html": [
       "<div>\n",
       "<style scoped>\n",
       "    .dataframe tbody tr th:only-of-type {\n",
       "        vertical-align: middle;\n",
       "    }\n",
       "\n",
       "    .dataframe tbody tr th {\n",
       "        vertical-align: top;\n",
       "    }\n",
       "\n",
       "    .dataframe thead th {\n",
       "        text-align: right;\n",
       "    }\n",
       "</style>\n",
       "<table border=\"1\" class=\"dataframe\">\n",
       "  <thead>\n",
       "    <tr style=\"text-align: right;\">\n",
       "      <th></th>\n",
       "      <th>make</th>\n",
       "      <th>model</th>\n",
       "      <th>make_model</th>\n",
       "    </tr>\n",
       "  </thead>\n",
       "  <tbody>\n",
       "    <tr>\n",
       "      <th>0</th>\n",
       "      <td>Audi</td>\n",
       "      <td>[\\n, A1, \\n]</td>\n",
       "      <td>Audi A1</td>\n",
       "    </tr>\n",
       "    <tr>\n",
       "      <th>1</th>\n",
       "      <td>Audi</td>\n",
       "      <td>[\\n, A1, \\n]</td>\n",
       "      <td>Audi A1</td>\n",
       "    </tr>\n",
       "    <tr>\n",
       "      <th>2</th>\n",
       "      <td>Audi</td>\n",
       "      <td>[\\n, A1, \\n]</td>\n",
       "      <td>Audi A1</td>\n",
       "    </tr>\n",
       "    <tr>\n",
       "      <th>3</th>\n",
       "      <td>Audi</td>\n",
       "      <td>[\\n, A1, \\n]</td>\n",
       "      <td>Audi A1</td>\n",
       "    </tr>\n",
       "    <tr>\n",
       "      <th>4</th>\n",
       "      <td>Audi</td>\n",
       "      <td>[\\n, A1, \\n]</td>\n",
       "      <td>Audi A1</td>\n",
       "    </tr>\n",
       "  </tbody>\n",
       "</table>\n",
       "</div>"
      ],
      "text/plain": [
       "   make         model make_model\n",
       "0  Audi  [\\n, A1, \\n]    Audi A1\n",
       "1  Audi  [\\n, A1, \\n]    Audi A1\n",
       "2  Audi  [\\n, A1, \\n]    Audi A1\n",
       "3  Audi  [\\n, A1, \\n]    Audi A1\n",
       "4  Audi  [\\n, A1, \\n]    Audi A1"
      ]
     },
     "execution_count": 2374,
     "metadata": {},
     "output_type": "execute_result"
    }
   ],
   "source": [
    "df[[\"make\",\"model\",'make_model']].head()"
   ]
  },
  {
   "cell_type": "code",
   "execution_count": 2375,
   "metadata": {},
   "outputs": [],
   "source": [
    "df.model = df['model'].apply(lambda x: np.nan if type(x)==float else x[1])"
   ]
  },
  {
   "cell_type": "code",
   "execution_count": 2376,
   "metadata": {
    "scrolled": true
   },
   "outputs": [
    {
     "data": {
      "text/plain": [
       "A3          3097\n",
       "A1          2614\n",
       "Insignia    2598\n",
       "Astra       2526\n",
       "Corsa       2219\n",
       "Clio        1839\n",
       "Espace       991\n",
       "Duster        34\n",
       "A2             1\n",
       "Name: model, dtype: int64"
      ]
     },
     "execution_count": 2376,
     "metadata": {},
     "output_type": "execute_result"
    }
   ],
   "source": [
    "df.model.value_counts()"
   ]
  },
  {
   "cell_type": "code",
   "execution_count": 2377,
   "metadata": {},
   "outputs": [],
   "source": [
    "df.drop([\"make\", \"model\"], axis=1, inplace=True)"
   ]
  },
  {
   "cell_type": "markdown",
   "metadata": {},
   "source": [
    "## short_description vs description "
   ]
  },
  {
   "cell_type": "code",
   "execution_count": 2378,
   "metadata": {},
   "outputs": [
    {
     "data": {
      "text/plain": [
       "SPB 1.6 TDI 116 CV S tronic Sport                 64\n",
       "1.4 66kW (90CV) Selective                         40\n",
       "MOVE KLIMA CD USB ALLWETTER BLUETOOTH             38\n",
       "SPB 30 TDI S tronic Business                      35\n",
       "SPB 30 TFSI S tronic Admired                      35\n",
       "                                                  ..\n",
       "K Sports Tourer Business **Navi*Voll**             1\n",
       "1.0 Turbo ecoFLEX Automatic Elective Park Navi     1\n",
       "1.6 CDTI Business *Navi*Automatik*Spurh.*          1\n",
       "1.6 136 CV Automatica Navi E 6 Garanzia Full       1\n",
       "TCe 225 EDC GPF LIM Deluxe Pano,RFK                1\n",
       "Name: short_description, Length: 10001, dtype: int64"
      ]
     },
     "execution_count": 2378,
     "metadata": {},
     "output_type": "execute_result"
    }
   ],
   "source": [
    "df['short_description'].value_counts()"
   ]
  },
  {
   "cell_type": "code",
   "execution_count": 2379,
   "metadata": {},
   "outputs": [
    {
     "data": {
      "text/plain": [
       "46"
      ]
     },
     "execution_count": 2379,
     "metadata": {},
     "output_type": "execute_result"
    }
   ],
   "source": [
    "df['short_description'].isnull().sum() "
   ]
  },
  {
   "cell_type": "code",
   "execution_count": 2380,
   "metadata": {},
   "outputs": [],
   "source": [
    "df.drop([\"description\"], axis=1, inplace=True)"
   ]
  },
  {
   "cell_type": "markdown",
   "metadata": {},
   "source": [
    "## body_type vs Body"
   ]
  },
  {
   "cell_type": "code",
   "execution_count": 2381,
   "metadata": {},
   "outputs": [
    {
     "data": {
      "text/plain": [
       "Sedans           7903\n",
       "Station wagon    3553\n",
       "Compact          3153\n",
       "Van               783\n",
       "Other             290\n",
       "Transporter        88\n",
       "Off-Road           56\n",
       "Coupe              25\n",
       "Convertible         8\n",
       "Name: body_type, dtype: int64"
      ]
     },
     "execution_count": 2381,
     "metadata": {},
     "output_type": "execute_result"
    }
   ],
   "source": [
    "df['body_type'].value_counts()"
   ]
  },
  {
   "cell_type": "code",
   "execution_count": 2382,
   "metadata": {},
   "outputs": [
    {
     "data": {
      "text/plain": [
       "60"
      ]
     },
     "execution_count": 2382,
     "metadata": {},
     "output_type": "execute_result"
    }
   ],
   "source": [
    "df['body_type'].isnull().sum() "
   ]
  },
  {
   "cell_type": "code",
   "execution_count": 2383,
   "metadata": {},
   "outputs": [
    {
     "data": {
      "text/plain": [
       "[\\n, Sedans, \\n]           7903\n",
       "[\\n, Station wagon, \\n]    3553\n",
       "[\\n, Compact, \\n]          3153\n",
       "[\\n, Van, \\n]               783\n",
       "[\\n, Other, \\n]             290\n",
       "[\\n, Transporter, \\n]        88\n",
       "[\\n, Off-Road, \\n]           56\n",
       "[\\n, Coupe, \\n]              25\n",
       "[\\n, Convertible, \\n]         8\n",
       "Name: body, dtype: int64"
      ]
     },
     "execution_count": 2383,
     "metadata": {},
     "output_type": "execute_result"
    }
   ],
   "source": [
    "df['body'].value_counts()"
   ]
  },
  {
   "cell_type": "code",
   "execution_count": 2384,
   "metadata": {
    "scrolled": true
   },
   "outputs": [
    {
     "data": {
      "text/plain": [
       "60"
      ]
     },
     "execution_count": 2384,
     "metadata": {},
     "output_type": "execute_result"
    }
   ],
   "source": [
    "df['body'].isnull().sum() "
   ]
  },
  {
   "cell_type": "code",
   "execution_count": 2385,
   "metadata": {},
   "outputs": [
    {
     "data": {
      "text/plain": [
       "0        Sedans\n",
       "1        Sedans\n",
       "2        Sedans\n",
       "3        Sedans\n",
       "4        Sedans\n",
       "          ...  \n",
       "15914       Van\n",
       "15915       Van\n",
       "15916       Van\n",
       "15917       Van\n",
       "15918       Van\n",
       "Name: body, Length: 15919, dtype: object"
      ]
     },
     "execution_count": 2385,
     "metadata": {},
     "output_type": "execute_result"
    }
   ],
   "source": [
    "df[\"body\"].str[1]"
   ]
  },
  {
   "cell_type": "markdown",
   "metadata": {},
   "source": [
    "#### Fixing \\n "
   ]
  },
  {
   "cell_type": "code",
   "execution_count": 2386,
   "metadata": {},
   "outputs": [],
   "source": [
    "df[\"body\"]=df[\"body\"].apply(remove)"
   ]
  },
  {
   "cell_type": "code",
   "execution_count": 2387,
   "metadata": {
    "scrolled": true
   },
   "outputs": [
    {
     "data": {
      "text/plain": [
       "0        Sedans\n",
       "1        Sedans\n",
       "2        Sedans\n",
       "3        Sedans\n",
       "4        Sedans\n",
       "          ...  \n",
       "15914       Van\n",
       "15915       Van\n",
       "15916       Van\n",
       "15917       Van\n",
       "15918       Van\n",
       "Name: body, Length: 15919, dtype: object"
      ]
     },
     "execution_count": 2387,
     "metadata": {},
     "output_type": "execute_result"
    }
   ],
   "source": [
    "df.body"
   ]
  },
  {
   "cell_type": "code",
   "execution_count": 2388,
   "metadata": {},
   "outputs": [],
   "source": [
    "## 2nd way\n",
    "#df.body = df[\"body\"].str[1]\n"
   ]
  },
  {
   "cell_type": "code",
   "execution_count": 2389,
   "metadata": {},
   "outputs": [
    {
     "data": {
      "text/plain": [
       "0                  [, Used, , Diesel (Particulate Filter)]\n",
       "1                                     [, Used, , Gasoline]\n",
       "2                  [, Used, , Diesel (Particulate Filter)]\n",
       "3                  [, Used, , Diesel (Particulate Filter)]\n",
       "4                  [, Used, , Diesel (Particulate Filter)]\n",
       "                               ...                        \n",
       "15914               [, New, , Diesel (Particulate Filter)]\n",
       "15915    [, Used, , Super 95 / Super Plus 98 (Particula...\n",
       "15916                         [, Pre-registered, , Diesel]\n",
       "15917                         [, Pre-registered, , Diesel]\n",
       "15918                        [, Demonstration, , Super 95]\n",
       "Name: type, Length: 15919, dtype: object"
      ]
     },
     "execution_count": 2389,
     "metadata": {},
     "output_type": "execute_result"
    }
   ],
   "source": [
    "df.type"
   ]
  },
  {
   "cell_type": "markdown",
   "metadata": {},
   "source": [
    "### Body Type cleaning"
   ]
  },
  {
   "cell_type": "code",
   "execution_count": 2390,
   "metadata": {},
   "outputs": [
    {
     "data": {
      "text/plain": [
       "0        Sedans\n",
       "1        Sedans\n",
       "2        Sedans\n",
       "3        Sedans\n",
       "4        Sedans\n",
       "          ...  \n",
       "15914       Van\n",
       "15915       Van\n",
       "15916       Van\n",
       "15917       Van\n",
       "15918       Van\n",
       "Name: body_type, Length: 15919, dtype: object"
      ]
     },
     "execution_count": 2390,
     "metadata": {},
     "output_type": "execute_result"
    }
   ],
   "source": [
    "df.body_type"
   ]
  },
  {
   "cell_type": "code",
   "execution_count": 2391,
   "metadata": {
    "scrolled": true
   },
   "outputs": [
    {
     "data": {
      "text/html": [
       "<div>\n",
       "<style scoped>\n",
       "    .dataframe tbody tr th:only-of-type {\n",
       "        vertical-align: middle;\n",
       "    }\n",
       "\n",
       "    .dataframe tbody tr th {\n",
       "        vertical-align: top;\n",
       "    }\n",
       "\n",
       "    .dataframe thead th {\n",
       "        text-align: right;\n",
       "    }\n",
       "</style>\n",
       "<table border=\"1\" class=\"dataframe\">\n",
       "  <thead>\n",
       "    <tr style=\"text-align: right;\">\n",
       "      <th></th>\n",
       "      <th>body</th>\n",
       "      <th>body_type</th>\n",
       "    </tr>\n",
       "  </thead>\n",
       "  <tbody>\n",
       "    <tr>\n",
       "      <th>13473</th>\n",
       "      <td>Station wagon</td>\n",
       "      <td>Station wagon</td>\n",
       "    </tr>\n",
       "    <tr>\n",
       "      <th>12321</th>\n",
       "      <td>Other</td>\n",
       "      <td>Other</td>\n",
       "    </tr>\n",
       "    <tr>\n",
       "      <th>14389</th>\n",
       "      <td>Sedans</td>\n",
       "      <td>Sedans</td>\n",
       "    </tr>\n",
       "    <tr>\n",
       "      <th>13421</th>\n",
       "      <td>Sedans</td>\n",
       "      <td>Sedans</td>\n",
       "    </tr>\n",
       "    <tr>\n",
       "      <th>13307</th>\n",
       "      <td>Station wagon</td>\n",
       "      <td>Station wagon</td>\n",
       "    </tr>\n",
       "    <tr>\n",
       "      <th>11679</th>\n",
       "      <td>Station wagon</td>\n",
       "      <td>Station wagon</td>\n",
       "    </tr>\n",
       "    <tr>\n",
       "      <th>10438</th>\n",
       "      <td>Other</td>\n",
       "      <td>Other</td>\n",
       "    </tr>\n",
       "    <tr>\n",
       "      <th>15063</th>\n",
       "      <td>Van</td>\n",
       "      <td>Van</td>\n",
       "    </tr>\n",
       "    <tr>\n",
       "      <th>11536</th>\n",
       "      <td>Station wagon</td>\n",
       "      <td>Station wagon</td>\n",
       "    </tr>\n",
       "    <tr>\n",
       "      <th>8001</th>\n",
       "      <td>Compact</td>\n",
       "      <td>Compact</td>\n",
       "    </tr>\n",
       "  </tbody>\n",
       "</table>\n",
       "</div>"
      ],
      "text/plain": [
       "                body      body_type\n",
       "13473  Station wagon  Station wagon\n",
       "12321          Other          Other\n",
       "14389         Sedans         Sedans\n",
       "13421         Sedans         Sedans\n",
       "13307  Station wagon  Station wagon\n",
       "11679  Station wagon  Station wagon\n",
       "10438          Other          Other\n",
       "15063            Van            Van\n",
       "11536  Station wagon  Station wagon\n",
       "8001         Compact        Compact"
      ]
     },
     "execution_count": 2391,
     "metadata": {},
     "output_type": "execute_result"
    }
   ],
   "source": [
    "df[[\"body\", \"body_type\"]].sample(10)"
   ]
  },
  {
   "cell_type": "code",
   "execution_count": 2392,
   "metadata": {},
   "outputs": [],
   "source": [
    "df.drop([\"body\"], axis=1, inplace=True)"
   ]
  },
  {
   "cell_type": "code",
   "execution_count": null,
   "metadata": {},
   "outputs": [],
   "source": []
  },
  {
   "cell_type": "markdown",
   "metadata": {},
   "source": [
    "## price (target column)"
   ]
  },
  {
   "cell_type": "code",
   "execution_count": 2393,
   "metadata": {},
   "outputs": [
    {
     "data": {
      "text/plain": [
       "14990    154\n",
       "15990    151\n",
       "10990    139\n",
       "15900    106\n",
       "17990    102\n",
       "        ... \n",
       "17559      1\n",
       "17560      1\n",
       "17570      1\n",
       "17575      1\n",
       "39875      1\n",
       "Name: price, Length: 2956, dtype: int64"
      ]
     },
     "execution_count": 2393,
     "metadata": {},
     "output_type": "execute_result"
    }
   ],
   "source": [
    "df['price'].value_counts(dropna=False)"
   ]
  },
  {
   "cell_type": "code",
   "execution_count": 2394,
   "metadata": {},
   "outputs": [
    {
     "data": {
      "text/plain": [
       "0"
      ]
     },
     "execution_count": 2394,
     "metadata": {},
     "output_type": "execute_result"
    }
   ],
   "source": [
    "df['price'].isnull().sum() "
   ]
  },
  {
   "cell_type": "code",
   "execution_count": 2395,
   "metadata": {},
   "outputs": [
    {
     "data": {
      "image/png": "[encoded data removed]",
      "text/plain": [
       "<Figure size 720x432 with 1 Axes>"
      ]
     },
     "metadata": {},
     "output_type": "display_data"
    }
   ],
   "source": [
    "sns.boxplot(df.price)\n",
    "plt.show()"
   ]
  },
  {
   "cell_type": "code",
   "execution_count": 2396,
   "metadata": {},
   "outputs": [
    {
     "data": {
      "image/png": "[encoded data removed]",
      "text/plain": [
       "<Figure size 720x432 with 1 Axes>"
      ]
     },
     "metadata": {},
     "output_type": "display_data"
    }
   ],
   "source": [
    "sns.distplot(df.price);"
   ]
  },
  {
   "cell_type": "code",
   "execution_count": null,
   "metadata": {},
   "outputs": [],
   "source": []
  },
  {
   "cell_type": "markdown",
   "metadata": {},
   "source": [
    "## vat\n",
    "The **``\"Value Added Tax\"``** (VAT) in the European Union is a general, broadly based consumption tax assessed on the value added to goods and services."
   ]
  },
  {
   "cell_type": "code",
   "execution_count": 2397,
   "metadata": {},
   "outputs": [
    {
     "data": {
      "text/plain": [
       "VAT deductible      10980\n",
       "Price negotiable      426\n",
       "Name: vat, dtype: int64"
      ]
     },
     "execution_count": 2397,
     "metadata": {},
     "output_type": "execute_result"
    }
   ],
   "source": [
    "df['vat'].value_counts()"
   ]
  },
  {
   "cell_type": "code",
   "execution_count": 2398,
   "metadata": {},
   "outputs": [
    {
     "data": {
      "text/plain": [
       "4513"
      ]
     },
     "execution_count": 2398,
     "metadata": {},
     "output_type": "execute_result"
    }
   ],
   "source": [
    "df['vat'].isnull().sum()"
   ]
  },
  {
   "cell_type": "code",
   "execution_count": 2399,
   "metadata": {},
   "outputs": [
    {
     "data": {
      "text/plain": [
       "4664     VAT deductible\n",
       "2346     VAT deductible\n",
       "14778    VAT deductible\n",
       "564      VAT deductible\n",
       "7240     VAT deductible\n",
       "13298              None\n",
       "6058     VAT deductible\n",
       "5304     VAT deductible\n",
       "1209     VAT deductible\n",
       "7393     VAT deductible\n",
       "Name: vat, dtype: object"
      ]
     },
     "execution_count": 2399,
     "metadata": {},
     "output_type": "execute_result"
    }
   ],
   "source": [
    "df.vat.sample(10)"
   ]
  },
  {
   "cell_type": "code",
   "execution_count": 2400,
   "metadata": {
    "scrolled": true
   },
   "outputs": [
    {
     "data": {
      "text/plain": [
       "url                              https://www.autoscout24.com//offers/audi-a3-a3...\n",
       "make_model                                                                 Audi A3\n",
       "short_description                                           A3 SB 1.0 TFSI intense\n",
       "body_type                                                                   Sedans\n",
       "price                                                                        22500\n",
       "vat                                                                           None\n",
       "km                                                                       10,395 km\n",
       "registration                                                               02/2018\n",
       "prev_owner                                                                    None\n",
       "k_w                                                                            NaN\n",
       "hp                                                                           85 kW\n",
       "type                                                          [, Used, , Gasoline]\n",
       "previous_owners                                                                NaN\n",
       "next_inspection                                                                NaN\n",
       "inspection_new                                                                 NaN\n",
       "warranty                                                                       NaN\n",
       "full_service                                                                    \\n\n",
       "non_smoking_vehicle                                                            NaN\n",
       "null                                                                            []\n",
       "offer_number                                                       [\\n110-13878\\n]\n",
       "first_registration                                                  [\\n, 2018, \\n]\n",
       "body_color                                                          [\\n, Blue, \\n]\n",
       "paint_type                                                          [\\nMetallic\\n]\n",
       "body_color_original                                      [\\nKosmosblau Metallic\\n]\n",
       "upholstery                                                                     NaN\n",
       "nr_of_doors                                                                [\\n4\\n]\n",
       "nr_of_seats                                                                [\\n5\\n]\n",
       "model_code                                                                     NaN\n",
       "gearing_type                                                   [\\n, Automatic, \\n]\n",
       "displacement                                                          [\\n999 cc\\n]\n",
       "cylinders                                                                      NaN\n",
       "weight                                                              [\\n1,288 kg\\n]\n",
       "drive_chain                                                            [\\nfront\\n]\n",
       "fuel                                                            [\\n, Gasoline, \\n]\n",
       "consumption                                        [[4.7 l/100 km (comb)], [], []]\n",
       "co_2_emission                                                                  NaN\n",
       "emission_class                                                                 NaN\n",
       "comfort_&_convenience            [Air conditioning, Armrest, Automatic climate ...\n",
       "entertainment_&_media            [CD player, Hands-free equipment, On-board com...\n",
       "extras                                                              [Alloy wheels]\n",
       "safety_&_security                [ABS, Electronic stability control, Fog lights...\n",
       "emission_label                                                                 NaN\n",
       "gears                                                                          NaN\n",
       "country_version                                                                NaN\n",
       "electricity_consumption                                                        NaN\n",
       "last_service_date                                                              NaN\n",
       "other_fuel_types                                                               NaN\n",
       "availability                                                                   NaN\n",
       "last_timing_belt_service_date                                                  NaN\n",
       "available_from                                                                 NaN\n",
       "Name: 4676, dtype: object"
      ]
     },
     "execution_count": 2400,
     "metadata": {},
     "output_type": "execute_result"
    }
   ],
   "source": [
    "df.iloc[4676] # random check of vat "
   ]
  },
  {
   "cell_type": "markdown",
   "metadata": {},
   "source": [
    "## KM"
   ]
  },
  {
   "cell_type": "code",
   "execution_count": 2401,
   "metadata": {
    "scrolled": false
   },
   "outputs": [
    {
     "data": {
      "text/plain": [
       "10 km        1045\n",
       "- km         1024\n",
       "1 km          367\n",
       "5 km          170\n",
       "50 km         148\n",
       "             ... \n",
       "67,469 km       1\n",
       "43,197 km       1\n",
       "10,027 km       1\n",
       "35,882 km       1\n",
       "57 km           1\n",
       "Name: km, Length: 6690, dtype: int64"
      ]
     },
     "execution_count": 2401,
     "metadata": {},
     "output_type": "execute_result"
    }
   ],
   "source": [
    "df['km'].value_counts()"
   ]
  },
  {
   "cell_type": "code",
   "execution_count": 2402,
   "metadata": {
    "scrolled": true
   },
   "outputs": [
    {
     "data": {
      "text/plain": [
       "0"
      ]
     },
     "execution_count": 2402,
     "metadata": {},
     "output_type": "execute_result"
    }
   ],
   "source": [
    "df['km'].isnull().sum() "
   ]
  },
  {
   "cell_type": "code",
   "execution_count": 2403,
   "metadata": {},
   "outputs": [
    {
     "data": {
      "text/plain": [
       "4631           1 km\n",
       "1054      12,688 km\n",
       "9452      45,000 km\n",
       "13856     90,000 km\n",
       "6967      83,436 km\n",
       "5274         300 km\n",
       "6363      21,379 km\n",
       "11067     50,000 km\n",
       "1053       8,400 km\n",
       "11820     21,961 km\n",
       "4578      17,900 km\n",
       "6945      21,896 km\n",
       "8543      22,729 km\n",
       "3560      31,992 km\n",
       "10081         10 km\n",
       "2575          10 km\n",
       "3046     123,226 km\n",
       "992       14,270 km\n",
       "11779      1,530 km\n",
       "10574     52,501 km\n",
       "Name: km, dtype: object"
      ]
     },
     "execution_count": 2403,
     "metadata": {},
     "output_type": "execute_result"
    }
   ],
   "source": [
    "df.km.sample(20)"
   ]
  },
  {
   "cell_type": "code",
   "execution_count": 2404,
   "metadata": {},
   "outputs": [],
   "source": [
    "df.km = df.km.str.replace(',', '').str.extract('(\\d{1,8})').astype(\"float\") # str.extract('(\\d+)')"
   ]
  },
  {
   "cell_type": "code",
   "execution_count": 2405,
   "metadata": {},
   "outputs": [
    {
     "data": {
      "text/plain": [
       "url                               object\n",
       "make_model                        object\n",
       "short_description                 object\n",
       "body_type                         object\n",
       "price                              int64\n",
       "vat                               object\n",
       "km                               float64\n",
       "registration                      object\n",
       "prev_owner                        object\n",
       "k_w                              float64\n",
       "hp                                object\n",
       "type                              object\n",
       "previous_owners                   object\n",
       "next_inspection                   object\n",
       "inspection_new                    object\n",
       "warranty                          object\n",
       "full_service                      object\n",
       "non_smoking_vehicle               object\n",
       "null                              object\n",
       "offer_number                      object\n",
       "first_registration                object\n",
       "body_color                        object\n",
       "paint_type                        object\n",
       "body_color_original               object\n",
       "upholstery                        object\n",
       "nr_of_doors                       object\n",
       "nr_of_seats                       object\n",
       "model_code                        object\n",
       "gearing_type                      object\n",
       "displacement                      object\n",
       "cylinders                         object\n",
       "weight                            object\n",
       "drive_chain                       object\n",
       "fuel                              object\n",
       "consumption                       object\n",
       "co_2_emission                     object\n",
       "emission_class                    object\n",
       "comfort_&_convenience             object\n",
       "entertainment_&_media             object\n",
       "extras                            object\n",
       "safety_&_security                 object\n",
       "emission_label                    object\n",
       "gears                             object\n",
       "country_version                   object\n",
       "electricity_consumption           object\n",
       "last_service_date                 object\n",
       "other_fuel_types                  object\n",
       "availability                      object\n",
       "last_timing_belt_service_date     object\n",
       "available_from                    object\n",
       "dtype: object"
      ]
     },
     "execution_count": 2405,
     "metadata": {},
     "output_type": "execute_result"
    }
   ],
   "source": [
    "df.dtypes"
   ]
  },
  {
   "cell_type": "markdown",
   "metadata": {},
   "source": [
    "### km replace \"km, -,  , \" to\n",
    "2nd way"
   ]
  },
  {
   "cell_type": "code",
   "execution_count": 2406,
   "metadata": {},
   "outputs": [],
   "source": [
    "#df[\"km\"] = df.km.replace({\"km\":\"\", \"-\":0, \" \":\"\", \",\":\"\"}, regex=True).astype(int)"
   ]
  },
  {
   "cell_type": "code",
   "execution_count": 2407,
   "metadata": {},
   "outputs": [
    {
     "data": {
      "text/plain": [
       "0   56013.000\n",
       "1   80000.000\n",
       "2   83450.000\n",
       "3   73000.000\n",
       "4   16200.000\n",
       "Name: km, dtype: float64"
      ]
     },
     "execution_count": 2407,
     "metadata": {},
     "output_type": "execute_result"
    }
   ],
   "source": [
    "df.km.head()"
   ]
  },
  {
   "cell_type": "code",
   "execution_count": 2408,
   "metadata": {},
   "outputs": [
    {
     "data": {
      "text/plain": [
       "10.000       1045\n",
       "NaN          1024\n",
       "1.000         367\n",
       "5.000         170\n",
       "50.000        148\n",
       "             ... \n",
       "67469.000       1\n",
       "43197.000       1\n",
       "10027.000       1\n",
       "35882.000       1\n",
       "57.000          1\n",
       "Name: km, Length: 6690, dtype: int64"
      ]
     },
     "execution_count": 2408,
     "metadata": {},
     "output_type": "execute_result"
    }
   ],
   "source": [
    "df.km.value_counts(dropna=False)"
   ]
  },
  {
   "cell_type": "markdown",
   "metadata": {},
   "source": [
    "## registration and first registration"
   ]
  },
  {
   "cell_type": "code",
   "execution_count": 2409,
   "metadata": {
    "scrolled": false
   },
   "outputs": [
    {
     "data": {
      "text/plain": [
       "15919"
      ]
     },
     "execution_count": 2409,
     "metadata": {},
     "output_type": "execute_result"
    }
   ],
   "source": [
    "df['registration'].value_counts(dropna=False).sum()"
   ]
  },
  {
   "cell_type": "code",
   "execution_count": 2410,
   "metadata": {},
   "outputs": [
    {
     "data": {
      "text/plain": [
       "0    01/2016\n",
       "1    03/2017\n",
       "2    02/2016\n",
       "3    08/2016\n",
       "4    05/2016\n",
       "Name: registration, dtype: object"
      ]
     },
     "execution_count": 2410,
     "metadata": {},
     "output_type": "execute_result"
    }
   ],
   "source": [
    "df.registration.head()"
   ]
  },
  {
   "cell_type": "code",
   "execution_count": 2411,
   "metadata": {
    "scrolled": true
   },
   "outputs": [
    {
     "data": {
      "text/plain": [
       "0"
      ]
     },
     "execution_count": 2411,
     "metadata": {},
     "output_type": "execute_result"
    }
   ],
   "source": [
    "df['registration'].isnull().sum() "
   ]
  },
  {
   "cell_type": "code",
   "execution_count": 2412,
   "metadata": {},
   "outputs": [
    {
     "data": {
      "text/html": [
       "<div>\n",
       "<style scoped>\n",
       "    .dataframe tbody tr th:only-of-type {\n",
       "        vertical-align: middle;\n",
       "    }\n",
       "\n",
       "    .dataframe tbody tr th {\n",
       "        vertical-align: top;\n",
       "    }\n",
       "\n",
       "    .dataframe thead th {\n",
       "        text-align: right;\n",
       "    }\n",
       "</style>\n",
       "<table border=\"1\" class=\"dataframe\">\n",
       "  <thead>\n",
       "    <tr style=\"text-align: right;\">\n",
       "      <th></th>\n",
       "      <th>registration</th>\n",
       "      <th>first_registration</th>\n",
       "    </tr>\n",
       "  </thead>\n",
       "  <tbody>\n",
       "    <tr>\n",
       "      <th>13329</th>\n",
       "      <td>04/2016</td>\n",
       "      <td>[\\n, 2016, \\n]</td>\n",
       "    </tr>\n",
       "    <tr>\n",
       "      <th>6913</th>\n",
       "      <td>01/2018</td>\n",
       "      <td>[\\n, 2018, \\n]</td>\n",
       "    </tr>\n",
       "    <tr>\n",
       "      <th>1889</th>\n",
       "      <td>05/2019</td>\n",
       "      <td>[\\n, 2019, \\n]</td>\n",
       "    </tr>\n",
       "    <tr>\n",
       "      <th>11455</th>\n",
       "      <td>01/2017</td>\n",
       "      <td>[\\n, 2017, \\n]</td>\n",
       "    </tr>\n",
       "    <tr>\n",
       "      <th>498</th>\n",
       "      <td>01/2016</td>\n",
       "      <td>[\\n, 2016, \\n]</td>\n",
       "    </tr>\n",
       "    <tr>\n",
       "      <th>7218</th>\n",
       "      <td>06/2018</td>\n",
       "      <td>[\\n, 2018, \\n]</td>\n",
       "    </tr>\n",
       "    <tr>\n",
       "      <th>4146</th>\n",
       "      <td>03/2017</td>\n",
       "      <td>[\\n, 2017, \\n]</td>\n",
       "    </tr>\n",
       "    <tr>\n",
       "      <th>10000</th>\n",
       "      <td>05/2019</td>\n",
       "      <td>[\\n, 2019, \\n]</td>\n",
       "    </tr>\n",
       "    <tr>\n",
       "      <th>12104</th>\n",
       "      <td>01/2018</td>\n",
       "      <td>[\\n, 2018, \\n]</td>\n",
       "    </tr>\n",
       "    <tr>\n",
       "      <th>15297</th>\n",
       "      <td>04/2019</td>\n",
       "      <td>[\\n, 2019, \\n]</td>\n",
       "    </tr>\n",
       "    <tr>\n",
       "      <th>6239</th>\n",
       "      <td>05/2016</td>\n",
       "      <td>[\\n, 2016, \\n]</td>\n",
       "    </tr>\n",
       "    <tr>\n",
       "      <th>14347</th>\n",
       "      <td>-/-</td>\n",
       "      <td>NaN</td>\n",
       "    </tr>\n",
       "    <tr>\n",
       "      <th>3812</th>\n",
       "      <td>-/-</td>\n",
       "      <td>NaN</td>\n",
       "    </tr>\n",
       "    <tr>\n",
       "      <th>5264</th>\n",
       "      <td>-/-</td>\n",
       "      <td>NaN</td>\n",
       "    </tr>\n",
       "    <tr>\n",
       "      <th>8930</th>\n",
       "      <td>05/2016</td>\n",
       "      <td>[\\n, 2016, \\n]</td>\n",
       "    </tr>\n",
       "  </tbody>\n",
       "</table>\n",
       "</div>"
      ],
      "text/plain": [
       "      registration first_registration\n",
       "13329      04/2016     [\\n, 2016, \\n]\n",
       "6913       01/2018     [\\n, 2018, \\n]\n",
       "1889       05/2019     [\\n, 2019, \\n]\n",
       "11455      01/2017     [\\n, 2017, \\n]\n",
       "498        01/2016     [\\n, 2016, \\n]\n",
       "7218       06/2018     [\\n, 2018, \\n]\n",
       "4146       03/2017     [\\n, 2017, \\n]\n",
       "10000      05/2019     [\\n, 2019, \\n]\n",
       "12104      01/2018     [\\n, 2018, \\n]\n",
       "15297      04/2019     [\\n, 2019, \\n]\n",
       "6239       05/2016     [\\n, 2016, \\n]\n",
       "14347          -/-                NaN\n",
       "3812           -/-                NaN\n",
       "5264           -/-                NaN\n",
       "8930       05/2016     [\\n, 2016, \\n]"
      ]
     },
     "execution_count": 2412,
     "metadata": {},
     "output_type": "execute_result"
    }
   ],
   "source": [
    "df[[\"registration\",\"first_registration\"]].sample(15)"
   ]
  },
  {
   "cell_type": "code",
   "execution_count": 2413,
   "metadata": {},
   "outputs": [
    {
     "data": {
      "text/plain": [
       "['\\n', '2018', '\\n']    4522\n",
       "['\\n', '2016', '\\n']    3674\n",
       "['\\n', '2017', '\\n']    3273\n",
       "['\\n', '2019', '\\n']    2853\n",
       "nan                     1597\n",
       "Name: first_registration, dtype: int64"
      ]
     },
     "execution_count": 2413,
     "metadata": {},
     "output_type": "execute_result"
    }
   ],
   "source": [
    "df[\"first_registration\"].astype('str').value_counts(dropna=False)"
   ]
  },
  {
   "cell_type": "code",
   "execution_count": null,
   "metadata": {},
   "outputs": [],
   "source": []
  },
  {
   "cell_type": "markdown",
   "metadata": {},
   "source": [
    "### Removing \\n from First Registration"
   ]
  },
  {
   "cell_type": "code",
   "execution_count": 2414,
   "metadata": {},
   "outputs": [],
   "source": [
    "df.first_registration = df[\"first_registration\"].str[1].astype(\"float\")"
   ]
  },
  {
   "cell_type": "code",
   "execution_count": 2415,
   "metadata": {},
   "outputs": [
    {
     "data": {
      "text/plain": [
       "0   2016.000\n",
       "1   2017.000\n",
       "2   2016.000\n",
       "3   2016.000\n",
       "4   2016.000\n",
       "Name: first_registration, dtype: float64"
      ]
     },
     "execution_count": 2415,
     "metadata": {},
     "output_type": "execute_result"
    }
   ],
   "source": [
    "df[\"first_registration\"].head()"
   ]
  },
  {
   "cell_type": "code",
   "execution_count": 2416,
   "metadata": {},
   "outputs": [],
   "source": [
    "## datetime veya integer yapmali mi ?"
   ]
  },
  {
   "cell_type": "markdown",
   "metadata": {},
   "source": [
    "### age column yapalim"
   ]
  },
  {
   "cell_type": "code",
   "execution_count": 2417,
   "metadata": {},
   "outputs": [],
   "source": [
    "df['age'] = 2019 - df[\"first_registration\"]"
   ]
  },
  {
   "cell_type": "code",
   "execution_count": 2418,
   "metadata": {},
   "outputs": [
    {
     "data": {
      "text/plain": [
       "1.000    4522\n",
       "3.000    3674\n",
       "2.000    3273\n",
       "0.000    2853\n",
       "NaN      1597\n",
       "Name: age, dtype: int64"
      ]
     },
     "execution_count": 2418,
     "metadata": {},
     "output_type": "execute_result"
    }
   ],
   "source": [
    "df.age.value_counts(dropna=False)"
   ]
  },
  {
   "cell_type": "code",
   "execution_count": 2419,
   "metadata": {},
   "outputs": [],
   "source": [
    "df.drop([\"registration\", \"first_registration\"], axis=1, inplace=True)"
   ]
  },
  {
   "cell_type": "code",
   "execution_count": 2420,
   "metadata": {},
   "outputs": [
    {
     "data": {
      "text/plain": [
       "0       3.000\n",
       "1       2.000\n",
       "2       3.000\n",
       "3       3.000\n",
       "4       3.000\n",
       "         ... \n",
       "15914     NaN\n",
       "15915   0.000\n",
       "15916   0.000\n",
       "15917   0.000\n",
       "15918   0.000\n",
       "Name: age, Length: 15919, dtype: float64"
      ]
     },
     "execution_count": 2420,
     "metadata": {},
     "output_type": "execute_result"
    }
   ],
   "source": [
    "df.age"
   ]
  },
  {
   "cell_type": "markdown",
   "metadata": {},
   "source": [
    "## prev_owner vs previous owners"
   ]
  },
  {
   "cell_type": "code",
   "execution_count": 2421,
   "metadata": {},
   "outputs": [
    {
     "data": {
      "text/plain": [
       "1 previous owner     8294\n",
       "None                 6828\n",
       "2 previous owners     778\n",
       "3 previous owners      17\n",
       "4 previous owners       2\n",
       "Name: prev_owner, dtype: int64"
      ]
     },
     "execution_count": 2421,
     "metadata": {},
     "output_type": "execute_result"
    }
   ],
   "source": [
    "df['prev_owner'].value_counts(dropna=False)"
   ]
  },
  {
   "cell_type": "code",
   "execution_count": 2422,
   "metadata": {},
   "outputs": [
    {
     "data": {
      "text/plain": [
       "6828"
      ]
     },
     "execution_count": 2422,
     "metadata": {},
     "output_type": "execute_result"
    }
   ],
   "source": [
    "df['prev_owner'].isnull().sum() "
   ]
  },
  {
   "cell_type": "code",
   "execution_count": 2423,
   "metadata": {},
   "outputs": [
    {
     "data": {
      "text/html": [
       "<div>\n",
       "<style scoped>\n",
       "    .dataframe tbody tr th:only-of-type {\n",
       "        vertical-align: middle;\n",
       "    }\n",
       "\n",
       "    .dataframe tbody tr th {\n",
       "        vertical-align: top;\n",
       "    }\n",
       "\n",
       "    .dataframe thead th {\n",
       "        text-align: right;\n",
       "    }\n",
       "</style>\n",
       "<table border=\"1\" class=\"dataframe\">\n",
       "  <thead>\n",
       "    <tr style=\"text-align: right;\">\n",
       "      <th></th>\n",
       "      <th>prev_owner</th>\n",
       "      <th>previous_owners</th>\n",
       "    </tr>\n",
       "  </thead>\n",
       "  <tbody>\n",
       "    <tr>\n",
       "      <th>9072</th>\n",
       "      <td>2 previous owners</td>\n",
       "      <td>\\n2\\n</td>\n",
       "    </tr>\n",
       "    <tr>\n",
       "      <th>9590</th>\n",
       "      <td>1 previous owner</td>\n",
       "      <td>\\n1\\n</td>\n",
       "    </tr>\n",
       "    <tr>\n",
       "      <th>15229</th>\n",
       "      <td>None</td>\n",
       "      <td>NaN</td>\n",
       "    </tr>\n",
       "    <tr>\n",
       "      <th>9442</th>\n",
       "      <td>1 previous owner</td>\n",
       "      <td>\\n1\\n</td>\n",
       "    </tr>\n",
       "    <tr>\n",
       "      <th>4786</th>\n",
       "      <td>1 previous owner</td>\n",
       "      <td>\\n1\\n</td>\n",
       "    </tr>\n",
       "    <tr>\n",
       "      <th>12721</th>\n",
       "      <td>None</td>\n",
       "      <td>NaN</td>\n",
       "    </tr>\n",
       "    <tr>\n",
       "      <th>6420</th>\n",
       "      <td>None</td>\n",
       "      <td>NaN</td>\n",
       "    </tr>\n",
       "    <tr>\n",
       "      <th>11356</th>\n",
       "      <td>1 previous owner</td>\n",
       "      <td>\\n1\\n</td>\n",
       "    </tr>\n",
       "    <tr>\n",
       "      <th>2450</th>\n",
       "      <td>None</td>\n",
       "      <td>\\n0\\n</td>\n",
       "    </tr>\n",
       "    <tr>\n",
       "      <th>7189</th>\n",
       "      <td>1 previous owner</td>\n",
       "      <td>\\n1\\n</td>\n",
       "    </tr>\n",
       "    <tr>\n",
       "      <th>5231</th>\n",
       "      <td>None</td>\n",
       "      <td>NaN</td>\n",
       "    </tr>\n",
       "    <tr>\n",
       "      <th>10064</th>\n",
       "      <td>1 previous owner</td>\n",
       "      <td>\\n1\\n</td>\n",
       "    </tr>\n",
       "    <tr>\n",
       "      <th>14123</th>\n",
       "      <td>1 previous owner</td>\n",
       "      <td>\\n1\\n</td>\n",
       "    </tr>\n",
       "    <tr>\n",
       "      <th>11727</th>\n",
       "      <td>1 previous owner</td>\n",
       "      <td>\\n1\\n</td>\n",
       "    </tr>\n",
       "    <tr>\n",
       "      <th>12413</th>\n",
       "      <td>None</td>\n",
       "      <td>NaN</td>\n",
       "    </tr>\n",
       "  </tbody>\n",
       "</table>\n",
       "</div>"
      ],
      "text/plain": [
       "              prev_owner previous_owners\n",
       "9072   2 previous owners           \\n2\\n\n",
       "9590    1 previous owner           \\n1\\n\n",
       "15229               None             NaN\n",
       "9442    1 previous owner           \\n1\\n\n",
       "4786    1 previous owner           \\n1\\n\n",
       "12721               None             NaN\n",
       "6420                None             NaN\n",
       "11356   1 previous owner           \\n1\\n\n",
       "2450                None           \\n0\\n\n",
       "7189    1 previous owner           \\n1\\n\n",
       "5231                None             NaN\n",
       "10064   1 previous owner           \\n1\\n\n",
       "14123   1 previous owner           \\n1\\n\n",
       "11727   1 previous owner           \\n1\\n\n",
       "12413               None             NaN"
      ]
     },
     "execution_count": 2423,
     "metadata": {},
     "output_type": "execute_result"
    }
   ],
   "source": [
    "df[[\"prev_owner\",\"previous_owners\"]].sample(15)"
   ]
  },
  {
   "cell_type": "code",
   "execution_count": 2424,
   "metadata": {},
   "outputs": [
    {
     "data": {
      "text/plain": [
       "6640"
      ]
     },
     "execution_count": 2424,
     "metadata": {},
     "output_type": "execute_result"
    }
   ],
   "source": [
    "df['previous_owners'].isnull().sum() "
   ]
  },
  {
   "cell_type": "markdown",
   "metadata": {},
   "source": [
    "### prev_owner get number\n"
   ]
  },
  {
   "cell_type": "code",
   "execution_count": 2425,
   "metadata": {},
   "outputs": [],
   "source": [
    "df.prev_owner = df.prev_owner.str.extract('(\\d)')"
   ]
  },
  {
   "cell_type": "code",
   "execution_count": 2426,
   "metadata": {},
   "outputs": [
    {
     "data": {
      "text/plain": [
       "14723    NaN\n",
       "4238     NaN\n",
       "2874       1\n",
       "6847     NaN\n",
       "334      NaN\n",
       "741      NaN\n",
       "3063     NaN\n",
       "13449      2\n",
       "10485      2\n",
       "7747       1\n",
       "11551      2\n",
       "8207     NaN\n",
       "10378      1\n",
       "244      NaN\n",
       "14129      1\n",
       "10700      1\n",
       "15483    NaN\n",
       "6467       2\n",
       "50         1\n",
       "13939    NaN\n",
       "Name: prev_owner, dtype: object"
      ]
     },
     "execution_count": 2426,
     "metadata": {},
     "output_type": "execute_result"
    }
   ],
   "source": [
    "df.prev_owner.sample(20)"
   ]
  },
  {
   "cell_type": "code",
   "execution_count": 2427,
   "metadata": {},
   "outputs": [
    {
     "data": {
      "text/plain": [
       "1      8294\n",
       "NaN    6828\n",
       "2       778\n",
       "3        17\n",
       "4         2\n",
       "Name: prev_owner, dtype: int64"
      ]
     },
     "execution_count": 2427,
     "metadata": {},
     "output_type": "execute_result"
    }
   ],
   "source": [
    "df.prev_owner.value_counts(dropna=False)"
   ]
  },
  {
   "cell_type": "markdown",
   "metadata": {},
   "source": [
    "### Previous Owners get number"
   ]
  },
  {
   "cell_type": "code",
   "execution_count": 2428,
   "metadata": {},
   "outputs": [
    {
     "data": {
      "text/plain": [
       "0          2\n",
       "1        NaN\n",
       "2          1\n",
       "3          1\n",
       "4          1\n",
       "        ... \n",
       "15914    NaN\n",
       "15915      1\n",
       "15916      1\n",
       "15917    NaN\n",
       "15918      1\n",
       "Name: previous_owners, Length: 15919, dtype: object"
      ]
     },
     "execution_count": 2428,
     "metadata": {},
     "output_type": "execute_result"
    }
   ],
   "source": [
    "df[\"previous_owners\"] = df[\"previous_owners\"].apply(\n",
    "    lambda x: x[0] if type(x) == list else x).replace('\\\\n', '', regex=True)\n",
    "df[\"previous_owners\"]"
   ]
  },
  {
   "cell_type": "code",
   "execution_count": 2429,
   "metadata": {},
   "outputs": [
    {
     "data": {
      "text/plain": [
       "1      8294\n",
       "NaN    6640\n",
       "2       778\n",
       "0       188\n",
       "3        17\n",
       "4         2\n",
       "Name: previous_owners, dtype: int64"
      ]
     },
     "execution_count": 2429,
     "metadata": {},
     "output_type": "execute_result"
    }
   ],
   "source": [
    "df[\"previous_owners\"].value_counts(dropna=False)"
   ]
  },
  {
   "cell_type": "code",
   "execution_count": 2430,
   "metadata": {},
   "outputs": [
    {
     "data": {
      "text/plain": [
       "1    8294\n",
       "2     778\n",
       "3      17\n",
       "4       2\n",
       "Name: prev_owner, dtype: int64"
      ]
     },
     "execution_count": 2430,
     "metadata": {},
     "output_type": "execute_result"
    }
   ],
   "source": [
    "df.prev_owner.value_counts()"
   ]
  },
  {
   "cell_type": "code",
   "execution_count": null,
   "metadata": {},
   "outputs": [],
   "source": []
  },
  {
   "cell_type": "code",
   "execution_count": null,
   "metadata": {},
   "outputs": [],
   "source": []
  },
  {
   "cell_type": "code",
   "execution_count": null,
   "metadata": {},
   "outputs": [],
   "source": []
  },
  {
   "cell_type": "code",
   "execution_count": 2431,
   "metadata": {
    "scrolled": false
   },
   "outputs": [
    {
     "data": {
      "text/html": [
       "<div>\n",
       "<style scoped>\n",
       "    .dataframe tbody tr th:only-of-type {\n",
       "        vertical-align: middle;\n",
       "    }\n",
       "\n",
       "    .dataframe tbody tr th {\n",
       "        vertical-align: top;\n",
       "    }\n",
       "\n",
       "    .dataframe thead th {\n",
       "        text-align: right;\n",
       "    }\n",
       "</style>\n",
       "<table border=\"1\" class=\"dataframe\">\n",
       "  <thead>\n",
       "    <tr style=\"text-align: right;\">\n",
       "      <th></th>\n",
       "      <th>prev_owner</th>\n",
       "      <th>previous_owners</th>\n",
       "    </tr>\n",
       "  </thead>\n",
       "  <tbody>\n",
       "    <tr>\n",
       "      <th>0</th>\n",
       "      <td>2</td>\n",
       "      <td>2</td>\n",
       "    </tr>\n",
       "    <tr>\n",
       "      <th>1</th>\n",
       "      <td>NaN</td>\n",
       "      <td>NaN</td>\n",
       "    </tr>\n",
       "    <tr>\n",
       "      <th>2</th>\n",
       "      <td>1</td>\n",
       "      <td>1</td>\n",
       "    </tr>\n",
       "    <tr>\n",
       "      <th>3</th>\n",
       "      <td>1</td>\n",
       "      <td>1</td>\n",
       "    </tr>\n",
       "    <tr>\n",
       "      <th>4</th>\n",
       "      <td>1</td>\n",
       "      <td>1</td>\n",
       "    </tr>\n",
       "    <tr>\n",
       "      <th>5</th>\n",
       "      <td>1</td>\n",
       "      <td>1</td>\n",
       "    </tr>\n",
       "    <tr>\n",
       "      <th>6</th>\n",
       "      <td>1</td>\n",
       "      <td>1</td>\n",
       "    </tr>\n",
       "    <tr>\n",
       "      <th>7</th>\n",
       "      <td>1</td>\n",
       "      <td>1</td>\n",
       "    </tr>\n",
       "    <tr>\n",
       "      <th>8</th>\n",
       "      <td>1</td>\n",
       "      <td>1</td>\n",
       "    </tr>\n",
       "    <tr>\n",
       "      <th>9</th>\n",
       "      <td>NaN</td>\n",
       "      <td>NaN</td>\n",
       "    </tr>\n",
       "  </tbody>\n",
       "</table>\n",
       "</div>"
      ],
      "text/plain": [
       "  prev_owner previous_owners\n",
       "0          2               2\n",
       "1        NaN             NaN\n",
       "2          1               1\n",
       "3          1               1\n",
       "4          1               1\n",
       "5          1               1\n",
       "6          1               1\n",
       "7          1               1\n",
       "8          1               1\n",
       "9        NaN             NaN"
      ]
     },
     "execution_count": 2431,
     "metadata": {},
     "output_type": "execute_result"
    }
   ],
   "source": [
    "df[[\"prev_owner\",\"previous_owners\"]].head(10)"
   ]
  },
  {
   "cell_type": "code",
   "execution_count": 2432,
   "metadata": {},
   "outputs": [],
   "source": [
    "df[\"previous_owners\"].fillna(df[\"prev_owner\"], inplace=True)"
   ]
  },
  {
   "cell_type": "code",
   "execution_count": 2433,
   "metadata": {
    "scrolled": true
   },
   "outputs": [
    {
     "data": {
      "text/plain": [
       "1      8294\n",
       "NaN    6640\n",
       "2       778\n",
       "0       188\n",
       "3        17\n",
       "4         2\n",
       "Name: previous_owners, dtype: int64"
      ]
     },
     "execution_count": 2433,
     "metadata": {},
     "output_type": "execute_result"
    }
   ],
   "source": [
    "df.previous_owners.value_counts(dropna=False)"
   ]
  },
  {
   "cell_type": "code",
   "execution_count": 2434,
   "metadata": {},
   "outputs": [],
   "source": [
    "df.drop([\"prev_owner\", \"previous_owners\"], axis=1, inplace=True)"
   ]
  },
  {
   "cell_type": "code",
   "execution_count": null,
   "metadata": {},
   "outputs": [],
   "source": []
  },
  {
   "cell_type": "markdown",
   "metadata": {},
   "source": [
    "## kW"
   ]
  },
  {
   "cell_type": "code",
   "execution_count": 2435,
   "metadata": {
    "scrolled": true
   },
   "outputs": [
    {
     "data": {
      "text/plain": [
       "Series([], Name: k_w, dtype: int64)"
      ]
     },
     "execution_count": 2435,
     "metadata": {},
     "output_type": "execute_result"
    }
   ],
   "source": [
    "df.k_w.value_counts()"
   ]
  },
  {
   "cell_type": "code",
   "execution_count": 2436,
   "metadata": {
    "scrolled": true
   },
   "outputs": [
    {
     "data": {
      "text/plain": [
       "15919"
      ]
     },
     "execution_count": 2436,
     "metadata": {},
     "output_type": "execute_result"
    }
   ],
   "source": [
    "df['k_w'].isnull().sum() "
   ]
  },
  {
   "cell_type": "code",
   "execution_count": 2437,
   "metadata": {},
   "outputs": [],
   "source": [
    "df.drop([\"k_w\"], axis=1, inplace=True)"
   ]
  },
  {
   "cell_type": "markdown",
   "metadata": {},
   "source": [
    "## hp"
   ]
  },
  {
   "cell_type": "code",
   "execution_count": 2438,
   "metadata": {
    "scrolled": true
   },
   "outputs": [
    {
     "data": {
      "text/plain": [
       "85 kW     2542\n",
       "66 kW     2122\n",
       "81 kW     1402\n",
       "100 kW    1308\n",
       "110 kW    1112\n",
       "70 kW      888\n",
       "125 kW     707\n",
       "51 kW      695\n",
       "55 kW      569\n",
       "118 kW     516\n",
       "92 kW      466\n",
       "121 kW     392\n",
       "147 kW     380\n",
       "77 kW      345\n",
       "56 kW      286\n",
       "54 kW      276\n",
       "103 kW     253\n",
       "87 kW      232\n",
       "165 kW     194\n",
       "88 kW      177\n",
       "60 kW      160\n",
       "162 kW      98\n",
       "- kW        88\n",
       "74 kW       81\n",
       "96 kW       72\n",
       "71 kW       59\n",
       "101 kW      47\n",
       "67 kW       40\n",
       "154 kW      39\n",
       "122 kW      35\n",
       "119 kW      30\n",
       "164 kW      27\n",
       "135 kW      24\n",
       "82 kW       22\n",
       "52 kW       22\n",
       "78 kW       20\n",
       "1 kW        20\n",
       "294 kW      18\n",
       "146 kW      18\n",
       "141 kW      16\n",
       "57 kW       10\n",
       "104 kW       8\n",
       "120 kW       8\n",
       "191 kW       7\n",
       "112 kW       7\n",
       "155 kW       6\n",
       "117 kW       6\n",
       "184 kW       5\n",
       "90 kW        4\n",
       "76 kW        4\n",
       "65 kW        4\n",
       "149 kW       3\n",
       "80 kW        3\n",
       "168 kW       3\n",
       "98 kW        3\n",
       "93 kW        3\n",
       "228 kW       2\n",
       "270 kW       2\n",
       "53 kW        2\n",
       "140 kW       2\n",
       "86 kW        2\n",
       "167 kW       2\n",
       "127 kW       2\n",
       "89 kW        2\n",
       "143 kW       2\n",
       "63 kW        2\n",
       "40 kW        2\n",
       "150 kW       2\n",
       "163 kW       1\n",
       "115 kW       1\n",
       "132 kW       1\n",
       "75 kW        1\n",
       "4 kW         1\n",
       "137 kW       1\n",
       "123 kW       1\n",
       "133 kW       1\n",
       "84 kW        1\n",
       "195 kW       1\n",
       "44 kW        1\n",
       "239 kW       1\n",
       "9 kW         1\n",
       "Name: hp, dtype: int64"
      ]
     },
     "execution_count": 2438,
     "metadata": {},
     "output_type": "execute_result"
    }
   ],
   "source": [
    "df['hp'].value_counts()"
   ]
  },
  {
   "cell_type": "code",
   "execution_count": 2439,
   "metadata": {
    "scrolled": false
   },
   "outputs": [
    {
     "data": {
      "text/plain": [
       "0"
      ]
     },
     "execution_count": 2439,
     "metadata": {},
     "output_type": "execute_result"
    }
   ],
   "source": [
    "df['hp'].isnull().sum() "
   ]
  },
  {
   "cell_type": "markdown",
   "metadata": {},
   "source": [
    "#### hp cleaning "
   ]
  },
  {
   "cell_type": "code",
   "execution_count": 2440,
   "metadata": {},
   "outputs": [],
   "source": [
    "df.hp = df.hp.str.extract('(\\d{1,4})').astype('float')"
   ]
  },
  {
   "cell_type": "code",
   "execution_count": 2441,
   "metadata": {},
   "outputs": [
    {
     "data": {
      "text/plain": [
       "85.000     2542\n",
       "66.000     2122\n",
       "81.000     1402\n",
       "100.000    1308\n",
       "110.000    1112\n",
       "70.000      888\n",
       "125.000     707\n",
       "51.000      695\n",
       "55.000      569\n",
       "118.000     516\n",
       "92.000      466\n",
       "121.000     392\n",
       "147.000     380\n",
       "77.000      345\n",
       "56.000      286\n",
       "54.000      276\n",
       "103.000     253\n",
       "87.000      232\n",
       "165.000     194\n",
       "88.000      177\n",
       "60.000      160\n",
       "162.000      98\n",
       "NaN          88\n",
       "74.000       81\n",
       "96.000       72\n",
       "71.000       59\n",
       "101.000      47\n",
       "67.000       40\n",
       "154.000      39\n",
       "122.000      35\n",
       "119.000      30\n",
       "164.000      27\n",
       "135.000      24\n",
       "82.000       22\n",
       "52.000       22\n",
       "78.000       20\n",
       "1.000        20\n",
       "294.000      18\n",
       "146.000      18\n",
       "141.000      16\n",
       "57.000       10\n",
       "104.000       8\n",
       "120.000       8\n",
       "191.000       7\n",
       "112.000       7\n",
       "155.000       6\n",
       "117.000       6\n",
       "184.000       5\n",
       "90.000        4\n",
       "76.000        4\n",
       "65.000        4\n",
       "149.000       3\n",
       "80.000        3\n",
       "168.000       3\n",
       "98.000        3\n",
       "93.000        3\n",
       "228.000       2\n",
       "270.000       2\n",
       "53.000        2\n",
       "140.000       2\n",
       "86.000        2\n",
       "167.000       2\n",
       "127.000       2\n",
       "89.000        2\n",
       "143.000       2\n",
       "63.000        2\n",
       "40.000        2\n",
       "150.000       2\n",
       "163.000       1\n",
       "115.000       1\n",
       "132.000       1\n",
       "75.000        1\n",
       "4.000         1\n",
       "137.000       1\n",
       "123.000       1\n",
       "133.000       1\n",
       "84.000        1\n",
       "195.000       1\n",
       "44.000        1\n",
       "239.000       1\n",
       "9.000         1\n",
       "Name: hp, dtype: int64"
      ]
     },
     "execution_count": 2441,
     "metadata": {},
     "output_type": "execute_result"
    }
   ],
   "source": [
    "df.hp.value_counts(dropna=False)"
   ]
  },
  {
   "cell_type": "code",
   "execution_count": null,
   "metadata": {},
   "outputs": [],
   "source": []
  },
  {
   "cell_type": "markdown",
   "metadata": {},
   "source": [
    "## Type"
   ]
  },
  {
   "cell_type": "code",
   "execution_count": 2442,
   "metadata": {
    "scrolled": true
   },
   "outputs": [
    {
     "data": {
      "text/plain": [
       "['', 'Used', '', 'Diesel (Particulate Filter)']                                                                                 3475\n",
       "['', 'Used', '', 'Diesel']                                                                                                      2516\n",
       "['', 'Used', '', 'Gasoline']                                                                                                    2367\n",
       "['', 'Used', '', 'Super 95']                                                                                                    1818\n",
       "['', 'Pre-registered', '', 'Super 95']                                                                                           500\n",
       "                                                                                                                                ... \n",
       "['', 'New', '', 'Regular/Benzine 91 / Super 95 / Super Plus 98 / Regular/Benzine E10 91 / Super Plus E10 98 / Super E10 95']       1\n",
       "['', 'Used', '', 'Super 95 / Super Plus 98 / Super E10 95 / Super Plus E10 98 (Particulate Filter)']                               1\n",
       "['', 'Demonstration', '', 'Super Plus 98']                                                                                         1\n",
       "['', 'New', '', 'Super Plus E10 98']                                                                                               1\n",
       "['', 'Demonstration', '', 'Regular/Benzine E10 91']                                                                                1\n",
       "Name: type, Length: 170, dtype: int64"
      ]
     },
     "execution_count": 2442,
     "metadata": {},
     "output_type": "execute_result"
    }
   ],
   "source": [
    "df['type'].astype(\"str\").value_counts()"
   ]
  },
  {
   "cell_type": "code",
   "execution_count": 2443,
   "metadata": {
    "scrolled": true
   },
   "outputs": [
    {
     "data": {
      "text/plain": [
       "2"
      ]
     },
     "execution_count": 2443,
     "metadata": {},
     "output_type": "execute_result"
    }
   ],
   "source": [
    "df['type'].isnull().sum() "
   ]
  },
  {
   "cell_type": "markdown",
   "metadata": {},
   "source": [
    "### Cleaning "
   ]
  },
  {
   "cell_type": "code",
   "execution_count": 2444,
   "metadata": {},
   "outputs": [],
   "source": [
    "#df.type.apply(pd.Series).stack().value_counts()"
   ]
  },
  {
   "cell_type": "code",
   "execution_count": 2445,
   "metadata": {},
   "outputs": [],
   "source": [
    "#pd.value_counts(np.hstack(df.type.values))"
   ]
  },
  {
   "cell_type": "code",
   "execution_count": 2446,
   "metadata": {},
   "outputs": [],
   "source": [
    "df[\"type\"] = df.type.str[1]"
   ]
  },
  {
   "cell_type": "code",
   "execution_count": 2447,
   "metadata": {},
   "outputs": [
    {
     "data": {
      "text/plain": [
       "Used              11096\n",
       "New                1650\n",
       "Pre-registered     1364\n",
       "Employee's car     1011\n",
       "Demonstration       796\n",
       "Name: type, dtype: int64"
      ]
     },
     "execution_count": 2447,
     "metadata": {},
     "output_type": "execute_result"
    }
   ],
   "source": [
    "df.type.value_counts()"
   ]
  },
  {
   "cell_type": "code",
   "execution_count": null,
   "metadata": {},
   "outputs": [],
   "source": []
  },
  {
   "cell_type": "code",
   "execution_count": 2448,
   "metadata": {},
   "outputs": [],
   "source": [
    "#df.type = df.type.str[3].str.split(\"/\").str[0].str.strip()\n"
   ]
  },
  {
   "cell_type": "code",
   "execution_count": 2449,
   "metadata": {},
   "outputs": [],
   "source": [
    "#df.type = df.type.str.split(\" \").str[0].str.strip()\n"
   ]
  },
  {
   "cell_type": "code",
   "execution_count": null,
   "metadata": {},
   "outputs": [],
   "source": []
  },
  {
   "cell_type": "code",
   "execution_count": null,
   "metadata": {},
   "outputs": [],
   "source": []
  },
  {
   "cell_type": "code",
   "execution_count": null,
   "metadata": {},
   "outputs": [],
   "source": []
  },
  {
   "cell_type": "markdown",
   "metadata": {},
   "source": [
    "## Next Inspection & Inspection new"
   ]
  },
  {
   "cell_type": "code",
   "execution_count": 2450,
   "metadata": {},
   "outputs": [
    {
     "data": {
      "text/html": [
       "<div>\n",
       "<style scoped>\n",
       "    .dataframe tbody tr th:only-of-type {\n",
       "        vertical-align: middle;\n",
       "    }\n",
       "\n",
       "    .dataframe tbody tr th {\n",
       "        vertical-align: top;\n",
       "    }\n",
       "\n",
       "    .dataframe thead th {\n",
       "        text-align: right;\n",
       "    }\n",
       "</style>\n",
       "<table border=\"1\" class=\"dataframe\">\n",
       "  <thead>\n",
       "    <tr style=\"text-align: right;\">\n",
       "      <th></th>\n",
       "      <th>next_inspection</th>\n",
       "      <th>inspection_new</th>\n",
       "    </tr>\n",
       "  </thead>\n",
       "  <tbody>\n",
       "    <tr>\n",
       "      <th>13934</th>\n",
       "      <td>NaN</td>\n",
       "      <td>NaN</td>\n",
       "    </tr>\n",
       "    <tr>\n",
       "      <th>11184</th>\n",
       "      <td>NaN</td>\n",
       "      <td>NaN</td>\n",
       "    </tr>\n",
       "    <tr>\n",
       "      <th>11110</th>\n",
       "      <td>NaN</td>\n",
       "      <td>NaN</td>\n",
       "    </tr>\n",
       "    <tr>\n",
       "      <th>11421</th>\n",
       "      <td>NaN</td>\n",
       "      <td>NaN</td>\n",
       "    </tr>\n",
       "    <tr>\n",
       "      <th>8396</th>\n",
       "      <td>[\\n06/2021\\n, \\n149 g CO2/km (comb)\\n]</td>\n",
       "      <td>NaN</td>\n",
       "    </tr>\n",
       "    <tr>\n",
       "      <th>7495</th>\n",
       "      <td>NaN</td>\n",
       "      <td>NaN</td>\n",
       "    </tr>\n",
       "    <tr>\n",
       "      <th>15276</th>\n",
       "      <td>NaN</td>\n",
       "      <td>NaN</td>\n",
       "    </tr>\n",
       "    <tr>\n",
       "      <th>9134</th>\n",
       "      <td>NaN</td>\n",
       "      <td>NaN</td>\n",
       "    </tr>\n",
       "    <tr>\n",
       "      <th>15226</th>\n",
       "      <td>[\\n03/2021\\n, \\n123 g CO2/km (comb)\\n]</td>\n",
       "      <td>NaN</td>\n",
       "    </tr>\n",
       "    <tr>\n",
       "      <th>12514</th>\n",
       "      <td>[\\n03/2022\\n, \\n151 g CO2/km (comb)\\n]</td>\n",
       "      <td>NaN</td>\n",
       "    </tr>\n",
       "    <tr>\n",
       "      <th>9824</th>\n",
       "      <td>NaN</td>\n",
       "      <td>NaN</td>\n",
       "    </tr>\n",
       "    <tr>\n",
       "      <th>7664</th>\n",
       "      <td>NaN</td>\n",
       "      <td>[\\nYes\\n, \\n126 g CO2/km (comb)\\n]</td>\n",
       "    </tr>\n",
       "    <tr>\n",
       "      <th>14431</th>\n",
       "      <td>[\\n06/2021\\n, \\n135 g CO2/km (comb)\\n]</td>\n",
       "      <td>[\\nYes\\n, \\nEuro 6\\n]</td>\n",
       "    </tr>\n",
       "    <tr>\n",
       "      <th>2786</th>\n",
       "      <td>\\n06/2019\\n</td>\n",
       "      <td>NaN</td>\n",
       "    </tr>\n",
       "    <tr>\n",
       "      <th>13486</th>\n",
       "      <td>NaN</td>\n",
       "      <td>[\\nYes\\n, \\n127 g CO2/km (comb)\\n]</td>\n",
       "    </tr>\n",
       "  </tbody>\n",
       "</table>\n",
       "</div>"
      ],
      "text/plain": [
       "                              next_inspection  \\\n",
       "13934                                     NaN   \n",
       "11184                                     NaN   \n",
       "11110                                     NaN   \n",
       "11421                                     NaN   \n",
       "8396   [\\n06/2021\\n, \\n149 g CO2/km (comb)\\n]   \n",
       "7495                                      NaN   \n",
       "15276                                     NaN   \n",
       "9134                                      NaN   \n",
       "15226  [\\n03/2021\\n, \\n123 g CO2/km (comb)\\n]   \n",
       "12514  [\\n03/2022\\n, \\n151 g CO2/km (comb)\\n]   \n",
       "9824                                      NaN   \n",
       "7664                                      NaN   \n",
       "14431  [\\n06/2021\\n, \\n135 g CO2/km (comb)\\n]   \n",
       "2786                              \\n06/2019\\n   \n",
       "13486                                     NaN   \n",
       "\n",
       "                           inspection_new  \n",
       "13934                                 NaN  \n",
       "11184                                 NaN  \n",
       "11110                                 NaN  \n",
       "11421                                 NaN  \n",
       "8396                                  NaN  \n",
       "7495                                  NaN  \n",
       "15276                                 NaN  \n",
       "9134                                  NaN  \n",
       "15226                                 NaN  \n",
       "12514                                 NaN  \n",
       "9824                                  NaN  \n",
       "7664   [\\nYes\\n, \\n126 g CO2/km (comb)\\n]  \n",
       "14431               [\\nYes\\n, \\nEuro 6\\n]  \n",
       "2786                                  NaN  \n",
       "13486  [\\nYes\\n, \\n127 g CO2/km (comb)\\n]  "
      ]
     },
     "execution_count": 2450,
     "metadata": {},
     "output_type": "execute_result"
    }
   ],
   "source": [
    "df[[\"next_inspection\",\"inspection_new\"]].sample(15)"
   ]
  },
  {
   "cell_type": "code",
   "execution_count": 2451,
   "metadata": {
    "scrolled": true
   },
   "outputs": [
    {
     "data": {
      "text/plain": [
       "next_inspection    12384\n",
       "inspection_new     11987\n",
       "dtype: int64"
      ]
     },
     "execution_count": 2451,
     "metadata": {},
     "output_type": "execute_result"
    }
   ],
   "source": [
    "df[[\"next_inspection\",\"inspection_new\"]].isnull().sum() "
   ]
  },
  {
   "cell_type": "code",
   "execution_count": 2452,
   "metadata": {},
   "outputs": [
    {
     "data": {
      "text/plain": [
       "\\n04/2022\\n                               62\n",
       "\\n03/2021\\n                               38\n",
       "\\n03/2022\\n                               36\n",
       "\\n06/2021\\n                               34\n",
       "\\n01/2022\\n                               32\n",
       "                                          ..\n",
       "[\\n12/2018\\n, \\n97 g CO2/km (comb)\\n]      1\n",
       "[\\n03/2022\\n, \\n1 (No sticker)\\n]          1\n",
       "[\\n05/2021\\n, \\n93 g CO2/km (comb)\\n]      1\n",
       "[\\n06/2021\\n, \\n93 g CO2/km (comb)\\n]      1\n",
       "[\\n01/2022\\n, \\n168 g CO2/km (comb)\\n]     1\n",
       "Name: next_inspection, Length: 1399, dtype: int64"
      ]
     },
     "execution_count": 2452,
     "metadata": {},
     "output_type": "execute_result"
    }
   ],
   "source": [
    "df[\"next_inspection\"].value_counts()"
   ]
  },
  {
   "cell_type": "code",
   "execution_count": 2453,
   "metadata": {
    "scrolled": true
   },
   "outputs": [
    {
     "data": {
      "text/plain": [
       "[\\nYes\\n, \\nEuro 6\\n]                                                                          523\n",
       "\\nYes\\n                                                                                        362\n",
       "[\\nYes\\n, \\n102 g CO2/km (comb)\\n]                                                             174\n",
       "[\\nYes\\n, \\n4 (Green)\\n]                                                                       166\n",
       "[\\nYes\\n, \\nEuro 6d-TEMP\\n]                                                                    134\n",
       "                                                                                              ... \n",
       "[\\nYes\\n, \\n, 5.2 l/100 km (comb), \\n, 6.7 l/100 km (city), \\n, 4.2 l/100 km (country), \\n]      1\n",
       "[\\nYes\\n, \\n100 g CO2/km (comb)\\n]                                                               1\n",
       "[\\nYes\\n, \\n, 4.9 l/100 km (comb), \\n, 5.9 l/100 km (city), \\n, 4.3 l/100 km (country), \\n]      1\n",
       "[\\nYes\\n, \\n, 5.1 l/100 km (comb), \\n, 6.4 l/100 km (city), \\n, 4.3 l/100 km (country), \\n]      1\n",
       "[\\nYes\\n, \\n172 g CO2/km (comb)\\n]                                                               1\n",
       "Name: inspection_new, Length: 202, dtype: int64"
      ]
     },
     "execution_count": 2453,
     "metadata": {},
     "output_type": "execute_result"
    }
   ],
   "source": [
    "df[\"inspection_new\"].value_counts()"
   ]
  },
  {
   "cell_type": "markdown",
   "metadata": {},
   "source": [
    "### Cleaning\n"
   ]
  },
  {
   "cell_type": "code",
   "execution_count": 2454,
   "metadata": {},
   "outputs": [],
   "source": [
    "df.next_inspection = df[\"next_inspection\"].str.extract('(\\d\\d/\\d\\d\\d\\d)')"
   ]
  },
  {
   "cell_type": "code",
   "execution_count": 2455,
   "metadata": {
    "scrolled": true
   },
   "outputs": [
    {
     "data": {
      "text/plain": [
       "NaN        15209\n",
       "04/2022       62\n",
       "03/2021       38\n",
       "03/2022       36\n",
       "06/2021       34\n",
       "01/2022       32\n",
       "04/2021       29\n",
       "05/2022       27\n",
       "05/2021       27\n",
       "03/2020       25\n",
       "05/2019       23\n",
       "02/2021       19\n",
       "01/2023       19\n",
       "02/2020       18\n",
       "09/2021       17\n",
       "02/2022       16\n",
       "04/2020       16\n",
       "01/2021       15\n",
       "01/2020       15\n",
       "06/2022       14\n",
       "07/2019       13\n",
       "07/2020       13\n",
       "04/2019       13\n",
       "05/2020       12\n",
       "11/2020       12\n",
       "02/2023       10\n",
       "09/2019        9\n",
       "03/2023        8\n",
       "08/2022        8\n",
       "07/2021        8\n",
       "06/2020        8\n",
       "03/2019        8\n",
       "08/2019        7\n",
       "12/2019        7\n",
       "07/2022        7\n",
       "06/2019        7\n",
       "08/2020        6\n",
       "11/2019        6\n",
       "09/2020        6\n",
       "10/2018        5\n",
       "08/2021        5\n",
       "12/2018        4\n",
       "10/2021        4\n",
       "02/2019        4\n",
       "10/2019        4\n",
       "03/2017        3\n",
       "12/2020        3\n",
       "10/2020        3\n",
       "04/2023        3\n",
       "06/2016        2\n",
       "04/2017        2\n",
       "11/2021        2\n",
       "05/2023        2\n",
       "12/2021        2\n",
       "10/2022        2\n",
       "01/1999        1\n",
       "01/1955        1\n",
       "05/2016        1\n",
       "06/2018        1\n",
       "08/2018        1\n",
       "12/2022        1\n",
       "01/2019        1\n",
       "03/2018        1\n",
       "03/2024        1\n",
       "07/2017        1\n",
       "Name: next_inspection, dtype: int64"
      ]
     },
     "execution_count": 2455,
     "metadata": {},
     "output_type": "execute_result"
    }
   ],
   "source": [
    "df.next_inspection.value_counts(dropna=False)"
   ]
  },
  {
   "cell_type": "code",
   "execution_count": 2456,
   "metadata": {},
   "outputs": [],
   "source": [
    "#df.next_inspection=df['next_inspection'].replace('NaT',np.nan,regex=True)"
   ]
  },
  {
   "cell_type": "code",
   "execution_count": 2457,
   "metadata": {
    "scrolled": true
   },
   "outputs": [],
   "source": [
    "df.next_inspection = pd.to_datetime(df.next_inspection, format=\"%m/%Y\")"
   ]
  },
  {
   "cell_type": "markdown",
   "metadata": {},
   "source": [
    "### inspection new"
   ]
  },
  {
   "cell_type": "code",
   "execution_count": 2458,
   "metadata": {},
   "outputs": [
    {
     "data": {
      "text/plain": [
       "[\\nYes\\n, \\nEuro 6\\n]                                                                          523\n",
       "\\nYes\\n                                                                                        362\n",
       "[\\nYes\\n, \\n102 g CO2/km (comb)\\n]                                                             174\n",
       "[\\nYes\\n, \\n4 (Green)\\n]                                                                       166\n",
       "[\\nYes\\n, \\nEuro 6d-TEMP\\n]                                                                    134\n",
       "                                                                                              ... \n",
       "[\\nYes\\n, \\n, 5.2 l/100 km (comb), \\n, 6.7 l/100 km (city), \\n, 4.2 l/100 km (country), \\n]      1\n",
       "[\\nYes\\n, \\n100 g CO2/km (comb)\\n]                                                               1\n",
       "[\\nYes\\n, \\n, 4.9 l/100 km (comb), \\n, 5.9 l/100 km (city), \\n, 4.3 l/100 km (country), \\n]      1\n",
       "[\\nYes\\n, \\n, 5.1 l/100 km (comb), \\n, 6.4 l/100 km (city), \\n, 4.3 l/100 km (country), \\n]      1\n",
       "[\\nYes\\n, \\n172 g CO2/km (comb)\\n]                                                               1\n",
       "Name: inspection_new, Length: 202, dtype: int64"
      ]
     },
     "execution_count": 2458,
     "metadata": {},
     "output_type": "execute_result"
    }
   ],
   "source": [
    "df.inspection_new.value_counts()"
   ]
  },
  {
   "cell_type": "code",
   "execution_count": 2459,
   "metadata": {},
   "outputs": [],
   "source": [
    "df.inspection_new=df.inspection_new.replace(\"\\\\n\",\"\", regex=True)"
   ]
  },
  {
   "cell_type": "code",
   "execution_count": 2460,
   "metadata": {},
   "outputs": [],
   "source": [
    "df[\"inspection_new\"] = [item[0] if type(item) == list else item for item in df[\"inspection_new\"]]\n",
    "# ## hepsini liste disina cikaracak4\n",
    "\n",
    "\n",
    "# df[\"previous_owners\"]= df[\"previous_owners\"].str.strip(\"\\n\").astype('float')"
   ]
  },
  {
   "cell_type": "code",
   "execution_count": 2461,
   "metadata": {},
   "outputs": [
    {
     "data": {
      "text/plain": [
       "NaN        11987\n",
       "\\nYes\\n     3570\n",
       "Yes          362\n",
       "Name: inspection_new, dtype: int64"
      ]
     },
     "execution_count": 2461,
     "metadata": {},
     "output_type": "execute_result"
    }
   ],
   "source": [
    "df.inspection_new.value_counts(dropna=False)"
   ]
  },
  {
   "cell_type": "code",
   "execution_count": 2462,
   "metadata": {},
   "outputs": [],
   "source": [
    "df.drop([\"next_inspection\", \"inspection_new\"], axis=1, inplace=True)"
   ]
  },
  {
   "cell_type": "markdown",
   "metadata": {},
   "source": [
    "## CO2 Emission vs Emission Class vs Emission Label"
   ]
  },
  {
   "cell_type": "code",
   "execution_count": 2463,
   "metadata": {},
   "outputs": [
    {
     "data": {
      "text/html": [
       "<div>\n",
       "<style scoped>\n",
       "    .dataframe tbody tr th:only-of-type {\n",
       "        vertical-align: middle;\n",
       "    }\n",
       "\n",
       "    .dataframe tbody tr th {\n",
       "        vertical-align: top;\n",
       "    }\n",
       "\n",
       "    .dataframe thead th {\n",
       "        text-align: right;\n",
       "    }\n",
       "</style>\n",
       "<table border=\"1\" class=\"dataframe\">\n",
       "  <thead>\n",
       "    <tr style=\"text-align: right;\">\n",
       "      <th></th>\n",
       "      <th>emission_label</th>\n",
       "      <th>co_2_emission</th>\n",
       "      <th>emission_class</th>\n",
       "    </tr>\n",
       "  </thead>\n",
       "  <tbody>\n",
       "    <tr>\n",
       "      <th>1437</th>\n",
       "      <td>NaN</td>\n",
       "      <td>[\\n102 g CO2/km (comb)\\n]</td>\n",
       "      <td>[\\nEuro 6\\n]</td>\n",
       "    </tr>\n",
       "    <tr>\n",
       "      <th>2420</th>\n",
       "      <td>NaN</td>\n",
       "      <td>[\\n104 g CO2/km (comb)\\n]</td>\n",
       "      <td>NaN</td>\n",
       "    </tr>\n",
       "    <tr>\n",
       "      <th>6077</th>\n",
       "      <td>NaN</td>\n",
       "      <td>[\\n95 g CO2/km (comb)\\n]</td>\n",
       "      <td>[\\nEuro 6\\n]</td>\n",
       "    </tr>\n",
       "    <tr>\n",
       "      <th>3955</th>\n",
       "      <td>NaN</td>\n",
       "      <td>[\\n111 g CO2/km (comb)\\n]</td>\n",
       "      <td>[\\nEuro 6\\n]</td>\n",
       "    </tr>\n",
       "    <tr>\n",
       "      <th>8512</th>\n",
       "      <td>NaN</td>\n",
       "      <td>[\\n139 g CO2/km (comb)\\n]</td>\n",
       "      <td>[\\nEuro 6\\n]</td>\n",
       "    </tr>\n",
       "    <tr>\n",
       "      <th>13230</th>\n",
       "      <td>NaN</td>\n",
       "      <td>[\\n120 g CO2/km (comb)\\n]</td>\n",
       "      <td>[\\nEuro 6\\n]</td>\n",
       "    </tr>\n",
       "    <tr>\n",
       "      <th>274</th>\n",
       "      <td>NaN</td>\n",
       "      <td>[\\n102 g CO2/km (comb)\\n]</td>\n",
       "      <td>[\\nEuro 6\\n]</td>\n",
       "    </tr>\n",
       "    <tr>\n",
       "      <th>1552</th>\n",
       "      <td>NaN</td>\n",
       "      <td>[\\n98 g CO2/km (comb)\\n]</td>\n",
       "      <td>[\\nEuro 6\\n]</td>\n",
       "    </tr>\n",
       "    <tr>\n",
       "      <th>2476</th>\n",
       "      <td>NaN</td>\n",
       "      <td>[\\n105 g CO2/km (comb)\\n]</td>\n",
       "      <td>[\\nEuro 6d-TEMP\\n]</td>\n",
       "    </tr>\n",
       "    <tr>\n",
       "      <th>6243</th>\n",
       "      <td>NaN</td>\n",
       "      <td>[\\n98 g CO2/km (comb)\\n]</td>\n",
       "      <td>[\\nEuro 6\\n]</td>\n",
       "    </tr>\n",
       "  </tbody>\n",
       "</table>\n",
       "</div>"
      ],
      "text/plain": [
       "      emission_label              co_2_emission      emission_class\n",
       "1437             NaN  [\\n102 g CO2/km (comb)\\n]        [\\nEuro 6\\n]\n",
       "2420             NaN  [\\n104 g CO2/km (comb)\\n]                 NaN\n",
       "6077             NaN   [\\n95 g CO2/km (comb)\\n]        [\\nEuro 6\\n]\n",
       "3955             NaN  [\\n111 g CO2/km (comb)\\n]        [\\nEuro 6\\n]\n",
       "8512             NaN  [\\n139 g CO2/km (comb)\\n]        [\\nEuro 6\\n]\n",
       "13230            NaN  [\\n120 g CO2/km (comb)\\n]        [\\nEuro 6\\n]\n",
       "274              NaN  [\\n102 g CO2/km (comb)\\n]        [\\nEuro 6\\n]\n",
       "1552             NaN   [\\n98 g CO2/km (comb)\\n]        [\\nEuro 6\\n]\n",
       "2476             NaN  [\\n105 g CO2/km (comb)\\n]  [\\nEuro 6d-TEMP\\n]\n",
       "6243             NaN   [\\n98 g CO2/km (comb)\\n]        [\\nEuro 6\\n]"
      ]
     },
     "execution_count": 2463,
     "metadata": {},
     "output_type": "execute_result"
    }
   ],
   "source": [
    "df[[\"emission_label\", 'co_2_emission', 'emission_class']].sample(10)"
   ]
  },
  {
   "cell_type": "code",
   "execution_count": 2464,
   "metadata": {},
   "outputs": [
    {
     "data": {
      "text/plain": [
       "emission_label    11934\n",
       "co_2_emission      1808\n",
       "emission_class     3021\n",
       "dtype: int64"
      ]
     },
     "execution_count": 2464,
     "metadata": {},
     "output_type": "execute_result"
    }
   ],
   "source": [
    "df[[\"emission_label\", 'co_2_emission', 'emission_class']].isnull().sum()"
   ]
  },
  {
   "cell_type": "code",
   "execution_count": 2465,
   "metadata": {
    "scrolled": true
   },
   "outputs": [
    {
     "data": {
      "text/plain": [
       "[\\n4 (Green)\\n]         3553\n",
       "[\\n1 (No sticker)\\n]     381\n",
       "[[], [], []]              40\n",
       "[\\n5 (Blue)\\n]             8\n",
       "[\\n3 (Yellow)\\n]           2\n",
       "[\\n2 (Red)\\n]              1\n",
       "Name: emission_label, dtype: int64"
      ]
     },
     "execution_count": 2465,
     "metadata": {},
     "output_type": "execute_result"
    }
   ],
   "source": [
    "df[\"emission_label\"].value_counts()"
   ]
  },
  {
   "cell_type": "code",
   "execution_count": 2466,
   "metadata": {},
   "outputs": [
    {
     "data": {
      "text/plain": [
       "NaN                             1808\n",
       "[\\n120 g CO2/km (comb)\\n]        740\n",
       "[[], [], []]                     628\n",
       "[\\n99 g CO2/km (comb)\\n]         545\n",
       "[\\n97 g CO2/km (comb)\\n]         537\n",
       "[\\n104 g CO2/km (comb)\\n]        501\n",
       "[\\n102 g CO2/km (comb)\\n]        477\n",
       "[\\n103 g CO2/km (comb)\\n]        445\n",
       "[\\n114 g CO2/km (comb)\\n]        382\n",
       "[\\n124 g CO2/km (comb)\\n]        372\n",
       "[\\n107 g CO2/km (comb)\\n]        362\n",
       "[\\n108 g CO2/km (comb)\\n]        362\n",
       "[\\n119 g CO2/km (comb)\\n]        361\n",
       "[\\n106 g CO2/km (comb)\\n]        349\n",
       "[\\n128 g CO2/km (comb)\\n]        329\n",
       "[\\n126 g CO2/km (comb)\\n]        282\n",
       "[\\n85 g CO2/km (comb)\\n]         275\n",
       "[\\n118 g CO2/km (comb)\\n]        270\n",
       "[\\n110 g CO2/km (comb)\\n]        266\n",
       "[\\n127 g CO2/km (comb)\\n]        257\n",
       "[\\n117 g CO2/km (comb)\\n]        254\n",
       "[\\n111 g CO2/km (comb)\\n]        237\n",
       "[\\n113 g CO2/km (comb)\\n]        235\n",
       "[\\n109 g CO2/km (comb)\\n]        234\n",
       "[\\n139 g CO2/km (comb)\\n]        224\n",
       "[\\n140 g CO2/km (comb)\\n]        218\n",
       "[\\n129 g CO2/km (comb)\\n]        213\n",
       "[\\n105 g CO2/km (comb)\\n]        202\n",
       "[\\n135 g CO2/km (comb)\\n]        202\n",
       "[\\n92 g CO2/km (comb)\\n]         198\n",
       "[\\n130 g CO2/km (comb)\\n]        180\n",
       "[\\n123 g CO2/km (comb)\\n]        178\n",
       "[\\n150 g CO2/km (comb)\\n]        174\n",
       "[\\n112 g CO2/km (comb)\\n]        171\n",
       "[\\n143 g CO2/km (comb)\\n]        171\n",
       "[\\n95 g CO2/km (comb)\\n]         161\n",
       "[\\n116 g CO2/km (comb)\\n]        157\n",
       "[\\n141 g CO2/km (comb)\\n]        156\n",
       "[\\n98 g CO2/km (comb)\\n]         151\n",
       "[\\n133 g CO2/km (comb)\\n]        145\n",
       "[\\n136 g CO2/km (comb)\\n]        145\n",
       "[\\n137 g CO2/km (comb)\\n]        133\n",
       "[\\n125 g CO2/km (comb)\\n]        132\n",
       "[\\n134 g CO2/km (comb)\\n]        130\n",
       "[\\n145 g CO2/km (comb)\\n]        126\n",
       "[\\n149 g CO2/km (comb)\\n]        117\n",
       "[\\n153 g CO2/km (comb)\\n]        113\n",
       "[\\n147 g CO2/km (comb)\\n]        109\n",
       "[\\n101 g CO2/km (comb)\\n]        105\n",
       "[\\n132 g CO2/km (comb)\\n]        100\n",
       "[\\n115 g CO2/km (comb)\\n]         86\n",
       "[\\n122 g CO2/km (comb)\\n]         83\n",
       "[\\n121 g CO2/km (comb)\\n]         82\n",
       "[\\n138 g CO2/km (comb)\\n]         75\n",
       "[\\n93 g CO2/km (comb)\\n]          66\n",
       "[\\n168 g CO2/km (comb)\\n]         58\n",
       "[\\n142 g CO2/km (comb)\\n]         58\n",
       "[\\n148 g CO2/km (comb)\\n]         48\n",
       "[\\n131 g CO2/km (comb)\\n]         48\n",
       "[\\n154 g CO2/km (comb)\\n]         40\n",
       "[\\n144 g CO2/km (comb)\\n]         40\n",
       "[\\n94 g CO2/km (comb)\\n]          37\n",
       "[\\n146 g CO2/km (comb)\\n]         36\n",
       "[\\n100 g CO2/km (comb)\\n]         36\n",
       "[\\n90 g CO2/km (comb)\\n]          35\n",
       "[\\n151 g CO2/km (comb)\\n]         34\n",
       "[\\n91 g CO2/km (comb)\\n]          31\n",
       "[\\n186 g CO2/km (comb)\\n]         30\n",
       "[\\n152 g CO2/km (comb)\\n]         28\n",
       "[\\n187 g CO2/km (comb)\\n]         26\n",
       "[\\n172 g CO2/km (comb)\\n]         25\n",
       "[\\n82 g CO2/km (comb)\\n]          25\n",
       "[\\n96 g CO2/km (comb)\\n]          22\n",
       "[\\n189 g CO2/km (comb)\\n]         19\n",
       "[\\n89 g CO2/km (comb)\\n]          19\n",
       "[\\n157 g CO2/km (comb)\\n]         18\n",
       "[\\n158 g CO2/km (comb)\\n]         17\n",
       "[\\n88 g CO2/km (comb)\\n]          15\n",
       "[\\n169 g CO2/km (comb)\\n]         15\n",
       "[\\n156 g CO2/km (comb)\\n]         14\n",
       "[\\n164 g CO2/km (comb)\\n]         13\n",
       "[\\n161 g CO2/km (comb)\\n]         10\n",
       "[\\n170 g CO2/km (comb)\\n]         10\n",
       "[\\n166 g CO2/km (comb)\\n]          8\n",
       "[\\n175 g CO2/km (comb)\\n]          8\n",
       "[\\n155 g CO2/km (comb)\\n]          8\n",
       "[\\n188 g CO2/km (comb)\\n]          7\n",
       "[\\n159 g CO2/km (comb)\\n]          7\n",
       "[\\n174 g CO2/km (comb)\\n]          6\n",
       "[\\n87 g CO2/km (comb)\\n]           6\n",
       "[\\n197 g CO2/km (comb)\\n]          4\n",
       "[\\n194 g CO2/km (comb)\\n]          3\n",
       "[\\n5 g CO2/km (comb)\\n]            3\n",
       "[\\n36 g CO2/km (comb)\\n]           3\n",
       "[\\n12,087 g CO2/km (comb)\\n]       3\n",
       "[\\n84 g CO2/km (comb)\\n]           2\n",
       "[\\n191 g CO2/km (comb)\\n]          2\n",
       "[\\n167 g CO2/km (comb)\\n]          2\n",
       "[\\n0 g CO2/km (comb)\\n]            2\n",
       "[\\n199 g CO2/km (comb)\\n]          2\n",
       "[\\n162 g CO2/km (comb)\\n]          2\n",
       "[\\n177 g CO2/km (comb)\\n]          1\n",
       "[\\n181 g CO2/km (comb)\\n]          1\n",
       "[\\n331 g CO2/km (comb)\\n]          1\n",
       "[\\n45 g CO2/km (comb)\\n]           1\n",
       "[\\n180 g CO2/km (comb)\\n]          1\n",
       "[\\n171 g CO2/km (comb)\\n]          1\n",
       "[\\n183 g CO2/km (comb)\\n]          1\n",
       "[\\n1 g CO2/km (comb)\\n]            1\n",
       "[\\n13,983 g CO2/km (comb)\\n]       1\n",
       "[\\n184 g CO2/km (comb)\\n]          1\n",
       "[\\n14,457 g CO2/km (comb)\\n]       1\n",
       "[\\n12,324 g CO2/km (comb)\\n]       1\n",
       "[\\n239 g CO2/km (comb)\\n]          1\n",
       "[\\n160 g CO2/km (comb)\\n]          1\n",
       "[\\n190 g CO2/km (comb)\\n]          1\n",
       "[\\n80 g CO2/km (comb)\\n]           1\n",
       "[\\n990 g CO2/km (comb)\\n]          1\n",
       "[\\n253 g CO2/km (comb)\\n]          1\n",
       "[\\n14 g CO2/km (comb)\\n]           1\n",
       "[\\n1,060 g CO2/km (comb)\\n]        1\n",
       "[\\n51 g CO2/km (comb)\\n]           1\n",
       "[\\n165 g CO2/km (comb)\\n]          1\n",
       "[\\n193 g CO2/km (comb)\\n]          1\n",
       "Name: co_2_emission, dtype: int64"
      ]
     },
     "execution_count": 2466,
     "metadata": {},
     "output_type": "execute_result"
    }
   ],
   "source": [
    "df.co_2_emission.value_counts(dropna=False)"
   ]
  },
  {
   "cell_type": "markdown",
   "metadata": {},
   "source": [
    "### Cleaning co_2_emission\n"
   ]
  },
  {
   "cell_type": "code",
   "execution_count": 2467,
   "metadata": {},
   "outputs": [],
   "source": [
    "df[\"co_2_emission\"] = [item[0] if type(item) == list else item for item in df[\"co_2_emission\"]]\n",
    "# ## hepsini liste disina cikaracak4\n"
   ]
  },
  {
   "cell_type": "code",
   "execution_count": 2468,
   "metadata": {},
   "outputs": [],
   "source": [
    "df[\"co_2_emission\"]= df[\"co_2_emission\"].str.strip(\"\\n\")"
   ]
  },
  {
   "cell_type": "code",
   "execution_count": 2469,
   "metadata": {},
   "outputs": [],
   "source": [
    "df.co_2_emission= df[\"co_2_emission\"].str.extract('(\\\\d+)')"
   ]
  },
  {
   "cell_type": "code",
   "execution_count": 2470,
   "metadata": {
    "scrolled": true
   },
   "outputs": [
    {
     "data": {
      "text/plain": [
       "NaN    2436\n",
       "120     740\n",
       "99      545\n",
       "97      537\n",
       "104     501\n",
       "102     477\n",
       "103     445\n",
       "114     382\n",
       "124     372\n",
       "107     362\n",
       "108     362\n",
       "119     361\n",
       "106     349\n",
       "128     329\n",
       "126     282\n",
       "85      275\n",
       "118     270\n",
       "110     266\n",
       "127     257\n",
       "117     254\n",
       "111     237\n",
       "113     235\n",
       "109     234\n",
       "139     224\n",
       "140     218\n",
       "129     213\n",
       "135     202\n",
       "105     202\n",
       "92      198\n",
       "130     180\n",
       "123     178\n",
       "150     174\n",
       "143     171\n",
       "112     171\n",
       "95      161\n",
       "116     157\n",
       "141     156\n",
       "98      151\n",
       "133     145\n",
       "136     145\n",
       "137     133\n",
       "125     132\n",
       "134     130\n",
       "145     126\n",
       "149     117\n",
       "153     113\n",
       "147     109\n",
       "101     105\n",
       "132     100\n",
       "115      86\n",
       "122      83\n",
       "121      82\n",
       "138      75\n",
       "93       66\n",
       "168      58\n",
       "142      58\n",
       "148      48\n",
       "131      48\n",
       "154      40\n",
       "144      40\n",
       "94       37\n",
       "100      36\n",
       "146      36\n",
       "90       35\n",
       "151      34\n",
       "91       31\n",
       "186      30\n",
       "152      28\n",
       "187      26\n",
       "172      25\n",
       "82       25\n",
       "96       22\n",
       "189      19\n",
       "89       19\n",
       "157      18\n",
       "158      17\n",
       "88       15\n",
       "169      15\n",
       "156      14\n",
       "164      13\n",
       "161      10\n",
       "170      10\n",
       "175       8\n",
       "155       8\n",
       "166       8\n",
       "159       7\n",
       "188       7\n",
       "87        6\n",
       "174       6\n",
       "12        4\n",
       "197       4\n",
       "194       3\n",
       "36        3\n",
       "5         3\n",
       "1         2\n",
       "162       2\n",
       "199       2\n",
       "84        2\n",
       "167       2\n",
       "0         2\n",
       "14        2\n",
       "191       2\n",
       "171       1\n",
       "180       1\n",
       "183       1\n",
       "177       1\n",
       "181       1\n",
       "45        1\n",
       "160       1\n",
       "13        1\n",
       "184       1\n",
       "239       1\n",
       "190       1\n",
       "253       1\n",
       "990       1\n",
       "51        1\n",
       "165       1\n",
       "331       1\n",
       "80        1\n",
       "193       1\n",
       "Name: co_2_emission, dtype: int64"
      ]
     },
     "execution_count": 2470,
     "metadata": {},
     "output_type": "execute_result"
    }
   ],
   "source": [
    "df.co_2_emission.value_counts(dropna=False)"
   ]
  },
  {
   "cell_type": "code",
   "execution_count": 2471,
   "metadata": {},
   "outputs": [],
   "source": [
    "#df.co_2_emission = df.co_2_emission.str.extract(\"(\\d+)\").value_counts()"
   ]
  },
  {
   "cell_type": "markdown",
   "metadata": {},
   "source": [
    "### Emission Class cleaning"
   ]
  },
  {
   "cell_type": "code",
   "execution_count": 2472,
   "metadata": {},
   "outputs": [
    {
     "data": {
      "text/plain": [
       "[\\nEuro 6\\n]          10139\n",
       "[\\nEuro 6d-TEMP\\n]     1845\n",
       "[[], [], []]            607\n",
       "[\\nEuro 6c\\n]           127\n",
       "[\\nEuro 5\\n]             78\n",
       "[\\nEuro 6d\\n]            62\n",
       "[\\nEuro 4\\n]             40\n",
       "Name: emission_class, dtype: int64"
      ]
     },
     "execution_count": 2472,
     "metadata": {},
     "output_type": "execute_result"
    }
   ],
   "source": [
    "df.emission_class.value_counts()"
   ]
  },
  {
   "cell_type": "code",
   "execution_count": 2473,
   "metadata": {},
   "outputs": [
    {
     "data": {
      "text/plain": [
       "0    [\\nEuro 6\\n]\n",
       "1    [\\nEuro 6\\n]\n",
       "2    [\\nEuro 6\\n]\n",
       "3    [\\nEuro 6\\n]\n",
       "4    [\\nEuro 6\\n]\n",
       "Name: emission_class, dtype: object"
      ]
     },
     "execution_count": 2473,
     "metadata": {},
     "output_type": "execute_result"
    }
   ],
   "source": [
    "df.emission_class.head()"
   ]
  },
  {
   "cell_type": "code",
   "execution_count": 2474,
   "metadata": {},
   "outputs": [],
   "source": [
    "df[\"emission_class\"] = [item[0] if type(item) == list else item for item in df[\"emission_class\"]]\n"
   ]
  },
  {
   "cell_type": "code",
   "execution_count": 2475,
   "metadata": {},
   "outputs": [],
   "source": [
    "df.emission_class = df[\"emission_class\"].str.replace(\"\\n\",\"\")"
   ]
  },
  {
   "cell_type": "code",
   "execution_count": 2476,
   "metadata": {},
   "outputs": [
    {
     "data": {
      "text/plain": [
       "Euro 6          10139\n",
       "Euro 6d-TEMP     1845\n",
       "Euro 6c           127\n",
       "Euro 5             78\n",
       "Euro 6d            62\n",
       "Euro 4             40\n",
       "Name: emission_class, dtype: int64"
      ]
     },
     "execution_count": 2476,
     "metadata": {},
     "output_type": "execute_result"
    }
   ],
   "source": [
    "df.emission_class.value_counts()"
   ]
  },
  {
   "cell_type": "code",
   "execution_count": 2477,
   "metadata": {},
   "outputs": [
    {
     "data": {
      "text/html": [
       "<div>\n",
       "<style scoped>\n",
       "    .dataframe tbody tr th:only-of-type {\n",
       "        vertical-align: middle;\n",
       "    }\n",
       "\n",
       "    .dataframe tbody tr th {\n",
       "        vertical-align: top;\n",
       "    }\n",
       "\n",
       "    .dataframe thead th {\n",
       "        text-align: right;\n",
       "    }\n",
       "</style>\n",
       "<table border=\"1\" class=\"dataframe\">\n",
       "  <thead>\n",
       "    <tr style=\"text-align: right;\">\n",
       "      <th></th>\n",
       "      <th>emission_label</th>\n",
       "      <th>co_2_emission</th>\n",
       "      <th>emission_class</th>\n",
       "    </tr>\n",
       "  </thead>\n",
       "  <tbody>\n",
       "    <tr>\n",
       "      <th>3906</th>\n",
       "      <td>NaN</td>\n",
       "      <td>103</td>\n",
       "      <td>Euro 6</td>\n",
       "    </tr>\n",
       "    <tr>\n",
       "      <th>3593</th>\n",
       "      <td>NaN</td>\n",
       "      <td>189</td>\n",
       "      <td>Euro 6</td>\n",
       "    </tr>\n",
       "    <tr>\n",
       "      <th>10690</th>\n",
       "      <td>NaN</td>\n",
       "      <td>169</td>\n",
       "      <td>Euro 5</td>\n",
       "    </tr>\n",
       "    <tr>\n",
       "      <th>4898</th>\n",
       "      <td>[\\n4 (Green)\\n]</td>\n",
       "      <td>NaN</td>\n",
       "      <td>NaN</td>\n",
       "    </tr>\n",
       "    <tr>\n",
       "      <th>9437</th>\n",
       "      <td>NaN</td>\n",
       "      <td>120</td>\n",
       "      <td>Euro 6</td>\n",
       "    </tr>\n",
       "    <tr>\n",
       "      <th>7394</th>\n",
       "      <td>NaN</td>\n",
       "      <td>107</td>\n",
       "      <td>Euro 6</td>\n",
       "    </tr>\n",
       "    <tr>\n",
       "      <th>6268</th>\n",
       "      <td>NaN</td>\n",
       "      <td>92</td>\n",
       "      <td>Euro 6</td>\n",
       "    </tr>\n",
       "    <tr>\n",
       "      <th>7220</th>\n",
       "      <td>NaN</td>\n",
       "      <td>128</td>\n",
       "      <td>Euro 6</td>\n",
       "    </tr>\n",
       "    <tr>\n",
       "      <th>14303</th>\n",
       "      <td>[\\n4 (Green)\\n]</td>\n",
       "      <td>118</td>\n",
       "      <td>Euro 6</td>\n",
       "    </tr>\n",
       "    <tr>\n",
       "      <th>1688</th>\n",
       "      <td>NaN</td>\n",
       "      <td>112</td>\n",
       "      <td>Euro 6</td>\n",
       "    </tr>\n",
       "  </tbody>\n",
       "</table>\n",
       "</div>"
      ],
      "text/plain": [
       "        emission_label co_2_emission emission_class\n",
       "3906               NaN           103         Euro 6\n",
       "3593               NaN           189         Euro 6\n",
       "10690              NaN           169         Euro 5\n",
       "4898   [\\n4 (Green)\\n]           NaN            NaN\n",
       "9437               NaN           120         Euro 6\n",
       "7394               NaN           107         Euro 6\n",
       "6268               NaN            92         Euro 6\n",
       "7220               NaN           128         Euro 6\n",
       "14303  [\\n4 (Green)\\n]           118         Euro 6\n",
       "1688               NaN           112         Euro 6"
      ]
     },
     "execution_count": 2477,
     "metadata": {},
     "output_type": "execute_result"
    }
   ],
   "source": [
    "df[[\"emission_label\", 'co_2_emission', 'emission_class']].sample(10)"
   ]
  },
  {
   "cell_type": "markdown",
   "metadata": {},
   "source": [
    "### Emission label"
   ]
  },
  {
   "cell_type": "code",
   "execution_count": 2478,
   "metadata": {},
   "outputs": [
    {
     "data": {
      "text/plain": [
       "0                    NaN\n",
       "1        [\\n4 (Green)\\n]\n",
       "2        [\\n4 (Green)\\n]\n",
       "3                    NaN\n",
       "4                    NaN\n",
       "              ...       \n",
       "15914                NaN\n",
       "15915                NaN\n",
       "15916                NaN\n",
       "15917                NaN\n",
       "15918    [\\n4 (Green)\\n]\n",
       "Name: emission_label, Length: 15919, dtype: object"
      ]
     },
     "execution_count": 2478,
     "metadata": {},
     "output_type": "execute_result"
    }
   ],
   "source": [
    "df.emission_label"
   ]
  },
  {
   "cell_type": "code",
   "execution_count": 2479,
   "metadata": {},
   "outputs": [
    {
     "data": {
      "text/plain": [
       "NaN                     11934\n",
       "[\\n4 (Green)\\n]          3553\n",
       "[\\n1 (No sticker)\\n]      381\n",
       "[[], [], []]               40\n",
       "[\\n5 (Blue)\\n]              8\n",
       "[\\n3 (Yellow)\\n]            2\n",
       "[\\n2 (Red)\\n]               1\n",
       "Name: emission_label, dtype: int64"
      ]
     },
     "execution_count": 2479,
     "metadata": {},
     "output_type": "execute_result"
    }
   ],
   "source": [
    "df.emission_label.value_counts(dropna=False)"
   ]
  },
  {
   "cell_type": "code",
   "execution_count": 2480,
   "metadata": {},
   "outputs": [],
   "source": [
    "df[\"CO2_Emission\"] = df['co_2_emission'].str[0].str.strip().str.replace(',', '').str.extract('(\\d+)').astype('float')\n"
   ]
  },
  {
   "cell_type": "code",
   "execution_count": null,
   "metadata": {},
   "outputs": [],
   "source": []
  },
  {
   "cell_type": "code",
   "execution_count": null,
   "metadata": {},
   "outputs": [],
   "source": []
  },
  {
   "cell_type": "code",
   "execution_count": 2481,
   "metadata": {},
   "outputs": [],
   "source": [
    "df.drop([\"emission_label\", 'co_2_emission', 'emission_class'], axis=1, inplace=True)"
   ]
  },
  {
   "cell_type": "markdown",
   "metadata": {},
   "source": [
    "## Warranty"
   ]
  },
  {
   "cell_type": "code",
   "execution_count": 2482,
   "metadata": {},
   "outputs": [
    {
     "data": {
      "text/plain": [
       "NaN                                                                                                5420\n",
       "[\\n, \\n, \\nEuro 6\\n]                                                                               1868\n",
       "\\n12 months\\n                                                                                      1177\n",
       "\\n                                                                                                  979\n",
       "\\n24 months\\n                                                                                       566\n",
       "                                                                                                   ... \n",
       "[\\n72 months\\n, \\n125 g CO2/km (comb)\\n]                                                              1\n",
       "[\\n60 months\\n, \\n14 g CO2/km (comb)\\n]                                                               1\n",
       "[\\n24 months\\n, \\n121 g CO2/km (comb)\\n]                                                              1\n",
       "[\\n12 months\\n, \\nEuro 6d\\n]                                                                          1\n",
       "[\\n36 months\\n, \\n, 7.4 l/100 km (comb), \\n, 9.6 l/100 km (city), \\n, 6 l/100 km (country), \\n]       1\n",
       "Name: warranty, Length: 516, dtype: int64"
      ]
     },
     "execution_count": 2482,
     "metadata": {},
     "output_type": "execute_result"
    }
   ],
   "source": [
    "df['warranty'].value_counts(dropna=False)"
   ]
  },
  {
   "cell_type": "code",
   "execution_count": 2483,
   "metadata": {},
   "outputs": [
    {
     "data": {
      "text/plain": [
       "5420"
      ]
     },
     "execution_count": 2483,
     "metadata": {},
     "output_type": "execute_result"
    }
   ],
   "source": [
    "df['warranty'].isnull().sum() "
   ]
  },
  {
   "cell_type": "code",
   "execution_count": null,
   "metadata": {},
   "outputs": [],
   "source": []
  },
  {
   "cell_type": "markdown",
   "metadata": {},
   "source": [
    "### Warranty cleaning\n"
   ]
  },
  {
   "cell_type": "code",
   "execution_count": 2484,
   "metadata": {},
   "outputs": [],
   "source": [
    "df.warranty = [item[0] if type(item) == list else item for item in df[\"warranty\"]]\n",
    "# ## hepsini liste disina cikaracak4\n"
   ]
  },
  {
   "cell_type": "code",
   "execution_count": 2485,
   "metadata": {},
   "outputs": [],
   "source": [
    "df[\"warranty\"] = df.warranty.apply(lambda x : x[0] if type(x)==list else x)\n",
    "\n",
    "df[\"warranty\"] = df.warranty.str.strip(\"\\n\").str.extract('(\\d{1,2})').astype(\"float\") # str.extract('(\\d+)')"
   ]
  },
  {
   "cell_type": "code",
   "execution_count": 2486,
   "metadata": {},
   "outputs": [],
   "source": [
    "#df.warranty = df[\"warranty\"].str.strip(\"\\n\")"
   ]
  },
  {
   "cell_type": "code",
   "execution_count": 2487,
   "metadata": {},
   "outputs": [],
   "source": [
    "#df.warranty = df[\"warranty\"].str.extract('(\\\\d+)').astype(float)"
   ]
  },
  {
   "cell_type": "code",
   "execution_count": 2488,
   "metadata": {},
   "outputs": [
    {
     "data": {
      "text/plain": [
       "NaN       11066\n",
       "12.000     2594\n",
       "24.000     1118\n",
       "60.000      401\n",
       "36.000      279\n",
       "48.000      149\n",
       "6.000       125\n",
       "72.000       59\n",
       "3.000        33\n",
       "23.000       11\n",
       "18.000       10\n",
       "20.000        7\n",
       "25.000        6\n",
       "2.000         5\n",
       "50.000        4\n",
       "26.000        4\n",
       "16.000        4\n",
       "4.000         3\n",
       "1.000         3\n",
       "19.000        3\n",
       "34.000        3\n",
       "13.000        3\n",
       "28.000        2\n",
       "22.000        2\n",
       "14.000        2\n",
       "11.000        2\n",
       "46.000        2\n",
       "21.000        2\n",
       "9.000         2\n",
       "17.000        2\n",
       "45.000        2\n",
       "33.000        1\n",
       "40.000        1\n",
       "65.000        1\n",
       "10.000        1\n",
       "15.000        1\n",
       "7.000         1\n",
       "8.000         1\n",
       "56.000        1\n",
       "49.000        1\n",
       "47.000        1\n",
       "30.000        1\n",
       "Name: warranty, dtype: int64"
      ]
     },
     "execution_count": 2488,
     "metadata": {},
     "output_type": "execute_result"
    }
   ],
   "source": [
    "df.warranty.value_counts(dropna=False)"
   ]
  },
  {
   "cell_type": "markdown",
   "metadata": {},
   "source": [
    "## Full Service"
   ]
  },
  {
   "cell_type": "code",
   "execution_count": 2489,
   "metadata": {
    "scrolled": true
   },
   "outputs": [
    {
     "data": {
      "text/plain": [
       "nan                                                                                                             7704\n",
       "['\\n', '\\n', '\\n4 (Green)\\n']                                                                                   2235\n",
       "['\\n', '\\n', '\\nEuro 6\\n']                                                                                      2097\n",
       "['\\n', '\\n']                                                                                                    1702\n",
       "['\\n', '\\n', '\\nEuro 6d-TEMP\\n']                                                                                 399\n",
       "\\n                                                                                                               283\n",
       "['\\n', '\\n', '\\n120 g CO2/km (comb)\\n']                                                                          105\n",
       "['\\n', '\\n', '\\n126 g CO2/km (comb)\\n']                                                                           84\n",
       "['\\n', '\\n', '\\n104 g CO2/km (comb)\\n']                                                                           77\n",
       "['\\n', '\\n', '\\n97 g CO2/km (comb)\\n']                                                                            76\n",
       "['\\n', '\\n', '\\n124 g CO2/km (comb)\\n']                                                                           61\n",
       "['\\n', '\\n', '\\n99 g CO2/km (comb)\\n']                                                                            60\n",
       "['\\n', '\\n', '\\n128 g CO2/km (comb)\\n']                                                                           53\n",
       "['\\n', '\\n', '\\n119 g CO2/km (comb)\\n']                                                                           49\n",
       "['\\n', '\\n', '\\n140 g CO2/km (comb)\\n']                                                                           39\n",
       "['\\n', '\\n', '\\n106 g CO2/km (comb)\\n']                                                                           38\n",
       "['\\n', '\\n', '\\n92 g CO2/km (comb)\\n']                                                                            33\n",
       "['\\n', '\\n', '\\n107 g CO2/km (comb)\\n']                                                                           32\n",
       "['\\n', '\\n', '\\n114 g CO2/km (comb)\\n']                                                                           31\n",
       "['\\n', '\\n', '\\n103 g CO2/km (comb)\\n']                                                                           29\n",
       "['\\n', '\\n', '\\n102 g CO2/km (comb)\\n']                                                                           29\n",
       "['\\n', '\\n', '\\n1 (No sticker)\\n']                                                                                29\n",
       "['\\n', '\\n', '\\nEuro 6c\\n']                                                                                       28\n",
       "['\\n', '\\n', '\\n117 g CO2/km (comb)\\n']                                                                           24\n",
       "['\\n', '\\n', '\\n139 g CO2/km (comb)\\n']                                                                           24\n",
       "['\\n', '\\n', '\\n127 g CO2/km (comb)\\n']                                                                           23\n",
       "['\\n', '\\n', '\\n141 g CO2/km (comb)\\n']                                                                           22\n",
       "['\\n', '\\n', '\\n125 g CO2/km (comb)\\n']                                                                           20\n",
       "['\\n', '\\n', '\\n136 g CO2/km (comb)\\n']                                                                           20\n",
       "['\\n', '\\n', '\\n85 g CO2/km (comb)\\n']                                                                            20\n",
       "['\\n', '\\n', '\\n108 g CO2/km (comb)\\n']                                                                           19\n",
       "['\\n', '\\n', '\\n112 g CO2/km (comb)\\n']                                                                           18\n",
       "['\\n', '\\n', '\\n5 (Blue)\\n']                                                                                      17\n",
       "['\\n', '\\n', '\\n109 g CO2/km (comb)\\n']                                                                           17\n",
       "['\\n', '\\n', '\\n129 g CO2/km (comb)\\n']                                                                           16\n",
       "['\\n', '\\n', '\\n150 g CO2/km (comb)\\n']                                                                           16\n",
       "['\\n', '\\n', '\\n154 g CO2/km (comb)\\n']                                                                           15\n",
       "['\\n', '\\n', '\\n113 g CO2/km (comb)\\n']                                                                           15\n",
       "['\\n', '\\n', '\\n130 g CO2/km (comb)\\n']                                                                           15\n",
       "['\\n', '\\n', '\\n133 g CO2/km (comb)\\n']                                                                           15\n",
       "['\\n', '\\n', '\\n135 g CO2/km (comb)\\n']                                                                           14\n",
       "['\\n', '\\n', '\\n116 g CO2/km (comb)\\n']                                                                           13\n",
       "['\\n', '\\n', '\\n110 g CO2/km (comb)\\n']                                                                           13\n",
       "['\\n', '\\n', '\\n143 g CO2/km (comb)\\n']                                                                           12\n",
       "['\\n', '\\n', '\\n123 g CO2/km (comb)\\n']                                                                           12\n",
       "['\\n', '\\n', '\\n137 g CO2/km (comb)\\n']                                                                           12\n",
       "['\\n', '\\n', '\\n105 g CO2/km (comb)\\n']                                                                           11\n",
       "['\\n', '\\n', '\\nEuro 6d\\n']                                                                                       11\n",
       "['\\n', '\\n', '\\n132 g CO2/km (comb)\\n']                                                                           10\n",
       "['\\n', '\\n', '\\n95 g CO2/km (comb)\\n']                                                                            10\n",
       "['\\n', '\\n', '\\n118 g CO2/km (comb)\\n']                                                                           10\n",
       "['\\n', '\\n', '\\n101 g CO2/km (comb)\\n']                                                                           10\n",
       "['\\n', '\\n', '\\n147 g CO2/km (comb)\\n']                                                                            9\n",
       "['\\n', '\\n', '\\n111 g CO2/km (comb)\\n']                                                                            9\n",
       "['\\n', '\\n', '\\n149 g CO2/km (comb)\\n']                                                                            9\n",
       "['\\n', '\\n', '\\n91 g CO2/km (comb)\\n']                                                                             9\n",
       "['\\n', '\\n', '\\nEuro 5\\n']                                                                                         8\n",
       "['\\n', '\\n', '\\n145 g CO2/km (comb)\\n']                                                                            8\n",
       "['\\n', '\\n', '\\n121 g CO2/km (comb)\\n']                                                                            7\n",
       "['\\n', '\\n', '\\n96 g CO2/km (comb)\\n']                                                                             6\n",
       "['\\n', '\\n', '\\n142 g CO2/km (comb)\\n']                                                                            5\n",
       "['\\n', '\\n', '\\n82 g CO2/km (comb)\\n']                                                                             5\n",
       "['\\n', '\\n', '\\n134 g CO2/km (comb)\\n']                                                                            5\n",
       "['\\n', '\\n', '\\n138 g CO2/km (comb)\\n']                                                                            5\n",
       "['\\n', '\\n', '\\n148 g CO2/km (comb)\\n']                                                                            4\n",
       "['\\n', '\\n', '\\n189 g CO2/km (comb)\\n']                                                                            4\n",
       "['\\n', '\\n', '\\n89 g CO2/km (comb)\\n']                                                                             4\n",
       "['\\n', '\\n', '\\n131 g CO2/km (comb)\\n']                                                                            4\n",
       "['\\n', '\\n', '\\n152 g CO2/km (comb)\\n']                                                                            3\n",
       "['\\n', '\\n', '\\n98 g CO2/km (comb)\\n']                                                                             3\n",
       "['\\n', '\\n', '\\n', '6.6 l/100 km (comb)', '\\n', '8.2 l/100 km (city)', '\\n', '5.6 l/100 km (country)', '\\n']       3\n",
       "['\\n', '\\n', '\\n', '4.9 l/100 km (comb)', '\\n', '6 l/100 km (city)', '\\n', '4.2 l/100 km (country)', '\\n']         3\n",
       "['\\n', '\\n', '\\n122 g CO2/km (comb)\\n']                                                                            3\n",
       "['\\n', '\\n', '\\n115 g CO2/km (comb)\\n']                                                                            3\n",
       "['\\n', '\\n', '\\n151 g CO2/km (comb)\\n']                                                                            3\n",
       "['\\n', '\\n', '\\n94 g CO2/km (comb)\\n']                                                                             3\n",
       "['\\n', '\\n', '\\n153 g CO2/km (comb)\\n']                                                                            3\n",
       "['\\n', '\\n', '\\n', '6.3 l/100 km (comb)', '\\n', '7.8 l/100 km (city)', '\\n', '5.4 l/100 km (country)', '\\n']       2\n",
       "['\\n', '\\n', '\\n', '5.4 l/100 km (comb)', '\\n', '\\n', '\\n']                                                        2\n",
       "['\\n', '\\n', '\\n', '5.4 l/100 km (comb)', '\\n', '6.7 l/100 km (city)', '\\n', '4.6 l/100 km (country)', '\\n']       2\n",
       "['\\n', '\\n', '\\n157 g CO2/km (comb)\\n']                                                                            2\n",
       "['\\n', '\\n', '\\n', '5.7 l/100 km (comb)', '\\n', '7.3 l/100 km (city)', '\\n', '4.8 l/100 km (country)', '\\n']       2\n",
       "['\\n', '\\n', '\\n169 g CO2/km (comb)\\n']                                                                            2\n",
       "['\\n', '\\n', '\\n', '5.7 l/100 km (comb)', '\\n', '7.2 l/100 km (city)', '\\n', '4.8 l/100 km (country)', '\\n']       2\n",
       "['\\n', '\\n', '\\n166 g CO2/km (comb)\\n']                                                                            2\n",
       "['\\n', '\\n', '\\n88 g CO2/km (comb)\\n']                                                                             2\n",
       "['\\n', '\\n', '\\n', '4.8 l/100 km (comb)', '\\n', '5.9 l/100 km (city)', '\\n', '4.2 l/100 km (country)', '\\n']       2\n",
       "['\\n', '\\n', '\\n', '5.9 l/100 km (comb)', '\\n', '7.8 l/100 km (city)', '\\n', '4.8 l/100 km (country)', '\\n']       2\n",
       "['\\n', '\\n', '\\n93 g CO2/km (comb)\\n']                                                                             2\n",
       "['\\n', '\\n', '\\n', '4.4 l/100 km (comb)', '\\n', '5.2 l/100 km (city)', '\\n', '3.9 l/100 km (country)', '\\n']       2\n",
       "['\\n', '\\n', '\\n188 g CO2/km (comb)\\n']                                                                            2\n",
       "['\\n', '\\n', '\\n146 g CO2/km (comb)\\n']                                                                            2\n",
       "['\\n', '\\n', '\\n144 g CO2/km (comb)\\n']                                                                            2\n",
       "['\\n', '\\n', '\\n90 g CO2/km (comb)\\n']                                                                             2\n",
       "['\\n', '\\n', '\\n0 kWh/100 km (comb)\\n']                                                                            2\n",
       "['\\n', '\\n', '\\n', '5 l/100 km (comb)', '\\n', '5.9 l/100 km (city)', '\\n', '4.5 l/100 km (country)', '\\n']         1\n",
       "['\\n', '\\n', '\\n164 g CO2/km (comb)\\n']                                                                            1\n",
       "['\\n', '\\n', '\\n', '4.6 l/100 km (comb)', '\\n', '5.8 l/100 km (city)', '\\n', '3.9 l/100 km (country)', '\\n']       1\n",
       "['\\n', '\\n', '\\n', '6.5 l/100 km (comb)', '\\n', '8.1 l/100 km (city)', '\\n', '5.5 l/100 km (country)', '\\n']       1\n",
       "['\\n', '\\n', '\\n13,983 g CO2/km (comb)\\n']                                                                         1\n",
       "['\\n', '\\n', '\\n197 g CO2/km (comb)\\n']                                                                            1\n",
       "['\\n', '\\n', '\\n', '6.6 l/100 km (comb)', '\\n', '8.3 l/100 km (city)', '\\n', '5.6 l/100 km (country)', '\\n']       1\n",
       "['\\n', '\\n', '\\n', '6.6 l/100 km (comb)', '\\n', '8.4 l/100 km (city)', '\\n', '5.6 l/100 km (country)', '\\n']       1\n",
       "['\\n', '\\n', '\\n', '5.9 l/100 km (comb)', '\\n', '7.6 l/100 km (city)', '\\n', '4.9 l/100 km (country)', '\\n']       1\n",
       "['\\n', '\\n', '\\n', '5.9 l/100 km (comb)', '\\n', '7.6 l/100 km (city)', '\\n', '5.1 l/100 km (country)', '\\n']       1\n",
       "['\\n', '\\n', '\\n253 g CO2/km (comb)\\n']                                                                            1\n",
       "['\\n', '\\n', '\\n156 g CO2/km (comb)\\n']                                                                            1\n",
       "['\\n', '\\n', '\\n', '5.4 l/100 km (comb)', '\\n', '7.3 l/100 km (city)', '\\n', '4.2 l/100 km (country)', '\\n']       1\n",
       "['\\n', '\\n', '\\n159 g CO2/km (comb)\\n']                                                                            1\n",
       "['\\n', '\\n', '\\n', '4.7 l/100 km (comb)', '\\n', '5.4 l/100 km (city)', '\\n', '4.2 l/100 km (country)', '\\n']       1\n",
       "['\\n', '\\n', '\\n', '4.3 l/100 km (comb)', '\\n', '5.2 l/100 km (city)', '\\n', '3.9 l/100 km (country)', '\\n']       1\n",
       "['\\n', '\\n', '\\n', '6.2 l/100 km (comb)', '\\n', '7.7 l/100 km (city)', '\\n', '5.4 l/100 km (country)', '\\n']       1\n",
       "['\\n', '\\n', '\\n', '5.4 l/100 km (comb)', '\\n', '7 l/100 km (city)', '\\n', '4.5 l/100 km (country)', '\\n']         1\n",
       "['\\n', '\\n', '\\n', '5.7 l/100 km (comb)', '\\n', '7.3 l/100 km (city)', '\\n', '4.9 l/100 km (country)', '\\n']       1\n",
       "['\\n', '\\n', '\\n', '5.8 l/100 km (comb)', '\\n', '7.4 l/100 km (city)', '\\n', '4.9 l/100 km (country)', '\\n']       1\n",
       "['\\n', '\\n', '\\n', '5.5 l/100 km (comb)', '\\n', '7.2 l/100 km (city)', '\\n', '4.5 l/100 km (country)', '\\n']       1\n",
       "['\\n', '\\n', '\\n', '6 l/100 km (comb)', '\\n', '7.5 l/100 km (city)', '\\n', '5.2 l/100 km (country)', '\\n']         1\n",
       "['\\n', '\\n', '\\n87 g CO2/km (comb)\\n']                                                                             1\n",
       "['\\n', '\\n', '\\n80 g CO2/km (comb)\\n']                                                                             1\n",
       "['\\n', '\\n', '\\n84 g CO2/km (comb)\\n']                                                                             1\n",
       "['\\n', '\\n', '\\n', '6 l/100 km (comb)', '\\n', '8 l/100 km (city)', '\\n', '4.9 l/100 km (country)', '\\n']           1\n",
       "['\\n', '\\n', '\\n', '4.9 l/100 km (comb)', '\\n', '6.2 l/100 km (city)', '\\n', '4.1 l/100 km (country)', '\\n']       1\n",
       "['\\n', '\\n', '\\nEuro 4\\n']                                                                                         1\n",
       "Name: full_service, dtype: int64"
      ]
     },
     "execution_count": 2489,
     "metadata": {},
     "output_type": "execute_result"
    }
   ],
   "source": [
    "df['full_service'].astype('str').value_counts(dropna=False)"
   ]
  },
  {
   "cell_type": "code",
   "execution_count": 2490,
   "metadata": {},
   "outputs": [],
   "source": [
    "df.drop(\"full_service\", axis=1, inplace=True)"
   ]
  },
  {
   "cell_type": "markdown",
   "metadata": {},
   "source": [
    "## Non-smoking Vehicle"
   ]
  },
  {
   "cell_type": "code",
   "execution_count": 2491,
   "metadata": {
    "scrolled": true
   },
   "outputs": [
    {
     "data": {
      "text/plain": [
       "NaN                                                                                           8742\n",
       "[\\n, \\n]                                                                                      3647\n",
       "[\\n, \\n, \\n4 (Green)\\n]                                                                       1240\n",
       "[\\n, \\n, \\nEuro 6\\n]                                                                          1127\n",
       "[\\n, \\n, \\nEuro 6d-TEMP\\n]                                                                     345\n",
       "\\n                                                                                              70\n",
       "[\\n, \\n, \\n120 g CO2/km (comb)\\n]                                                               63\n",
       "[\\n, \\n, \\n85 g CO2/km (comb)\\n]                                                                46\n",
       "[\\n, \\n, \\n104 g CO2/km (comb)\\n]                                                               36\n",
       "[\\n, \\n, \\n107 g CO2/km (comb)\\n]                                                               36\n",
       "[\\n, \\n, \\n153 g CO2/km (comb)\\n]                                                               31\n",
       "[\\n, \\n, \\n124 g CO2/km (comb)\\n]                                                               29\n",
       "[\\n, \\n, \\n1 (No sticker)\\n]                                                                    24\n",
       "[\\n, \\n, \\n99 g CO2/km (comb)\\n]                                                                23\n",
       "[\\n, \\n, \\n106 g CO2/km (comb)\\n]                                                               20\n",
       "[\\n, \\n, \\n97 g CO2/km (comb)\\n]                                                                20\n",
       "[\\n, \\n, \\n108 g CO2/km (comb)\\n]                                                               19\n",
       "[\\n, \\n, \\n113 g CO2/km (comb)\\n]                                                               18\n",
       "[\\n, \\n, \\n100 g CO2/km (comb)\\n]                                                               18\n",
       "[\\n, \\n, \\n109 g CO2/km (comb)\\n]                                                               18\n",
       "[\\n, \\n, \\n105 g CO2/km (comb)\\n]                                                               18\n",
       "[\\n, \\n, \\nEuro 6c\\n]                                                                           17\n",
       "[\\n, \\n, \\n98 g CO2/km (comb)\\n]                                                                15\n",
       "[\\n, \\n, \\n129 g CO2/km (comb)\\n]                                                               14\n",
       "[\\n, \\n, \\n131 g CO2/km (comb)\\n]                                                               13\n",
       "[\\n, \\n, \\n133 g CO2/km (comb)\\n]                                                               12\n",
       "[\\n, \\n, \\n103 g CO2/km (comb)\\n]                                                               12\n",
       "[\\n, \\n, \\n114 g CO2/km (comb)\\n]                                                               12\n",
       "[\\n, \\n, \\n116 g CO2/km (comb)\\n]                                                               11\n",
       "[\\n, \\n, \\n135 g CO2/km (comb)\\n]                                                               11\n",
       "[\\n, \\n, \\n102 g CO2/km (comb)\\n]                                                               11\n",
       "[\\n, \\n, \\n127 g CO2/km (comb)\\n]                                                               10\n",
       "[\\n, \\n, \\n143 g CO2/km (comb)\\n]                                                               10\n",
       "[\\n, \\n, \\n92 g CO2/km (comb)\\n]                                                                 9\n",
       "[\\n, \\n, \\nEuro 6d\\n]                                                                            9\n",
       "[\\n, \\n, \\n112 g CO2/km (comb)\\n]                                                                9\n",
       "[\\n, \\n, \\n5 (Blue)\\n]                                                                           8\n",
       "[\\n, \\n, \\n118 g CO2/km (comb)\\n]                                                                8\n",
       "[\\n, \\n, \\n139 g CO2/km (comb)\\n]                                                                7\n",
       "[\\n, \\n, \\n128 g CO2/km (comb)\\n]                                                                7\n",
       "[\\n, \\n, \\n147 g CO2/km (comb)\\n]                                                                7\n",
       "[\\n, \\n, \\n126 g CO2/km (comb)\\n]                                                                6\n",
       "[\\n, \\n, \\n137 g CO2/km (comb)\\n]                                                                6\n",
       "[\\n, \\n, \\n117 g CO2/km (comb)\\n]                                                                6\n",
       "[\\n, \\n, \\n140 g CO2/km (comb)\\n]                                                                6\n",
       "[\\n, \\n, \\n130 g CO2/km (comb)\\n]                                                                5\n",
       "[\\n, \\n, \\n115 g CO2/km (comb)\\n]                                                                5\n",
       "[\\n, \\n, \\nEuro 5\\n]                                                                             4\n",
       "[\\n, \\n, \\n, 5.2 l/100 km (comb), \\n, 5.8 l/100 km (city), \\n, 4.8 l/100 km (country), \\n]       4\n",
       "[\\n, \\n, \\n123 g CO2/km (comb)\\n]                                                                4\n",
       "[\\n, \\n, \\n151 g CO2/km (comb)\\n]                                                                4\n",
       "[\\n, \\n, \\n95 g CO2/km (comb)\\n]                                                                 3\n",
       "[\\n, \\n, \\n119 g CO2/km (comb)\\n]                                                                3\n",
       "[\\n, \\n, \\n148 g CO2/km (comb)\\n]                                                                3\n",
       "[\\n, \\n, \\n157 g CO2/km (comb)\\n]                                                                3\n",
       "[\\n, \\n, \\n136 g CO2/km (comb)\\n]                                                                3\n",
       "[\\n, \\n, \\n110 g CO2/km (comb)\\n]                                                                3\n",
       "[\\n, \\n, \\n149 g CO2/km (comb)\\n]                                                                3\n",
       "[\\n, \\n, \\n138 g CO2/km (comb)\\n]                                                                2\n",
       "[\\n, \\n, \\n125 g CO2/km (comb)\\n]                                                                2\n",
       "[\\n, \\n, \\n, 5.2 l/100 km (comb), \\n, 6.4 l/100 km (city), \\n, 4.4 l/100 km (country), \\n]       2\n",
       "[\\n, \\n, \\n166 g CO2/km (comb)\\n]                                                                2\n",
       "[\\n, \\n, \\n121 g CO2/km (comb)\\n]                                                                2\n",
       "[\\n, \\n, \\n142 g CO2/km (comb)\\n]                                                                2\n",
       "[\\n, \\n, \\n90 g CO2/km (comb)\\n]                                                                 2\n",
       "[\\n, \\n, \\n111 g CO2/km (comb)\\n]                                                                2\n",
       "[\\n, \\n, \\n134 g CO2/km (comb)\\n]                                                                2\n",
       "[\\n, \\n, \\n, 6.5 l/100 km (comb), \\n, 8.5 l/100 km (city), \\n, 5.4 l/100 km (country), \\n]       1\n",
       "[\\n, \\n, \\n, 6.4 l/100 km (comb), \\n, 8.1 l/100 km (city), \\n, 5.4 l/100 km (country), \\n]       1\n",
       "[\\n, \\n, \\n161 g CO2/km (comb)\\n]                                                                1\n",
       "[\\n, \\n, \\n172 g CO2/km (comb)\\n]                                                                1\n",
       "[\\n, \\n, \\n189 g CO2/km (comb)\\n]                                                                1\n",
       "[\\n, \\n, \\n82 g CO2/km (comb)\\n]                                                                 1\n",
       "[\\n, \\n, \\n154 g CO2/km (comb)\\n]                                                                1\n",
       "[\\n, \\n, \\n, 6.5 l/100 km (comb), \\n, 7.9 l/100 km (city), \\n, 5.6 l/100 km (country), \\n]       1\n",
       "[\\n, \\n, \\n, 6.3 l/100 km (comb), \\n, 8 l/100 km (city), \\n, 5.3 l/100 km (country), \\n]         1\n",
       "[\\n, \\n, \\n146 g CO2/km (comb)\\n]                                                                1\n",
       "[\\n, \\n, \\n, 5.7 l/100 km (comb), \\n, 7.3 l/100 km (city), \\n, 4.7 l/100 km (country), \\n]       1\n",
       "[\\n, \\n, \\n, 6.1 l/100 km (comb), \\n, 7.7 l/100 km (city), \\n, 5.2 l/100 km (country), \\n]       1\n",
       "[\\n, \\n, \\n156 g CO2/km (comb)\\n]                                                                1\n",
       "[\\n, \\n, \\n, 6.1 l/100 km (comb), \\n, 7.8 l/100 km (city), \\n, 5.1 l/100 km (country), \\n]       1\n",
       "[\\n, \\n, \\n, 6.2 l/100 km (comb), \\n, 7.9 l/100 km (city), \\n, 5.3 l/100 km (country), \\n]       1\n",
       "[\\n, \\n, \\n152 g CO2/km (comb)\\n]                                                                1\n",
       "[\\n, \\n, \\n144 g CO2/km (comb)\\n]                                                                1\n",
       "[\\n, \\n, \\n132 g CO2/km (comb)\\n]                                                                1\n",
       "[\\n, \\n, \\n, 1.6 l/100 km (comb), \\n, \\n, \\n]                                                    1\n",
       "[\\n, \\n, \\n169 g CO2/km (comb)\\n]                                                                1\n",
       "[\\n, \\n, \\n101 g CO2/km (comb)\\n]                                                                1\n",
       "[\\n, \\n, \\n159 g CO2/km (comb)\\n]                                                                1\n",
       "[\\n, \\n, \\n91 g CO2/km (comb)\\n]                                                                 1\n",
       "[\\n, \\n, \\n, 5.6 l/100 km (comb), \\n, 7.3 l/100 km (city), \\n, 4.7 l/100 km (country), \\n]       1\n",
       "[\\n, \\n, \\n122 g CO2/km (comb)\\n]                                                                1\n",
       "[\\n, \\n, \\n158 g CO2/km (comb)\\n]                                                                1\n",
       "[\\n, \\n, \\n150 g CO2/km (comb)\\n]                                                                1\n",
       "[\\n, \\n, \\n175 g CO2/km (comb)\\n]                                                                1\n",
       "Name: non_smoking_vehicle, dtype: int64"
      ]
     },
     "execution_count": 2491,
     "metadata": {},
     "output_type": "execute_result"
    }
   ],
   "source": [
    "df['non_smoking_vehicle'].value_counts(dropna=False)"
   ]
  },
  {
   "cell_type": "code",
   "execution_count": 2492,
   "metadata": {},
   "outputs": [
    {
     "data": {
      "text/plain": [
       "8742"
      ]
     },
     "execution_count": 2492,
     "metadata": {},
     "output_type": "execute_result"
    }
   ],
   "source": [
    "df['non_smoking_vehicle'].isnull().sum() "
   ]
  },
  {
   "cell_type": "code",
   "execution_count": 2493,
   "metadata": {},
   "outputs": [],
   "source": [
    "df.drop([\"non_smoking_vehicle\"], axis=1, inplace=True)"
   ]
  },
  {
   "cell_type": "markdown",
   "metadata": {},
   "source": [
    "## Offer Number"
   ]
  },
  {
   "cell_type": "code",
   "execution_count": 2494,
   "metadata": {},
   "outputs": [
    {
     "data": {
      "text/plain": [
       "NaN                                               3175\n",
       "[\\nLT67679\\n]                                       27\n",
       "[\\nUN89904\\n]                                       27\n",
       "[\\nXJ38068\\n]                                       27\n",
       "[\\nJV03654\\n]                                       27\n",
       "                                                  ... \n",
       "[\\n160_dcbb6c3e-a6da-43a3-8754-ccd994cec93b\\n]       1\n",
       "[\\n6701576\\n]                                        1\n",
       "[\\n6701569\\n]                                        1\n",
       "[\\n158121\\n]                                         1\n",
       "[\\nRe_30000008029\\n]                                 1\n",
       "Name: offer_number, Length: 11441, dtype: int64"
      ]
     },
     "execution_count": 2494,
     "metadata": {},
     "output_type": "execute_result"
    }
   ],
   "source": [
    "df[\"offer_number\"].value_counts(dropna=False)"
   ]
  },
  {
   "cell_type": "code",
   "execution_count": 2495,
   "metadata": {},
   "outputs": [
    {
     "data": {
      "text/plain": [
       "3175"
      ]
     },
     "execution_count": 2495,
     "metadata": {},
     "output_type": "execute_result"
    }
   ],
   "source": [
    "df[\"offer_number\"].isnull().sum() "
   ]
  },
  {
   "cell_type": "code",
   "execution_count": 2496,
   "metadata": {},
   "outputs": [
    {
     "data": {
      "text/html": [
       "<div>\n",
       "<style scoped>\n",
       "    .dataframe tbody tr th:only-of-type {\n",
       "        vertical-align: middle;\n",
       "    }\n",
       "\n",
       "    .dataframe tbody tr th {\n",
       "        vertical-align: top;\n",
       "    }\n",
       "\n",
       "    .dataframe thead th {\n",
       "        text-align: right;\n",
       "    }\n",
       "</style>\n",
       "<table border=\"1\" class=\"dataframe\">\n",
       "  <thead>\n",
       "    <tr style=\"text-align: right;\">\n",
       "      <th></th>\n",
       "      <th>url</th>\n",
       "      <th>make_model</th>\n",
       "      <th>short_description</th>\n",
       "      <th>body_type</th>\n",
       "      <th>price</th>\n",
       "      <th>vat</th>\n",
       "      <th>km</th>\n",
       "      <th>hp</th>\n",
       "      <th>type</th>\n",
       "      <th>warranty</th>\n",
       "      <th>null</th>\n",
       "      <th>offer_number</th>\n",
       "      <th>body_color</th>\n",
       "      <th>paint_type</th>\n",
       "      <th>body_color_original</th>\n",
       "      <th>upholstery</th>\n",
       "      <th>nr_of_doors</th>\n",
       "      <th>nr_of_seats</th>\n",
       "      <th>model_code</th>\n",
       "      <th>gearing_type</th>\n",
       "      <th>displacement</th>\n",
       "      <th>cylinders</th>\n",
       "      <th>weight</th>\n",
       "      <th>drive_chain</th>\n",
       "      <th>fuel</th>\n",
       "      <th>consumption</th>\n",
       "      <th>comfort_&amp;_convenience</th>\n",
       "      <th>entertainment_&amp;_media</th>\n",
       "      <th>extras</th>\n",
       "      <th>safety_&amp;_security</th>\n",
       "      <th>gears</th>\n",
       "      <th>country_version</th>\n",
       "      <th>electricity_consumption</th>\n",
       "      <th>last_service_date</th>\n",
       "      <th>other_fuel_types</th>\n",
       "      <th>availability</th>\n",
       "      <th>last_timing_belt_service_date</th>\n",
       "      <th>available_from</th>\n",
       "      <th>age</th>\n",
       "      <th>CO2_Emission</th>\n",
       "    </tr>\n",
       "  </thead>\n",
       "  <tbody>\n",
       "  </tbody>\n",
       "</table>\n",
       "</div>"
      ],
      "text/plain": [
       "Empty DataFrame\n",
       "Columns: [url, make_model, short_description, body_type, price, vat, km, hp, type, warranty, null, offer_number, body_color, paint_type, body_color_original, upholstery, nr_of_doors, nr_of_seats, model_code, gearing_type, displacement, cylinders, weight, drive_chain, fuel, consumption, comfort_&_convenience, entertainment_&_media, extras, safety_&_security, gears, country_version, electricity_consumption, last_service_date, other_fuel_types, availability, last_timing_belt_service_date, available_from, age, CO2_Emission]\n",
       "Index: []"
      ]
     },
     "execution_count": 2496,
     "metadata": {},
     "output_type": "execute_result"
    }
   ],
   "source": [
    "df[df[\"offer_number\"]==\"[\\nLT67679\\n]\"]"
   ]
  },
  {
   "cell_type": "code",
   "execution_count": 2497,
   "metadata": {},
   "outputs": [],
   "source": [
    "df.drop([\"offer_number\"], axis=1, inplace=True)"
   ]
  },
  {
   "cell_type": "markdown",
   "metadata": {},
   "source": [
    "## Body Color vs Paint Type"
   ]
  },
  {
   "cell_type": "code",
   "execution_count": 2498,
   "metadata": {},
   "outputs": [
    {
     "data": {
      "text/plain": [
       "[\\n, Black, \\n]     3745\n",
       "[\\n, Grey, \\n]      3505\n",
       "[\\n, White, \\n]     3406\n",
       "[\\n, Silver, \\n]    1647\n",
       "[\\n, Blue, \\n]      1431\n",
       "[\\n, Red, \\n]        957\n",
       "[\\n, Brown, \\n]      289\n",
       "[\\n, Green, \\n]      154\n",
       "[\\n, Beige, \\n]      108\n",
       "[\\n, Yellow, \\n]      51\n",
       "[\\n, Violet, \\n]      18\n",
       "[\\n, Bronze, \\n]       6\n",
       "[\\n, Orange, \\n]       3\n",
       "[\\n, Gold, \\n]         2\n",
       "Name: body_color, dtype: int64"
      ]
     },
     "execution_count": 2498,
     "metadata": {},
     "output_type": "execute_result"
    }
   ],
   "source": [
    "df[\"body_color\"].value_counts()"
   ]
  },
  {
   "cell_type": "markdown",
   "metadata": {},
   "source": [
    "### body_color cleaning"
   ]
  },
  {
   "cell_type": "code",
   "execution_count": 2499,
   "metadata": {
    "scrolled": true
   },
   "outputs": [
    {
     "data": {
      "text/plain": [
       "0        [\\n, Black, \\n]\n",
       "1          [\\n, Red, \\n]\n",
       "2        [\\n, Black, \\n]\n",
       "3        [\\n, Brown, \\n]\n",
       "4        [\\n, Black, \\n]\n",
       "              ...       \n",
       "15914     [\\n, Grey, \\n]\n",
       "15915     [\\n, Grey, \\n]\n",
       "15916    [\\n, White, \\n]\n",
       "15917     [\\n, Grey, \\n]\n",
       "15918     [\\n, Grey, \\n]\n",
       "Name: body_color, Length: 15919, dtype: object"
      ]
     },
     "execution_count": 2499,
     "metadata": {},
     "output_type": "execute_result"
    }
   ],
   "source": [
    "df.body_color"
   ]
  },
  {
   "cell_type": "code",
   "execution_count": 2500,
   "metadata": {},
   "outputs": [
    {
     "data": {
      "text/plain": [
       "0        Black\n",
       "1          Red\n",
       "2        Black\n",
       "3        Brown\n",
       "4        Black\n",
       "         ...  \n",
       "15914     Grey\n",
       "15915     Grey\n",
       "15916    White\n",
       "15917     Grey\n",
       "15918     Grey\n",
       "Name: body_color, Length: 15919, dtype: object"
      ]
     },
     "execution_count": 2500,
     "metadata": {},
     "output_type": "execute_result"
    }
   ],
   "source": [
    "df.body_color = [item[1] if type(item) == list else item for item in df[\"body_color\"]]\n",
    "# ## hepsini liste disina cikaracak4\n",
    "df.body_color"
   ]
  },
  {
   "cell_type": "code",
   "execution_count": 2501,
   "metadata": {},
   "outputs": [
    {
     "data": {
      "text/plain": [
       "Black     3745\n",
       "Grey      3505\n",
       "White     3406\n",
       "Silver    1647\n",
       "Blue      1431\n",
       "Red        957\n",
       "NaN        597\n",
       "Brown      289\n",
       "Green      154\n",
       "Beige      108\n",
       "Yellow      51\n",
       "Violet      18\n",
       "Bronze       6\n",
       "Orange       3\n",
       "Gold         2\n",
       "Name: body_color, dtype: int64"
      ]
     },
     "execution_count": 2501,
     "metadata": {},
     "output_type": "execute_result"
    }
   ],
   "source": [
    "df.body_color.value_counts(dropna=False)"
   ]
  },
  {
   "cell_type": "code",
   "execution_count": null,
   "metadata": {},
   "outputs": [],
   "source": []
  },
  {
   "cell_type": "code",
   "execution_count": null,
   "metadata": {},
   "outputs": [],
   "source": []
  },
  {
   "cell_type": "code",
   "execution_count": null,
   "metadata": {},
   "outputs": [],
   "source": []
  },
  {
   "cell_type": "markdown",
   "metadata": {},
   "source": [
    "### body_color_original"
   ]
  },
  {
   "cell_type": "code",
   "execution_count": 2502,
   "metadata": {},
   "outputs": [
    {
     "data": {
      "text/plain": [
       "NaN                                    3759\n",
       "[\\nOnyx Schwarz\\n]                      338\n",
       "[\\nBianco\\n]                            282\n",
       "[\\nMythosschwarz Metallic\\n]            238\n",
       "[\\nBrillantschwarz\\n]                   216\n",
       "                                       ... \n",
       "[\\nRouge-Braun (G0Y)\\n]                   1\n",
       "[\\nVARI COLRI DISPONIBILI\\n]              1\n",
       "[\\nKokosnussbraun Metallic\\n]             1\n",
       "[\\nFarbe frei wählbar\\n]                  1\n",
       "[\\nPerlmutt-Weiß Metallic (Weiß)\\n]       1\n",
       "Name: body_color_original, Length: 1928, dtype: int64"
      ]
     },
     "execution_count": 2502,
     "metadata": {},
     "output_type": "execute_result"
    }
   ],
   "source": [
    "df[\"body_color_original\"].value_counts(dropna=False)"
   ]
  },
  {
   "cell_type": "code",
   "execution_count": 2503,
   "metadata": {},
   "outputs": [
    {
     "data": {
      "text/plain": [
       "[\\nMetallic\\n]       9794\n",
       "[\\nUni/basic\\n]       347\n",
       "[\\nPerl effect\\n]       6\n",
       "Name: paint_type, dtype: int64"
      ]
     },
     "execution_count": 2503,
     "metadata": {},
     "output_type": "execute_result"
    }
   ],
   "source": [
    "df[\"paint_type\"].value_counts()"
   ]
  },
  {
   "cell_type": "code",
   "execution_count": 2504,
   "metadata": {},
   "outputs": [
    {
     "data": {
      "text/plain": [
       "body_color              597\n",
       "body_color_original    3759\n",
       "paint_type             5772\n",
       "dtype: int64"
      ]
     },
     "execution_count": 2504,
     "metadata": {},
     "output_type": "execute_result"
    }
   ],
   "source": [
    "df[[\"body_color\",\"body_color_original\",\"paint_type\"]].isnull().sum() "
   ]
  },
  {
   "cell_type": "code",
   "execution_count": 2505,
   "metadata": {
    "scrolled": true
   },
   "outputs": [
    {
     "data": {
      "text/html": [
       "<div>\n",
       "<style scoped>\n",
       "    .dataframe tbody tr th:only-of-type {\n",
       "        vertical-align: middle;\n",
       "    }\n",
       "\n",
       "    .dataframe tbody tr th {\n",
       "        vertical-align: top;\n",
       "    }\n",
       "\n",
       "    .dataframe thead th {\n",
       "        text-align: right;\n",
       "    }\n",
       "</style>\n",
       "<table border=\"1\" class=\"dataframe\">\n",
       "  <thead>\n",
       "    <tr style=\"text-align: right;\">\n",
       "      <th></th>\n",
       "      <th>body_color</th>\n",
       "      <th>body_color_original</th>\n",
       "      <th>paint_type</th>\n",
       "    </tr>\n",
       "  </thead>\n",
       "  <tbody>\n",
       "    <tr>\n",
       "      <th>11067</th>\n",
       "      <td>Silver</td>\n",
       "      <td>NaN</td>\n",
       "      <td>[\\nMetallic\\n]</td>\n",
       "    </tr>\n",
       "    <tr>\n",
       "      <th>8329</th>\n",
       "      <td>Grey</td>\n",
       "      <td>[\\nLicht Grau M2\\n]</td>\n",
       "      <td>[\\nMetallic\\n]</td>\n",
       "    </tr>\n",
       "    <tr>\n",
       "      <th>9879</th>\n",
       "      <td>Grey</td>\n",
       "      <td>[\\nLicht Grau\\n]</td>\n",
       "      <td>[\\nMetallic\\n]</td>\n",
       "    </tr>\n",
       "    <tr>\n",
       "      <th>507</th>\n",
       "      <td>White</td>\n",
       "      <td>NaN</td>\n",
       "      <td>[\\nMetallic\\n]</td>\n",
       "    </tr>\n",
       "    <tr>\n",
       "      <th>7957</th>\n",
       "      <td>Grey</td>\n",
       "      <td>[\\nQuarz Grau\\n]</td>\n",
       "      <td>[\\nMetallic\\n]</td>\n",
       "    </tr>\n",
       "    <tr>\n",
       "      <th>3600</th>\n",
       "      <td>Black</td>\n",
       "      <td>NaN</td>\n",
       "      <td>NaN</td>\n",
       "    </tr>\n",
       "    <tr>\n",
       "      <th>8139</th>\n",
       "      <td>Black</td>\n",
       "      <td>[\\nOnyx Schwarz (M2)\\n]</td>\n",
       "      <td>[\\nMetallic\\n]</td>\n",
       "    </tr>\n",
       "    <tr>\n",
       "      <th>1051</th>\n",
       "      <td>Red</td>\n",
       "      <td>[\\nMisanorot Perleffekt/Brillants\\n]</td>\n",
       "      <td>[\\nMetallic\\n]</td>\n",
       "    </tr>\n",
       "    <tr>\n",
       "      <th>8944</th>\n",
       "      <td>White</td>\n",
       "      <td>[\\nBianco\\n]</td>\n",
       "      <td>NaN</td>\n",
       "    </tr>\n",
       "    <tr>\n",
       "      <th>1803</th>\n",
       "      <td>White</td>\n",
       "      <td>NaN</td>\n",
       "      <td>NaN</td>\n",
       "    </tr>\n",
       "  </tbody>\n",
       "</table>\n",
       "</div>"
      ],
      "text/plain": [
       "      body_color                   body_color_original      paint_type\n",
       "11067     Silver                                   NaN  [\\nMetallic\\n]\n",
       "8329        Grey                   [\\nLicht Grau M2\\n]  [\\nMetallic\\n]\n",
       "9879        Grey                      [\\nLicht Grau\\n]  [\\nMetallic\\n]\n",
       "507        White                                   NaN  [\\nMetallic\\n]\n",
       "7957        Grey                      [\\nQuarz Grau\\n]  [\\nMetallic\\n]\n",
       "3600       Black                                   NaN             NaN\n",
       "8139       Black               [\\nOnyx Schwarz (M2)\\n]  [\\nMetallic\\n]\n",
       "1051         Red  [\\nMisanorot Perleffekt/Brillants\\n]  [\\nMetallic\\n]\n",
       "8944       White                          [\\nBianco\\n]             NaN\n",
       "1803       White                                   NaN             NaN"
      ]
     },
     "execution_count": 2505,
     "metadata": {},
     "output_type": "execute_result"
    }
   ],
   "source": [
    "df[[\"body_color\",\"body_color_original\",\"paint_type\"]].sample(10)"
   ]
  },
  {
   "cell_type": "markdown",
   "metadata": {},
   "source": [
    "### paint_type cleaning"
   ]
  },
  {
   "cell_type": "code",
   "execution_count": 2506,
   "metadata": {},
   "outputs": [],
   "source": [
    "df.paint_type = [item[0] if type(item) == list else item for item in df[\"paint_type\"]]\n"
   ]
  },
  {
   "cell_type": "code",
   "execution_count": 2507,
   "metadata": {},
   "outputs": [
    {
     "data": {
      "text/plain": [
       "\\nMetallic\\n       9794\n",
       "NaN                5772\n",
       "\\nUni/basic\\n       347\n",
       "\\nPerl effect\\n       6\n",
       "Name: paint_type, dtype: int64"
      ]
     },
     "execution_count": 2507,
     "metadata": {},
     "output_type": "execute_result"
    }
   ],
   "source": [
    "df.paint_type.value_counts(dropna=False)"
   ]
  },
  {
   "cell_type": "code",
   "execution_count": 2508,
   "metadata": {},
   "outputs": [],
   "source": [
    "df.paint_type = df[\"paint_type\"].str.strip(\"\\n\")"
   ]
  },
  {
   "cell_type": "code",
   "execution_count": 2509,
   "metadata": {},
   "outputs": [
    {
     "data": {
      "text/plain": [
       "Metallic       9794\n",
       "NaN            5772\n",
       "Uni/basic       347\n",
       "Perl effect       6\n",
       "Name: paint_type, dtype: int64"
      ]
     },
     "execution_count": 2509,
     "metadata": {},
     "output_type": "execute_result"
    }
   ],
   "source": [
    "df.paint_type.value_counts(dropna=False)"
   ]
  },
  {
   "cell_type": "code",
   "execution_count": 2510,
   "metadata": {},
   "outputs": [],
   "source": [
    "df.drop([\"body_color_original\", \"paint_type\"], axis=1, inplace=True)"
   ]
  },
  {
   "cell_type": "markdown",
   "metadata": {},
   "source": [
    "## Upholstery"
   ]
  },
  {
   "cell_type": "code",
   "execution_count": 2511,
   "metadata": {},
   "outputs": [
    {
     "data": {
      "text/plain": [
       "3720"
      ]
     },
     "execution_count": 2511,
     "metadata": {},
     "output_type": "execute_result"
    }
   ],
   "source": [
    "df[\"upholstery\"].isnull().sum() "
   ]
  },
  {
   "cell_type": "code",
   "execution_count": 2512,
   "metadata": {},
   "outputs": [
    {
     "data": {
      "text/plain": [
       "[\\nCloth, Black\\n]           5821\n",
       "[\\nPart leather, Black\\n]    1121\n",
       "[\\nCloth\\n]                  1005\n",
       "[\\nCloth, Grey\\n]             891\n",
       "[\\nCloth, Other\\n]            639\n",
       "[\\nFull leather, Black\\n]     575\n",
       "[\\nBlack\\n]                   491\n",
       "[\\nGrey\\n]                    273\n",
       "[\\nOther, Other\\n]            182\n",
       "[\\nPart leather\\n]            140\n",
       "[\\nFull leather\\n]            139\n",
       "[\\nPart leather, Grey\\n]      116\n",
       "[\\nFull leather, Brown\\n]     116\n",
       "[\\nOther, Black\\n]            110\n",
       "[\\nFull leather, Other\\n]      72\n",
       "[\\nFull leather, Grey\\n]       67\n",
       "[\\nPart leather, Other\\n]      65\n",
       "[\\nOther\\n]                    56\n",
       "[\\nPart leather, Brown\\n]      50\n",
       "[\\nalcantara, Black\\n]         47\n",
       "[\\nFull leather, Beige\\n]      36\n",
       "[\\nVelour, Black\\n]            36\n",
       "[\\nCloth, Brown\\n]             28\n",
       "[\\nVelour\\n]                   16\n",
       "[\\nOther, Grey\\n]              15\n",
       "[\\nCloth, Beige\\n]             13\n",
       "[\\nBrown\\n]                    12\n",
       "[\\nCloth, Blue\\n]              12\n",
       "[\\nCloth, White\\n]              8\n",
       "[\\nVelour, Grey\\n]              8\n",
       "[\\nalcantara, Grey\\n]           6\n",
       "[\\nCloth, Red\\n]                5\n",
       "[\\nOther, Yellow\\n]             4\n",
       "[\\nBeige\\n]                     3\n",
       "[\\nPart leather, Red\\n]         3\n",
       "[\\nalcantara\\n]                 2\n",
       "[\\nPart leather, White\\n]       2\n",
       "[\\nBlue\\n]                      2\n",
       "[\\nWhite\\n]                     2\n",
       "[\\nPart leather, Beige\\n]       2\n",
       "[\\nalcantara, Other\\n]          2\n",
       "[\\nFull leather, Blue\\n]        2\n",
       "[\\nOther, Brown\\n]              1\n",
       "[\\nCloth, Orange\\n]             1\n",
       "[\\nFull leather, Red\\n]         1\n",
       "[\\nFull leather, White\\n]       1\n",
       "Name: upholstery, dtype: int64"
      ]
     },
     "execution_count": 2512,
     "metadata": {},
     "output_type": "execute_result"
    }
   ],
   "source": [
    "df[\"upholstery\"].value_counts()"
   ]
  },
  {
   "cell_type": "code",
   "execution_count": 2513,
   "metadata": {},
   "outputs": [],
   "source": [
    "##df['age'] = 2019/12 - df['First Registration']"
   ]
  },
  {
   "cell_type": "markdown",
   "metadata": {},
   "source": [
    "### upholestery cleaning\n"
   ]
  },
  {
   "cell_type": "code",
   "execution_count": 2514,
   "metadata": {},
   "outputs": [
    {
     "data": {
      "text/plain": [
       "0    \\nCloth, Black\\n\n",
       "1     \\nCloth, Grey\\n\n",
       "2    \\nCloth, Black\\n\n",
       "3                 NaN\n",
       "4    \\nCloth, Black\\n\n",
       "Name: upholstery, dtype: object"
      ]
     },
     "execution_count": 2514,
     "metadata": {},
     "output_type": "execute_result"
    }
   ],
   "source": [
    "df.upholstery = [item[0] if type(item) == list else item for item in df[\"upholstery\"]]\n",
    "df.upholstery.head()"
   ]
  },
  {
   "cell_type": "code",
   "execution_count": 2515,
   "metadata": {},
   "outputs": [],
   "source": [
    "df.upholstery=df[\"upholstery\"].str[1:].str.replace(\"\\n\", \"\")"
   ]
  },
  {
   "cell_type": "code",
   "execution_count": 2516,
   "metadata": {},
   "outputs": [
    {
     "data": {
      "text/plain": [
       "0    Cloth, Black\n",
       "1     Cloth, Grey\n",
       "2    Cloth, Black\n",
       "3             NaN\n",
       "4    Cloth, Black\n",
       "Name: upholstery, dtype: object"
      ]
     },
     "execution_count": 2516,
     "metadata": {},
     "output_type": "execute_result"
    }
   ],
   "source": [
    "df.upholstery.head()"
   ]
  },
  {
   "cell_type": "code",
   "execution_count": 2517,
   "metadata": {},
   "outputs": [
    {
     "data": {
      "text/plain": [
       "Cloth, Black           5821\n",
       "NaN                    3720\n",
       "Part leather, Black    1121\n",
       "Cloth                  1005\n",
       "Cloth, Grey             891\n",
       "Cloth, Other            639\n",
       "Full leather, Black     575\n",
       "Black                   491\n",
       "Grey                    273\n",
       "Other, Other            182\n",
       "Part leather            140\n",
       "Full leather            139\n",
       "Full leather, Brown     116\n",
       "Part leather, Grey      116\n",
       "Other, Black            110\n",
       "Full leather, Other      72\n",
       "Full leather, Grey       67\n",
       "Part leather, Other      65\n",
       "Other                    56\n",
       "Part leather, Brown      50\n",
       "alcantara, Black         47\n",
       "Velour, Black            36\n",
       "Full leather, Beige      36\n",
       "Cloth, Brown             28\n",
       "Velour                   16\n",
       "Other, Grey              15\n",
       "Cloth, Beige             13\n",
       "Brown                    12\n",
       "Cloth, Blue              12\n",
       "Velour, Grey              8\n",
       "Cloth, White              8\n",
       "alcantara, Grey           6\n",
       "Cloth, Red                5\n",
       "Other, Yellow             4\n",
       "Part leather, Red         3\n",
       "Beige                     3\n",
       "Part leather, White       2\n",
       "Full leather, Blue        2\n",
       "alcantara, Other          2\n",
       "alcantara                 2\n",
       "White                     2\n",
       "Part leather, Beige       2\n",
       "Blue                      2\n",
       "Cloth, Orange             1\n",
       "Full leather, Red         1\n",
       "Other, Brown              1\n",
       "Full leather, White       1\n",
       "Name: upholstery, dtype: int64"
      ]
     },
     "execution_count": 2517,
     "metadata": {},
     "output_type": "execute_result"
    }
   ],
   "source": [
    "df.upholstery.value_counts(dropna=False)"
   ]
  },
  {
   "cell_type": "code",
   "execution_count": 2518,
   "metadata": {},
   "outputs": [],
   "source": [
    "u_type = [\"Cloth\", 'Part leather', 'Full leather', 'Velour', 'alcantara']\n",
    "\n",
    "df[\"upholstery_type\"] = df[\"upholstery\"].apply(lambda x : x[0] if type(x) == list and x[0] in u_type else np.nan)"
   ]
  },
  {
   "cell_type": "code",
   "execution_count": 2519,
   "metadata": {},
   "outputs": [],
   "source": [
    "color = ['Black', 'Grey', 'Brown', 'Beige', 'White', 'Blue', 'Red', 'Yellow', 'Orange']\n",
    "\n",
    "def color_finder(x):\n",
    "    if type(x) == list and len(x) == 2:\n",
    "        return x[1]\n",
    "    elif type(x) == list and x[0] in color:\n",
    "        return x[0]\n",
    "    else:\n",
    "        return np.nan\n",
    "    \n",
    "df['upholstery_color'] = df.upholstery.apply(color_finder)"
   ]
  },
  {
   "cell_type": "code",
   "execution_count": 2520,
   "metadata": {},
   "outputs": [],
   "source": [
    "df.drop([\"upholstery\"], axis=1, inplace=True)"
   ]
  },
  {
   "cell_type": "code",
   "execution_count": null,
   "metadata": {},
   "outputs": [],
   "source": []
  },
  {
   "cell_type": "markdown",
   "metadata": {},
   "source": [
    "## Nr. of Doors"
   ]
  },
  {
   "cell_type": "code",
   "execution_count": 2521,
   "metadata": {},
   "outputs": [
    {
     "data": {
      "text/plain": [
       "[\\n5\\n]    11575\n",
       "[\\n4\\n]     3079\n",
       "[\\n3\\n]      832\n",
       "[\\n2\\n]      219\n",
       "[\\n1\\n]        1\n",
       "[\\n7\\n]        1\n",
       "Name: nr_of_doors, dtype: int64"
      ]
     },
     "execution_count": 2521,
     "metadata": {},
     "output_type": "execute_result"
    }
   ],
   "source": [
    "df[\"nr_of_doors\"].value_counts()"
   ]
  },
  {
   "cell_type": "code",
   "execution_count": 2522,
   "metadata": {},
   "outputs": [
    {
     "data": {
      "text/plain": [
       "212"
      ]
     },
     "execution_count": 2522,
     "metadata": {},
     "output_type": "execute_result"
    }
   ],
   "source": [
    "df[\"nr_of_doors\"].isnull().sum() "
   ]
  },
  {
   "cell_type": "markdown",
   "metadata": {},
   "source": [
    "### doors cleaning"
   ]
  },
  {
   "cell_type": "code",
   "execution_count": 2523,
   "metadata": {},
   "outputs": [],
   "source": [
    "df.nr_of_doors= [item[0] if type(item) == list else item for item in df[\"nr_of_doors\"]]\n"
   ]
  },
  {
   "cell_type": "code",
   "execution_count": 2524,
   "metadata": {},
   "outputs": [],
   "source": [
    "df.nr_of_doors=df[\"nr_of_doors\"].str.strip(\"\\n\")"
   ]
  },
  {
   "cell_type": "code",
   "execution_count": 2525,
   "metadata": {},
   "outputs": [
    {
     "data": {
      "text/plain": [
       "5      11575\n",
       "4       3079\n",
       "3        832\n",
       "2        219\n",
       "NaN      212\n",
       "1          1\n",
       "7          1\n",
       "Name: nr_of_doors, dtype: int64"
      ]
     },
     "execution_count": 2525,
     "metadata": {},
     "output_type": "execute_result"
    }
   ],
   "source": [
    "df.nr_of_doors.value_counts(dropna=False)"
   ]
  },
  {
   "cell_type": "code",
   "execution_count": null,
   "metadata": {},
   "outputs": [],
   "source": []
  },
  {
   "cell_type": "markdown",
   "metadata": {},
   "source": [
    "## Nr. of Seats"
   ]
  },
  {
   "cell_type": "code",
   "execution_count": 2526,
   "metadata": {},
   "outputs": [
    {
     "data": {
      "text/plain": [
       "[\\n5\\n]    13336\n",
       "[\\n4\\n]     1125\n",
       "[\\n7\\n]      362\n",
       "[\\n2\\n]      116\n",
       "[\\n6\\n]        2\n",
       "[\\n3\\n]        1\n",
       "Name: nr_of_seats, dtype: int64"
      ]
     },
     "execution_count": 2526,
     "metadata": {},
     "output_type": "execute_result"
    }
   ],
   "source": [
    "df[\"nr_of_seats\"].value_counts()"
   ]
  },
  {
   "cell_type": "code",
   "execution_count": 2527,
   "metadata": {},
   "outputs": [
    {
     "data": {
      "text/plain": [
       "977"
      ]
     },
     "execution_count": 2527,
     "metadata": {},
     "output_type": "execute_result"
    }
   ],
   "source": [
    "df[\"nr_of_seats\"].isnull().sum() "
   ]
  },
  {
   "cell_type": "markdown",
   "metadata": {},
   "source": [
    "### dpors cleaning"
   ]
  },
  {
   "cell_type": "code",
   "execution_count": 2528,
   "metadata": {},
   "outputs": [],
   "source": [
    "df.nr_of_seats=[item[0] if type(item) == list else item for item in df[\"nr_of_seats\"]]\n"
   ]
  },
  {
   "cell_type": "code",
   "execution_count": 2529,
   "metadata": {},
   "outputs": [],
   "source": [
    "df.nr_of_seats=df[\"nr_of_seats\"].str.strip(\"\\n\")"
   ]
  },
  {
   "cell_type": "code",
   "execution_count": 2530,
   "metadata": {},
   "outputs": [
    {
     "data": {
      "text/plain": [
       "5      13336\n",
       "4       1125\n",
       "NaN      977\n",
       "7        362\n",
       "2        116\n",
       "6          2\n",
       "3          1\n",
       "Name: nr_of_seats, dtype: int64"
      ]
     },
     "execution_count": 2530,
     "metadata": {},
     "output_type": "execute_result"
    }
   ],
   "source": [
    "df.nr_of_seats.value_counts(dropna=False)"
   ]
  },
  {
   "cell_type": "code",
   "execution_count": null,
   "metadata": {},
   "outputs": [],
   "source": []
  },
  {
   "cell_type": "markdown",
   "metadata": {},
   "source": [
    "## Model Code"
   ]
  },
  {
   "cell_type": "code",
   "execution_count": 2531,
   "metadata": {},
   "outputs": [
    {
     "data": {
      "text/plain": [
       "NaN               10941\n",
       "[\\n0035/BCB\\n]      268\n",
       "[\\n0588/BNO\\n]      245\n",
       "[\\n0588/BDB\\n]      206\n",
       "[\\n0588/BHX\\n]      188\n",
       "                  ...  \n",
       "[\\n0035/AVN\\n]        1\n",
       "[\\n0035/BEM\\n]        1\n",
       "[\\n0035/BAG\\n]        1\n",
       "[\\n0035/BAA\\n]        1\n",
       "[\\n3333/BKG\\n]        1\n",
       "Name: model_code, Length: 233, dtype: int64"
      ]
     },
     "execution_count": 2531,
     "metadata": {},
     "output_type": "execute_result"
    }
   ],
   "source": [
    "df[\"model_code\"].value_counts(dropna=False)"
   ]
  },
  {
   "cell_type": "code",
   "execution_count": 2532,
   "metadata": {},
   "outputs": [],
   "source": [
    "df.drop([\"model_code\"], axis=1, inplace=True)"
   ]
  },
  {
   "cell_type": "markdown",
   "metadata": {},
   "source": [
    "## Gearing Type vs Gears"
   ]
  },
  {
   "cell_type": "code",
   "execution_count": 2533,
   "metadata": {},
   "outputs": [
    {
     "data": {
      "text/plain": [
       "[\\n, Manual, \\n]            8153\n",
       "[\\n, Automatic, \\n]         7297\n",
       "[\\n, Semi-automatic, \\n]     469\n",
       "Name: gearing_type, dtype: int64"
      ]
     },
     "execution_count": 2533,
     "metadata": {},
     "output_type": "execute_result"
    }
   ],
   "source": [
    "df[\"gearing_type\"].value_counts(dropna=False)"
   ]
  },
  {
   "cell_type": "code",
   "execution_count": 2534,
   "metadata": {},
   "outputs": [
    {
     "data": {
      "text/plain": [
       "[\\n6\\n]     5822\n",
       "[\\n5\\n]     3239\n",
       "[\\n7\\n]     1908\n",
       "[\\n8\\n]      224\n",
       "[\\n9\\n]        6\n",
       "[\\n1\\n]        2\n",
       "[\\n3\\n]        2\n",
       "[\\n4\\n]        2\n",
       "[\\n2\\n]        1\n",
       "[\\n50\\n]       1\n",
       "Name: gears, dtype: int64"
      ]
     },
     "execution_count": 2534,
     "metadata": {},
     "output_type": "execute_result"
    }
   ],
   "source": [
    "df[\"gears\"].value_counts()\n",
    "# yakit tuketimiyle alakasi olabilir "
   ]
  },
  {
   "cell_type": "code",
   "execution_count": 2535,
   "metadata": {
    "scrolled": false
   },
   "outputs": [
    {
     "data": {
      "text/plain": [
       "gearing_type       0\n",
       "gears           4712\n",
       "dtype: int64"
      ]
     },
     "execution_count": 2535,
     "metadata": {},
     "output_type": "execute_result"
    }
   ],
   "source": [
    "df[[\"gearing_type\",\"gears\"]].isnull().sum() "
   ]
  },
  {
   "cell_type": "markdown",
   "metadata": {},
   "source": [
    "### gear type cleaning"
   ]
  },
  {
   "cell_type": "code",
   "execution_count": 2536,
   "metadata": {},
   "outputs": [],
   "source": [
    " df.gearing_type = [item[1] if type(item) == list else item for item in df[\"gearing_type\"]]\n"
   ]
  },
  {
   "cell_type": "code",
   "execution_count": 2537,
   "metadata": {},
   "outputs": [
    {
     "data": {
      "text/plain": [
       "8547     Automatic\n",
       "3237     Automatic\n",
       "6606     Automatic\n",
       "4862        Manual\n",
       "1986     Automatic\n",
       "14292       Manual\n",
       "5620        Manual\n",
       "5030     Automatic\n",
       "1225        Manual\n",
       "12196       Manual\n",
       "Name: gearing_type, dtype: object"
      ]
     },
     "execution_count": 2537,
     "metadata": {},
     "output_type": "execute_result"
    }
   ],
   "source": [
    "df.gearing_type.sample(10)"
   ]
  },
  {
   "cell_type": "code",
   "execution_count": 2538,
   "metadata": {},
   "outputs": [
    {
     "data": {
      "text/plain": [
       "Manual            8153\n",
       "Automatic         7297\n",
       "Semi-automatic     469\n",
       "Name: gearing_type, dtype: int64"
      ]
     },
     "execution_count": 2538,
     "metadata": {},
     "output_type": "execute_result"
    }
   ],
   "source": [
    "df.gearing_type.value_counts(dropna=False)"
   ]
  },
  {
   "cell_type": "markdown",
   "metadata": {},
   "source": [
    "### gears cleaning"
   ]
  },
  {
   "cell_type": "code",
   "execution_count": 2539,
   "metadata": {},
   "outputs": [],
   "source": [
    "df.gears = [item[0] if type(item) == list else item for item in df[\"gears\"]]\n"
   ]
  },
  {
   "cell_type": "code",
   "execution_count": 2540,
   "metadata": {},
   "outputs": [
    {
     "data": {
      "text/plain": [
       "14753      NaN\n",
       "12071    \\n6\\n\n",
       "15267      NaN\n",
       "10184    \\n5\\n\n",
       "8514       NaN\n",
       "14563    \\n5\\n\n",
       "4781       NaN\n",
       "9767     \\n5\\n\n",
       "12187    \\n6\\n\n",
       "13703      NaN\n",
       "Name: gears, dtype: object"
      ]
     },
     "execution_count": 2540,
     "metadata": {},
     "output_type": "execute_result"
    }
   ],
   "source": [
    "df.gears.sample(10)"
   ]
  },
  {
   "cell_type": "code",
   "execution_count": 2541,
   "metadata": {},
   "outputs": [],
   "source": [
    "df.gears = df[\"gears\"].str.strip(\"\\n\")"
   ]
  },
  {
   "cell_type": "code",
   "execution_count": 2542,
   "metadata": {},
   "outputs": [
    {
     "data": {
      "text/plain": [
       "6      5822\n",
       "NaN    4712\n",
       "5      3239\n",
       "7      1908\n",
       "8       224\n",
       "9         6\n",
       "1         2\n",
       "3         2\n",
       "4         2\n",
       "2         1\n",
       "50        1\n",
       "Name: gears, dtype: int64"
      ]
     },
     "execution_count": 2542,
     "metadata": {},
     "output_type": "execute_result"
    }
   ],
   "source": [
    "df.gears.value_counts(dropna=False)"
   ]
  },
  {
   "cell_type": "code",
   "execution_count": 2543,
   "metadata": {},
   "outputs": [
    {
     "data": {
      "text/plain": [
       "8809       6\n",
       "15189      6\n",
       "7902       5\n",
       "1645     NaN\n",
       "13291    NaN\n",
       "7299       6\n",
       "3953       7\n",
       "1131       7\n",
       "2709       7\n",
       "4031       6\n",
       "Name: gears, dtype: object"
      ]
     },
     "execution_count": 2543,
     "metadata": {},
     "output_type": "execute_result"
    }
   ],
   "source": [
    "df.gears.sample(10)"
   ]
  },
  {
   "cell_type": "code",
   "execution_count": 2544,
   "metadata": {},
   "outputs": [],
   "source": [
    "df.drop([\"gears\"], axis=1, inplace=True)"
   ]
  },
  {
   "cell_type": "markdown",
   "metadata": {},
   "source": [
    "## Displacement - motor silindir hacmi"
   ]
  },
  {
   "cell_type": "code",
   "execution_count": 2545,
   "metadata": {
    "scrolled": true
   },
   "outputs": [
    {
     "data": {
      "text/plain": [
       "[\\n1,598 cc\\n]     4761\n",
       "[\\n999 cc\\n]       2438\n",
       "[\\n1,398 cc\\n]     1314\n",
       "[\\n1,399 cc\\n]      749\n",
       "[\\n1,229 cc\\n]      677\n",
       "[\\n1,956 cc\\n]      670\n",
       "[\\n1,461 cc\\n]      595\n",
       "[\\n1,490 cc\\n]      559\n",
       "[\\n1,422 cc\\n]      467\n",
       "[\\n1,197 cc\\n]      353\n",
       "[\\n898 cc\\n]        351\n",
       "[\\n1,395 cc\\n]      320\n",
       "[\\n1,968 cc\\n]      301\n",
       "[\\n1,149 cc\\n]      288\n",
       "[\\n1,618 cc\\n]      212\n",
       "[\\n1,798 cc\\n]      210\n",
       "[\\n1,498 cc\\n]      196\n",
       "[\\n1,600 cc\\n]      130\n",
       "[\\n1,248 cc\\n]      110\n",
       "[\\n1,997 cc\\n]      103\n",
       "[\\n1,364 cc\\n]      102\n",
       "[\\n1,400 cc\\n]       90\n",
       "[\\n998 cc\\n]         72\n",
       "[\\n1,500 cc\\n]       50\n",
       "[\\n2,000 cc\\n]       46\n",
       "[\\n1,000 cc\\n]       40\n",
       "[\\n1 cc\\n]           36\n",
       "[\\n1,998 cc\\n]       25\n",
       "[\\n2,480 cc\\n]       20\n",
       "[\\n1,200 cc\\n]       18\n",
       "[\\n1,984 cc\\n]       18\n",
       "[\\n1,397 cc\\n]       11\n",
       "[\\n899 cc\\n]         11\n",
       "[\\n160 cc\\n]          6\n",
       "[\\n929 cc\\n]          5\n",
       "[\\n1,499 cc\\n]        5\n",
       "[\\n997 cc\\n]          4\n",
       "[\\n1,596 cc\\n]        4\n",
       "[\\n139 cc\\n]          4\n",
       "[\\n900 cc\\n]          4\n",
       "[\\n1,599 cc\\n]        3\n",
       "[\\n1,199 cc\\n]        3\n",
       "[\\n1,396 cc\\n]        3\n",
       "[\\n1,495 cc\\n]        2\n",
       "[\\n1,589 cc\\n]        2\n",
       "[\\n1,300 cc\\n]        2\n",
       "[\\n2 cc\\n]            2\n",
       "[\\n995 cc\\n]          2\n",
       "[\\n1,496 cc\\n]        1\n",
       "[\\n890 cc\\n]          1\n",
       "[\\n1,580 cc\\n]        1\n",
       "[\\n1,995 cc\\n]        1\n",
       "[\\n1,333 cc\\n]        1\n",
       "[\\n54 cc\\n]           1\n",
       "[\\n1,533 cc\\n]        1\n",
       "[\\n1,100 cc\\n]        1\n",
       "[\\n1,350 cc\\n]        1\n",
       "[\\n16,000 cc\\n]       1\n",
       "[\\n1,856 cc\\n]        1\n",
       "[\\n1,568 cc\\n]        1\n",
       "[\\n1,896 cc\\n]        1\n",
       "[\\n1,584 cc\\n]        1\n",
       "[\\n996 cc\\n]          1\n",
       "[\\n1,696 cc\\n]        1\n",
       "[\\n1,686 cc\\n]        1\n",
       "[\\n15,898 cc\\n]       1\n",
       "[\\n1,368 cc\\n]        1\n",
       "[\\n140 cc\\n]          1\n",
       "[\\n973 cc\\n]          1\n",
       "[\\n1,239 cc\\n]        1\n",
       "[\\n1,369 cc\\n]        1\n",
       "[\\n1,390 cc\\n]        1\n",
       "[\\n122 cc\\n]          1\n",
       "[\\n1,198 cc\\n]        1\n",
       "[\\n1,195 cc\\n]        1\n",
       "[\\n2,967 cc\\n]        1\n",
       "[\\n1,800 cc\\n]        1\n",
       "Name: displacement, dtype: int64"
      ]
     },
     "execution_count": 2545,
     "metadata": {},
     "output_type": "execute_result"
    }
   ],
   "source": [
    "df[\"displacement\"].value_counts()"
   ]
  },
  {
   "cell_type": "code",
   "execution_count": 2546,
   "metadata": {
    "scrolled": true
   },
   "outputs": [
    {
     "data": {
      "text/plain": [
       "496"
      ]
     },
     "execution_count": 2546,
     "metadata": {},
     "output_type": "execute_result"
    }
   ],
   "source": [
    "df[\"displacement\"].isnull().sum() "
   ]
  },
  {
   "cell_type": "markdown",
   "metadata": {},
   "source": [
    "### Displacement cleaning"
   ]
  },
  {
   "cell_type": "code",
   "execution_count": 2547,
   "metadata": {},
   "outputs": [],
   "source": [
    "df.displacement = [item[0] if type(item) == list else item for item in df[\"displacement\"]]\n",
    "## hepsini liste disina cikaracak4\n"
   ]
  },
  {
   "cell_type": "code",
   "execution_count": 2548,
   "metadata": {},
   "outputs": [
    {
     "data": {
      "text/plain": [
       "13684    \\n1,461 cc\\n\n",
       "15858    \\n1,997 cc\\n\n",
       "6222     \\n1,598 cc\\n\n",
       "8337     \\n1,398 cc\\n\n",
       "3015     \\n1,598 cc\\n\n",
       "13738    \\n1,149 cc\\n\n",
       "9909     \\n1,398 cc\\n\n",
       "1393       \\n999 cc\\n\n",
       "14121      \\n898 cc\\n\n",
       "8026     \\n1,000 cc\\n\n",
       "Name: displacement, dtype: object"
      ]
     },
     "execution_count": 2548,
     "metadata": {},
     "output_type": "execute_result"
    }
   ],
   "source": [
    "df[\"displacement\"].sample(10)"
   ]
  },
  {
   "cell_type": "code",
   "execution_count": 2549,
   "metadata": {},
   "outputs": [],
   "source": [
    "df.displacement = df[\"displacement\"].str.replace(\" cc\", \"\").str.replace(\",\", \"\").str.strip(\"\\n\")\n",
    "#df[\"Displacement_cc\"] = df.Displacement.str[0].str.strip('\\n').str.replace(',', '').str.extract('(\\d{1,5})').astype(\"float\") # str.extract('(\\d+)')"
   ]
  },
  {
   "cell_type": "code",
   "execution_count": 2550,
   "metadata": {
    "scrolled": true
   },
   "outputs": [
    {
     "data": {
      "text/plain": [
       "1598     4761\n",
       "999      2438\n",
       "1398     1314\n",
       "1399      749\n",
       "1229      677\n",
       "1956      670\n",
       "1461      595\n",
       "1490      559\n",
       "NaN       496\n",
       "1422      467\n",
       "1197      353\n",
       "898       351\n",
       "1395      320\n",
       "1968      301\n",
       "1149      288\n",
       "1618      212\n",
       "1798      210\n",
       "1498      196\n",
       "1600      130\n",
       "1248      110\n",
       "1997      103\n",
       "1364      102\n",
       "1400       90\n",
       "998        72\n",
       "1500       50\n",
       "2000       46\n",
       "1000       40\n",
       "1          36\n",
       "1998       25\n",
       "2480       20\n",
       "1200       18\n",
       "1984       18\n",
       "1397       11\n",
       "899        11\n",
       "160         6\n",
       "929         5\n",
       "1499        5\n",
       "997         4\n",
       "1596        4\n",
       "139         4\n",
       "900         4\n",
       "1599        3\n",
       "1199        3\n",
       "1396        3\n",
       "1495        2\n",
       "1589        2\n",
       "1300        2\n",
       "2           2\n",
       "995         2\n",
       "1496        1\n",
       "890         1\n",
       "1580        1\n",
       "1995        1\n",
       "1333        1\n",
       "54          1\n",
       "1533        1\n",
       "1100        1\n",
       "1350        1\n",
       "16000       1\n",
       "1856        1\n",
       "1568        1\n",
       "1896        1\n",
       "1584        1\n",
       "996         1\n",
       "1696        1\n",
       "1686        1\n",
       "15898       1\n",
       "1368        1\n",
       "140         1\n",
       "973         1\n",
       "1239        1\n",
       "1369        1\n",
       "1390        1\n",
       "122         1\n",
       "1198        1\n",
       "1195        1\n",
       "2967        1\n",
       "1800        1\n",
       "Name: displacement, dtype: int64"
      ]
     },
     "execution_count": 2550,
     "metadata": {},
     "output_type": "execute_result"
    }
   ],
   "source": [
    "df.displacement.value_counts(dropna=False)"
   ]
  },
  {
   "cell_type": "code",
   "execution_count": null,
   "metadata": {},
   "outputs": [],
   "source": []
  },
  {
   "cell_type": "code",
   "execution_count": null,
   "metadata": {},
   "outputs": [],
   "source": []
  },
  {
   "cell_type": "markdown",
   "metadata": {},
   "source": [
    "## Cylinders"
   ]
  },
  {
   "cell_type": "code",
   "execution_count": 2551,
   "metadata": {},
   "outputs": [
    {
     "data": {
      "text/plain": [
       "[\\n4\\n]    8105\n",
       "NaN        5680\n",
       "[\\n3\\n]    2104\n",
       "[\\n5\\n]      22\n",
       "[\\n6\\n]       3\n",
       "[\\n8\\n]       2\n",
       "[\\n2\\n]       2\n",
       "[\\n1\\n]       1\n",
       "Name: cylinders, dtype: int64"
      ]
     },
     "execution_count": 2551,
     "metadata": {},
     "output_type": "execute_result"
    }
   ],
   "source": [
    "df[\"cylinders\"].value_counts(dropna=False)"
   ]
  },
  {
   "cell_type": "code",
   "execution_count": null,
   "metadata": {
    "scrolled": true
   },
   "outputs": [],
   "source": []
  },
  {
   "cell_type": "markdown",
   "metadata": {},
   "source": [
    "### cylinders cleaning"
   ]
  },
  {
   "cell_type": "code",
   "execution_count": 2552,
   "metadata": {},
   "outputs": [],
   "source": [
    "df.cylinders = [item[0] if type(item) == list else item for item in df[\"cylinders\"]]\n"
   ]
  },
  {
   "cell_type": "code",
   "execution_count": 2553,
   "metadata": {},
   "outputs": [
    {
     "data": {
      "text/plain": [
       "\\n4\\n    8105\n",
       "NaN      5680\n",
       "\\n3\\n    2104\n",
       "\\n5\\n      22\n",
       "\\n6\\n       3\n",
       "\\n8\\n       2\n",
       "\\n2\\n       2\n",
       "\\n1\\n       1\n",
       "Name: cylinders, dtype: int64"
      ]
     },
     "execution_count": 2553,
     "metadata": {},
     "output_type": "execute_result"
    }
   ],
   "source": [
    "df.cylinders.value_counts(dropna=False)"
   ]
  },
  {
   "cell_type": "code",
   "execution_count": 2554,
   "metadata": {},
   "outputs": [],
   "source": [
    "df.cylinders = df[\"cylinders\"].str.strip(\"\\n\")"
   ]
  },
  {
   "cell_type": "code",
   "execution_count": 2555,
   "metadata": {},
   "outputs": [
    {
     "data": {
      "text/plain": [
       "4      8105\n",
       "NaN    5680\n",
       "3      2104\n",
       "5        22\n",
       "6         3\n",
       "8         2\n",
       "2         2\n",
       "1         1\n",
       "Name: cylinders, dtype: int64"
      ]
     },
     "execution_count": 2555,
     "metadata": {},
     "output_type": "execute_result"
    }
   ],
   "source": [
    "df.cylinders.value_counts(dropna=False)"
   ]
  },
  {
   "cell_type": "code",
   "execution_count": 2556,
   "metadata": {},
   "outputs": [
    {
     "data": {
      "text/html": [
       "<div>\n",
       "<style scoped>\n",
       "    .dataframe tbody tr th:only-of-type {\n",
       "        vertical-align: middle;\n",
       "    }\n",
       "\n",
       "    .dataframe tbody tr th {\n",
       "        vertical-align: top;\n",
       "    }\n",
       "\n",
       "    .dataframe thead th {\n",
       "        text-align: right;\n",
       "    }\n",
       "</style>\n",
       "<table border=\"1\" class=\"dataframe\">\n",
       "  <thead>\n",
       "    <tr style=\"text-align: right;\">\n",
       "      <th></th>\n",
       "      <th>url</th>\n",
       "      <th>make_model</th>\n",
       "      <th>short_description</th>\n",
       "      <th>body_type</th>\n",
       "      <th>price</th>\n",
       "      <th>vat</th>\n",
       "      <th>km</th>\n",
       "      <th>hp</th>\n",
       "      <th>type</th>\n",
       "      <th>warranty</th>\n",
       "      <th>null</th>\n",
       "      <th>body_color</th>\n",
       "      <th>nr_of_doors</th>\n",
       "      <th>nr_of_seats</th>\n",
       "      <th>gearing_type</th>\n",
       "      <th>displacement</th>\n",
       "      <th>cylinders</th>\n",
       "      <th>weight</th>\n",
       "      <th>drive_chain</th>\n",
       "      <th>fuel</th>\n",
       "      <th>consumption</th>\n",
       "      <th>comfort_&amp;_convenience</th>\n",
       "      <th>entertainment_&amp;_media</th>\n",
       "      <th>extras</th>\n",
       "      <th>safety_&amp;_security</th>\n",
       "      <th>country_version</th>\n",
       "      <th>electricity_consumption</th>\n",
       "      <th>last_service_date</th>\n",
       "      <th>other_fuel_types</th>\n",
       "      <th>availability</th>\n",
       "      <th>last_timing_belt_service_date</th>\n",
       "      <th>available_from</th>\n",
       "      <th>age</th>\n",
       "      <th>CO2_Emission</th>\n",
       "      <th>upholstery_type</th>\n",
       "      <th>upholstery_color</th>\n",
       "    </tr>\n",
       "  </thead>\n",
       "  <tbody>\n",
       "    <tr>\n",
       "      <th>9956</th>\n",
       "      <td>https://www.autoscout24.com//offers/opel-corsa...</td>\n",
       "      <td>Opel Corsa</td>\n",
       "      <td>1.4 120 Jahre Automatik, OPC-Line, Parkpilot, ...</td>\n",
       "      <td>Compact</td>\n",
       "      <td>16625</td>\n",
       "      <td>VAT deductible</td>\n",
       "      <td>100.000</td>\n",
       "      <td>66.000</td>\n",
       "      <td>Pre-registered</td>\n",
       "      <td>NaN</td>\n",
       "      <td>[]</td>\n",
       "      <td>Black</td>\n",
       "      <td>3</td>\n",
       "      <td>5</td>\n",
       "      <td>Automatic</td>\n",
       "      <td>1398</td>\n",
       "      <td>1</td>\n",
       "      <td>[\\n1,163 kg\\n]</td>\n",
       "      <td>[\\nfront\\n]</td>\n",
       "      <td>[\\n, Super 95, \\n]</td>\n",
       "      <td>[[6 l/100 km (comb)], [7.8 l/100 km (city)], [...</td>\n",
       "      <td>[Air conditioning, Automatic climate control, ...</td>\n",
       "      <td>[Bluetooth, Digital radio, Hands-free equipmen...</td>\n",
       "      <td>[Alloy wheels, Sport suspension]</td>\n",
       "      <td>[ABS, Central door lock, Daytime running light...</td>\n",
       "      <td>[\\nGermany\\n]</td>\n",
       "      <td>NaN</td>\n",
       "      <td>NaN</td>\n",
       "      <td>NaN</td>\n",
       "      <td>NaN</td>\n",
       "      <td>NaN</td>\n",
       "      <td>NaN</td>\n",
       "      <td>0.000</td>\n",
       "      <td>1.000</td>\n",
       "      <td>NaN</td>\n",
       "      <td>NaN</td>\n",
       "    </tr>\n",
       "  </tbody>\n",
       "</table>\n",
       "</div>"
      ],
      "text/plain": [
       "                                                    url  make_model  \\\n",
       "9956  https://www.autoscout24.com//offers/opel-corsa...  Opel Corsa   \n",
       "\n",
       "                                      short_description body_type  price  \\\n",
       "9956  1.4 120 Jahre Automatik, OPC-Line, Parkpilot, ...   Compact  16625   \n",
       "\n",
       "                 vat      km     hp            type  warranty null body_color  \\\n",
       "9956  VAT deductible 100.000 66.000  Pre-registered       NaN   []      Black   \n",
       "\n",
       "     nr_of_doors nr_of_seats gearing_type displacement cylinders  \\\n",
       "9956           3           5    Automatic         1398         1   \n",
       "\n",
       "              weight  drive_chain                fuel  \\\n",
       "9956  [\\n1,163 kg\\n]  [\\nfront\\n]  [\\n, Super 95, \\n]   \n",
       "\n",
       "                                            consumption  \\\n",
       "9956  [[6 l/100 km (comb)], [7.8 l/100 km (city)], [...   \n",
       "\n",
       "                                  comfort_&_convenience  \\\n",
       "9956  [Air conditioning, Automatic climate control, ...   \n",
       "\n",
       "                                  entertainment_&_media  \\\n",
       "9956  [Bluetooth, Digital radio, Hands-free equipmen...   \n",
       "\n",
       "                                extras  \\\n",
       "9956  [Alloy wheels, Sport suspension]   \n",
       "\n",
       "                                      safety_&_security country_version  \\\n",
       "9956  [ABS, Central door lock, Daytime running light...   [\\nGermany\\n]   \n",
       "\n",
       "     electricity_consumption last_service_date other_fuel_types availability  \\\n",
       "9956                     NaN               NaN              NaN          NaN   \n",
       "\n",
       "     last_timing_belt_service_date available_from   age  CO2_Emission  \\\n",
       "9956                           NaN            NaN 0.000         1.000   \n",
       "\n",
       "      upholstery_type  upholstery_color  \n",
       "9956              NaN               NaN  "
      ]
     },
     "execution_count": 2556,
     "metadata": {},
     "output_type": "execute_result"
    }
   ],
   "source": [
    "df[df[\"cylinders\"]==\"1\"]"
   ]
  },
  {
   "cell_type": "code",
   "execution_count": 2557,
   "metadata": {},
   "outputs": [],
   "source": [
    "df.drop([\"cylinders\"], axis=1, inplace=True)"
   ]
  },
  {
   "cell_type": "markdown",
   "metadata": {},
   "source": [
    "## Weight"
   ]
  },
  {
   "cell_type": "code",
   "execution_count": 2558,
   "metadata": {},
   "outputs": [
    {
     "data": {
      "text/plain": [
       "[\\n1,163 kg\\n]    574\n",
       "[\\n1,360 kg\\n]    356\n",
       "[\\n1,165 kg\\n]    301\n",
       "[\\n1,335 kg\\n]    242\n",
       "[\\n1,135 kg\\n]    213\n",
       "                 ... \n",
       "[\\n1,331 kg\\n]      1\n",
       "[\\n1,132 kg\\n]      1\n",
       "[\\n1,252 kg\\n]      1\n",
       "[\\n1,792 kg\\n]      1\n",
       "[\\n2,037 kg\\n]      1\n",
       "Name: weight, Length: 434, dtype: int64"
      ]
     },
     "execution_count": 2558,
     "metadata": {},
     "output_type": "execute_result"
    }
   ],
   "source": [
    "df[\"weight\"].value_counts()"
   ]
  },
  {
   "cell_type": "code",
   "execution_count": 2559,
   "metadata": {
    "scrolled": true
   },
   "outputs": [
    {
     "data": {
      "text/plain": [
       "6974"
      ]
     },
     "execution_count": 2559,
     "metadata": {},
     "output_type": "execute_result"
    }
   ],
   "source": [
    "df[\"weight\"].isnull().sum() "
   ]
  },
  {
   "cell_type": "markdown",
   "metadata": {},
   "source": [
    "### Weight cleaning"
   ]
  },
  {
   "cell_type": "code",
   "execution_count": 2560,
   "metadata": {},
   "outputs": [],
   "source": [
    "df.weight = [item[0] if type(item) == list else item for item in df[\"weight\"]]\n",
    "## hepsini liste disina cikaracak4\n"
   ]
  },
  {
   "cell_type": "code",
   "execution_count": 2561,
   "metadata": {},
   "outputs": [],
   "source": [
    "df.weight = df[\"weight\"].replace({' kg':\"\", \",\":\"\"}, regex=True).str.strip(\"\\n\")"
   ]
  },
  {
   "cell_type": "code",
   "execution_count": 2562,
   "metadata": {},
   "outputs": [
    {
     "data": {
      "text/plain": [
       "NaN     6974\n",
       "1163     574\n",
       "1360     356\n",
       "1165     301\n",
       "1335     242\n",
       "        ... \n",
       "1960       1\n",
       "1258       1\n",
       "1167       1\n",
       "1331       1\n",
       "2037       1\n",
       "Name: weight, Length: 435, dtype: int64"
      ]
     },
     "execution_count": 2562,
     "metadata": {},
     "output_type": "execute_result"
    }
   ],
   "source": [
    "df.weight.value_counts(dropna=False)"
   ]
  },
  {
   "cell_type": "code",
   "execution_count": 2563,
   "metadata": {},
   "outputs": [],
   "source": [
    "df.drop([\"weight\"], axis=1, inplace=True)"
   ]
  },
  {
   "cell_type": "markdown",
   "metadata": {},
   "source": [
    "## Drive chain"
   ]
  },
  {
   "cell_type": "code",
   "execution_count": 2564,
   "metadata": {},
   "outputs": [
    {
     "data": {
      "text/plain": [
       "[\\nfront\\n]    8886\n",
       "[\\n4WD\\n]       171\n",
       "[\\nrear\\n]        4\n",
       "Name: drive_chain, dtype: int64"
      ]
     },
     "execution_count": 2564,
     "metadata": {},
     "output_type": "execute_result"
    }
   ],
   "source": [
    "df[\"drive_chain\"].value_counts()"
   ]
  },
  {
   "cell_type": "code",
   "execution_count": 2565,
   "metadata": {
    "scrolled": true
   },
   "outputs": [
    {
     "data": {
      "text/plain": [
       "6858"
      ]
     },
     "execution_count": 2565,
     "metadata": {},
     "output_type": "execute_result"
    }
   ],
   "source": [
    "df[\"drive_chain\"].isnull().sum() "
   ]
  },
  {
   "cell_type": "markdown",
   "metadata": {},
   "source": [
    "### drive chain cleaning"
   ]
  },
  {
   "cell_type": "code",
   "execution_count": 2566,
   "metadata": {},
   "outputs": [
    {
     "data": {
      "text/plain": [
       "[\\nfront\\n]    8886\n",
       "NaN            6858\n",
       "[\\n4WD\\n]       171\n",
       "[\\nrear\\n]        4\n",
       "Name: drive_chain, dtype: int64"
      ]
     },
     "execution_count": 2566,
     "metadata": {},
     "output_type": "execute_result"
    }
   ],
   "source": [
    "df.drive_chain.value_counts(dropna=False)"
   ]
  },
  {
   "cell_type": "code",
   "execution_count": 2567,
   "metadata": {},
   "outputs": [],
   "source": [
    "df.drive_chain = df[\"drive_chain\"].str[0].str.strip(\"\\n\")"
   ]
  },
  {
   "cell_type": "code",
   "execution_count": 2568,
   "metadata": {},
   "outputs": [
    {
     "data": {
      "text/plain": [
       "front    8886\n",
       "NaN      6858\n",
       "4WD       171\n",
       "rear        4\n",
       "Name: drive_chain, dtype: int64"
      ]
     },
     "execution_count": 2568,
     "metadata": {},
     "output_type": "execute_result"
    }
   ],
   "source": [
    "df.drive_chain.value_counts(dropna=False)"
   ]
  },
  {
   "cell_type": "code",
   "execution_count": 2569,
   "metadata": {},
   "outputs": [],
   "source": [
    "df.drop([\"drive_chain\"], axis=1, inplace=True)"
   ]
  },
  {
   "cell_type": "code",
   "execution_count": null,
   "metadata": {},
   "outputs": [],
   "source": []
  },
  {
   "cell_type": "markdown",
   "metadata": {},
   "source": [
    "## Fuel vs Electricity Consumption vs Other Fuel Types"
   ]
  },
  {
   "cell_type": "code",
   "execution_count": 2570,
   "metadata": {
    "scrolled": true
   },
   "outputs": [
    {
     "data": {
      "text/plain": [
       "['\\n', 'Diesel (Particulate Filter)', '\\n']                                                                                                       4315\n",
       "['\\n', 'Super 95', '\\n']                                                                                                                          3338\n",
       "['\\n', 'Gasoline', '\\n']                                                                                                                          3175\n",
       "['\\n', 'Diesel', '\\n']                                                                                                                            2984\n",
       "['\\n', 'Super 95 / Regular/Benzine 91', '\\n']                                                                                                      424\n",
       "['\\n', 'Regular/Benzine 91', '\\n']                                                                                                                 354\n",
       "['\\n', 'Super E10 95', '\\n']                                                                                                                       331\n",
       "['\\n', 'Super 95 (Particulate Filter)', '\\n']                                                                                                      268\n",
       "['\\n', 'Super 95 / Super E10 95', '\\n']                                                                                                            131\n",
       "['\\n', 'Regular/Benzine 91 (Particulate Filter)', '\\n']                                                                                            100\n",
       "['\\n', 'Super 95 / Super Plus 98', '\\n']                                                                                                            85\n",
       "['\\n', 'Gasoline (Particulate Filter)', '\\n']                                                                                                       77\n",
       "['\\n', 'Super 95 / Super Plus 98 / Super E10 95 / Super Plus E10 98', '\\n']                                                                         40\n",
       "['\\n', 'Super E10 95 / Super 95', '\\n']                                                                                                             38\n",
       "['\\n', 'CNG', '\\n']                                                                                                                                 33\n",
       "['\\n', 'Super 95 / Super E10 95 (Particulate Filter)', '\\n']                                                                                        25\n",
       "['\\n', 'Super E10 95 / Super 95 / Super Plus 98 / Super Plus E10 98', '\\n']                                                                         19\n",
       "['\\n', 'LPG', '\\n']                                                                                                                                 16\n",
       "['\\n', 'Super 95 / Super Plus 98 (Particulate Filter)', '\\n']                                                                                       14\n",
       "['\\n', 'Regular/Benzine 91 / Super 95 / Super Plus 98 / Regular/Benzine E10 91 / Super E10 95 / Super Plus E10 98', '\\n']                           13\n",
       "['\\n', 'Regular/Benzine E10 91', '\\n']                                                                                                              11\n",
       "['\\n', 'Liquid petroleum gas (LPG)', '\\n']                                                                                                          10\n",
       "['\\n', 'Super 95 / Super Plus 98 / Super E10 95', '\\n']                                                                                              8\n",
       "['\\n', 'Regular/Benzine 91 / Regular/Benzine E10 91', '\\n']                                                                                          7\n",
       "['\\n', 'Super 95 / Regular/Benzine 91 / Super Plus 98 / Regular/Benzine E10 91 / Super E10 95 / Super Plus E10 98', '\\n']                            7\n",
       "['\\n', 'Super Plus 98', '\\n']                                                                                                                        7\n",
       "['\\n', 'Super E10 95 (Particulate Filter)', '\\n']                                                                                                    7\n",
       "['\\n', 'Super 95 / Super Plus 98 / Super Plus E10 98 / Super E10 95', '\\n']                                                                          5\n",
       "['\\n', 'Others', '\\n']                                                                                                                               5\n",
       "['\\n', 'Super E10 95 / Super Plus E10 98', '\\n']                                                                                                     4\n",
       "['\\n', 'Electric/Gasoline', '\\n']                                                                                                                    4\n",
       "['\\n', 'Super 95 / Super Plus 98 / Super E10 95 / Super Plus E10 98 (Particulate Filter)', '\\n']                                                     4\n",
       "['\\n', 'Super 95 / Super E10 95 / Super Plus E10 98 / Super Plus 98', '\\n']                                                                          4\n",
       "['\\n', 'Regular/Benzine 91 / Super 95 / Super Plus 98 / Regular/Benzine E10 91 / Super Plus E10 98 / Super E10 95', '\\n']                            4\n",
       "['\\n', 'CNG (Particulate Filter)', '\\n']                                                                                                             3\n",
       "['\\n', 'Super E10 95 / Super 95 / Super Plus 98 / Super Plus E10 98 (Particulate Filter)', '\\n']                                                     3\n",
       "['\\n', 'Super E10 95 / Super 95 / Super Plus 98', '\\n']                                                                                              3\n",
       "['\\n', 'Super E10 95 / Regular/Benzine 91', '\\n']                                                                                                    2\n",
       "['\\n', 'Super 95 / Regular/Benzine 91 / Super Plus 98', '\\n']                                                                                        2\n",
       "['\\n', 'Regular/Benzine 91 / Super 95 / Super Plus 98 / Super Plus E10 98 / Super E10 95 / Regular/Benzine E10 91', '\\n']                            2\n",
       "['\\n', 'Regular/Benzine 91 / Super 95 / Super E10 95', '\\n']                                                                                         1\n",
       "['\\n', 'Electric', '\\n']                                                                                                                             1\n",
       "['\\n', 'Regular/Benzine 91 / Super 95 / Super E10 95 / Super Plus E10 98 / Super Plus 98 / Regular/Benzine E10 91', '\\n']                            1\n",
       "['\\n', 'Super 95 / Super E10 95 / Super Plus E10 98', '\\n']                                                                                          1\n",
       "['\\n', 'Super 95 / Super E10 95 / Super Plus 98', '\\n']                                                                                              1\n",
       "['\\n', 'Regular/Benzine 91 / Super 95 / Super Plus E10 98 / Super E10 95 / Regular/Benzine E10 91 / Super Plus 98', '\\n']                            1\n",
       "['\\n', 'Super 95 / Super Plus 98 / Regular/Benzine E10 91 / Super Plus E10 98 / Super E10 95 / Regular/Benzine 91', '\\n']                            1\n",
       "['\\n', 'Super 95 / Regular/Benzine E10 91', '\\n']                                                                                                    1\n",
       "['\\n', 'Super E10 95 / Regular/Benzine 91 / Regular/Benzine E10 91 / Super 95', '\\n']                                                                1\n",
       "['\\n', 'Super Plus 98 / Regular/Benzine 91', '\\n']                                                                                                   1\n",
       "['\\n', 'Super 95 / Regular/Benzine 91 / Super E10 95 / Super Plus 98 / Super Plus E10 98 / Regular/Benzine E10 91', '\\n']                            1\n",
       "['\\n', 'Super 95 / Super Plus 98 / Super Plus E10 98', '\\n']                                                                                         1\n",
       "['\\n', 'Super 95 / Regular/Benzine 91 (Particulate Filter)', '\\n']                                                                                   1\n",
       "['\\n', 'Super 95 / Super E10 95 / Regular/Benzine 91', '\\n']                                                                                         1\n",
       "['\\n', 'Regular/Benzine 91 / Super 95 / Super E10 95 / Regular/Benzine E10 91', '\\n']                                                                1\n",
       "['\\n', 'Super 95 / Regular/Benzine E10 91 / Super E10 95', '\\n']                                                                                     1\n",
       "['\\n', 'Super 95 / Regular/Benzine 91 / Super Plus 98 / Regular/Benzine E10 91 / Super Plus E10 98 / Super E10 95', '\\n']                            1\n",
       "['\\n', 'Regular/Benzine E10 91 / Super E10 95 / Super Plus E10 98 / Super Plus 98 / Super 95 / Regular/Benzine 91', '\\n']                            1\n",
       "['\\n', 'Super 95 / Regular/Benzine 91 / Super E10 95 / Super Plus E10 98 / Super Plus 98', '\\n']                                                     1\n",
       "['\\n', 'Others (Particulate Filter)', '\\n']                                                                                                          1\n",
       "['\\n', 'Biogas', '\\n']                                                                                                                               1\n",
       "['\\n', 'Super 95 / Biodiesel', '\\n']                                                                                                                 1\n",
       "['\\n', 'Regular/Benzine 91 / Super 95 / Super Plus 98 / Super Plus E10 98 / Super E10 95 / Regular/Benzine E10 91 (Particulate Filter)', '\\n']       1\n",
       "['\\n', 'Regular/Benzine 91 / Super 95 / Super Plus 98', '\\n']                                                                                        1\n",
       "['\\n', 'Regular/Benzine 91 / Super 95', '\\n']                                                                                                        1\n",
       "['\\n', 'Regular/Benzine E10 91 / Regular/Benzine 91 / Super 95 / Super Plus 98 / Super E10 95 / Super Plus E10 98', '\\n']                            1\n",
       "['\\n', 'Domestic gas H', '\\n']                                                                                                                       1\n",
       "['\\n', 'Super E10 95 / Regular/Benzine 91 / Super 95 / Super Plus 98 / Regular/Benzine E10 91 / Super Plus E10 98', '\\n']                            1\n",
       "['\\n', 'Super Plus E10 98 / Super 95 / Super Plus 98 / Super E10 95', '\\n']                                                                          1\n",
       "['\\n', 'Super 95 / Regular/Benzine 91 / Super E10 95 / Super Plus E10 98 / Super Plus 98 / Regular/Benzine E10 91', '\\n']                            1\n",
       "['\\n', 'Super Plus 98 / Super 95 / Super E10 95', '\\n']                                                                                              1\n",
       "['\\n', 'Super Plus E10 98', '\\n']                                                                                                                    1\n",
       "['\\n', 'Regular/Benzine 91 / Super 95 / Regular/Benzine E10 91', '\\n']                                                                               1\n",
       "['\\n', 'Super Plus 98 / Super E10 95', '\\n']                                                                                                         1\n",
       "['\\n', 'Regular/Benzine 91 / Super 95 / Regular/Benzine E10 91 / Super E10 95 / Super Plus 98 / Super Plus E10 98', '\\n']                            1\n",
       "['\\n', 'Regular/Benzine 91 / Super Plus 98 / Regular/Benzine E10 91 / Super 95 / Super E10 95 / Super Plus E10 98', '\\n']                            1\n",
       "['\\n', 'Super Plus 98 / Super 95 / Super Plus E10 98', '\\n']                                                                                         1\n",
       "Name: fuel, dtype: int64"
      ]
     },
     "execution_count": 2570,
     "metadata": {},
     "output_type": "execute_result"
    }
   ],
   "source": [
    "df[\"fuel\"].astype(\"str\").value_counts()"
   ]
  },
  {
   "cell_type": "code",
   "execution_count": 2571,
   "metadata": {},
   "outputs": [
    {
     "data": {
      "text/plain": [
       "fuel                           0\n",
       "electricity_consumption    15782\n",
       "other_fuel_types           15039\n",
       "dtype: int64"
      ]
     },
     "execution_count": 2571,
     "metadata": {},
     "output_type": "execute_result"
    }
   ],
   "source": [
    "df[[\"fuel\",\"electricity_consumption\",\"other_fuel_types\"]].isnull().sum() "
   ]
  },
  {
   "cell_type": "code",
   "execution_count": 2572,
   "metadata": {},
   "outputs": [
    {
     "data": {
      "text/plain": [
       "[\\n0 kWh/100 km (comb)\\n]    137\n",
       "Name: electricity_consumption, dtype: int64"
      ]
     },
     "execution_count": 2572,
     "metadata": {},
     "output_type": "execute_result"
    }
   ],
   "source": [
    "df[\"electricity_consumption\"].value_counts()"
   ]
  },
  {
   "cell_type": "code",
   "execution_count": 2573,
   "metadata": {},
   "outputs": [
    {
     "data": {
      "text/html": [
       "<div>\n",
       "<style scoped>\n",
       "    .dataframe tbody tr th:only-of-type {\n",
       "        vertical-align: middle;\n",
       "    }\n",
       "\n",
       "    .dataframe tbody tr th {\n",
       "        vertical-align: top;\n",
       "    }\n",
       "\n",
       "    .dataframe thead th {\n",
       "        text-align: right;\n",
       "    }\n",
       "</style>\n",
       "<table border=\"1\" class=\"dataframe\">\n",
       "  <thead>\n",
       "    <tr style=\"text-align: right;\">\n",
       "      <th></th>\n",
       "      <th>fuel</th>\n",
       "      <th>electricity_consumption</th>\n",
       "      <th>other_fuel_types</th>\n",
       "    </tr>\n",
       "  </thead>\n",
       "  <tbody>\n",
       "    <tr>\n",
       "      <th>2902</th>\n",
       "      <td>[\\n, Diesel (Particulate Filter), \\n]</td>\n",
       "      <td>NaN</td>\n",
       "      <td>NaN</td>\n",
       "    </tr>\n",
       "    <tr>\n",
       "      <th>2259</th>\n",
       "      <td>[\\n, Super 95, \\n]</td>\n",
       "      <td>NaN</td>\n",
       "      <td>NaN</td>\n",
       "    </tr>\n",
       "    <tr>\n",
       "      <th>5041</th>\n",
       "      <td>[\\n, Super 95, \\n]</td>\n",
       "      <td>NaN</td>\n",
       "      <td>NaN</td>\n",
       "    </tr>\n",
       "    <tr>\n",
       "      <th>12716</th>\n",
       "      <td>[\\n, Diesel (Particulate Filter), \\n]</td>\n",
       "      <td>NaN</td>\n",
       "      <td>NaN</td>\n",
       "    </tr>\n",
       "    <tr>\n",
       "      <th>575</th>\n",
       "      <td>[\\n, Diesel (Particulate Filter), \\n]</td>\n",
       "      <td>NaN</td>\n",
       "      <td>NaN</td>\n",
       "    </tr>\n",
       "    <tr>\n",
       "      <th>5014</th>\n",
       "      <td>[\\n, Regular/Benzine 91, \\n]</td>\n",
       "      <td>NaN</td>\n",
       "      <td>NaN</td>\n",
       "    </tr>\n",
       "    <tr>\n",
       "      <th>11544</th>\n",
       "      <td>[\\n, Diesel (Particulate Filter), \\n]</td>\n",
       "      <td>NaN</td>\n",
       "      <td>NaN</td>\n",
       "    </tr>\n",
       "    <tr>\n",
       "      <th>3017</th>\n",
       "      <td>[\\n, Diesel, \\n]</td>\n",
       "      <td>NaN</td>\n",
       "      <td>NaN</td>\n",
       "    </tr>\n",
       "    <tr>\n",
       "      <th>13030</th>\n",
       "      <td>[\\n, Gasoline, \\n]</td>\n",
       "      <td>NaN</td>\n",
       "      <td>NaN</td>\n",
       "    </tr>\n",
       "    <tr>\n",
       "      <th>4114</th>\n",
       "      <td>[\\n, Diesel, \\n]</td>\n",
       "      <td>NaN</td>\n",
       "      <td>NaN</td>\n",
       "    </tr>\n",
       "    <tr>\n",
       "      <th>10713</th>\n",
       "      <td>[\\n, Diesel, \\n]</td>\n",
       "      <td>NaN</td>\n",
       "      <td>NaN</td>\n",
       "    </tr>\n",
       "    <tr>\n",
       "      <th>10172</th>\n",
       "      <td>[\\n, Super 95, \\n]</td>\n",
       "      <td>NaN</td>\n",
       "      <td>NaN</td>\n",
       "    </tr>\n",
       "    <tr>\n",
       "      <th>10505</th>\n",
       "      <td>[\\n, Diesel (Particulate Filter), \\n]</td>\n",
       "      <td>NaN</td>\n",
       "      <td>NaN</td>\n",
       "    </tr>\n",
       "    <tr>\n",
       "      <th>8529</th>\n",
       "      <td>[\\n, Super 95, \\n]</td>\n",
       "      <td>NaN</td>\n",
       "      <td>NaN</td>\n",
       "    </tr>\n",
       "    <tr>\n",
       "      <th>9990</th>\n",
       "      <td>[\\n, Super 95 / Super E10 95, \\n]</td>\n",
       "      <td>NaN</td>\n",
       "      <td>[[], [], []]</td>\n",
       "    </tr>\n",
       "  </tbody>\n",
       "</table>\n",
       "</div>"
      ],
      "text/plain": [
       "                                        fuel electricity_consumption  \\\n",
       "2902   [\\n, Diesel (Particulate Filter), \\n]                     NaN   \n",
       "2259                      [\\n, Super 95, \\n]                     NaN   \n",
       "5041                      [\\n, Super 95, \\n]                     NaN   \n",
       "12716  [\\n, Diesel (Particulate Filter), \\n]                     NaN   \n",
       "575    [\\n, Diesel (Particulate Filter), \\n]                     NaN   \n",
       "5014            [\\n, Regular/Benzine 91, \\n]                     NaN   \n",
       "11544  [\\n, Diesel (Particulate Filter), \\n]                     NaN   \n",
       "3017                        [\\n, Diesel, \\n]                     NaN   \n",
       "13030                     [\\n, Gasoline, \\n]                     NaN   \n",
       "4114                        [\\n, Diesel, \\n]                     NaN   \n",
       "10713                       [\\n, Diesel, \\n]                     NaN   \n",
       "10172                     [\\n, Super 95, \\n]                     NaN   \n",
       "10505  [\\n, Diesel (Particulate Filter), \\n]                     NaN   \n",
       "8529                      [\\n, Super 95, \\n]                     NaN   \n",
       "9990       [\\n, Super 95 / Super E10 95, \\n]                     NaN   \n",
       "\n",
       "      other_fuel_types  \n",
       "2902               NaN  \n",
       "2259               NaN  \n",
       "5041               NaN  \n",
       "12716              NaN  \n",
       "575                NaN  \n",
       "5014               NaN  \n",
       "11544              NaN  \n",
       "3017               NaN  \n",
       "13030              NaN  \n",
       "4114               NaN  \n",
       "10713              NaN  \n",
       "10172              NaN  \n",
       "10505              NaN  \n",
       "8529               NaN  \n",
       "9990      [[], [], []]  "
      ]
     },
     "execution_count": 2573,
     "metadata": {},
     "output_type": "execute_result"
    }
   ],
   "source": [
    "df[[\"fuel\",\"electricity_consumption\", \"other_fuel_types\" ]].sample(15)"
   ]
  },
  {
   "cell_type": "markdown",
   "metadata": {},
   "source": [
    "### fuel cleaning"
   ]
  },
  {
   "cell_type": "code",
   "execution_count": 2574,
   "metadata": {
    "scrolled": true
   },
   "outputs": [
    {
     "data": {
      "text/plain": [
       "['\\n', 'Diesel (Particulate Filter)', '\\n']                                                                                                       4315\n",
       "['\\n', 'Super 95', '\\n']                                                                                                                          3338\n",
       "['\\n', 'Gasoline', '\\n']                                                                                                                          3175\n",
       "['\\n', 'Diesel', '\\n']                                                                                                                            2984\n",
       "['\\n', 'Super 95 / Regular/Benzine 91', '\\n']                                                                                                      424\n",
       "['\\n', 'Regular/Benzine 91', '\\n']                                                                                                                 354\n",
       "['\\n', 'Super E10 95', '\\n']                                                                                                                       331\n",
       "['\\n', 'Super 95 (Particulate Filter)', '\\n']                                                                                                      268\n",
       "['\\n', 'Super 95 / Super E10 95', '\\n']                                                                                                            131\n",
       "['\\n', 'Regular/Benzine 91 (Particulate Filter)', '\\n']                                                                                            100\n",
       "['\\n', 'Super 95 / Super Plus 98', '\\n']                                                                                                            85\n",
       "['\\n', 'Gasoline (Particulate Filter)', '\\n']                                                                                                       77\n",
       "['\\n', 'Super 95 / Super Plus 98 / Super E10 95 / Super Plus E10 98', '\\n']                                                                         40\n",
       "['\\n', 'Super E10 95 / Super 95', '\\n']                                                                                                             38\n",
       "['\\n', 'CNG', '\\n']                                                                                                                                 33\n",
       "['\\n', 'Super 95 / Super E10 95 (Particulate Filter)', '\\n']                                                                                        25\n",
       "['\\n', 'Super E10 95 / Super 95 / Super Plus 98 / Super Plus E10 98', '\\n']                                                                         19\n",
       "['\\n', 'LPG', '\\n']                                                                                                                                 16\n",
       "['\\n', 'Super 95 / Super Plus 98 (Particulate Filter)', '\\n']                                                                                       14\n",
       "['\\n', 'Regular/Benzine 91 / Super 95 / Super Plus 98 / Regular/Benzine E10 91 / Super E10 95 / Super Plus E10 98', '\\n']                           13\n",
       "['\\n', 'Regular/Benzine E10 91', '\\n']                                                                                                              11\n",
       "['\\n', 'Liquid petroleum gas (LPG)', '\\n']                                                                                                          10\n",
       "['\\n', 'Super 95 / Super Plus 98 / Super E10 95', '\\n']                                                                                              8\n",
       "['\\n', 'Regular/Benzine 91 / Regular/Benzine E10 91', '\\n']                                                                                          7\n",
       "['\\n', 'Super 95 / Regular/Benzine 91 / Super Plus 98 / Regular/Benzine E10 91 / Super E10 95 / Super Plus E10 98', '\\n']                            7\n",
       "['\\n', 'Super Plus 98', '\\n']                                                                                                                        7\n",
       "['\\n', 'Super E10 95 (Particulate Filter)', '\\n']                                                                                                    7\n",
       "['\\n', 'Super 95 / Super Plus 98 / Super Plus E10 98 / Super E10 95', '\\n']                                                                          5\n",
       "['\\n', 'Others', '\\n']                                                                                                                               5\n",
       "['\\n', 'Super E10 95 / Super Plus E10 98', '\\n']                                                                                                     4\n",
       "['\\n', 'Electric/Gasoline', '\\n']                                                                                                                    4\n",
       "['\\n', 'Super 95 / Super Plus 98 / Super E10 95 / Super Plus E10 98 (Particulate Filter)', '\\n']                                                     4\n",
       "['\\n', 'Super 95 / Super E10 95 / Super Plus E10 98 / Super Plus 98', '\\n']                                                                          4\n",
       "['\\n', 'Regular/Benzine 91 / Super 95 / Super Plus 98 / Regular/Benzine E10 91 / Super Plus E10 98 / Super E10 95', '\\n']                            4\n",
       "['\\n', 'CNG (Particulate Filter)', '\\n']                                                                                                             3\n",
       "['\\n', 'Super E10 95 / Super 95 / Super Plus 98 / Super Plus E10 98 (Particulate Filter)', '\\n']                                                     3\n",
       "['\\n', 'Super E10 95 / Super 95 / Super Plus 98', '\\n']                                                                                              3\n",
       "['\\n', 'Super E10 95 / Regular/Benzine 91', '\\n']                                                                                                    2\n",
       "['\\n', 'Super 95 / Regular/Benzine 91 / Super Plus 98', '\\n']                                                                                        2\n",
       "['\\n', 'Regular/Benzine 91 / Super 95 / Super Plus 98 / Super Plus E10 98 / Super E10 95 / Regular/Benzine E10 91', '\\n']                            2\n",
       "['\\n', 'Regular/Benzine 91 / Super 95 / Super E10 95', '\\n']                                                                                         1\n",
       "['\\n', 'Electric', '\\n']                                                                                                                             1\n",
       "['\\n', 'Regular/Benzine 91 / Super 95 / Super E10 95 / Super Plus E10 98 / Super Plus 98 / Regular/Benzine E10 91', '\\n']                            1\n",
       "['\\n', 'Super 95 / Super E10 95 / Super Plus E10 98', '\\n']                                                                                          1\n",
       "['\\n', 'Super 95 / Super E10 95 / Super Plus 98', '\\n']                                                                                              1\n",
       "['\\n', 'Regular/Benzine 91 / Super 95 / Super Plus E10 98 / Super E10 95 / Regular/Benzine E10 91 / Super Plus 98', '\\n']                            1\n",
       "['\\n', 'Super 95 / Super Plus 98 / Regular/Benzine E10 91 / Super Plus E10 98 / Super E10 95 / Regular/Benzine 91', '\\n']                            1\n",
       "['\\n', 'Super 95 / Regular/Benzine E10 91', '\\n']                                                                                                    1\n",
       "['\\n', 'Super E10 95 / Regular/Benzine 91 / Regular/Benzine E10 91 / Super 95', '\\n']                                                                1\n",
       "['\\n', 'Super Plus 98 / Regular/Benzine 91', '\\n']                                                                                                   1\n",
       "['\\n', 'Super 95 / Regular/Benzine 91 / Super E10 95 / Super Plus 98 / Super Plus E10 98 / Regular/Benzine E10 91', '\\n']                            1\n",
       "['\\n', 'Super 95 / Super Plus 98 / Super Plus E10 98', '\\n']                                                                                         1\n",
       "['\\n', 'Super 95 / Regular/Benzine 91 (Particulate Filter)', '\\n']                                                                                   1\n",
       "['\\n', 'Super 95 / Super E10 95 / Regular/Benzine 91', '\\n']                                                                                         1\n",
       "['\\n', 'Regular/Benzine 91 / Super 95 / Super E10 95 / Regular/Benzine E10 91', '\\n']                                                                1\n",
       "['\\n', 'Super 95 / Regular/Benzine E10 91 / Super E10 95', '\\n']                                                                                     1\n",
       "['\\n', 'Super 95 / Regular/Benzine 91 / Super Plus 98 / Regular/Benzine E10 91 / Super Plus E10 98 / Super E10 95', '\\n']                            1\n",
       "['\\n', 'Regular/Benzine E10 91 / Super E10 95 / Super Plus E10 98 / Super Plus 98 / Super 95 / Regular/Benzine 91', '\\n']                            1\n",
       "['\\n', 'Super 95 / Regular/Benzine 91 / Super E10 95 / Super Plus E10 98 / Super Plus 98', '\\n']                                                     1\n",
       "['\\n', 'Others (Particulate Filter)', '\\n']                                                                                                          1\n",
       "['\\n', 'Biogas', '\\n']                                                                                                                               1\n",
       "['\\n', 'Super 95 / Biodiesel', '\\n']                                                                                                                 1\n",
       "['\\n', 'Regular/Benzine 91 / Super 95 / Super Plus 98 / Super Plus E10 98 / Super E10 95 / Regular/Benzine E10 91 (Particulate Filter)', '\\n']       1\n",
       "['\\n', 'Regular/Benzine 91 / Super 95 / Super Plus 98', '\\n']                                                                                        1\n",
       "['\\n', 'Regular/Benzine 91 / Super 95', '\\n']                                                                                                        1\n",
       "['\\n', 'Regular/Benzine E10 91 / Regular/Benzine 91 / Super 95 / Super Plus 98 / Super E10 95 / Super Plus E10 98', '\\n']                            1\n",
       "['\\n', 'Domestic gas H', '\\n']                                                                                                                       1\n",
       "['\\n', 'Super E10 95 / Regular/Benzine 91 / Super 95 / Super Plus 98 / Regular/Benzine E10 91 / Super Plus E10 98', '\\n']                            1\n",
       "['\\n', 'Super Plus E10 98 / Super 95 / Super Plus 98 / Super E10 95', '\\n']                                                                          1\n",
       "['\\n', 'Super 95 / Regular/Benzine 91 / Super E10 95 / Super Plus E10 98 / Super Plus 98 / Regular/Benzine E10 91', '\\n']                            1\n",
       "['\\n', 'Super Plus 98 / Super 95 / Super E10 95', '\\n']                                                                                              1\n",
       "['\\n', 'Super Plus E10 98', '\\n']                                                                                                                    1\n",
       "['\\n', 'Regular/Benzine 91 / Super 95 / Regular/Benzine E10 91', '\\n']                                                                               1\n",
       "['\\n', 'Super Plus 98 / Super E10 95', '\\n']                                                                                                         1\n",
       "['\\n', 'Regular/Benzine 91 / Super 95 / Regular/Benzine E10 91 / Super E10 95 / Super Plus 98 / Super Plus E10 98', '\\n']                            1\n",
       "['\\n', 'Regular/Benzine 91 / Super Plus 98 / Regular/Benzine E10 91 / Super 95 / Super E10 95 / Super Plus E10 98', '\\n']                            1\n",
       "['\\n', 'Super Plus 98 / Super 95 / Super Plus E10 98', '\\n']                                                                                         1\n",
       "Name: fuel, dtype: int64"
      ]
     },
     "execution_count": 2574,
     "metadata": {},
     "output_type": "execute_result"
    }
   ],
   "source": [
    "df[\"fuel\"].astype('str').value_counts(dropna=False)\n"
   ]
  },
  {
   "cell_type": "code",
   "execution_count": 2575,
   "metadata": {},
   "outputs": [],
   "source": [
    "df[\"fuel\"] = df.fuel.str[1].str.split(\"/\").str[0].str.strip()\n"
   ]
  },
  {
   "cell_type": "code",
   "execution_count": 2576,
   "metadata": {},
   "outputs": [
    {
     "data": {
      "text/plain": [
       "Diesel (Particulate Filter)          4315\n",
       "Super 95                             4100\n",
       "Gasoline                             3175\n",
       "Diesel                               2984\n",
       "Regular                               503\n",
       "Super E10 95                          402\n",
       "Super 95 (Particulate Filter)         268\n",
       "Gasoline (Particulate Filter)          77\n",
       "CNG                                    33\n",
       "LPG                                    16\n",
       "Super Plus 98                          11\n",
       "Liquid petroleum gas (LPG)             10\n",
       "Super E10 95 (Particulate Filter)       7\n",
       "Electric                                5\n",
       "Others                                  5\n",
       "CNG (Particulate Filter)                3\n",
       "Super Plus E10 98                       2\n",
       "Others (Particulate Filter)             1\n",
       "Biogas                                  1\n",
       "Domestic gas H                          1\n",
       "Name: fuel, dtype: int64"
      ]
     },
     "execution_count": 2576,
     "metadata": {},
     "output_type": "execute_result"
    }
   ],
   "source": [
    "df[\"fuel\"].value_counts(dropna=False)\n"
   ]
  },
  {
   "cell_type": "code",
   "execution_count": 2577,
   "metadata": {},
   "outputs": [],
   "source": [
    "df[\"fuel\"] = df.fuel.str.split(\"(\").str[0].str.strip()\n"
   ]
  },
  {
   "cell_type": "code",
   "execution_count": 2578,
   "metadata": {},
   "outputs": [
    {
     "data": {
      "text/plain": [
       "Diesel                  7299\n",
       "Super 95                4368\n",
       "Gasoline                3252\n",
       "Regular                  503\n",
       "Super E10 95             409\n",
       "CNG                       36\n",
       "LPG                       16\n",
       "Super Plus 98             11\n",
       "Liquid petroleum gas      10\n",
       "Others                     6\n",
       "Electric                   5\n",
       "Super Plus E10 98          2\n",
       "Biogas                     1\n",
       "Domestic gas H             1\n",
       "Name: fuel, dtype: int64"
      ]
     },
     "execution_count": 2578,
     "metadata": {},
     "output_type": "execute_result"
    }
   ],
   "source": [
    "df[\"fuel\"].value_counts(dropna=False)\n"
   ]
  },
  {
   "cell_type": "code",
   "execution_count": 2579,
   "metadata": {},
   "outputs": [],
   "source": [
    "benzin = [\"Gasoline\", \"Super 95\", \"Regular\", \"Super E10 95\", \"Super Plus 98\", \"Super Plus E10 98\", \"Others\"]\n",
    "\n",
    "gas = [\"LPG\", \"Liquid petroleum gas\", \"CNG\", \"Biogas\", \"Domestic gas H\"]\n",
    "\n",
    "\n",
    "def fueltypes(x):\n",
    "    if x in benzin:\n",
    "        return \"Benzin\"\n",
    "    elif x in gas:\n",
    "        return \"Gas\"\n",
    "    else:\n",
    "        return x\n",
    "    \n",
    "    \n",
    "df.fuel = df.fuel.apply(fueltypes)"
   ]
  },
  {
   "cell_type": "code",
   "execution_count": 2580,
   "metadata": {
    "scrolled": true
   },
   "outputs": [
    {
     "data": {
      "text/plain": [
       "Benzin      8551\n",
       "Diesel      7299\n",
       "Gas           64\n",
       "Electric       5\n",
       "Name: fuel, dtype: int64"
      ]
     },
     "execution_count": 2580,
     "metadata": {},
     "output_type": "execute_result"
    }
   ],
   "source": [
    "df.fuel.value_counts()"
   ]
  },
  {
   "cell_type": "code",
   "execution_count": 2581,
   "metadata": {},
   "outputs": [],
   "source": [
    "#alternative method\n",
    "\n",
    "#df[\"fuel_new\"] = df.Fuel.str[1]\n",
    "#diesel_bool = df[\"fuel_new\"].str.contains(\"diesel\", case = False, regex = True)\n",
    "#lpg_bool = df[\"fuel_new\"].str.contains(\"lpg|cng|bio|domestic|electric\", case=False, regex=True)\n",
    "#df.loc[diesel_bool, \"fuel_new\"] = \"Diesel\"\n",
    "#df.loc[lpg_bool, \"fuel_new\"] = \"LPG/CNG\"\n",
    "#benz = list(df.fuel_new.loc[lambda x : x != \"Diesel\"][lambda x : x != \"LPG/CNG\"].index)\n",
    "#df.fuel_new.iloc[benz] = \"Benzine\""
   ]
  },
  {
   "cell_type": "code",
   "execution_count": null,
   "metadata": {},
   "outputs": [],
   "source": []
  },
  {
   "cell_type": "markdown",
   "metadata": {},
   "source": [
    "## Consumption"
   ]
  },
  {
   "cell_type": "code",
   "execution_count": 2582,
   "metadata": {},
   "outputs": [
    {
     "data": {
      "text/plain": [
       "[[3.9 l/100 km (comb)], [4.1 l/100 km (city)], [3.7 l/100 km (country)]]              304\n",
       "[[4.2 l/100 km (comb)], [5 l/100 km (city)], [3.7 l/100 km (country)]]                276\n",
       "[[5.4 l/100 km (comb)], [6.8 l/100 km (city)], [4.5 l/100 km (country)]]              257\n",
       "[[3.8 l/100 km (comb)], [4.3 l/100 km (city)], [3.5 l/100 km (country)]]              253\n",
       "[[4.7 l/100 km (comb)], [5.1 l/100 km (city)], [4.4 l/100 km (country)]]              244\n",
       "                                                                                     ... \n",
       "[[4.2 l/100 km (comb)], [5.3 l/100 km (city)], [3.6 l/100 km (country)]]                1\n",
       "[\\n, 5.1 l/100 km (comb), \\n, 6.4 l/100 km (city), \\n, 4.3 l/100 km (country), \\n]      1\n",
       "[[4.6 l/100 km (comb)], [5.4 l/100 km (city)], [6.7 l/100 km (country)]]                1\n",
       "[\\n, 6.3 l/100 km (comb), \\n, \\n, \\n]                                                   1\n",
       "[\\n, 7.4 l/100 km (comb), \\n, 9.6 l/100 km (city), \\n, 6 l/100 km (country), \\n]        1\n",
       "Name: consumption, Length: 881, dtype: int64"
      ]
     },
     "execution_count": 2582,
     "metadata": {},
     "output_type": "execute_result"
    }
   ],
   "source": [
    "df[\"consumption\"].value_counts()"
   ]
  },
  {
   "cell_type": "code",
   "execution_count": 2583,
   "metadata": {},
   "outputs": [
    {
     "data": {
      "text/plain": [
       "1906"
      ]
     },
     "execution_count": 2583,
     "metadata": {},
     "output_type": "execute_result"
    }
   ],
   "source": [
    "df[\"consumption\"].isnull().sum() "
   ]
  },
  {
   "cell_type": "code",
   "execution_count": 2584,
   "metadata": {
    "scrolled": false
   },
   "outputs": [
    {
     "data": {
      "text/html": [
       "<div>\n",
       "<style scoped>\n",
       "    .dataframe tbody tr th:only-of-type {\n",
       "        vertical-align: middle;\n",
       "    }\n",
       "\n",
       "    .dataframe tbody tr th {\n",
       "        vertical-align: top;\n",
       "    }\n",
       "\n",
       "    .dataframe thead th {\n",
       "        text-align: right;\n",
       "    }\n",
       "</style>\n",
       "<table border=\"1\" class=\"dataframe\">\n",
       "  <thead>\n",
       "    <tr style=\"text-align: right;\">\n",
       "      <th></th>\n",
       "      <th>consumption</th>\n",
       "    </tr>\n",
       "  </thead>\n",
       "  <tbody>\n",
       "    <tr>\n",
       "      <th>14746</th>\n",
       "      <td>NaN</td>\n",
       "    </tr>\n",
       "    <tr>\n",
       "      <th>10066</th>\n",
       "      <td>[[6.3 l/100 km (comb)], [7.8 l/100 km (city)],...</td>\n",
       "    </tr>\n",
       "    <tr>\n",
       "      <th>5762</th>\n",
       "      <td>[[5.4 l/100 km (comb)], [7.1 l/100 km (city)],...</td>\n",
       "    </tr>\n",
       "    <tr>\n",
       "      <th>12730</th>\n",
       "      <td>[[6.1 l/100 km (comb)], [7.6 l/100 km (city)],...</td>\n",
       "    </tr>\n",
       "    <tr>\n",
       "      <th>1437</th>\n",
       "      <td>[[3.9 l/100 km (comb)], [4.5 l/100 km (city)],...</td>\n",
       "    </tr>\n",
       "    <tr>\n",
       "      <th>5049</th>\n",
       "      <td>[[5.2 l/100 km (comb)], [6.4 l/100 km (city)],...</td>\n",
       "    </tr>\n",
       "    <tr>\n",
       "      <th>15856</th>\n",
       "      <td>[[6.8 l/100 km (comb)], [8.7 l/100 km (city)],...</td>\n",
       "    </tr>\n",
       "    <tr>\n",
       "      <th>2948</th>\n",
       "      <td>[[3.8 l/100 km (comb)], [4.3 l/100 km (city)],...</td>\n",
       "    </tr>\n",
       "    <tr>\n",
       "      <th>12851</th>\n",
       "      <td>NaN</td>\n",
       "    </tr>\n",
       "    <tr>\n",
       "      <th>5663</th>\n",
       "      <td>[\\n, 5.5 l/100 km (comb), \\n, 6.9 l/100 km (ci...</td>\n",
       "    </tr>\n",
       "    <tr>\n",
       "      <th>9064</th>\n",
       "      <td>[[5.6 l/100 km (comb)], [7.2 l/100 km (city)],...</td>\n",
       "    </tr>\n",
       "    <tr>\n",
       "      <th>14296</th>\n",
       "      <td>[[5 l/100 km (comb)], [6.3 l/100 km (city)], [...</td>\n",
       "    </tr>\n",
       "    <tr>\n",
       "      <th>381</th>\n",
       "      <td>[[4.4 l/100 km (comb)], [5.4 l/100 km (city)],...</td>\n",
       "    </tr>\n",
       "    <tr>\n",
       "      <th>11433</th>\n",
       "      <td>[[5.5 l/100 km (comb)], [7 l/100 km (city)], [...</td>\n",
       "    </tr>\n",
       "    <tr>\n",
       "      <th>13996</th>\n",
       "      <td>[[5.5 l/100 km (comb)], [7 l/100 km (city)], [...</td>\n",
       "    </tr>\n",
       "  </tbody>\n",
       "</table>\n",
       "</div>"
      ],
      "text/plain": [
       "                                             consumption\n",
       "14746                                                NaN\n",
       "10066  [[6.3 l/100 km (comb)], [7.8 l/100 km (city)],...\n",
       "5762   [[5.4 l/100 km (comb)], [7.1 l/100 km (city)],...\n",
       "12730  [[6.1 l/100 km (comb)], [7.6 l/100 km (city)],...\n",
       "1437   [[3.9 l/100 km (comb)], [4.5 l/100 km (city)],...\n",
       "5049   [[5.2 l/100 km (comb)], [6.4 l/100 km (city)],...\n",
       "15856  [[6.8 l/100 km (comb)], [8.7 l/100 km (city)],...\n",
       "2948   [[3.8 l/100 km (comb)], [4.3 l/100 km (city)],...\n",
       "12851                                                NaN\n",
       "5663   [\\n, 5.5 l/100 km (comb), \\n, 6.9 l/100 km (ci...\n",
       "9064   [[5.6 l/100 km (comb)], [7.2 l/100 km (city)],...\n",
       "14296  [[5 l/100 km (comb)], [6.3 l/100 km (city)], [...\n",
       "381    [[4.4 l/100 km (comb)], [5.4 l/100 km (city)],...\n",
       "11433  [[5.5 l/100 km (comb)], [7 l/100 km (city)], [...\n",
       "13996  [[5.5 l/100 km (comb)], [7 l/100 km (city)], [..."
      ]
     },
     "execution_count": 2584,
     "metadata": {},
     "output_type": "execute_result"
    }
   ],
   "source": [
    "df[[\"consumption\"]].sample(15)"
   ]
  },
  {
   "cell_type": "markdown",
   "metadata": {},
   "source": [
    "### consumption cleaning"
   ]
  },
  {
   "cell_type": "code",
   "execution_count": 2585,
   "metadata": {},
   "outputs": [
    {
     "data": {
      "text/plain": [
       "NaN                                                                                   1906\n",
       "[[3.9 l/100 km (comb)], [4.1 l/100 km (city)], [3.7 l/100 km (country)]]               304\n",
       "[[4.2 l/100 km (comb)], [5 l/100 km (city)], [3.7 l/100 km (country)]]                 276\n",
       "[[5.4 l/100 km (comb)], [6.8 l/100 km (city)], [4.5 l/100 km (country)]]               257\n",
       "[[3.8 l/100 km (comb)], [4.3 l/100 km (city)], [3.5 l/100 km (country)]]               253\n",
       "                                                                                      ... \n",
       "[[4.2 l/100 km (comb)], [5.3 l/100 km (city)], [3.6 l/100 km (country)]]                 1\n",
       "[\\n, 5.1 l/100 km (comb), \\n, 6.4 l/100 km (city), \\n, 4.3 l/100 km (country), \\n]       1\n",
       "[[4.6 l/100 km (comb)], [5.4 l/100 km (city)], [6.7 l/100 km (country)]]                 1\n",
       "[\\n, 6.3 l/100 km (comb), \\n, \\n, \\n]                                                    1\n",
       "[\\n, 7.4 l/100 km (comb), \\n, 9.6 l/100 km (city), \\n, 6 l/100 km (country), \\n]         1\n",
       "Name: consumption, Length: 882, dtype: int64"
      ]
     },
     "execution_count": 2585,
     "metadata": {},
     "output_type": "execute_result"
    }
   ],
   "source": [
    "df.consumption.value_counts(dropna=False)"
   ]
  },
  {
   "cell_type": "code",
   "execution_count": 2586,
   "metadata": {
    "scrolled": true
   },
   "outputs": [
    {
     "data": {
      "text/plain": [
       "NaN    2033\n",
       "\\n      850\n",
       "3.9     732\n",
       "4 l     712\n",
       "5.4     663\n",
       "5.1     630\n",
       "4.4     595\n",
       "3.8     585\n",
       "5.6     568\n",
       "4.7     555\n",
       "4.8     523\n",
       "5 l     513\n",
       "4.5     511\n",
       "5.2     429\n",
       "4.6     420\n",
       "4.2     408\n",
       "5.3     375\n",
       "3.7     369\n",
       "4.9     348\n",
       "5.5     342\n",
       "4.1     341\n",
       "5.9     308\n",
       "3.3     307\n",
       "5.7     302\n",
       "4.3     295\n",
       "3.5     288\n",
       "6 l     278\n",
       "3.6     194\n",
       "6.2     184\n",
       "5.8     142\n",
       "6.3     141\n",
       "6.1     135\n",
       "6.8     134\n",
       "6.6     119\n",
       "3.4     106\n",
       "3 l      69\n",
       "6.4      64\n",
       "7.4      62\n",
       "7.1      38\n",
       "6.5      36\n",
       "10       34\n",
       "6.7      33\n",
       "3.2      25\n",
       "6.9      21\n",
       "8.3      20\n",
       "7.6      14\n",
       "7 l       9\n",
       "3.1       7\n",
       "7.2       6\n",
       "7.8       6\n",
       "8 l       5\n",
       "51        4\n",
       "8.7       3\n",
       "8.6       3\n",
       "7.3       2\n",
       "7.9       2\n",
       "40        2\n",
       "38        2\n",
       "8.1       2\n",
       "0 l       2\n",
       "11        1\n",
       "43        1\n",
       "7.5       1\n",
       "13.       1\n",
       "55        1\n",
       "54        1\n",
       "1.2       1\n",
       "32        1\n",
       "33        1\n",
       "50        1\n",
       "1 l       1\n",
       "46        1\n",
       "9.1       1\n",
       "Name: consumption, dtype: int64"
      ]
     },
     "execution_count": 2586,
     "metadata": {},
     "output_type": "execute_result"
    }
   ],
   "source": [
    "df.consumption.str[0].str[0].str[0:3].value_counts(dropna=False)"
   ]
  },
  {
   "cell_type": "code",
   "execution_count": 2587,
   "metadata": {},
   "outputs": [],
   "source": [
    "def consumption_clean(x):\n",
    "    if \"/100\" in str(x):\n",
    "        x = x.split(\"/\")[0].strip(\" lkg\")\n",
    "    else:\n",
    "        x = np.nan\n",
    "    return x"
   ]
  },
  {
   "cell_type": "code",
   "execution_count": 2588,
   "metadata": {},
   "outputs": [],
   "source": [
    "#df[\"cons_combined\"] = df.consumption.str[0].str[0].apply(consumption_clean)\n",
    "def cons_comb(x):\n",
    "    \n",
    "    if type(x)==list and len(x)==3:\n",
    "        if x[0] != []: return x[0][0]\n",
    "        else: return None\n",
    "        \n",
    "    if type(x)==list and len(x)==5:\n",
    "        return x[1]\n",
    "    \n",
    "    if type(x)==list and len(x)==7:\n",
    "        return x[1]\n",
    "    \n",
    "    else:\n",
    "        return None\n",
    "df['cons_comb'] = df.consumption.apply(cons_comb).str.extract('(\\d{1,2}.\\d|\\d{1,3})').astype(\"float\") # str.extract('(\\S+)')\n"
   ]
  },
  {
   "cell_type": "code",
   "execution_count": 2589,
   "metadata": {
    "scrolled": true
   },
   "outputs": [
    {
     "data": {
      "text/plain": [
       "NaN      2033\n",
       "5.400     770\n",
       "3.900     733\n",
       "4.000     713\n",
       "5.100     657\n",
       "Name: cons_comb, dtype: int64"
      ]
     },
     "execution_count": 2589,
     "metadata": {},
     "output_type": "execute_result"
    }
   ],
   "source": [
    "df.cons_comb.value_counts(dropna=False).head()"
   ]
  },
  {
   "cell_type": "code",
   "execution_count": 2590,
   "metadata": {
    "scrolled": true
   },
   "outputs": [],
   "source": [
    "#df[\"cons_city\"] = df.consumption.str[1].str[0].apply(consumption_clean)\n",
    "def cons_city(x):\n",
    "    \n",
    "    if type(x)==list and len(x)==3:\n",
    "        if x[1] != []: return x[1][0]\n",
    "        else: return None\n",
    "        \n",
    "    if type(x)==list and len(x)==5:\n",
    "        return None\n",
    "    \n",
    "    if type(x)==list and len(x)==7:\n",
    "        return x[3]\n",
    "    \n",
    "    else:\n",
    "        return None\n",
    "df['cons_city'] = df.consumption.apply(cons_city).str.extract('(\\d{1,2}.\\d|\\d{1,3})').astype(\"float\")"
   ]
  },
  {
   "cell_type": "code",
   "execution_count": 2591,
   "metadata": {
    "scrolled": true
   },
   "outputs": [
    {
     "data": {
      "text/plain": [
       "NaN      2436\n",
       "5.000     669\n",
       "5.800     633\n",
       "4.500     580\n",
       "4.300     533\n",
       "Name: cons_city, dtype: int64"
      ]
     },
     "execution_count": 2591,
     "metadata": {},
     "output_type": "execute_result"
    }
   ],
   "source": [
    "df.cons_city.value_counts(dropna=False).head()"
   ]
  },
  {
   "cell_type": "code",
   "execution_count": 2592,
   "metadata": {},
   "outputs": [],
   "source": [
    "#df[\"cons_country\"] = df.consumption.str[2].str[0].apply(consumption_clean)\n",
    "def cons_country(x):\n",
    "    \n",
    "    if type(x)==list and len(x)==3:\n",
    "        if x[2] != []: return x[2][0]\n",
    "        else: return None\n",
    "        \n",
    "    if type(x)==list and len(x)==5:\n",
    "        return None\n",
    "    \n",
    "    if type(x)==list and len(x)==7:\n",
    "        return x[5]\n",
    "    \n",
    "    else:\n",
    "        return None\n",
    "df['cons_country'] = df.consumption.apply(cons_country).str.extract('(\\d{1,2}.\\d|\\d{1,3})').astype(\"float\")"
   ]
  },
  {
   "cell_type": "code",
   "execution_count": 2593,
   "metadata": {
    "scrolled": true
   },
   "outputs": [
    {
     "data": {
      "text/plain": [
       "NaN      2376\n",
       "4.200    1178\n",
       "3.700    1089\n",
       "4.400     898\n",
       "4.500     848\n",
       "Name: cons_country, dtype: int64"
      ]
     },
     "execution_count": 2593,
     "metadata": {},
     "output_type": "execute_result"
    }
   ],
   "source": [
    "df.cons_country.value_counts(dropna=False).head()"
   ]
  },
  {
   "cell_type": "code",
   "execution_count": 2594,
   "metadata": {
    "scrolled": true
   },
   "outputs": [
    {
     "data": {
      "text/plain": [
       "[['3.8 l/100 km (comb)'], ['4.3 l/100 km (city)'], ['3.5 l/100 km (country)']]"
      ]
     },
     "execution_count": 2594,
     "metadata": {},
     "output_type": "execute_result"
    }
   ],
   "source": [
    "df.consumption[0]"
   ]
  },
  {
   "cell_type": "code",
   "execution_count": 2595,
   "metadata": {
    "scrolled": true
   },
   "outputs": [
    {
     "data": {
      "text/plain": [
       "NaN      2436\n",
       "5.000     669\n",
       "5.800     633\n",
       "4.500     580\n",
       "4.300     533\n",
       "Name: cons_city, dtype: int64"
      ]
     },
     "execution_count": 2595,
     "metadata": {},
     "output_type": "execute_result"
    }
   ],
   "source": [
    "df.cons_city.value_counts(dropna=False).head()"
   ]
  },
  {
   "cell_type": "code",
   "execution_count": 2596,
   "metadata": {},
   "outputs": [],
   "source": [
    "df.drop([\"consumption\"], axis=1, inplace=True)"
   ]
  },
  {
   "cell_type": "code",
   "execution_count": null,
   "metadata": {},
   "outputs": [],
   "source": []
  },
  {
   "cell_type": "code",
   "execution_count": null,
   "metadata": {},
   "outputs": [],
   "source": []
  },
  {
   "cell_type": "code",
   "execution_count": null,
   "metadata": {},
   "outputs": [],
   "source": []
  },
  {
   "cell_type": "markdown",
   "metadata": {},
   "source": [
    "## Comfort & Convenience"
   ]
  },
  {
   "cell_type": "code",
   "execution_count": 2597,
   "metadata": {
    "scrolled": true
   },
   "outputs": [
    {
     "data": {
      "text/plain": [
       "[Air conditioning, Electrical side mirrors, Hill Holder, Power windows]                                                                                                                                                                                                                                                                                                                                                                                                                                                      216\n",
       "[Air conditioning, Electrical side mirrors, Power windows]                                                                                                                                                                                                                                                                                                                                                                                                                                                                   134\n",
       "[Air conditioning, Power windows]                                                                                                                                                                                                                                                                                                                                                                                                                                                                                            130\n",
       "[Air conditioning, Armrest, Automatic climate control, Cruise control, Electrical side mirrors, Leather steering wheel, Light sensor, Lumbar support, Multi-function steering wheel, Navigation system, Park Distance Control, Parking assist system sensors front, Parking assist system sensors rear, Power windows, Rain sensor, Seat heating, Start-stop system]                                                                                                                                                         105\n",
       "[Air conditioning, Armrest, Automatic climate control, Cruise control, Electrical side mirrors, Hill Holder, Leather steering wheel, Light sensor, Multi-function steering wheel, Navigation system, Park Distance Control, Parking assist system sensors rear, Power windows, Rain sensor, Seat heating, Start-stop system]                                                                                                                                                                                                  92\n",
       "                                                                                                                                                                                                                                                                                                                                                                                                                                                                                                                            ... \n",
       "[Air conditioning, Cruise control, Electrical side mirrors, Multi-function steering wheel, Park Distance Control, Parking assist system sensors front, Parking assist system sensors rear, Power windows, Start-stop system]                                                                                                                                                                                                                                                                                                   1\n",
       "[Air conditioning, Armrest, Cruise control, Electrical side mirrors, Heated steering wheel, Hill Holder, Leather steering wheel, Light sensor, Multi-function steering wheel, Park Distance Control, Parking assist system camera, Parking assist system sensors rear, Power windows, Rain sensor, Seat heating, Split rear seats, Start-stop system, Sunroof, Tinted windows]                                                                                                                                                 1\n",
       "[Air conditioning, Armrest, Cruise control, Hill Holder, Leather steering wheel, Multi-function steering wheel, Park Distance Control, Parking assist system sensors front, Parking assist system sensors rear, Power windows]                                                                                                                                                                                                                                                                                                 1\n",
       "[Air conditioning, Armrest, Automatic climate control, Cruise control, Electrical side mirrors, Leather steering wheel, Multi-function steering wheel, Power windows, Rain sensor, Start-stop system, Tinted windows]                                                                                                                                                                                                                                                                                                          1\n",
       "[Air conditioning, Automatic climate control, Cruise control, Electrically heated windshield, Electrical side mirrors, Electric tailgate, Heads-up display, Heated steering wheel, Hill Holder, Keyless central door lock, Leather steering wheel, Light sensor, Lumbar support, Navigation system, Park Distance Control, Parking assist system camera, Parking assist system self-steering, Parking assist system sensors front, Parking assist system sensors rear, Power windows, Rain sensor, Seat heating, Sunroof]      1\n",
       "Name: comfort_&_convenience, Length: 6198, dtype: int64"
      ]
     },
     "execution_count": 2597,
     "metadata": {},
     "output_type": "execute_result"
    }
   ],
   "source": [
    "df[\"comfort_&_convenience\"].value_counts()"
   ]
  },
  {
   "cell_type": "code",
   "execution_count": 2598,
   "metadata": {},
   "outputs": [
    {
     "data": {
      "text/plain": [
       "920"
      ]
     },
     "execution_count": 2598,
     "metadata": {},
     "output_type": "execute_result"
    }
   ],
   "source": [
    "df[\"comfort_&_convenience\"].isnull().sum() "
   ]
  },
  {
   "cell_type": "code",
   "execution_count": 2599,
   "metadata": {},
   "outputs": [
    {
     "data": {
      "text/plain": [
       "Index(['url', 'make_model', 'short_description', 'body_type', 'price', 'vat',\n",
       "       'km', 'hp', 'type', 'warranty', 'null', 'body_color', 'nr_of_doors',\n",
       "       'nr_of_seats', 'gearing_type', 'displacement', 'fuel',\n",
       "       'comfort_&_convenience', 'entertainment_&_media', 'extras',\n",
       "       'safety_&_security', 'country_version', 'electricity_consumption',\n",
       "       'last_service_date', 'other_fuel_types', 'availability',\n",
       "       'last_timing_belt_service_date', 'available_from', 'age',\n",
       "       'CO2_Emission', 'upholstery_type', 'upholstery_color', 'cons_comb',\n",
       "       'cons_city', 'cons_country'],\n",
       "      dtype='object')"
      ]
     },
     "execution_count": 2599,
     "metadata": {},
     "output_type": "execute_result"
    }
   ],
   "source": [
    "df.columns"
   ]
  },
  {
   "cell_type": "code",
   "execution_count": 2600,
   "metadata": {},
   "outputs": [],
   "source": [
    "df[\"air_cond\"] = df[\"comfort_&_convenience\"].str[0]"
   ]
  },
  {
   "cell_type": "code",
   "execution_count": 2601,
   "metadata": {},
   "outputs": [
    {
     "data": {
      "text/html": [
       "<div>\n",
       "<style scoped>\n",
       "    .dataframe tbody tr th:only-of-type {\n",
       "        vertical-align: middle;\n",
       "    }\n",
       "\n",
       "    .dataframe tbody tr th {\n",
       "        vertical-align: top;\n",
       "    }\n",
       "\n",
       "    .dataframe thead th {\n",
       "        text-align: right;\n",
       "    }\n",
       "</style>\n",
       "<table border=\"1\" class=\"dataframe\">\n",
       "  <thead>\n",
       "    <tr style=\"text-align: right;\">\n",
       "      <th></th>\n",
       "      <th>url</th>\n",
       "      <th>make_model</th>\n",
       "      <th>short_description</th>\n",
       "      <th>body_type</th>\n",
       "      <th>price</th>\n",
       "      <th>vat</th>\n",
       "      <th>km</th>\n",
       "      <th>hp</th>\n",
       "      <th>type</th>\n",
       "      <th>warranty</th>\n",
       "      <th>null</th>\n",
       "      <th>body_color</th>\n",
       "      <th>nr_of_doors</th>\n",
       "      <th>nr_of_seats</th>\n",
       "      <th>gearing_type</th>\n",
       "      <th>displacement</th>\n",
       "      <th>fuel</th>\n",
       "      <th>comfort_&amp;_convenience</th>\n",
       "      <th>entertainment_&amp;_media</th>\n",
       "      <th>extras</th>\n",
       "      <th>safety_&amp;_security</th>\n",
       "      <th>country_version</th>\n",
       "      <th>electricity_consumption</th>\n",
       "      <th>last_service_date</th>\n",
       "      <th>other_fuel_types</th>\n",
       "      <th>availability</th>\n",
       "      <th>last_timing_belt_service_date</th>\n",
       "      <th>available_from</th>\n",
       "      <th>age</th>\n",
       "      <th>CO2_Emission</th>\n",
       "      <th>upholstery_type</th>\n",
       "      <th>upholstery_color</th>\n",
       "      <th>cons_comb</th>\n",
       "      <th>cons_city</th>\n",
       "      <th>cons_country</th>\n",
       "      <th>air_cond</th>\n",
       "    </tr>\n",
       "  </thead>\n",
       "  <tbody>\n",
       "    <tr>\n",
       "      <th>0</th>\n",
       "      <td>https://www.autoscout24.com//offers/audi-a1-sp...</td>\n",
       "      <td>Audi A1</td>\n",
       "      <td>Sportback 1.4 TDI S-tronic Xenon Navi Klima</td>\n",
       "      <td>Sedans</td>\n",
       "      <td>15770</td>\n",
       "      <td>VAT deductible</td>\n",
       "      <td>56013.000</td>\n",
       "      <td>66.000</td>\n",
       "      <td>Used</td>\n",
       "      <td>NaN</td>\n",
       "      <td>[]</td>\n",
       "      <td>Black</td>\n",
       "      <td>5</td>\n",
       "      <td>5</td>\n",
       "      <td>Automatic</td>\n",
       "      <td>1422</td>\n",
       "      <td>Diesel</td>\n",
       "      <td>[Air conditioning, Armrest, Automatic climate ...</td>\n",
       "      <td>[Bluetooth, Hands-free equipment, On-board com...</td>\n",
       "      <td>[Alloy wheels, Catalytic Converter, Voice Cont...</td>\n",
       "      <td>[ABS, Central door lock, Daytime running light...</td>\n",
       "      <td>NaN</td>\n",
       "      <td>NaN</td>\n",
       "      <td>NaN</td>\n",
       "      <td>NaN</td>\n",
       "      <td>NaN</td>\n",
       "      <td>NaN</td>\n",
       "      <td>NaN</td>\n",
       "      <td>3.000</td>\n",
       "      <td>9.000</td>\n",
       "      <td>NaN</td>\n",
       "      <td>NaN</td>\n",
       "      <td>3.800</td>\n",
       "      <td>4.300</td>\n",
       "      <td>3.500</td>\n",
       "      <td>Air conditioning</td>\n",
       "    </tr>\n",
       "    <tr>\n",
       "      <th>1</th>\n",
       "      <td>https://www.autoscout24.com//offers/audi-a1-1-...</td>\n",
       "      <td>Audi A1</td>\n",
       "      <td>1.8 TFSI sport</td>\n",
       "      <td>Sedans</td>\n",
       "      <td>14500</td>\n",
       "      <td>Price negotiable</td>\n",
       "      <td>80000.000</td>\n",
       "      <td>141.000</td>\n",
       "      <td>Used</td>\n",
       "      <td>NaN</td>\n",
       "      <td>[]</td>\n",
       "      <td>Red</td>\n",
       "      <td>3</td>\n",
       "      <td>4</td>\n",
       "      <td>Automatic</td>\n",
       "      <td>1798</td>\n",
       "      <td>Benzin</td>\n",
       "      <td>[Air conditioning, Automatic climate control, ...</td>\n",
       "      <td>[Bluetooth, Hands-free equipment, On-board com...</td>\n",
       "      <td>[Alloy wheels, Sport seats, Sport suspension, ...</td>\n",
       "      <td>[ABS, Central door lock, Central door lock wit...</td>\n",
       "      <td>NaN</td>\n",
       "      <td>NaN</td>\n",
       "      <td>NaN</td>\n",
       "      <td>NaN</td>\n",
       "      <td>NaN</td>\n",
       "      <td>NaN</td>\n",
       "      <td>NaN</td>\n",
       "      <td>2.000</td>\n",
       "      <td>1.000</td>\n",
       "      <td>NaN</td>\n",
       "      <td>NaN</td>\n",
       "      <td>5.600</td>\n",
       "      <td>7.100</td>\n",
       "      <td>4.700</td>\n",
       "      <td>Air conditioning</td>\n",
       "    </tr>\n",
       "    <tr>\n",
       "      <th>2</th>\n",
       "      <td>https://www.autoscout24.com//offers/audi-a1-sp...</td>\n",
       "      <td>Audi A1</td>\n",
       "      <td>Sportback 1.6 TDI S tronic Einparkhilfe plus+m...</td>\n",
       "      <td>Sedans</td>\n",
       "      <td>14640</td>\n",
       "      <td>VAT deductible</td>\n",
       "      <td>83450.000</td>\n",
       "      <td>85.000</td>\n",
       "      <td>Used</td>\n",
       "      <td>NaN</td>\n",
       "      <td>[]</td>\n",
       "      <td>Black</td>\n",
       "      <td>4</td>\n",
       "      <td>4</td>\n",
       "      <td>Automatic</td>\n",
       "      <td>1598</td>\n",
       "      <td>Diesel</td>\n",
       "      <td>[Air conditioning, Cruise control, Electrical ...</td>\n",
       "      <td>[MP3, On-board computer]</td>\n",
       "      <td>[Alloy wheels, Voice Control]</td>\n",
       "      <td>[ABS, Central door lock, Daytime running light...</td>\n",
       "      <td>NaN</td>\n",
       "      <td>NaN</td>\n",
       "      <td>NaN</td>\n",
       "      <td>NaN</td>\n",
       "      <td>NaN</td>\n",
       "      <td>NaN</td>\n",
       "      <td>NaN</td>\n",
       "      <td>3.000</td>\n",
       "      <td>9.000</td>\n",
       "      <td>NaN</td>\n",
       "      <td>NaN</td>\n",
       "      <td>3.800</td>\n",
       "      <td>4.400</td>\n",
       "      <td>3.400</td>\n",
       "      <td>Air conditioning</td>\n",
       "    </tr>\n",
       "    <tr>\n",
       "      <th>3</th>\n",
       "      <td>https://www.autoscout24.com//offers/audi-a1-1-...</td>\n",
       "      <td>Audi A1</td>\n",
       "      <td>1.4 TDi Design S tronic</td>\n",
       "      <td>Sedans</td>\n",
       "      <td>14500</td>\n",
       "      <td>None</td>\n",
       "      <td>73000.000</td>\n",
       "      <td>66.000</td>\n",
       "      <td>Used</td>\n",
       "      <td>NaN</td>\n",
       "      <td>[]</td>\n",
       "      <td>Brown</td>\n",
       "      <td>3</td>\n",
       "      <td>4</td>\n",
       "      <td>Automatic</td>\n",
       "      <td>1422</td>\n",
       "      <td>Diesel</td>\n",
       "      <td>[Air suspension, Armrest, Auxiliary heating, E...</td>\n",
       "      <td>[Bluetooth, CD player, Hands-free equipment, M...</td>\n",
       "      <td>[Alloy wheels, Sport seats, Voice Control]</td>\n",
       "      <td>[ABS, Alarm system, Central door lock with rem...</td>\n",
       "      <td>NaN</td>\n",
       "      <td>NaN</td>\n",
       "      <td>NaN</td>\n",
       "      <td>NaN</td>\n",
       "      <td>NaN</td>\n",
       "      <td>NaN</td>\n",
       "      <td>NaN</td>\n",
       "      <td>3.000</td>\n",
       "      <td>9.000</td>\n",
       "      <td>NaN</td>\n",
       "      <td>NaN</td>\n",
       "      <td>3.800</td>\n",
       "      <td>4.300</td>\n",
       "      <td>3.500</td>\n",
       "      <td>Air suspension</td>\n",
       "    </tr>\n",
       "    <tr>\n",
       "      <th>4</th>\n",
       "      <td>https://www.autoscout24.com//offers/audi-a1-sp...</td>\n",
       "      <td>Audi A1</td>\n",
       "      <td>Sportback 1.4 TDI S-Tronic S-Line Ext. admired...</td>\n",
       "      <td>Sedans</td>\n",
       "      <td>16790</td>\n",
       "      <td>None</td>\n",
       "      <td>16200.000</td>\n",
       "      <td>66.000</td>\n",
       "      <td>Used</td>\n",
       "      <td>NaN</td>\n",
       "      <td>[]</td>\n",
       "      <td>Black</td>\n",
       "      <td>5</td>\n",
       "      <td>5</td>\n",
       "      <td>Automatic</td>\n",
       "      <td>1422</td>\n",
       "      <td>Diesel</td>\n",
       "      <td>[Air conditioning, Armrest, Automatic climate ...</td>\n",
       "      <td>[Bluetooth, CD player, Hands-free equipment, M...</td>\n",
       "      <td>[Alloy wheels, Sport package, Sport suspension...</td>\n",
       "      <td>[ABS, Central door lock, Driver-side airbag, E...</td>\n",
       "      <td>[\\nGermany\\n]</td>\n",
       "      <td>NaN</td>\n",
       "      <td>NaN</td>\n",
       "      <td>NaN</td>\n",
       "      <td>NaN</td>\n",
       "      <td>NaN</td>\n",
       "      <td>NaN</td>\n",
       "      <td>3.000</td>\n",
       "      <td>1.000</td>\n",
       "      <td>NaN</td>\n",
       "      <td>NaN</td>\n",
       "      <td>4.100</td>\n",
       "      <td>4.600</td>\n",
       "      <td>3.800</td>\n",
       "      <td>Air conditioning</td>\n",
       "    </tr>\n",
       "  </tbody>\n",
       "</table>\n",
       "</div>"
      ],
      "text/plain": [
       "                                                 url make_model  \\\n",
       "0  https://www.autoscout24.com//offers/audi-a1-sp...    Audi A1   \n",
       "1  https://www.autoscout24.com//offers/audi-a1-1-...    Audi A1   \n",
       "2  https://www.autoscout24.com//offers/audi-a1-sp...    Audi A1   \n",
       "3  https://www.autoscout24.com//offers/audi-a1-1-...    Audi A1   \n",
       "4  https://www.autoscout24.com//offers/audi-a1-sp...    Audi A1   \n",
       "\n",
       "                                   short_description body_type  price  \\\n",
       "0        Sportback 1.4 TDI S-tronic Xenon Navi Klima    Sedans  15770   \n",
       "1                                     1.8 TFSI sport    Sedans  14500   \n",
       "2  Sportback 1.6 TDI S tronic Einparkhilfe plus+m...    Sedans  14640   \n",
       "3                            1.4 TDi Design S tronic    Sedans  14500   \n",
       "4  Sportback 1.4 TDI S-Tronic S-Line Ext. admired...    Sedans  16790   \n",
       "\n",
       "                vat        km      hp  type  warranty null body_color  \\\n",
       "0    VAT deductible 56013.000  66.000  Used       NaN   []      Black   \n",
       "1  Price negotiable 80000.000 141.000  Used       NaN   []        Red   \n",
       "2    VAT deductible 83450.000  85.000  Used       NaN   []      Black   \n",
       "3              None 73000.000  66.000  Used       NaN   []      Brown   \n",
       "4              None 16200.000  66.000  Used       NaN   []      Black   \n",
       "\n",
       "  nr_of_doors nr_of_seats gearing_type displacement    fuel  \\\n",
       "0           5           5    Automatic         1422  Diesel   \n",
       "1           3           4    Automatic         1798  Benzin   \n",
       "2           4           4    Automatic         1598  Diesel   \n",
       "3           3           4    Automatic         1422  Diesel   \n",
       "4           5           5    Automatic         1422  Diesel   \n",
       "\n",
       "                               comfort_&_convenience  \\\n",
       "0  [Air conditioning, Armrest, Automatic climate ...   \n",
       "1  [Air conditioning, Automatic climate control, ...   \n",
       "2  [Air conditioning, Cruise control, Electrical ...   \n",
       "3  [Air suspension, Armrest, Auxiliary heating, E...   \n",
       "4  [Air conditioning, Armrest, Automatic climate ...   \n",
       "\n",
       "                               entertainment_&_media  \\\n",
       "0  [Bluetooth, Hands-free equipment, On-board com...   \n",
       "1  [Bluetooth, Hands-free equipment, On-board com...   \n",
       "2                           [MP3, On-board computer]   \n",
       "3  [Bluetooth, CD player, Hands-free equipment, M...   \n",
       "4  [Bluetooth, CD player, Hands-free equipment, M...   \n",
       "\n",
       "                                              extras  \\\n",
       "0  [Alloy wheels, Catalytic Converter, Voice Cont...   \n",
       "1  [Alloy wheels, Sport seats, Sport suspension, ...   \n",
       "2                      [Alloy wheels, Voice Control]   \n",
       "3         [Alloy wheels, Sport seats, Voice Control]   \n",
       "4  [Alloy wheels, Sport package, Sport suspension...   \n",
       "\n",
       "                                   safety_&_security country_version  \\\n",
       "0  [ABS, Central door lock, Daytime running light...             NaN   \n",
       "1  [ABS, Central door lock, Central door lock wit...             NaN   \n",
       "2  [ABS, Central door lock, Daytime running light...             NaN   \n",
       "3  [ABS, Alarm system, Central door lock with rem...             NaN   \n",
       "4  [ABS, Central door lock, Driver-side airbag, E...   [\\nGermany\\n]   \n",
       "\n",
       "  electricity_consumption last_service_date other_fuel_types availability  \\\n",
       "0                     NaN               NaN              NaN          NaN   \n",
       "1                     NaN               NaN              NaN          NaN   \n",
       "2                     NaN               NaN              NaN          NaN   \n",
       "3                     NaN               NaN              NaN          NaN   \n",
       "4                     NaN               NaN              NaN          NaN   \n",
       "\n",
       "  last_timing_belt_service_date available_from   age  CO2_Emission  \\\n",
       "0                           NaN            NaN 3.000         9.000   \n",
       "1                           NaN            NaN 2.000         1.000   \n",
       "2                           NaN            NaN 3.000         9.000   \n",
       "3                           NaN            NaN 3.000         9.000   \n",
       "4                           NaN            NaN 3.000         1.000   \n",
       "\n",
       "   upholstery_type  upholstery_color  cons_comb  cons_city  cons_country  \\\n",
       "0              NaN               NaN      3.800      4.300         3.500   \n",
       "1              NaN               NaN      5.600      7.100         4.700   \n",
       "2              NaN               NaN      3.800      4.400         3.400   \n",
       "3              NaN               NaN      3.800      4.300         3.500   \n",
       "4              NaN               NaN      4.100      4.600         3.800   \n",
       "\n",
       "           air_cond  \n",
       "0  Air conditioning  \n",
       "1  Air conditioning  \n",
       "2  Air conditioning  \n",
       "3    Air suspension  \n",
       "4  Air conditioning  "
      ]
     },
     "execution_count": 2601,
     "metadata": {},
     "output_type": "execute_result"
    }
   ],
   "source": [
    "df.head()"
   ]
  },
  {
   "cell_type": "code",
   "execution_count": 2602,
   "metadata": {},
   "outputs": [
    {
     "data": {
      "text/plain": [
       "Armrest                               7074\n",
       "Automatic climate control             2931\n",
       "Cruise control                        2447\n",
       "Electrical side mirrors               1319\n",
       "Power windows                          343\n",
       "Multi-function steering wheel          154\n",
       "Leather steering wheel                  91\n",
       "Seat ventilation                        90\n",
       "Hill Holder                             78\n",
       "Air suspension                          59\n",
       "Navigation system                       37\n",
       "Park Distance Control                   36\n",
       "Electrically heated windshield          26\n",
       "Electrically adjustable seats           26\n",
       "Light sensor                            16\n",
       "Lumbar support                          13\n",
       "Auxiliary heating                       11\n",
       "Start-stop system                       11\n",
       "Keyless central door lock               10\n",
       "Panorama roof                            7\n",
       "Rain sensor                              6\n",
       "Split rear seats                         5\n",
       "Sunroof                                  3\n",
       "Electric tailgate                        3\n",
       "Heated steering wheel                    2\n",
       "Leather seats                            2\n",
       "Heads-up display                         2\n",
       "Tinted windows                           1\n",
       "Parking assist system sensors rear       1\n",
       "Seat heating                             1\n",
       "Massage seats                            1\n",
       "Name: comfort_&_convenience, dtype: int64"
      ]
     },
     "execution_count": 2602,
     "metadata": {},
     "output_type": "execute_result"
    }
   ],
   "source": [
    "df[\"comfort_&_convenience\"].str[1].value_counts()"
   ]
  },
  {
   "cell_type": "code",
   "execution_count": 2603,
   "metadata": {},
   "outputs": [],
   "source": [
    "df.drop([\"comfort_&_convenience\"], axis=1, inplace=True)"
   ]
  },
  {
   "cell_type": "markdown",
   "metadata": {},
   "source": [
    "## Entertainment & Media"
   ]
  },
  {
   "cell_type": "code",
   "execution_count": 2604,
   "metadata": {},
   "outputs": [
    {
     "data": {
      "text/plain": [
       "NaN                                                                                                           1374\n",
       "[Bluetooth, Hands-free equipment, On-board computer, Radio, USB]                                              1282\n",
       "[Bluetooth, Hands-free equipment, MP3, On-board computer, Radio, USB]                                          982\n",
       "[Bluetooth, CD player, Hands-free equipment, MP3, On-board computer, Radio, USB]                               783\n",
       "[On-board computer, Radio]                                                                                     487\n",
       "                                                                                                              ... \n",
       "[Bluetooth, CD player, Digital radio, Hands-free equipment, Radio]                                               1\n",
       "[CD player, Hands-free equipment, MP3, Radio, USB]                                                               1\n",
       "[MP3, Radio, Sound system, USB]                                                                                  1\n",
       "[Bluetooth, MP3, On-board computer, Radio, Television, USB]                                                      1\n",
       "[Bluetooth, CD player, Hands-free equipment, MP3, On-board computer, Radio, Sound system, Television, USB]       1\n",
       "Name: entertainment_&_media, Length: 347, dtype: int64"
      ]
     },
     "execution_count": 2604,
     "metadata": {},
     "output_type": "execute_result"
    }
   ],
   "source": [
    "df[\"entertainment_&_media\"].value_counts(dropna=False)"
   ]
  },
  {
   "cell_type": "code",
   "execution_count": 2605,
   "metadata": {},
   "outputs": [
    {
     "data": {
      "text/plain": [
       "1374"
      ]
     },
     "execution_count": 2605,
     "metadata": {},
     "output_type": "execute_result"
    }
   ],
   "source": [
    "df[\"entertainment_&_media\"].isnull().sum() "
   ]
  },
  {
   "cell_type": "code",
   "execution_count": 2606,
   "metadata": {},
   "outputs": [
    {
     "data": {
      "text/plain": [
       "Bluetooth               11650\n",
       "On-board computer        1080\n",
       "CD player                 655\n",
       "Radio                     533\n",
       "Hands-free equipment      248\n",
       "Digital radio             164\n",
       "MP3                       142\n",
       "USB                        46\n",
       "Sound system               27\n",
       "Name: entertainment_&_media, dtype: int64"
      ]
     },
     "execution_count": 2606,
     "metadata": {},
     "output_type": "execute_result"
    }
   ],
   "source": [
    "df['entertainment_&_media'].str[0].value_counts()"
   ]
  },
  {
   "cell_type": "code",
   "execution_count": 2607,
   "metadata": {},
   "outputs": [],
   "source": [
    "df[\"bluetooth\"] = df['entertainment_&_media'].str[0]"
   ]
  },
  {
   "cell_type": "code",
   "execution_count": 2608,
   "metadata": {
    "scrolled": true
   },
   "outputs": [
    {
     "data": {
      "text/plain": [
       "0        Bluetooth\n",
       "1        Bluetooth\n",
       "2              MP3\n",
       "3        Bluetooth\n",
       "4        Bluetooth\n",
       "           ...    \n",
       "15914    Bluetooth\n",
       "15915    Bluetooth\n",
       "15916    Bluetooth\n",
       "15917    Bluetooth\n",
       "15918          USB\n",
       "Name: bluetooth, Length: 15919, dtype: object"
      ]
     },
     "execution_count": 2608,
     "metadata": {},
     "output_type": "execute_result"
    }
   ],
   "source": [
    "df.bluetooth"
   ]
  },
  {
   "cell_type": "code",
   "execution_count": 2609,
   "metadata": {},
   "outputs": [],
   "source": [
    "df.drop([\"entertainment_&_media\"], axis=1, inplace=True)"
   ]
  },
  {
   "cell_type": "markdown",
   "metadata": {},
   "source": [
    "## Extras"
   ]
  },
  {
   "cell_type": "code",
   "execution_count": 2610,
   "metadata": {},
   "outputs": [
    {
     "data": {
      "text/plain": [
       "[Alloy wheels]                                                                                                     3245\n",
       "NaN                                                                                                                2962\n",
       "[Alloy wheels, Touch screen]                                                                                        697\n",
       "[Alloy wheels, Voice Control]                                                                                       577\n",
       "[Alloy wheels, Touch screen, Voice Control]                                                                         541\n",
       "                                                                                                                   ... \n",
       "[Alloy wheels, Catalytic Converter, Shift paddles, Sport package, Sport seats, Sport suspension, Voice Control]       1\n",
       "[Alloy wheels, Catalytic Converter, Roof rack, Sport package, Sport seats, Trailer hitch]                             1\n",
       "[Alloy wheels, Catalytic Converter, Ski bag, Sport package, Voice Control]                                            1\n",
       "[Catalytic Converter, Roof rack, Sport seats, Sport suspension]                                                       1\n",
       "[Alloy wheels, Shift paddles, Ski bag, Sport seats, Sport suspension, Touch screen, Voice Control]                    1\n",
       "Name: extras, Length: 660, dtype: int64"
      ]
     },
     "execution_count": 2610,
     "metadata": {},
     "output_type": "execute_result"
    }
   ],
   "source": [
    "df[\"extras\"].value_counts(dropna=False)"
   ]
  },
  {
   "cell_type": "code",
   "execution_count": 2611,
   "metadata": {},
   "outputs": [
    {
     "data": {
      "text/plain": [
       "2962"
      ]
     },
     "execution_count": 2611,
     "metadata": {},
     "output_type": "execute_result"
    }
   ],
   "source": [
    "df[\"extras\"].isnull().sum() "
   ]
  },
  {
   "cell_type": "markdown",
   "metadata": {},
   "source": [
    "### extras cleaning"
   ]
  },
  {
   "cell_type": "code",
   "execution_count": 2612,
   "metadata": {},
   "outputs": [],
   "source": [
    "df.extras = [item[0] if type(item) == list else item for item in df[\"extras\"]]\n"
   ]
  },
  {
   "cell_type": "code",
   "execution_count": 2613,
   "metadata": {},
   "outputs": [
    {
     "data": {
      "text/plain": [
       "Alloy wheels           11294\n",
       "NaN                     2962\n",
       "Roof rack                585\n",
       "Catalytic Converter      454\n",
       "Touch screen             280\n",
       "Voice Control             86\n",
       "Sport seats               82\n",
       "Cab or rented Car         58\n",
       "Sport suspension          32\n",
       "Trailer hitch             32\n",
       "Sport package             20\n",
       "Winter tyres              12\n",
       "Ski bag                   11\n",
       "Shift paddles              9\n",
       "Handicapped enabled        1\n",
       "Tuned car                  1\n",
       "Name: extras, dtype: int64"
      ]
     },
     "execution_count": 2613,
     "metadata": {},
     "output_type": "execute_result"
    }
   ],
   "source": [
    "df.extras.value_counts(dropna=False)"
   ]
  },
  {
   "cell_type": "markdown",
   "metadata": {},
   "source": [
    "## Safety & Security"
   ]
  },
  {
   "cell_type": "code",
   "execution_count": 2614,
   "metadata": {},
   "outputs": [
    {
     "data": {
      "text/plain": [
       "[ABS, Central door lock, Daytime running lights, Driver-side airbag, Electronic stability control, Fog lights, Immobilizer, Isofix, Passenger-side airbag, Power steering, Side airbag, Tire pressure monitoring system, Traction control]                                                                                                                                           538\n",
       "[ABS, Central door lock, Daytime running lights, Driver-side airbag, Electronic stability control, Immobilizer, Isofix, Passenger-side airbag, Power steering, Side airbag, Tire pressure monitoring system, Traction control]                                                                                                                                                       480\n",
       "[ABS, Central door lock, Daytime running lights, Driver-side airbag, Electronic stability control, Immobilizer, Isofix, Passenger-side airbag, Power steering, Side airbag, Tire pressure monitoring system, Traction control, Xenon headlights]                                                                                                                                     275\n",
       "[ABS, Central door lock, Daytime running lights, Driver-side airbag, Electronic stability control, Fog lights, Immobilizer, Isofix, LED Daytime Running Lights, Passenger-side airbag, Power steering, Side airbag, Tire pressure monitoring system, Traction control]                                                                                                               272\n",
       "[ABS, Central door lock, Daytime running lights, Driver-side airbag, Electronic stability control, Immobilizer, Isofix, LED Daytime Running Lights, Passenger-side airbag, Power steering, Side airbag, Tire pressure monitoring system, Traction control]                                                                                                                           228\n",
       "                                                                                                                                                                                                                                                                                                                                                                                    ... \n",
       "[ABS, Central door lock, Electronic stability control, Immobilizer, Isofix, Passenger-side airbag, Power steering, Side airbag]                                                                                                                                                                                                                                                        1\n",
       "[ABS, Adaptive Cruise Control, Central door lock, Daytime running lights, Driver-side airbag, Electronic stability control, Emergency brake assistant, Immobilizer, Isofix, Passenger-side airbag, Power steering, Side airbag, Tire pressure monitoring system, Traction control]                                                                                                     1\n",
       "[ABS, Adaptive Cruise Control, Alarm system, Central door lock, Driver-side airbag, Electronic stability control, Fog lights, Immobilizer, Isofix, Lane departure warning system, LED Daytime Running Lights, Passenger-side airbag, Power steering, Side airbag, Tire pressure monitoring system, Traction control, Xenon headlights]                                                 1\n",
       "[ABS, Adaptive Cruise Control, Central door lock, Daytime running lights, Driver-side airbag, Electronic stability control, Fog lights, Immobilizer, Isofix, Power steering, Tire pressure monitoring system, Traction control]                                                                                                                                                        1\n",
       "[ABS, Adaptive Cruise Control, Central door lock, Daytime running lights, Driver-side airbag, Electronic stability control, Emergency brake assistant, Fog lights, Immobilizer, Isofix, Lane departure warning system, LED Daytime Running Lights, LED Headlights, Passenger-side airbag, Power steering, Side airbag, Tire pressure monitoring system, Traffic sign recognition]      1\n",
       "Name: safety_&_security, Length: 4443, dtype: int64"
      ]
     },
     "execution_count": 2614,
     "metadata": {},
     "output_type": "execute_result"
    }
   ],
   "source": [
    "df[\"safety_&_security\"].value_counts()"
   ]
  },
  {
   "cell_type": "code",
   "execution_count": 2615,
   "metadata": {},
   "outputs": [
    {
     "data": {
      "text/plain": [
       "982"
      ]
     },
     "execution_count": 2615,
     "metadata": {},
     "output_type": "execute_result"
    }
   ],
   "source": [
    "df[\"safety_&_security\"].isnull().sum() "
   ]
  },
  {
   "cell_type": "code",
   "execution_count": 2616,
   "metadata": {},
   "outputs": [
    {
     "data": {
      "text/plain": [
       "NaN                                                                                                                                                                                                                                                                                                                                                                                  982\n",
       "[ABS, Central door lock, Daytime running lights, Driver-side airbag, Electronic stability control, Fog lights, Immobilizer, Isofix, Passenger-side airbag, Power steering, Side airbag, Tire pressure monitoring system, Traction control]                                                                                                                                           538\n",
       "[ABS, Central door lock, Daytime running lights, Driver-side airbag, Electronic stability control, Immobilizer, Isofix, Passenger-side airbag, Power steering, Side airbag, Tire pressure monitoring system, Traction control]                                                                                                                                                       480\n",
       "[ABS, Central door lock, Daytime running lights, Driver-side airbag, Electronic stability control, Immobilizer, Isofix, Passenger-side airbag, Power steering, Side airbag, Tire pressure monitoring system, Traction control, Xenon headlights]                                                                                                                                     275\n",
       "[ABS, Central door lock, Daytime running lights, Driver-side airbag, Electronic stability control, Fog lights, Immobilizer, Isofix, LED Daytime Running Lights, Passenger-side airbag, Power steering, Side airbag, Tire pressure monitoring system, Traction control]                                                                                                               272\n",
       "                                                                                                                                                                                                                                                                                                                                                                                    ... \n",
       "[ABS, Central door lock, Electronic stability control, Immobilizer, Isofix, Passenger-side airbag, Power steering, Side airbag]                                                                                                                                                                                                                                                        1\n",
       "[ABS, Adaptive Cruise Control, Central door lock, Daytime running lights, Driver-side airbag, Electronic stability control, Emergency brake assistant, Immobilizer, Isofix, Passenger-side airbag, Power steering, Side airbag, Tire pressure monitoring system, Traction control]                                                                                                     1\n",
       "[ABS, Adaptive Cruise Control, Alarm system, Central door lock, Driver-side airbag, Electronic stability control, Fog lights, Immobilizer, Isofix, Lane departure warning system, LED Daytime Running Lights, Passenger-side airbag, Power steering, Side airbag, Tire pressure monitoring system, Traction control, Xenon headlights]                                                 1\n",
       "[ABS, Adaptive Cruise Control, Central door lock, Daytime running lights, Driver-side airbag, Electronic stability control, Fog lights, Immobilizer, Isofix, Power steering, Tire pressure monitoring system, Traction control]                                                                                                                                                        1\n",
       "[ABS, Adaptive Cruise Control, Central door lock, Daytime running lights, Driver-side airbag, Electronic stability control, Emergency brake assistant, Fog lights, Immobilizer, Isofix, Lane departure warning system, LED Daytime Running Lights, LED Headlights, Passenger-side airbag, Power steering, Side airbag, Tire pressure monitoring system, Traffic sign recognition]      1\n",
       "Name: safety_&_security, Length: 4444, dtype: int64"
      ]
     },
     "execution_count": 2616,
     "metadata": {},
     "output_type": "execute_result"
    }
   ],
   "source": [
    "df[\"safety_&_security\"].value_counts(dropna=False)"
   ]
  },
  {
   "cell_type": "markdown",
   "metadata": {},
   "source": [
    "### safety cleaning"
   ]
  },
  {
   "cell_type": "code",
   "execution_count": 2617,
   "metadata": {},
   "outputs": [],
   "source": [
    "df[\"safety_&_security\"] = [item[0] if type(item) == list else item for item in df[\"safety_&_security\"]]\n"
   ]
  },
  {
   "cell_type": "code",
   "execution_count": 2618,
   "metadata": {},
   "outputs": [
    {
     "data": {
      "text/plain": [
       "0    ABS\n",
       "1    ABS\n",
       "2    ABS\n",
       "3    ABS\n",
       "4    ABS\n",
       "Name: safety_&_security, dtype: object"
      ]
     },
     "execution_count": 2618,
     "metadata": {},
     "output_type": "execute_result"
    }
   ],
   "source": [
    "df[\"safety_&_security\"].head()"
   ]
  },
  {
   "cell_type": "code",
   "execution_count": 2619,
   "metadata": {
    "scrolled": true
   },
   "outputs": [
    {
     "data": {
      "text/html": [
       "<div>\n",
       "<style scoped>\n",
       "    .dataframe tbody tr th:only-of-type {\n",
       "        vertical-align: middle;\n",
       "    }\n",
       "\n",
       "    .dataframe tbody tr th {\n",
       "        vertical-align: top;\n",
       "    }\n",
       "\n",
       "    .dataframe thead th {\n",
       "        text-align: right;\n",
       "    }\n",
       "</style>\n",
       "<table border=\"1\" class=\"dataframe\">\n",
       "  <thead>\n",
       "    <tr style=\"text-align: right;\">\n",
       "      <th></th>\n",
       "      <th>url</th>\n",
       "      <th>make_model</th>\n",
       "      <th>short_description</th>\n",
       "      <th>body_type</th>\n",
       "      <th>price</th>\n",
       "      <th>vat</th>\n",
       "      <th>km</th>\n",
       "      <th>hp</th>\n",
       "      <th>type</th>\n",
       "      <th>warranty</th>\n",
       "      <th>null</th>\n",
       "      <th>body_color</th>\n",
       "      <th>nr_of_doors</th>\n",
       "      <th>nr_of_seats</th>\n",
       "      <th>gearing_type</th>\n",
       "      <th>displacement</th>\n",
       "      <th>fuel</th>\n",
       "      <th>extras</th>\n",
       "      <th>safety_&amp;_security</th>\n",
       "      <th>country_version</th>\n",
       "      <th>electricity_consumption</th>\n",
       "      <th>last_service_date</th>\n",
       "      <th>other_fuel_types</th>\n",
       "      <th>availability</th>\n",
       "      <th>last_timing_belt_service_date</th>\n",
       "      <th>available_from</th>\n",
       "      <th>age</th>\n",
       "      <th>CO2_Emission</th>\n",
       "      <th>upholstery_type</th>\n",
       "      <th>upholstery_color</th>\n",
       "      <th>cons_comb</th>\n",
       "      <th>cons_city</th>\n",
       "      <th>cons_country</th>\n",
       "      <th>air_cond</th>\n",
       "      <th>bluetooth</th>\n",
       "    </tr>\n",
       "  </thead>\n",
       "  <tbody>\n",
       "    <tr>\n",
       "      <th>0</th>\n",
       "      <td>https://www.autoscout24.com//offers/audi-a1-sp...</td>\n",
       "      <td>Audi A1</td>\n",
       "      <td>Sportback 1.4 TDI S-tronic Xenon Navi Klima</td>\n",
       "      <td>Sedans</td>\n",
       "      <td>15770</td>\n",
       "      <td>VAT deductible</td>\n",
       "      <td>56013.000</td>\n",
       "      <td>66.000</td>\n",
       "      <td>Used</td>\n",
       "      <td>NaN</td>\n",
       "      <td>[]</td>\n",
       "      <td>Black</td>\n",
       "      <td>5</td>\n",
       "      <td>5</td>\n",
       "      <td>Automatic</td>\n",
       "      <td>1422</td>\n",
       "      <td>Diesel</td>\n",
       "      <td>Alloy wheels</td>\n",
       "      <td>ABS</td>\n",
       "      <td>NaN</td>\n",
       "      <td>NaN</td>\n",
       "      <td>NaN</td>\n",
       "      <td>NaN</td>\n",
       "      <td>NaN</td>\n",
       "      <td>NaN</td>\n",
       "      <td>NaN</td>\n",
       "      <td>3.000</td>\n",
       "      <td>9.000</td>\n",
       "      <td>NaN</td>\n",
       "      <td>NaN</td>\n",
       "      <td>3.800</td>\n",
       "      <td>4.300</td>\n",
       "      <td>3.500</td>\n",
       "      <td>Air conditioning</td>\n",
       "      <td>Bluetooth</td>\n",
       "    </tr>\n",
       "    <tr>\n",
       "      <th>1</th>\n",
       "      <td>https://www.autoscout24.com//offers/audi-a1-1-...</td>\n",
       "      <td>Audi A1</td>\n",
       "      <td>1.8 TFSI sport</td>\n",
       "      <td>Sedans</td>\n",
       "      <td>14500</td>\n",
       "      <td>Price negotiable</td>\n",
       "      <td>80000.000</td>\n",
       "      <td>141.000</td>\n",
       "      <td>Used</td>\n",
       "      <td>NaN</td>\n",
       "      <td>[]</td>\n",
       "      <td>Red</td>\n",
       "      <td>3</td>\n",
       "      <td>4</td>\n",
       "      <td>Automatic</td>\n",
       "      <td>1798</td>\n",
       "      <td>Benzin</td>\n",
       "      <td>Alloy wheels</td>\n",
       "      <td>ABS</td>\n",
       "      <td>NaN</td>\n",
       "      <td>NaN</td>\n",
       "      <td>NaN</td>\n",
       "      <td>NaN</td>\n",
       "      <td>NaN</td>\n",
       "      <td>NaN</td>\n",
       "      <td>NaN</td>\n",
       "      <td>2.000</td>\n",
       "      <td>1.000</td>\n",
       "      <td>NaN</td>\n",
       "      <td>NaN</td>\n",
       "      <td>5.600</td>\n",
       "      <td>7.100</td>\n",
       "      <td>4.700</td>\n",
       "      <td>Air conditioning</td>\n",
       "      <td>Bluetooth</td>\n",
       "    </tr>\n",
       "    <tr>\n",
       "      <th>2</th>\n",
       "      <td>https://www.autoscout24.com//offers/audi-a1-sp...</td>\n",
       "      <td>Audi A1</td>\n",
       "      <td>Sportback 1.6 TDI S tronic Einparkhilfe plus+m...</td>\n",
       "      <td>Sedans</td>\n",
       "      <td>14640</td>\n",
       "      <td>VAT deductible</td>\n",
       "      <td>83450.000</td>\n",
       "      <td>85.000</td>\n",
       "      <td>Used</td>\n",
       "      <td>NaN</td>\n",
       "      <td>[]</td>\n",
       "      <td>Black</td>\n",
       "      <td>4</td>\n",
       "      <td>4</td>\n",
       "      <td>Automatic</td>\n",
       "      <td>1598</td>\n",
       "      <td>Diesel</td>\n",
       "      <td>Alloy wheels</td>\n",
       "      <td>ABS</td>\n",
       "      <td>NaN</td>\n",
       "      <td>NaN</td>\n",
       "      <td>NaN</td>\n",
       "      <td>NaN</td>\n",
       "      <td>NaN</td>\n",
       "      <td>NaN</td>\n",
       "      <td>NaN</td>\n",
       "      <td>3.000</td>\n",
       "      <td>9.000</td>\n",
       "      <td>NaN</td>\n",
       "      <td>NaN</td>\n",
       "      <td>3.800</td>\n",
       "      <td>4.400</td>\n",
       "      <td>3.400</td>\n",
       "      <td>Air conditioning</td>\n",
       "      <td>MP3</td>\n",
       "    </tr>\n",
       "    <tr>\n",
       "      <th>3</th>\n",
       "      <td>https://www.autoscout24.com//offers/audi-a1-1-...</td>\n",
       "      <td>Audi A1</td>\n",
       "      <td>1.4 TDi Design S tronic</td>\n",
       "      <td>Sedans</td>\n",
       "      <td>14500</td>\n",
       "      <td>None</td>\n",
       "      <td>73000.000</td>\n",
       "      <td>66.000</td>\n",
       "      <td>Used</td>\n",
       "      <td>NaN</td>\n",
       "      <td>[]</td>\n",
       "      <td>Brown</td>\n",
       "      <td>3</td>\n",
       "      <td>4</td>\n",
       "      <td>Automatic</td>\n",
       "      <td>1422</td>\n",
       "      <td>Diesel</td>\n",
       "      <td>Alloy wheels</td>\n",
       "      <td>ABS</td>\n",
       "      <td>NaN</td>\n",
       "      <td>NaN</td>\n",
       "      <td>NaN</td>\n",
       "      <td>NaN</td>\n",
       "      <td>NaN</td>\n",
       "      <td>NaN</td>\n",
       "      <td>NaN</td>\n",
       "      <td>3.000</td>\n",
       "      <td>9.000</td>\n",
       "      <td>NaN</td>\n",
       "      <td>NaN</td>\n",
       "      <td>3.800</td>\n",
       "      <td>4.300</td>\n",
       "      <td>3.500</td>\n",
       "      <td>Air suspension</td>\n",
       "      <td>Bluetooth</td>\n",
       "    </tr>\n",
       "    <tr>\n",
       "      <th>4</th>\n",
       "      <td>https://www.autoscout24.com//offers/audi-a1-sp...</td>\n",
       "      <td>Audi A1</td>\n",
       "      <td>Sportback 1.4 TDI S-Tronic S-Line Ext. admired...</td>\n",
       "      <td>Sedans</td>\n",
       "      <td>16790</td>\n",
       "      <td>None</td>\n",
       "      <td>16200.000</td>\n",
       "      <td>66.000</td>\n",
       "      <td>Used</td>\n",
       "      <td>NaN</td>\n",
       "      <td>[]</td>\n",
       "      <td>Black</td>\n",
       "      <td>5</td>\n",
       "      <td>5</td>\n",
       "      <td>Automatic</td>\n",
       "      <td>1422</td>\n",
       "      <td>Diesel</td>\n",
       "      <td>Alloy wheels</td>\n",
       "      <td>ABS</td>\n",
       "      <td>[\\nGermany\\n]</td>\n",
       "      <td>NaN</td>\n",
       "      <td>NaN</td>\n",
       "      <td>NaN</td>\n",
       "      <td>NaN</td>\n",
       "      <td>NaN</td>\n",
       "      <td>NaN</td>\n",
       "      <td>3.000</td>\n",
       "      <td>1.000</td>\n",
       "      <td>NaN</td>\n",
       "      <td>NaN</td>\n",
       "      <td>4.100</td>\n",
       "      <td>4.600</td>\n",
       "      <td>3.800</td>\n",
       "      <td>Air conditioning</td>\n",
       "      <td>Bluetooth</td>\n",
       "    </tr>\n",
       "  </tbody>\n",
       "</table>\n",
       "</div>"
      ],
      "text/plain": [
       "                                                 url make_model  \\\n",
       "0  https://www.autoscout24.com//offers/audi-a1-sp...    Audi A1   \n",
       "1  https://www.autoscout24.com//offers/audi-a1-1-...    Audi A1   \n",
       "2  https://www.autoscout24.com//offers/audi-a1-sp...    Audi A1   \n",
       "3  https://www.autoscout24.com//offers/audi-a1-1-...    Audi A1   \n",
       "4  https://www.autoscout24.com//offers/audi-a1-sp...    Audi A1   \n",
       "\n",
       "                                   short_description body_type  price  \\\n",
       "0        Sportback 1.4 TDI S-tronic Xenon Navi Klima    Sedans  15770   \n",
       "1                                     1.8 TFSI sport    Sedans  14500   \n",
       "2  Sportback 1.6 TDI S tronic Einparkhilfe plus+m...    Sedans  14640   \n",
       "3                            1.4 TDi Design S tronic    Sedans  14500   \n",
       "4  Sportback 1.4 TDI S-Tronic S-Line Ext. admired...    Sedans  16790   \n",
       "\n",
       "                vat        km      hp  type  warranty null body_color  \\\n",
       "0    VAT deductible 56013.000  66.000  Used       NaN   []      Black   \n",
       "1  Price negotiable 80000.000 141.000  Used       NaN   []        Red   \n",
       "2    VAT deductible 83450.000  85.000  Used       NaN   []      Black   \n",
       "3              None 73000.000  66.000  Used       NaN   []      Brown   \n",
       "4              None 16200.000  66.000  Used       NaN   []      Black   \n",
       "\n",
       "  nr_of_doors nr_of_seats gearing_type displacement    fuel        extras  \\\n",
       "0           5           5    Automatic         1422  Diesel  Alloy wheels   \n",
       "1           3           4    Automatic         1798  Benzin  Alloy wheels   \n",
       "2           4           4    Automatic         1598  Diesel  Alloy wheels   \n",
       "3           3           4    Automatic         1422  Diesel  Alloy wheels   \n",
       "4           5           5    Automatic         1422  Diesel  Alloy wheels   \n",
       "\n",
       "  safety_&_security country_version electricity_consumption last_service_date  \\\n",
       "0               ABS             NaN                     NaN               NaN   \n",
       "1               ABS             NaN                     NaN               NaN   \n",
       "2               ABS             NaN                     NaN               NaN   \n",
       "3               ABS             NaN                     NaN               NaN   \n",
       "4               ABS   [\\nGermany\\n]                     NaN               NaN   \n",
       "\n",
       "  other_fuel_types availability last_timing_belt_service_date available_from  \\\n",
       "0              NaN          NaN                           NaN            NaN   \n",
       "1              NaN          NaN                           NaN            NaN   \n",
       "2              NaN          NaN                           NaN            NaN   \n",
       "3              NaN          NaN                           NaN            NaN   \n",
       "4              NaN          NaN                           NaN            NaN   \n",
       "\n",
       "    age  CO2_Emission  upholstery_type  upholstery_color  cons_comb  \\\n",
       "0 3.000         9.000              NaN               NaN      3.800   \n",
       "1 2.000         1.000              NaN               NaN      5.600   \n",
       "2 3.000         9.000              NaN               NaN      3.800   \n",
       "3 3.000         9.000              NaN               NaN      3.800   \n",
       "4 3.000         1.000              NaN               NaN      4.100   \n",
       "\n",
       "   cons_city  cons_country          air_cond  bluetooth  \n",
       "0      4.300         3.500  Air conditioning  Bluetooth  \n",
       "1      7.100         4.700  Air conditioning  Bluetooth  \n",
       "2      4.400         3.400  Air conditioning        MP3  \n",
       "3      4.300         3.500    Air suspension  Bluetooth  \n",
       "4      4.600         3.800  Air conditioning  Bluetooth  "
      ]
     },
     "execution_count": 2619,
     "metadata": {},
     "output_type": "execute_result"
    }
   ],
   "source": [
    "df.head()"
   ]
  },
  {
   "cell_type": "code",
   "execution_count": 2620,
   "metadata": {},
   "outputs": [],
   "source": [
    "df.drop([\"safety_&_security\"], axis=1, inplace=True)"
   ]
  },
  {
   "cell_type": "markdown",
   "metadata": {},
   "source": [
    "## Country version"
   ]
  },
  {
   "cell_type": "code",
   "execution_count": 2621,
   "metadata": {},
   "outputs": [
    {
     "data": {
      "text/plain": [
       "[\\nGermany\\n]           4502\n",
       "[\\nItaly\\n]             1038\n",
       "[\\nEuropean Union\\n]     507\n",
       "[\\nNetherlands\\n]        464\n",
       "[\\nSpain\\n]              325\n",
       "[\\nBelgium\\n]            314\n",
       "[\\nAustria\\n]            208\n",
       "[\\nCzech Republic\\n]      52\n",
       "[\\nPoland\\n]              49\n",
       "[\\nFrance\\n]              38\n",
       "[\\nDenmark\\n]             33\n",
       "[\\nHungary\\n]             28\n",
       "[\\nJapan\\n]                8\n",
       "[\\nSlovakia\\n]             4\n",
       "[\\nCroatia\\n]              4\n",
       "[\\nSweden\\n]               3\n",
       "[\\nRomania\\n]              2\n",
       "[\\nBulgaria\\n]             2\n",
       "[\\nLuxembourg\\n]           1\n",
       "[\\nSwitzerland\\n]          1\n",
       "[\\nSlovenia\\n]             1\n",
       "[\\nEgypt\\n]                1\n",
       "[\\nSerbia\\n]               1\n",
       "Name: country_version, dtype: int64"
      ]
     },
     "execution_count": 2621,
     "metadata": {},
     "output_type": "execute_result"
    }
   ],
   "source": [
    "df[\"country_version\"].value_counts()"
   ]
  },
  {
   "cell_type": "code",
   "execution_count": 2622,
   "metadata": {},
   "outputs": [
    {
     "data": {
      "text/plain": [
       "8333"
      ]
     },
     "execution_count": 2622,
     "metadata": {},
     "output_type": "execute_result"
    }
   ],
   "source": [
    "df[\"country_version\"].isnull().sum() "
   ]
  },
  {
   "cell_type": "code",
   "execution_count": 2623,
   "metadata": {},
   "outputs": [],
   "source": [
    "df[\"country_version\"] = [item[0] if type(item) == list else item for item in df[\"country_version\"]]\n",
    "## hepsini liste disina cikaracak4\n",
    "\n",
    "\n",
    "#df[\"previous_owners\"]= df[\"previous_owners\"].str.strip(\"\\n\").astype('float')"
   ]
  },
  {
   "cell_type": "code",
   "execution_count": 2624,
   "metadata": {
    "scrolled": false
   },
   "outputs": [
    {
     "data": {
      "text/plain": [
       "\\nGermany\\n           4502\n",
       "\\nItaly\\n             1038\n",
       "\\nEuropean Union\\n     507\n",
       "\\nNetherlands\\n        464\n",
       "\\nSpain\\n              325\n",
       "\\nBelgium\\n            314\n",
       "\\nAustria\\n            208\n",
       "\\nCzech Republic\\n      52\n",
       "\\nPoland\\n              49\n",
       "\\nFrance\\n              38\n",
       "\\nDenmark\\n             33\n",
       "\\nHungary\\n             28\n",
       "\\nJapan\\n                8\n",
       "\\nSlovakia\\n             4\n",
       "\\nCroatia\\n              4\n",
       "\\nSweden\\n               3\n",
       "\\nRomania\\n              2\n",
       "\\nBulgaria\\n             2\n",
       "\\nLuxembourg\\n           1\n",
       "\\nSwitzerland\\n          1\n",
       "\\nSlovenia\\n             1\n",
       "\\nEgypt\\n                1\n",
       "\\nSerbia\\n               1\n",
       "Name: country_version, dtype: int64"
      ]
     },
     "execution_count": 2624,
     "metadata": {},
     "output_type": "execute_result"
    }
   ],
   "source": [
    "df[\"country_version\"].value_counts()"
   ]
  },
  {
   "cell_type": "code",
   "execution_count": 2625,
   "metadata": {},
   "outputs": [
    {
     "data": {
      "text/plain": [
       "NaN               8333\n",
       "Germany           4502\n",
       "Italy             1038\n",
       "European Union     507\n",
       "Netherlands        464\n",
       "Spain              325\n",
       "Belgium            314\n",
       "Austria            208\n",
       "Czech Republic      52\n",
       "Poland              49\n",
       "France              38\n",
       "Denmark             33\n",
       "Hungary             28\n",
       "Japan                8\n",
       "Slovakia             4\n",
       "Croatia              4\n",
       "Sweden               3\n",
       "Romania              2\n",
       "Bulgaria             2\n",
       "Luxembourg           1\n",
       "Switzerland          1\n",
       "Slovenia             1\n",
       "Egypt                1\n",
       "Serbia               1\n",
       "Name: country_version, dtype: int64"
      ]
     },
     "execution_count": 2625,
     "metadata": {},
     "output_type": "execute_result"
    }
   ],
   "source": [
    "df.country_version = df[\"country_version\"].replace(\"\\\\n\",\"\", regex=True)\n",
    "df[\"country_version\"].value_counts(dropna=False)"
   ]
  },
  {
   "cell_type": "markdown",
   "metadata": {},
   "source": [
    "## Last Service Date"
   ]
  },
  {
   "cell_type": "code",
   "execution_count": 2626,
   "metadata": {},
   "outputs": [
    {
     "data": {
      "text/plain": [
       "[\\n02/2019\\n, \\nEuro 6\\n]                 23\n",
       "[\\n05/2019\\n, \\nEuro 6\\n]                 16\n",
       "[\\n01/2018\\n, \\n118 g CO2/km (comb)\\n]    15\n",
       "[\\n03/2019\\n, \\nEuro 6\\n]                 15\n",
       "[\\n06/2019\\n, \\nEuro 6\\n]                 13\n",
       "                                          ..\n",
       "[\\n01/2017\\n, \\n95 g CO2/km (comb)\\n]      1\n",
       "[\\n06/2019\\n, \\n87 g CO2/km (comb)\\n]      1\n",
       "[\\n10/2018\\n, \\n100 g CO2/km (comb)\\n]     1\n",
       "[\\n02/2018\\n, \\n97 g CO2/km (comb)\\n]      1\n",
       "[\\n03/2019\\n, \\n120 g CO2/km (comb)\\n]     1\n",
       "Name: last_service_date, Length: 266, dtype: int64"
      ]
     },
     "execution_count": 2626,
     "metadata": {},
     "output_type": "execute_result"
    }
   ],
   "source": [
    "df[\"last_service_date\"].value_counts()"
   ]
  },
  {
   "cell_type": "code",
   "execution_count": 2627,
   "metadata": {
    "scrolled": true
   },
   "outputs": [
    {
     "data": {
      "text/plain": [
       "15353"
      ]
     },
     "execution_count": 2627,
     "metadata": {},
     "output_type": "execute_result"
    }
   ],
   "source": [
    "df[\"last_service_date\"].isnull().sum() "
   ]
  },
  {
   "cell_type": "code",
   "execution_count": 2628,
   "metadata": {},
   "outputs": [],
   "source": [
    "df.drop([\"last_service_date\"], axis=1, inplace=True)"
   ]
  },
  {
   "cell_type": "markdown",
   "metadata": {},
   "source": [
    "## Availability"
   ]
  },
  {
   "cell_type": "code",
   "execution_count": 2629,
   "metadata": {},
   "outputs": [
    {
     "data": {
      "text/plain": [
       "\\nin 90 days from ordering\\n     196\n",
       "\\nin 120 days from ordering\\n    182\n",
       "\\nin 1 day from ordering\\n        51\n",
       "\\nin 5 days from ordering\\n       35\n",
       "\\nin 3 days from ordering\\n       35\n",
       "\\nin 180 days from ordering\\n     24\n",
       "\\nin 14 days from ordering\\n      24\n",
       "\\nin 7 days from ordering\\n       20\n",
       "\\nin 150 days from ordering\\n     18\n",
       "\\nin 2 days from ordering\\n       16\n",
       "\\nin 60 days from ordering\\n      13\n",
       "\\nin 42 days from ordering\\n      10\n",
       "\\nin 21 days from ordering\\n       8\n",
       "\\nin 4 days from ordering\\n        2\n",
       "\\nin 6 days from ordering\\n        1\n",
       "Name: availability, dtype: int64"
      ]
     },
     "execution_count": 2629,
     "metadata": {},
     "output_type": "execute_result"
    }
   ],
   "source": [
    "df[\"availability\"].value_counts()"
   ]
  },
  {
   "cell_type": "code",
   "execution_count": 2630,
   "metadata": {},
   "outputs": [
    {
     "data": {
      "text/plain": [
       "15284"
      ]
     },
     "execution_count": 2630,
     "metadata": {},
     "output_type": "execute_result"
    }
   ],
   "source": [
    "df[\"availability\"].isnull().sum() "
   ]
  },
  {
   "cell_type": "code",
   "execution_count": 2631,
   "metadata": {},
   "outputs": [],
   "source": [
    "df.drop([\"availability\"], axis=1, inplace=True)"
   ]
  },
  {
   "cell_type": "markdown",
   "metadata": {},
   "source": [
    "## Available from"
   ]
  },
  {
   "cell_type": "code",
   "execution_count": 2632,
   "metadata": {
    "scrolled": true
   },
   "outputs": [
    {
     "data": {
      "text/plain": [
       "\\n31/08/19\\n    98\n",
       "\\n30/07/19\\n    25\n",
       "\\n15/08/19\\n    24\n",
       "\\n16/09/19\\n    14\n",
       "\\n29/06/19\\n    12\n",
       "\\n01/07/19\\n    11\n",
       "\\n28/06/19\\n    10\n",
       "\\n19/08/19\\n     7\n",
       "\\n10/09/19\\n     6\n",
       "\\n26/06/19\\n     5\n",
       "\\n27/06/19\\n     5\n",
       "\\n10/11/19\\n     5\n",
       "\\n08/07/19\\n     4\n",
       "\\n25/10/19\\n     3\n",
       "\\n15/07/19\\n     3\n",
       "\\n01/08/19\\n     3\n",
       "\\n04/07/19\\n     2\n",
       "\\n05/08/19\\n     2\n",
       "\\n24/08/19\\n     2\n",
       "\\n16/07/19\\n     2\n",
       "\\n20/07/19\\n     2\n",
       "\\n05/07/19\\n     2\n",
       "\\n30/06/19\\n     2\n",
       "\\n30/09/19\\n     1\n",
       "\\n31/10/19\\n     1\n",
       "\\n27/07/19\\n     1\n",
       "\\n02/07/19\\n     1\n",
       "\\n10/07/19\\n     1\n",
       "\\n19/07/19\\n     1\n",
       "\\n24/07/19\\n     1\n",
       "\\n29/07/19\\n     1\n",
       "\\n29/09/19\\n     1\n",
       "\\n18/08/19\\n     1\n",
       "\\n14/09/19\\n     1\n",
       "\\n18/07/19\\n     1\n",
       "\\n16/08/19\\n     1\n",
       "\\n24/09/19\\n     1\n",
       "\\n17/08/19\\n     1\n",
       "\\n10/10/19\\n     1\n",
       "\\n06/12/19\\n     1\n",
       "\\n03/12/19\\n     1\n",
       "\\n05/12/19\\n     1\n",
       "\\n11/08/19\\n     1\n",
       "\\n10/12/19\\n     1\n",
       "\\n01/09/19\\n     1\n",
       "\\n03/08/19\\n     1\n",
       "Name: available_from, dtype: int64"
      ]
     },
     "execution_count": 2632,
     "metadata": {},
     "output_type": "execute_result"
    }
   ],
   "source": [
    "df[\"available_from\"].value_counts()"
   ]
  },
  {
   "cell_type": "code",
   "execution_count": 2633,
   "metadata": {},
   "outputs": [
    {
     "data": {
      "text/plain": [
       "15647"
      ]
     },
     "execution_count": 2633,
     "metadata": {},
     "output_type": "execute_result"
    }
   ],
   "source": [
    "df[\"available_from\"].isnull().sum() "
   ]
  },
  {
   "cell_type": "code",
   "execution_count": 2634,
   "metadata": {},
   "outputs": [],
   "source": [
    "df.drop([\"available_from\"], axis=1, inplace=True)"
   ]
  },
  {
   "cell_type": "markdown",
   "metadata": {},
   "source": [
    "## Last Timing Belt Service Date"
   ]
  },
  {
   "cell_type": "code",
   "execution_count": 2635,
   "metadata": {},
   "outputs": [
    {
     "data": {
      "text/plain": [
       "NaN                          15903\n",
       "[\\n04/2016\\n]                    2\n",
       "[\\n12/1900\\n]                    1\n",
       "[\\n07/2018\\n]                    1\n",
       "[\\n01/1900\\n]                    1\n",
       "[\\n05/2019\\n]                    1\n",
       "[\\n09/2018\\n]                    1\n",
       "[\\n05/2018\\n, \\nEuro 6\\n]        1\n",
       "[\\n06/2017\\n]                    1\n",
       "[\\n01/2019\\n]                    1\n",
       "[\\n02/2019\\n]                    1\n",
       "[\\n02/2018\\n]                    1\n",
       "[\\n06/2019\\n]                    1\n",
       "[\\n01/2018\\n]                    1\n",
       "[\\n04/2019\\n]                    1\n",
       "[\\n01/1970\\n]                    1\n",
       "Name: last_timing_belt_service_date, dtype: int64"
      ]
     },
     "execution_count": 2635,
     "metadata": {},
     "output_type": "execute_result"
    }
   ],
   "source": [
    "df[\"last_timing_belt_service_date\"].value_counts(dropna=False)"
   ]
  },
  {
   "cell_type": "code",
   "execution_count": 2636,
   "metadata": {},
   "outputs": [
    {
     "data": {
      "text/plain": [
       "15903"
      ]
     },
     "execution_count": 2636,
     "metadata": {},
     "output_type": "execute_result"
    }
   ],
   "source": [
    "df[\"last_timing_belt_service_date\"].isnull().sum() "
   ]
  },
  {
   "cell_type": "code",
   "execution_count": 2637,
   "metadata": {},
   "outputs": [
    {
     "data": {
      "text/html": [
       "<div>\n",
       "<style scoped>\n",
       "    .dataframe tbody tr th:only-of-type {\n",
       "        vertical-align: middle;\n",
       "    }\n",
       "\n",
       "    .dataframe tbody tr th {\n",
       "        vertical-align: top;\n",
       "    }\n",
       "\n",
       "    .dataframe thead th {\n",
       "        text-align: right;\n",
       "    }\n",
       "</style>\n",
       "<table border=\"1\" class=\"dataframe\">\n",
       "  <thead>\n",
       "    <tr style=\"text-align: right;\">\n",
       "      <th></th>\n",
       "      <th>url</th>\n",
       "      <th>make_model</th>\n",
       "      <th>short_description</th>\n",
       "      <th>body_type</th>\n",
       "      <th>price</th>\n",
       "      <th>vat</th>\n",
       "      <th>km</th>\n",
       "      <th>hp</th>\n",
       "      <th>type</th>\n",
       "      <th>warranty</th>\n",
       "      <th>null</th>\n",
       "      <th>body_color</th>\n",
       "      <th>nr_of_doors</th>\n",
       "      <th>nr_of_seats</th>\n",
       "      <th>gearing_type</th>\n",
       "      <th>displacement</th>\n",
       "      <th>fuel</th>\n",
       "      <th>extras</th>\n",
       "      <th>country_version</th>\n",
       "      <th>electricity_consumption</th>\n",
       "      <th>other_fuel_types</th>\n",
       "      <th>last_timing_belt_service_date</th>\n",
       "      <th>age</th>\n",
       "      <th>CO2_Emission</th>\n",
       "      <th>upholstery_type</th>\n",
       "      <th>upholstery_color</th>\n",
       "      <th>cons_comb</th>\n",
       "      <th>cons_city</th>\n",
       "      <th>cons_country</th>\n",
       "      <th>air_cond</th>\n",
       "      <th>bluetooth</th>\n",
       "    </tr>\n",
       "  </thead>\n",
       "  <tbody>\n",
       "    <tr>\n",
       "      <th>0</th>\n",
       "      <td>https://www.autoscout24.com//offers/audi-a1-sp...</td>\n",
       "      <td>Audi A1</td>\n",
       "      <td>Sportback 1.4 TDI S-tronic Xenon Navi Klima</td>\n",
       "      <td>Sedans</td>\n",
       "      <td>15770</td>\n",
       "      <td>VAT deductible</td>\n",
       "      <td>56013.000</td>\n",
       "      <td>66.000</td>\n",
       "      <td>Used</td>\n",
       "      <td>NaN</td>\n",
       "      <td>[]</td>\n",
       "      <td>Black</td>\n",
       "      <td>5</td>\n",
       "      <td>5</td>\n",
       "      <td>Automatic</td>\n",
       "      <td>1422</td>\n",
       "      <td>Diesel</td>\n",
       "      <td>Alloy wheels</td>\n",
       "      <td>NaN</td>\n",
       "      <td>NaN</td>\n",
       "      <td>NaN</td>\n",
       "      <td>NaN</td>\n",
       "      <td>3.000</td>\n",
       "      <td>9.000</td>\n",
       "      <td>NaN</td>\n",
       "      <td>NaN</td>\n",
       "      <td>3.800</td>\n",
       "      <td>4.300</td>\n",
       "      <td>3.500</td>\n",
       "      <td>Air conditioning</td>\n",
       "      <td>Bluetooth</td>\n",
       "    </tr>\n",
       "    <tr>\n",
       "      <th>1</th>\n",
       "      <td>https://www.autoscout24.com//offers/audi-a1-1-...</td>\n",
       "      <td>Audi A1</td>\n",
       "      <td>1.8 TFSI sport</td>\n",
       "      <td>Sedans</td>\n",
       "      <td>14500</td>\n",
       "      <td>Price negotiable</td>\n",
       "      <td>80000.000</td>\n",
       "      <td>141.000</td>\n",
       "      <td>Used</td>\n",
       "      <td>NaN</td>\n",
       "      <td>[]</td>\n",
       "      <td>Red</td>\n",
       "      <td>3</td>\n",
       "      <td>4</td>\n",
       "      <td>Automatic</td>\n",
       "      <td>1798</td>\n",
       "      <td>Benzin</td>\n",
       "      <td>Alloy wheels</td>\n",
       "      <td>NaN</td>\n",
       "      <td>NaN</td>\n",
       "      <td>NaN</td>\n",
       "      <td>NaN</td>\n",
       "      <td>2.000</td>\n",
       "      <td>1.000</td>\n",
       "      <td>NaN</td>\n",
       "      <td>NaN</td>\n",
       "      <td>5.600</td>\n",
       "      <td>7.100</td>\n",
       "      <td>4.700</td>\n",
       "      <td>Air conditioning</td>\n",
       "      <td>Bluetooth</td>\n",
       "    </tr>\n",
       "    <tr>\n",
       "      <th>2</th>\n",
       "      <td>https://www.autoscout24.com//offers/audi-a1-sp...</td>\n",
       "      <td>Audi A1</td>\n",
       "      <td>Sportback 1.6 TDI S tronic Einparkhilfe plus+m...</td>\n",
       "      <td>Sedans</td>\n",
       "      <td>14640</td>\n",
       "      <td>VAT deductible</td>\n",
       "      <td>83450.000</td>\n",
       "      <td>85.000</td>\n",
       "      <td>Used</td>\n",
       "      <td>NaN</td>\n",
       "      <td>[]</td>\n",
       "      <td>Black</td>\n",
       "      <td>4</td>\n",
       "      <td>4</td>\n",
       "      <td>Automatic</td>\n",
       "      <td>1598</td>\n",
       "      <td>Diesel</td>\n",
       "      <td>Alloy wheels</td>\n",
       "      <td>NaN</td>\n",
       "      <td>NaN</td>\n",
       "      <td>NaN</td>\n",
       "      <td>NaN</td>\n",
       "      <td>3.000</td>\n",
       "      <td>9.000</td>\n",
       "      <td>NaN</td>\n",
       "      <td>NaN</td>\n",
       "      <td>3.800</td>\n",
       "      <td>4.400</td>\n",
       "      <td>3.400</td>\n",
       "      <td>Air conditioning</td>\n",
       "      <td>MP3</td>\n",
       "    </tr>\n",
       "    <tr>\n",
       "      <th>3</th>\n",
       "      <td>https://www.autoscout24.com//offers/audi-a1-1-...</td>\n",
       "      <td>Audi A1</td>\n",
       "      <td>1.4 TDi Design S tronic</td>\n",
       "      <td>Sedans</td>\n",
       "      <td>14500</td>\n",
       "      <td>None</td>\n",
       "      <td>73000.000</td>\n",
       "      <td>66.000</td>\n",
       "      <td>Used</td>\n",
       "      <td>NaN</td>\n",
       "      <td>[]</td>\n",
       "      <td>Brown</td>\n",
       "      <td>3</td>\n",
       "      <td>4</td>\n",
       "      <td>Automatic</td>\n",
       "      <td>1422</td>\n",
       "      <td>Diesel</td>\n",
       "      <td>Alloy wheels</td>\n",
       "      <td>NaN</td>\n",
       "      <td>NaN</td>\n",
       "      <td>NaN</td>\n",
       "      <td>NaN</td>\n",
       "      <td>3.000</td>\n",
       "      <td>9.000</td>\n",
       "      <td>NaN</td>\n",
       "      <td>NaN</td>\n",
       "      <td>3.800</td>\n",
       "      <td>4.300</td>\n",
       "      <td>3.500</td>\n",
       "      <td>Air suspension</td>\n",
       "      <td>Bluetooth</td>\n",
       "    </tr>\n",
       "    <tr>\n",
       "      <th>4</th>\n",
       "      <td>https://www.autoscout24.com//offers/audi-a1-sp...</td>\n",
       "      <td>Audi A1</td>\n",
       "      <td>Sportback 1.4 TDI S-Tronic S-Line Ext. admired...</td>\n",
       "      <td>Sedans</td>\n",
       "      <td>16790</td>\n",
       "      <td>None</td>\n",
       "      <td>16200.000</td>\n",
       "      <td>66.000</td>\n",
       "      <td>Used</td>\n",
       "      <td>NaN</td>\n",
       "      <td>[]</td>\n",
       "      <td>Black</td>\n",
       "      <td>5</td>\n",
       "      <td>5</td>\n",
       "      <td>Automatic</td>\n",
       "      <td>1422</td>\n",
       "      <td>Diesel</td>\n",
       "      <td>Alloy wheels</td>\n",
       "      <td>Germany</td>\n",
       "      <td>NaN</td>\n",
       "      <td>NaN</td>\n",
       "      <td>NaN</td>\n",
       "      <td>3.000</td>\n",
       "      <td>1.000</td>\n",
       "      <td>NaN</td>\n",
       "      <td>NaN</td>\n",
       "      <td>4.100</td>\n",
       "      <td>4.600</td>\n",
       "      <td>3.800</td>\n",
       "      <td>Air conditioning</td>\n",
       "      <td>Bluetooth</td>\n",
       "    </tr>\n",
       "  </tbody>\n",
       "</table>\n",
       "</div>"
      ],
      "text/plain": [
       "                                                 url make_model  \\\n",
       "0  https://www.autoscout24.com//offers/audi-a1-sp...    Audi A1   \n",
       "1  https://www.autoscout24.com//offers/audi-a1-1-...    Audi A1   \n",
       "2  https://www.autoscout24.com//offers/audi-a1-sp...    Audi A1   \n",
       "3  https://www.autoscout24.com//offers/audi-a1-1-...    Audi A1   \n",
       "4  https://www.autoscout24.com//offers/audi-a1-sp...    Audi A1   \n",
       "\n",
       "                                   short_description body_type  price  \\\n",
       "0        Sportback 1.4 TDI S-tronic Xenon Navi Klima    Sedans  15770   \n",
       "1                                     1.8 TFSI sport    Sedans  14500   \n",
       "2  Sportback 1.6 TDI S tronic Einparkhilfe plus+m...    Sedans  14640   \n",
       "3                            1.4 TDi Design S tronic    Sedans  14500   \n",
       "4  Sportback 1.4 TDI S-Tronic S-Line Ext. admired...    Sedans  16790   \n",
       "\n",
       "                vat        km      hp  type  warranty null body_color  \\\n",
       "0    VAT deductible 56013.000  66.000  Used       NaN   []      Black   \n",
       "1  Price negotiable 80000.000 141.000  Used       NaN   []        Red   \n",
       "2    VAT deductible 83450.000  85.000  Used       NaN   []      Black   \n",
       "3              None 73000.000  66.000  Used       NaN   []      Brown   \n",
       "4              None 16200.000  66.000  Used       NaN   []      Black   \n",
       "\n",
       "  nr_of_doors nr_of_seats gearing_type displacement    fuel        extras  \\\n",
       "0           5           5    Automatic         1422  Diesel  Alloy wheels   \n",
       "1           3           4    Automatic         1798  Benzin  Alloy wheels   \n",
       "2           4           4    Automatic         1598  Diesel  Alloy wheels   \n",
       "3           3           4    Automatic         1422  Diesel  Alloy wheels   \n",
       "4           5           5    Automatic         1422  Diesel  Alloy wheels   \n",
       "\n",
       "  country_version electricity_consumption other_fuel_types  \\\n",
       "0             NaN                     NaN              NaN   \n",
       "1             NaN                     NaN              NaN   \n",
       "2             NaN                     NaN              NaN   \n",
       "3             NaN                     NaN              NaN   \n",
       "4         Germany                     NaN              NaN   \n",
       "\n",
       "  last_timing_belt_service_date   age  CO2_Emission  upholstery_type  \\\n",
       "0                           NaN 3.000         9.000              NaN   \n",
       "1                           NaN 2.000         1.000              NaN   \n",
       "2                           NaN 3.000         9.000              NaN   \n",
       "3                           NaN 3.000         9.000              NaN   \n",
       "4                           NaN 3.000         1.000              NaN   \n",
       "\n",
       "   upholstery_color  cons_comb  cons_city  cons_country          air_cond  \\\n",
       "0               NaN      3.800      4.300         3.500  Air conditioning   \n",
       "1               NaN      5.600      7.100         4.700  Air conditioning   \n",
       "2               NaN      3.800      4.400         3.400  Air conditioning   \n",
       "3               NaN      3.800      4.300         3.500    Air suspension   \n",
       "4               NaN      4.100      4.600         3.800  Air conditioning   \n",
       "\n",
       "   bluetooth  \n",
       "0  Bluetooth  \n",
       "1  Bluetooth  \n",
       "2        MP3  \n",
       "3  Bluetooth  \n",
       "4  Bluetooth  "
      ]
     },
     "execution_count": 2637,
     "metadata": {},
     "output_type": "execute_result"
    }
   ],
   "source": [
    "df.head()"
   ]
  },
  {
   "cell_type": "code",
   "execution_count": 2638,
   "metadata": {},
   "outputs": [],
   "source": [
    "df.drop([\"last_timing_belt_service_date\"], axis=1, inplace=True)"
   ]
  },
  {
   "cell_type": "code",
   "execution_count": 2639,
   "metadata": {},
   "outputs": [
    {
     "data": {
      "text/html": [
       "<div>\n",
       "<style scoped>\n",
       "    .dataframe tbody tr th:only-of-type {\n",
       "        vertical-align: middle;\n",
       "    }\n",
       "\n",
       "    .dataframe tbody tr th {\n",
       "        vertical-align: top;\n",
       "    }\n",
       "\n",
       "    .dataframe thead th {\n",
       "        text-align: right;\n",
       "    }\n",
       "</style>\n",
       "<table border=\"1\" class=\"dataframe\">\n",
       "  <thead>\n",
       "    <tr style=\"text-align: right;\">\n",
       "      <th></th>\n",
       "      <th>url</th>\n",
       "      <th>make_model</th>\n",
       "      <th>short_description</th>\n",
       "      <th>body_type</th>\n",
       "      <th>price</th>\n",
       "      <th>vat</th>\n",
       "      <th>km</th>\n",
       "      <th>hp</th>\n",
       "      <th>type</th>\n",
       "      <th>warranty</th>\n",
       "      <th>null</th>\n",
       "      <th>body_color</th>\n",
       "      <th>nr_of_doors</th>\n",
       "      <th>nr_of_seats</th>\n",
       "      <th>gearing_type</th>\n",
       "      <th>displacement</th>\n",
       "      <th>fuel</th>\n",
       "      <th>extras</th>\n",
       "      <th>country_version</th>\n",
       "      <th>electricity_consumption</th>\n",
       "      <th>other_fuel_types</th>\n",
       "      <th>age</th>\n",
       "      <th>CO2_Emission</th>\n",
       "      <th>upholstery_type</th>\n",
       "      <th>upholstery_color</th>\n",
       "      <th>cons_comb</th>\n",
       "      <th>cons_city</th>\n",
       "      <th>cons_country</th>\n",
       "      <th>air_cond</th>\n",
       "      <th>bluetooth</th>\n",
       "    </tr>\n",
       "  </thead>\n",
       "  <tbody>\n",
       "    <tr>\n",
       "      <th>0</th>\n",
       "      <td>https://www.autoscout24.com//offers/audi-a1-sp...</td>\n",
       "      <td>Audi A1</td>\n",
       "      <td>Sportback 1.4 TDI S-tronic Xenon Navi Klima</td>\n",
       "      <td>Sedans</td>\n",
       "      <td>15770</td>\n",
       "      <td>VAT deductible</td>\n",
       "      <td>56013.000</td>\n",
       "      <td>66.000</td>\n",
       "      <td>Used</td>\n",
       "      <td>NaN</td>\n",
       "      <td>[]</td>\n",
       "      <td>Black</td>\n",
       "      <td>5</td>\n",
       "      <td>5</td>\n",
       "      <td>Automatic</td>\n",
       "      <td>1422</td>\n",
       "      <td>Diesel</td>\n",
       "      <td>Alloy wheels</td>\n",
       "      <td>NaN</td>\n",
       "      <td>NaN</td>\n",
       "      <td>NaN</td>\n",
       "      <td>3.000</td>\n",
       "      <td>9.000</td>\n",
       "      <td>NaN</td>\n",
       "      <td>NaN</td>\n",
       "      <td>3.800</td>\n",
       "      <td>4.300</td>\n",
       "      <td>3.500</td>\n",
       "      <td>Air conditioning</td>\n",
       "      <td>Bluetooth</td>\n",
       "    </tr>\n",
       "    <tr>\n",
       "      <th>1</th>\n",
       "      <td>https://www.autoscout24.com//offers/audi-a1-1-...</td>\n",
       "      <td>Audi A1</td>\n",
       "      <td>1.8 TFSI sport</td>\n",
       "      <td>Sedans</td>\n",
       "      <td>14500</td>\n",
       "      <td>Price negotiable</td>\n",
       "      <td>80000.000</td>\n",
       "      <td>141.000</td>\n",
       "      <td>Used</td>\n",
       "      <td>NaN</td>\n",
       "      <td>[]</td>\n",
       "      <td>Red</td>\n",
       "      <td>3</td>\n",
       "      <td>4</td>\n",
       "      <td>Automatic</td>\n",
       "      <td>1798</td>\n",
       "      <td>Benzin</td>\n",
       "      <td>Alloy wheels</td>\n",
       "      <td>NaN</td>\n",
       "      <td>NaN</td>\n",
       "      <td>NaN</td>\n",
       "      <td>2.000</td>\n",
       "      <td>1.000</td>\n",
       "      <td>NaN</td>\n",
       "      <td>NaN</td>\n",
       "      <td>5.600</td>\n",
       "      <td>7.100</td>\n",
       "      <td>4.700</td>\n",
       "      <td>Air conditioning</td>\n",
       "      <td>Bluetooth</td>\n",
       "    </tr>\n",
       "    <tr>\n",
       "      <th>2</th>\n",
       "      <td>https://www.autoscout24.com//offers/audi-a1-sp...</td>\n",
       "      <td>Audi A1</td>\n",
       "      <td>Sportback 1.6 TDI S tronic Einparkhilfe plus+m...</td>\n",
       "      <td>Sedans</td>\n",
       "      <td>14640</td>\n",
       "      <td>VAT deductible</td>\n",
       "      <td>83450.000</td>\n",
       "      <td>85.000</td>\n",
       "      <td>Used</td>\n",
       "      <td>NaN</td>\n",
       "      <td>[]</td>\n",
       "      <td>Black</td>\n",
       "      <td>4</td>\n",
       "      <td>4</td>\n",
       "      <td>Automatic</td>\n",
       "      <td>1598</td>\n",
       "      <td>Diesel</td>\n",
       "      <td>Alloy wheels</td>\n",
       "      <td>NaN</td>\n",
       "      <td>NaN</td>\n",
       "      <td>NaN</td>\n",
       "      <td>3.000</td>\n",
       "      <td>9.000</td>\n",
       "      <td>NaN</td>\n",
       "      <td>NaN</td>\n",
       "      <td>3.800</td>\n",
       "      <td>4.400</td>\n",
       "      <td>3.400</td>\n",
       "      <td>Air conditioning</td>\n",
       "      <td>MP3</td>\n",
       "    </tr>\n",
       "    <tr>\n",
       "      <th>3</th>\n",
       "      <td>https://www.autoscout24.com//offers/audi-a1-1-...</td>\n",
       "      <td>Audi A1</td>\n",
       "      <td>1.4 TDi Design S tronic</td>\n",
       "      <td>Sedans</td>\n",
       "      <td>14500</td>\n",
       "      <td>None</td>\n",
       "      <td>73000.000</td>\n",
       "      <td>66.000</td>\n",
       "      <td>Used</td>\n",
       "      <td>NaN</td>\n",
       "      <td>[]</td>\n",
       "      <td>Brown</td>\n",
       "      <td>3</td>\n",
       "      <td>4</td>\n",
       "      <td>Automatic</td>\n",
       "      <td>1422</td>\n",
       "      <td>Diesel</td>\n",
       "      <td>Alloy wheels</td>\n",
       "      <td>NaN</td>\n",
       "      <td>NaN</td>\n",
       "      <td>NaN</td>\n",
       "      <td>3.000</td>\n",
       "      <td>9.000</td>\n",
       "      <td>NaN</td>\n",
       "      <td>NaN</td>\n",
       "      <td>3.800</td>\n",
       "      <td>4.300</td>\n",
       "      <td>3.500</td>\n",
       "      <td>Air suspension</td>\n",
       "      <td>Bluetooth</td>\n",
       "    </tr>\n",
       "    <tr>\n",
       "      <th>4</th>\n",
       "      <td>https://www.autoscout24.com//offers/audi-a1-sp...</td>\n",
       "      <td>Audi A1</td>\n",
       "      <td>Sportback 1.4 TDI S-Tronic S-Line Ext. admired...</td>\n",
       "      <td>Sedans</td>\n",
       "      <td>16790</td>\n",
       "      <td>None</td>\n",
       "      <td>16200.000</td>\n",
       "      <td>66.000</td>\n",
       "      <td>Used</td>\n",
       "      <td>NaN</td>\n",
       "      <td>[]</td>\n",
       "      <td>Black</td>\n",
       "      <td>5</td>\n",
       "      <td>5</td>\n",
       "      <td>Automatic</td>\n",
       "      <td>1422</td>\n",
       "      <td>Diesel</td>\n",
       "      <td>Alloy wheels</td>\n",
       "      <td>Germany</td>\n",
       "      <td>NaN</td>\n",
       "      <td>NaN</td>\n",
       "      <td>3.000</td>\n",
       "      <td>1.000</td>\n",
       "      <td>NaN</td>\n",
       "      <td>NaN</td>\n",
       "      <td>4.100</td>\n",
       "      <td>4.600</td>\n",
       "      <td>3.800</td>\n",
       "      <td>Air conditioning</td>\n",
       "      <td>Bluetooth</td>\n",
       "    </tr>\n",
       "  </tbody>\n",
       "</table>\n",
       "</div>"
      ],
      "text/plain": [
       "                                                 url make_model  \\\n",
       "0  https://www.autoscout24.com//offers/audi-a1-sp...    Audi A1   \n",
       "1  https://www.autoscout24.com//offers/audi-a1-1-...    Audi A1   \n",
       "2  https://www.autoscout24.com//offers/audi-a1-sp...    Audi A1   \n",
       "3  https://www.autoscout24.com//offers/audi-a1-1-...    Audi A1   \n",
       "4  https://www.autoscout24.com//offers/audi-a1-sp...    Audi A1   \n",
       "\n",
       "                                   short_description body_type  price  \\\n",
       "0        Sportback 1.4 TDI S-tronic Xenon Navi Klima    Sedans  15770   \n",
       "1                                     1.8 TFSI sport    Sedans  14500   \n",
       "2  Sportback 1.6 TDI S tronic Einparkhilfe plus+m...    Sedans  14640   \n",
       "3                            1.4 TDi Design S tronic    Sedans  14500   \n",
       "4  Sportback 1.4 TDI S-Tronic S-Line Ext. admired...    Sedans  16790   \n",
       "\n",
       "                vat        km      hp  type  warranty null body_color  \\\n",
       "0    VAT deductible 56013.000  66.000  Used       NaN   []      Black   \n",
       "1  Price negotiable 80000.000 141.000  Used       NaN   []        Red   \n",
       "2    VAT deductible 83450.000  85.000  Used       NaN   []      Black   \n",
       "3              None 73000.000  66.000  Used       NaN   []      Brown   \n",
       "4              None 16200.000  66.000  Used       NaN   []      Black   \n",
       "\n",
       "  nr_of_doors nr_of_seats gearing_type displacement    fuel        extras  \\\n",
       "0           5           5    Automatic         1422  Diesel  Alloy wheels   \n",
       "1           3           4    Automatic         1798  Benzin  Alloy wheels   \n",
       "2           4           4    Automatic         1598  Diesel  Alloy wheels   \n",
       "3           3           4    Automatic         1422  Diesel  Alloy wheels   \n",
       "4           5           5    Automatic         1422  Diesel  Alloy wheels   \n",
       "\n",
       "  country_version electricity_consumption other_fuel_types   age  \\\n",
       "0             NaN                     NaN              NaN 3.000   \n",
       "1             NaN                     NaN              NaN 2.000   \n",
       "2             NaN                     NaN              NaN 3.000   \n",
       "3             NaN                     NaN              NaN 3.000   \n",
       "4         Germany                     NaN              NaN 3.000   \n",
       "\n",
       "   CO2_Emission  upholstery_type  upholstery_color  cons_comb  cons_city  \\\n",
       "0         9.000              NaN               NaN      3.800      4.300   \n",
       "1         1.000              NaN               NaN      5.600      7.100   \n",
       "2         9.000              NaN               NaN      3.800      4.400   \n",
       "3         9.000              NaN               NaN      3.800      4.300   \n",
       "4         1.000              NaN               NaN      4.100      4.600   \n",
       "\n",
       "   cons_country          air_cond  bluetooth  \n",
       "0         3.500  Air conditioning  Bluetooth  \n",
       "1         4.700  Air conditioning  Bluetooth  \n",
       "2         3.400  Air conditioning        MP3  \n",
       "3         3.500    Air suspension  Bluetooth  \n",
       "4         3.800  Air conditioning  Bluetooth  "
      ]
     },
     "execution_count": 2639,
     "metadata": {},
     "output_type": "execute_result"
    }
   ],
   "source": [
    "df.head()"
   ]
  },
  {
   "cell_type": "markdown",
   "metadata": {},
   "source": [
    "# Drop islemleri"
   ]
  },
  {
   "cell_type": "code",
   "execution_count": 2640,
   "metadata": {},
   "outputs": [],
   "source": [
    "df.drop([\"url\", \"short_description\", \"vat\", \"warranty\", \"null\", \"electricity_consumption\", ], axis=1, inplace=True)"
   ]
  },
  {
   "cell_type": "code",
   "execution_count": 2641,
   "metadata": {},
   "outputs": [],
   "source": [
    "df.drop([\"body_color\", \"other_fuel_types\"], axis=1, inplace=True)"
   ]
  },
  {
   "cell_type": "code",
   "execution_count": 2642,
   "metadata": {},
   "outputs": [
    {
     "data": {
      "text/html": [
       "<div>\n",
       "<style scoped>\n",
       "    .dataframe tbody tr th:only-of-type {\n",
       "        vertical-align: middle;\n",
       "    }\n",
       "\n",
       "    .dataframe tbody tr th {\n",
       "        vertical-align: top;\n",
       "    }\n",
       "\n",
       "    .dataframe thead th {\n",
       "        text-align: right;\n",
       "    }\n",
       "</style>\n",
       "<table border=\"1\" class=\"dataframe\">\n",
       "  <thead>\n",
       "    <tr style=\"text-align: right;\">\n",
       "      <th></th>\n",
       "      <th>make_model</th>\n",
       "      <th>body_type</th>\n",
       "      <th>price</th>\n",
       "      <th>km</th>\n",
       "      <th>hp</th>\n",
       "      <th>type</th>\n",
       "      <th>nr_of_doors</th>\n",
       "      <th>nr_of_seats</th>\n",
       "      <th>gearing_type</th>\n",
       "      <th>displacement</th>\n",
       "      <th>fuel</th>\n",
       "      <th>extras</th>\n",
       "      <th>country_version</th>\n",
       "      <th>age</th>\n",
       "      <th>CO2_Emission</th>\n",
       "      <th>upholstery_type</th>\n",
       "      <th>upholstery_color</th>\n",
       "      <th>cons_comb</th>\n",
       "      <th>cons_city</th>\n",
       "      <th>cons_country</th>\n",
       "      <th>air_cond</th>\n",
       "      <th>bluetooth</th>\n",
       "    </tr>\n",
       "  </thead>\n",
       "  <tbody>\n",
       "    <tr>\n",
       "      <th>0</th>\n",
       "      <td>Audi A1</td>\n",
       "      <td>Sedans</td>\n",
       "      <td>15770</td>\n",
       "      <td>56013.000</td>\n",
       "      <td>66.000</td>\n",
       "      <td>Used</td>\n",
       "      <td>5</td>\n",
       "      <td>5</td>\n",
       "      <td>Automatic</td>\n",
       "      <td>1422</td>\n",
       "      <td>Diesel</td>\n",
       "      <td>Alloy wheels</td>\n",
       "      <td>NaN</td>\n",
       "      <td>3.000</td>\n",
       "      <td>9.000</td>\n",
       "      <td>NaN</td>\n",
       "      <td>NaN</td>\n",
       "      <td>3.800</td>\n",
       "      <td>4.300</td>\n",
       "      <td>3.500</td>\n",
       "      <td>Air conditioning</td>\n",
       "      <td>Bluetooth</td>\n",
       "    </tr>\n",
       "    <tr>\n",
       "      <th>1</th>\n",
       "      <td>Audi A1</td>\n",
       "      <td>Sedans</td>\n",
       "      <td>14500</td>\n",
       "      <td>80000.000</td>\n",
       "      <td>141.000</td>\n",
       "      <td>Used</td>\n",
       "      <td>3</td>\n",
       "      <td>4</td>\n",
       "      <td>Automatic</td>\n",
       "      <td>1798</td>\n",
       "      <td>Benzin</td>\n",
       "      <td>Alloy wheels</td>\n",
       "      <td>NaN</td>\n",
       "      <td>2.000</td>\n",
       "      <td>1.000</td>\n",
       "      <td>NaN</td>\n",
       "      <td>NaN</td>\n",
       "      <td>5.600</td>\n",
       "      <td>7.100</td>\n",
       "      <td>4.700</td>\n",
       "      <td>Air conditioning</td>\n",
       "      <td>Bluetooth</td>\n",
       "    </tr>\n",
       "    <tr>\n",
       "      <th>2</th>\n",
       "      <td>Audi A1</td>\n",
       "      <td>Sedans</td>\n",
       "      <td>14640</td>\n",
       "      <td>83450.000</td>\n",
       "      <td>85.000</td>\n",
       "      <td>Used</td>\n",
       "      <td>4</td>\n",
       "      <td>4</td>\n",
       "      <td>Automatic</td>\n",
       "      <td>1598</td>\n",
       "      <td>Diesel</td>\n",
       "      <td>Alloy wheels</td>\n",
       "      <td>NaN</td>\n",
       "      <td>3.000</td>\n",
       "      <td>9.000</td>\n",
       "      <td>NaN</td>\n",
       "      <td>NaN</td>\n",
       "      <td>3.800</td>\n",
       "      <td>4.400</td>\n",
       "      <td>3.400</td>\n",
       "      <td>Air conditioning</td>\n",
       "      <td>MP3</td>\n",
       "    </tr>\n",
       "    <tr>\n",
       "      <th>3</th>\n",
       "      <td>Audi A1</td>\n",
       "      <td>Sedans</td>\n",
       "      <td>14500</td>\n",
       "      <td>73000.000</td>\n",
       "      <td>66.000</td>\n",
       "      <td>Used</td>\n",
       "      <td>3</td>\n",
       "      <td>4</td>\n",
       "      <td>Automatic</td>\n",
       "      <td>1422</td>\n",
       "      <td>Diesel</td>\n",
       "      <td>Alloy wheels</td>\n",
       "      <td>NaN</td>\n",
       "      <td>3.000</td>\n",
       "      <td>9.000</td>\n",
       "      <td>NaN</td>\n",
       "      <td>NaN</td>\n",
       "      <td>3.800</td>\n",
       "      <td>4.300</td>\n",
       "      <td>3.500</td>\n",
       "      <td>Air suspension</td>\n",
       "      <td>Bluetooth</td>\n",
       "    </tr>\n",
       "    <tr>\n",
       "      <th>4</th>\n",
       "      <td>Audi A1</td>\n",
       "      <td>Sedans</td>\n",
       "      <td>16790</td>\n",
       "      <td>16200.000</td>\n",
       "      <td>66.000</td>\n",
       "      <td>Used</td>\n",
       "      <td>5</td>\n",
       "      <td>5</td>\n",
       "      <td>Automatic</td>\n",
       "      <td>1422</td>\n",
       "      <td>Diesel</td>\n",
       "      <td>Alloy wheels</td>\n",
       "      <td>Germany</td>\n",
       "      <td>3.000</td>\n",
       "      <td>1.000</td>\n",
       "      <td>NaN</td>\n",
       "      <td>NaN</td>\n",
       "      <td>4.100</td>\n",
       "      <td>4.600</td>\n",
       "      <td>3.800</td>\n",
       "      <td>Air conditioning</td>\n",
       "      <td>Bluetooth</td>\n",
       "    </tr>\n",
       "  </tbody>\n",
       "</table>\n",
       "</div>"
      ],
      "text/plain": [
       "  make_model body_type  price        km      hp  type nr_of_doors nr_of_seats  \\\n",
       "0    Audi A1    Sedans  15770 56013.000  66.000  Used           5           5   \n",
       "1    Audi A1    Sedans  14500 80000.000 141.000  Used           3           4   \n",
       "2    Audi A1    Sedans  14640 83450.000  85.000  Used           4           4   \n",
       "3    Audi A1    Sedans  14500 73000.000  66.000  Used           3           4   \n",
       "4    Audi A1    Sedans  16790 16200.000  66.000  Used           5           5   \n",
       "\n",
       "  gearing_type displacement    fuel        extras country_version   age  \\\n",
       "0    Automatic         1422  Diesel  Alloy wheels             NaN 3.000   \n",
       "1    Automatic         1798  Benzin  Alloy wheels             NaN 2.000   \n",
       "2    Automatic         1598  Diesel  Alloy wheels             NaN 3.000   \n",
       "3    Automatic         1422  Diesel  Alloy wheels             NaN 3.000   \n",
       "4    Automatic         1422  Diesel  Alloy wheels         Germany 3.000   \n",
       "\n",
       "   CO2_Emission  upholstery_type  upholstery_color  cons_comb  cons_city  \\\n",
       "0         9.000              NaN               NaN      3.800      4.300   \n",
       "1         1.000              NaN               NaN      5.600      7.100   \n",
       "2         9.000              NaN               NaN      3.800      4.400   \n",
       "3         9.000              NaN               NaN      3.800      4.300   \n",
       "4         1.000              NaN               NaN      4.100      4.600   \n",
       "\n",
       "   cons_country          air_cond  bluetooth  \n",
       "0         3.500  Air conditioning  Bluetooth  \n",
       "1         4.700  Air conditioning  Bluetooth  \n",
       "2         3.400  Air conditioning        MP3  \n",
       "3         3.500    Air suspension  Bluetooth  \n",
       "4         3.800  Air conditioning  Bluetooth  "
      ]
     },
     "execution_count": 2642,
     "metadata": {},
     "output_type": "execute_result"
    }
   ],
   "source": [
    "df.head()"
   ]
  },
  {
   "cell_type": "code",
   "execution_count": 2643,
   "metadata": {},
   "outputs": [
    {
     "data": {
      "text/plain": [
       "Index(['make_model', 'body_type', 'price', 'km', 'hp', 'type', 'nr_of_doors',\n",
       "       'nr_of_seats', 'gearing_type', 'displacement', 'fuel', 'extras',\n",
       "       'country_version', 'age', 'CO2_Emission', 'upholstery_type',\n",
       "       'upholstery_color', 'cons_comb', 'cons_city', 'cons_country',\n",
       "       'air_cond', 'bluetooth'],\n",
       "      dtype='object')"
      ]
     },
     "execution_count": 2643,
     "metadata": {},
     "output_type": "execute_result"
    }
   ],
   "source": [
    "df.columns\n"
   ]
  },
  {
   "cell_type": "markdown",
   "metadata": {},
   "source": [
    "# PART- 2 `( Handling With Missing Vales )`"
   ]
  },
  {
   "cell_type": "code",
   "execution_count": null,
   "metadata": {},
   "outputs": [],
   "source": []
  },
  {
   "cell_type": "markdown",
   "metadata": {},
   "source": [
    "# PART- 3 `( Handling With Outliers )`"
   ]
  },
  {
   "cell_type": "code",
   "execution_count": null,
   "metadata": {},
   "outputs": [],
   "source": []
  },
  {
   "cell_type": "markdown",
   "metadata": {},
   "source": [
    "# Final Step (Checking final situation of data via graphs)"
   ]
  },
  {
   "cell_type": "code",
   "execution_count": null,
   "metadata": {},
   "outputs": [],
   "source": []
  },
  {
   "cell_type": "markdown",
   "metadata": {},
   "source": [
    "## Export dataframe to csv file (without dummy)"
   ]
  },
  {
   "cell_type": "code",
   "execution_count": 2644,
   "metadata": {},
   "outputs": [],
   "source": [
    "df.to_csv(\"final_scout_not_dummy.csv\", index=False)"
   ]
  },
  {
   "cell_type": "markdown",
   "metadata": {},
   "source": [
    "# Dummy Operation"
   ]
  },
  {
   "cell_type": "code",
   "execution_count": null,
   "metadata": {},
   "outputs": [],
   "source": []
  },
  {
   "cell_type": "markdown",
   "metadata": {},
   "source": [
    "## Export dataframe to csv file (dummy)"
   ]
  },
  {
   "cell_type": "code",
   "execution_count": 2645,
   "metadata": {},
   "outputs": [
    {
     "ename": "NameError",
     "evalue": "name 'df_dummied' is not defined",
     "output_type": "error",
     "traceback": [
      "\u001b[1;31m---------------------------------------------------------------------------\u001b[0m",
      "\u001b[1;31mNameError\u001b[0m                                 Traceback (most recent call last)",
      "\u001b[1;32m<ipython-input-2645-0070e033c36f>\u001b[0m in \u001b[0;36m<module>\u001b[1;34m\u001b[0m\n\u001b[1;32m----> 1\u001b[1;33m \u001b[0mdf_dummied\u001b[0m\u001b[1;33m.\u001b[0m\u001b[0mto_csv\u001b[0m\u001b[1;33m(\u001b[0m\u001b[1;34m\"final_scout_dummy.csv\"\u001b[0m\u001b[1;33m,\u001b[0m \u001b[0mindex\u001b[0m\u001b[1;33m=\u001b[0m\u001b[1;32mFalse\u001b[0m\u001b[1;33m)\u001b[0m\u001b[1;33m\u001b[0m\u001b[1;33m\u001b[0m\u001b[0m\n\u001b[0m",
      "\u001b[1;31mNameError\u001b[0m: name 'df_dummied' is not defined"
     ]
    }
   ],
   "source": [
    "df_dummied.to_csv(\"final_scout_dummy.csv\", index=False)"
   ]
  },
  {
   "cell_type": "code",
   "execution_count": null,
   "metadata": {},
   "outputs": [],
   "source": [
    "df.body_color.value_counts()"
   ]
  },
  {
   "cell_type": "code",
   "execution_count": null,
   "metadata": {},
   "outputs": [],
   "source": []
  }
 ],
 "metadata": {
  "kernelspec": {
   "display_name": "Python 3",
   "language": "python",
   "name": "python3"
  },
  "language_info": {
   "codemirror_mode": {
    "name": "ipython",
    "version": 3
   },
   "file_extension": ".py",
   "mimetype": "text/x-python",
   "name": "python",
   "nbconvert_exporter": "python",
   "pygments_lexer": "ipython3",
   "version": "3.8.8"
  },
  "toc": {
   "base_numbering": 1,
   "nav_menu": {},
   "number_sections": true,
   "sideBar": true,
   "skip_h1_title": false,
   "title_cell": "Table of Contents",
   "title_sidebar": "Contents",
   "toc_cell": false,
   "toc_position": {
    "height": "calc(100% - 180px)",
    "left": "10px",
    "top": "150px",
    "width": "311.188px"
   },
   "toc_section_display": true,
   "toc_window_display": true
  }
 },
 "nbformat": 4,
 "nbformat_minor": 4
}
